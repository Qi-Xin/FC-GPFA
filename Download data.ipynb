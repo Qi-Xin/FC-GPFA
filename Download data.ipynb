{
 "cells": [
  {
   "cell_type": "markdown",
   "id": "d59a97ad",
   "metadata": {},
   "source": [
    "# <a id='toc1_'></a>[set up](#toc0_)"
   ]
  },
  {
   "cell_type": "code",
   "execution_count": 1,
   "id": "5fafc180",
   "metadata": {
    "ExecuteTime": {
     "end_time": "2023-09-07T04:30:55.594849Z",
     "start_time": "2023-09-07T04:30:55.588540Z"
    },
    "execution": {
     "iopub.execute_input": "2023-10-13T21:17:35.795902Z",
     "iopub.status.busy": "2023-10-13T21:17:35.795380Z",
     "iopub.status.idle": "2023-10-13T21:17:36.243108Z",
     "shell.execute_reply": "2023-10-13T21:17:36.242671Z",
     "shell.execute_reply.started": "2023-10-13T21:17:35.795883Z"
    },
    "tags": []
   },
   "outputs": [],
   "source": [
    "%matplotlib inline\n",
    "%load_ext autoreload\n",
    "%autoreload 2\n",
    "\n",
    "import sys\n",
    "if sys.platform == 'linux':\n",
    "    sys.path.append(\"/home/qix/MultiNeuronGLM\")\n",
    "else:\n",
    "    sys.path.append(\"D:/Github/MultiNeuronGLM\")"
   ]
  },
  {
   "cell_type": "code",
   "execution_count": 2,
   "id": "8aef4b1c",
   "metadata": {
    "ExecuteTime": {
     "end_time": "2023-09-07T04:30:56.618487Z",
     "start_time": "2023-09-07T04:30:55.698491Z"
    },
    "execution": {
     "iopub.execute_input": "2023-10-13T21:17:36.244002Z",
     "iopub.status.busy": "2023-10-13T21:17:36.243846Z",
     "iopub.status.idle": "2023-10-13T21:17:38.174217Z",
     "shell.execute_reply": "2023-10-13T21:17:38.173724Z",
     "shell.execute_reply.started": "2023-10-13T21:17:36.243990Z"
    },
    "tags": []
   },
   "outputs": [
    {
     "name": "stderr",
     "output_type": "stream",
     "text": [
      "/home/qix/anaconda3/envs/allen/lib/python3.9/site-packages/tqdm/auto.py:21: TqdmWarning: IProgress not found. Please update jupyter and ipywidgets. See https://ipywidgets.readthedocs.io/en/stable/user_install.html\n",
      "  from .autonotebook import tqdm as notebook_tqdm\n"
     ]
    }
   ],
   "source": [
    "import pandas as pd\n",
    "import utility_functions as utils\n",
    "import matplotlib.pyplot as plt\n",
    "import seaborn as sns\n",
    "from tqdm import tqdm\n",
    "import numpy as np\n",
    "import random\n",
    "import torch\n",
    "import logging\n",
    "import joblib\n",
    "\n",
    "import GLM\n",
    "from DataLoader import Allen_dataset, Allen_dataloader_multi_session\n",
    "\n",
    "# sns.set_theme()\n",
    "sns.set_theme(style=\"white\")\n",
    "# sns.set_style('whitegrid')"
   ]
  },
  {
   "cell_type": "code",
   "execution_count": 3,
   "id": "cf127ec7",
   "metadata": {},
   "outputs": [],
   "source": [
    "# Set random seed for reproducibility\n",
    "\n",
    "random.seed(0)\n",
    "np.random.seed(0) \n",
    "torch.manual_seed(0)\n",
    "if torch.cuda.is_available():\n",
    "    torch.cuda.manual_seed(0)\n",
    "    torch.cuda.manual_seed_all(0)\n",
    "\n",
    "logging.basicConfig(\n",
    "    level=logging.WARNING,\n",
    "    format='%(asctime)s - %(levelname)s - %(message)s - [%(filename)s:%(lineno)d]'\n",
    ")"
   ]
  },
  {
   "cell_type": "markdown",
   "id": "32f4c848",
   "metadata": {},
   "source": [
    "# Load all sessions"
   ]
  },
  {
   "cell_type": "code",
   "execution_count": 6,
   "id": "ea4f3059",
   "metadata": {
    "ExecuteTime": {
     "end_time": "2023-09-07T04:32:02.133321Z",
     "start_time": "2023-09-07T04:30:56.638555Z"
    },
    "execution": {
     "iopub.execute_input": "2023-10-13T21:17:38.198592Z",
     "iopub.status.busy": "2023-10-13T21:17:38.198421Z",
     "iopub.status.idle": "2023-10-13T21:18:47.401950Z",
     "shell.execute_reply": "2023-10-13T21:18:47.401369Z",
     "shell.execute_reply.started": "2023-10-13T21:17:38.198575Z"
    },
    "tags": []
   },
   "outputs": [
    {
     "name": "stderr",
     "output_type": "stream",
     "text": [
      "2025-05-02 06:51:23,032 - CRITICAL - Start loading data - [DataLoader.py:171]\n",
      "100%|██████████| 44/44 [26:51<00:00, 36.63s/it]\n"
     ]
    },
    {
     "name": "stdout",
     "output_type": "stream",
     "text": [
      "Total sessions: 44, Batch size: 64, Train set size: 5073, Val set size: 754, Test set size: 1485\n"
     ]
    }
   ],
   "source": [
    "### Build a dataloader for cross-session data\n",
    "### Only two sessions\n",
    "# session_ids = [757216464, 757970808]\n",
    "\n",
    "### Session with all 6 probes\n",
    "session_ids = [\n",
    "    715093703, 719161530, 721123822, 737581020, 739448407, 742951821, 743475441,\n",
    "    744228101, 746083955, 750332458, 750749662, 751348571, 754312389, 755434585,\n",
    "    756029989, 757216464, 760693773, 761418226, 762602078, 763673393, 766640955,\n",
    "    767871931, 768515987, 771160300, 771990200, 773418906, 774875821, 778240327,\n",
    "    778998620, 779839471, 781842082, 786091066, 787025148, 789848216, 791319847,\n",
    "    793224716, 794812542, 797828357, 798911424, 799864342, 831882777, 839068429,\n",
    "    840012044, 847657808\n",
    "]\n",
    "\n",
    "### All sessions\n",
    "# session_ids = [\n",
    "#     715093703, 719161530, 721123822, 732592105, 737581020, 739448407,\n",
    "#     742951821, 743475441, 744228101, 746083955, 750332458, 750749662,\n",
    "#     751348571, 754312389, 754829445, 755434585, 756029989, 757216464,\n",
    "#     757970808, 758798717, 759883607, 760345702, 760693773, 761418226,\n",
    "#     762120172, 762602078, 763673393, 766640955, 767871931, 768515987,\n",
    "#     771160300, 771990200, 773418906, 774875821, 778240327, 778998620,\n",
    "#     779839471, 781842082, 786091066, 787025148, 789848216, 791319847,\n",
    "#     793224716, 794812542, 797828357, 798911424, 799864342, 816200189,\n",
    "#     819186360, 819701982, 821695405, 829720705, 831882777, 835479236,\n",
    "#     839068429, 839557629, 840012044, 847657808\n",
    "# ]\n",
    "\n",
    "kwargs = {\n",
    "    'shuffle':False,\n",
    "    'align_stimulus_onset':True,\n",
    "    'merge_trials':True,\n",
    "    'batch_size':64,\n",
    "    'fps':500,\n",
    "    'start_time':0.0,\n",
    "    'end_time':0.4,\n",
    "    'padding':0.1,\n",
    "    'selected_probes':['probeA', 'probeB', 'probeC', 'probeD', 'probeE', 'probeF'],\n",
    "}\n",
    "cross_session_dataloader = Allen_dataloader_multi_session(session_ids, **kwargs)"
   ]
  },
  {
   "cell_type": "code",
   "execution_count": 7,
   "id": "98c9e3be",
   "metadata": {},
   "outputs": [
    {
     "data": {
      "text/plain": [
       "['/home/qix/user_data/allen_spike_trains/all_six_probessessions.joblib']"
      ]
     },
     "execution_count": 7,
     "metadata": {},
     "output_type": "execute_result"
    }
   ],
   "source": [
    "# Save the object\n",
    "# data_path = '/home/qix/user_data/allen_spike_trains/two_sessions.joblib'\n",
    "data_path = '/home/qix/user_data/allen_spike_trains/all_six_probessessions.joblib'\n",
    "joblib.dump(cross_session_dataloader, data_path)"
   ]
  },
  {
   "cell_type": "code",
   "execution_count": 7,
   "id": "7771e954",
   "metadata": {},
   "outputs": [],
   "source": [
    "# Load the object\n",
    "# data_path = '/home/qix/user_data/allen_spike_trains/two_sessions.joblib'\n",
    "data_path = '/home/qix/user_data/allen_spike_trains/all_six_probessessions.joblib'\n",
    "cross_session_dataloader = joblib.load(data_path)"
   ]
  }
 ],
 "metadata": {
  "kernelspec": {
   "display_name": "Python 3 (ipykernel)",
   "language": "python",
   "name": "python3"
  },
  "language_info": {
   "codemirror_mode": {
    "name": "ipython",
    "version": 3
   },
   "file_extension": ".py",
   "mimetype": "text/x-python",
   "name": "python",
   "nbconvert_exporter": "python",
   "pygments_lexer": "ipython3",
   "version": "3.9.21"
  },
  "latex_envs": {
   "LaTeX_envs_menu_present": true,
   "autoclose": false,
   "autocomplete": true,
   "bibliofile": "biblio.bib",
   "cite_by": "apalike",
   "current_citInitial": 1,
   "eqLabelWithNumbers": true,
   "eqNumInitial": 1,
   "hotkeys": {
    "equation": "Ctrl-E",
    "itemize": "Ctrl-I"
   },
   "labels_anchors": false,
   "latex_user_defs": false,
   "report_style_numbering": false,
   "user_envs_cfg": false
  },
  "toc": {
   "base_numbering": "0",
   "nav_menu": {},
   "number_sections": true,
   "sideBar": true,
   "skip_h1_title": false,
   "title_cell": "Table of Contents",
   "title_sidebar": "Contents",
   "toc_cell": false,
   "toc_position": {
    "height": "451.037px",
    "left": "51px",
    "top": "133.773px",
    "width": "505.547px"
   },
   "toc_section_display": true,
   "toc_window_display": true
  },
  "toc-autonumbering": true,
  "varInspector": {
   "cols": {
    "lenName": 16,
    "lenType": 16,
    "lenVar": 40
   },
   "kernels_config": {
    "python": {
     "delete_cmd_postfix": "",
     "delete_cmd_prefix": "del ",
     "library": "var_list.py",
     "varRefreshCmd": "print(var_dic_list())"
    },
    "r": {
     "delete_cmd_postfix": ") ",
     "delete_cmd_prefix": "rm(",
     "library": "var_list.r",
     "varRefreshCmd": "cat(var_dic_list()) "
    }
   },
   "oldHeight": 798.844,
   "position": {
    "height": "1060px",
    "left": "1670.92px",
    "right": "20px",
    "top": "202.906px",
    "width": "317.047px"
   },
   "types_to_exclude": [
    "module",
    "function",
    "builtin_function_or_method",
    "instance",
    "_Feature"
   ],
   "varInspector_section_display": "block",
   "window_display": true
  }
 },
 "nbformat": 4,
 "nbformat_minor": 5
}
