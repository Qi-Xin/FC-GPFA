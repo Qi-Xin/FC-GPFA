{
 "cells": [
  {
   "cell_type": "markdown",
   "id": "d59a97ad",
   "metadata": {},
   "source": [
    "# <a id='toc1_'></a>[set up](#toc0_)"
   ]
  },
  {
   "cell_type": "code",
   "execution_count": 1,
   "id": "5fafc180",
   "metadata": {
    "ExecuteTime": {
     "end_time": "2023-09-07T04:30:55.594849Z",
     "start_time": "2023-09-07T04:30:55.588540Z"
    },
    "execution": {
     "iopub.execute_input": "2023-10-13T21:17:35.795902Z",
     "iopub.status.busy": "2023-10-13T21:17:35.795380Z",
     "iopub.status.idle": "2023-10-13T21:17:36.243108Z",
     "shell.execute_reply": "2023-10-13T21:17:36.242671Z",
     "shell.execute_reply.started": "2023-10-13T21:17:35.795883Z"
    },
    "tags": []
   },
   "outputs": [],
   "source": [
    "%matplotlib inline\n",
    "%load_ext autoreload\n",
    "%autoreload 2\n",
    "\n",
    "import sys\n",
    "if sys.platform == 'linux':\n",
    "    sys.path.append(\"/home/qix/MultiNeuronGLM\")\n",
    "else:\n",
    "    sys.path.append(\"D:/Github/MultiNeuronGLM\")"
   ]
  },
  {
   "cell_type": "code",
   "execution_count": 4,
   "id": "8aef4b1c",
   "metadata": {
    "ExecuteTime": {
     "end_time": "2023-09-07T04:30:56.618487Z",
     "start_time": "2023-09-07T04:30:55.698491Z"
    },
    "execution": {
     "iopub.execute_input": "2023-10-13T21:17:36.244002Z",
     "iopub.status.busy": "2023-10-13T21:17:36.243846Z",
     "iopub.status.idle": "2023-10-13T21:17:38.174217Z",
     "shell.execute_reply": "2023-10-13T21:17:38.173724Z",
     "shell.execute_reply.started": "2023-10-13T21:17:36.243990Z"
    },
    "tags": []
   },
   "outputs": [],
   "source": [
    "import pandas as pd\n",
    "import utility_functions as utils\n",
    "import matplotlib.pyplot as plt\n",
    "import seaborn as sns\n",
    "from tqdm import tqdm\n",
    "import numpy as np\n",
    "import random\n",
    "import torch\n",
    "import logging\n",
    "import joblib\n",
    "\n",
    "import GLM\n",
    "from DataLoader import Allen_dataset, Allen_dataloader_multi_session\n",
    "\n",
    "# sns.set_theme()\n",
    "sns.set_theme(style=\"white\")\n",
    "# sns.set_style('whitegrid')"
   ]
  },
  {
   "cell_type": "code",
   "execution_count": 3,
   "id": "cf127ec7",
   "metadata": {},
   "outputs": [],
   "source": [
    "# Set random seed for reproducibility\n",
    "\n",
    "random.seed(0)\n",
    "np.random.seed(0) \n",
    "torch.manual_seed(0)\n",
    "if torch.cuda.is_available():\n",
    "    torch.cuda.manual_seed(0)\n",
    "    torch.cuda.manual_seed_all(0)\n",
    "\n",
    "logging.basicConfig(\n",
    "    level=logging.WARNING,\n",
    "    format='%(asctime)s - %(levelname)s - %(message)s - [%(filename)s:%(lineno)d]'\n",
    ")"
   ]
  },
  {
   "cell_type": "markdown",
   "id": "65d4a9bf",
   "metadata": {},
   "source": [
    "# Load all sessions"
   ]
  },
  {
   "cell_type": "code",
   "execution_count": 5,
   "id": "ea4f3059",
   "metadata": {
    "ExecuteTime": {
     "end_time": "2023-09-07T04:32:02.133321Z",
     "start_time": "2023-09-07T04:30:56.638555Z"
    },
    "execution": {
     "iopub.execute_input": "2023-10-13T21:17:38.198592Z",
     "iopub.status.busy": "2023-10-13T21:17:38.198421Z",
     "iopub.status.idle": "2023-10-13T21:18:47.401950Z",
     "shell.execute_reply": "2023-10-13T21:18:47.401369Z",
     "shell.execute_reply.started": "2023-10-13T21:17:38.198575Z"
    },
    "tags": []
   },
   "outputs": [
    {
     "name": "stderr",
     "output_type": "stream",
     "text": [
      "2025-01-15 16:47:08,049 - CRITICAL - Total number of sessions: 58 - [DataLoader.py:91]\n",
      "2025-01-15 16:47:08,050 - CRITICAL - Train ratio: 0.7 - [DataLoader.py:92]\n",
      "2025-01-15 16:47:08,051 - CRITICAL - Val ratio: 0.1 - [DataLoader.py:93]\n",
      "2025-01-15 16:47:08,052 - CRITICAL - Test ratio: 0.20000000000000004 - [DataLoader.py:94]\n",
      "2025-01-15 16:47:08,053 - CRITICAL - Batch size: 64 - [DataLoader.py:95]\n",
      "2025-01-15 16:47:08,053 - CRITICAL - Start loading data - [DataLoader.py:116]\n",
      " 84%|████████▍ | 49/58 [54:32<08:13, 54.79s/it] 2025-01-15 17:41:44,974 - WARNING - downloading a 2405.091MiB file from http://api.brain-map.org//api/v2/well_known_file_download/1026124368 - [http_engine.py:73]\n",
      "Downloading: 100%|██████████| 2.52G/2.52G [03:52<00:00, 10.8MB/s]\n",
      "100%|██████████| 58/58 [1:05:32<00:00, 67.80s/it] \n"
     ]
    }
   ],
   "source": [
    "# Build a dataloader for cross-session data\n",
    "session_ids = [\n",
    "    715093703, 719161530, 721123822, 732592105, 737581020, 739448407,\n",
    "    742951821, 743475441, 744228101, 746083955, 750332458, 750749662,\n",
    "    751348571, 754312389, 754829445, 755434585, 756029989, 757216464,\n",
    "    757970808, 758798717, 759883607, 760345702, 760693773, 761418226,\n",
    "    762120172, 762602078, 763673393, 766640955, 767871931, 768515987,\n",
    "    771160300, 771990200, 773418906, 774875821, 778240327, 778998620,\n",
    "    779839471, 781842082, 786091066, 787025148, 789848216, 791319847,\n",
    "    793224716, 794812542, 797828357, 798911424, 799864342, 816200189,\n",
    "    819186360, 819701982, 821695405, 829720705, 831882777, 835479236,\n",
    "    839068429, 839557629, 840012044, 847657808\n",
    "]\n",
    "kwargs = {\n",
    "    'shuffle':False,\n",
    "    'align_stimulus_onset':False, \n",
    "    'merge_trials':False, \n",
    "    'batch_size':64,\n",
    "    'fps':1000, \n",
    "    'start_time':0.0, \n",
    "    'end_time':0.4, \n",
    "    'padding':0.1, \n",
    "    'selected_probes':['probeA', 'probeB', 'probeC', 'probeD', 'probeE', 'probeF'], \n",
    "}\n",
    "cross_session_dataloader = Allen_dataloader_multi_session(session_ids, **kwargs)"
   ]
  },
  {
   "cell_type": "code",
   "execution_count": 27,
   "id": "98c9e3be",
   "metadata": {},
   "outputs": [
    {
     "data": {
      "text/plain": [
       "['cross_session_dataloader.joblib']"
      ]
     },
     "execution_count": 27,
     "metadata": {},
     "output_type": "execute_result"
    }
   ],
   "source": [
    "# Save the object\n",
    "joblib.dump(cross_session_dataloader, 'cross_session_dataloader.joblib')"
   ]
  },
  {
   "cell_type": "code",
   "execution_count": 5,
   "id": "7771e954",
   "metadata": {},
   "outputs": [
    {
     "ename": "KeyboardInterrupt",
     "evalue": "",
     "output_type": "error",
     "traceback": [
      "\u001b[0;31m---------------------------------------------------------------------------\u001b[0m",
      "\u001b[0;31mKeyboardInterrupt\u001b[0m                         Traceback (most recent call last)",
      "Cell \u001b[0;32mIn[5], line 3\u001b[0m\n\u001b[1;32m      1\u001b[0m \u001b[38;5;66;03m# Load the object\u001b[39;00m\n\u001b[1;32m      2\u001b[0m data_path \u001b[38;5;241m=\u001b[39m \u001b[38;5;124m'\u001b[39m\u001b[38;5;124m/home/qix/user_data/allen_spike_trains/cross_session_dataloader.joblib\u001b[39m\u001b[38;5;124m'\u001b[39m\n\u001b[0;32m----> 3\u001b[0m cross_session_dataloader \u001b[38;5;241m=\u001b[39m \u001b[43mjoblib\u001b[49m\u001b[38;5;241;43m.\u001b[39;49m\u001b[43mload\u001b[49m\u001b[43m(\u001b[49m\u001b[43mdata_path\u001b[49m\u001b[43m)\u001b[49m\n",
      "File \u001b[0;32m~/anaconda3/envs/allen/lib/python3.9/site-packages/joblib/numpy_pickle.py:658\u001b[0m, in \u001b[0;36mload\u001b[0;34m(filename, mmap_mode)\u001b[0m\n\u001b[1;32m    652\u001b[0m             \u001b[38;5;28;01mif\u001b[39;00m \u001b[38;5;28misinstance\u001b[39m(fobj, \u001b[38;5;28mstr\u001b[39m):\n\u001b[1;32m    653\u001b[0m                 \u001b[38;5;66;03m# if the returned file object is a string, this means we\u001b[39;00m\n\u001b[1;32m    654\u001b[0m                 \u001b[38;5;66;03m# try to load a pickle file generated with an version of\u001b[39;00m\n\u001b[1;32m    655\u001b[0m                 \u001b[38;5;66;03m# Joblib so we load it with joblib compatibility function.\u001b[39;00m\n\u001b[1;32m    656\u001b[0m                 \u001b[38;5;28;01mreturn\u001b[39;00m load_compatibility(fobj)\n\u001b[0;32m--> 658\u001b[0m             obj \u001b[38;5;241m=\u001b[39m \u001b[43m_unpickle\u001b[49m\u001b[43m(\u001b[49m\u001b[43mfobj\u001b[49m\u001b[43m,\u001b[49m\u001b[43m \u001b[49m\u001b[43mfilename\u001b[49m\u001b[43m,\u001b[49m\u001b[43m \u001b[49m\u001b[43mmmap_mode\u001b[49m\u001b[43m)\u001b[49m\n\u001b[1;32m    659\u001b[0m \u001b[38;5;28;01mreturn\u001b[39;00m obj\n",
      "File \u001b[0;32m~/anaconda3/envs/allen/lib/python3.9/site-packages/joblib/numpy_pickle.py:577\u001b[0m, in \u001b[0;36m_unpickle\u001b[0;34m(fobj, filename, mmap_mode)\u001b[0m\n\u001b[1;32m    575\u001b[0m obj \u001b[38;5;241m=\u001b[39m \u001b[38;5;28;01mNone\u001b[39;00m\n\u001b[1;32m    576\u001b[0m \u001b[38;5;28;01mtry\u001b[39;00m:\n\u001b[0;32m--> 577\u001b[0m     obj \u001b[38;5;241m=\u001b[39m \u001b[43munpickler\u001b[49m\u001b[38;5;241;43m.\u001b[39;49m\u001b[43mload\u001b[49m\u001b[43m(\u001b[49m\u001b[43m)\u001b[49m\n\u001b[1;32m    578\u001b[0m     \u001b[38;5;28;01mif\u001b[39;00m unpickler\u001b[38;5;241m.\u001b[39mcompat_mode:\n\u001b[1;32m    579\u001b[0m         warnings\u001b[38;5;241m.\u001b[39mwarn(\u001b[38;5;124m\"\u001b[39m\u001b[38;5;124mThe file \u001b[39m\u001b[38;5;124m'\u001b[39m\u001b[38;5;132;01m%s\u001b[39;00m\u001b[38;5;124m'\u001b[39m\u001b[38;5;124m has been generated with a \u001b[39m\u001b[38;5;124m\"\u001b[39m\n\u001b[1;32m    580\u001b[0m                       \u001b[38;5;124m\"\u001b[39m\u001b[38;5;124mjoblib version less than 0.10. \u001b[39m\u001b[38;5;124m\"\u001b[39m\n\u001b[1;32m    581\u001b[0m                       \u001b[38;5;124m\"\u001b[39m\u001b[38;5;124mPlease regenerate this pickle file.\u001b[39m\u001b[38;5;124m\"\u001b[39m\n\u001b[1;32m    582\u001b[0m                       \u001b[38;5;241m%\u001b[39m filename,\n\u001b[1;32m    583\u001b[0m                       \u001b[38;5;167;01mDeprecationWarning\u001b[39;00m, stacklevel\u001b[38;5;241m=\u001b[39m\u001b[38;5;241m3\u001b[39m)\n",
      "File \u001b[0;32m~/anaconda3/envs/allen/lib/python3.9/pickle.py:1212\u001b[0m, in \u001b[0;36m_Unpickler.load\u001b[0;34m(self)\u001b[0m\n\u001b[1;32m   1210\u001b[0m             \u001b[38;5;28;01mraise\u001b[39;00m \u001b[38;5;167;01mEOFError\u001b[39;00m\n\u001b[1;32m   1211\u001b[0m         \u001b[38;5;28;01massert\u001b[39;00m \u001b[38;5;28misinstance\u001b[39m(key, bytes_types)\n\u001b[0;32m-> 1212\u001b[0m         \u001b[43mdispatch\u001b[49m\u001b[43m[\u001b[49m\u001b[43mkey\u001b[49m\u001b[43m[\u001b[49m\u001b[38;5;241;43m0\u001b[39;49m\u001b[43m]\u001b[49m\u001b[43m]\u001b[49m\u001b[43m(\u001b[49m\u001b[38;5;28;43mself\u001b[39;49m\u001b[43m)\u001b[49m\n\u001b[1;32m   1213\u001b[0m \u001b[38;5;28;01mexcept\u001b[39;00m _Stop \u001b[38;5;28;01mas\u001b[39;00m stopinst:\n\u001b[1;32m   1214\u001b[0m     \u001b[38;5;28;01mreturn\u001b[39;00m stopinst\u001b[38;5;241m.\u001b[39mvalue\n",
      "File \u001b[0;32m~/anaconda3/envs/allen/lib/python3.9/site-packages/joblib/numpy_pickle.py:415\u001b[0m, in \u001b[0;36mNumpyUnpickler.load_build\u001b[0;34m(self)\u001b[0m\n\u001b[1;32m    413\u001b[0m \u001b[38;5;28;01mif\u001b[39;00m \u001b[38;5;28misinstance\u001b[39m(array_wrapper, NDArrayWrapper):\n\u001b[1;32m    414\u001b[0m     \u001b[38;5;28mself\u001b[39m\u001b[38;5;241m.\u001b[39mcompat_mode \u001b[38;5;241m=\u001b[39m \u001b[38;5;28;01mTrue\u001b[39;00m\n\u001b[0;32m--> 415\u001b[0m \u001b[38;5;28mself\u001b[39m\u001b[38;5;241m.\u001b[39mstack\u001b[38;5;241m.\u001b[39mappend(\u001b[43marray_wrapper\u001b[49m\u001b[38;5;241;43m.\u001b[39;49m\u001b[43mread\u001b[49m\u001b[43m(\u001b[49m\u001b[38;5;28;43mself\u001b[39;49m\u001b[43m)\u001b[49m)\n",
      "File \u001b[0;32m~/anaconda3/envs/allen/lib/python3.9/site-packages/joblib/numpy_pickle.py:252\u001b[0m, in \u001b[0;36mNumpyArrayWrapper.read\u001b[0;34m(self, unpickler)\u001b[0m\n\u001b[1;32m    250\u001b[0m     array \u001b[38;5;241m=\u001b[39m \u001b[38;5;28mself\u001b[39m\u001b[38;5;241m.\u001b[39mread_mmap(unpickler)\n\u001b[1;32m    251\u001b[0m \u001b[38;5;28;01melse\u001b[39;00m:\n\u001b[0;32m--> 252\u001b[0m     array \u001b[38;5;241m=\u001b[39m \u001b[38;5;28;43mself\u001b[39;49m\u001b[38;5;241;43m.\u001b[39;49m\u001b[43mread_array\u001b[49m\u001b[43m(\u001b[49m\u001b[43munpickler\u001b[49m\u001b[43m)\u001b[49m\n\u001b[1;32m    254\u001b[0m \u001b[38;5;66;03m# Manage array subclass case\u001b[39;00m\n\u001b[1;32m    255\u001b[0m \u001b[38;5;28;01mif\u001b[39;00m (\u001b[38;5;28mhasattr\u001b[39m(array, \u001b[38;5;124m'\u001b[39m\u001b[38;5;124m__array_prepare__\u001b[39m\u001b[38;5;124m'\u001b[39m) \u001b[38;5;129;01mand\u001b[39;00m\n\u001b[1;32m    256\u001b[0m     \u001b[38;5;28mself\u001b[39m\u001b[38;5;241m.\u001b[39msubclass \u001b[38;5;129;01mnot\u001b[39;00m \u001b[38;5;129;01min\u001b[39;00m (unpickler\u001b[38;5;241m.\u001b[39mnp\u001b[38;5;241m.\u001b[39mndarray,\n\u001b[1;32m    257\u001b[0m                           unpickler\u001b[38;5;241m.\u001b[39mnp\u001b[38;5;241m.\u001b[39mmemmap)):\n\u001b[1;32m    258\u001b[0m     \u001b[38;5;66;03m# We need to reconstruct another subclass\u001b[39;00m\n",
      "File \u001b[0;32m~/anaconda3/envs/allen/lib/python3.9/site-packages/joblib/numpy_pickle.py:152\u001b[0m, in \u001b[0;36mNumpyArrayWrapper.read_array\u001b[0;34m(self, unpickler)\u001b[0m\n\u001b[1;32m    149\u001b[0m \u001b[38;5;66;03m# Now read the actual data.\u001b[39;00m\n\u001b[1;32m    150\u001b[0m \u001b[38;5;28;01mif\u001b[39;00m \u001b[38;5;28mself\u001b[39m\u001b[38;5;241m.\u001b[39mdtype\u001b[38;5;241m.\u001b[39mhasobject:\n\u001b[1;32m    151\u001b[0m     \u001b[38;5;66;03m# The array contained Python objects. We need to unpickle the data.\u001b[39;00m\n\u001b[0;32m--> 152\u001b[0m     array \u001b[38;5;241m=\u001b[39m \u001b[43mpickle\u001b[49m\u001b[38;5;241;43m.\u001b[39;49m\u001b[43mload\u001b[49m\u001b[43m(\u001b[49m\u001b[43munpickler\u001b[49m\u001b[38;5;241;43m.\u001b[39;49m\u001b[43mfile_handle\u001b[49m\u001b[43m)\u001b[49m\n\u001b[1;32m    153\u001b[0m \u001b[38;5;28;01melse\u001b[39;00m:\n\u001b[1;32m    154\u001b[0m     numpy_array_alignment_bytes \u001b[38;5;241m=\u001b[39m \\\n\u001b[1;32m    155\u001b[0m         \u001b[38;5;28mself\u001b[39m\u001b[38;5;241m.\u001b[39msafe_get_numpy_array_alignment_bytes()\n",
      "\u001b[0;31mKeyboardInterrupt\u001b[0m: "
     ]
    }
   ],
   "source": [
    "# Load the object\n",
    "data_path = '/home/qix/user_data/allen_spike_trains/cross_session_dataloader.joblib'\n",
    "cross_session_dataloader = joblib.load(data_path)"
   ]
  },
  {
   "cell_type": "code",
   "execution_count": 6,
   "id": "61550873",
   "metadata": {},
   "outputs": [
    {
     "data": {
      "text/plain": [
       "<DataLoader.Allen_dataloader_multi_session at 0x794d0fd23b80>"
      ]
     },
     "execution_count": 6,
     "metadata": {},
     "output_type": "execute_result"
    }
   ],
   "source": [
    "cross_session_dataloader"
   ]
  },
  {
   "cell_type": "code",
   "execution_count": 14,
   "id": "17211a99",
   "metadata": {},
   "outputs": [
    {
     "data": {
      "text/plain": [
       "[(0, 15871),\n",
       " (15871, 31734),\n",
       " (31734, 47599),\n",
       " (47599, 63463),\n",
       " (63463, 79334),\n",
       " (79334, 95207),\n",
       " (95207, 111074),\n",
       " (111074, 126944),\n",
       " (126944, 142818),\n",
       " (142818, 158693),\n",
       " (158693, 174562),\n",
       " (174562, 190429),\n",
       " (190429, 206300),\n",
       " (206300, 222177),\n",
       " (222177, 238051),\n",
       " (238051, 253930),\n",
       " (253930, 269809),\n",
       " (269809, 285686),\n",
       " (285686, 301563),\n",
       " (301563, 317441),\n",
       " (317441, 333318),\n",
       " (333318, 349192),\n",
       " (349192, 365068),\n",
       " (365068, 381934),\n",
       " (381934, 398799),\n",
       " (398799, 415665),\n",
       " (415665, 432531),\n",
       " (432531, 448661),\n",
       " (448661, 464792),\n",
       " (464792, 480664),\n",
       " (480664, 496532),\n",
       " (496532, 512402),\n",
       " (512402, 528271),\n",
       " (528271, 544142),\n",
       " (544142, 560018),\n",
       " (560018, 575887),\n",
       " (575887, 591760),\n",
       " (591760, 607631),\n",
       " (607631, 623502),\n",
       " (623502, 639367),\n",
       " (639367, 655239),\n",
       " (655239, 672102),\n",
       " (672102, 687970),\n",
       " (687970, 703844),\n",
       " (703844, 720703),\n",
       " (720703, 737565),\n",
       " (737565, 754429),\n",
       " (754429, 770299),\n",
       " (770299, 786170),\n",
       " (786170, 802042),\n",
       " (802042, 817914),\n",
       " (817914, 833784),\n",
       " (833784, 849657),\n",
       " (849657, 865526),\n",
       " (865526, 881398),\n",
       " (881398, 897262),\n",
       " (897262, 913132),\n",
       " (913132, 929006)]"
      ]
     },
     "execution_count": 14,
     "metadata": {},
     "output_type": "execute_result"
    }
   ],
   "source": [
    "cross_session_dataloader.session_trial_indices"
   ]
  },
  {
   "cell_type": "code",
   "execution_count": 16,
   "id": "922fde8f",
   "metadata": {},
   "outputs": [
    {
     "data": {
      "text/plain": [
       "array([ 0,  1,  2,  3,  4,  5,  6,  7,  8,  9, 10, 11, 12, 13, 14, 15, 16,\n",
       "       17, 18, 19, 20, 21, 22, 23, 24, 25, 26, 27, 28, 29, 30, 31, 32, 33,\n",
       "       34, 35, 36, 37, 38, 39, 40, 41, 42, 43, 44, 45, 46, 47, 48, 49, 50,\n",
       "       51, 52, 53, 54, 55, 56, 57, 58, 59, 60, 61, 62, 63])"
      ]
     },
     "execution_count": 16,
     "metadata": {},
     "output_type": "execute_result"
    }
   ],
   "source": [
    "cross_session_dataloader.train_batches[0]"
   ]
  },
  {
   "cell_type": "code",
   "execution_count": 24,
   "id": "af0de5e7",
   "metadata": {},
   "outputs": [],
   "source": [
    "batch = cross_session_dataloader.get_batch(split='train')"
   ]
  },
  {
   "cell_type": "code",
   "execution_count": 19,
   "id": "7eccd6d6",
   "metadata": {},
   "outputs": [
    {
     "data": {
      "text/plain": [
       "{'spike_train':                                                            1\n",
       " units                                                       \n",
       " 950911880  [0, 0, 0, 0, 0, 0, 0, 0, 0, 0, 0, 0, 0, 0, 0, ...\n",
       " 950911873  [0, 0, 0, 0, 0, 0, 0, 0, 0, 0, 0, 0, 0, 0, 0, ...\n",
       " 950911932  [0, 0, 0, 0, 0, 0, 0, 0, 0, 0, 0, 0, 0, 0, 0, ...\n",
       " 950911986  [0, 0, 0, 0, 0, 0, 0, 0, 0, 0, 0, 0, 0, 0, 0, ...\n",
       " 950912018  [0, 0, 0, 0, 0, 0, 0, 0, 0, 0, 0, 0, 0, 0, 0, ...\n",
       " ...                                                      ...\n",
       " 950956911  [0, 0, 0, 0, 0, 0, 0, 0, 0, 0, 0, 0, 0, 0, 0, ...\n",
       " 950956870  [0, 0, 0, 0, 0, 0, 0, 0, 0, 0, 0, 0, 0, 0, 0, ...\n",
       " 950956845  [0, 0, 0, 0, 0, 0, 0, 0, 0, 0, 0, 0, 0, 0, 0, ...\n",
       " 950956952  [0, 0, 0, 0, 0, 0, 0, 0, 0, 0, 0, 0, 0, 0, 0, ...\n",
       " 950957053  [0, 0, 0, 0, 0, 0, 0, 0, 0, 0, 0, 0, 0, 0, 0, ...\n",
       " \n",
       " [258 rows x 1 columns],\n",
       " 'session_id': 715093703,\n",
       " 'trial_idx': 1}"
      ]
     },
     "execution_count": 19,
     "metadata": {},
     "output_type": "execute_result"
    }
   ],
   "source": [
    "batch[1]"
   ]
  },
  {
   "cell_type": "markdown",
   "id": "84083817",
   "metadata": {},
   "source": [
    "# (Appendix) Check run time and bottom functions"
   ]
  },
  {
   "cell_type": "code",
   "execution_count": 22,
   "id": "6a7995fb",
   "metadata": {},
   "outputs": [],
   "source": [
    "for i in range(64):\n",
    "    spike_train =cross_session_dataloader.sessions[757970808].get_trial_metric_per_unit_per_trial(\n",
    "        selected_trials=[i], \n",
    "        metric_type='count'\n",
    "    )"
   ]
  },
  {
   "cell_type": "code",
   "execution_count": 11,
   "id": "cb12f3f4",
   "metadata": {},
   "outputs": [],
   "source": [
    "for i in range(64):\n",
    "    spike_times = cross_session_dataloader.sessions[757970808].get_spike_table([i])"
   ]
  },
  {
   "cell_type": "code",
   "execution_count": 12,
   "id": "e06dc720",
   "metadata": {},
   "outputs": [
    {
     "data": {
      "text/html": [
       "<div>\n",
       "<style scoped>\n",
       "    .dataframe tbody tr th:only-of-type {\n",
       "        vertical-align: middle;\n",
       "    }\n",
       "\n",
       "    .dataframe tbody tr th {\n",
       "        vertical-align: top;\n",
       "    }\n",
       "\n",
       "    .dataframe thead th {\n",
       "        text-align: right;\n",
       "    }\n",
       "</style>\n",
       "<table border=\"1\" class=\"dataframe\">\n",
       "  <thead>\n",
       "    <tr style=\"text-align: right;\">\n",
       "      <th></th>\n",
       "      <th>stimulus_presentation_id</th>\n",
       "      <th>unit_id</th>\n",
       "      <th>time_since_stimulus_presentation_onset</th>\n",
       "    </tr>\n",
       "    <tr>\n",
       "      <th>spike_time</th>\n",
       "      <th></th>\n",
       "      <th></th>\n",
       "      <th></th>\n",
       "    </tr>\n",
       "  </thead>\n",
       "  <tbody>\n",
       "    <tr>\n",
       "      <th>24.501424</th>\n",
       "      <td>63</td>\n",
       "      <td>951838019</td>\n",
       "      <td>-36.324640</td>\n",
       "    </tr>\n",
       "    <tr>\n",
       "      <th>24.501661</th>\n",
       "      <td>63</td>\n",
       "      <td>951841367</td>\n",
       "      <td>-36.324402</td>\n",
       "    </tr>\n",
       "    <tr>\n",
       "      <th>24.501955</th>\n",
       "      <td>63</td>\n",
       "      <td>951839810</td>\n",
       "      <td>-36.324109</td>\n",
       "    </tr>\n",
       "    <tr>\n",
       "      <th>24.502690</th>\n",
       "      <td>63</td>\n",
       "      <td>951837931</td>\n",
       "      <td>-36.323373</td>\n",
       "    </tr>\n",
       "    <tr>\n",
       "      <th>24.502890</th>\n",
       "      <td>63</td>\n",
       "      <td>951837953</td>\n",
       "      <td>-36.323173</td>\n",
       "    </tr>\n",
       "    <tr>\n",
       "      <th>...</th>\n",
       "      <td>...</td>\n",
       "      <td>...</td>\n",
       "      <td>...</td>\n",
       "    </tr>\n",
       "    <tr>\n",
       "      <th>24.994424</th>\n",
       "      <td>63</td>\n",
       "      <td>951837947</td>\n",
       "      <td>-35.831640</td>\n",
       "    </tr>\n",
       "    <tr>\n",
       "      <th>24.995390</th>\n",
       "      <td>63</td>\n",
       "      <td>951838062</td>\n",
       "      <td>-35.830673</td>\n",
       "    </tr>\n",
       "    <tr>\n",
       "      <th>24.999258</th>\n",
       "      <td>63</td>\n",
       "      <td>951839099</td>\n",
       "      <td>-35.826806</td>\n",
       "    </tr>\n",
       "    <tr>\n",
       "      <th>24.999824</th>\n",
       "      <td>63</td>\n",
       "      <td>951837975</td>\n",
       "      <td>-35.826240</td>\n",
       "    </tr>\n",
       "    <tr>\n",
       "      <th>25.000591</th>\n",
       "      <td>63</td>\n",
       "      <td>951839036</td>\n",
       "      <td>-35.825472</td>\n",
       "    </tr>\n",
       "  </tbody>\n",
       "</table>\n",
       "<p>352 rows × 3 columns</p>\n",
       "</div>"
      ],
      "text/plain": [
       "            stimulus_presentation_id    unit_id  \\\n",
       "spike_time                                        \n",
       "24.501424                         63  951838019   \n",
       "24.501661                         63  951841367   \n",
       "24.501955                         63  951839810   \n",
       "24.502690                         63  951837931   \n",
       "24.502890                         63  951837953   \n",
       "...                              ...        ...   \n",
       "24.994424                         63  951837947   \n",
       "24.995390                         63  951838062   \n",
       "24.999258                         63  951839099   \n",
       "24.999824                         63  951837975   \n",
       "25.000591                         63  951839036   \n",
       "\n",
       "            time_since_stimulus_presentation_onset  \n",
       "spike_time                                          \n",
       "24.501424                               -36.324640  \n",
       "24.501661                               -36.324402  \n",
       "24.501955                               -36.324109  \n",
       "24.502690                               -36.323373  \n",
       "24.502890                               -36.323173  \n",
       "...                                            ...  \n",
       "24.994424                               -35.831640  \n",
       "24.995390                               -35.830673  \n",
       "24.999258                               -35.826806  \n",
       "24.999824                               -35.826240  \n",
       "25.000591                               -35.825472  \n",
       "\n",
       "[352 rows x 3 columns]"
      ]
     },
     "execution_count": 12,
     "metadata": {},
     "output_type": "execute_result"
    }
   ],
   "source": [
    "spike_times"
   ]
  },
  {
   "cell_type": "code",
   "execution_count": null,
   "id": "76341dac",
   "metadata": {},
   "outputs": [],
   "source": []
  }
 ],
 "metadata": {
  "kernelspec": {
   "display_name": "Python 3 (ipykernel)",
   "language": "python",
   "name": "python3"
  },
  "language_info": {
   "codemirror_mode": {
    "name": "ipython",
    "version": 3
   },
   "file_extension": ".py",
   "mimetype": "text/x-python",
   "name": "python",
   "nbconvert_exporter": "python",
   "pygments_lexer": "ipython3",
   "version": "3.9.21"
  },
  "latex_envs": {
   "LaTeX_envs_menu_present": true,
   "autoclose": false,
   "autocomplete": true,
   "bibliofile": "biblio.bib",
   "cite_by": "apalike",
   "current_citInitial": 1,
   "eqLabelWithNumbers": true,
   "eqNumInitial": 1,
   "hotkeys": {
    "equation": "Ctrl-E",
    "itemize": "Ctrl-I"
   },
   "labels_anchors": false,
   "latex_user_defs": false,
   "report_style_numbering": false,
   "user_envs_cfg": false
  },
  "toc": {
   "base_numbering": "0",
   "nav_menu": {},
   "number_sections": true,
   "sideBar": true,
   "skip_h1_title": false,
   "title_cell": "Table of Contents",
   "title_sidebar": "Contents",
   "toc_cell": false,
   "toc_position": {
    "height": "451.037px",
    "left": "51px",
    "top": "133.773px",
    "width": "505.547px"
   },
   "toc_section_display": true,
   "toc_window_display": true
  },
  "toc-autonumbering": true,
  "varInspector": {
   "cols": {
    "lenName": 16,
    "lenType": 16,
    "lenVar": 40
   },
   "kernels_config": {
    "python": {
     "delete_cmd_postfix": "",
     "delete_cmd_prefix": "del ",
     "library": "var_list.py",
     "varRefreshCmd": "print(var_dic_list())"
    },
    "r": {
     "delete_cmd_postfix": ") ",
     "delete_cmd_prefix": "rm(",
     "library": "var_list.r",
     "varRefreshCmd": "cat(var_dic_list()) "
    }
   },
   "oldHeight": 798.844,
   "position": {
    "height": "1060px",
    "left": "1670.92px",
    "right": "20px",
    "top": "202.906px",
    "width": "317.047px"
   },
   "types_to_exclude": [
    "module",
    "function",
    "builtin_function_or_method",
    "instance",
    "_Feature"
   ],
   "varInspector_section_display": "block",
   "window_display": true
  }
 },
 "nbformat": 4,
 "nbformat_minor": 5
}
