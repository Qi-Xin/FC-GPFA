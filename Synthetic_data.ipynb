{
 "cells": [
  {
   "cell_type": "markdown",
   "metadata": {},
   "source": [
    "# Set up environment"
   ]
  },
  {
   "cell_type": "code",
   "execution_count": 1,
   "metadata": {},
   "outputs": [],
   "source": [
    "%load_ext autoreload\n",
    "%autoreload 2\n",
    "%matplotlib inline"
   ]
  },
  {
   "cell_type": "code",
   "execution_count": 2,
   "metadata": {},
   "outputs": [
    {
     "name": "stdout",
     "output_type": "stream",
     "text": [
      "True\n",
      "12.1\n"
     ]
    }
   ],
   "source": [
    "# Test if GPU is available\n",
    "# Note that CUDA below 12.1 can have bugs\n",
    "import torch\n",
    "print(torch.cuda.is_available())\n",
    "# print(torch.cuda.get_device_name(0))\n",
    "print(torch.version.cuda)\n",
    "device = torch.device(\"cuda\" if torch.cuda.is_available() else \"cpu\")"
   ]
  },
  {
   "cell_type": "code",
   "execution_count": 3,
   "metadata": {},
   "outputs": [],
   "source": [
    "#%% import libraries\n",
    "import os\n",
    "from collections import defaultdict\n",
    "import sys\n",
    "\n",
    "import matplotlib.pyplot as plt\n",
    "import pandas as pd\n",
    "import seaborn as sns\n",
    "import copy\n",
    "import numpy as np\n",
    "import numpy.random\n",
    "from numpy.fft import fft as fft\n",
    "from numpy.fft import ifft as ifft\n",
    "import pickle\n",
    "from sklearn.linear_model import PoissonRegressor\n",
    "from sklearn.model_selection import KFold\n",
    "from sklearn.manifold import TSNE\n",
    "import scipy.stats\n",
    "from scipy.stats import wilcoxon, chi2\n",
    "import scipy.interpolate \n",
    "import scipy.signal\n",
    "from scipy import linalg\n",
    "from scipy.special import rel_entr\n",
    "from tqdm import tqdm\n",
    "import pandas as pd\n",
    "import joblib\n",
    "import logging\n",
    "\n",
    "import statsmodels.api as sm\n",
    "import statsmodels.genmod.generalized_linear_model as smm\n",
    "\n",
    "import torch\n",
    "from torch.autograd import Variable\n",
    "from torch.nn import functional as F\n",
    "import torch.nn as nn\n",
    "import torch.optim as optim"
   ]
  },
  {
   "cell_type": "code",
   "execution_count": 4,
   "metadata": {},
   "outputs": [
    {
     "name": "stderr",
     "output_type": "stream",
     "text": [
      "/home/qix/anaconda3/envs/allen/lib/python3.9/site-packages/tqdm/auto.py:21: TqdmWarning: IProgress not found. Please update jupyter and ipywidgets. See https://ipywidgets.readthedocs.io/en/stable/user_install.html\n",
      "  from .autonotebook import tqdm as notebook_tqdm\n"
     ]
    }
   ],
   "source": [
    "# import my code\n",
    "import utility_functions as utils\n",
    "import GLM\n",
    "from DataLoader import Allen_dataset, Allen_dataloader_multi_session, Simple_dataloader_from_spikes\n",
    "from model_trainer import Trainer"
   ]
  },
  {
   "cell_type": "markdown",
   "metadata": {},
   "source": [
    "# Generate synthetic data"
   ]
  },
  {
   "cell_type": "code",
   "execution_count": 23,
   "metadata": {},
   "outputs": [
    {
     "name": "stderr",
     "output_type": "stream",
     "text": [
      "  8%|▊         | 150/2000 [00:19<04:04,  7.55it/s]\n"
     ]
    },
    {
     "ename": "KeyboardInterrupt",
     "evalue": "",
     "output_type": "error",
     "traceback": [
      "\u001b[0;31m---------------------------------------------------------------------------\u001b[0m",
      "\u001b[0;31mKeyboardInterrupt\u001b[0m                         Traceback (most recent call last)",
      "Cell \u001b[0;32mIn[23], line 1\u001b[0m\n\u001b[0;32m----> 1\u001b[0m spikes, trial_type \u001b[38;5;241m=\u001b[39m \u001b[43mGLM\u001b[49m\u001b[38;5;241;43m.\u001b[39;49m\u001b[43mEIF_simulator\u001b[49m\u001b[43m(\u001b[49m\n\u001b[1;32m      2\u001b[0m \u001b[43m    \u001b[49m\u001b[43mstd1\u001b[49m\u001b[38;5;241;43m=\u001b[39;49m\u001b[38;5;241;43m10\u001b[39;49m\u001b[43m,\u001b[49m\u001b[43m \u001b[49m\u001b[43mcorr1\u001b[49m\u001b[38;5;241;43m=\u001b[39;49m\u001b[38;5;241;43m0.0\u001b[39;49m\u001b[43m,\u001b[49m\u001b[43m \u001b[49m\u001b[43mstd2\u001b[49m\u001b[38;5;241;43m=\u001b[39;49m\u001b[38;5;241;43m10\u001b[39;49m\u001b[43m,\u001b[49m\u001b[43m \u001b[49m\u001b[43mcorr2\u001b[49m\u001b[38;5;241;43m=\u001b[39;49m\u001b[38;5;241;43m0.0\u001b[39;49m\u001b[43m,\u001b[49m\u001b[43m \u001b[49m\u001b[43mntrial\u001b[49m\u001b[38;5;241;43m=\u001b[39;49m\u001b[38;5;241;43m2000\u001b[39;49m\u001b[43m,\u001b[49m\u001b[43m \u001b[49m\u001b[43mnneuron\u001b[49m\u001b[38;5;241;43m=\u001b[39;49m\u001b[38;5;241;43m100\u001b[39;49m\u001b[43m,\u001b[49m\u001b[43m \u001b[49m\u001b[43mconn\u001b[49m\u001b[38;5;241;43m=\u001b[39;49m\u001b[38;5;241;43m0.01\u001b[39;49m\u001b[43m,\u001b[49m\n\u001b[1;32m      3\u001b[0m \u001b[43m    \u001b[49m\u001b[43muse_two_modes\u001b[49m\u001b[38;5;241;43m=\u001b[39;49m\u001b[38;5;28;43;01mTrue\u001b[39;49;00m\u001b[43m,\u001b[49m\n\u001b[1;32m      4\u001b[0m \u001b[43m    \u001b[49m\u001b[43mreturn_trial_type\u001b[49m\u001b[38;5;241;43m=\u001b[39;49m\u001b[38;5;28;43;01mTrue\u001b[39;49;00m\n\u001b[1;32m      5\u001b[0m \u001b[43m)\u001b[49m\n\u001b[1;32m      7\u001b[0m \u001b[38;5;28mprint\u001b[39m(\u001b[38;5;124mf\u001b[39m\u001b[38;5;124m\"\u001b[39m\u001b[38;5;124mSize of spikes array in MB: \u001b[39m\u001b[38;5;132;01m{\u001b[39;00mspikes\u001b[38;5;241m.\u001b[39mnbytes\u001b[38;5;250m \u001b[39m\u001b[38;5;241m/\u001b[39m\u001b[38;5;250m \u001b[39m(\u001b[38;5;241m1024\u001b[39m\u001b[38;5;250m \u001b[39m\u001b[38;5;241m*\u001b[39m\u001b[38;5;250m \u001b[39m\u001b[38;5;241m1024\u001b[39m)\u001b[38;5;132;01m:\u001b[39;00m\u001b[38;5;124m.2f\u001b[39m\u001b[38;5;132;01m}\u001b[39;00m\u001b[38;5;124m MB\u001b[39m\u001b[38;5;124m\"\u001b[39m)\n",
      "File \u001b[0;32m~/FC-GPFA/GLM.py:2617\u001b[0m, in \u001b[0;36mEIF_simulator\u001b[0;34m(std1, corr1, std2, corr2, ntrial, nneuron, conn, use_two_modes, return_current, return_trial_type)\u001b[0m\n\u001b[1;32m   2614\u001b[0m V[t,:] \u001b[38;5;241m=\u001b[39m V[t\u001b[38;5;241m-\u001b[39m\u001b[38;5;241m1\u001b[39m,:] \u001b[38;5;241m+\u001b[39m dV\n\u001b[1;32m   2616\u001b[0m spikes[t,:] \u001b[38;5;241m=\u001b[39m (V[t,:]\u001b[38;5;241m>\u001b[39m\u001b[38;5;241m=\u001b[39mVth)\u001b[38;5;241m.\u001b[39mastype(\u001b[38;5;28mint\u001b[39m)\n\u001b[0;32m-> 2617\u001b[0m I_syn[(t\u001b[38;5;241m+\u001b[39m\u001b[38;5;241m1\u001b[39m):(t\u001b[38;5;241m+\u001b[39mnsyn_func\u001b[38;5;241m+\u001b[39m\u001b[38;5;241m1\u001b[39m),:] \u001b[38;5;241m+\u001b[39m\u001b[38;5;241m=\u001b[39m \u001b[43mspikes\u001b[49m\u001b[43m[\u001b[49m\u001b[43mt\u001b[49m\u001b[43m:\u001b[49m\u001b[43m(\u001b[49m\u001b[43mt\u001b[49m\u001b[38;5;241;43m+\u001b[39;49m\u001b[38;5;241;43m1\u001b[39;49m\u001b[43m)\u001b[49m\u001b[43m,\u001b[49m\u001b[43m:\u001b[49m\u001b[43m]\u001b[49m\u001b[38;5;129;43m@J\u001b[39;49m\u001b[38;5;241m*\u001b[39msyn_func\n\u001b[1;32m   2619\u001b[0m in_ref \u001b[38;5;241m=\u001b[39m ((spikes[\u001b[38;5;28mmax\u001b[39m(\u001b[38;5;241m0\u001b[39m,t\u001b[38;5;241m-\u001b[39mntau_ref):(t\u001b[38;5;241m+\u001b[39m\u001b[38;5;241m1\u001b[39m),:]\u001b[38;5;241m.\u001b[39msum(axis\u001b[38;5;241m=\u001b[39m\u001b[38;5;241m0\u001b[39m))\u001b[38;5;241m>\u001b[39m\u001b[38;5;241m0\u001b[39m)\u001b[38;5;241m.\u001b[39mastype(\u001b[38;5;28mint\u001b[39m)\n\u001b[1;32m   2620\u001b[0m V[t,:] \u001b[38;5;241m+\u001b[39m\u001b[38;5;241m=\u001b[39m in_ref\u001b[38;5;241m*\u001b[39m(Vre\u001b[38;5;241m-\u001b[39mV[t,:])\n",
      "\u001b[0;31mKeyboardInterrupt\u001b[0m: "
     ]
    }
   ],
   "source": [
    "spikes, trial_type = GLM.EIF_simulator(\n",
    "    std1=10, corr1=0.0, std2=10, corr2=0.0, ntrial=2000, nneuron=100, conn=0.01,\n",
    "    use_two_modes=True,\n",
    "    return_trial_type=True\n",
    ")\n",
    "\n",
    "print(f\"Size of spikes array in MB: {spikes.nbytes / (1024 * 1024):.2f} MB\")\n"
   ]
  },
  {
   "cell_type": "code",
   "execution_count": null,
   "metadata": {},
   "outputs": [],
   "source": []
  },
  {
   "cell_type": "code",
   "execution_count": 12,
   "metadata": {},
   "outputs": [],
   "source": [
    "synthetic_dataloader = Simple_dataloader_from_spikes([spikes[:,:50,:], spikes[:,50:,:]], npadding=50, train_ratio=0.7, val_ratio=0.1, batch_size=64, verbose=True)"
   ]
  },
  {
   "cell_type": "code",
   "execution_count": 13,
   "metadata": {},
   "outputs": [
    {
     "name": "stdout",
     "output_type": "stream",
     "text": [
      "torch.Size([300, 100, 64])\n"
     ]
    }
   ],
   "source": [
    "for batch in synthetic_dataloader.train_loader:\n",
    "    print(batch['spike_trains'].shape)\n",
    "    break"
   ]
  },
  {
   "cell_type": "markdown",
   "metadata": {},
   "source": [
    "# Train a model"
   ]
  },
  {
   "cell_type": "markdown",
   "metadata": {},
   "source": [
    "Current problems:\n",
    "- Not stable! Run the code multiple times, the results are different. **Solved by temporal correlation penalty**\n",
    "\n",
    "Things I want to try:\n",
    "- see if the baseline looks good. **YES**\n",
    "- I want to get a clear two modes in t-sne plot, since the ground truth is two modes. **YES**\n",
    "- Play with hyperparameters, see what appect the results. **lr is still very important. Epoch is also important.**\n",
    "- Try make coupling effect weaker by setting initial value to be around zero. I don't want to see the coupling effect being too strong. **can be done by frozing Transformer encoder**\n",
    "- See how would overlapping penalty affect the results. overlapping_penalty=None: 0.2283\n",
    "overlapping_penalty=1e0: 0.2289. **but overlapping penalty makes coupling very small**\n",
    "- Try penalty temporal correlation. **Works great!**\n",
    "- Try not frozing Transformer encoder. **(a different dataset than the previous one) 0.2300 vs 0.2308. So Yes, frozing encoder**\n",
    "- Try cls token. **No, will lead to mode collapse**\n",
    "- compare with no f(z,t) but just f(t). The coupling effect should be much stronger. \n"
   ]
  },
  {
   "cell_type": "code",
   "execution_count": 14,
   "metadata": {},
   "outputs": [
    {
     "name": "stderr",
     "output_type": "stream",
     "text": [
      "/home/qix/anaconda3/envs/allen/lib/python3.9/site-packages/torch/nn/modules/transformer.py:379: UserWarning: enable_nested_tensor is True, but self.use_nested_tensor is False because encoder_layer.self_attn.num_heads is odd\n",
      "  warnings.warn(\n"
     ]
    },
    {
     "name": "stdout",
     "output_type": "stream",
     "text": [
      "Model initialized. Training on cuda\n",
      "Start training model with parameters: {'num_B_spline_basis': 50, 'downsample_factor': 10, 'transformer_num_layers': 2, 'transformer_d_model': 128, 'transformer_dim_feedforward': 512, 'transformer_vae_output_dim': 2, 'transformer_dropout': 0.0, 'transformer_nhead': 1, 'stimulus_nfactor': 1, 'stimulus_decoder_inter_dim_factor': 2, 'beta': 1.0, 'coupling_basis_peaks_max': 10, 'coupling_basis_num': 3, 'coupling_nsubspace': 1, 'use_self_coupling': True, 'K_sigma2': 1.0, 'K_tau': 100, 'coupling_strength_nlatent': 1, 'penalty_overlapping': 0.001, 'batch_size': 64, 'sample_latent': False, 'lr': 0.001, 'epoch_warm_up': 0, 'epoch_patience': 3, 'epoch_max': 200, 'tol': 1e-05, 'weight_decay': 0.0, 'lr_transformer': 0.0001, 'lr_sti': 0.01, 'lr_cp': 0.01}\n"
     ]
    },
    {
     "name": "stderr",
     "output_type": "stream",
     "text": [
      "100%|██████████| 22/22 [00:04<00:00,  4.91it/s]\n",
      "100%|██████████| 4/4 [00:00<00:00, 200.15it/s]\n"
     ]
    },
    {
     "name": "stdout",
     "output_type": "stream",
     "text": [
      "Epoch 1/200, Train Loss: 0.9300, Test Loss: 0.7921\n"
     ]
    },
    {
     "name": "stderr",
     "output_type": "stream",
     "text": [
      "100%|██████████| 22/22 [00:00<00:00, 136.09it/s]\n",
      "100%|██████████| 4/4 [00:00<00:00, 305.60it/s]\n"
     ]
    },
    {
     "name": "stdout",
     "output_type": "stream",
     "text": [
      "Epoch 2/200, Train Loss: 0.6642, Test Loss: 0.5305\n"
     ]
    },
    {
     "name": "stderr",
     "output_type": "stream",
     "text": [
      "100%|██████████| 22/22 [00:00<00:00, 154.18it/s]\n",
      "100%|██████████| 4/4 [00:00<00:00, 299.09it/s]\n"
     ]
    },
    {
     "name": "stdout",
     "output_type": "stream",
     "text": [
      "Epoch 3/200, Train Loss: 0.4383, Test Loss: 0.3575\n"
     ]
    },
    {
     "name": "stderr",
     "output_type": "stream",
     "text": [
      "100%|██████████| 22/22 [00:00<00:00, 164.95it/s]\n",
      "100%|██████████| 4/4 [00:00<00:00, 292.98it/s]\n"
     ]
    },
    {
     "name": "stdout",
     "output_type": "stream",
     "text": [
      "Epoch 4/200, Train Loss: 0.3165, Test Loss: 0.2850\n"
     ]
    },
    {
     "name": "stderr",
     "output_type": "stream",
     "text": [
      "100%|██████████| 22/22 [00:00<00:00, 164.45it/s]\n",
      "100%|██████████| 4/4 [00:00<00:00, 301.50it/s]\n"
     ]
    },
    {
     "name": "stdout",
     "output_type": "stream",
     "text": [
      "Epoch 5/200, Train Loss: 0.2699, Test Loss: 0.2589\n"
     ]
    },
    {
     "name": "stderr",
     "output_type": "stream",
     "text": [
      "100%|██████████| 22/22 [00:00<00:00, 178.93it/s]\n",
      "100%|██████████| 4/4 [00:00<00:00, 307.52it/s]\n"
     ]
    },
    {
     "name": "stdout",
     "output_type": "stream",
     "text": [
      "Epoch 6/200, Train Loss: 0.2524, Test Loss: 0.2483\n"
     ]
    },
    {
     "name": "stderr",
     "output_type": "stream",
     "text": [
      "100%|██████████| 22/22 [00:00<00:00, 164.01it/s]\n",
      "100%|██████████| 4/4 [00:00<00:00, 299.07it/s]\n"
     ]
    },
    {
     "name": "stdout",
     "output_type": "stream",
     "text": [
      "Epoch 7/200, Train Loss: 0.2449, Test Loss: 0.2433\n"
     ]
    },
    {
     "name": "stderr",
     "output_type": "stream",
     "text": [
      "100%|██████████| 22/22 [00:00<00:00, 152.31it/s]\n",
      "100%|██████████| 4/4 [00:00<00:00, 302.54it/s]\n"
     ]
    },
    {
     "name": "stdout",
     "output_type": "stream",
     "text": [
      "Epoch 8/200, Train Loss: 0.2412, Test Loss: 0.2407\n"
     ]
    },
    {
     "name": "stderr",
     "output_type": "stream",
     "text": [
      "100%|██████████| 22/22 [00:00<00:00, 173.88it/s]\n",
      "100%|██████████| 4/4 [00:00<00:00, 269.80it/s]\n"
     ]
    },
    {
     "name": "stdout",
     "output_type": "stream",
     "text": [
      "Epoch 9/200, Train Loss: 0.2392, Test Loss: 0.2393\n"
     ]
    },
    {
     "name": "stderr",
     "output_type": "stream",
     "text": [
      "100%|██████████| 22/22 [00:00<00:00, 192.36it/s]\n",
      "100%|██████████| 4/4 [00:00<00:00, 322.04it/s]\n"
     ]
    },
    {
     "name": "stdout",
     "output_type": "stream",
     "text": [
      "Epoch 10/200, Train Loss: 0.2380, Test Loss: 0.2384\n"
     ]
    },
    {
     "name": "stderr",
     "output_type": "stream",
     "text": [
      "100%|██████████| 22/22 [00:00<00:00, 138.06it/s]\n",
      "100%|██████████| 4/4 [00:00<00:00, 303.00it/s]\n"
     ]
    },
    {
     "name": "stdout",
     "output_type": "stream",
     "text": [
      "Epoch 11/200, Train Loss: 0.2372, Test Loss: 0.2378\n"
     ]
    },
    {
     "name": "stderr",
     "output_type": "stream",
     "text": [
      "100%|██████████| 22/22 [00:00<00:00, 159.25it/s]\n",
      "100%|██████████| 4/4 [00:00<00:00, 302.83it/s]\n"
     ]
    },
    {
     "name": "stdout",
     "output_type": "stream",
     "text": [
      "Epoch 12/200, Train Loss: 0.2367, Test Loss: 0.2374\n"
     ]
    },
    {
     "name": "stderr",
     "output_type": "stream",
     "text": [
      "100%|██████████| 22/22 [00:00<00:00, 196.40it/s]\n",
      "100%|██████████| 4/4 [00:00<00:00, 267.05it/s]\n"
     ]
    },
    {
     "name": "stdout",
     "output_type": "stream",
     "text": [
      "Epoch 13/200, Train Loss: 0.2364, Test Loss: 0.2371\n"
     ]
    },
    {
     "name": "stderr",
     "output_type": "stream",
     "text": [
      "100%|██████████| 22/22 [00:00<00:00, 96.52it/s]\n",
      "100%|██████████| 4/4 [00:00<00:00, 165.50it/s]\n"
     ]
    },
    {
     "name": "stdout",
     "output_type": "stream",
     "text": [
      "Epoch 14/200, Train Loss: 0.2362, Test Loss: 0.2370\n"
     ]
    },
    {
     "name": "stderr",
     "output_type": "stream",
     "text": [
      "100%|██████████| 22/22 [00:00<00:00, 134.12it/s]\n",
      "100%|██████████| 4/4 [00:00<00:00, 304.95it/s]\n"
     ]
    },
    {
     "name": "stdout",
     "output_type": "stream",
     "text": [
      "Epoch 15/200, Train Loss: 0.2361, Test Loss: 0.2368\n"
     ]
    },
    {
     "name": "stderr",
     "output_type": "stream",
     "text": [
      "100%|██████████| 22/22 [00:00<00:00, 198.88it/s]\n",
      "100%|██████████| 4/4 [00:00<00:00, 277.62it/s]\n"
     ]
    },
    {
     "name": "stdout",
     "output_type": "stream",
     "text": [
      "Epoch 16/200, Train Loss: 0.2359, Test Loss: 0.2367\n"
     ]
    },
    {
     "name": "stderr",
     "output_type": "stream",
     "text": [
      "100%|██████████| 22/22 [00:00<00:00, 208.41it/s]\n",
      "100%|██████████| 4/4 [00:00<00:00, 316.55it/s]\n"
     ]
    },
    {
     "name": "stdout",
     "output_type": "stream",
     "text": [
      "Epoch 17/200, Train Loss: 0.2359, Test Loss: 0.2367\n"
     ]
    },
    {
     "name": "stderr",
     "output_type": "stream",
     "text": [
      "100%|██████████| 22/22 [00:00<00:00, 195.54it/s]\n",
      "100%|██████████| 4/4 [00:00<00:00, 263.15it/s]\n"
     ]
    },
    {
     "name": "stdout",
     "output_type": "stream",
     "text": [
      "Epoch 18/200, Train Loss: 0.2358, Test Loss: 0.2366\n"
     ]
    },
    {
     "name": "stderr",
     "output_type": "stream",
     "text": [
      "100%|██████████| 22/22 [00:00<00:00, 144.09it/s]\n",
      "100%|██████████| 4/4 [00:00<00:00, 277.71it/s]\n"
     ]
    },
    {
     "name": "stdout",
     "output_type": "stream",
     "text": [
      "Epoch 19/200, Train Loss: 0.2358, Test Loss: 0.2366\n"
     ]
    },
    {
     "name": "stderr",
     "output_type": "stream",
     "text": [
      "100%|██████████| 22/22 [00:00<00:00, 174.82it/s]\n",
      "100%|██████████| 4/4 [00:00<00:00, 274.00it/s]\n"
     ]
    },
    {
     "name": "stdout",
     "output_type": "stream",
     "text": [
      "Epoch 20/200, Train Loss: 0.2357, Test Loss: 0.2366\n"
     ]
    },
    {
     "name": "stderr",
     "output_type": "stream",
     "text": [
      "100%|██████████| 22/22 [00:00<00:00, 171.63it/s]\n",
      "100%|██████████| 4/4 [00:00<00:00, 305.59it/s]\n"
     ]
    },
    {
     "name": "stdout",
     "output_type": "stream",
     "text": [
      "Epoch 21/200, Train Loss: 0.2357, Test Loss: 0.2365\n"
     ]
    },
    {
     "name": "stderr",
     "output_type": "stream",
     "text": [
      "100%|██████████| 22/22 [00:00<00:00, 140.94it/s]\n",
      "100%|██████████| 4/4 [00:00<00:00, 295.50it/s]\n"
     ]
    },
    {
     "name": "stdout",
     "output_type": "stream",
     "text": [
      "Epoch 22/200, Train Loss: 0.2357, Test Loss: 0.2365\n"
     ]
    },
    {
     "name": "stderr",
     "output_type": "stream",
     "text": [
      "100%|██████████| 22/22 [00:00<00:00, 167.74it/s]\n",
      "100%|██████████| 4/4 [00:00<00:00, 298.45it/s]\n"
     ]
    },
    {
     "name": "stdout",
     "output_type": "stream",
     "text": [
      "Epoch 23/200, Train Loss: 0.2357, Test Loss: 0.2365\n"
     ]
    },
    {
     "name": "stderr",
     "output_type": "stream",
     "text": [
      "100%|██████████| 22/22 [00:00<00:00, 133.27it/s]\n",
      "100%|██████████| 4/4 [00:00<00:00, 298.43it/s]\n"
     ]
    },
    {
     "name": "stdout",
     "output_type": "stream",
     "text": [
      "Epoch 24/200, Train Loss: 0.2357, Test Loss: 0.2365\n"
     ]
    },
    {
     "name": "stderr",
     "output_type": "stream",
     "text": [
      "100%|██████████| 22/22 [00:00<00:00, 147.64it/s]\n",
      "100%|██████████| 4/4 [00:00<00:00, 288.08it/s]\n"
     ]
    },
    {
     "name": "stdout",
     "output_type": "stream",
     "text": [
      "Epoch 25/200, Train Loss: 0.2356, Test Loss: 0.2365\n"
     ]
    },
    {
     "name": "stderr",
     "output_type": "stream",
     "text": [
      "100%|██████████| 22/22 [00:00<00:00, 133.56it/s]\n",
      "100%|██████████| 4/4 [00:00<00:00, 294.53it/s]\n"
     ]
    },
    {
     "name": "stdout",
     "output_type": "stream",
     "text": [
      "Epoch 26/200, Train Loss: 0.2356, Test Loss: 0.2365\n",
      "No improvement in Test Loss for 1 epoch(s).\n",
      "Current Best Test Loss: 0.2365\n"
     ]
    },
    {
     "name": "stderr",
     "output_type": "stream",
     "text": [
      "100%|██████████| 22/22 [00:00<00:00, 176.72it/s]\n",
      "100%|██████████| 4/4 [00:00<00:00, 290.57it/s]\n"
     ]
    },
    {
     "name": "stdout",
     "output_type": "stream",
     "text": [
      "Epoch 27/200, Train Loss: 0.2356, Test Loss: 0.2365\n"
     ]
    },
    {
     "name": "stderr",
     "output_type": "stream",
     "text": [
      "100%|██████████| 22/22 [00:00<00:00, 119.49it/s]\n",
      "100%|██████████| 4/4 [00:00<00:00, 279.34it/s]\n"
     ]
    },
    {
     "name": "stdout",
     "output_type": "stream",
     "text": [
      "Epoch 28/200, Train Loss: 0.2356, Test Loss: 0.2365\n",
      "No improvement in Test Loss for 1 epoch(s).\n",
      "Current Best Test Loss: 0.2365\n"
     ]
    },
    {
     "name": "stderr",
     "output_type": "stream",
     "text": [
      "100%|██████████| 22/22 [00:00<00:00, 187.74it/s]\n",
      "100%|██████████| 4/4 [00:00<00:00, 277.37it/s]\n"
     ]
    },
    {
     "name": "stdout",
     "output_type": "stream",
     "text": [
      "Epoch 29/200, Train Loss: 0.2356, Test Loss: 0.2365\n"
     ]
    },
    {
     "name": "stderr",
     "output_type": "stream",
     "text": [
      "100%|██████████| 22/22 [00:00<00:00, 155.40it/s]\n",
      "100%|██████████| 4/4 [00:00<00:00, 298.69it/s]\n"
     ]
    },
    {
     "name": "stdout",
     "output_type": "stream",
     "text": [
      "Epoch 30/200, Train Loss: 0.2356, Test Loss: 0.2364\n",
      "No improvement in Test Loss for 1 epoch(s).\n",
      "Current Best Test Loss: 0.2365\n"
     ]
    },
    {
     "name": "stderr",
     "output_type": "stream",
     "text": [
      "100%|██████████| 22/22 [00:00<00:00, 190.91it/s]\n",
      "100%|██████████| 4/4 [00:00<00:00, 254.29it/s]\n"
     ]
    },
    {
     "name": "stdout",
     "output_type": "stream",
     "text": [
      "Epoch 31/200, Train Loss: 0.2356, Test Loss: 0.2364\n"
     ]
    },
    {
     "name": "stderr",
     "output_type": "stream",
     "text": [
      "100%|██████████| 22/22 [00:00<00:00, 142.58it/s]\n",
      "100%|██████████| 4/4 [00:00<00:00, 223.21it/s]\n"
     ]
    },
    {
     "name": "stdout",
     "output_type": "stream",
     "text": [
      "Epoch 32/200, Train Loss: 0.2356, Test Loss: 0.2364\n",
      "No improvement in Test Loss for 1 epoch(s).\n",
      "Current Best Test Loss: 0.2364\n"
     ]
    },
    {
     "name": "stderr",
     "output_type": "stream",
     "text": [
      "100%|██████████| 22/22 [00:00<00:00, 164.74it/s]\n",
      "100%|██████████| 4/4 [00:00<00:00, 293.62it/s]\n"
     ]
    },
    {
     "name": "stdout",
     "output_type": "stream",
     "text": [
      "Epoch 33/200, Train Loss: 0.2356, Test Loss: 0.2364\n"
     ]
    },
    {
     "name": "stderr",
     "output_type": "stream",
     "text": [
      "100%|██████████| 22/22 [00:00<00:00, 95.59it/s] \n",
      "100%|██████████| 4/4 [00:00<00:00, 219.41it/s]\n"
     ]
    },
    {
     "name": "stdout",
     "output_type": "stream",
     "text": [
      "Epoch 34/200, Train Loss: 0.2356, Test Loss: 0.2364\n",
      "No improvement in Test Loss for 1 epoch(s).\n",
      "Current Best Test Loss: 0.2364\n"
     ]
    },
    {
     "name": "stderr",
     "output_type": "stream",
     "text": [
      "100%|██████████| 22/22 [00:00<00:00, 142.93it/s]\n",
      "100%|██████████| 4/4 [00:00<00:00, 182.96it/s]\n"
     ]
    },
    {
     "name": "stdout",
     "output_type": "stream",
     "text": [
      "Epoch 35/200, Train Loss: 0.2356, Test Loss: 0.2364\n"
     ]
    },
    {
     "name": "stderr",
     "output_type": "stream",
     "text": [
      "100%|██████████| 22/22 [00:00<00:00, 151.19it/s]\n",
      "100%|██████████| 4/4 [00:00<00:00, 174.41it/s]\n"
     ]
    },
    {
     "name": "stdout",
     "output_type": "stream",
     "text": [
      "Epoch 36/200, Train Loss: 0.2356, Test Loss: 0.2364\n",
      "No improvement in Test Loss for 1 epoch(s).\n",
      "Current Best Test Loss: 0.2364\n"
     ]
    },
    {
     "name": "stderr",
     "output_type": "stream",
     "text": [
      "100%|██████████| 22/22 [00:00<00:00, 172.40it/s]\n",
      "100%|██████████| 4/4 [00:00<00:00, 271.58it/s]\n"
     ]
    },
    {
     "name": "stdout",
     "output_type": "stream",
     "text": [
      "Epoch 37/200, Train Loss: 0.2356, Test Loss: 0.2364\n"
     ]
    },
    {
     "name": "stderr",
     "output_type": "stream",
     "text": [
      "100%|██████████| 22/22 [00:00<00:00, 171.54it/s]\n",
      "100%|██████████| 4/4 [00:00<00:00, 291.34it/s]\n"
     ]
    },
    {
     "name": "stdout",
     "output_type": "stream",
     "text": [
      "Epoch 38/200, Train Loss: 0.2356, Test Loss: 0.2364\n",
      "No improvement in Test Loss for 1 epoch(s).\n",
      "Current Best Test Loss: 0.2364\n"
     ]
    },
    {
     "name": "stderr",
     "output_type": "stream",
     "text": [
      "100%|██████████| 22/22 [00:00<00:00, 199.40it/s]\n",
      "100%|██████████| 4/4 [00:00<00:00, 298.94it/s]\n"
     ]
    },
    {
     "name": "stdout",
     "output_type": "stream",
     "text": [
      "Epoch 39/200, Train Loss: 0.2355, Test Loss: 0.2364\n"
     ]
    },
    {
     "name": "stderr",
     "output_type": "stream",
     "text": [
      "100%|██████████| 22/22 [00:00<00:00, 124.67it/s]\n",
      "100%|██████████| 4/4 [00:00<00:00, 225.37it/s]\n"
     ]
    },
    {
     "name": "stdout",
     "output_type": "stream",
     "text": [
      "Epoch 40/200, Train Loss: 0.2355, Test Loss: 0.2364\n",
      "No improvement in Test Loss for 1 epoch(s).\n",
      "Current Best Test Loss: 0.2364\n"
     ]
    },
    {
     "name": "stderr",
     "output_type": "stream",
     "text": [
      "100%|██████████| 22/22 [00:00<00:00, 188.49it/s]\n",
      "100%|██████████| 4/4 [00:00<00:00, 261.90it/s]\n"
     ]
    },
    {
     "name": "stdout",
     "output_type": "stream",
     "text": [
      "Epoch 41/200, Train Loss: 0.2355, Test Loss: 0.2364\n"
     ]
    },
    {
     "name": "stderr",
     "output_type": "stream",
     "text": [
      "100%|██████████| 22/22 [00:00<00:00, 129.96it/s]\n",
      "100%|██████████| 4/4 [00:00<00:00, 269.33it/s]\n"
     ]
    },
    {
     "name": "stdout",
     "output_type": "stream",
     "text": [
      "Epoch 42/200, Train Loss: 0.2355, Test Loss: 0.2364\n",
      "No improvement in Test Loss for 1 epoch(s).\n",
      "Current Best Test Loss: 0.2364\n"
     ]
    },
    {
     "name": "stderr",
     "output_type": "stream",
     "text": [
      "100%|██████████| 22/22 [00:00<00:00, 145.22it/s]\n",
      "100%|██████████| 4/4 [00:00<00:00, 260.88it/s]\n"
     ]
    },
    {
     "name": "stdout",
     "output_type": "stream",
     "text": [
      "Epoch 43/200, Train Loss: 0.2355, Test Loss: 0.2364\n"
     ]
    },
    {
     "name": "stderr",
     "output_type": "stream",
     "text": [
      "100%|██████████| 22/22 [00:00<00:00, 154.20it/s]\n",
      "100%|██████████| 4/4 [00:00<00:00, 214.19it/s]\n"
     ]
    },
    {
     "name": "stdout",
     "output_type": "stream",
     "text": [
      "Epoch 44/200, Train Loss: 0.2355, Test Loss: 0.2364\n",
      "No improvement in Test Loss for 1 epoch(s).\n",
      "Current Best Test Loss: 0.2364\n"
     ]
    },
    {
     "name": "stderr",
     "output_type": "stream",
     "text": [
      "100%|██████████| 22/22 [00:00<00:00, 156.05it/s]\n",
      "100%|██████████| 4/4 [00:00<00:00, 147.82it/s]\n"
     ]
    },
    {
     "name": "stdout",
     "output_type": "stream",
     "text": [
      "Epoch 45/200, Train Loss: 0.2355, Test Loss: 0.2364\n"
     ]
    },
    {
     "name": "stderr",
     "output_type": "stream",
     "text": [
      "100%|██████████| 22/22 [00:00<00:00, 125.15it/s]\n",
      "100%|██████████| 4/4 [00:00<00:00, 295.83it/s]\n"
     ]
    },
    {
     "name": "stdout",
     "output_type": "stream",
     "text": [
      "Epoch 46/200, Train Loss: 0.2355, Test Loss: 0.2364\n",
      "No improvement in Test Loss for 1 epoch(s).\n",
      "Current Best Test Loss: 0.2364\n"
     ]
    },
    {
     "name": "stderr",
     "output_type": "stream",
     "text": [
      "100%|██████████| 22/22 [00:00<00:00, 139.51it/s]\n",
      "100%|██████████| 4/4 [00:00<00:00, 193.02it/s]\n"
     ]
    },
    {
     "name": "stdout",
     "output_type": "stream",
     "text": [
      "Epoch 47/200, Train Loss: 0.2355, Test Loss: 0.2364\n"
     ]
    },
    {
     "name": "stderr",
     "output_type": "stream",
     "text": [
      "100%|██████████| 22/22 [00:00<00:00, 133.99it/s]\n",
      "100%|██████████| 4/4 [00:00<00:00, 247.24it/s]\n"
     ]
    },
    {
     "name": "stdout",
     "output_type": "stream",
     "text": [
      "Epoch 48/200, Train Loss: 0.2355, Test Loss: 0.2364\n",
      "No improvement in Test Loss for 1 epoch(s).\n",
      "Current Best Test Loss: 0.2364\n"
     ]
    },
    {
     "name": "stderr",
     "output_type": "stream",
     "text": [
      "100%|██████████| 22/22 [00:00<00:00, 176.44it/s]\n",
      "100%|██████████| 4/4 [00:00<00:00, 294.88it/s]\n"
     ]
    },
    {
     "name": "stdout",
     "output_type": "stream",
     "text": [
      "Epoch 49/200, Train Loss: 0.2355, Test Loss: 0.2363\n",
      "No improvement in Test Loss for 2 epoch(s).\n",
      "Current Best Test Loss: 0.2364\n"
     ]
    },
    {
     "name": "stderr",
     "output_type": "stream",
     "text": [
      "100%|██████████| 22/22 [00:00<00:00, 201.73it/s]\n",
      "100%|██████████| 4/4 [00:00<00:00, 284.62it/s]\n"
     ]
    },
    {
     "name": "stdout",
     "output_type": "stream",
     "text": [
      "Epoch 50/200, Train Loss: 0.2355, Test Loss: 0.2363\n"
     ]
    },
    {
     "name": "stderr",
     "output_type": "stream",
     "text": [
      "100%|██████████| 22/22 [00:00<00:00, 183.45it/s]\n",
      "100%|██████████| 4/4 [00:00<00:00, 308.96it/s]\n"
     ]
    },
    {
     "name": "stdout",
     "output_type": "stream",
     "text": [
      "Epoch 51/200, Train Loss: 0.2355, Test Loss: 0.2363\n",
      "No improvement in Test Loss for 1 epoch(s).\n",
      "Current Best Test Loss: 0.2363\n"
     ]
    },
    {
     "name": "stderr",
     "output_type": "stream",
     "text": [
      "100%|██████████| 22/22 [00:00<00:00, 202.76it/s]\n",
      "100%|██████████| 4/4 [00:00<00:00, 329.92it/s]\n"
     ]
    },
    {
     "name": "stdout",
     "output_type": "stream",
     "text": [
      "Epoch 52/200, Train Loss: 0.2355, Test Loss: 0.2363\n",
      "No improvement in Test Loss for 2 epoch(s).\n",
      "Current Best Test Loss: 0.2363\n"
     ]
    },
    {
     "name": "stderr",
     "output_type": "stream",
     "text": [
      "100%|██████████| 22/22 [00:00<00:00, 202.40it/s]\n",
      "100%|██████████| 4/4 [00:00<00:00, 207.58it/s]\n"
     ]
    },
    {
     "name": "stdout",
     "output_type": "stream",
     "text": [
      "Epoch 53/200, Train Loss: 0.2355, Test Loss: 0.2363\n"
     ]
    },
    {
     "name": "stderr",
     "output_type": "stream",
     "text": [
      "100%|██████████| 22/22 [00:00<00:00, 131.96it/s]\n",
      "100%|██████████| 4/4 [00:00<00:00, 285.95it/s]\n"
     ]
    },
    {
     "name": "stdout",
     "output_type": "stream",
     "text": [
      "Epoch 54/200, Train Loss: 0.2355, Test Loss: 0.2363\n",
      "No improvement in Test Loss for 1 epoch(s).\n",
      "Current Best Test Loss: 0.2363\n"
     ]
    },
    {
     "name": "stderr",
     "output_type": "stream",
     "text": [
      "100%|██████████| 22/22 [00:00<00:00, 168.43it/s]\n",
      "100%|██████████| 4/4 [00:00<00:00, 262.05it/s]\n"
     ]
    },
    {
     "name": "stdout",
     "output_type": "stream",
     "text": [
      "Epoch 55/200, Train Loss: 0.2355, Test Loss: 0.2363\n",
      "No improvement in Test Loss for 2 epoch(s).\n",
      "Current Best Test Loss: 0.2363\n"
     ]
    },
    {
     "name": "stderr",
     "output_type": "stream",
     "text": [
      "100%|██████████| 22/22 [00:00<00:00, 192.18it/s]\n",
      "100%|██████████| 4/4 [00:00<00:00, 292.98it/s]\n"
     ]
    },
    {
     "name": "stdout",
     "output_type": "stream",
     "text": [
      "Epoch 56/200, Train Loss: 0.2355, Test Loss: 0.2363\n"
     ]
    },
    {
     "name": "stderr",
     "output_type": "stream",
     "text": [
      "100%|██████████| 22/22 [00:00<00:00, 158.87it/s]\n",
      "100%|██████████| 4/4 [00:00<00:00, 268.24it/s]\n"
     ]
    },
    {
     "name": "stdout",
     "output_type": "stream",
     "text": [
      "Epoch 57/200, Train Loss: 0.2355, Test Loss: 0.2363\n",
      "No improvement in Test Loss for 1 epoch(s).\n",
      "Current Best Test Loss: 0.2363\n"
     ]
    },
    {
     "name": "stderr",
     "output_type": "stream",
     "text": [
      "100%|██████████| 22/22 [00:00<00:00, 209.25it/s]\n",
      "100%|██████████| 4/4 [00:00<00:00, 329.83it/s]\n"
     ]
    },
    {
     "name": "stdout",
     "output_type": "stream",
     "text": [
      "Epoch 58/200, Train Loss: 0.2355, Test Loss: 0.2363\n",
      "No improvement in Test Loss for 2 epoch(s).\n",
      "Current Best Test Loss: 0.2363\n"
     ]
    },
    {
     "name": "stderr",
     "output_type": "stream",
     "text": [
      "100%|██████████| 22/22 [00:00<00:00, 211.40it/s]\n",
      "100%|██████████| 4/4 [00:00<00:00, 319.31it/s]\n"
     ]
    },
    {
     "name": "stdout",
     "output_type": "stream",
     "text": [
      "Epoch 59/200, Train Loss: 0.2354, Test Loss: 0.2363\n"
     ]
    },
    {
     "name": "stderr",
     "output_type": "stream",
     "text": [
      "100%|██████████| 22/22 [00:00<00:00, 184.49it/s]\n",
      "100%|██████████| 4/4 [00:00<00:00, 314.75it/s]\n"
     ]
    },
    {
     "name": "stdout",
     "output_type": "stream",
     "text": [
      "Epoch 60/200, Train Loss: 0.2354, Test Loss: 0.2363\n",
      "No improvement in Test Loss for 1 epoch(s).\n",
      "Current Best Test Loss: 0.2363\n"
     ]
    },
    {
     "name": "stderr",
     "output_type": "stream",
     "text": [
      "100%|██████████| 22/22 [00:00<00:00, 201.55it/s]\n",
      "100%|██████████| 4/4 [00:00<00:00, 321.80it/s]\n"
     ]
    },
    {
     "name": "stdout",
     "output_type": "stream",
     "text": [
      "Epoch 61/200, Train Loss: 0.2354, Test Loss: 0.2363\n",
      "No improvement in Test Loss for 2 epoch(s).\n",
      "Current Best Test Loss: 0.2363\n"
     ]
    },
    {
     "name": "stderr",
     "output_type": "stream",
     "text": [
      "100%|██████████| 22/22 [00:00<00:00, 196.62it/s]\n",
      "100%|██████████| 4/4 [00:00<00:00, 285.13it/s]\n"
     ]
    },
    {
     "name": "stdout",
     "output_type": "stream",
     "text": [
      "Epoch 62/200, Train Loss: 0.2354, Test Loss: 0.2363\n"
     ]
    },
    {
     "name": "stderr",
     "output_type": "stream",
     "text": [
      "100%|██████████| 22/22 [00:00<00:00, 171.03it/s]\n",
      "100%|██████████| 4/4 [00:00<00:00, 301.28it/s]\n"
     ]
    },
    {
     "name": "stdout",
     "output_type": "stream",
     "text": [
      "Epoch 63/200, Train Loss: 0.2354, Test Loss: 0.2363\n",
      "No improvement in Test Loss for 1 epoch(s).\n",
      "Current Best Test Loss: 0.2363\n"
     ]
    },
    {
     "name": "stderr",
     "output_type": "stream",
     "text": [
      "100%|██████████| 22/22 [00:00<00:00, 201.63it/s]\n",
      "100%|██████████| 4/4 [00:00<00:00, 303.64it/s]\n"
     ]
    },
    {
     "name": "stdout",
     "output_type": "stream",
     "text": [
      "Epoch 64/200, Train Loss: 0.2354, Test Loss: 0.2363\n",
      "No improvement in Test Loss for 2 epoch(s).\n",
      "Current Best Test Loss: 0.2363\n"
     ]
    },
    {
     "name": "stderr",
     "output_type": "stream",
     "text": [
      "100%|██████████| 22/22 [00:00<00:00, 200.10it/s]\n",
      "100%|██████████| 4/4 [00:00<00:00, 303.56it/s]\n"
     ]
    },
    {
     "name": "stdout",
     "output_type": "stream",
     "text": [
      "Epoch 65/200, Train Loss: 0.2354, Test Loss: 0.2363\n"
     ]
    },
    {
     "name": "stderr",
     "output_type": "stream",
     "text": [
      "100%|██████████| 22/22 [00:00<00:00, 176.21it/s]\n",
      "100%|██████████| 4/4 [00:00<00:00, 298.53it/s]\n"
     ]
    },
    {
     "name": "stdout",
     "output_type": "stream",
     "text": [
      "Epoch 66/200, Train Loss: 0.2354, Test Loss: 0.2363\n",
      "No improvement in Test Loss for 1 epoch(s).\n",
      "Current Best Test Loss: 0.2363\n"
     ]
    },
    {
     "name": "stderr",
     "output_type": "stream",
     "text": [
      "100%|██████████| 22/22 [00:00<00:00, 197.17it/s]\n",
      "100%|██████████| 4/4 [00:00<00:00, 292.81it/s]\n"
     ]
    },
    {
     "name": "stdout",
     "output_type": "stream",
     "text": [
      "Epoch 67/200, Train Loss: 0.2354, Test Loss: 0.2363\n",
      "No improvement in Test Loss for 2 epoch(s).\n",
      "Current Best Test Loss: 0.2363\n"
     ]
    },
    {
     "name": "stderr",
     "output_type": "stream",
     "text": [
      "100%|██████████| 22/22 [00:00<00:00, 195.80it/s]\n",
      "100%|██████████| 4/4 [00:00<00:00, 294.16it/s]\n"
     ]
    },
    {
     "name": "stdout",
     "output_type": "stream",
     "text": [
      "Epoch 68/200, Train Loss: 0.2354, Test Loss: 0.2363\n"
     ]
    },
    {
     "name": "stderr",
     "output_type": "stream",
     "text": [
      "100%|██████████| 22/22 [00:00<00:00, 162.08it/s]\n",
      "100%|██████████| 4/4 [00:00<00:00, 313.53it/s]\n"
     ]
    },
    {
     "name": "stdout",
     "output_type": "stream",
     "text": [
      "Epoch 69/200, Train Loss: 0.2354, Test Loss: 0.2363\n",
      "No improvement in Test Loss for 1 epoch(s).\n",
      "Current Best Test Loss: 0.2363\n"
     ]
    },
    {
     "name": "stderr",
     "output_type": "stream",
     "text": [
      "100%|██████████| 22/22 [00:00<00:00, 210.78it/s]\n",
      "100%|██████████| 4/4 [00:00<00:00, 322.36it/s]\n"
     ]
    },
    {
     "name": "stdout",
     "output_type": "stream",
     "text": [
      "Epoch 70/200, Train Loss: 0.2354, Test Loss: 0.2363\n",
      "No improvement in Test Loss for 2 epoch(s).\n",
      "Current Best Test Loss: 0.2363\n"
     ]
    },
    {
     "name": "stderr",
     "output_type": "stream",
     "text": [
      "100%|██████████| 22/22 [00:00<00:00, 211.71it/s]\n",
      "100%|██████████| 4/4 [00:00<00:00, 301.17it/s]\n"
     ]
    },
    {
     "name": "stdout",
     "output_type": "stream",
     "text": [
      "Epoch 71/200, Train Loss: 0.2354, Test Loss: 0.2363\n"
     ]
    },
    {
     "name": "stderr",
     "output_type": "stream",
     "text": [
      "100%|██████████| 22/22 [00:00<00:00, 160.59it/s]\n",
      "100%|██████████| 4/4 [00:00<00:00, 303.85it/s]\n"
     ]
    },
    {
     "name": "stdout",
     "output_type": "stream",
     "text": [
      "Epoch 72/200, Train Loss: 0.2354, Test Loss: 0.2362\n",
      "No improvement in Test Loss for 1 epoch(s).\n",
      "Current Best Test Loss: 0.2363\n"
     ]
    },
    {
     "name": "stderr",
     "output_type": "stream",
     "text": [
      "100%|██████████| 22/22 [00:00<00:00, 195.49it/s]\n",
      "100%|██████████| 4/4 [00:00<00:00, 308.30it/s]\n"
     ]
    },
    {
     "name": "stdout",
     "output_type": "stream",
     "text": [
      "Epoch 73/200, Train Loss: 0.2354, Test Loss: 0.2362\n",
      "No improvement in Test Loss for 2 epoch(s).\n",
      "Current Best Test Loss: 0.2363\n"
     ]
    },
    {
     "name": "stderr",
     "output_type": "stream",
     "text": [
      "100%|██████████| 22/22 [00:00<00:00, 207.42it/s]\n",
      "100%|██████████| 4/4 [00:00<00:00, 312.01it/s]\n"
     ]
    },
    {
     "name": "stdout",
     "output_type": "stream",
     "text": [
      "Epoch 74/200, Train Loss: 0.2354, Test Loss: 0.2362\n"
     ]
    },
    {
     "name": "stderr",
     "output_type": "stream",
     "text": [
      "100%|██████████| 22/22 [00:00<00:00, 157.22it/s]\n",
      "100%|██████████| 4/4 [00:00<00:00, 307.78it/s]\n"
     ]
    },
    {
     "name": "stdout",
     "output_type": "stream",
     "text": [
      "Epoch 75/200, Train Loss: 0.2354, Test Loss: 0.2362\n",
      "No improvement in Test Loss for 1 epoch(s).\n",
      "Current Best Test Loss: 0.2362\n"
     ]
    },
    {
     "name": "stderr",
     "output_type": "stream",
     "text": [
      "100%|██████████| 22/22 [00:00<00:00, 198.34it/s]\n",
      "100%|██████████| 4/4 [00:00<00:00, 312.82it/s]\n"
     ]
    },
    {
     "name": "stdout",
     "output_type": "stream",
     "text": [
      "Epoch 76/200, Train Loss: 0.2354, Test Loss: 0.2362\n",
      "No improvement in Test Loss for 2 epoch(s).\n",
      "Current Best Test Loss: 0.2362\n"
     ]
    },
    {
     "name": "stderr",
     "output_type": "stream",
     "text": [
      "100%|██████████| 22/22 [00:00<00:00, 196.56it/s]\n",
      "100%|██████████| 4/4 [00:00<00:00, 301.58it/s]\n"
     ]
    },
    {
     "name": "stdout",
     "output_type": "stream",
     "text": [
      "Epoch 77/200, Train Loss: 0.2354, Test Loss: 0.2362\n"
     ]
    },
    {
     "name": "stderr",
     "output_type": "stream",
     "text": [
      "100%|██████████| 22/22 [00:00<00:00, 161.43it/s]\n",
      "100%|██████████| 4/4 [00:00<00:00, 296.18it/s]\n"
     ]
    },
    {
     "name": "stdout",
     "output_type": "stream",
     "text": [
      "Epoch 78/200, Train Loss: 0.2354, Test Loss: 0.2362\n",
      "No improvement in Test Loss for 1 epoch(s).\n",
      "Current Best Test Loss: 0.2362\n"
     ]
    },
    {
     "name": "stderr",
     "output_type": "stream",
     "text": [
      "100%|██████████| 22/22 [00:00<00:00, 194.94it/s]\n",
      "100%|██████████| 4/4 [00:00<00:00, 293.97it/s]\n"
     ]
    },
    {
     "name": "stdout",
     "output_type": "stream",
     "text": [
      "Epoch 79/200, Train Loss: 0.2354, Test Loss: 0.2362\n",
      "No improvement in Test Loss for 2 epoch(s).\n",
      "Current Best Test Loss: 0.2362\n"
     ]
    },
    {
     "name": "stderr",
     "output_type": "stream",
     "text": [
      "100%|██████████| 22/22 [00:00<00:00, 196.79it/s]\n",
      "100%|██████████| 4/4 [00:00<00:00, 310.42it/s]\n"
     ]
    },
    {
     "name": "stdout",
     "output_type": "stream",
     "text": [
      "Epoch 80/200, Train Loss: 0.2354, Test Loss: 0.2362\n"
     ]
    },
    {
     "name": "stderr",
     "output_type": "stream",
     "text": [
      "100%|██████████| 22/22 [00:00<00:00, 189.10it/s]\n",
      "100%|██████████| 4/4 [00:00<00:00, 319.82it/s]\n"
     ]
    },
    {
     "name": "stdout",
     "output_type": "stream",
     "text": [
      "Epoch 81/200, Train Loss: 0.2354, Test Loss: 0.2362\n",
      "No improvement in Test Loss for 1 epoch(s).\n",
      "Current Best Test Loss: 0.2362\n"
     ]
    },
    {
     "name": "stderr",
     "output_type": "stream",
     "text": [
      "100%|██████████| 22/22 [00:00<00:00, 197.77it/s]\n",
      "100%|██████████| 4/4 [00:00<00:00, 317.82it/s]\n"
     ]
    },
    {
     "name": "stdout",
     "output_type": "stream",
     "text": [
      "Epoch 82/200, Train Loss: 0.2354, Test Loss: 0.2362\n",
      "No improvement in Test Loss for 2 epoch(s).\n",
      "Current Best Test Loss: 0.2362\n"
     ]
    },
    {
     "name": "stderr",
     "output_type": "stream",
     "text": [
      "100%|██████████| 22/22 [00:00<00:00, 182.00it/s]\n",
      "100%|██████████| 4/4 [00:00<00:00, 285.90it/s]\n"
     ]
    },
    {
     "name": "stdout",
     "output_type": "stream",
     "text": [
      "Epoch 83/200, Train Loss: 0.2354, Test Loss: 0.2362\n"
     ]
    },
    {
     "name": "stderr",
     "output_type": "stream",
     "text": [
      "100%|██████████| 22/22 [00:00<00:00, 102.40it/s]\n",
      "100%|██████████| 4/4 [00:00<00:00, 298.55it/s]\n"
     ]
    },
    {
     "name": "stdout",
     "output_type": "stream",
     "text": [
      "Epoch 84/200, Train Loss: 0.2353, Test Loss: 0.2362\n",
      "No improvement in Test Loss for 1 epoch(s).\n",
      "Current Best Test Loss: 0.2362\n"
     ]
    },
    {
     "name": "stderr",
     "output_type": "stream",
     "text": [
      "100%|██████████| 22/22 [00:00<00:00, 210.55it/s]\n",
      "100%|██████████| 4/4 [00:00<00:00, 320.71it/s]\n"
     ]
    },
    {
     "name": "stdout",
     "output_type": "stream",
     "text": [
      "Epoch 85/200, Train Loss: 0.2353, Test Loss: 0.2362\n",
      "No improvement in Test Loss for 2 epoch(s).\n",
      "Current Best Test Loss: 0.2362\n"
     ]
    },
    {
     "name": "stderr",
     "output_type": "stream",
     "text": [
      "100%|██████████| 22/22 [00:00<00:00, 172.76it/s]\n",
      "100%|██████████| 4/4 [00:00<00:00, 265.40it/s]\n",
      "/home/qix/FC-GPFA/model_trainer.py:257: FutureWarning: You are using `torch.load` with `weights_only=False` (the current default value), which uses the default pickle module implicitly. It is possible to construct malicious pickle data which will execute arbitrary code during unpickling (See https://github.com/pytorch/pytorch/blob/main/SECURITY.md#untrusted-models for more details). In a future release, the default value for `weights_only` will be flipped to `True`. This limits the functions that could be executed during unpickling. Arbitrary objects will no longer be allowed to be loaded via this mode unless they are explicitly allowlisted by the user via `torch.serialization.add_safe_globals`. We recommend you start setting `weights_only=True` for any use case where you don't have full control of the loaded file. Please open an issue on GitHub for any issues related to this experimental feature.\n",
      "  self.model.load_state_dict(torch.load(temp_best_model_path))\n"
     ]
    },
    {
     "name": "stdout",
     "output_type": "stream",
     "text": [
      "Epoch 86/200, Train Loss: 0.2353, Test Loss: 0.2362\n",
      "No improvement in Test Loss for 3 epoch(s).\n",
      "Current Best Test Loss: 0.2362\n",
      "Early stopping triggered.\n",
      "Start training model with parameters: {'num_B_spline_basis': 50, 'downsample_factor': 10, 'transformer_num_layers': 2, 'transformer_d_model': 128, 'transformer_dim_feedforward': 512, 'transformer_vae_output_dim': 2, 'transformer_dropout': 0.0, 'transformer_nhead': 1, 'stimulus_nfactor': 1, 'stimulus_decoder_inter_dim_factor': 2, 'beta': 1.0, 'coupling_basis_peaks_max': 10, 'coupling_basis_num': 3, 'coupling_nsubspace': 1, 'use_self_coupling': True, 'K_sigma2': 1.0, 'K_tau': 100, 'coupling_strength_nlatent': 1, 'penalty_overlapping': 0.001, 'batch_size': 64, 'sample_latent': False, 'lr': 0.001, 'epoch_warm_up': 0, 'epoch_patience': 3, 'epoch_max': 200, 'tol': 1e-05, 'weight_decay': 0.0, 'lr_transformer': 0.0001, 'lr_sti': 0.01, 'lr_cp': 0.01}\n"
     ]
    },
    {
     "name": "stderr",
     "output_type": "stream",
     "text": [
      "100%|██████████| 22/22 [00:01<00:00, 15.40it/s]\n",
      "100%|██████████| 4/4 [00:00<00:00, 152.67it/s]\n"
     ]
    },
    {
     "name": "stdout",
     "output_type": "stream",
     "text": [
      "Epoch 1/200, Train Loss: 0.2379, Test Loss: 0.2367\n"
     ]
    },
    {
     "name": "stderr",
     "output_type": "stream",
     "text": [
      "100%|██████████| 22/22 [00:00<00:00, 121.34it/s]\n",
      "100%|██████████| 4/4 [00:00<00:00, 206.09it/s]\n"
     ]
    },
    {
     "name": "stdout",
     "output_type": "stream",
     "text": [
      "Epoch 2/200, Train Loss: 0.2357, Test Loss: 0.2365\n"
     ]
    },
    {
     "name": "stderr",
     "output_type": "stream",
     "text": [
      "100%|██████████| 22/22 [00:00<00:00, 130.22it/s]\n",
      "100%|██████████| 4/4 [00:00<00:00, 255.68it/s]\n"
     ]
    },
    {
     "name": "stdout",
     "output_type": "stream",
     "text": [
      "Epoch 3/200, Train Loss: 0.2356, Test Loss: 0.2364\n"
     ]
    },
    {
     "name": "stderr",
     "output_type": "stream",
     "text": [
      "100%|██████████| 22/22 [00:00<00:00, 82.46it/s]\n",
      "100%|██████████| 4/4 [00:00<00:00, 259.47it/s]\n"
     ]
    },
    {
     "name": "stdout",
     "output_type": "stream",
     "text": [
      "Epoch 4/200, Train Loss: 0.2355, Test Loss: 0.2363\n"
     ]
    },
    {
     "name": "stderr",
     "output_type": "stream",
     "text": [
      "100%|██████████| 22/22 [00:00<00:00, 131.15it/s]\n",
      "100%|██████████| 4/4 [00:00<00:00, 267.33it/s]\n"
     ]
    },
    {
     "name": "stdout",
     "output_type": "stream",
     "text": [
      "Epoch 5/200, Train Loss: 0.2354, Test Loss: 0.2363\n"
     ]
    },
    {
     "name": "stderr",
     "output_type": "stream",
     "text": [
      "100%|██████████| 22/22 [00:00<00:00, 109.23it/s]\n",
      "100%|██████████| 4/4 [00:00<00:00, 261.74it/s]\n"
     ]
    },
    {
     "name": "stdout",
     "output_type": "stream",
     "text": [
      "Epoch 6/200, Train Loss: 0.2354, Test Loss: 0.2362\n"
     ]
    },
    {
     "name": "stderr",
     "output_type": "stream",
     "text": [
      "100%|██████████| 22/22 [00:00<00:00, 110.96it/s]\n",
      "100%|██████████| 4/4 [00:00<00:00, 261.25it/s]\n"
     ]
    },
    {
     "name": "stdout",
     "output_type": "stream",
     "text": [
      "Epoch 7/200, Train Loss: 0.2353, Test Loss: 0.2361\n"
     ]
    },
    {
     "name": "stderr",
     "output_type": "stream",
     "text": [
      "100%|██████████| 22/22 [00:00<00:00, 69.21it/s]\n",
      "100%|██████████| 4/4 [00:00<00:00, 169.57it/s]\n"
     ]
    },
    {
     "name": "stdout",
     "output_type": "stream",
     "text": [
      "Epoch 8/200, Train Loss: 0.2349, Test Loss: 0.2353\n"
     ]
    },
    {
     "name": "stderr",
     "output_type": "stream",
     "text": [
      "100%|██████████| 22/22 [00:00<00:00, 110.73it/s]\n",
      "100%|██████████| 4/4 [00:00<00:00, 244.35it/s]\n"
     ]
    },
    {
     "name": "stdout",
     "output_type": "stream",
     "text": [
      "Epoch 9/200, Train Loss: 0.2324, Test Loss: 0.2322\n"
     ]
    },
    {
     "name": "stderr",
     "output_type": "stream",
     "text": [
      "100%|██████████| 22/22 [00:00<00:00, 133.75it/s]\n",
      "100%|██████████| 4/4 [00:00<00:00, 253.51it/s]\n"
     ]
    },
    {
     "name": "stdout",
     "output_type": "stream",
     "text": [
      "Epoch 10/200, Train Loss: 0.2313, Test Loss: 0.2319\n"
     ]
    },
    {
     "name": "stderr",
     "output_type": "stream",
     "text": [
      "100%|██████████| 22/22 [00:00<00:00, 128.91it/s]\n",
      "100%|██████████| 4/4 [00:00<00:00, 248.97it/s]\n"
     ]
    },
    {
     "name": "stdout",
     "output_type": "stream",
     "text": [
      "Epoch 11/200, Train Loss: 0.2311, Test Loss: 0.2318\n"
     ]
    },
    {
     "name": "stderr",
     "output_type": "stream",
     "text": [
      "100%|██████████| 22/22 [00:00<00:00, 102.05it/s]\n",
      "100%|██████████| 4/4 [00:00<00:00, 237.38it/s]\n"
     ]
    },
    {
     "name": "stdout",
     "output_type": "stream",
     "text": [
      "Epoch 12/200, Train Loss: 0.2309, Test Loss: 0.2316\n"
     ]
    },
    {
     "name": "stderr",
     "output_type": "stream",
     "text": [
      "100%|██████████| 22/22 [00:00<00:00, 127.23it/s]\n",
      "100%|██████████| 4/4 [00:00<00:00, 238.09it/s]\n"
     ]
    },
    {
     "name": "stdout",
     "output_type": "stream",
     "text": [
      "Epoch 13/200, Train Loss: 0.2308, Test Loss: 0.2315\n"
     ]
    },
    {
     "name": "stderr",
     "output_type": "stream",
     "text": [
      "100%|██████████| 22/22 [00:00<00:00, 105.65it/s]\n",
      "100%|██████████| 4/4 [00:00<00:00, 219.98it/s]\n"
     ]
    },
    {
     "name": "stdout",
     "output_type": "stream",
     "text": [
      "Epoch 14/200, Train Loss: 0.2308, Test Loss: 0.2314\n"
     ]
    },
    {
     "name": "stderr",
     "output_type": "stream",
     "text": [
      "100%|██████████| 22/22 [00:00<00:00, 90.25it/s]\n",
      "100%|██████████| 4/4 [00:00<00:00, 256.05it/s]\n"
     ]
    },
    {
     "name": "stdout",
     "output_type": "stream",
     "text": [
      "Epoch 15/200, Train Loss: 0.2307, Test Loss: 0.2314\n"
     ]
    },
    {
     "name": "stderr",
     "output_type": "stream",
     "text": [
      "100%|██████████| 22/22 [00:00<00:00, 130.60it/s]\n",
      "100%|██████████| 4/4 [00:00<00:00, 257.45it/s]\n"
     ]
    },
    {
     "name": "stdout",
     "output_type": "stream",
     "text": [
      "Epoch 16/200, Train Loss: 0.2307, Test Loss: 0.2313\n"
     ]
    },
    {
     "name": "stderr",
     "output_type": "stream",
     "text": [
      "100%|██████████| 22/22 [00:00<00:00, 138.78it/s]\n",
      "100%|██████████| 4/4 [00:00<00:00, 254.14it/s]\n"
     ]
    },
    {
     "name": "stdout",
     "output_type": "stream",
     "text": [
      "Epoch 17/200, Train Loss: 0.2306, Test Loss: 0.2313\n"
     ]
    },
    {
     "name": "stderr",
     "output_type": "stream",
     "text": [
      "100%|██████████| 22/22 [00:00<00:00, 139.41it/s]\n",
      "100%|██████████| 4/4 [00:00<00:00, 244.33it/s]\n"
     ]
    },
    {
     "name": "stdout",
     "output_type": "stream",
     "text": [
      "Epoch 18/200, Train Loss: 0.2306, Test Loss: 0.2312\n"
     ]
    },
    {
     "name": "stderr",
     "output_type": "stream",
     "text": [
      "100%|██████████| 22/22 [00:00<00:00, 87.07it/s]\n",
      "100%|██████████| 4/4 [00:00<00:00, 244.48it/s]\n"
     ]
    },
    {
     "name": "stdout",
     "output_type": "stream",
     "text": [
      "Epoch 19/200, Train Loss: 0.2306, Test Loss: 0.2312\n"
     ]
    },
    {
     "name": "stderr",
     "output_type": "stream",
     "text": [
      "100%|██████████| 22/22 [00:00<00:00, 110.21it/s]\n",
      "100%|██████████| 4/4 [00:00<00:00, 228.79it/s]\n"
     ]
    },
    {
     "name": "stdout",
     "output_type": "stream",
     "text": [
      "Epoch 20/200, Train Loss: 0.2306, Test Loss: 0.2312\n",
      "No improvement in Test Loss for 1 epoch(s).\n",
      "Current Best Test Loss: 0.2312\n"
     ]
    },
    {
     "name": "stderr",
     "output_type": "stream",
     "text": [
      "100%|██████████| 22/22 [00:00<00:00, 144.55it/s]\n",
      "100%|██████████| 4/4 [00:00<00:00, 256.29it/s]\n"
     ]
    },
    {
     "name": "stdout",
     "output_type": "stream",
     "text": [
      "Epoch 21/200, Train Loss: 0.2305, Test Loss: 0.2313\n",
      "No improvement in Test Loss for 2 epoch(s).\n",
      "Current Best Test Loss: 0.2312\n"
     ]
    },
    {
     "name": "stderr",
     "output_type": "stream",
     "text": [
      "100%|██████████| 22/22 [00:00<00:00, 134.51it/s]\n",
      "100%|██████████| 4/4 [00:00<00:00, 229.10it/s]\n"
     ]
    },
    {
     "name": "stdout",
     "output_type": "stream",
     "text": [
      "Epoch 22/200, Train Loss: 0.2305, Test Loss: 0.2312\n",
      "No improvement in Test Loss for 3 epoch(s).\n",
      "Current Best Test Loss: 0.2312\n",
      "Early stopping triggered.\n",
      "Start training model with parameters: {'num_B_spline_basis': 50, 'downsample_factor': 10, 'transformer_num_layers': 2, 'transformer_d_model': 128, 'transformer_dim_feedforward': 512, 'transformer_vae_output_dim': 2, 'transformer_dropout': 0.0, 'transformer_nhead': 1, 'stimulus_nfactor': 1, 'stimulus_decoder_inter_dim_factor': 2, 'beta': 1.0, 'coupling_basis_peaks_max': 10, 'coupling_basis_num': 3, 'coupling_nsubspace': 1, 'use_self_coupling': True, 'K_sigma2': 1.0, 'K_tau': 100, 'coupling_strength_nlatent': 1, 'penalty_overlapping': 0.001, 'batch_size': 64, 'sample_latent': False, 'lr': 0.001, 'epoch_warm_up': 0, 'epoch_patience': 3, 'epoch_max': 200, 'tol': 1e-05, 'weight_decay': 0.0, 'lr_transformer': 0.0001, 'lr_sti': 0.01, 'lr_cp': 0.01}\n"
     ]
    },
    {
     "name": "stderr",
     "output_type": "stream",
     "text": [
      "100%|██████████| 22/22 [00:01<00:00, 18.49it/s]\n",
      "100%|██████████| 4/4 [00:00<00:00, 195.65it/s]\n"
     ]
    },
    {
     "name": "stdout",
     "output_type": "stream",
     "text": [
      "Epoch 1/200, Train Loss: 0.2330, Test Loss: 0.2320\n"
     ]
    },
    {
     "name": "stderr",
     "output_type": "stream",
     "text": [
      "100%|██████████| 22/22 [00:00<00:00, 102.04it/s]\n",
      "100%|██████████| 4/4 [00:00<00:00, 207.00it/s]\n"
     ]
    },
    {
     "name": "stdout",
     "output_type": "stream",
     "text": [
      "Epoch 2/200, Train Loss: 0.2310, Test Loss: 0.2314\n"
     ]
    },
    {
     "name": "stderr",
     "output_type": "stream",
     "text": [
      "100%|██████████| 22/22 [00:00<00:00, 51.34it/s]\n",
      "100%|██████████| 4/4 [00:00<00:00, 176.12it/s]\n"
     ]
    },
    {
     "name": "stdout",
     "output_type": "stream",
     "text": [
      "Epoch 3/200, Train Loss: 0.2306, Test Loss: 0.2313\n"
     ]
    },
    {
     "name": "stderr",
     "output_type": "stream",
     "text": [
      "100%|██████████| 22/22 [00:00<00:00, 82.93it/s]\n",
      "100%|██████████| 4/4 [00:00<00:00, 206.42it/s]\n"
     ]
    },
    {
     "name": "stdout",
     "output_type": "stream",
     "text": [
      "Epoch 4/200, Train Loss: 0.2306, Test Loss: 0.2312\n"
     ]
    },
    {
     "name": "stderr",
     "output_type": "stream",
     "text": [
      "100%|██████████| 22/22 [00:00<00:00, 96.83it/s]\n",
      "100%|██████████| 4/4 [00:00<00:00, 210.42it/s]\n"
     ]
    },
    {
     "name": "stdout",
     "output_type": "stream",
     "text": [
      "Epoch 5/200, Train Loss: 0.2306, Test Loss: 0.2312\n",
      "No improvement in Test Loss for 1 epoch(s).\n",
      "Current Best Test Loss: 0.2312\n"
     ]
    },
    {
     "name": "stderr",
     "output_type": "stream",
     "text": [
      "100%|██████████| 22/22 [00:00<00:00, 104.60it/s]\n",
      "100%|██████████| 4/4 [00:00<00:00, 211.65it/s]\n"
     ]
    },
    {
     "name": "stdout",
     "output_type": "stream",
     "text": [
      "Epoch 6/200, Train Loss: 0.2305, Test Loss: 0.2312\n"
     ]
    },
    {
     "name": "stderr",
     "output_type": "stream",
     "text": [
      "100%|██████████| 22/22 [00:00<00:00, 97.15it/s]\n",
      "100%|██████████| 4/4 [00:00<00:00, 204.89it/s]\n"
     ]
    },
    {
     "name": "stdout",
     "output_type": "stream",
     "text": [
      "Epoch 7/200, Train Loss: 0.2305, Test Loss: 0.2312\n"
     ]
    },
    {
     "name": "stderr",
     "output_type": "stream",
     "text": [
      "100%|██████████| 22/22 [00:00<00:00, 75.98it/s]\n",
      "100%|██████████| 4/4 [00:00<00:00, 118.69it/s]\n"
     ]
    },
    {
     "name": "stdout",
     "output_type": "stream",
     "text": [
      "Epoch 8/200, Train Loss: 0.2305, Test Loss: 0.2312\n",
      "No improvement in Test Loss for 1 epoch(s).\n",
      "Current Best Test Loss: 0.2312\n"
     ]
    },
    {
     "name": "stderr",
     "output_type": "stream",
     "text": [
      "100%|██████████| 22/22 [00:00<00:00, 76.96it/s]\n",
      "100%|██████████| 4/4 [00:00<00:00, 198.19it/s]\n"
     ]
    },
    {
     "name": "stdout",
     "output_type": "stream",
     "text": [
      "Epoch 9/200, Train Loss: 0.2305, Test Loss: 0.2312\n",
      "No improvement in Test Loss for 2 epoch(s).\n",
      "Current Best Test Loss: 0.2312\n"
     ]
    },
    {
     "name": "stderr",
     "output_type": "stream",
     "text": [
      "100%|██████████| 22/22 [00:00<00:00, 101.45it/s]\n",
      "100%|██████████| 4/4 [00:00<00:00, 203.64it/s]\n"
     ]
    },
    {
     "name": "stdout",
     "output_type": "stream",
     "text": [
      "Epoch 10/200, Train Loss: 0.2305, Test Loss: 0.2312\n"
     ]
    },
    {
     "name": "stderr",
     "output_type": "stream",
     "text": [
      "100%|██████████| 22/22 [00:00<00:00, 98.24it/s]\n",
      "100%|██████████| 4/4 [00:00<00:00, 207.22it/s]\n"
     ]
    },
    {
     "name": "stdout",
     "output_type": "stream",
     "text": [
      "Epoch 11/200, Train Loss: 0.2305, Test Loss: 0.2312\n",
      "No improvement in Test Loss for 1 epoch(s).\n",
      "Current Best Test Loss: 0.2312\n"
     ]
    },
    {
     "name": "stderr",
     "output_type": "stream",
     "text": [
      "100%|██████████| 22/22 [00:00<00:00, 103.45it/s]\n",
      "100%|██████████| 4/4 [00:00<00:00, 207.79it/s]\n"
     ]
    },
    {
     "name": "stdout",
     "output_type": "stream",
     "text": [
      "Epoch 12/200, Train Loss: 0.2305, Test Loss: 0.2312\n",
      "No improvement in Test Loss for 2 epoch(s).\n",
      "Current Best Test Loss: 0.2312\n"
     ]
    },
    {
     "name": "stderr",
     "output_type": "stream",
     "text": [
      "100%|██████████| 22/22 [00:00<00:00, 103.33it/s]\n",
      "100%|██████████| 4/4 [00:00<00:00, 205.91it/s]\n"
     ]
    },
    {
     "name": "stdout",
     "output_type": "stream",
     "text": [
      "Epoch 13/200, Train Loss: 0.2305, Test Loss: 0.2312\n"
     ]
    },
    {
     "name": "stderr",
     "output_type": "stream",
     "text": [
      "100%|██████████| 22/22 [00:00<00:00, 97.60it/s]\n",
      "100%|██████████| 4/4 [00:00<00:00, 205.25it/s]\n"
     ]
    },
    {
     "name": "stdout",
     "output_type": "stream",
     "text": [
      "Epoch 14/200, Train Loss: 0.2305, Test Loss: 0.2312\n",
      "No improvement in Test Loss for 1 epoch(s).\n",
      "Current Best Test Loss: 0.2312\n"
     ]
    },
    {
     "name": "stderr",
     "output_type": "stream",
     "text": [
      "100%|██████████| 22/22 [00:00<00:00, 101.56it/s]\n",
      "100%|██████████| 4/4 [00:00<00:00, 192.37it/s]\n"
     ]
    },
    {
     "name": "stdout",
     "output_type": "stream",
     "text": [
      "Epoch 15/200, Train Loss: 0.2305, Test Loss: 0.2312\n"
     ]
    },
    {
     "name": "stderr",
     "output_type": "stream",
     "text": [
      "100%|██████████| 22/22 [00:00<00:00, 84.86it/s]\n",
      "100%|██████████| 4/4 [00:00<00:00, 198.21it/s]\n"
     ]
    },
    {
     "name": "stdout",
     "output_type": "stream",
     "text": [
      "Epoch 16/200, Train Loss: 0.2305, Test Loss: 0.2311\n"
     ]
    },
    {
     "name": "stderr",
     "output_type": "stream",
     "text": [
      "100%|██████████| 22/22 [00:00<00:00, 77.73it/s]\n",
      "100%|██████████| 4/4 [00:00<00:00, 188.30it/s]\n"
     ]
    },
    {
     "name": "stdout",
     "output_type": "stream",
     "text": [
      "Epoch 17/200, Train Loss: 0.2305, Test Loss: 0.2311\n"
     ]
    },
    {
     "name": "stderr",
     "output_type": "stream",
     "text": [
      "100%|██████████| 22/22 [00:00<00:00, 81.92it/s]\n",
      "100%|██████████| 4/4 [00:00<00:00, 197.03it/s]\n"
     ]
    },
    {
     "name": "stdout",
     "output_type": "stream",
     "text": [
      "Epoch 18/200, Train Loss: 0.2304, Test Loss: 0.2311\n"
     ]
    },
    {
     "name": "stderr",
     "output_type": "stream",
     "text": [
      "100%|██████████| 22/22 [00:00<00:00, 80.43it/s]\n",
      "100%|██████████| 4/4 [00:00<00:00, 198.46it/s]\n"
     ]
    },
    {
     "name": "stdout",
     "output_type": "stream",
     "text": [
      "Epoch 19/200, Train Loss: 0.2304, Test Loss: 0.2311\n"
     ]
    },
    {
     "name": "stderr",
     "output_type": "stream",
     "text": [
      "100%|██████████| 22/22 [00:00<00:00, 94.54it/s]\n",
      "100%|██████████| 4/4 [00:00<00:00, 205.04it/s]\n"
     ]
    },
    {
     "name": "stdout",
     "output_type": "stream",
     "text": [
      "Epoch 20/200, Train Loss: 0.2304, Test Loss: 0.2310\n"
     ]
    },
    {
     "name": "stderr",
     "output_type": "stream",
     "text": [
      "100%|██████████| 22/22 [00:00<00:00, 97.09it/s]\n",
      "100%|██████████| 4/4 [00:00<00:00, 198.06it/s]\n"
     ]
    },
    {
     "name": "stdout",
     "output_type": "stream",
     "text": [
      "Epoch 21/200, Train Loss: 0.2303, Test Loss: 0.2310\n"
     ]
    },
    {
     "name": "stderr",
     "output_type": "stream",
     "text": [
      "100%|██████████| 22/22 [00:00<00:00, 88.52it/s]\n",
      "100%|██████████| 4/4 [00:00<00:00, 189.82it/s]\n"
     ]
    },
    {
     "name": "stdout",
     "output_type": "stream",
     "text": [
      "Epoch 22/200, Train Loss: 0.2303, Test Loss: 0.2310\n"
     ]
    },
    {
     "name": "stderr",
     "output_type": "stream",
     "text": [
      "100%|██████████| 22/22 [00:00<00:00, 80.84it/s]\n",
      "100%|██████████| 4/4 [00:00<00:00, 197.35it/s]\n"
     ]
    },
    {
     "name": "stdout",
     "output_type": "stream",
     "text": [
      "Epoch 23/200, Train Loss: 0.2303, Test Loss: 0.2309\n"
     ]
    },
    {
     "name": "stderr",
     "output_type": "stream",
     "text": [
      "100%|██████████| 22/22 [00:00<00:00, 63.71it/s]\n",
      "100%|██████████| 4/4 [00:00<00:00, 186.50it/s]\n"
     ]
    },
    {
     "name": "stdout",
     "output_type": "stream",
     "text": [
      "Epoch 24/200, Train Loss: 0.2302, Test Loss: 0.2309\n"
     ]
    },
    {
     "name": "stderr",
     "output_type": "stream",
     "text": [
      "100%|██████████| 22/22 [00:00<00:00, 65.10it/s]\n",
      "100%|██████████| 4/4 [00:00<00:00, 194.09it/s]\n"
     ]
    },
    {
     "name": "stdout",
     "output_type": "stream",
     "text": [
      "Epoch 25/200, Train Loss: 0.2302, Test Loss: 0.2308\n"
     ]
    },
    {
     "name": "stderr",
     "output_type": "stream",
     "text": [
      "100%|██████████| 22/22 [00:00<00:00, 76.05it/s]\n",
      "100%|██████████| 4/4 [00:00<00:00, 185.86it/s]\n"
     ]
    },
    {
     "name": "stdout",
     "output_type": "stream",
     "text": [
      "Epoch 26/200, Train Loss: 0.2302, Test Loss: 0.2308\n"
     ]
    },
    {
     "name": "stderr",
     "output_type": "stream",
     "text": [
      "100%|██████████| 22/22 [00:00<00:00, 68.91it/s]\n",
      "100%|██████████| 4/4 [00:00<00:00, 122.83it/s]\n"
     ]
    },
    {
     "name": "stdout",
     "output_type": "stream",
     "text": [
      "Epoch 27/200, Train Loss: 0.2301, Test Loss: 0.2308\n"
     ]
    },
    {
     "name": "stderr",
     "output_type": "stream",
     "text": [
      "100%|██████████| 22/22 [00:00<00:00, 62.06it/s]\n",
      "100%|██████████| 4/4 [00:00<00:00, 195.44it/s]\n"
     ]
    },
    {
     "name": "stdout",
     "output_type": "stream",
     "text": [
      "Epoch 28/200, Train Loss: 0.2301, Test Loss: 0.2308\n",
      "No improvement in Test Loss for 1 epoch(s).\n",
      "Current Best Test Loss: 0.2308\n"
     ]
    },
    {
     "name": "stderr",
     "output_type": "stream",
     "text": [
      "100%|██████████| 22/22 [00:00<00:00, 77.93it/s]\n",
      "100%|██████████| 4/4 [00:00<00:00, 188.58it/s]\n"
     ]
    },
    {
     "name": "stdout",
     "output_type": "stream",
     "text": [
      "Epoch 29/200, Train Loss: 0.2301, Test Loss: 0.2308\n"
     ]
    },
    {
     "name": "stderr",
     "output_type": "stream",
     "text": [
      "100%|██████████| 22/22 [00:00<00:00, 92.24it/s]\n",
      "100%|██████████| 4/4 [00:00<00:00, 190.80it/s]\n"
     ]
    },
    {
     "name": "stdout",
     "output_type": "stream",
     "text": [
      "Epoch 30/200, Train Loss: 0.2301, Test Loss: 0.2308\n",
      "No improvement in Test Loss for 1 epoch(s).\n",
      "Current Best Test Loss: 0.2308\n"
     ]
    },
    {
     "name": "stderr",
     "output_type": "stream",
     "text": [
      "100%|██████████| 22/22 [00:00<00:00, 97.79it/s]\n",
      "100%|██████████| 4/4 [00:00<00:00, 194.10it/s]\n"
     ]
    },
    {
     "name": "stdout",
     "output_type": "stream",
     "text": [
      "Epoch 31/200, Train Loss: 0.2301, Test Loss: 0.2308\n"
     ]
    },
    {
     "name": "stderr",
     "output_type": "stream",
     "text": [
      "100%|██████████| 22/22 [00:00<00:00, 89.38it/s]\n",
      "100%|██████████| 4/4 [00:00<00:00, 196.99it/s]\n"
     ]
    },
    {
     "name": "stdout",
     "output_type": "stream",
     "text": [
      "Epoch 32/200, Train Loss: 0.2301, Test Loss: 0.2308\n"
     ]
    },
    {
     "name": "stderr",
     "output_type": "stream",
     "text": [
      "100%|██████████| 22/22 [00:00<00:00, 81.09it/s]\n",
      "100%|██████████| 4/4 [00:00<00:00, 167.22it/s]\n"
     ]
    },
    {
     "name": "stdout",
     "output_type": "stream",
     "text": [
      "Epoch 33/200, Train Loss: 0.2301, Test Loss: 0.2307\n",
      "No improvement in Test Loss for 1 epoch(s).\n",
      "Current Best Test Loss: 0.2308\n"
     ]
    },
    {
     "name": "stderr",
     "output_type": "stream",
     "text": [
      "100%|██████████| 22/22 [00:00<00:00, 83.28it/s]\n",
      "100%|██████████| 4/4 [00:00<00:00, 200.33it/s]\n"
     ]
    },
    {
     "name": "stdout",
     "output_type": "stream",
     "text": [
      "Epoch 34/200, Train Loss: 0.2301, Test Loss: 0.2307\n"
     ]
    },
    {
     "name": "stderr",
     "output_type": "stream",
     "text": [
      "100%|██████████| 22/22 [00:00<00:00, 79.59it/s]\n",
      "100%|██████████| 4/4 [00:00<00:00, 192.89it/s]\n"
     ]
    },
    {
     "name": "stdout",
     "output_type": "stream",
     "text": [
      "Epoch 35/200, Train Loss: 0.2301, Test Loss: 0.2307\n",
      "No improvement in Test Loss for 1 epoch(s).\n",
      "Current Best Test Loss: 0.2307\n"
     ]
    },
    {
     "name": "stderr",
     "output_type": "stream",
     "text": [
      "100%|██████████| 22/22 [00:00<00:00, 96.88it/s]\n",
      "100%|██████████| 4/4 [00:00<00:00, 192.67it/s]\n"
     ]
    },
    {
     "name": "stdout",
     "output_type": "stream",
     "text": [
      "Epoch 36/200, Train Loss: 0.2301, Test Loss: 0.2307\n"
     ]
    },
    {
     "name": "stderr",
     "output_type": "stream",
     "text": [
      "100%|██████████| 22/22 [00:00<00:00, 91.80it/s]\n",
      "100%|██████████| 4/4 [00:00<00:00, 200.62it/s]\n"
     ]
    },
    {
     "name": "stdout",
     "output_type": "stream",
     "text": [
      "Epoch 37/200, Train Loss: 0.2300, Test Loss: 0.2307\n",
      "No improvement in Test Loss for 1 epoch(s).\n",
      "Current Best Test Loss: 0.2307\n"
     ]
    },
    {
     "name": "stderr",
     "output_type": "stream",
     "text": [
      "100%|██████████| 22/22 [00:00<00:00, 65.08it/s]\n",
      "100%|██████████| 4/4 [00:00<00:00, 108.87it/s]\n"
     ]
    },
    {
     "name": "stdout",
     "output_type": "stream",
     "text": [
      "Epoch 38/200, Train Loss: 0.2300, Test Loss: 0.2307\n"
     ]
    },
    {
     "name": "stderr",
     "output_type": "stream",
     "text": [
      "100%|██████████| 22/22 [00:00<00:00, 85.41it/s]\n",
      "100%|██████████| 4/4 [00:00<00:00, 196.97it/s]\n"
     ]
    },
    {
     "name": "stdout",
     "output_type": "stream",
     "text": [
      "Epoch 39/200, Train Loss: 0.2300, Test Loss: 0.2307\n",
      "No improvement in Test Loss for 1 epoch(s).\n",
      "Current Best Test Loss: 0.2307\n"
     ]
    },
    {
     "name": "stderr",
     "output_type": "stream",
     "text": [
      "100%|██████████| 22/22 [00:00<00:00, 91.29it/s]\n",
      "100%|██████████| 4/4 [00:00<00:00, 191.27it/s]\n"
     ]
    },
    {
     "name": "stdout",
     "output_type": "stream",
     "text": [
      "Epoch 40/200, Train Loss: 0.2300, Test Loss: 0.2307\n"
     ]
    },
    {
     "name": "stderr",
     "output_type": "stream",
     "text": [
      "100%|██████████| 22/22 [00:00<00:00, 81.02it/s]\n",
      "100%|██████████| 4/4 [00:00<00:00, 117.87it/s]\n"
     ]
    },
    {
     "name": "stdout",
     "output_type": "stream",
     "text": [
      "Epoch 41/200, Train Loss: 0.2300, Test Loss: 0.2307\n",
      "No improvement in Test Loss for 1 epoch(s).\n",
      "Current Best Test Loss: 0.2307\n"
     ]
    },
    {
     "name": "stderr",
     "output_type": "stream",
     "text": [
      "100%|██████████| 22/22 [00:00<00:00, 68.69it/s]\n",
      "100%|██████████| 4/4 [00:00<00:00, 162.20it/s]\n"
     ]
    },
    {
     "name": "stdout",
     "output_type": "stream",
     "text": [
      "Epoch 42/200, Train Loss: 0.2300, Test Loss: 0.2307\n"
     ]
    },
    {
     "name": "stderr",
     "output_type": "stream",
     "text": [
      "100%|██████████| 22/22 [00:00<00:00, 69.65it/s]\n",
      "100%|██████████| 4/4 [00:00<00:00, 110.26it/s]\n"
     ]
    },
    {
     "name": "stdout",
     "output_type": "stream",
     "text": [
      "Epoch 43/200, Train Loss: 0.2300, Test Loss: 0.2307\n",
      "No improvement in Test Loss for 1 epoch(s).\n",
      "Current Best Test Loss: 0.2307\n"
     ]
    },
    {
     "name": "stderr",
     "output_type": "stream",
     "text": [
      "100%|██████████| 22/22 [00:00<00:00, 91.66it/s]\n",
      "100%|██████████| 4/4 [00:00<00:00, 194.28it/s]\n"
     ]
    },
    {
     "name": "stdout",
     "output_type": "stream",
     "text": [
      "Epoch 44/200, Train Loss: 0.2300, Test Loss: 0.2307\n",
      "No improvement in Test Loss for 2 epoch(s).\n",
      "Current Best Test Loss: 0.2307\n"
     ]
    },
    {
     "name": "stderr",
     "output_type": "stream",
     "text": [
      "100%|██████████| 22/22 [00:00<00:00, 99.42it/s] \n",
      "100%|██████████| 4/4 [00:00<00:00, 167.37it/s]\n"
     ]
    },
    {
     "name": "stdout",
     "output_type": "stream",
     "text": [
      "Epoch 45/200, Train Loss: 0.2300, Test Loss: 0.2307\n"
     ]
    },
    {
     "name": "stderr",
     "output_type": "stream",
     "text": [
      "100%|██████████| 22/22 [00:00<00:00, 79.65it/s]\n",
      "100%|██████████| 4/4 [00:00<00:00, 155.15it/s]\n"
     ]
    },
    {
     "name": "stdout",
     "output_type": "stream",
     "text": [
      "Epoch 46/200, Train Loss: 0.2300, Test Loss: 0.2307\n",
      "No improvement in Test Loss for 1 epoch(s).\n",
      "Current Best Test Loss: 0.2307\n"
     ]
    },
    {
     "name": "stderr",
     "output_type": "stream",
     "text": [
      "100%|██████████| 22/22 [00:00<00:00, 70.89it/s]\n",
      "100%|██████████| 4/4 [00:00<00:00, 185.40it/s]\n"
     ]
    },
    {
     "name": "stdout",
     "output_type": "stream",
     "text": [
      "Epoch 47/200, Train Loss: 0.2300, Test Loss: 0.2307\n",
      "No improvement in Test Loss for 2 epoch(s).\n",
      "Current Best Test Loss: 0.2307\n"
     ]
    },
    {
     "name": "stderr",
     "output_type": "stream",
     "text": [
      "100%|██████████| 22/22 [00:00<00:00, 90.48it/s]\n",
      "100%|██████████| 4/4 [00:00<00:00, 193.15it/s]\n"
     ]
    },
    {
     "name": "stdout",
     "output_type": "stream",
     "text": [
      "Epoch 48/200, Train Loss: 0.2300, Test Loss: 0.2307\n"
     ]
    },
    {
     "name": "stderr",
     "output_type": "stream",
     "text": [
      "100%|██████████| 22/22 [00:00<00:00, 86.12it/s]\n",
      "100%|██████████| 4/4 [00:00<00:00, 158.08it/s]\n"
     ]
    },
    {
     "name": "stdout",
     "output_type": "stream",
     "text": [
      "Epoch 49/200, Train Loss: 0.2300, Test Loss: 0.2306\n",
      "No improvement in Test Loss for 1 epoch(s).\n",
      "Current Best Test Loss: 0.2307\n"
     ]
    },
    {
     "name": "stderr",
     "output_type": "stream",
     "text": [
      "100%|██████████| 22/22 [00:00<00:00, 88.00it/s]\n",
      "100%|██████████| 4/4 [00:00<00:00, 148.18it/s]\n"
     ]
    },
    {
     "name": "stdout",
     "output_type": "stream",
     "text": [
      "Epoch 50/200, Train Loss: 0.2300, Test Loss: 0.2306\n"
     ]
    },
    {
     "name": "stderr",
     "output_type": "stream",
     "text": [
      "100%|██████████| 22/22 [00:00<00:00, 84.67it/s]\n",
      "100%|██████████| 4/4 [00:00<00:00, 199.63it/s]\n"
     ]
    },
    {
     "name": "stdout",
     "output_type": "stream",
     "text": [
      "Epoch 51/200, Train Loss: 0.2300, Test Loss: 0.2306\n",
      "No improvement in Test Loss for 1 epoch(s).\n",
      "Current Best Test Loss: 0.2306\n"
     ]
    },
    {
     "name": "stderr",
     "output_type": "stream",
     "text": [
      "100%|██████████| 22/22 [00:00<00:00, 88.99it/s]\n",
      "100%|██████████| 4/4 [00:00<00:00, 192.82it/s]\n"
     ]
    },
    {
     "name": "stdout",
     "output_type": "stream",
     "text": [
      "Epoch 52/200, Train Loss: 0.2300, Test Loss: 0.2306\n",
      "No improvement in Test Loss for 2 epoch(s).\n",
      "Current Best Test Loss: 0.2306\n"
     ]
    },
    {
     "name": "stderr",
     "output_type": "stream",
     "text": [
      "100%|██████████| 22/22 [00:00<00:00, 74.37it/s]\n",
      "100%|██████████| 4/4 [00:00<00:00, 88.81it/s]\n"
     ]
    },
    {
     "name": "stdout",
     "output_type": "stream",
     "text": [
      "Epoch 53/200, Train Loss: 0.2299, Test Loss: 0.2306\n"
     ]
    },
    {
     "name": "stderr",
     "output_type": "stream",
     "text": [
      "100%|██████████| 22/22 [00:00<00:00, 79.59it/s]\n",
      "100%|██████████| 4/4 [00:00<00:00, 200.99it/s]\n"
     ]
    },
    {
     "name": "stdout",
     "output_type": "stream",
     "text": [
      "Epoch 54/200, Train Loss: 0.2299, Test Loss: 0.2306\n",
      "No improvement in Test Loss for 1 epoch(s).\n",
      "Current Best Test Loss: 0.2306\n"
     ]
    },
    {
     "name": "stderr",
     "output_type": "stream",
     "text": [
      "100%|██████████| 22/22 [00:00<00:00, 85.78it/s]\n",
      "100%|██████████| 4/4 [00:00<00:00, 208.57it/s]\n"
     ]
    },
    {
     "name": "stdout",
     "output_type": "stream",
     "text": [
      "Epoch 55/200, Train Loss: 0.2299, Test Loss: 0.2306\n"
     ]
    },
    {
     "name": "stderr",
     "output_type": "stream",
     "text": [
      "100%|██████████| 22/22 [00:00<00:00, 95.77it/s]\n",
      "100%|██████████| 4/4 [00:00<00:00, 189.97it/s]\n"
     ]
    },
    {
     "name": "stdout",
     "output_type": "stream",
     "text": [
      "Epoch 56/200, Train Loss: 0.2299, Test Loss: 0.2306\n"
     ]
    },
    {
     "name": "stderr",
     "output_type": "stream",
     "text": [
      "100%|██████████| 22/22 [00:00<00:00, 64.48it/s]\n",
      "100%|██████████| 4/4 [00:00<00:00, 117.68it/s]\n"
     ]
    },
    {
     "name": "stdout",
     "output_type": "stream",
     "text": [
      "Epoch 57/200, Train Loss: 0.2299, Test Loss: 0.2306\n",
      "No improvement in Test Loss for 1 epoch(s).\n",
      "Current Best Test Loss: 0.2306\n"
     ]
    },
    {
     "name": "stderr",
     "output_type": "stream",
     "text": [
      "100%|██████████| 22/22 [00:00<00:00, 69.87it/s]\n",
      "100%|██████████| 4/4 [00:00<00:00, 165.33it/s]\n"
     ]
    },
    {
     "name": "stdout",
     "output_type": "stream",
     "text": [
      "Epoch 58/200, Train Loss: 0.2299, Test Loss: 0.2306\n"
     ]
    },
    {
     "name": "stderr",
     "output_type": "stream",
     "text": [
      "100%|██████████| 22/22 [00:00<00:00, 67.09it/s]\n",
      "100%|██████████| 4/4 [00:00<00:00, 118.54it/s]\n"
     ]
    },
    {
     "name": "stdout",
     "output_type": "stream",
     "text": [
      "Epoch 59/200, Train Loss: 0.2299, Test Loss: 0.2306\n"
     ]
    },
    {
     "name": "stderr",
     "output_type": "stream",
     "text": [
      "100%|██████████| 22/22 [00:00<00:00, 70.41it/s]\n",
      "100%|██████████| 4/4 [00:00<00:00, 192.68it/s]\n"
     ]
    },
    {
     "name": "stdout",
     "output_type": "stream",
     "text": [
      "Epoch 60/200, Train Loss: 0.2299, Test Loss: 0.2306\n",
      "No improvement in Test Loss for 1 epoch(s).\n",
      "Current Best Test Loss: 0.2306\n"
     ]
    },
    {
     "name": "stderr",
     "output_type": "stream",
     "text": [
      "100%|██████████| 22/22 [00:00<00:00, 92.40it/s]\n",
      "100%|██████████| 4/4 [00:00<00:00, 188.05it/s]\n"
     ]
    },
    {
     "name": "stdout",
     "output_type": "stream",
     "text": [
      "Epoch 61/200, Train Loss: 0.2299, Test Loss: 0.2306\n"
     ]
    },
    {
     "name": "stderr",
     "output_type": "stream",
     "text": [
      "100%|██████████| 22/22 [00:00<00:00, 54.69it/s]\n",
      "100%|██████████| 4/4 [00:00<00:00, 194.03it/s]\n"
     ]
    },
    {
     "name": "stdout",
     "output_type": "stream",
     "text": [
      "Epoch 62/200, Train Loss: 0.2299, Test Loss: 0.2305\n"
     ]
    },
    {
     "name": "stderr",
     "output_type": "stream",
     "text": [
      "100%|██████████| 22/22 [00:00<00:00, 62.08it/s]\n",
      "100%|██████████| 4/4 [00:00<00:00, 182.35it/s]\n"
     ]
    },
    {
     "name": "stdout",
     "output_type": "stream",
     "text": [
      "Epoch 63/200, Train Loss: 0.2299, Test Loss: 0.2305\n",
      "No improvement in Test Loss for 1 epoch(s).\n",
      "Current Best Test Loss: 0.2305\n"
     ]
    },
    {
     "name": "stderr",
     "output_type": "stream",
     "text": [
      "100%|██████████| 22/22 [00:00<00:00, 97.67it/s]\n",
      "100%|██████████| 4/4 [00:00<00:00, 193.08it/s]\n"
     ]
    },
    {
     "name": "stdout",
     "output_type": "stream",
     "text": [
      "Epoch 64/200, Train Loss: 0.2298, Test Loss: 0.2305\n"
     ]
    },
    {
     "name": "stderr",
     "output_type": "stream",
     "text": [
      "100%|██████████| 22/22 [00:00<00:00, 64.43it/s]\n",
      "100%|██████████| 4/4 [00:00<00:00, 195.55it/s]\n"
     ]
    },
    {
     "name": "stdout",
     "output_type": "stream",
     "text": [
      "Epoch 65/200, Train Loss: 0.2298, Test Loss: 0.2305\n",
      "No improvement in Test Loss for 1 epoch(s).\n",
      "Current Best Test Loss: 0.2305\n"
     ]
    },
    {
     "name": "stderr",
     "output_type": "stream",
     "text": [
      "100%|██████████| 22/22 [00:00<00:00, 98.65it/s]\n",
      "100%|██████████| 4/4 [00:00<00:00, 208.38it/s]\n"
     ]
    },
    {
     "name": "stdout",
     "output_type": "stream",
     "text": [
      "Epoch 66/200, Train Loss: 0.2298, Test Loss: 0.2305\n",
      "No improvement in Test Loss for 2 epoch(s).\n",
      "Current Best Test Loss: 0.2305\n"
     ]
    },
    {
     "name": "stderr",
     "output_type": "stream",
     "text": [
      "100%|██████████| 22/22 [00:00<00:00, 74.40it/s]\n",
      "100%|██████████| 4/4 [00:00<00:00, 200.83it/s]\n"
     ]
    },
    {
     "name": "stdout",
     "output_type": "stream",
     "text": [
      "Epoch 67/200, Train Loss: 0.2298, Test Loss: 0.2305\n"
     ]
    },
    {
     "name": "stderr",
     "output_type": "stream",
     "text": [
      "100%|██████████| 22/22 [00:00<00:00, 84.53it/s]\n",
      "100%|██████████| 4/4 [00:00<00:00, 208.53it/s]\n"
     ]
    },
    {
     "name": "stdout",
     "output_type": "stream",
     "text": [
      "Epoch 68/200, Train Loss: 0.2298, Test Loss: 0.2305\n",
      "No improvement in Test Loss for 1 epoch(s).\n",
      "Current Best Test Loss: 0.2305\n"
     ]
    },
    {
     "name": "stderr",
     "output_type": "stream",
     "text": [
      "100%|██████████| 22/22 [00:00<00:00, 99.50it/s] \n",
      "100%|██████████| 4/4 [00:00<00:00, 192.77it/s]\n"
     ]
    },
    {
     "name": "stdout",
     "output_type": "stream",
     "text": [
      "Epoch 69/200, Train Loss: 0.2298, Test Loss: 0.2305\n",
      "No improvement in Test Loss for 2 epoch(s).\n",
      "Current Best Test Loss: 0.2305\n"
     ]
    },
    {
     "name": "stderr",
     "output_type": "stream",
     "text": [
      "100%|██████████| 22/22 [00:00<00:00, 98.88it/s]\n",
      "100%|██████████| 4/4 [00:00<00:00, 131.93it/s]"
     ]
    },
    {
     "name": "stdout",
     "output_type": "stream",
     "text": [
      "Epoch 70/200, Train Loss: 0.2298, Test Loss: 0.2305\n",
      "No improvement in Test Loss for 3 epoch(s).\n",
      "Current Best Test Loss: 0.2305\n",
      "Early stopping triggered.\n"
     ]
    },
    {
     "name": "stderr",
     "output_type": "stream",
     "text": [
      "\n"
     ]
    },
    {
     "data": {
      "text/plain": [
       "0.23051678475423074"
      ]
     },
     "execution_count": 14,
     "metadata": {},
     "output_type": "execute_result"
    }
   ],
   "source": [
    "# data_to_use = cross_session_dataloader\n",
    "data_to_use = synthetic_dataloader\n",
    "ckp_path = '/home/qix/user_data/VAETransformer_checkpoint'\n",
    "\n",
    "torch.manual_seed(0)\n",
    "np.random.seed(0)\n",
    "\n",
    "params = {\n",
    "    # B-spline basis\n",
    "    'num_B_spline_basis': 50,\n",
    "    # Transformer VAE's settings\n",
    "    'downsample_factor': 10,\n",
    "    'transformer_num_layers': 2,\n",
    "    'transformer_d_model': 128,\n",
    "    'transformer_dim_feedforward': 512,\n",
    "    'transformer_vae_output_dim': 2,\n",
    "    'transformer_dropout': 0.0,\n",
    "    'transformer_nhead': 1,\n",
    "    'stimulus_nfactor': 1,\n",
    "    'stimulus_decoder_inter_dim_factor': 2,\n",
    "    'beta': 1.0,\n",
    "    # Coupling's settings\n",
    "    'coupling_basis_peaks_max': 10,\n",
    "    'coupling_basis_num': 3,\n",
    "    'coupling_nsubspace': 1,\n",
    "    'use_self_coupling': True,\n",
    "    # Coupling strength latent's settings\n",
    "    'K_sigma2': 1.0,\n",
    "    'K_tau': 100,\n",
    "    'coupling_strength_nlatent': 1,\n",
    "    # Penalty settings\n",
    "    'penalty_overlapping': 1e-3, \n",
    "    # Training settings\n",
    "    'batch_size': 64,\n",
    "    'sample_latent': False,\n",
    "    'lr': 1e-3,\n",
    "    'epoch_warm_up': 0,\n",
    "    'epoch_patience': 3,\n",
    "    'epoch_max': 200,\n",
    "    'tol': 1e-5,\n",
    "    # Currently not used\n",
    "    'weight_decay': 0.0,\n",
    "    'lr_transformer': 1e-4,\n",
    "    'lr_sti': 1e-2,\n",
    "    'lr_cp': 1e-2,\n",
    "}\n",
    "\n",
    "trainer = Trainer(data_to_use, ckp_path, params)\n",
    "# First step: train the model with a trial-invariant stimulus effect\n",
    "trainer.train(\n",
    "    include_stimulus=True,\n",
    "    include_coupling=False,\n",
    "    fix_stimulus=True,\n",
    "    fix_latents=True,\n",
    "    verbose=True,\n",
    ")\n",
    "# Second step: train the model with a trial-varying stimulus effect\n",
    "# trainer.make_optimizer(frozen_params=['sti_readout'])\n",
    "trainer.make_optimizer(frozen_params=['sti_inhomo', ]) # We are fixing the trial-invariant stimulus effect\n",
    "trainer.train(\n",
    "    include_stimulus=True,\n",
    "    include_coupling=False,\n",
    "    fix_stimulus=False,\n",
    "    fix_latents=True,\n",
    "    verbose=True,\n",
    ")\n",
    "trainer.make_optimizer(frozen_params=['transformer_encoder', 'to_latent', 'token_converter'])\n",
    "# trainer.make_optimizer(frozen_params=[])\n",
    "trainer.train(\n",
    "    include_stimulus=True,\n",
    "    include_coupling=True,\n",
    "    fix_stimulus=False,\n",
    "    fix_latents=True,\n",
    "    verbose=True,\n",
    ")"
   ]
  },
  {
   "cell_type": "code",
   "execution_count": 15,
   "metadata": {},
   "outputs": [
    {
     "name": "stderr",
     "output_type": "stream",
     "text": [
      "  0%|          | 0/7 [00:00<?, ?it/s]"
     ]
    },
    {
     "name": "stderr",
     "output_type": "stream",
     "text": [
      "100%|██████████| 7/7 [00:00<00:00, 37.23it/s]"
     ]
    },
    {
     "name": "stdout",
     "output_type": "stream",
     "text": [
      "Test loss: 0.2297971185083104\n",
      "Test loss baseline: 0.24419338718762718\n"
     ]
    },
    {
     "name": "stderr",
     "output_type": "stream",
     "text": [
      "\n"
     ]
    }
   ],
   "source": [
    "# Compare the model's prediction with a baseline model\n",
    "### Which dataset to use?\n",
    "loader = trainer.dataloader.test_loader\n",
    "\n",
    "###\n",
    "trainer.model.eval()\n",
    "trainer.model.sample_latent = False\n",
    "test_loss = 0.0\n",
    "test_loss_baseline = 0.0\n",
    "total_trial = 0\n",
    "test_loss_record = []\n",
    "with torch.no_grad():\n",
    "    for i, batch in enumerate(tqdm(loader)):\n",
    "        trainer.process_batch(batch)\n",
    "        firing_rate = trainer.model(\n",
    "            batch,\n",
    "            include_stimulus=True,\n",
    "            include_coupling=True,\n",
    "            fix_stimulus=False,\n",
    "            fix_latents=True,\n",
    "        )\n",
    "        loss = trainer.model.loss_function(\n",
    "            firing_rate, \n",
    "            batch[\"spike_trains\"][trainer.npadding:,:,:], \n",
    "            trainer.model.sti_mu, \n",
    "            trainer.model.sti_logvar, \n",
    "            beta=trainer.params['beta']\n",
    "        )\n",
    "        test_loss_record.append(loss.item())\n",
    "        test_loss += loss.item() * batch[\"spike_trains\"].size(2)\n",
    "        total_trial += batch[\"spike_trains\"].size(2)\n",
    "        if i==0 or firing_rate_baseline.shape != batch[\"spike_trains\"][trainer.npadding:,:,:].shape:\n",
    "            firing_rate_baseline = (\n",
    "                torch.log(torch.clamp(batch[\"spike_trains\"][trainer.npadding:,:,:].mean(dim=(0,2)), min=1e-4))[None,:,None] \\\n",
    "                    * torch.ones_like(batch[\"spike_trains\"][trainer.npadding:,:,:])\n",
    "            )\n",
    "        loss_baseline = trainer.model.loss_function(\n",
    "            firing_rate_baseline, \n",
    "            batch[\"spike_trains\"][trainer.npadding:,:,:], \n",
    "            trainer.model.sti_mu, \n",
    "            trainer.model.sti_logvar, \n",
    "            beta=trainer.params['beta']\n",
    "        )\n",
    "        test_loss_baseline += loss_baseline.item() * batch[\"spike_trains\"].size(2)\n",
    "\n",
    "test_loss /= total_trial\n",
    "test_loss_baseline /= total_trial\n",
    "print(f\"Test loss: {test_loss}\")\n",
    "print(f\"Test loss baseline: {test_loss_baseline}\")"
   ]
  },
  {
   "cell_type": "code",
   "execution_count": 22,
   "metadata": {},
   "outputs": [
    {
     "data": {
      "image/png": "[encoded data removed]",
      "text/plain": [
       "<Figure size 1800x1500 with 4 Axes>"
      ]
     },
     "metadata": {},
     "output_type": "display_data"
    }
   ],
   "source": [
    "local_trial_indices = np.arange(0, 10)\n",
    "neuron_idx = 20\n",
    "\n",
    "firing_rate_test, sti_mu_test, sti_logvar_test, trial_indices = trainer.predict(\n",
    "    dataset='test',\n",
    "    batch_indices=[0],\n",
    "    include_stimulus=True,\n",
    "    include_coupling=False,\n",
    "    fix_stimulus=False,\n",
    "    fix_latents=True,\n",
    "    return_torch=True,\n",
    "    return_trial_indices=True,\n",
    ")\n",
    "\n",
    "# Create a 2x2 subplot figure\n",
    "fig, axes = plt.subplots(2, 2, figsize=(6, 5), dpi=300)\n",
    "fig.suptitle('Use Transformer VAE spline \\n to model trial-varying stimulus effects', fontsize=13)\n",
    "\n",
    "# Define better colors for the two types\n",
    "type1_color = '#2E8B57'  # A nice sea green\n",
    "type2_color = '#9370DB'  # A nice medium purple\n",
    "\n",
    "# Plot total firing rate\n",
    "xx = np.arange(0, len(np.exp(firing_rate_test[:, neuron_idx, local_trial_indices].numpy())), 1)*2\n",
    "for i, trial_idx in enumerate(local_trial_indices):\n",
    "    color = type2_color if trial_type[trial_indices[trial_idx]] else type1_color\n",
    "    axes[0,0].plot(xx, np.exp(firing_rate_test[:, neuron_idx, trial_idx].numpy()), color=color, alpha=0.5)\n",
    "axes[0,0].set_title('Total firing rate')\n",
    "axes[0,0].set_xlabel('Time')\n",
    "axes[0,0].set_ylabel('Firing rate')\n",
    "axes[0,0].legend(['Type 1', 'Type 2'], bbox_to_anchor=(1.01, 1), loc='upper left', fontsize=6)\n",
    "\n",
    "# Plot coupling effect\n",
    "for i, trial_idx in enumerate(local_trial_indices):\n",
    "    color = type2_color if trial_type[trial_indices[trial_idx]] else type1_color\n",
    "    axes[0,1].plot(trainer.model.firing_rates_coupling[trial_idx, neuron_idx, :].cpu().numpy(), color=color, alpha=0.5)\n",
    "axes[0,1].set_title('Coupling Effect')\n",
    "axes[0,1].set_xlabel('Time')\n",
    "axes[0,1].set_ylabel('log firing rate')\n",
    "\n",
    "# Plot stimulus effect\n",
    "for i, trial_idx in enumerate(local_trial_indices):\n",
    "    color = type2_color if trial_type[trial_indices[trial_idx]] else type1_color\n",
    "    axes[1,0].plot(trainer.model.firing_rates_stimulus[trial_idx, neuron_idx, :].cpu().numpy(), color=color, alpha=0.5)\n",
    "axes[1,0].set_title('Stimulus Effect')\n",
    "axes[1,0].set_xlabel('Time')\n",
    "axes[1,0].set_ylabel('log firing rate')\n",
    "\n",
    "# Plot t-SNE in the last subplot\n",
    "sti_mu_test_np = sti_mu_test.detach().cpu().numpy() if torch.is_tensor(sti_mu_test) else sti_mu_test\n",
    "if sti_mu_test_np.shape[1] <= 2:\n",
    "    for i in range(len(sti_mu_test_np)):\n",
    "        color = type2_color if trial_type[trial_indices[i]] else type1_color\n",
    "        axes[1,1].scatter(sti_mu_test_np[i, 0], sti_mu_test_np[i, 1], alpha=0.5, marker='.', color=color)\n",
    "    axes[1,1].set_title('trial-wise stimulus latent')\n",
    "    axes[1,1].set_xlabel('latent dim 1')\n",
    "    axes[1,1].set_ylabel('latent dim 2')\n",
    "elif np.all(sti_mu_test_np.std(axis=0) > 1e-3):\n",
    "    tsne = TSNE(n_components=2, random_state=42)\n",
    "    sti_mu_test_tsne = tsne.fit_transform(sti_mu_test_np)\n",
    "    for i in range(len(sti_mu_test_tsne)):\n",
    "        color = type2_color if trial_type[trial_indices[i]] else type1_color\n",
    "        axes[1,1].scatter(sti_mu_test_tsne[i, 0], sti_mu_test_tsne[i, 1], alpha=0.5, marker='.', color=color)\n",
    "    axes[1,1].set_title('t-SNE of the trial-wise stimulus latent')\n",
    "    axes[1,1].set_xlabel('t-SNE 1')\n",
    "    axes[1,1].set_ylabel('t-SNE 2')\n",
    "else:\n",
    "    print(f\"Stimulus latent is not varying across trials: {sti_mu_test_np.std(axis=0).mean()}\")\n",
    "\n",
    "plt.tight_layout()\n",
    "# plt.savefig('Figure/all_effects_and_tsne.pdf', bbox_inches='tight', dpi=300)"
   ]
  },
  {
   "cell_type": "code",
   "execution_count": null,
   "metadata": {},
   "outputs": [],
   "source": []
  },
  {
   "cell_type": "code",
   "execution_count": null,
   "metadata": {},
   "outputs": [],
   "source": []
  },
  {
   "cell_type": "code",
   "execution_count": null,
   "metadata": {},
   "outputs": [],
   "source": []
  }
 ],
 "metadata": {
  "kernelspec": {
   "display_name": "base",
   "language": "python",
   "name": "python3"
  },
  "language_info": {
   "codemirror_mode": {
    "name": "ipython",
    "version": 3
   },
   "file_extension": ".py",
   "mimetype": "text/x-python",
   "name": "python",
   "nbconvert_exporter": "python",
   "pygments_lexer": "ipython3",
   "version": "3.9.21"
  }
 },
 "nbformat": 4,
 "nbformat_minor": 2
}
