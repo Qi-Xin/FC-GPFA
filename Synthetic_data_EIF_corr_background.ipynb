{
 "cells": [
  {
   "cell_type": "markdown",
   "metadata": {},
   "source": [
    "# Set up environment"
   ]
  },
  {
   "cell_type": "code",
   "execution_count": 1,
   "metadata": {},
   "outputs": [],
   "source": [
    "%load_ext autoreload\n",
    "%autoreload 2\n",
    "%matplotlib inline"
   ]
  },
  {
   "cell_type": "code",
   "execution_count": 2,
   "metadata": {},
   "outputs": [
    {
     "name": "stdout",
     "output_type": "stream",
     "text": [
      "True\n",
      "12.1\n"
     ]
    }
   ],
   "source": [
    "# Test if GPU is available\n",
    "# Note that CUDA below 12.1 can have bugs\n",
    "import torch\n",
    "print(torch.cuda.is_available())\n",
    "# print(torch.cuda.get_device_name(0))\n",
    "print(torch.version.cuda)\n",
    "device = torch.device(\"cuda\" if torch.cuda.is_available() else \"cpu\")"
   ]
  },
  {
   "cell_type": "code",
   "execution_count": 3,
   "metadata": {},
   "outputs": [],
   "source": [
    "#%% import libraries\n",
    "import os\n",
    "from collections import defaultdict\n",
    "import sys\n",
    "\n",
    "import matplotlib.pyplot as plt\n",
    "import pandas as pd\n",
    "import seaborn as sns\n",
    "import copy\n",
    "import numpy as np\n",
    "import numpy.random\n",
    "from numpy.fft import fft as fft\n",
    "from numpy.fft import ifft as ifft\n",
    "import pickle\n",
    "from sklearn.linear_model import PoissonRegressor\n",
    "from sklearn.model_selection import KFold\n",
    "from sklearn.manifold import TSNE\n",
    "import scipy.stats\n",
    "from scipy.stats import wilcoxon, chi2\n",
    "import scipy.interpolate \n",
    "import scipy.signal\n",
    "from scipy import linalg\n",
    "from scipy.special import rel_entr\n",
    "from tqdm import tqdm\n",
    "import pandas as pd\n",
    "import joblib\n",
    "import logging\n",
    "\n",
    "import statsmodels.api as sm\n",
    "import statsmodels.genmod.generalized_linear_model as smm\n",
    "\n",
    "import torch\n",
    "from torch.autograd import Variable\n",
    "from torch.nn import functional as F\n",
    "import torch.nn as nn\n",
    "import torch.optim as optim"
   ]
  },
  {
   "cell_type": "code",
   "execution_count": 4,
   "metadata": {},
   "outputs": [
    {
     "name": "stderr",
     "output_type": "stream",
     "text": [
      "/home/qix/anaconda3/envs/allen/lib/python3.9/site-packages/tqdm/auto.py:21: TqdmWarning: IProgress not found. Please update jupyter and ipywidgets. See https://ipywidgets.readthedocs.io/en/stable/user_install.html\n",
      "  from .autonotebook import tqdm as notebook_tqdm\n"
     ]
    }
   ],
   "source": [
    "# import my code\n",
    "import utility_functions as utils\n",
    "import GLM\n",
    "from DataLoader import Allen_dataset, Allen_dataloader_multi_session, Simple_dataloader_from_spikes\n",
    "from model_trainer import Trainer\n",
    "\n",
    "utils.set_seed(0)"
   ]
  },
  {
   "cell_type": "markdown",
   "metadata": {},
   "source": [
    "# Generate correlated background but no synapse"
   ]
  },
  {
   "cell_type": "code",
   "execution_count": 13,
   "metadata": {},
   "outputs": [],
   "source": [
    "######### Settings (need to run even if the data is already generated) #########\n",
    "external_input_params = {\n",
    "    \"external_input_type\": \"two_peaks_with_all_varying\",\n",
    "    \"std1\": 10,\n",
    "    \"corr1\": 0.5,\n",
    "    \"std2\": 25,\n",
    "    \"corr2\": 0.5,\n",
    "    \"use_two_modes\": False,\n",
    "    \"gp_time_constant\": 300,\n",
    "    \"gp_amplitude\": 0.05,\n",
    "}\n",
    "\n",
    "conn = 0.0\n",
    "nneuron_coupling = 10\n",
    "nneuron = 100\n",
    "nneuron_part = nneuron//2\n",
    "npadding = 50\n",
    "\n",
    "shared_background_list = [0.0, 0.2, 0.4]\n",
    "nrep = 5"
   ]
  },
  {
   "cell_type": "code",
   "execution_count": 58,
   "metadata": {},
   "outputs": [
    {
     "name": "stderr",
     "output_type": "stream",
     "text": [
      "100%|██████████| 2000/2000 [02:56<00:00, 11.34it/s]\n"
     ]
    }
   ],
   "source": [
    "########## Generate synthetic data (no need to run) ###########\n",
    "\n",
    "for shared_background in shared_background_list:\n",
    "    for rep in range(nrep):\n",
    "        spikes, trial_info, I_ext, I_syn = GLM.EIF_simulator(\n",
    "            ntrial=2000,\n",
    "            nneuron=nneuron,\n",
    "            conn=conn,\n",
    "            nneuron_coupling=nneuron_coupling,\n",
    "            params=external_input_params,\n",
    "            shared_background=shared_background,\n",
    "            no_stimulus=False,\n",
    "            return_trial_info=True,\n",
    "            return_I_ext=True,\n",
    "            return_I_syn=True,\n",
    "        )\n",
    "        file_name = f'/home/qix/user_data/EIF_simulation_dataset/'\\\n",
    "            +f'synthetic_data_EIF_conn={str(conn)}_corr={shared_background}_rep={rep}.npz'\n",
    "        np.savez_compressed(file_name,\n",
    "                            spikes=spikes,\n",
    "                            trial_info=trial_info,\n",
    "                            I_ext=I_ext,\n",
    "                            I_syn=I_syn)\n",
    "\n"
   ]
  },
  {
   "cell_type": "markdown",
   "metadata": {},
   "source": [
    "# Our method and our method abalated"
   ]
  },
  {
   "cell_type": "code",
   "execution_count": 105,
   "metadata": {},
   "outputs": [],
   "source": [
    "def fit_model(data_to_use, FIT_THE_BASELINE_MODEL):\n",
    "\n",
    "    ckp_path = '/home/qix/user_data/VAETransformer_checkpoint'\n",
    "\n",
    "    params = {\n",
    "        # B-spline basis\n",
    "        'num_B_spline_basis': 20,\n",
    "        # Transformer VAE's settings\n",
    "        'downsample_factor': 10,\n",
    "        'transformer_num_layers': 2,\n",
    "        'transformer_d_model': 128,\n",
    "        'transformer_dim_feedforward': 512,\n",
    "        'transformer_vae_output_dim': 16,\n",
    "        'transformer_dropout': 0.0,\n",
    "        'transformer_nhead': 1,\n",
    "        'stimulus_nfactor': 1,\n",
    "        'stimulus_decoder_inter_dim_factor': 2,\n",
    "        'beta': 1.0,\n",
    "        'use_area_specific_decoder': True,\n",
    "        'use_area_specific_encoder': True,\n",
    "        'use_cls': False,\n",
    "        # Coupling's settings\n",
    "        'coupling_basis_peaks_max': 5,\n",
    "        'coupling_basis_num': 3,\n",
    "        'coupling_nsubspace': 1,\n",
    "        'use_self_coupling': True,\n",
    "        # Coupling strength latent's settings\n",
    "        'K_sigma2': 1.0,\n",
    "        'K_tau': 100,\n",
    "        'coupling_strength_nlatent': 1,\n",
    "        # Self-history's settings\n",
    "        'self_history_basis_peaks_max': 1.5,\n",
    "        'self_history_basis_num': 3,\n",
    "        'self_history_basis_nonlinear': 1,\n",
    "        # Penalty settings\n",
    "        'penalty_smoothing_spline': 1e2,\n",
    "        'penalty_coupling_subgroup': 1e-5,\n",
    "        'penalty_diff_loading': None,\n",
    "        'penalty_loading_similarity': None,\n",
    "        # Training settings\n",
    "        'batch_size': 64,\n",
    "        'sample_latent': False,\n",
    "        'lr': 1e-3,\n",
    "        'epoch_warm_up': 0,\n",
    "        'epoch_patience': 3,\n",
    "        'epoch_max': 200,\n",
    "        'tol': 1e-5,\n",
    "        'weight_decay': 0,\n",
    "        'lr_transformer': 1e-4,\n",
    "        'lr_sti': 1e-2,\n",
    "        'lr_cp': 1e-2,\n",
    "        'lr_self_history': 1e-2,\n",
    "    }\n",
    "\n",
    "    trainer = Trainer(data_to_use, ckp_path, params)\n",
    "\n",
    "    if FIT_THE_BASELINE_MODEL:\n",
    "        # Baseline model: no trial-varying stimulus effect\n",
    "        trainer.train(\n",
    "            include_stimulus=True,\n",
    "            include_coupling=True,\n",
    "            fix_stimulus=True,\n",
    "            fix_latents=True,\n",
    "            verbose=False,\n",
    "        )\n",
    "\n",
    "    else:\n",
    "        # First step: train the model with a trial-invariant stimulus effect\n",
    "        trainer.train(\n",
    "            include_stimulus=True,\n",
    "            include_coupling=False,\n",
    "            fix_stimulus=True,\n",
    "            fix_latents=True,\n",
    "            verbose=False,\n",
    "        )\n",
    "        # Second step: train the model with a trial-varying stimulus effect\n",
    "        # trainer.make_optimizer(frozen_params=['sti_readout'])\n",
    "        trainer.make_optimizer(frozen_params=['sti_inhomo', ]) # We are fixing the trial-invariant stimulus effect\n",
    "        trainer.train(\n",
    "            include_stimulus=True,\n",
    "            include_coupling=False,\n",
    "            fix_stimulus=False,\n",
    "            fix_latents=True,\n",
    "            verbose=False,\n",
    "        )\n",
    "\n",
    "        trainer.make_optimizer(frozen_params=['transformer_encoder', 'to_latent', 'token_converter'])\n",
    "        # trainer.make_optimizer(frozen_params=[])\n",
    "        trainer.train(\n",
    "            include_stimulus=True,\n",
    "            include_coupling=True,\n",
    "            fix_stimulus=False,\n",
    "            fix_latents=True,\n",
    "            verbose=False,\n",
    "        )\n",
    "\n",
    "        # trainer.make_optimizer(frozen_params=['transformer_encoder', 'to_latent', 'token_converter'])\n",
    "        trainer.make_optimizer(frozen_params=['transformer_encoder', 'to_latent', 'token_converter',\n",
    "            'sti_readout', 'sti_decoder', 'sti_inhomo', 'cp_latents_readout', 'cp_time_varying_coef_offset', \n",
    "            'cp_beta_coupling', 'cp_weight_sending', 'cp_weight_receiving'])\n",
    "        # trainer.make_optimizer(frozen_params=[])\n",
    "        trainer.train(\n",
    "            include_stimulus=True,\n",
    "            include_coupling=True,\n",
    "            include_self_history=True,\n",
    "            fix_stimulus=False,\n",
    "            fix_latents=True,\n",
    "            verbose=False,\n",
    "            record_results=True,\n",
    "        )\n",
    "\n",
    "\n",
    "    ### Which dataset to use?\n",
    "    loader = trainer.dataloader.test_loader\n",
    "\n",
    "    ###\n",
    "    trainer.model.normalize_coupling_coefficients()\n",
    "    trainer.model.eval()\n",
    "    trainer.model.sample_latent = False\n",
    "    test_loss = 0.0\n",
    "    test_loss_baseline = 0.0\n",
    "    total_trial = 0\n",
    "    test_loss_record = []\n",
    "    with torch.no_grad():\n",
    "        for i, batch in enumerate(tqdm(loader)):\n",
    "            trainer.process_batch(batch)\n",
    "            firing_rate = trainer.model(\n",
    "                batch,\n",
    "                include_stimulus=True,\n",
    "                include_coupling=True,\n",
    "                fix_stimulus=False,\n",
    "                fix_latents=True,\n",
    "            )\n",
    "            loss = trainer.model.loss_function(\n",
    "                firing_rate, \n",
    "                batch[\"spike_trains\"][trainer.npadding:,:,:], \n",
    "                trainer.model.sti_mu, \n",
    "                trainer.model.sti_logvar, \n",
    "                beta=trainer.params['beta']\n",
    "            )\n",
    "            test_loss_record.append(loss.item())\n",
    "            test_loss += loss.item() * batch[\"spike_trains\"].size(2)\n",
    "            total_trial += batch[\"spike_trains\"].size(2)\n",
    "            if i==0 or firing_rate_baseline.shape != batch[\"spike_trains\"][trainer.npadding:,:,:].shape:\n",
    "                firing_rate_baseline = (\n",
    "                    torch.log(torch.clamp(batch[\"spike_trains\"][trainer.npadding:,:,:].mean(dim=(0,2)), min=1e-4))[None,:,None] \\\n",
    "                        * torch.ones_like(batch[\"spike_trains\"][trainer.npadding:,:,:])\n",
    "                )\n",
    "            \n",
    "            loss_baseline = trainer.model.loss_function(\n",
    "                firing_rate_baseline, \n",
    "                batch[\"spike_trains\"][trainer.npadding:,:,:], \n",
    "                trainer.model.sti_mu, \n",
    "                trainer.model.sti_logvar, \n",
    "                beta=trainer.params['beta']\n",
    "            )\n",
    "            test_loss_baseline += loss_baseline.item() * batch[\"spike_trains\"].size(2)\n",
    "\n",
    "    test_loss /= total_trial\n",
    "    test_loss_baseline /= total_trial\n",
    "    print(f\"Test loss: {test_loss}\")\n",
    "    print(f\"Test loss baseline: {test_loss_baseline}\")\n",
    "\n",
    "    all_firing_rates = []\n",
    "    all_firing_rates_coupling = []\n",
    "    for ibatch in range(len(trainer.dataloader.test_batches)):\n",
    "        firing_rate_test, _, _, _, _ = trainer.predict(\n",
    "            dataset='test',\n",
    "            batch_indices=[ibatch],\n",
    "            include_stimulus=True,\n",
    "            include_coupling=True,\n",
    "            fix_stimulus=False,\n",
    "            fix_latents=True,\n",
    "            return_torch=True,\n",
    "            return_trial_indices=True,\n",
    "            return_spike_trains=True,\n",
    "        )\n",
    "    \n",
    "        neuron_indices = np.arange(nneuron_part,nneuron_part+nneuron_part)\n",
    "        all_firing_rates.append(firing_rate_test[:, neuron_indices, :].cpu().numpy())\n",
    "        all_firing_rates_coupling.append(\n",
    "            trainer.model.coupling_outputs[0][1][:, :nneuron_part, :].cpu().numpy().transpose(2,1,0)\n",
    "        )\n",
    "    all_firing_rates = np.concatenate(all_firing_rates, axis=2)\n",
    "    all_firing_rates_coupling = np.concatenate(all_firing_rates_coupling, axis=2)\n",
    "    all_firing_rates_wo_coupling = all_firing_rates - all_firing_rates_coupling\n",
    "\n",
    "    all_firing_rates = np.exp(all_firing_rates)\n",
    "    all_firing_rates_wo_coupling = np.exp(all_firing_rates_wo_coupling)\n",
    "    total_variance = all_firing_rates.var(axis=(0,2))\n",
    "    variance_wo_coupling = all_firing_rates_wo_coupling.var(axis=(0,2))\n",
    "    return ((total_variance - variance_wo_coupling) / total_variance).mean()\n"
   ]
  },
  {
   "cell_type": "code",
   "execution_count": 110,
   "metadata": {},
   "outputs": [
    {
     "name": "stdout",
     "output_type": "stream",
     "text": [
      "Model initialized. Training on cuda\n"
     ]
    },
    {
     "name": "stderr",
     "output_type": "stream",
     "text": [
      " 72%|███████▏  | 143/200 [00:25<00:10,  5.53it/s]\n",
      " 25%|██▌       | 50/200 [00:13<00:40,  3.68it/s]\n",
      "  7%|▋         | 14/200 [00:04<01:02,  2.96it/s]\n",
      "  2%|▏         | 3/200 [00:01<01:14,  2.64it/s]\n",
      "100%|██████████| 7/7 [00:00<00:00, 177.27it/s]\n"
     ]
    },
    {
     "name": "stdout",
     "output_type": "stream",
     "text": [
      "Test loss: 0.22510227843413033\n",
      "Test loss baseline: 0.2308225328116643\n",
      "Model initialized. Training on cuda\n"
     ]
    },
    {
     "name": "stderr",
     "output_type": "stream",
     "text": [
      " 28%|██▊       | 57/200 [00:14<00:36,  3.92it/s]\n",
      "100%|██████████| 7/7 [00:00<00:00, 180.20it/s]\n"
     ]
    },
    {
     "name": "stdout",
     "output_type": "stream",
     "text": [
      "Test loss: 0.2355175592060993\n",
      "Test loss baseline: 0.2309132344333311\n",
      "Model initialized. Training on cuda\n"
     ]
    },
    {
     "name": "stderr",
     "output_type": "stream",
     "text": [
      " 58%|█████▊    | 116/200 [00:25<00:18,  4.57it/s]\n",
      " 29%|██▉       | 58/200 [00:19<00:48,  2.94it/s]\n",
      "  6%|▌         | 12/200 [00:04<01:07,  2.80it/s]\n",
      "  2%|▏         | 3/200 [00:01<01:20,  2.44it/s]\n",
      "100%|██████████| 7/7 [00:00<00:00, 183.76it/s]\n"
     ]
    },
    {
     "name": "stdout",
     "output_type": "stream",
     "text": [
      "Test loss: 0.22522032866602823\n",
      "Test loss baseline: 0.23102089290755645\n",
      "Model initialized. Training on cuda\n"
     ]
    },
    {
     "name": "stderr",
     "output_type": "stream",
     "text": [
      " 30%|███       | 60/200 [00:19<00:45,  3.08it/s]\n",
      "100%|██████████| 7/7 [00:00<00:00, 166.25it/s]\n"
     ]
    },
    {
     "name": "stdout",
     "output_type": "stream",
     "text": [
      "Test loss: 0.2360672039952956\n",
      "Test loss baseline: 0.23111409298202343\n",
      "Model initialized. Training on cuda\n"
     ]
    },
    {
     "name": "stderr",
     "output_type": "stream",
     "text": [
      " 67%|██████▋   | 134/200 [00:29<00:14,  4.52it/s]\n",
      " 34%|███▎      | 67/200 [00:23<00:46,  2.85it/s]\n",
      "  6%|▌         | 12/200 [00:04<01:14,  2.54it/s]\n",
      "  2%|▏         | 3/200 [00:01<01:33,  2.11it/s]\n",
      "100%|██████████| 7/7 [00:00<00:00, 133.29it/s]\n"
     ]
    },
    {
     "name": "stdout",
     "output_type": "stream",
     "text": [
      "Test loss: 0.2253467995404008\n",
      "Test loss baseline: 0.23101095535660027\n",
      "Model initialized. Training on cuda\n"
     ]
    },
    {
     "name": "stderr",
     "output_type": "stream",
     "text": [
      " 30%|███       | 60/200 [00:19<00:45,  3.09it/s]\n",
      "100%|██████████| 7/7 [00:00<00:00, 123.97it/s]\n"
     ]
    },
    {
     "name": "stdout",
     "output_type": "stream",
     "text": [
      "Test loss: 0.23615350431188978\n",
      "Test loss baseline: 0.23110619239379046\n",
      "Model initialized. Training on cuda\n"
     ]
    },
    {
     "name": "stderr",
     "output_type": "stream",
     "text": [
      " 61%|██████    | 122/200 [00:28<00:18,  4.25it/s]\n",
      " 32%|███▏      | 64/200 [00:21<00:46,  2.91it/s]\n",
      "  5%|▌         | 10/200 [00:03<01:15,  2.53it/s]\n",
      "  2%|▏         | 3/200 [00:01<01:23,  2.35it/s]\n",
      "100%|██████████| 7/7 [00:00<00:00, 183.99it/s]\n"
     ]
    },
    {
     "name": "stdout",
     "output_type": "stream",
     "text": [
      "Test loss: 0.22625870047662025\n",
      "Test loss baseline: 0.23210645011832887\n",
      "Model initialized. Training on cuda\n"
     ]
    },
    {
     "name": "stderr",
     "output_type": "stream",
     "text": [
      " 29%|██▉       | 58/200 [00:20<00:49,  2.87it/s]\n",
      "100%|██████████| 7/7 [00:00<00:00, 158.37it/s]\n"
     ]
    },
    {
     "name": "stdout",
     "output_type": "stream",
     "text": [
      "Test loss: 0.23707895556887487\n",
      "Test loss baseline: 0.2322018552302125\n",
      "Model initialized. Training on cuda\n"
     ]
    },
    {
     "name": "stderr",
     "output_type": "stream",
     "text": [
      " 72%|███████▏  | 143/200 [00:31<00:12,  4.60it/s]\n",
      " 25%|██▌       | 50/200 [00:16<00:50,  3.00it/s]\n",
      "  7%|▋         | 14/200 [00:05<01:12,  2.57it/s]\n",
      "  2%|▏         | 3/200 [00:01<01:15,  2.60it/s]\n",
      "100%|██████████| 7/7 [00:00<00:00, 185.26it/s]\n"
     ]
    },
    {
     "name": "stdout",
     "output_type": "stream",
     "text": [
      "Test loss: 0.22510227843413033\n",
      "Test loss baseline: 0.2308225328116643\n",
      "Model initialized. Training on cuda\n"
     ]
    },
    {
     "name": "stderr",
     "output_type": "stream",
     "text": [
      " 28%|██▊       | 57/200 [00:18<00:45,  3.15it/s]\n",
      "100%|██████████| 7/7 [00:00<00:00, 134.96it/s]\n"
     ]
    },
    {
     "name": "stdout",
     "output_type": "stream",
     "text": [
      "Test loss: 0.2355175592060993\n",
      "Test loss baseline: 0.2309132344333311\n",
      "Model initialized. Training on cuda\n"
     ]
    },
    {
     "name": "stderr",
     "output_type": "stream",
     "text": [
      " 71%|███████   | 142/200 [00:32<00:13,  4.39it/s]\n",
      " 30%|██▉       | 59/200 [00:18<00:44,  3.16it/s]\n",
      "  7%|▋         | 14/200 [00:05<01:14,  2.49it/s]\n",
      "  2%|▏         | 3/200 [00:01<01:48,  1.81it/s]\n",
      "100%|██████████| 7/7 [00:00<00:00, 158.63it/s]\n"
     ]
    },
    {
     "name": "stdout",
     "output_type": "stream",
     "text": [
      "Test loss: 0.22329871230143264\n",
      "Test loss baseline: 0.22896141839443596\n",
      "Model initialized. Training on cuda\n"
     ]
    },
    {
     "name": "stderr",
     "output_type": "stream",
     "text": [
      " 32%|███▏      | 64/200 [00:19<00:41,  3.28it/s]\n",
      "100%|██████████| 7/7 [00:00<00:00, 156.03it/s]\n"
     ]
    },
    {
     "name": "stdout",
     "output_type": "stream",
     "text": [
      "Test loss: 0.23379139182276262\n",
      "Test loss baseline: 0.22905601531341485\n",
      "Model initialized. Training on cuda\n"
     ]
    },
    {
     "name": "stderr",
     "output_type": "stream",
     "text": [
      " 76%|███████▋  | 153/200 [00:33<00:10,  4.56it/s]\n",
      " 31%|███       | 62/200 [00:20<00:46,  2.97it/s]\n",
      "  6%|▌         | 12/200 [00:03<01:01,  3.05it/s]\n",
      "  2%|▏         | 3/200 [00:01<01:16,  2.56it/s]\n",
      "100%|██████████| 7/7 [00:00<00:00, 173.98it/s]\n"
     ]
    },
    {
     "name": "stdout",
     "output_type": "stream",
     "text": [
      "Test loss: 0.2246776531982303\n",
      "Test loss baseline: 0.23032762719657357\n",
      "Model initialized. Training on cuda\n"
     ]
    },
    {
     "name": "stderr",
     "output_type": "stream",
     "text": [
      " 33%|███▎      | 66/200 [00:17<00:34,  3.87it/s]\n",
      "100%|██████████| 7/7 [00:00<00:00, 181.49it/s]\n"
     ]
    },
    {
     "name": "stdout",
     "output_type": "stream",
     "text": [
      "Test loss: 0.2353802252737364\n",
      "Test loss baseline: 0.23042230776271916\n",
      "Model initialized. Training on cuda\n"
     ]
    },
    {
     "name": "stderr",
     "output_type": "stream",
     "text": [
      " 74%|███████▍  | 149/200 [00:28<00:09,  5.17it/s]\n",
      " 24%|██▎       | 47/200 [00:16<00:53,  2.83it/s]\n",
      "  5%|▌         | 10/200 [00:04<01:22,  2.30it/s]\n",
      "  2%|▏         | 3/200 [00:01<01:19,  2.47it/s]\n",
      "100%|██████████| 7/7 [00:00<00:00, 185.66it/s]\n"
     ]
    },
    {
     "name": "stdout",
     "output_type": "stream",
     "text": [
      "Test loss: 0.22555358945728834\n",
      "Test loss baseline: 0.23121027815668957\n",
      "Model initialized. Training on cuda\n"
     ]
    },
    {
     "name": "stderr",
     "output_type": "stream",
     "text": [
      " 31%|███       | 62/200 [00:20<00:44,  3.07it/s]\n",
      "100%|██████████| 7/7 [00:00<00:00, 154.42it/s]\n"
     ]
    },
    {
     "name": "stdout",
     "output_type": "stream",
     "text": [
      "Test loss: 0.2362653613833715\n",
      "Test loss baseline: 0.23130063868668907\n",
      "Model initialized. Training on cuda\n"
     ]
    },
    {
     "name": "stderr",
     "output_type": "stream",
     "text": [
      " 55%|█████▍    | 109/200 [00:19<00:16,  5.48it/s]\n",
      " 31%|███       | 62/200 [00:16<00:37,  3.65it/s]\n",
      "  6%|▌         | 11/200 [00:03<01:04,  2.93it/s]\n",
      "  2%|▏         | 3/200 [00:01<01:14,  2.64it/s]\n",
      "100%|██████████| 7/7 [00:00<00:00, 171.41it/s]\n"
     ]
    },
    {
     "name": "stdout",
     "output_type": "stream",
     "text": [
      "Test loss: 0.22477328688129225\n",
      "Test loss baseline: 0.23036248342800617\n",
      "Model initialized. Training on cuda\n"
     ]
    },
    {
     "name": "stderr",
     "output_type": "stream",
     "text": [
      " 33%|███▎      | 66/200 [00:19<00:40,  3.32it/s]\n",
      "100%|██████████| 7/7 [00:00<00:00, 152.12it/s]\n"
     ]
    },
    {
     "name": "stdout",
     "output_type": "stream",
     "text": [
      "Test loss: 0.23541116517529523\n",
      "Test loss baseline: 0.23045642287505239\n",
      "Model initialized. Training on cuda\n"
     ]
    },
    {
     "name": "stderr",
     "output_type": "stream",
     "text": [
      " 72%|███████▏  | 143/200 [00:25<00:10,  5.57it/s]\n",
      " 34%|███▍      | 69/200 [00:18<00:34,  3.77it/s]\n",
      "  5%|▌         | 10/200 [00:03<01:11,  2.66it/s]\n",
      "  2%|▏         | 3/200 [00:01<01:21,  2.41it/s]\n",
      "100%|██████████| 7/7 [00:00<00:00, 183.58it/s]\n"
     ]
    },
    {
     "name": "stdout",
     "output_type": "stream",
     "text": [
      "Test loss: 0.22397426640303653\n",
      "Test loss baseline: 0.22954741811514495\n",
      "Model initialized. Training on cuda\n"
     ]
    },
    {
     "name": "stderr",
     "output_type": "stream",
     "text": [
      " 31%|███       | 62/200 [00:19<00:42,  3.24it/s]\n",
      "100%|██████████| 7/7 [00:00<00:00, 167.18it/s]\n"
     ]
    },
    {
     "name": "stdout",
     "output_type": "stream",
     "text": [
      "Test loss: 0.2342973492686588\n",
      "Test loss baseline: 0.22964138494911338\n",
      "Model initialized. Training on cuda\n"
     ]
    },
    {
     "name": "stderr",
     "output_type": "stream",
     "text": [
      " 72%|███████▎  | 145/200 [00:31<00:11,  4.66it/s]\n",
      " 22%|██▎       | 45/200 [00:13<00:45,  3.44it/s]\n",
      "  6%|▌         | 12/200 [00:03<01:01,  3.05it/s]\n",
      "  2%|▏         | 3/200 [00:01<01:13,  2.67it/s]\n",
      "100%|██████████| 7/7 [00:00<00:00, 174.95it/s]\n"
     ]
    },
    {
     "name": "stdout",
     "output_type": "stream",
     "text": [
      "Test loss: 0.22726936608627252\n",
      "Test loss baseline: 0.2326514531772333\n",
      "Model initialized. Training on cuda\n"
     ]
    },
    {
     "name": "stderr",
     "output_type": "stream",
     "text": [
      " 32%|███▏      | 63/200 [00:15<00:34,  4.02it/s]\n",
      "100%|██████████| 7/7 [00:00<00:00, 184.13it/s]\n"
     ]
    },
    {
     "name": "stdout",
     "output_type": "stream",
     "text": [
      "Test loss: 0.2379212871454006\n",
      "Test loss baseline: 0.23274312140489753\n",
      "Model initialized. Training on cuda\n"
     ]
    },
    {
     "name": "stderr",
     "output_type": "stream",
     "text": [
      " 82%|████████▏ | 163/200 [00:34<00:07,  4.69it/s]\n",
      " 34%|███▎      | 67/200 [00:19<00:39,  3.39it/s]\n",
      "  6%|▌         | 11/200 [00:03<01:04,  2.91it/s]\n",
      "  2%|▏         | 3/200 [00:01<01:11,  2.75it/s]\n",
      "100%|██████████| 7/7 [00:00<00:00, 185.82it/s]\n"
     ]
    },
    {
     "name": "stdout",
     "output_type": "stream",
     "text": [
      "Test loss: 0.22168089598045682\n",
      "Test loss baseline: 0.22733396120796776\n",
      "Model initialized. Training on cuda\n"
     ]
    },
    {
     "name": "stderr",
     "output_type": "stream",
     "text": [
      " 32%|███▏      | 63/200 [00:15<00:33,  4.07it/s]\n",
      "100%|██████████| 7/7 [00:00<00:00, 165.79it/s]\n"
     ]
    },
    {
     "name": "stdout",
     "output_type": "stream",
     "text": [
      "Test loss: 0.23186839396073633\n",
      "Test loss baseline: 0.2274265592903865\n",
      "Model initialized. Training on cuda\n"
     ]
    },
    {
     "name": "stderr",
     "output_type": "stream",
     "text": [
      " 57%|█████▋    | 114/200 [00:21<00:16,  5.37it/s]\n",
      " 27%|██▋       | 54/200 [00:16<00:44,  3.25it/s]\n",
      " 10%|▉         | 19/200 [00:07<01:16,  2.38it/s]\n",
      "  2%|▏         | 3/200 [00:01<01:38,  2.01it/s]\n",
      "100%|██████████| 7/7 [00:00<00:00, 152.65it/s]\n"
     ]
    },
    {
     "name": "stdout",
     "output_type": "stream",
     "text": [
      "Test loss: 0.22053085048299775\n",
      "Test loss baseline: 0.22681077266869104\n",
      "Model initialized. Training on cuda\n"
     ]
    },
    {
     "name": "stderr",
     "output_type": "stream",
     "text": [
      " 32%|███▏      | 64/200 [00:18<00:39,  3.43it/s]\n",
      "100%|██████████| 7/7 [00:00<00:00, 187.08it/s]\n"
     ]
    },
    {
     "name": "stdout",
     "output_type": "stream",
     "text": [
      "Test loss: 0.23140460880765892\n",
      "Test loss baseline: 0.2269025430120435\n",
      "Model initialized. Training on cuda\n"
     ]
    },
    {
     "name": "stderr",
     "output_type": "stream",
     "text": [
      " 65%|██████▌   | 130/200 [00:28<00:15,  4.53it/s]\n",
      " 20%|█▉        | 39/200 [00:12<00:51,  3.12it/s]\n",
      "  5%|▌         | 10/200 [00:03<01:15,  2.52it/s]\n",
      "  2%|▏         | 3/200 [00:01<01:13,  2.67it/s]\n",
      "100%|██████████| 7/7 [00:00<00:00, 181.36it/s]\n"
     ]
    },
    {
     "name": "stdout",
     "output_type": "stream",
     "text": [
      "Test loss: 0.22999732185183022\n",
      "Test loss baseline: 0.2354707420243884\n",
      "Model initialized. Training on cuda\n"
     ]
    },
    {
     "name": "stderr",
     "output_type": "stream",
     "text": [
      " 32%|███▏      | 63/200 [00:16<00:36,  3.79it/s]\n",
      "100%|██████████| 7/7 [00:00<00:00, 180.81it/s]\n"
     ]
    },
    {
     "name": "stdout",
     "output_type": "stream",
     "text": [
      "Test loss: 0.2406363408464446\n",
      "Test loss baseline: 0.23555988485825033\n",
      "Model initialized. Training on cuda\n"
     ]
    },
    {
     "name": "stderr",
     "output_type": "stream",
     "text": [
      " 62%|██████▏   | 123/200 [00:22<00:14,  5.40it/s]\n",
      " 20%|█▉        | 39/200 [00:10<00:45,  3.58it/s]\n",
      "  6%|▌         | 12/200 [00:04<01:04,  2.89it/s]\n",
      "  2%|▏         | 3/200 [00:01<01:13,  2.67it/s]\n",
      "100%|██████████| 7/7 [00:00<00:00, 176.05it/s]\n"
     ]
    },
    {
     "name": "stdout",
     "output_type": "stream",
     "text": [
      "Test loss: 0.22221590604568062\n",
      "Test loss baseline: 0.22800062284653919\n",
      "Model initialized. Training on cuda\n"
     ]
    },
    {
     "name": "stderr",
     "output_type": "stream",
     "text": [
      " 31%|███       | 62/200 [00:15<00:35,  3.94it/s]\n",
      "100%|██████████| 7/7 [00:00<00:00, 178.68it/s]"
     ]
    },
    {
     "name": "stdout",
     "output_type": "stream",
     "text": [
      "Test loss: 0.23273213289473715\n",
      "Test loss baseline: 0.22809030869952462\n"
     ]
    },
    {
     "name": "stderr",
     "output_type": "stream",
     "text": [
      "\n"
     ]
    }
   ],
   "source": [
    "var_by_coupling_percentage_matrix = np.zeros((len(shared_background_list), nrep))\n",
    "var_by_coupling_percentage_matrix_base_model = np.zeros((len(shared_background_list), nrep))\n",
    "for i_shared_background, shared_background in enumerate(shared_background_list):\n",
    "    for rep in range(nrep):\n",
    "        load_data_name = f'/home/qix/user_data/EIF_simulation_dataset/'\\\n",
    "            +f'synthetic_data_EIF_conn={str(conn)}_corr={shared_background}_rep={rep}.npz'\n",
    "\n",
    "        data = np.load(load_data_name, allow_pickle=True)\n",
    "        spikes = data['spikes']\n",
    "        trial_info = data['trial_info']\n",
    "        I_ext = data['I_ext']\n",
    "        I_syn = data['I_syn']\n",
    "\n",
    "        synthetic_dataloader = Simple_dataloader_from_spikes(\n",
    "            [spikes[:,:nneuron_part,:], spikes[:,nneuron_part:,:]],\n",
    "            npadding=50,\n",
    "            train_ratio=0.7,\n",
    "            val_ratio=0.1,\n",
    "            batch_size=64,\n",
    "            verbose=True\n",
    "        )\n",
    "\n",
    "        result = fit_model(synthetic_dataloader, False)\n",
    "        result_base_model = fit_model(synthetic_dataloader, True)\n",
    "\n",
    "        var_by_coupling_percentage_matrix[i_shared_background, rep] = (\n",
    "            result\n",
    "        )\n",
    "        var_by_coupling_percentage_matrix_base_model[i_shared_background, rep] = (\n",
    "            result_base_model\n",
    "        )\n",
    "    \n",
    "# Save the variance explained matrices\n",
    "np.save('/home/qix/user_data/EIF_simulation_dataset/var_by_coupling_percentage_matrix.npy', \n",
    "        var_by_coupling_percentage_matrix)\n",
    "np.save('/home/qix/user_data/EIF_simulation_dataset/var_by_coupling_percentage_matrix_base_model.npy',\n",
    "        var_by_coupling_percentage_matrix_base_model)\n"
   ]
  },
  {
   "cell_type": "markdown",
   "metadata": {},
   "source": [
    "# Reduced rank regression"
   ]
  },
  {
   "cell_type": "code",
   "execution_count": 86,
   "metadata": {},
   "outputs": [],
   "source": [
    "####### Reduced Rank Regression ########\n",
    "from GLM import reduced_rank_regression\n",
    "num_trials_to_use = 2000\n",
    "merge_time = 10\n",
    "var_by_coupling_percentage_matrix_rrr = np.zeros((len(shared_background_list), nrep))\n",
    "for i_shared_background, shared_background in enumerate(shared_background_list):\n",
    "    for rep in range(nrep):\n",
    "\n",
    "        load_data_name = f'/home/qix/user_data/EIF_simulation_dataset/'\\\n",
    "            +f'synthetic_data_EIF_conn={str(conn)}_corr={shared_background}_rep={rep}.npz'\n",
    "\n",
    "        data = np.load(load_data_name, allow_pickle=True)\n",
    "        spikes = data['spikes'][:, :, :num_trials_to_use]\n",
    "        trial_info = data['trial_info']\n",
    "        I_ext = data['I_ext']\n",
    "        I_syn = data['I_syn']\n",
    "        nt, nneuron, ntrial = spikes.shape\n",
    "\n",
    "        spikes_merged = spikes.reshape(\n",
    "            int(nt/merge_time), \n",
    "            merge_time, \n",
    "            nneuron, \n",
    "            ntrial\n",
    "        ).sum(axis=1)\n",
    "        X = spikes_merged[:, :50, :]\n",
    "        Y = spikes_merged[:, 50:, :]\n",
    "        var_by_coupling_percentage_matrix_rrr[i_shared_background, rep] = (\n",
    "            reduced_rank_regression(X, Y, 1)\n",
    "        )\n",
    "\n",
    "# Save the variance explained matrices\n",
    "np.save('/home/qix/user_data/EIF_simulation_dataset/var_by_coupling_percentage_matrix_rrr.npy', \n",
    "        var_by_coupling_percentage_matrix_rrr)\n"
   ]
  },
  {
   "cell_type": "markdown",
   "metadata": {},
   "source": [
    "# Single-neuron GLM"
   ]
  },
  {
   "cell_type": "code",
   "execution_count": 89,
   "metadata": {},
   "outputs": [
    {
     "name": "stderr",
     "output_type": "stream",
     "text": [
      "100%|██████████| 50/50 [01:11<00:00,  1.44s/it]\n",
      "100%|██████████| 50/50 [01:11<00:00,  1.43s/it]\n",
      "100%|██████████| 50/50 [01:11<00:00,  1.42s/it]\n",
      "100%|██████████| 50/50 [01:11<00:00,  1.44s/it]\n",
      "100%|██████████| 50/50 [01:12<00:00,  1.45s/it]\n",
      "100%|██████████| 50/50 [01:11<00:00,  1.43s/it]\n",
      "100%|██████████| 50/50 [01:11<00:00,  1.43s/it]\n",
      "100%|██████████| 50/50 [01:11<00:00,  1.42s/it]\n",
      "100%|██████████| 50/50 [01:11<00:00,  1.43s/it]\n",
      "100%|██████████| 50/50 [01:11<00:00,  1.43s/it]\n",
      "100%|██████████| 50/50 [01:11<00:00,  1.42s/it]\n",
      "100%|██████████| 50/50 [01:11<00:00,  1.43s/it]\n",
      "100%|██████████| 50/50 [01:11<00:00,  1.44s/it]\n",
      "100%|██████████| 50/50 [01:11<00:00,  1.43s/it]\n",
      "100%|██████████| 50/50 [01:11<00:00,  1.43s/it]\n"
     ]
    }
   ],
   "source": [
    "######### Single-neuron GLM ##########\n",
    "# Randomly sample some neurons in area 2 and fit the model\n",
    "num_trials_to_use = 200\n",
    "from GLM import PP_GLM\n",
    "var_by_coupling_percentage_matrix_single_neuron_GLM = np.zeros((len(shared_background_list), nrep))\n",
    "\n",
    "for i_shared_background, shared_background in enumerate(shared_background_list):\n",
    "    for rep in range(nrep):\n",
    "        load_data_name = f'/home/qix/user_data/EIF_simulation_dataset/'\\\n",
    "            +f'synthetic_data_EIF_conn={str(conn)}_corr={shared_background}_rep={rep}.npz'\n",
    "\n",
    "        data = np.load(load_data_name, allow_pickle=True)\n",
    "        spikes = data['spikes'][:, :, :num_trials_to_use]\n",
    "        trial_info = data['trial_info']\n",
    "        I_ext = data['I_ext']\n",
    "        I_syn = data['I_syn']\n",
    "        nt, nneuron, ntrial = spikes.shape\n",
    "\n",
    "        all_trials = np.array( [True]*ntrial )\n",
    "        var_list = []\n",
    "        for output_neuron in tqdm(range(nneuron_part, 2*nneuron_part)):\n",
    "            model = PP_GLM(ntrial=ntrial, nt=nt, select_trials=all_trials)\n",
    "            model.add_effect(\"inhomogeneous_baseline\", num=20, apply_no_penalty=True)\n",
    "            for input_neuron in range(nneuron):\n",
    "                model.add_effect(\"coupling\", raw_input=spikes[:,input_neuron,:], \n",
    "                                num=3, peaks_max=5, nonlinear=1)\n",
    "            model.fit(target=spikes[:,output_neuron,:], method='mine', penalty=1e2, verbose=False)\n",
    "            var_by_all_predictors = (np.exp(model.predictors@model.results.params)).var()\n",
    "            params_not_coupling = np.concatenate([np.arange(20), np.arange(20+3*nneuron_part, 20+6*nneuron_part)])\n",
    "            var_wo_coupling = (\n",
    "                np.exp(model.predictors[:,params_not_coupling]@model.results.params[params_not_coupling])\n",
    "            ).var()\n",
    "            var_list.append((var_by_all_predictors - var_wo_coupling) / var_by_all_predictors)\n",
    "        var_by_coupling_percentage_matrix_single_neuron_GLM[i_shared_background, rep] = (\n",
    "            np.mean(var_list)\n",
    "        )\n",
    "\n",
    "# Save the variance explained matrices\n",
    "np.save('/home/qix/user_data/EIF_simulation_dataset/var_by_coupling_percentage_matrix_single_neuron_GLM.npy', \n",
    "        var_by_coupling_percentage_matrix_single_neuron_GLM)\n"
   ]
  },
  {
   "cell_type": "markdown",
   "metadata": {},
   "source": [
    "# Single-neuron GLM with trial-specific gain"
   ]
  },
  {
   "cell_type": "code",
   "execution_count": 114,
   "metadata": {},
   "outputs": [
    {
     "name": "stderr",
     "output_type": "stream",
     "text": [
      "100%|██████████| 50/50 [01:59<00:00,  2.40s/it]\n",
      "100%|██████████| 50/50 [01:59<00:00,  2.39s/it]\n",
      "100%|██████████| 50/50 [01:59<00:00,  2.40s/it]\n",
      "100%|██████████| 50/50 [02:03<00:00,  2.47s/it]\n",
      "100%|██████████| 50/50 [01:59<00:00,  2.40s/it]\n",
      "100%|██████████| 50/50 [02:06<00:00,  2.53s/it]\n",
      "100%|██████████| 50/50 [01:59<00:00,  2.39s/it]\n",
      "100%|██████████| 50/50 [02:01<00:00,  2.43s/it]\n",
      "100%|██████████| 50/50 [02:01<00:00,  2.43s/it]\n",
      "100%|██████████| 50/50 [02:08<00:00,  2.58s/it]\n",
      "100%|██████████| 50/50 [01:59<00:00,  2.40s/it]\n",
      "100%|██████████| 50/50 [02:00<00:00,  2.41s/it]\n",
      "100%|██████████| 50/50 [02:00<00:00,  2.40s/it]\n",
      "100%|██████████| 50/50 [02:00<00:00,  2.42s/it]\n",
      "100%|██████████| 50/50 [02:00<00:00,  2.41s/it]\n"
     ]
    }
   ],
   "source": [
    "######### Single-neuron GLM ##########\n",
    "# Randomly sample some neurons in area 2 and fit the model\n",
    "num_trials_to_use = 200\n",
    "\n",
    "from GLM import PP_GLM\n",
    "var_by_coupling_percentage_matrix_single_neuron_GLM_gain = np.zeros((len(shared_background_list), nrep))\n",
    "\n",
    "for i_shared_background, shared_background in enumerate(shared_background_list):\n",
    "    for rep in range(nrep):\n",
    "        load_data_name = f'/home/qix/user_data/EIF_simulation_dataset/'\\\n",
    "            +f'synthetic_data_EIF_conn={str(conn)}_corr={shared_background}_rep={rep}.npz'\n",
    "\n",
    "        data = np.load(load_data_name, allow_pickle=True)\n",
    "        spikes = data['spikes'][:, :, :num_trials_to_use]\n",
    "        trial_info = data['trial_info']\n",
    "        I_ext = data['I_ext']\n",
    "        I_syn = data['I_syn']\n",
    "        nt, nneuron, ntrial = spikes.shape\n",
    "\n",
    "        all_trials = np.array( [True]*ntrial )\n",
    "        var_list = []\n",
    "        for output_neuron in tqdm(range(nneuron_part, 2*nneuron_part)):\n",
    "            model = PP_GLM(ntrial=ntrial, nt=nt, select_trials=all_trials)\n",
    "            model.add_effect(\"inhomogeneous_baseline\", num=20, apply_no_penalty=True)\n",
    "            model.add_effect(\"trial_coef\", apply_no_penalty=True)\n",
    "            for input_neuron in range(nneuron):\n",
    "                model.add_effect(\"coupling\", raw_input=spikes[:,input_neuron,:], \n",
    "                                num=3, peaks_max=5, nonlinear=1)\n",
    "            model.fit(target=spikes[:,output_neuron,:], method='mine', penalty=1e2, \n",
    "                      no_penalty_term_penalty=3e-3, verbose=False)\n",
    "            var_by_all_predictors = (np.exp(model.predictors@model.results.params)).var()\n",
    "            params_not_coupling = np.concatenate([np.arange(220), np.arange(220+3*nneuron_part, 220+6*nneuron_part)])\n",
    "            var_wo_coupling = (\n",
    "                np.exp(model.predictors[:,params_not_coupling]@model.results.params[params_not_coupling])\n",
    "            ).var()\n",
    "            var_list.append((var_by_all_predictors - var_wo_coupling) / var_by_all_predictors)\n",
    "        var_by_coupling_percentage_matrix_single_neuron_GLM_gain[i_shared_background, rep] = (\n",
    "            np.mean(var_list)\n",
    "        )\n",
    "\n",
    "# Save the variance explained matrices\n",
    "np.save('/home/qix/user_data/EIF_simulation_dataset/var_by_coupling_percentage_matrix_single_neuron_GLM_gain.npy', \n",
    "        var_by_coupling_percentage_matrix_single_neuron_GLM_gain)\n"
   ]
  },
  {
   "cell_type": "markdown",
   "metadata": {},
   "source": [
    "# mDLAG"
   ]
  },
  {
   "cell_type": "code",
   "execution_count": 23,
   "metadata": {},
   "outputs": [],
   "source": [
    "var_by_coupling_percentage_matrix_mdlag = np.array(\n",
    "    [[0.023,0.017,0.025,0.006,0.023], \n",
    "     [0.034,0.028,0.031,0.088,0.064], \n",
    "     [0.252,0.228,0.244,0.262,0.207]]\n",
    ")\n",
    "var_by_coupling_percentage_matrix_mdlag[1,:] += 0.128\n",
    "# var_by_coupling_percentage_matrix_mdlag = np.array(\n",
    "#     [[], \n",
    "#      [0.128,], \n",
    "#      [0.24]]\n",
    "# )\n",
    "\n",
    "# Save the variance explained matrices\n",
    "np.save('/home/qix/user_data/EIF_simulation_dataset/var_by_coupling_percentage_matrix_mdlag.npy', \n",
    "        var_by_coupling_percentage_matrix_mdlag)"
   ]
  },
  {
   "cell_type": "markdown",
   "metadata": {},
   "source": [
    "# Plot"
   ]
  },
  {
   "cell_type": "code",
   "execution_count": 19,
   "metadata": {},
   "outputs": [],
   "source": [
    "### Load results\n",
    "var_by_coupling_percentage_matrix = np.load(\n",
    "    '/home/qix/user_data/EIF_simulation_dataset/var_by_coupling_percentage_matrix.npy'\n",
    ")\n",
    "var_by_coupling_percentage_matrix_base_model = np.load(\n",
    "    '/home/qix/user_data/EIF_simulation_dataset/var_by_coupling_percentage_matrix_base_model.npy'\n",
    ")\n",
    "var_by_coupling_percentage_matrix_rrr = np.load(\n",
    "    '/home/qix/user_data/EIF_simulation_dataset/var_by_coupling_percentage_matrix_rrr.npy'\n",
    ")\n",
    "var_by_coupling_percentage_matrix_single_neuron_GLM = np.load(\n",
    "    '/home/qix/user_data/EIF_simulation_dataset/var_by_coupling_percentage_matrix_single_neuron_GLM.npy'\n",
    ")\n",
    "var_by_coupling_percentage_matrix_single_neuron_GLM_gain = np.load(\n",
    "    '/home/qix/user_data/EIF_simulation_dataset/var_by_coupling_percentage_matrix_single_neuron_GLM_gain.npy'\n",
    ")\n",
    "var_by_coupling_percentage_matrix_mdlag = np.load(\n",
    "    '/home/qix/user_data/EIF_simulation_dataset/var_by_coupling_percentage_matrix_mdlag.npy'\n",
    ")\n"
   ]
  },
  {
   "cell_type": "code",
   "execution_count": null,
   "metadata": {},
   "outputs": [
    {
     "data": {
      "image/png": "[encoded data removed]",
      "text/plain": [
       "<Figure size 900x450 with 1 Axes>"
      ]
     },
     "metadata": {},
     "output_type": "display_data"
    }
   ],
   "source": [
    "utils.use_pdf_plot()\n",
    "fig, ax = plt.subplots(1, 1, figsize=(3, 1.5), dpi=300)\n",
    "\n",
    "for i, results in enumerate([\n",
    "    var_by_coupling_percentage_matrix,\n",
    "    var_by_coupling_percentage_matrix_base_model,\n",
    "    var_by_coupling_percentage_matrix_rrr,\n",
    "    var_by_coupling_percentage_matrix_single_neuron_GLM,\n",
    "    var_by_coupling_percentage_matrix_single_neuron_GLM_gain,\n",
    "    var_by_coupling_percentage_matrix_mdlag,\n",
    "]):\n",
    "    plt.errorbar(shared_background_list, results.mean(axis=1), results.std(axis=1)/np.sqrt(results.shape[1]))\n",
    "\n",
    "# for results in [\n",
    "#     var_by_coupling_percentage_matrix.mean(axis=1),\n",
    "#     var_by_coupling_percentage_matrix_base_model[:,4],\n",
    "#     var_by_coupling_percentage_matrix_rrr.mean(axis=1),\n",
    "#     var_by_coupling_percentage_matrix_single_neuron_GLM[:,0],\n",
    "#     var_by_coupling_percentage_matrix_single_neuron_GLM_gain[:,0]\n",
    "# ]:\n",
    "#     plt.plot(shared_background_list, results)\n",
    "\n",
    "plt.legend([\n",
    "    \"GLM-Transformer\",\n",
    "    \"GLM-Transformer w/o \\ntrial-varying baseline\", \n",
    "    \"Reduced rank regression\",\n",
    "    \"Single-neuron GLM\",\n",
    "    \"Single-neuron GLM w/ \\ntrial-specific gain\",\n",
    "    \"mDLAG\",\n",
    "], bbox_to_anchor=(1.05, 1), loc='upper left')\n",
    "\n",
    "plt.xticks([0.0, 0.2, 0.4])\n",
    "plt.gca().yaxis.set_major_formatter(lambda x, pos: f'{x*100:.0f}')\n",
    "plt.ylabel('Contribution of coupling(%)')\n",
    "plt.xlabel('Correlation of background dynamics')\n",
    "\n",
    "plt.tight_layout()\n",
    "# plt.savefig('Figure/Figure4_shared_background.pdf', bbox_inches='tight', dpi=300)"
   ]
  },
  {
   "cell_type": "code",
   "execution_count": null,
   "metadata": {},
   "outputs": [],
   "source": []
  },
  {
   "cell_type": "code",
   "execution_count": null,
   "metadata": {},
   "outputs": [],
   "source": []
  },
  {
   "cell_type": "markdown",
   "metadata": {},
   "source": [
    "# Create data for mDLAG"
   ]
  },
  {
   "cell_type": "code",
   "execution_count": 12,
   "metadata": {},
   "outputs": [],
   "source": [
    "####### Reduced Rank Regression ########\n",
    "from GLM import reduced_rank_regression\n",
    "num_trials_to_use = 2000\n",
    "merge_time = 10\n",
    "\n",
    "import numpy as np\n",
    "from scipy.io import savemat\n",
    "import os\n",
    "\n",
    "shared_background_list = [0.0, 0.2, 0.4]\n",
    "conn = 0.0\n",
    "nrep = 5\n",
    "save_dir = '/home/qix/user_data/EIF_simulation_dataset/matlab_format/'\n",
    "os.makedirs(save_dir, exist_ok=True)\n",
    "\n",
    "all_data = {}  # top-level dictionary to hold all conditions\n",
    "\n",
    "for i_shared_background, shared_background in enumerate(shared_background_list):\n",
    "    for rep in range(nrep):\n",
    "\n",
    "        load_data_name = f'/home/qix/user_data/EIF_simulation_dataset/'\\\n",
    "            + f'synthetic_data_EIF_conn={conn}_corr={shared_background}_rep={rep}.npz'\n",
    "\n",
    "        data = np.load(load_data_name, allow_pickle=True)\n",
    "        spikes = data['spikes'][:, :, :num_trials_to_use]\n",
    "        nt, nneuron, ntrial = spikes.shape\n",
    "\n",
    "        spikes_merged = spikes.reshape(\n",
    "            int(nt / merge_time), \n",
    "            merge_time, \n",
    "            nneuron, \n",
    "            ntrial\n",
    "        ).sum(axis=1).astype(np.float32)\n",
    "\n",
    "        corr_str = str(shared_background).replace('.', '_')\n",
    "        # Generate unique keys\n",
    "        key_base = f'corr_{corr_str}_rep_{rep}'\n",
    "        all_data[key_base] = spikes_merged\n",
    "\n",
    "# Save everything into a single .mat file\n",
    "savemat('/home/qix/user_data/EIF_simulation_dataset/matlab_format.mat', all_data, do_compression=False)\n"
   ]
  }
 ],
 "metadata": {
  "kernelspec": {
   "display_name": "Python 3",
   "language": "python",
   "name": "python3"
  },
  "language_info": {
   "codemirror_mode": {
    "name": "ipython",
    "version": 3
   },
   "file_extension": ".py",
   "mimetype": "text/x-python",
   "name": "python",
   "nbconvert_exporter": "python",
   "pygments_lexer": "ipython3",
   "version": "3.9.21"
  }
 },
 "nbformat": 4,
 "nbformat_minor": 2
}
