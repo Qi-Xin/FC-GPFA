{
 "cells": [
  {
   "cell_type": "markdown",
   "metadata": {},
   "source": [
    "# Set up environment"
   ]
  },
  {
   "cell_type": "code",
   "execution_count": null,
   "metadata": {},
   "outputs": [],
   "source": [
    "%load_ext autoreload\n",
    "%autoreload 2\n",
    "%matplotlib inline"
   ]
  },
  {
   "cell_type": "code",
   "execution_count": null,
   "metadata": {},
   "outputs": [
    {
     "name": "stdout",
     "output_type": "stream",
     "text": [
      "True\n",
      "12.1\n"
     ]
    }
   ],
   "source": [
    "# Test if GPU is available\n",
    "# Note that CUDA below 12.1 can have bugs\n",
    "import torch\n",
    "print(torch.cuda.is_available())\n",
    "# print(torch.cuda.get_device_name(0))\n",
    "print(torch.version.cuda)\n",
    "device = torch.device(\"cuda\" if torch.cuda.is_available() else \"cpu\")"
   ]
  },
  {
   "cell_type": "code",
   "execution_count": null,
   "metadata": {},
   "outputs": [],
   "source": [
    "#%% import libraries\n",
    "import os\n",
    "from collections import defaultdict\n",
    "import sys\n",
    "\n",
    "import matplotlib.pyplot as plt\n",
    "import pandas as pd\n",
    "import seaborn as sns\n",
    "import copy\n",
    "import numpy as np\n",
    "import numpy.random\n",
    "from numpy.fft import fft as fft\n",
    "from numpy.fft import ifft as ifft\n",
    "import pickle\n",
    "from sklearn.linear_model import PoissonRegressor\n",
    "from sklearn.model_selection import KFold\n",
    "from sklearn.manifold import TSNE\n",
    "import scipy.stats\n",
    "from scipy.stats import wilcoxon, chi2\n",
    "import scipy.interpolate \n",
    "import scipy.signal\n",
    "from scipy import linalg\n",
    "from scipy.special import rel_entr\n",
    "from tqdm import tqdm\n",
    "import pandas as pd\n",
    "import joblib\n",
    "import logging\n",
    "\n",
    "import statsmodels.api as sm\n",
    "import statsmodels.genmod.generalized_linear_model as smm\n",
    "\n",
    "import torch\n",
    "from torch.autograd import Variable\n",
    "from torch.nn import functional as F\n",
    "import torch.nn as nn\n",
    "import torch.optim as optim"
   ]
  },
  {
   "cell_type": "code",
   "execution_count": null,
   "metadata": {},
   "outputs": [
    {
     "name": "stderr",
     "output_type": "stream",
     "text": [
      "/home/qix/anaconda3/envs/allen/lib/python3.9/site-packages/tqdm/auto.py:21: TqdmWarning: IProgress not found. Please update jupyter and ipywidgets. See https://ipywidgets.readthedocs.io/en/stable/user_install.html\n",
      "  from .autonotebook import tqdm as notebook_tqdm\n"
     ]
    }
   ],
   "source": [
    "# import my code\n",
    "import utility_functions as utils\n",
    "import GLM\n",
    "from DataLoader import Allen_dataset, Allen_dataloader_multi_session, Simple_dataloader_from_spikes\n",
    "from model_trainer import Trainer\n",
    "\n",
    "utils.set_seed(0)"
   ]
  },
  {
   "cell_type": "markdown",
   "metadata": {},
   "source": [
    "# Correlated background but no synapse"
   ]
  },
  {
   "cell_type": "code",
   "execution_count": null,
   "metadata": {},
   "outputs": [
    {
     "name": "stderr",
     "output_type": "stream",
     "text": [
      "100%|██████████| 2000/2000 [02:48<00:00, 11.86it/s]\n",
      "100%|██████████| 2000/2000 [02:49<00:00, 11.82it/s]\n",
      "100%|██████████| 2000/2000 [02:49<00:00, 11.82it/s]\n"
     ]
    }
   ],
   "source": [
    "######### Settings #########\n",
    "external_input_params = {\n",
    "    \"external_input_type\": \"two_peaks_with_all_varying\",\n",
    "    \"std1\": 10,\n",
    "    \"corr1\": 0.5,\n",
    "    \"std2\": 25,\n",
    "    \"corr2\": 0.5,\n",
    "    \"use_two_modes\": False,\n",
    "    \"gp_time_constant\": 300,\n",
    "    \"gp_amplitude\": 0.05,\n",
    "}\n",
    "\n",
    "conn = 0.0\n",
    "nneuron_coupling = 10\n",
    "nneuron = 100\n",
    "nneuron_part = nneuron//2\n",
    "npadding = 50\n",
    "############################\n",
    "for shared_background in [0.0, 0.2, 0.4]:\n",
    "    spikes, trial_info, I_ext, I_syn = GLM.EIF_simulator(\n",
    "        ntrial=2000,\n",
    "        nneuron=nneuron,\n",
    "        conn=conn,\n",
    "        nneuron_coupling=nneuron_coupling,\n",
    "        params=external_input_params,\n",
    "        shared_background=shared_background,\n",
    "        return_trial_info=True,\n",
    "        return_I_ext=True,\n",
    "        return_I_syn=True,\n",
    "    )\n",
    "    file_name = f'/home/qix/user_data/EIF_simulation_dataset/synthetic_data_EIF_conn={str(conn)}_corr={shared_background}.npz'\n",
    "    np.savez_compressed(file_name,\n",
    "                        spikes=spikes,\n",
    "                        trial_info=trial_info,\n",
    "                        I_ext=I_ext,\n",
    "                        I_syn=I_syn)\n",
    "\n"
   ]
  },
  {
   "cell_type": "code",
   "execution_count": null,
   "metadata": {},
   "outputs": [
    {
     "name": "stdout",
     "output_type": "stream",
     "text": [
      "Model initialized. Training on cuda\n",
      "Start training model with parameters: {'num_B_spline_basis': 20, 'downsample_factor': 10, 'transformer_num_layers': 2, 'transformer_d_model': 128, 'transformer_dim_feedforward': 512, 'transformer_vae_output_dim': 16, 'transformer_dropout': 0.0, 'transformer_nhead': 1, 'stimulus_nfactor': 1, 'stimulus_decoder_inter_dim_factor': 2, 'beta': 1.0, 'use_area_specific_decoder': True, 'use_area_specific_encoder': True, 'use_cls': False, 'coupling_basis_peaks_max': 5, 'coupling_basis_num': 3, 'coupling_nsubspace': 1, 'use_self_coupling': True, 'K_sigma2': 1.0, 'K_tau': 100, 'coupling_strength_nlatent': 1, 'penalty_smoothing_spline': 100.0, 'penalty_effect_overlapping': None, 'penalty_coupling_subgroup': 0.0001, 'penalty_diff_loading': None, 'batch_size': 64, 'sample_latent': False, 'lr': 0.001, 'epoch_warm_up': 0, 'epoch_patience': 3, 'epoch_max': 200, 'tol': 1e-05, 'weight_decay': 0, 'lr_transformer': 0.0001, 'lr_sti': 0.01, 'lr_cp': 0.01}\n"
     ]
    },
    {
     "name": "stderr",
     "output_type": "stream",
     "text": [
      "100%|██████████| 22/22 [00:00<00:00, 190.87it/s]\n",
      "100%|██████████| 4/4 [00:00<00:00, 290.85it/s]\n"
     ]
    },
    {
     "name": "stdout",
     "output_type": "stream",
     "text": [
      "Epoch 1/200, Train Loss: 1.0329, Test Loss: 0.8741\n"
     ]
    },
    {
     "name": "stderr",
     "output_type": "stream",
     "text": [
      "100%|██████████| 22/22 [00:00<00:00, 176.61it/s]\n",
      "100%|██████████| 4/4 [00:00<00:00, 295.25it/s]\n"
     ]
    },
    {
     "name": "stdout",
     "output_type": "stream",
     "text": [
      "Epoch 2/200, Train Loss: 0.7309, Test Loss: 0.5783\n"
     ]
    },
    {
     "name": "stderr",
     "output_type": "stream",
     "text": [
      "100%|██████████| 22/22 [00:00<00:00, 174.80it/s]\n",
      "100%|██████████| 4/4 [00:00<00:00, 294.55it/s]\n"
     ]
    },
    {
     "name": "stdout",
     "output_type": "stream",
     "text": [
      "Epoch 3/200, Train Loss: 0.4732, Test Loss: 0.3739\n"
     ]
    },
    {
     "name": "stderr",
     "output_type": "stream",
     "text": [
      "100%|██████████| 22/22 [00:00<00:00, 152.77it/s]\n",
      "100%|██████████| 4/4 [00:00<00:00, 290.42it/s]\n"
     ]
    },
    {
     "name": "stdout",
     "output_type": "stream",
     "text": [
      "Epoch 4/200, Train Loss: 0.3262, Test Loss: 0.2818\n"
     ]
    },
    {
     "name": "stderr",
     "output_type": "stream",
     "text": [
      "100%|██████████| 22/22 [00:00<00:00, 175.61it/s]\n",
      "100%|██████████| 4/4 [00:00<00:00, 291.22it/s]\n"
     ]
    },
    {
     "name": "stdout",
     "output_type": "stream",
     "text": [
      "Epoch 5/200, Train Loss: 0.2675, Test Loss: 0.2487\n"
     ]
    },
    {
     "name": "stderr",
     "output_type": "stream",
     "text": [
      "100%|██████████| 22/22 [00:00<00:00, 160.78it/s]\n",
      "100%|██████████| 4/4 [00:00<00:00, 280.19it/s]\n"
     ]
    },
    {
     "name": "stdout",
     "output_type": "stream",
     "text": [
      "Epoch 6/200, Train Loss: 0.2464, Test Loss: 0.2361\n"
     ]
    },
    {
     "name": "stderr",
     "output_type": "stream",
     "text": [
      "100%|██████████| 22/22 [00:00<00:00, 155.58it/s]\n",
      "100%|██████████| 4/4 [00:00<00:00, 262.74it/s]\n"
     ]
    },
    {
     "name": "stdout",
     "output_type": "stream",
     "text": [
      "Epoch 7/200, Train Loss: 0.2378, Test Loss: 0.2305\n"
     ]
    },
    {
     "name": "stderr",
     "output_type": "stream",
     "text": [
      "100%|██████████| 22/22 [00:00<00:00, 128.96it/s]\n",
      "100%|██████████| 4/4 [00:00<00:00, 285.47it/s]\n"
     ]
    },
    {
     "name": "stdout",
     "output_type": "stream",
     "text": [
      "Epoch 8/200, Train Loss: 0.2339, Test Loss: 0.2277\n"
     ]
    },
    {
     "name": "stderr",
     "output_type": "stream",
     "text": [
      "100%|██████████| 22/22 [00:00<00:00, 159.79it/s]\n",
      "100%|██████████| 4/4 [00:00<00:00, 280.53it/s]\n"
     ]
    },
    {
     "name": "stdout",
     "output_type": "stream",
     "text": [
      "Epoch 9/200, Train Loss: 0.2318, Test Loss: 0.2262\n"
     ]
    },
    {
     "name": "stderr",
     "output_type": "stream",
     "text": [
      "100%|██████████| 22/22 [00:00<00:00, 157.34it/s]\n",
      "100%|██████████| 4/4 [00:00<00:00, 267.84it/s]\n"
     ]
    },
    {
     "name": "stdout",
     "output_type": "stream",
     "text": [
      "Epoch 10/200, Train Loss: 0.2307, Test Loss: 0.2253\n"
     ]
    },
    {
     "name": "stderr",
     "output_type": "stream",
     "text": [
      "100%|██████████| 22/22 [00:00<00:00, 154.26it/s]\n",
      "100%|██████████| 4/4 [00:00<00:00, 259.83it/s]\n"
     ]
    },
    {
     "name": "stdout",
     "output_type": "stream",
     "text": [
      "Epoch 11/200, Train Loss: 0.2300, Test Loss: 0.2248\n"
     ]
    },
    {
     "name": "stderr",
     "output_type": "stream",
     "text": [
      "100%|██████████| 22/22 [00:00<00:00, 110.82it/s]\n",
      "100%|██████████| 4/4 [00:00<00:00, 249.85it/s]\n"
     ]
    },
    {
     "name": "stdout",
     "output_type": "stream",
     "text": [
      "Epoch 12/200, Train Loss: 0.2296, Test Loss: 0.2245\n"
     ]
    },
    {
     "name": "stderr",
     "output_type": "stream",
     "text": [
      "100%|██████████| 22/22 [00:00<00:00, 173.15it/s]\n",
      "100%|██████████| 4/4 [00:00<00:00, 279.31it/s]\n"
     ]
    },
    {
     "name": "stdout",
     "output_type": "stream",
     "text": [
      "Epoch 13/200, Train Loss: 0.2293, Test Loss: 0.2243\n"
     ]
    },
    {
     "name": "stderr",
     "output_type": "stream",
     "text": [
      "100%|██████████| 22/22 [00:00<00:00, 161.48it/s]\n",
      "100%|██████████| 4/4 [00:00<00:00, 244.01it/s]\n"
     ]
    },
    {
     "name": "stdout",
     "output_type": "stream",
     "text": [
      "Epoch 14/200, Train Loss: 0.2292, Test Loss: 0.2242\n"
     ]
    },
    {
     "name": "stderr",
     "output_type": "stream",
     "text": [
      "100%|██████████| 22/22 [00:00<00:00, 144.58it/s]\n",
      "100%|██████████| 4/4 [00:00<00:00, 293.75it/s]\n"
     ]
    },
    {
     "name": "stdout",
     "output_type": "stream",
     "text": [
      "Epoch 15/200, Train Loss: 0.2291, Test Loss: 0.2241\n"
     ]
    },
    {
     "name": "stderr",
     "output_type": "stream",
     "text": [
      "100%|██████████| 22/22 [00:00<00:00, 171.51it/s]\n",
      "100%|██████████| 4/4 [00:00<00:00, 279.75it/s]\n"
     ]
    },
    {
     "name": "stdout",
     "output_type": "stream",
     "text": [
      "Epoch 16/200, Train Loss: 0.2290, Test Loss: 0.2240\n"
     ]
    },
    {
     "name": "stderr",
     "output_type": "stream",
     "text": [
      "100%|██████████| 22/22 [00:00<00:00, 166.95it/s]\n",
      "100%|██████████| 4/4 [00:00<00:00, 299.83it/s]\n"
     ]
    },
    {
     "name": "stdout",
     "output_type": "stream",
     "text": [
      "Epoch 17/200, Train Loss: 0.2290, Test Loss: 0.2240\n"
     ]
    },
    {
     "name": "stderr",
     "output_type": "stream",
     "text": [
      "100%|██████████| 22/22 [00:00<00:00, 180.89it/s]\n",
      "100%|██████████| 4/4 [00:00<00:00, 293.02it/s]\n"
     ]
    },
    {
     "name": "stdout",
     "output_type": "stream",
     "text": [
      "Epoch 18/200, Train Loss: 0.2289, Test Loss: 0.2240\n"
     ]
    },
    {
     "name": "stderr",
     "output_type": "stream",
     "text": [
      "100%|██████████| 22/22 [00:00<00:00, 99.25it/s]\n",
      "100%|██████████| 4/4 [00:00<00:00, 284.92it/s]\n"
     ]
    },
    {
     "name": "stdout",
     "output_type": "stream",
     "text": [
      "Epoch 19/200, Train Loss: 0.2289, Test Loss: 0.2239\n"
     ]
    },
    {
     "name": "stderr",
     "output_type": "stream",
     "text": [
      "100%|██████████| 22/22 [00:00<00:00, 83.72it/s]\n",
      "100%|██████████| 4/4 [00:00<00:00, 273.55it/s]\n"
     ]
    },
    {
     "name": "stdout",
     "output_type": "stream",
     "text": [
      "Epoch 20/200, Train Loss: 0.2289, Test Loss: 0.2239\n"
     ]
    },
    {
     "name": "stderr",
     "output_type": "stream",
     "text": [
      "100%|██████████| 22/22 [00:00<00:00, 162.72it/s]\n",
      "100%|██████████| 4/4 [00:00<00:00, 276.52it/s]\n"
     ]
    },
    {
     "name": "stdout",
     "output_type": "stream",
     "text": [
      "Epoch 21/200, Train Loss: 0.2289, Test Loss: 0.2239\n",
      "No improvement in Test Loss for 1 epoch(s).\n",
      "Current Best Test Loss: 0.2239\n"
     ]
    },
    {
     "name": "stderr",
     "output_type": "stream",
     "text": [
      "100%|██████████| 22/22 [00:00<00:00, 153.96it/s]\n",
      "100%|██████████| 4/4 [00:00<00:00, 232.80it/s]\n"
     ]
    },
    {
     "name": "stdout",
     "output_type": "stream",
     "text": [
      "Epoch 22/200, Train Loss: 0.2289, Test Loss: 0.2239\n"
     ]
    },
    {
     "name": "stderr",
     "output_type": "stream",
     "text": [
      "100%|██████████| 22/22 [00:00<00:00, 94.06it/s]\n",
      "100%|██████████| 4/4 [00:00<00:00, 216.96it/s]\n"
     ]
    },
    {
     "name": "stdout",
     "output_type": "stream",
     "text": [
      "Epoch 23/200, Train Loss: 0.2289, Test Loss: 0.2239\n",
      "No improvement in Test Loss for 1 epoch(s).\n",
      "Current Best Test Loss: 0.2239\n"
     ]
    },
    {
     "name": "stderr",
     "output_type": "stream",
     "text": [
      "100%|██████████| 22/22 [00:00<00:00, 154.70it/s]\n",
      "100%|██████████| 4/4 [00:00<00:00, 255.12it/s]\n"
     ]
    },
    {
     "name": "stdout",
     "output_type": "stream",
     "text": [
      "Epoch 24/200, Train Loss: 0.2289, Test Loss: 0.2239\n",
      "No improvement in Test Loss for 2 epoch(s).\n",
      "Current Best Test Loss: 0.2239\n"
     ]
    },
    {
     "name": "stderr",
     "output_type": "stream",
     "text": [
      "100%|██████████| 22/22 [00:00<00:00, 156.92it/s]\n",
      "100%|██████████| 4/4 [00:00<00:00, 181.18it/s]\n"
     ]
    },
    {
     "name": "stdout",
     "output_type": "stream",
     "text": [
      "Epoch 25/200, Train Loss: 0.2289, Test Loss: 0.2239\n"
     ]
    },
    {
     "name": "stderr",
     "output_type": "stream",
     "text": [
      "100%|██████████| 22/22 [00:00<00:00, 124.19it/s]\n",
      "100%|██████████| 4/4 [00:00<00:00, 226.19it/s]\n"
     ]
    },
    {
     "name": "stdout",
     "output_type": "stream",
     "text": [
      "Epoch 26/200, Train Loss: 0.2289, Test Loss: 0.2239\n",
      "No improvement in Test Loss for 1 epoch(s).\n",
      "Current Best Test Loss: 0.2239\n"
     ]
    },
    {
     "name": "stderr",
     "output_type": "stream",
     "text": [
      "100%|██████████| 22/22 [00:00<00:00, 138.59it/s]\n",
      "100%|██████████| 4/4 [00:00<00:00, 267.90it/s]\n"
     ]
    },
    {
     "name": "stdout",
     "output_type": "stream",
     "text": [
      "Epoch 27/200, Train Loss: 0.2289, Test Loss: 0.2239\n",
      "No improvement in Test Loss for 2 epoch(s).\n",
      "Current Best Test Loss: 0.2239\n"
     ]
    },
    {
     "name": "stderr",
     "output_type": "stream",
     "text": [
      "100%|██████████| 22/22 [00:00<00:00, 160.29it/s]\n",
      "100%|██████████| 4/4 [00:00<00:00, 277.69it/s]\n"
     ]
    },
    {
     "name": "stdout",
     "output_type": "stream",
     "text": [
      "Epoch 28/200, Train Loss: 0.2289, Test Loss: 0.2239\n",
      "No improvement in Test Loss for 3 epoch(s).\n",
      "Current Best Test Loss: 0.2239\n",
      "Early stopping triggered.\n",
      "Start training model with parameters: {'num_B_spline_basis': 20, 'downsample_factor': 10, 'transformer_num_layers': 2, 'transformer_d_model': 128, 'transformer_dim_feedforward': 512, 'transformer_vae_output_dim': 16, 'transformer_dropout': 0.0, 'transformer_nhead': 1, 'stimulus_nfactor': 1, 'stimulus_decoder_inter_dim_factor': 2, 'beta': 1.0, 'use_area_specific_decoder': True, 'use_area_specific_encoder': True, 'use_cls': False, 'coupling_basis_peaks_max': 5, 'coupling_basis_num': 3, 'coupling_nsubspace': 1, 'use_self_coupling': True, 'K_sigma2': 1.0, 'K_tau': 100, 'coupling_strength_nlatent': 1, 'penalty_smoothing_spline': 100.0, 'penalty_effect_overlapping': None, 'penalty_coupling_subgroup': 0.0001, 'penalty_diff_loading': None, 'batch_size': 64, 'sample_latent': False, 'lr': 0.001, 'epoch_warm_up': 0, 'epoch_patience': 3, 'epoch_max': 200, 'tol': 1e-05, 'weight_decay': 0, 'lr_transformer': 0.0001, 'lr_sti': 0.01, 'lr_cp': 0.01}\n"
     ]
    },
    {
     "name": "stderr",
     "output_type": "stream",
     "text": [
      "100%|██████████| 22/22 [00:00<00:00, 101.63it/s]\n",
      "100%|██████████| 4/4 [00:00<00:00, 214.50it/s]\n"
     ]
    },
    {
     "name": "stdout",
     "output_type": "stream",
     "text": [
      "Epoch 1/200, Train Loss: 0.2336, Test Loss: 0.2227\n"
     ]
    },
    {
     "name": "stderr",
     "output_type": "stream",
     "text": [
      "100%|██████████| 22/22 [00:00<00:00, 100.39it/s]\n",
      "100%|██████████| 4/4 [00:00<00:00, 214.60it/s]\n"
     ]
    },
    {
     "name": "stdout",
     "output_type": "stream",
     "text": [
      "Epoch 2/200, Train Loss: 0.2273, Test Loss: 0.2218\n"
     ]
    },
    {
     "name": "stderr",
     "output_type": "stream",
     "text": [
      "100%|██████████| 22/22 [00:00<00:00, 68.54it/s]\n",
      "100%|██████████| 4/4 [00:00<00:00, 185.10it/s]\n"
     ]
    },
    {
     "name": "stdout",
     "output_type": "stream",
     "text": [
      "Epoch 3/200, Train Loss: 0.2269, Test Loss: 0.2216\n"
     ]
    },
    {
     "name": "stderr",
     "output_type": "stream",
     "text": [
      "100%|██████████| 22/22 [00:00<00:00, 98.88it/s] \n",
      "100%|██████████| 4/4 [00:00<00:00, 163.66it/s]\n"
     ]
    },
    {
     "name": "stdout",
     "output_type": "stream",
     "text": [
      "Epoch 4/200, Train Loss: 0.2268, Test Loss: 0.2215\n"
     ]
    },
    {
     "name": "stderr",
     "output_type": "stream",
     "text": [
      "100%|██████████| 22/22 [00:00<00:00, 87.31it/s]\n",
      "100%|██████████| 4/4 [00:00<00:00, 222.57it/s]\n"
     ]
    },
    {
     "name": "stdout",
     "output_type": "stream",
     "text": [
      "Epoch 5/200, Train Loss: 0.2267, Test Loss: 0.2214\n"
     ]
    },
    {
     "name": "stderr",
     "output_type": "stream",
     "text": [
      "100%|██████████| 22/22 [00:00<00:00, 76.28it/s]\n",
      "100%|██████████| 4/4 [00:00<00:00, 229.82it/s]\n"
     ]
    },
    {
     "name": "stdout",
     "output_type": "stream",
     "text": [
      "Epoch 6/200, Train Loss: 0.2266, Test Loss: 0.2213\n"
     ]
    },
    {
     "name": "stderr",
     "output_type": "stream",
     "text": [
      "100%|██████████| 22/22 [00:00<00:00, 82.06it/s]\n",
      "100%|██████████| 4/4 [00:00<00:00, 220.47it/s]\n"
     ]
    },
    {
     "name": "stdout",
     "output_type": "stream",
     "text": [
      "Epoch 7/200, Train Loss: 0.2265, Test Loss: 0.2213\n"
     ]
    },
    {
     "name": "stderr",
     "output_type": "stream",
     "text": [
      "100%|██████████| 22/22 [00:00<00:00, 115.11it/s]\n",
      "100%|██████████| 4/4 [00:00<00:00, 231.87it/s]\n"
     ]
    },
    {
     "name": "stdout",
     "output_type": "stream",
     "text": [
      "Epoch 8/200, Train Loss: 0.2264, Test Loss: 0.2211\n"
     ]
    },
    {
     "name": "stderr",
     "output_type": "stream",
     "text": [
      "100%|██████████| 22/22 [00:00<00:00, 114.79it/s]\n",
      "100%|██████████| 4/4 [00:00<00:00, 225.81it/s]\n"
     ]
    },
    {
     "name": "stdout",
     "output_type": "stream",
     "text": [
      "Epoch 9/200, Train Loss: 0.2263, Test Loss: 0.2210\n"
     ]
    },
    {
     "name": "stderr",
     "output_type": "stream",
     "text": [
      "100%|██████████| 22/22 [00:00<00:00, 114.63it/s]\n",
      "100%|██████████| 4/4 [00:00<00:00, 212.42it/s]\n"
     ]
    },
    {
     "name": "stdout",
     "output_type": "stream",
     "text": [
      "Epoch 10/200, Train Loss: 0.2261, Test Loss: 0.2208\n"
     ]
    },
    {
     "name": "stderr",
     "output_type": "stream",
     "text": [
      "100%|██████████| 22/22 [00:00<00:00, 100.50it/s]\n",
      "100%|██████████| 4/4 [00:00<00:00, 216.96it/s]\n"
     ]
    },
    {
     "name": "stdout",
     "output_type": "stream",
     "text": [
      "Epoch 11/200, Train Loss: 0.2258, Test Loss: 0.2206\n"
     ]
    },
    {
     "name": "stderr",
     "output_type": "stream",
     "text": [
      "100%|██████████| 22/22 [00:00<00:00, 108.72it/s]\n",
      "100%|██████████| 4/4 [00:00<00:00, 214.89it/s]\n"
     ]
    },
    {
     "name": "stdout",
     "output_type": "stream",
     "text": [
      "Epoch 12/200, Train Loss: 0.2257, Test Loss: 0.2204\n"
     ]
    },
    {
     "name": "stderr",
     "output_type": "stream",
     "text": [
      "100%|██████████| 22/22 [00:00<00:00, 105.61it/s]\n",
      "100%|██████████| 4/4 [00:00<00:00, 165.48it/s]\n"
     ]
    },
    {
     "name": "stdout",
     "output_type": "stream",
     "text": [
      "Epoch 13/200, Train Loss: 0.2256, Test Loss: 0.2203\n"
     ]
    },
    {
     "name": "stderr",
     "output_type": "stream",
     "text": [
      "100%|██████████| 22/22 [00:00<00:00, 76.06it/s]\n",
      "100%|██████████| 4/4 [00:00<00:00, 220.32it/s]\n"
     ]
    },
    {
     "name": "stdout",
     "output_type": "stream",
     "text": [
      "Epoch 14/200, Train Loss: 0.2255, Test Loss: 0.2202\n"
     ]
    },
    {
     "name": "stderr",
     "output_type": "stream",
     "text": [
      "100%|██████████| 22/22 [00:00<00:00, 92.20it/s] \n",
      "100%|██████████| 4/4 [00:00<00:00, 133.49it/s]\n"
     ]
    },
    {
     "name": "stdout",
     "output_type": "stream",
     "text": [
      "Epoch 15/200, Train Loss: 0.2254, Test Loss: 0.2201\n"
     ]
    },
    {
     "name": "stderr",
     "output_type": "stream",
     "text": [
      "100%|██████████| 22/22 [00:00<00:00, 87.96it/s]\n",
      "100%|██████████| 4/4 [00:00<00:00, 221.70it/s]\n"
     ]
    },
    {
     "name": "stdout",
     "output_type": "stream",
     "text": [
      "Epoch 16/200, Train Loss: 0.2252, Test Loss: 0.2199\n"
     ]
    },
    {
     "name": "stderr",
     "output_type": "stream",
     "text": [
      "100%|██████████| 22/22 [00:00<00:00, 81.83it/s]\n",
      "100%|██████████| 4/4 [00:00<00:00, 199.29it/s]\n"
     ]
    },
    {
     "name": "stdout",
     "output_type": "stream",
     "text": [
      "Epoch 17/200, Train Loss: 0.2251, Test Loss: 0.2198\n"
     ]
    },
    {
     "name": "stderr",
     "output_type": "stream",
     "text": [
      "100%|██████████| 22/22 [00:00<00:00, 90.10it/s]\n",
      "100%|██████████| 4/4 [00:00<00:00, 220.85it/s]\n"
     ]
    },
    {
     "name": "stdout",
     "output_type": "stream",
     "text": [
      "Epoch 18/200, Train Loss: 0.2250, Test Loss: 0.2196\n"
     ]
    },
    {
     "name": "stderr",
     "output_type": "stream",
     "text": [
      "100%|██████████| 22/22 [00:00<00:00, 100.40it/s]\n",
      "100%|██████████| 4/4 [00:00<00:00, 219.78it/s]\n"
     ]
    },
    {
     "name": "stdout",
     "output_type": "stream",
     "text": [
      "Epoch 19/200, Train Loss: 0.2248, Test Loss: 0.2195\n"
     ]
    },
    {
     "name": "stderr",
     "output_type": "stream",
     "text": [
      "100%|██████████| 22/22 [00:00<00:00, 88.61it/s] \n",
      "100%|██████████| 4/4 [00:00<00:00, 206.62it/s]\n"
     ]
    },
    {
     "name": "stdout",
     "output_type": "stream",
     "text": [
      "Epoch 20/200, Train Loss: 0.2247, Test Loss: 0.2195\n",
      "No improvement in Test Loss for 1 epoch(s).\n",
      "Current Best Test Loss: 0.2195\n"
     ]
    },
    {
     "name": "stderr",
     "output_type": "stream",
     "text": [
      "100%|██████████| 22/22 [00:00<00:00, 106.90it/s]\n",
      "100%|██████████| 4/4 [00:00<00:00, 219.73it/s]\n"
     ]
    },
    {
     "name": "stdout",
     "output_type": "stream",
     "text": [
      "Epoch 21/200, Train Loss: 0.2247, Test Loss: 0.2193\n"
     ]
    },
    {
     "name": "stderr",
     "output_type": "stream",
     "text": [
      "100%|██████████| 22/22 [00:00<00:00, 104.32it/s]\n",
      "100%|██████████| 4/4 [00:00<00:00, 173.75it/s]\n"
     ]
    },
    {
     "name": "stdout",
     "output_type": "stream",
     "text": [
      "Epoch 22/200, Train Loss: 0.2246, Test Loss: 0.2193\n"
     ]
    },
    {
     "name": "stderr",
     "output_type": "stream",
     "text": [
      "100%|██████████| 22/22 [00:00<00:00, 94.77it/s]\n",
      "100%|██████████| 4/4 [00:00<00:00, 182.99it/s]\n"
     ]
    },
    {
     "name": "stdout",
     "output_type": "stream",
     "text": [
      "Epoch 23/200, Train Loss: 0.2245, Test Loss: 0.2192\n"
     ]
    },
    {
     "name": "stderr",
     "output_type": "stream",
     "text": [
      "100%|██████████| 22/22 [00:00<00:00, 72.39it/s]\n",
      "100%|██████████| 4/4 [00:00<00:00, 208.02it/s]\n"
     ]
    },
    {
     "name": "stdout",
     "output_type": "stream",
     "text": [
      "Epoch 24/200, Train Loss: 0.2244, Test Loss: 0.2191\n"
     ]
    },
    {
     "name": "stderr",
     "output_type": "stream",
     "text": [
      "100%|██████████| 22/22 [00:00<00:00, 95.20it/s]\n",
      "100%|██████████| 4/4 [00:00<00:00, 152.35it/s]\n"
     ]
    },
    {
     "name": "stdout",
     "output_type": "stream",
     "text": [
      "Epoch 25/200, Train Loss: 0.2243, Test Loss: 0.2191\n"
     ]
    },
    {
     "name": "stderr",
     "output_type": "stream",
     "text": [
      "100%|██████████| 22/22 [00:00<00:00, 69.39it/s]\n",
      "100%|██████████| 4/4 [00:00<00:00, 138.20it/s]\n"
     ]
    },
    {
     "name": "stdout",
     "output_type": "stream",
     "text": [
      "Epoch 26/200, Train Loss: 0.2243, Test Loss: 0.2190\n"
     ]
    },
    {
     "name": "stderr",
     "output_type": "stream",
     "text": [
      "100%|██████████| 22/22 [00:00<00:00, 96.92it/s]\n",
      "100%|██████████| 4/4 [00:00<00:00, 141.45it/s]\n"
     ]
    },
    {
     "name": "stdout",
     "output_type": "stream",
     "text": [
      "Epoch 27/200, Train Loss: 0.2243, Test Loss: 0.2190\n"
     ]
    },
    {
     "name": "stderr",
     "output_type": "stream",
     "text": [
      "100%|██████████| 22/22 [00:00<00:00, 74.10it/s]\n",
      "100%|██████████| 4/4 [00:00<00:00, 215.53it/s]\n"
     ]
    },
    {
     "name": "stdout",
     "output_type": "stream",
     "text": [
      "Epoch 28/200, Train Loss: 0.2242, Test Loss: 0.2190\n"
     ]
    },
    {
     "name": "stderr",
     "output_type": "stream",
     "text": [
      "100%|██████████| 22/22 [00:00<00:00, 103.06it/s]\n",
      "100%|██████████| 4/4 [00:00<00:00, 216.74it/s]\n"
     ]
    },
    {
     "name": "stdout",
     "output_type": "stream",
     "text": [
      "Epoch 29/200, Train Loss: 0.2242, Test Loss: 0.2190\n"
     ]
    },
    {
     "name": "stderr",
     "output_type": "stream",
     "text": [
      "100%|██████████| 22/22 [00:00<00:00, 100.82it/s]\n",
      "100%|██████████| 4/4 [00:00<00:00, 211.69it/s]\n"
     ]
    },
    {
     "name": "stdout",
     "output_type": "stream",
     "text": [
      "Epoch 30/200, Train Loss: 0.2242, Test Loss: 0.2189\n"
     ]
    },
    {
     "name": "stderr",
     "output_type": "stream",
     "text": [
      "100%|██████████| 22/22 [00:00<00:00, 80.96it/s]\n",
      "100%|██████████| 4/4 [00:00<00:00, 211.41it/s]\n"
     ]
    },
    {
     "name": "stdout",
     "output_type": "stream",
     "text": [
      "Epoch 31/200, Train Loss: 0.2242, Test Loss: 0.2189\n"
     ]
    },
    {
     "name": "stderr",
     "output_type": "stream",
     "text": [
      "100%|██████████| 22/22 [00:00<00:00, 77.03it/s]\n",
      "100%|██████████| 4/4 [00:00<00:00, 174.99it/s]\n"
     ]
    },
    {
     "name": "stdout",
     "output_type": "stream",
     "text": [
      "Epoch 32/200, Train Loss: 0.2242, Test Loss: 0.2189\n"
     ]
    },
    {
     "name": "stderr",
     "output_type": "stream",
     "text": [
      "100%|██████████| 22/22 [00:00<00:00, 61.62it/s]\n",
      "100%|██████████| 4/4 [00:00<00:00, 214.61it/s]\n"
     ]
    },
    {
     "name": "stdout",
     "output_type": "stream",
     "text": [
      "Epoch 33/200, Train Loss: 0.2242, Test Loss: 0.2189\n"
     ]
    },
    {
     "name": "stderr",
     "output_type": "stream",
     "text": [
      "100%|██████████| 22/22 [00:00<00:00, 83.87it/s]\n",
      "100%|██████████| 4/4 [00:00<00:00, 207.95it/s]\n"
     ]
    },
    {
     "name": "stdout",
     "output_type": "stream",
     "text": [
      "Epoch 34/200, Train Loss: 0.2242, Test Loss: 0.2189\n",
      "No improvement in Test Loss for 1 epoch(s).\n",
      "Current Best Test Loss: 0.2189\n"
     ]
    },
    {
     "name": "stderr",
     "output_type": "stream",
     "text": [
      "100%|██████████| 22/22 [00:00<00:00, 104.89it/s]\n",
      "100%|██████████| 4/4 [00:00<00:00, 228.74it/s]\n"
     ]
    },
    {
     "name": "stdout",
     "output_type": "stream",
     "text": [
      "Epoch 35/200, Train Loss: 0.2241, Test Loss: 0.2189\n",
      "No improvement in Test Loss for 2 epoch(s).\n",
      "Current Best Test Loss: 0.2189\n"
     ]
    },
    {
     "name": "stderr",
     "output_type": "stream",
     "text": [
      "100%|██████████| 22/22 [00:00<00:00, 113.55it/s]\n",
      "100%|██████████| 4/4 [00:00<00:00, 209.91it/s]\n"
     ]
    },
    {
     "name": "stdout",
     "output_type": "stream",
     "text": [
      "Epoch 36/200, Train Loss: 0.2241, Test Loss: 0.2189\n",
      "No improvement in Test Loss for 3 epoch(s).\n",
      "Current Best Test Loss: 0.2189\n",
      "Early stopping triggered.\n",
      "Start training model with parameters: {'num_B_spline_basis': 20, 'downsample_factor': 10, 'transformer_num_layers': 2, 'transformer_d_model': 128, 'transformer_dim_feedforward': 512, 'transformer_vae_output_dim': 16, 'transformer_dropout': 0.0, 'transformer_nhead': 1, 'stimulus_nfactor': 1, 'stimulus_decoder_inter_dim_factor': 2, 'beta': 1.0, 'use_area_specific_decoder': True, 'use_area_specific_encoder': True, 'use_cls': False, 'coupling_basis_peaks_max': 5, 'coupling_basis_num': 3, 'coupling_nsubspace': 1, 'use_self_coupling': True, 'K_sigma2': 1.0, 'K_tau': 100, 'coupling_strength_nlatent': 1, 'penalty_smoothing_spline': 100.0, 'penalty_effect_overlapping': None, 'penalty_coupling_subgroup': 0.0001, 'penalty_diff_loading': None, 'batch_size': 64, 'sample_latent': False, 'lr': 0.001, 'epoch_warm_up': 0, 'epoch_patience': 3, 'epoch_max': 200, 'tol': 1e-05, 'weight_decay': 0, 'lr_transformer': 0.0001, 'lr_sti': 0.01, 'lr_cp': 0.01}\n"
     ]
    },
    {
     "name": "stderr",
     "output_type": "stream",
     "text": [
      "100%|██████████| 22/22 [00:00<00:00, 78.34it/s]\n",
      "100%|██████████| 4/4 [00:00<00:00, 177.87it/s]\n"
     ]
    },
    {
     "name": "stdout",
     "output_type": "stream",
     "text": [
      "Epoch 1/200, Train Loss: 0.2241, Test Loss: 0.2186\n"
     ]
    },
    {
     "name": "stderr",
     "output_type": "stream",
     "text": [
      "100%|██████████| 22/22 [00:00<00:00, 70.74it/s]\n",
      "100%|██████████| 4/4 [00:00<00:00, 118.57it/s]\n"
     ]
    },
    {
     "name": "stdout",
     "output_type": "stream",
     "text": [
      "Epoch 2/200, Train Loss: 0.2238, Test Loss: 0.2185\n"
     ]
    },
    {
     "name": "stderr",
     "output_type": "stream",
     "text": [
      "100%|██████████| 22/22 [00:00<00:00, 53.41it/s]\n",
      "100%|██████████| 4/4 [00:00<00:00, 176.11it/s]\n"
     ]
    },
    {
     "name": "stdout",
     "output_type": "stream",
     "text": [
      "Epoch 3/200, Train Loss: 0.2237, Test Loss: 0.2185\n"
     ]
    },
    {
     "name": "stderr",
     "output_type": "stream",
     "text": [
      "100%|██████████| 22/22 [00:00<00:00, 61.30it/s]\n",
      "100%|██████████| 4/4 [00:00<00:00, 143.51it/s]\n"
     ]
    },
    {
     "name": "stdout",
     "output_type": "stream",
     "text": [
      "Epoch 4/200, Train Loss: 0.2237, Test Loss: 0.2184\n"
     ]
    },
    {
     "name": "stderr",
     "output_type": "stream",
     "text": [
      "100%|██████████| 22/22 [00:00<00:00, 75.58it/s]\n",
      "100%|██████████| 4/4 [00:00<00:00, 172.08it/s]\n"
     ]
    },
    {
     "name": "stdout",
     "output_type": "stream",
     "text": [
      "Epoch 5/200, Train Loss: 0.2237, Test Loss: 0.2184\n"
     ]
    },
    {
     "name": "stderr",
     "output_type": "stream",
     "text": [
      "100%|██████████| 22/22 [00:00<00:00, 74.33it/s]\n",
      "100%|██████████| 4/4 [00:00<00:00, 175.12it/s]\n"
     ]
    },
    {
     "name": "stdout",
     "output_type": "stream",
     "text": [
      "Epoch 6/200, Train Loss: 0.2237, Test Loss: 0.2184\n",
      "No improvement in Test Loss for 1 epoch(s).\n",
      "Current Best Test Loss: 0.2184\n"
     ]
    },
    {
     "name": "stderr",
     "output_type": "stream",
     "text": [
      "100%|██████████| 22/22 [00:00<00:00, 57.65it/s]\n",
      "100%|██████████| 4/4 [00:00<00:00, 183.42it/s]\n"
     ]
    },
    {
     "name": "stdout",
     "output_type": "stream",
     "text": [
      "Epoch 7/200, Train Loss: 0.2237, Test Loss: 0.2184\n"
     ]
    },
    {
     "name": "stderr",
     "output_type": "stream",
     "text": [
      "100%|██████████| 22/22 [00:00<00:00, 84.77it/s]\n",
      "100%|██████████| 4/4 [00:00<00:00, 88.19it/s]\n"
     ]
    },
    {
     "name": "stdout",
     "output_type": "stream",
     "text": [
      "Epoch 8/200, Train Loss: 0.2237, Test Loss: 0.2184\n",
      "No improvement in Test Loss for 1 epoch(s).\n",
      "Current Best Test Loss: 0.2184\n"
     ]
    },
    {
     "name": "stderr",
     "output_type": "stream",
     "text": [
      "100%|██████████| 22/22 [00:00<00:00, 76.34it/s]\n",
      "100%|██████████| 4/4 [00:00<00:00, 155.67it/s]\n"
     ]
    },
    {
     "name": "stdout",
     "output_type": "stream",
     "text": [
      "Epoch 9/200, Train Loss: 0.2236, Test Loss: 0.2184\n",
      "No improvement in Test Loss for 2 epoch(s).\n",
      "Current Best Test Loss: 0.2184\n"
     ]
    },
    {
     "name": "stderr",
     "output_type": "stream",
     "text": [
      "100%|██████████| 22/22 [00:00<00:00, 57.44it/s]\n",
      "100%|██████████| 4/4 [00:00<00:00, 181.45it/s]\n"
     ]
    },
    {
     "name": "stdout",
     "output_type": "stream",
     "text": [
      "Epoch 10/200, Train Loss: 0.2236, Test Loss: 0.2184\n"
     ]
    },
    {
     "name": "stderr",
     "output_type": "stream",
     "text": [
      "100%|██████████| 22/22 [00:00<00:00, 72.91it/s]\n",
      "100%|██████████| 4/4 [00:00<00:00, 182.90it/s]\n"
     ]
    },
    {
     "name": "stdout",
     "output_type": "stream",
     "text": [
      "Epoch 11/200, Train Loss: 0.2236, Test Loss: 0.2184\n",
      "No improvement in Test Loss for 1 epoch(s).\n",
      "Current Best Test Loss: 0.2184\n"
     ]
    },
    {
     "name": "stderr",
     "output_type": "stream",
     "text": [
      "100%|██████████| 22/22 [00:00<00:00, 54.34it/s]\n",
      "100%|██████████| 4/4 [00:00<00:00, 95.90it/s]\n"
     ]
    },
    {
     "name": "stdout",
     "output_type": "stream",
     "text": [
      "Epoch 12/200, Train Loss: 0.2236, Test Loss: 0.2184\n",
      "No improvement in Test Loss for 2 epoch(s).\n",
      "Current Best Test Loss: 0.2184\n"
     ]
    },
    {
     "name": "stderr",
     "output_type": "stream",
     "text": [
      "100%|██████████| 22/22 [00:00<00:00, 70.20it/s]\n",
      "100%|██████████| 4/4 [00:00<00:00, 145.39it/s]\n"
     ]
    },
    {
     "name": "stdout",
     "output_type": "stream",
     "text": [
      "Epoch 13/200, Train Loss: 0.2236, Test Loss: 0.2184\n",
      "No improvement in Test Loss for 3 epoch(s).\n",
      "Current Best Test Loss: 0.2184\n",
      "Early stopping triggered.\n"
     ]
    },
    {
     "name": "stderr",
     "output_type": "stream",
     "text": [
      "100%|██████████| 7/7 [00:00<00:00, 97.86it/s]\n"
     ]
    },
    {
     "name": "stdout",
     "output_type": "stream",
     "text": [
      "Test loss: 0.22223396261136727\n",
      "Test loss baseline: 0.23082217518379564\n",
      "Model initialized. Training on cuda\n",
      "Start training model with parameters: {'num_B_spline_basis': 20, 'downsample_factor': 10, 'transformer_num_layers': 2, 'transformer_d_model': 128, 'transformer_dim_feedforward': 512, 'transformer_vae_output_dim': 16, 'transformer_dropout': 0.0, 'transformer_nhead': 1, 'stimulus_nfactor': 1, 'stimulus_decoder_inter_dim_factor': 2, 'beta': 1.0, 'use_area_specific_decoder': True, 'use_area_specific_encoder': True, 'use_cls': False, 'coupling_basis_peaks_max': 5, 'coupling_basis_num': 3, 'coupling_nsubspace': 1, 'use_self_coupling': True, 'K_sigma2': 1.0, 'K_tau': 100, 'coupling_strength_nlatent': 1, 'penalty_smoothing_spline': 100.0, 'penalty_effect_overlapping': None, 'penalty_coupling_subgroup': 0.0001, 'penalty_diff_loading': None, 'batch_size': 64, 'sample_latent': False, 'lr': 0.001, 'epoch_warm_up': 0, 'epoch_patience': 3, 'epoch_max': 200, 'tol': 1e-05, 'weight_decay': 0, 'lr_transformer': 0.0001, 'lr_sti': 0.01, 'lr_cp': 0.01}\n"
     ]
    },
    {
     "name": "stderr",
     "output_type": "stream",
     "text": [
      "100%|██████████| 22/22 [00:00<00:00, 99.18it/s] \n",
      "100%|██████████| 4/4 [00:00<00:00, 207.08it/s]\n"
     ]
    },
    {
     "name": "stdout",
     "output_type": "stream",
     "text": [
      "Epoch 1/200, Train Loss: 0.9283, Test Loss: 0.4978\n"
     ]
    },
    {
     "name": "stderr",
     "output_type": "stream",
     "text": [
      "100%|██████████| 22/22 [00:00<00:00, 118.34it/s]\n",
      "100%|██████████| 4/4 [00:00<00:00, 226.68it/s]\n"
     ]
    },
    {
     "name": "stdout",
     "output_type": "stream",
     "text": [
      "Epoch 2/200, Train Loss: 0.3425, Test Loss: 0.3043\n"
     ]
    },
    {
     "name": "stderr",
     "output_type": "stream",
     "text": [
      "100%|██████████| 22/22 [00:00<00:00, 108.77it/s]\n",
      "100%|██████████| 4/4 [00:00<00:00, 212.25it/s]\n"
     ]
    },
    {
     "name": "stdout",
     "output_type": "stream",
     "text": [
      "Epoch 3/200, Train Loss: 0.2962, Test Loss: 0.2839\n"
     ]
    },
    {
     "name": "stderr",
     "output_type": "stream",
     "text": [
      "100%|██████████| 22/22 [00:00<00:00, 104.99it/s]\n",
      "100%|██████████| 4/4 [00:00<00:00, 227.59it/s]\n"
     ]
    },
    {
     "name": "stdout",
     "output_type": "stream",
     "text": [
      "Epoch 4/200, Train Loss: 0.2812, Test Loss: 0.2713\n"
     ]
    },
    {
     "name": "stderr",
     "output_type": "stream",
     "text": [
      "100%|██████████| 22/22 [00:00<00:00, 72.04it/s]\n",
      "100%|██████████| 4/4 [00:00<00:00, 160.06it/s]\n"
     ]
    },
    {
     "name": "stdout",
     "output_type": "stream",
     "text": [
      "Epoch 5/200, Train Loss: 0.2717, Test Loss: 0.2625\n"
     ]
    },
    {
     "name": "stderr",
     "output_type": "stream",
     "text": [
      "100%|██████████| 22/22 [00:00<00:00, 87.78it/s]\n",
      "100%|██████████| 4/4 [00:00<00:00, 217.83it/s]\n"
     ]
    },
    {
     "name": "stdout",
     "output_type": "stream",
     "text": [
      "Epoch 6/200, Train Loss: 0.2631, Test Loss: 0.2541\n"
     ]
    },
    {
     "name": "stderr",
     "output_type": "stream",
     "text": [
      "100%|██████████| 22/22 [00:00<00:00, 66.66it/s]\n",
      "100%|██████████| 4/4 [00:00<00:00, 212.64it/s]\n"
     ]
    },
    {
     "name": "stdout",
     "output_type": "stream",
     "text": [
      "Epoch 7/200, Train Loss: 0.2552, Test Loss: 0.2466\n"
     ]
    },
    {
     "name": "stderr",
     "output_type": "stream",
     "text": [
      "100%|██████████| 22/22 [00:00<00:00, 116.13it/s]\n",
      "100%|██████████| 4/4 [00:00<00:00, 216.69it/s]\n"
     ]
    },
    {
     "name": "stdout",
     "output_type": "stream",
     "text": [
      "Epoch 8/200, Train Loss: 0.2485, Test Loss: 0.2405\n"
     ]
    },
    {
     "name": "stderr",
     "output_type": "stream",
     "text": [
      "100%|██████████| 22/22 [00:00<00:00, 124.70it/s]\n",
      "100%|██████████| 4/4 [00:00<00:00, 227.77it/s]\n"
     ]
    },
    {
     "name": "stdout",
     "output_type": "stream",
     "text": [
      "Epoch 9/200, Train Loss: 0.2431, Test Loss: 0.2357\n"
     ]
    },
    {
     "name": "stderr",
     "output_type": "stream",
     "text": [
      "100%|██████████| 22/22 [00:00<00:00, 121.11it/s]\n",
      "100%|██████████| 4/4 [00:00<00:00, 225.05it/s]\n"
     ]
    },
    {
     "name": "stdout",
     "output_type": "stream",
     "text": [
      "Epoch 10/200, Train Loss: 0.2390, Test Loss: 0.2322\n"
     ]
    },
    {
     "name": "stderr",
     "output_type": "stream",
     "text": [
      "100%|██████████| 22/22 [00:00<00:00, 111.65it/s]\n",
      "100%|██████████| 4/4 [00:00<00:00, 210.90it/s]\n"
     ]
    },
    {
     "name": "stdout",
     "output_type": "stream",
     "text": [
      "Epoch 11/200, Train Loss: 0.2361, Test Loss: 0.2297\n"
     ]
    },
    {
     "name": "stderr",
     "output_type": "stream",
     "text": [
      "100%|██████████| 22/22 [00:00<00:00, 118.84it/s]\n",
      "100%|██████████| 4/4 [00:00<00:00, 224.57it/s]\n"
     ]
    },
    {
     "name": "stdout",
     "output_type": "stream",
     "text": [
      "Epoch 12/200, Train Loss: 0.2339, Test Loss: 0.2279\n"
     ]
    },
    {
     "name": "stderr",
     "output_type": "stream",
     "text": [
      "100%|██████████| 22/22 [00:00<00:00, 79.84it/s]\n",
      "100%|██████████| 4/4 [00:00<00:00, 208.17it/s]\n"
     ]
    },
    {
     "name": "stdout",
     "output_type": "stream",
     "text": [
      "Epoch 13/200, Train Loss: 0.2324, Test Loss: 0.2267\n"
     ]
    },
    {
     "name": "stderr",
     "output_type": "stream",
     "text": [
      "100%|██████████| 22/22 [00:00<00:00, 117.21it/s]\n",
      "100%|██████████| 4/4 [00:00<00:00, 229.08it/s]\n"
     ]
    },
    {
     "name": "stdout",
     "output_type": "stream",
     "text": [
      "Epoch 14/200, Train Loss: 0.2313, Test Loss: 0.2258\n"
     ]
    },
    {
     "name": "stderr",
     "output_type": "stream",
     "text": [
      "100%|██████████| 22/22 [00:00<00:00, 110.30it/s]\n",
      "100%|██████████| 4/4 [00:00<00:00, 161.20it/s]\n"
     ]
    },
    {
     "name": "stdout",
     "output_type": "stream",
     "text": [
      "Epoch 15/200, Train Loss: 0.2305, Test Loss: 0.2251\n"
     ]
    },
    {
     "name": "stderr",
     "output_type": "stream",
     "text": [
      "100%|██████████| 22/22 [00:00<00:00, 59.89it/s]\n",
      "100%|██████████| 4/4 [00:00<00:00, 204.15it/s]\n"
     ]
    },
    {
     "name": "stdout",
     "output_type": "stream",
     "text": [
      "Epoch 16/200, Train Loss: 0.2299, Test Loss: 0.2246\n"
     ]
    },
    {
     "name": "stderr",
     "output_type": "stream",
     "text": [
      "100%|██████████| 22/22 [00:00<00:00, 66.28it/s]\n",
      "100%|██████████| 4/4 [00:00<00:00, 203.79it/s]\n"
     ]
    },
    {
     "name": "stdout",
     "output_type": "stream",
     "text": [
      "Epoch 17/200, Train Loss: 0.2295, Test Loss: 0.2243\n"
     ]
    },
    {
     "name": "stderr",
     "output_type": "stream",
     "text": [
      "100%|██████████| 22/22 [00:00<00:00, 81.23it/s]\n",
      "100%|██████████| 4/4 [00:00<00:00, 186.07it/s]\n"
     ]
    },
    {
     "name": "stdout",
     "output_type": "stream",
     "text": [
      "Epoch 18/200, Train Loss: 0.2292, Test Loss: 0.2240\n"
     ]
    },
    {
     "name": "stderr",
     "output_type": "stream",
     "text": [
      "100%|██████████| 22/22 [00:00<00:00, 55.84it/s]\n",
      "100%|██████████| 4/4 [00:00<00:00, 187.62it/s]\n"
     ]
    },
    {
     "name": "stdout",
     "output_type": "stream",
     "text": [
      "Epoch 19/200, Train Loss: 0.2289, Test Loss: 0.2238\n"
     ]
    },
    {
     "name": "stderr",
     "output_type": "stream",
     "text": [
      "100%|██████████| 22/22 [00:00<00:00, 64.71it/s]\n",
      "100%|██████████| 4/4 [00:00<00:00, 205.98it/s]\n"
     ]
    },
    {
     "name": "stdout",
     "output_type": "stream",
     "text": [
      "Epoch 20/200, Train Loss: 0.2288, Test Loss: 0.2236\n"
     ]
    },
    {
     "name": "stderr",
     "output_type": "stream",
     "text": [
      "100%|██████████| 22/22 [00:00<00:00, 117.39it/s]\n",
      "100%|██████████| 4/4 [00:00<00:00, 226.19it/s]\n"
     ]
    },
    {
     "name": "stdout",
     "output_type": "stream",
     "text": [
      "Epoch 21/200, Train Loss: 0.2286, Test Loss: 0.2235\n"
     ]
    },
    {
     "name": "stderr",
     "output_type": "stream",
     "text": [
      "100%|██████████| 22/22 [00:00<00:00, 57.56it/s]\n",
      "100%|██████████| 4/4 [00:00<00:00, 205.85it/s]\n"
     ]
    },
    {
     "name": "stdout",
     "output_type": "stream",
     "text": [
      "Epoch 22/200, Train Loss: 0.2284, Test Loss: 0.2233\n"
     ]
    },
    {
     "name": "stderr",
     "output_type": "stream",
     "text": [
      "100%|██████████| 22/22 [00:00<00:00, 57.02it/s]\n",
      "100%|██████████| 4/4 [00:00<00:00, 211.13it/s]\n"
     ]
    },
    {
     "name": "stdout",
     "output_type": "stream",
     "text": [
      "Epoch 23/200, Train Loss: 0.2283, Test Loss: 0.2232\n"
     ]
    },
    {
     "name": "stderr",
     "output_type": "stream",
     "text": [
      "100%|██████████| 22/22 [00:00<00:00, 58.92it/s]\n",
      "100%|██████████| 4/4 [00:00<00:00, 88.06it/s]\n"
     ]
    },
    {
     "name": "stdout",
     "output_type": "stream",
     "text": [
      "Epoch 24/200, Train Loss: 0.2282, Test Loss: 0.2231\n"
     ]
    },
    {
     "name": "stderr",
     "output_type": "stream",
     "text": [
      "100%|██████████| 22/22 [00:00<00:00, 73.54it/s]\n",
      "100%|██████████| 4/4 [00:00<00:00, 131.05it/s]\n"
     ]
    },
    {
     "name": "stdout",
     "output_type": "stream",
     "text": [
      "Epoch 25/200, Train Loss: 0.2280, Test Loss: 0.2229\n"
     ]
    },
    {
     "name": "stderr",
     "output_type": "stream",
     "text": [
      "100%|██████████| 22/22 [00:00<00:00, 70.16it/s]\n",
      "100%|██████████| 4/4 [00:00<00:00, 185.88it/s]\n"
     ]
    },
    {
     "name": "stdout",
     "output_type": "stream",
     "text": [
      "Epoch 26/200, Train Loss: 0.2279, Test Loss: 0.2228\n"
     ]
    },
    {
     "name": "stderr",
     "output_type": "stream",
     "text": [
      "100%|██████████| 22/22 [00:00<00:00, 85.10it/s]\n",
      "100%|██████████| 4/4 [00:00<00:00, 122.03it/s]\n"
     ]
    },
    {
     "name": "stdout",
     "output_type": "stream",
     "text": [
      "Epoch 27/200, Train Loss: 0.2278, Test Loss: 0.2227\n"
     ]
    },
    {
     "name": "stderr",
     "output_type": "stream",
     "text": [
      "100%|██████████| 22/22 [00:00<00:00, 71.12it/s]\n",
      "100%|██████████| 4/4 [00:00<00:00, 114.30it/s]\n"
     ]
    },
    {
     "name": "stdout",
     "output_type": "stream",
     "text": [
      "Epoch 28/200, Train Loss: 0.2276, Test Loss: 0.2225\n"
     ]
    },
    {
     "name": "stderr",
     "output_type": "stream",
     "text": [
      "100%|██████████| 22/22 [00:00<00:00, 80.82it/s]\n",
      "100%|██████████| 4/4 [00:00<00:00, 148.36it/s]\n"
     ]
    },
    {
     "name": "stdout",
     "output_type": "stream",
     "text": [
      "Epoch 29/200, Train Loss: 0.2275, Test Loss: 0.2224\n"
     ]
    },
    {
     "name": "stderr",
     "output_type": "stream",
     "text": [
      "100%|██████████| 22/22 [00:00<00:00, 77.36it/s]\n",
      "100%|██████████| 4/4 [00:00<00:00, 143.46it/s]\n"
     ]
    },
    {
     "name": "stdout",
     "output_type": "stream",
     "text": [
      "Epoch 30/200, Train Loss: 0.2274, Test Loss: 0.2222\n"
     ]
    },
    {
     "name": "stderr",
     "output_type": "stream",
     "text": [
      "100%|██████████| 22/22 [00:00<00:00, 80.24it/s]\n",
      "100%|██████████| 4/4 [00:00<00:00, 187.53it/s]\n"
     ]
    },
    {
     "name": "stdout",
     "output_type": "stream",
     "text": [
      "Epoch 31/200, Train Loss: 0.2272, Test Loss: 0.2221\n"
     ]
    },
    {
     "name": "stderr",
     "output_type": "stream",
     "text": [
      "100%|██████████| 22/22 [00:00<00:00, 78.07it/s]\n",
      "100%|██████████| 4/4 [00:00<00:00, 180.40it/s]\n"
     ]
    },
    {
     "name": "stdout",
     "output_type": "stream",
     "text": [
      "Epoch 32/200, Train Loss: 0.2270, Test Loss: 0.2219\n"
     ]
    },
    {
     "name": "stderr",
     "output_type": "stream",
     "text": [
      "100%|██████████| 22/22 [00:00<00:00, 90.62it/s]\n",
      "100%|██████████| 4/4 [00:00<00:00, 217.52it/s]\n"
     ]
    },
    {
     "name": "stdout",
     "output_type": "stream",
     "text": [
      "Epoch 33/200, Train Loss: 0.2269, Test Loss: 0.2217\n"
     ]
    },
    {
     "name": "stderr",
     "output_type": "stream",
     "text": [
      "100%|██████████| 22/22 [00:00<00:00, 109.40it/s]\n",
      "100%|██████████| 4/4 [00:00<00:00, 204.78it/s]\n"
     ]
    },
    {
     "name": "stdout",
     "output_type": "stream",
     "text": [
      "Epoch 34/200, Train Loss: 0.2267, Test Loss: 0.2216\n"
     ]
    },
    {
     "name": "stderr",
     "output_type": "stream",
     "text": [
      "100%|██████████| 22/22 [00:00<00:00, 102.70it/s]\n",
      "100%|██████████| 4/4 [00:00<00:00, 146.28it/s]\n"
     ]
    },
    {
     "name": "stdout",
     "output_type": "stream",
     "text": [
      "Epoch 35/200, Train Loss: 0.2266, Test Loss: 0.2214\n"
     ]
    },
    {
     "name": "stderr",
     "output_type": "stream",
     "text": [
      "100%|██████████| 22/22 [00:00<00:00, 77.35it/s]\n",
      "100%|██████████| 4/4 [00:00<00:00, 206.63it/s]\n"
     ]
    },
    {
     "name": "stdout",
     "output_type": "stream",
     "text": [
      "Epoch 36/200, Train Loss: 0.2264, Test Loss: 0.2213\n"
     ]
    },
    {
     "name": "stderr",
     "output_type": "stream",
     "text": [
      "100%|██████████| 22/22 [00:00<00:00, 112.36it/s]\n",
      "100%|██████████| 4/4 [00:00<00:00, 216.75it/s]\n"
     ]
    },
    {
     "name": "stdout",
     "output_type": "stream",
     "text": [
      "Epoch 37/200, Train Loss: 0.2263, Test Loss: 0.2211\n"
     ]
    },
    {
     "name": "stderr",
     "output_type": "stream",
     "text": [
      "100%|██████████| 22/22 [00:00<00:00, 113.88it/s]\n",
      "100%|██████████| 4/4 [00:00<00:00, 221.84it/s]\n"
     ]
    },
    {
     "name": "stdout",
     "output_type": "stream",
     "text": [
      "Epoch 38/200, Train Loss: 0.2261, Test Loss: 0.2210\n"
     ]
    },
    {
     "name": "stderr",
     "output_type": "stream",
     "text": [
      "100%|██████████| 22/22 [00:00<00:00, 111.32it/s]\n",
      "100%|██████████| 4/4 [00:00<00:00, 209.84it/s]\n"
     ]
    },
    {
     "name": "stdout",
     "output_type": "stream",
     "text": [
      "Epoch 39/200, Train Loss: 0.2260, Test Loss: 0.2208\n"
     ]
    },
    {
     "name": "stderr",
     "output_type": "stream",
     "text": [
      "100%|██████████| 22/22 [00:00<00:00, 90.93it/s] \n",
      "100%|██████████| 4/4 [00:00<00:00, 143.03it/s]\n"
     ]
    },
    {
     "name": "stdout",
     "output_type": "stream",
     "text": [
      "Epoch 40/200, Train Loss: 0.2259, Test Loss: 0.2207\n"
     ]
    },
    {
     "name": "stderr",
     "output_type": "stream",
     "text": [
      "100%|██████████| 22/22 [00:00<00:00, 107.15it/s]\n",
      "100%|██████████| 4/4 [00:00<00:00, 214.78it/s]\n"
     ]
    },
    {
     "name": "stdout",
     "output_type": "stream",
     "text": [
      "Epoch 41/200, Train Loss: 0.2258, Test Loss: 0.2206\n"
     ]
    },
    {
     "name": "stderr",
     "output_type": "stream",
     "text": [
      "100%|██████████| 22/22 [00:00<00:00, 112.29it/s]\n",
      "100%|██████████| 4/4 [00:00<00:00, 212.24it/s]\n"
     ]
    },
    {
     "name": "stdout",
     "output_type": "stream",
     "text": [
      "Epoch 42/200, Train Loss: 0.2257, Test Loss: 0.2205\n"
     ]
    },
    {
     "name": "stderr",
     "output_type": "stream",
     "text": [
      "100%|██████████| 22/22 [00:00<00:00, 114.26it/s]\n",
      "100%|██████████| 4/4 [00:00<00:00, 220.45it/s]\n"
     ]
    },
    {
     "name": "stdout",
     "output_type": "stream",
     "text": [
      "Epoch 43/200, Train Loss: 0.2256, Test Loss: 0.2204\n"
     ]
    },
    {
     "name": "stderr",
     "output_type": "stream",
     "text": [
      "100%|██████████| 22/22 [00:00<00:00, 113.82it/s]\n",
      "100%|██████████| 4/4 [00:00<00:00, 215.96it/s]\n"
     ]
    },
    {
     "name": "stdout",
     "output_type": "stream",
     "text": [
      "Epoch 44/200, Train Loss: 0.2255, Test Loss: 0.2204\n"
     ]
    },
    {
     "name": "stderr",
     "output_type": "stream",
     "text": [
      "100%|██████████| 22/22 [00:00<00:00, 112.28it/s]\n",
      "100%|██████████| 4/4 [00:00<00:00, 221.70it/s]\n"
     ]
    },
    {
     "name": "stdout",
     "output_type": "stream",
     "text": [
      "Epoch 45/200, Train Loss: 0.2255, Test Loss: 0.2203\n"
     ]
    },
    {
     "name": "stderr",
     "output_type": "stream",
     "text": [
      "100%|██████████| 22/22 [00:00<00:00, 119.49it/s]\n",
      "100%|██████████| 4/4 [00:00<00:00, 209.07it/s]\n"
     ]
    },
    {
     "name": "stdout",
     "output_type": "stream",
     "text": [
      "Epoch 46/200, Train Loss: 0.2254, Test Loss: 0.2202\n"
     ]
    },
    {
     "name": "stderr",
     "output_type": "stream",
     "text": [
      "100%|██████████| 22/22 [00:00<00:00, 123.04it/s]\n",
      "100%|██████████| 4/4 [00:00<00:00, 223.29it/s]\n"
     ]
    },
    {
     "name": "stdout",
     "output_type": "stream",
     "text": [
      "Epoch 47/200, Train Loss: 0.2253, Test Loss: 0.2202\n"
     ]
    },
    {
     "name": "stderr",
     "output_type": "stream",
     "text": [
      "100%|██████████| 22/22 [00:00<00:00, 121.21it/s]\n",
      "100%|██████████| 4/4 [00:00<00:00, 212.50it/s]\n"
     ]
    },
    {
     "name": "stdout",
     "output_type": "stream",
     "text": [
      "Epoch 48/200, Train Loss: 0.2253, Test Loss: 0.2201\n"
     ]
    },
    {
     "name": "stderr",
     "output_type": "stream",
     "text": [
      "100%|██████████| 22/22 [00:00<00:00, 83.71it/s]\n",
      "100%|██████████| 4/4 [00:00<00:00, 232.41it/s]\n"
     ]
    },
    {
     "name": "stdout",
     "output_type": "stream",
     "text": [
      "Epoch 49/200, Train Loss: 0.2253, Test Loss: 0.2201\n"
     ]
    },
    {
     "name": "stderr",
     "output_type": "stream",
     "text": [
      "100%|██████████| 22/22 [00:00<00:00, 123.64it/s]\n",
      "100%|██████████| 4/4 [00:00<00:00, 230.11it/s]\n"
     ]
    },
    {
     "name": "stdout",
     "output_type": "stream",
     "text": [
      "Epoch 50/200, Train Loss: 0.2252, Test Loss: 0.2201\n"
     ]
    },
    {
     "name": "stderr",
     "output_type": "stream",
     "text": [
      "100%|██████████| 22/22 [00:00<00:00, 121.10it/s]\n",
      "100%|██████████| 4/4 [00:00<00:00, 224.90it/s]\n"
     ]
    },
    {
     "name": "stdout",
     "output_type": "stream",
     "text": [
      "Epoch 51/200, Train Loss: 0.2252, Test Loss: 0.2201\n"
     ]
    },
    {
     "name": "stderr",
     "output_type": "stream",
     "text": [
      "100%|██████████| 22/22 [00:00<00:00, 118.00it/s]\n",
      "100%|██████████| 4/4 [00:00<00:00, 201.82it/s]\n"
     ]
    },
    {
     "name": "stdout",
     "output_type": "stream",
     "text": [
      "Epoch 52/200, Train Loss: 0.2252, Test Loss: 0.2200\n"
     ]
    },
    {
     "name": "stderr",
     "output_type": "stream",
     "text": [
      "100%|██████████| 22/22 [00:00<00:00, 84.88it/s]\n",
      "100%|██████████| 4/4 [00:00<00:00, 224.97it/s]\n"
     ]
    },
    {
     "name": "stdout",
     "output_type": "stream",
     "text": [
      "Epoch 53/200, Train Loss: 0.2252, Test Loss: 0.2200\n"
     ]
    },
    {
     "name": "stderr",
     "output_type": "stream",
     "text": [
      "100%|██████████| 22/22 [00:00<00:00, 122.18it/s]\n",
      "100%|██████████| 4/4 [00:00<00:00, 227.46it/s]\n"
     ]
    },
    {
     "name": "stdout",
     "output_type": "stream",
     "text": [
      "Epoch 54/200, Train Loss: 0.2252, Test Loss: 0.2200\n"
     ]
    },
    {
     "name": "stderr",
     "output_type": "stream",
     "text": [
      "100%|██████████| 22/22 [00:00<00:00, 123.57it/s]\n",
      "100%|██████████| 4/4 [00:00<00:00, 229.38it/s]\n"
     ]
    },
    {
     "name": "stdout",
     "output_type": "stream",
     "text": [
      "Epoch 55/200, Train Loss: 0.2252, Test Loss: 0.2200\n"
     ]
    },
    {
     "name": "stderr",
     "output_type": "stream",
     "text": [
      "100%|██████████| 22/22 [00:00<00:00, 122.94it/s]\n",
      "100%|██████████| 4/4 [00:00<00:00, 229.44it/s]\n"
     ]
    },
    {
     "name": "stdout",
     "output_type": "stream",
     "text": [
      "Epoch 56/200, Train Loss: 0.2251, Test Loss: 0.2200\n"
     ]
    },
    {
     "name": "stderr",
     "output_type": "stream",
     "text": [
      "100%|██████████| 22/22 [00:00<00:00, 117.86it/s]\n",
      "100%|██████████| 4/4 [00:00<00:00, 217.27it/s]\n"
     ]
    },
    {
     "name": "stdout",
     "output_type": "stream",
     "text": [
      "Epoch 57/200, Train Loss: 0.2251, Test Loss: 0.2200\n",
      "No improvement in Test Loss for 1 epoch(s).\n",
      "Current Best Test Loss: 0.2200\n"
     ]
    },
    {
     "name": "stderr",
     "output_type": "stream",
     "text": [
      "100%|██████████| 22/22 [00:00<00:00, 121.92it/s]\n",
      "100%|██████████| 4/4 [00:00<00:00, 214.45it/s]\n"
     ]
    },
    {
     "name": "stdout",
     "output_type": "stream",
     "text": [
      "Epoch 58/200, Train Loss: 0.2251, Test Loss: 0.2200\n"
     ]
    },
    {
     "name": "stderr",
     "output_type": "stream",
     "text": [
      "100%|██████████| 22/22 [00:00<00:00, 124.61it/s]\n",
      "100%|██████████| 4/4 [00:00<00:00, 229.94it/s]\n"
     ]
    },
    {
     "name": "stdout",
     "output_type": "stream",
     "text": [
      "Epoch 59/200, Train Loss: 0.2251, Test Loss: 0.2200\n",
      "No improvement in Test Loss for 1 epoch(s).\n",
      "Current Best Test Loss: 0.2200\n"
     ]
    },
    {
     "name": "stderr",
     "output_type": "stream",
     "text": [
      "100%|██████████| 22/22 [00:00<00:00, 125.88it/s]\n",
      "100%|██████████| 4/4 [00:00<00:00, 228.06it/s]\n"
     ]
    },
    {
     "name": "stdout",
     "output_type": "stream",
     "text": [
      "Epoch 60/200, Train Loss: 0.2251, Test Loss: 0.2200\n"
     ]
    },
    {
     "name": "stderr",
     "output_type": "stream",
     "text": [
      "100%|██████████| 22/22 [00:00<00:00, 122.68it/s]\n",
      "100%|██████████| 4/4 [00:00<00:00, 204.79it/s]\n"
     ]
    },
    {
     "name": "stdout",
     "output_type": "stream",
     "text": [
      "Epoch 61/200, Train Loss: 0.2251, Test Loss: 0.2200\n",
      "No improvement in Test Loss for 1 epoch(s).\n",
      "Current Best Test Loss: 0.2200\n"
     ]
    },
    {
     "name": "stderr",
     "output_type": "stream",
     "text": [
      "100%|██████████| 22/22 [00:00<00:00, 80.76it/s]\n",
      "100%|██████████| 4/4 [00:00<00:00, 215.46it/s]\n"
     ]
    },
    {
     "name": "stdout",
     "output_type": "stream",
     "text": [
      "Epoch 62/200, Train Loss: 0.2251, Test Loss: 0.2199\n"
     ]
    },
    {
     "name": "stderr",
     "output_type": "stream",
     "text": [
      "100%|██████████| 22/22 [00:00<00:00, 113.51it/s]\n",
      "100%|██████████| 4/4 [00:00<00:00, 219.46it/s]\n"
     ]
    },
    {
     "name": "stdout",
     "output_type": "stream",
     "text": [
      "Epoch 63/200, Train Loss: 0.2251, Test Loss: 0.2199\n",
      "No improvement in Test Loss for 1 epoch(s).\n",
      "Current Best Test Loss: 0.2199\n"
     ]
    },
    {
     "name": "stderr",
     "output_type": "stream",
     "text": [
      "100%|██████████| 22/22 [00:00<00:00, 112.03it/s]\n",
      "100%|██████████| 4/4 [00:00<00:00, 211.68it/s]\n"
     ]
    },
    {
     "name": "stdout",
     "output_type": "stream",
     "text": [
      "Epoch 64/200, Train Loss: 0.2251, Test Loss: 0.2199\n",
      "No improvement in Test Loss for 2 epoch(s).\n",
      "Current Best Test Loss: 0.2199\n"
     ]
    },
    {
     "name": "stderr",
     "output_type": "stream",
     "text": [
      "100%|██████████| 22/22 [00:00<00:00, 71.60it/s]\n",
      "100%|██████████| 4/4 [00:00<00:00, 175.03it/s]\n"
     ]
    },
    {
     "name": "stdout",
     "output_type": "stream",
     "text": [
      "Epoch 65/200, Train Loss: 0.2251, Test Loss: 0.2199\n"
     ]
    },
    {
     "name": "stderr",
     "output_type": "stream",
     "text": [
      "100%|██████████| 22/22 [00:00<00:00, 78.86it/s]\n",
      "100%|██████████| 4/4 [00:00<00:00, 190.19it/s]\n"
     ]
    },
    {
     "name": "stdout",
     "output_type": "stream",
     "text": [
      "Epoch 66/200, Train Loss: 0.2251, Test Loss: 0.2199\n",
      "No improvement in Test Loss for 1 epoch(s).\n",
      "Current Best Test Loss: 0.2199\n"
     ]
    },
    {
     "name": "stderr",
     "output_type": "stream",
     "text": [
      "100%|██████████| 22/22 [00:00<00:00, 105.52it/s]\n",
      "100%|██████████| 4/4 [00:00<00:00, 226.15it/s]\n"
     ]
    },
    {
     "name": "stdout",
     "output_type": "stream",
     "text": [
      "Epoch 67/200, Train Loss: 0.2251, Test Loss: 0.2199\n",
      "No improvement in Test Loss for 2 epoch(s).\n",
      "Current Best Test Loss: 0.2199\n"
     ]
    },
    {
     "name": "stderr",
     "output_type": "stream",
     "text": [
      "100%|██████████| 22/22 [00:00<00:00, 118.13it/s]\n",
      "100%|██████████| 4/4 [00:00<00:00, 162.29it/s]\n"
     ]
    },
    {
     "name": "stdout",
     "output_type": "stream",
     "text": [
      "Epoch 68/200, Train Loss: 0.2251, Test Loss: 0.2199\n",
      "No improvement in Test Loss for 3 epoch(s).\n",
      "Current Best Test Loss: 0.2199\n",
      "Early stopping triggered.\n"
     ]
    },
    {
     "name": "stderr",
     "output_type": "stream",
     "text": [
      "100%|██████████| 7/7 [00:00<00:00, 128.31it/s]\n"
     ]
    },
    {
     "name": "stdout",
     "output_type": "stream",
     "text": [
      "Test loss: 0.23680204000704902\n",
      "Test loss baseline: 0.2309132344333311\n",
      "Model initialized. Training on cuda\n",
      "Start training model with parameters: {'num_B_spline_basis': 20, 'downsample_factor': 10, 'transformer_num_layers': 2, 'transformer_d_model': 128, 'transformer_dim_feedforward': 512, 'transformer_vae_output_dim': 16, 'transformer_dropout': 0.0, 'transformer_nhead': 1, 'stimulus_nfactor': 1, 'stimulus_decoder_inter_dim_factor': 2, 'beta': 1.0, 'use_area_specific_decoder': True, 'use_area_specific_encoder': True, 'use_cls': False, 'coupling_basis_peaks_max': 5, 'coupling_basis_num': 3, 'coupling_nsubspace': 1, 'use_self_coupling': True, 'K_sigma2': 1.0, 'K_tau': 100, 'coupling_strength_nlatent': 1, 'penalty_smoothing_spline': 100.0, 'penalty_effect_overlapping': None, 'penalty_coupling_subgroup': 0.0001, 'penalty_diff_loading': None, 'batch_size': 64, 'sample_latent': False, 'lr': 0.001, 'epoch_warm_up': 0, 'epoch_patience': 3, 'epoch_max': 200, 'tol': 1e-05, 'weight_decay': 0, 'lr_transformer': 0.0001, 'lr_sti': 0.01, 'lr_cp': 0.01}\n"
     ]
    },
    {
     "name": "stderr",
     "output_type": "stream",
     "text": [
      "100%|██████████| 22/22 [00:00<00:00, 125.98it/s]\n",
      "100%|██████████| 4/4 [00:00<00:00, 231.74it/s]"
     ]
    },
    {
     "name": "stdout",
     "output_type": "stream",
     "text": [
      "Epoch 1/200, Train Loss: 1.0327, Test Loss: 0.8752\n"
     ]
    },
    {
     "name": "stderr",
     "output_type": "stream",
     "text": [
      "\n",
      "100%|██████████| 22/22 [00:00<00:00, 108.52it/s]\n",
      "100%|██████████| 4/4 [00:00<00:00, 178.44it/s]\n"
     ]
    },
    {
     "name": "stdout",
     "output_type": "stream",
     "text": [
      "Epoch 2/200, Train Loss: 0.7307, Test Loss: 0.5813\n"
     ]
    },
    {
     "name": "stderr",
     "output_type": "stream",
     "text": [
      "100%|██████████| 22/22 [00:00<00:00, 99.79it/s] \n",
      "100%|██████████| 4/4 [00:00<00:00, 106.74it/s]\n"
     ]
    },
    {
     "name": "stdout",
     "output_type": "stream",
     "text": [
      "Epoch 3/200, Train Loss: 0.4729, Test Loss: 0.3792\n"
     ]
    },
    {
     "name": "stderr",
     "output_type": "stream",
     "text": [
      "100%|██████████| 22/22 [00:00<00:00, 112.52it/s]\n",
      "100%|██████████| 4/4 [00:00<00:00, 138.05it/s]\n"
     ]
    },
    {
     "name": "stdout",
     "output_type": "stream",
     "text": [
      "Epoch 4/200, Train Loss: 0.3259, Test Loss: 0.2890\n"
     ]
    },
    {
     "name": "stderr",
     "output_type": "stream",
     "text": [
      "100%|██████████| 22/22 [00:00<00:00, 115.37it/s]\n",
      "100%|██████████| 4/4 [00:00<00:00, 272.02it/s]\n"
     ]
    },
    {
     "name": "stdout",
     "output_type": "stream",
     "text": [
      "Epoch 5/200, Train Loss: 0.2672, Test Loss: 0.2568\n"
     ]
    },
    {
     "name": "stderr",
     "output_type": "stream",
     "text": [
      "100%|██████████| 22/22 [00:00<00:00, 104.87it/s]\n",
      "100%|██████████| 4/4 [00:00<00:00, 254.17it/s]\n"
     ]
    },
    {
     "name": "stdout",
     "output_type": "stream",
     "text": [
      "Epoch 6/200, Train Loss: 0.2461, Test Loss: 0.2445\n"
     ]
    },
    {
     "name": "stderr",
     "output_type": "stream",
     "text": [
      "100%|██████████| 22/22 [00:00<00:00, 113.48it/s]\n",
      "100%|██████████| 4/4 [00:00<00:00, 233.97it/s]\n"
     ]
    },
    {
     "name": "stdout",
     "output_type": "stream",
     "text": [
      "Epoch 7/200, Train Loss: 0.2375, Test Loss: 0.2391\n"
     ]
    },
    {
     "name": "stderr",
     "output_type": "stream",
     "text": [
      "100%|██████████| 22/22 [00:00<00:00, 135.26it/s]\n",
      "100%|██████████| 4/4 [00:00<00:00, 285.56it/s]\n"
     ]
    },
    {
     "name": "stdout",
     "output_type": "stream",
     "text": [
      "Epoch 8/200, Train Loss: 0.2335, Test Loss: 0.2364\n"
     ]
    },
    {
     "name": "stderr",
     "output_type": "stream",
     "text": [
      "100%|██████████| 22/22 [00:00<00:00, 168.23it/s]\n",
      "100%|██████████| 4/4 [00:00<00:00, 291.07it/s]\n"
     ]
    },
    {
     "name": "stdout",
     "output_type": "stream",
     "text": [
      "Epoch 9/200, Train Loss: 0.2315, Test Loss: 0.2349\n"
     ]
    },
    {
     "name": "stderr",
     "output_type": "stream",
     "text": [
      "100%|██████████| 22/22 [00:00<00:00, 135.89it/s]\n",
      "100%|██████████| 4/4 [00:00<00:00, 308.57it/s]\n"
     ]
    },
    {
     "name": "stdout",
     "output_type": "stream",
     "text": [
      "Epoch 10/200, Train Loss: 0.2303, Test Loss: 0.2341\n"
     ]
    },
    {
     "name": "stderr",
     "output_type": "stream",
     "text": [
      "100%|██████████| 22/22 [00:00<00:00, 167.07it/s]\n",
      "100%|██████████| 4/4 [00:00<00:00, 276.50it/s]\n"
     ]
    },
    {
     "name": "stdout",
     "output_type": "stream",
     "text": [
      "Epoch 11/200, Train Loss: 0.2296, Test Loss: 0.2336\n"
     ]
    },
    {
     "name": "stderr",
     "output_type": "stream",
     "text": [
      "100%|██████████| 22/22 [00:00<00:00, 164.38it/s]\n",
      "100%|██████████| 4/4 [00:00<00:00, 287.57it/s]\n"
     ]
    },
    {
     "name": "stdout",
     "output_type": "stream",
     "text": [
      "Epoch 12/200, Train Loss: 0.2292, Test Loss: 0.2333\n"
     ]
    },
    {
     "name": "stderr",
     "output_type": "stream",
     "text": [
      "100%|██████████| 22/22 [00:00<00:00, 168.60it/s]\n",
      "100%|██████████| 4/4 [00:00<00:00, 283.99it/s]\n"
     ]
    },
    {
     "name": "stdout",
     "output_type": "stream",
     "text": [
      "Epoch 13/200, Train Loss: 0.2290, Test Loss: 0.2331\n"
     ]
    },
    {
     "name": "stderr",
     "output_type": "stream",
     "text": [
      "100%|██████████| 22/22 [00:00<00:00, 173.47it/s]\n",
      "100%|██████████| 4/4 [00:00<00:00, 283.46it/s]\n"
     ]
    },
    {
     "name": "stdout",
     "output_type": "stream",
     "text": [
      "Epoch 14/200, Train Loss: 0.2288, Test Loss: 0.2330\n"
     ]
    },
    {
     "name": "stderr",
     "output_type": "stream",
     "text": [
      "100%|██████████| 22/22 [00:00<00:00, 153.23it/s]\n",
      "100%|██████████| 4/4 [00:00<00:00, 236.94it/s]\n"
     ]
    },
    {
     "name": "stdout",
     "output_type": "stream",
     "text": [
      "Epoch 15/200, Train Loss: 0.2287, Test Loss: 0.2329\n"
     ]
    },
    {
     "name": "stderr",
     "output_type": "stream",
     "text": [
      "100%|██████████| 22/22 [00:00<00:00, 163.57it/s]\n",
      "100%|██████████| 4/4 [00:00<00:00, 295.65it/s]\n"
     ]
    },
    {
     "name": "stdout",
     "output_type": "stream",
     "text": [
      "Epoch 16/200, Train Loss: 0.2287, Test Loss: 0.2329\n"
     ]
    },
    {
     "name": "stderr",
     "output_type": "stream",
     "text": [
      "100%|██████████| 22/22 [00:00<00:00, 182.69it/s]\n",
      "100%|██████████| 4/4 [00:00<00:00, 300.45it/s]\n"
     ]
    },
    {
     "name": "stdout",
     "output_type": "stream",
     "text": [
      "Epoch 17/200, Train Loss: 0.2286, Test Loss: 0.2329\n"
     ]
    },
    {
     "name": "stderr",
     "output_type": "stream",
     "text": [
      "100%|██████████| 22/22 [00:00<00:00, 174.42it/s]\n",
      "100%|██████████| 4/4 [00:00<00:00, 287.37it/s]\n"
     ]
    },
    {
     "name": "stdout",
     "output_type": "stream",
     "text": [
      "Epoch 18/200, Train Loss: 0.2286, Test Loss: 0.2328\n"
     ]
    },
    {
     "name": "stderr",
     "output_type": "stream",
     "text": [
      "100%|██████████| 22/22 [00:00<00:00, 180.70it/s]\n",
      "100%|██████████| 4/4 [00:00<00:00, 305.09it/s]\n"
     ]
    },
    {
     "name": "stdout",
     "output_type": "stream",
     "text": [
      "Epoch 19/200, Train Loss: 0.2286, Test Loss: 0.2328\n"
     ]
    },
    {
     "name": "stderr",
     "output_type": "stream",
     "text": [
      "100%|██████████| 22/22 [00:00<00:00, 181.34it/s]\n",
      "100%|██████████| 4/4 [00:00<00:00, 291.60it/s]\n"
     ]
    },
    {
     "name": "stdout",
     "output_type": "stream",
     "text": [
      "Epoch 20/200, Train Loss: 0.2286, Test Loss: 0.2328\n",
      "No improvement in Test Loss for 1 epoch(s).\n",
      "Current Best Test Loss: 0.2328\n"
     ]
    },
    {
     "name": "stderr",
     "output_type": "stream",
     "text": [
      "100%|██████████| 22/22 [00:00<00:00, 191.66it/s]\n",
      "100%|██████████| 4/4 [00:00<00:00, 307.93it/s]\n"
     ]
    },
    {
     "name": "stdout",
     "output_type": "stream",
     "text": [
      "Epoch 21/200, Train Loss: 0.2286, Test Loss: 0.2328\n"
     ]
    },
    {
     "name": "stderr",
     "output_type": "stream",
     "text": [
      "100%|██████████| 22/22 [00:00<00:00, 180.29it/s]\n",
      "100%|██████████| 4/4 [00:00<00:00, 291.32it/s]\n"
     ]
    },
    {
     "name": "stdout",
     "output_type": "stream",
     "text": [
      "Epoch 22/200, Train Loss: 0.2286, Test Loss: 0.2328\n",
      "No improvement in Test Loss for 1 epoch(s).\n",
      "Current Best Test Loss: 0.2328\n"
     ]
    },
    {
     "name": "stderr",
     "output_type": "stream",
     "text": [
      "100%|██████████| 22/22 [00:00<00:00, 192.00it/s]\n",
      "100%|██████████| 4/4 [00:00<00:00, 304.91it/s]\n"
     ]
    },
    {
     "name": "stdout",
     "output_type": "stream",
     "text": [
      "Epoch 23/200, Train Loss: 0.2285, Test Loss: 0.2328\n",
      "No improvement in Test Loss for 2 epoch(s).\n",
      "Current Best Test Loss: 0.2328\n"
     ]
    },
    {
     "name": "stderr",
     "output_type": "stream",
     "text": [
      "100%|██████████| 22/22 [00:00<00:00, 192.16it/s]\n",
      "100%|██████████| 4/4 [00:00<00:00, 304.46it/s]\n"
     ]
    },
    {
     "name": "stdout",
     "output_type": "stream",
     "text": [
      "Epoch 24/200, Train Loss: 0.2285, Test Loss: 0.2328\n",
      "No improvement in Test Loss for 3 epoch(s).\n",
      "Current Best Test Loss: 0.2328\n",
      "Early stopping triggered.\n",
      "Start training model with parameters: {'num_B_spline_basis': 20, 'downsample_factor': 10, 'transformer_num_layers': 2, 'transformer_d_model': 128, 'transformer_dim_feedforward': 512, 'transformer_vae_output_dim': 16, 'transformer_dropout': 0.0, 'transformer_nhead': 1, 'stimulus_nfactor': 1, 'stimulus_decoder_inter_dim_factor': 2, 'beta': 1.0, 'use_area_specific_decoder': True, 'use_area_specific_encoder': True, 'use_cls': False, 'coupling_basis_peaks_max': 5, 'coupling_basis_num': 3, 'coupling_nsubspace': 1, 'use_self_coupling': True, 'K_sigma2': 1.0, 'K_tau': 100, 'coupling_strength_nlatent': 1, 'penalty_smoothing_spline': 100.0, 'penalty_effect_overlapping': None, 'penalty_coupling_subgroup': 0.0001, 'penalty_diff_loading': None, 'batch_size': 64, 'sample_latent': False, 'lr': 0.001, 'epoch_warm_up': 0, 'epoch_patience': 3, 'epoch_max': 200, 'tol': 1e-05, 'weight_decay': 0, 'lr_transformer': 0.0001, 'lr_sti': 0.01, 'lr_cp': 0.01}\n"
     ]
    },
    {
     "name": "stderr",
     "output_type": "stream",
     "text": [
      "100%|██████████| 22/22 [00:00<00:00, 116.61it/s]\n",
      "100%|██████████| 4/4 [00:00<00:00, 227.14it/s]\n"
     ]
    },
    {
     "name": "stdout",
     "output_type": "stream",
     "text": [
      "Epoch 1/200, Train Loss: 0.2332, Test Loss: 0.2320\n"
     ]
    },
    {
     "name": "stderr",
     "output_type": "stream",
     "text": [
      "100%|██████████| 22/22 [00:00<00:00, 115.40it/s]\n",
      "100%|██████████| 4/4 [00:00<00:00, 232.05it/s]\n"
     ]
    },
    {
     "name": "stdout",
     "output_type": "stream",
     "text": [
      "Epoch 2/200, Train Loss: 0.2269, Test Loss: 0.2307\n"
     ]
    },
    {
     "name": "stderr",
     "output_type": "stream",
     "text": [
      "100%|██████████| 22/22 [00:00<00:00, 115.11it/s]\n",
      "100%|██████████| 4/4 [00:00<00:00, 231.68it/s]\n"
     ]
    },
    {
     "name": "stdout",
     "output_type": "stream",
     "text": [
      "Epoch 3/200, Train Loss: 0.2264, Test Loss: 0.2306\n"
     ]
    },
    {
     "name": "stderr",
     "output_type": "stream",
     "text": [
      "100%|██████████| 22/22 [00:00<00:00, 113.15it/s]\n",
      "100%|██████████| 4/4 [00:00<00:00, 199.39it/s]\n"
     ]
    },
    {
     "name": "stdout",
     "output_type": "stream",
     "text": [
      "Epoch 4/200, Train Loss: 0.2263, Test Loss: 0.2305\n"
     ]
    },
    {
     "name": "stderr",
     "output_type": "stream",
     "text": [
      "100%|██████████| 22/22 [00:00<00:00, 57.70it/s]\n",
      "100%|██████████| 4/4 [00:00<00:00, 145.77it/s]\n"
     ]
    },
    {
     "name": "stdout",
     "output_type": "stream",
     "text": [
      "Epoch 5/200, Train Loss: 0.2262, Test Loss: 0.2303\n"
     ]
    },
    {
     "name": "stderr",
     "output_type": "stream",
     "text": [
      "100%|██████████| 22/22 [00:00<00:00, 85.95it/s]\n",
      "100%|██████████| 4/4 [00:00<00:00, 209.17it/s]\n"
     ]
    },
    {
     "name": "stdout",
     "output_type": "stream",
     "text": [
      "Epoch 6/200, Train Loss: 0.2261, Test Loss: 0.2302\n"
     ]
    },
    {
     "name": "stderr",
     "output_type": "stream",
     "text": [
      "100%|██████████| 22/22 [00:00<00:00, 81.05it/s]\n",
      "100%|██████████| 4/4 [00:00<00:00, 97.27it/s]\n"
     ]
    },
    {
     "name": "stdout",
     "output_type": "stream",
     "text": [
      "Epoch 7/200, Train Loss: 0.2260, Test Loss: 0.2302\n"
     ]
    },
    {
     "name": "stderr",
     "output_type": "stream",
     "text": [
      "100%|██████████| 22/22 [00:00<00:00, 87.97it/s]\n",
      "100%|██████████| 4/4 [00:00<00:00, 217.79it/s]\n"
     ]
    },
    {
     "name": "stdout",
     "output_type": "stream",
     "text": [
      "Epoch 8/200, Train Loss: 0.2258, Test Loss: 0.2302\n",
      "No improvement in Test Loss for 1 epoch(s).\n",
      "Current Best Test Loss: 0.2302\n"
     ]
    },
    {
     "name": "stderr",
     "output_type": "stream",
     "text": [
      "100%|██████████| 22/22 [00:00<00:00, 95.44it/s]\n",
      "100%|██████████| 4/4 [00:00<00:00, 209.97it/s]\n"
     ]
    },
    {
     "name": "stdout",
     "output_type": "stream",
     "text": [
      "Epoch 9/200, Train Loss: 0.2256, Test Loss: 0.2298\n"
     ]
    },
    {
     "name": "stderr",
     "output_type": "stream",
     "text": [
      "100%|██████████| 22/22 [00:00<00:00, 93.75it/s]\n",
      "100%|██████████| 4/4 [00:00<00:00, 179.55it/s]\n"
     ]
    },
    {
     "name": "stdout",
     "output_type": "stream",
     "text": [
      "Epoch 10/200, Train Loss: 0.2255, Test Loss: 0.2296\n"
     ]
    },
    {
     "name": "stderr",
     "output_type": "stream",
     "text": [
      "100%|██████████| 22/22 [00:00<00:00, 69.08it/s]\n",
      "100%|██████████| 4/4 [00:00<00:00, 204.79it/s]\n"
     ]
    },
    {
     "name": "stdout",
     "output_type": "stream",
     "text": [
      "Epoch 11/200, Train Loss: 0.2253, Test Loss: 0.2295\n"
     ]
    },
    {
     "name": "stderr",
     "output_type": "stream",
     "text": [
      "100%|██████████| 22/22 [00:00<00:00, 81.51it/s]\n",
      "100%|██████████| 4/4 [00:00<00:00, 192.94it/s]\n"
     ]
    },
    {
     "name": "stdout",
     "output_type": "stream",
     "text": [
      "Epoch 12/200, Train Loss: 0.2252, Test Loss: 0.2294\n"
     ]
    },
    {
     "name": "stderr",
     "output_type": "stream",
     "text": [
      "100%|██████████| 22/22 [00:00<00:00, 76.76it/s]\n",
      "100%|██████████| 4/4 [00:00<00:00, 194.78it/s]\n"
     ]
    },
    {
     "name": "stdout",
     "output_type": "stream",
     "text": [
      "Epoch 13/200, Train Loss: 0.2251, Test Loss: 0.2293\n"
     ]
    },
    {
     "name": "stderr",
     "output_type": "stream",
     "text": [
      "100%|██████████| 22/22 [00:00<00:00, 85.14it/s]\n",
      "100%|██████████| 4/4 [00:00<00:00, 215.34it/s]\n"
     ]
    },
    {
     "name": "stdout",
     "output_type": "stream",
     "text": [
      "Epoch 14/200, Train Loss: 0.2250, Test Loss: 0.2292\n"
     ]
    },
    {
     "name": "stderr",
     "output_type": "stream",
     "text": [
      "100%|██████████| 22/22 [00:00<00:00, 87.18it/s]\n",
      "100%|██████████| 4/4 [00:00<00:00, 194.17it/s]\n"
     ]
    },
    {
     "name": "stdout",
     "output_type": "stream",
     "text": [
      "Epoch 15/200, Train Loss: 0.2249, Test Loss: 0.2292\n"
     ]
    },
    {
     "name": "stderr",
     "output_type": "stream",
     "text": [
      "100%|██████████| 22/22 [00:00<00:00, 112.96it/s]\n",
      "100%|██████████| 4/4 [00:00<00:00, 236.02it/s]\n"
     ]
    },
    {
     "name": "stdout",
     "output_type": "stream",
     "text": [
      "Epoch 16/200, Train Loss: 0.2248, Test Loss: 0.2291\n"
     ]
    },
    {
     "name": "stderr",
     "output_type": "stream",
     "text": [
      "100%|██████████| 22/22 [00:00<00:00, 115.57it/s]\n",
      "100%|██████████| 4/4 [00:00<00:00, 128.23it/s]\n"
     ]
    },
    {
     "name": "stdout",
     "output_type": "stream",
     "text": [
      "Epoch 17/200, Train Loss: 0.2248, Test Loss: 0.2291\n"
     ]
    },
    {
     "name": "stderr",
     "output_type": "stream",
     "text": [
      "100%|██████████| 22/22 [00:00<00:00, 93.77it/s]\n",
      "100%|██████████| 4/4 [00:00<00:00, 227.68it/s]\n"
     ]
    },
    {
     "name": "stdout",
     "output_type": "stream",
     "text": [
      "Epoch 18/200, Train Loss: 0.2247, Test Loss: 0.2290\n"
     ]
    },
    {
     "name": "stderr",
     "output_type": "stream",
     "text": [
      "100%|██████████| 22/22 [00:00<00:00, 106.18it/s]\n",
      "100%|██████████| 4/4 [00:00<00:00, 218.86it/s]\n"
     ]
    },
    {
     "name": "stdout",
     "output_type": "stream",
     "text": [
      "Epoch 19/200, Train Loss: 0.2247, Test Loss: 0.2289\n"
     ]
    },
    {
     "name": "stderr",
     "output_type": "stream",
     "text": [
      "100%|██████████| 22/22 [00:00<00:00, 99.77it/s] \n",
      "100%|██████████| 4/4 [00:00<00:00, 223.40it/s]\n"
     ]
    },
    {
     "name": "stdout",
     "output_type": "stream",
     "text": [
      "Epoch 20/200, Train Loss: 0.2246, Test Loss: 0.2288\n"
     ]
    },
    {
     "name": "stderr",
     "output_type": "stream",
     "text": [
      "100%|██████████| 22/22 [00:00<00:00, 105.51it/s]\n",
      "100%|██████████| 4/4 [00:00<00:00, 207.57it/s]\n"
     ]
    },
    {
     "name": "stdout",
     "output_type": "stream",
     "text": [
      "Epoch 21/200, Train Loss: 0.2245, Test Loss: 0.2286\n"
     ]
    },
    {
     "name": "stderr",
     "output_type": "stream",
     "text": [
      "100%|██████████| 22/22 [00:00<00:00, 109.00it/s]\n",
      "100%|██████████| 4/4 [00:00<00:00, 215.98it/s]\n"
     ]
    },
    {
     "name": "stdout",
     "output_type": "stream",
     "text": [
      "Epoch 22/200, Train Loss: 0.2243, Test Loss: 0.2285\n"
     ]
    },
    {
     "name": "stderr",
     "output_type": "stream",
     "text": [
      "100%|██████████| 22/22 [00:00<00:00, 99.96it/s] \n",
      "100%|██████████| 4/4 [00:00<00:00, 215.68it/s]\n"
     ]
    },
    {
     "name": "stdout",
     "output_type": "stream",
     "text": [
      "Epoch 23/200, Train Loss: 0.2242, Test Loss: 0.2284\n"
     ]
    },
    {
     "name": "stderr",
     "output_type": "stream",
     "text": [
      "100%|██████████| 22/22 [00:00<00:00, 106.24it/s]\n",
      "100%|██████████| 4/4 [00:00<00:00, 220.76it/s]\n"
     ]
    },
    {
     "name": "stdout",
     "output_type": "stream",
     "text": [
      "Epoch 24/200, Train Loss: 0.2241, Test Loss: 0.2283\n"
     ]
    },
    {
     "name": "stderr",
     "output_type": "stream",
     "text": [
      "100%|██████████| 22/22 [00:00<00:00, 99.55it/s] \n",
      "100%|██████████| 4/4 [00:00<00:00, 214.70it/s]\n"
     ]
    },
    {
     "name": "stdout",
     "output_type": "stream",
     "text": [
      "Epoch 25/200, Train Loss: 0.2240, Test Loss: 0.2283\n"
     ]
    },
    {
     "name": "stderr",
     "output_type": "stream",
     "text": [
      "100%|██████████| 22/22 [00:00<00:00, 106.00it/s]\n",
      "100%|██████████| 4/4 [00:00<00:00, 218.93it/s]\n"
     ]
    },
    {
     "name": "stdout",
     "output_type": "stream",
     "text": [
      "Epoch 26/200, Train Loss: 0.2240, Test Loss: 0.2282\n"
     ]
    },
    {
     "name": "stderr",
     "output_type": "stream",
     "text": [
      "100%|██████████| 22/22 [00:00<00:00, 108.60it/s]\n",
      "100%|██████████| 4/4 [00:00<00:00, 229.59it/s]\n"
     ]
    },
    {
     "name": "stdout",
     "output_type": "stream",
     "text": [
      "Epoch 27/200, Train Loss: 0.2239, Test Loss: 0.2281\n"
     ]
    },
    {
     "name": "stderr",
     "output_type": "stream",
     "text": [
      "100%|██████████| 22/22 [00:00<00:00, 107.49it/s]\n",
      "100%|██████████| 4/4 [00:00<00:00, 212.07it/s]\n"
     ]
    },
    {
     "name": "stdout",
     "output_type": "stream",
     "text": [
      "Epoch 28/200, Train Loss: 0.2238, Test Loss: 0.2281\n"
     ]
    },
    {
     "name": "stderr",
     "output_type": "stream",
     "text": [
      "100%|██████████| 22/22 [00:00<00:00, 66.67it/s]\n",
      "100%|██████████| 4/4 [00:00<00:00, 219.80it/s]\n"
     ]
    },
    {
     "name": "stdout",
     "output_type": "stream",
     "text": [
      "Epoch 29/200, Train Loss: 0.2238, Test Loss: 0.2281\n"
     ]
    },
    {
     "name": "stderr",
     "output_type": "stream",
     "text": [
      "100%|██████████| 22/22 [00:00<00:00, 93.38it/s]\n",
      "100%|██████████| 4/4 [00:00<00:00, 194.72it/s]\n"
     ]
    },
    {
     "name": "stdout",
     "output_type": "stream",
     "text": [
      "Epoch 30/200, Train Loss: 0.2238, Test Loss: 0.2280\n"
     ]
    },
    {
     "name": "stderr",
     "output_type": "stream",
     "text": [
      "100%|██████████| 22/22 [00:00<00:00, 66.48it/s]\n",
      "100%|██████████| 4/4 [00:00<00:00, 192.14it/s]\n"
     ]
    },
    {
     "name": "stdout",
     "output_type": "stream",
     "text": [
      "Epoch 31/200, Train Loss: 0.2237, Test Loss: 0.2280\n"
     ]
    },
    {
     "name": "stderr",
     "output_type": "stream",
     "text": [
      "100%|██████████| 22/22 [00:00<00:00, 50.60it/s]\n",
      "100%|██████████| 4/4 [00:00<00:00, 158.69it/s]\n"
     ]
    },
    {
     "name": "stdout",
     "output_type": "stream",
     "text": [
      "Epoch 32/200, Train Loss: 0.2237, Test Loss: 0.2280\n"
     ]
    },
    {
     "name": "stderr",
     "output_type": "stream",
     "text": [
      "100%|██████████| 22/22 [00:00<00:00, 84.93it/s]\n",
      "100%|██████████| 4/4 [00:00<00:00, 208.60it/s]\n"
     ]
    },
    {
     "name": "stdout",
     "output_type": "stream",
     "text": [
      "Epoch 33/200, Train Loss: 0.2237, Test Loss: 0.2280\n"
     ]
    },
    {
     "name": "stderr",
     "output_type": "stream",
     "text": [
      "100%|██████████| 22/22 [00:00<00:00, 49.69it/s]\n",
      "100%|██████████| 4/4 [00:00<00:00, 92.81it/s]\n"
     ]
    },
    {
     "name": "stdout",
     "output_type": "stream",
     "text": [
      "Epoch 34/200, Train Loss: 0.2237, Test Loss: 0.2280\n"
     ]
    },
    {
     "name": "stderr",
     "output_type": "stream",
     "text": [
      "100%|██████████| 22/22 [00:00<00:00, 98.43it/s]\n",
      "100%|██████████| 4/4 [00:00<00:00, 214.31it/s]\n"
     ]
    },
    {
     "name": "stdout",
     "output_type": "stream",
     "text": [
      "Epoch 35/200, Train Loss: 0.2237, Test Loss: 0.2279\n"
     ]
    },
    {
     "name": "stderr",
     "output_type": "stream",
     "text": [
      "100%|██████████| 22/22 [00:00<00:00, 105.51it/s]\n",
      "100%|██████████| 4/4 [00:00<00:00, 212.12it/s]\n"
     ]
    },
    {
     "name": "stdout",
     "output_type": "stream",
     "text": [
      "Epoch 36/200, Train Loss: 0.2237, Test Loss: 0.2279\n"
     ]
    },
    {
     "name": "stderr",
     "output_type": "stream",
     "text": [
      "100%|██████████| 22/22 [00:00<00:00, 104.27it/s]\n",
      "100%|██████████| 4/4 [00:00<00:00, 141.83it/s]\n"
     ]
    },
    {
     "name": "stdout",
     "output_type": "stream",
     "text": [
      "Epoch 37/200, Train Loss: 0.2236, Test Loss: 0.2279\n"
     ]
    },
    {
     "name": "stderr",
     "output_type": "stream",
     "text": [
      "100%|██████████| 22/22 [00:00<00:00, 87.13it/s]\n",
      "100%|██████████| 4/4 [00:00<00:00, 218.85it/s]\n"
     ]
    },
    {
     "name": "stdout",
     "output_type": "stream",
     "text": [
      "Epoch 38/200, Train Loss: 0.2236, Test Loss: 0.2279\n"
     ]
    },
    {
     "name": "stderr",
     "output_type": "stream",
     "text": [
      "100%|██████████| 22/22 [00:00<00:00, 93.08it/s] \n",
      "100%|██████████| 4/4 [00:00<00:00, 213.14it/s]\n"
     ]
    },
    {
     "name": "stdout",
     "output_type": "stream",
     "text": [
      "Epoch 39/200, Train Loss: 0.2236, Test Loss: 0.2279\n",
      "No improvement in Test Loss for 1 epoch(s).\n",
      "Current Best Test Loss: 0.2279\n"
     ]
    },
    {
     "name": "stderr",
     "output_type": "stream",
     "text": [
      "100%|██████████| 22/22 [00:00<00:00, 109.26it/s]\n",
      "100%|██████████| 4/4 [00:00<00:00, 210.31it/s]\n"
     ]
    },
    {
     "name": "stdout",
     "output_type": "stream",
     "text": [
      "Epoch 40/200, Train Loss: 0.2236, Test Loss: 0.2279\n",
      "No improvement in Test Loss for 2 epoch(s).\n",
      "Current Best Test Loss: 0.2279\n"
     ]
    },
    {
     "name": "stderr",
     "output_type": "stream",
     "text": [
      "100%|██████████| 22/22 [00:00<00:00, 112.56it/s]\n",
      "100%|██████████| 4/4 [00:00<00:00, 219.77it/s]\n"
     ]
    },
    {
     "name": "stdout",
     "output_type": "stream",
     "text": [
      "Epoch 41/200, Train Loss: 0.2236, Test Loss: 0.2279\n"
     ]
    },
    {
     "name": "stderr",
     "output_type": "stream",
     "text": [
      "100%|██████████| 22/22 [00:00<00:00, 85.09it/s]\n",
      "100%|██████████| 4/4 [00:00<00:00, 216.05it/s]\n"
     ]
    },
    {
     "name": "stdout",
     "output_type": "stream",
     "text": [
      "Epoch 42/200, Train Loss: 0.2236, Test Loss: 0.2279\n"
     ]
    },
    {
     "name": "stderr",
     "output_type": "stream",
     "text": [
      "100%|██████████| 22/22 [00:00<00:00, 102.42it/s]\n",
      "100%|██████████| 4/4 [00:00<00:00, 214.78it/s]\n"
     ]
    },
    {
     "name": "stdout",
     "output_type": "stream",
     "text": [
      "Epoch 43/200, Train Loss: 0.2236, Test Loss: 0.2278\n"
     ]
    },
    {
     "name": "stderr",
     "output_type": "stream",
     "text": [
      "100%|██████████| 22/22 [00:00<00:00, 105.25it/s]\n",
      "100%|██████████| 4/4 [00:00<00:00, 223.94it/s]\n"
     ]
    },
    {
     "name": "stdout",
     "output_type": "stream",
     "text": [
      "Epoch 44/200, Train Loss: 0.2236, Test Loss: 0.2278\n"
     ]
    },
    {
     "name": "stderr",
     "output_type": "stream",
     "text": [
      "100%|██████████| 22/22 [00:00<00:00, 91.87it/s] \n",
      "100%|██████████| 4/4 [00:00<00:00, 147.80it/s]\n"
     ]
    },
    {
     "name": "stdout",
     "output_type": "stream",
     "text": [
      "Epoch 45/200, Train Loss: 0.2235, Test Loss: 0.2278\n",
      "No improvement in Test Loss for 1 epoch(s).\n",
      "Current Best Test Loss: 0.2278\n"
     ]
    },
    {
     "name": "stderr",
     "output_type": "stream",
     "text": [
      "100%|██████████| 22/22 [00:00<00:00, 96.99it/s]\n",
      "100%|██████████| 4/4 [00:00<00:00, 225.64it/s]\n"
     ]
    },
    {
     "name": "stdout",
     "output_type": "stream",
     "text": [
      "Epoch 46/200, Train Loss: 0.2235, Test Loss: 0.2278\n"
     ]
    },
    {
     "name": "stderr",
     "output_type": "stream",
     "text": [
      "100%|██████████| 22/22 [00:00<00:00, 113.80it/s]\n",
      "100%|██████████| 4/4 [00:00<00:00, 230.69it/s]\n"
     ]
    },
    {
     "name": "stdout",
     "output_type": "stream",
     "text": [
      "Epoch 47/200, Train Loss: 0.2235, Test Loss: 0.2278\n"
     ]
    },
    {
     "name": "stderr",
     "output_type": "stream",
     "text": [
      "100%|██████████| 22/22 [00:00<00:00, 114.84it/s]\n",
      "100%|██████████| 4/4 [00:00<00:00, 226.82it/s]\n"
     ]
    },
    {
     "name": "stdout",
     "output_type": "stream",
     "text": [
      "Epoch 48/200, Train Loss: 0.2235, Test Loss: 0.2278\n",
      "No improvement in Test Loss for 1 epoch(s).\n",
      "Current Best Test Loss: 0.2278\n"
     ]
    },
    {
     "name": "stderr",
     "output_type": "stream",
     "text": [
      "100%|██████████| 22/22 [00:00<00:00, 110.89it/s]\n",
      "100%|██████████| 4/4 [00:00<00:00, 219.41it/s]\n"
     ]
    },
    {
     "name": "stdout",
     "output_type": "stream",
     "text": [
      "Epoch 49/200, Train Loss: 0.2235, Test Loss: 0.2278\n"
     ]
    },
    {
     "name": "stderr",
     "output_type": "stream",
     "text": [
      "100%|██████████| 22/22 [00:00<00:00, 101.32it/s]\n",
      "100%|██████████| 4/4 [00:00<00:00, 183.95it/s]\n"
     ]
    },
    {
     "name": "stdout",
     "output_type": "stream",
     "text": [
      "Epoch 50/200, Train Loss: 0.2235, Test Loss: 0.2278\n",
      "No improvement in Test Loss for 1 epoch(s).\n",
      "Current Best Test Loss: 0.2278\n"
     ]
    },
    {
     "name": "stderr",
     "output_type": "stream",
     "text": [
      "100%|██████████| 22/22 [00:00<00:00, 76.05it/s]\n",
      "100%|██████████| 4/4 [00:00<00:00, 203.30it/s]\n"
     ]
    },
    {
     "name": "stdout",
     "output_type": "stream",
     "text": [
      "Epoch 51/200, Train Loss: 0.2235, Test Loss: 0.2278\n"
     ]
    },
    {
     "name": "stderr",
     "output_type": "stream",
     "text": [
      "100%|██████████| 22/22 [00:00<00:00, 73.88it/s]\n",
      "100%|██████████| 4/4 [00:00<00:00, 214.73it/s]\n"
     ]
    },
    {
     "name": "stdout",
     "output_type": "stream",
     "text": [
      "Epoch 52/200, Train Loss: 0.2235, Test Loss: 0.2278\n",
      "No improvement in Test Loss for 1 epoch(s).\n",
      "Current Best Test Loss: 0.2278\n"
     ]
    },
    {
     "name": "stderr",
     "output_type": "stream",
     "text": [
      "100%|██████████| 22/22 [00:00<00:00, 96.50it/s] \n",
      "100%|██████████| 4/4 [00:00<00:00, 171.55it/s]\n"
     ]
    },
    {
     "name": "stdout",
     "output_type": "stream",
     "text": [
      "Epoch 53/200, Train Loss: 0.2235, Test Loss: 0.2277\n"
     ]
    },
    {
     "name": "stderr",
     "output_type": "stream",
     "text": [
      "100%|██████████| 22/22 [00:00<00:00, 76.62it/s]\n",
      "100%|██████████| 4/4 [00:00<00:00, 210.60it/s]\n"
     ]
    },
    {
     "name": "stdout",
     "output_type": "stream",
     "text": [
      "Epoch 54/200, Train Loss: 0.2235, Test Loss: 0.2277\n",
      "No improvement in Test Loss for 1 epoch(s).\n",
      "Current Best Test Loss: 0.2277\n"
     ]
    },
    {
     "name": "stderr",
     "output_type": "stream",
     "text": [
      "100%|██████████| 22/22 [00:00<00:00, 77.37it/s]\n",
      "100%|██████████| 4/4 [00:00<00:00, 169.11it/s]\n"
     ]
    },
    {
     "name": "stdout",
     "output_type": "stream",
     "text": [
      "Epoch 55/200, Train Loss: 0.2235, Test Loss: 0.2277\n"
     ]
    },
    {
     "name": "stderr",
     "output_type": "stream",
     "text": [
      "100%|██████████| 22/22 [00:00<00:00, 83.23it/s]\n",
      "100%|██████████| 4/4 [00:00<00:00, 226.22it/s]\n"
     ]
    },
    {
     "name": "stdout",
     "output_type": "stream",
     "text": [
      "Epoch 56/200, Train Loss: 0.2234, Test Loss: 0.2277\n",
      "No improvement in Test Loss for 1 epoch(s).\n",
      "Current Best Test Loss: 0.2277\n"
     ]
    },
    {
     "name": "stderr",
     "output_type": "stream",
     "text": [
      "100%|██████████| 22/22 [00:00<00:00, 97.47it/s] \n",
      "100%|██████████| 4/4 [00:00<00:00, 201.93it/s]\n"
     ]
    },
    {
     "name": "stdout",
     "output_type": "stream",
     "text": [
      "Epoch 57/200, Train Loss: 0.2234, Test Loss: 0.2277\n"
     ]
    },
    {
     "name": "stderr",
     "output_type": "stream",
     "text": [
      "100%|██████████| 22/22 [00:00<00:00, 97.71it/s]\n",
      "100%|██████████| 4/4 [00:00<00:00, 148.05it/s]\n"
     ]
    },
    {
     "name": "stdout",
     "output_type": "stream",
     "text": [
      "Epoch 58/200, Train Loss: 0.2234, Test Loss: 0.2277\n",
      "No improvement in Test Loss for 1 epoch(s).\n",
      "Current Best Test Loss: 0.2277\n"
     ]
    },
    {
     "name": "stderr",
     "output_type": "stream",
     "text": [
      "100%|██████████| 22/22 [00:00<00:00, 97.55it/s]\n",
      "100%|██████████| 4/4 [00:00<00:00, 213.93it/s]\n"
     ]
    },
    {
     "name": "stdout",
     "output_type": "stream",
     "text": [
      "Epoch 59/200, Train Loss: 0.2234, Test Loss: 0.2277\n"
     ]
    },
    {
     "name": "stderr",
     "output_type": "stream",
     "text": [
      "100%|██████████| 22/22 [00:00<00:00, 81.72it/s]\n",
      "100%|██████████| 4/4 [00:00<00:00, 212.27it/s]\n"
     ]
    },
    {
     "name": "stdout",
     "output_type": "stream",
     "text": [
      "Epoch 60/200, Train Loss: 0.2234, Test Loss: 0.2277\n",
      "No improvement in Test Loss for 1 epoch(s).\n",
      "Current Best Test Loss: 0.2277\n"
     ]
    },
    {
     "name": "stderr",
     "output_type": "stream",
     "text": [
      "100%|██████████| 22/22 [00:00<00:00, 108.87it/s]\n",
      "100%|██████████| 4/4 [00:00<00:00, 218.64it/s]\n"
     ]
    },
    {
     "name": "stdout",
     "output_type": "stream",
     "text": [
      "Epoch 61/200, Train Loss: 0.2234, Test Loss: 0.2277\n"
     ]
    },
    {
     "name": "stderr",
     "output_type": "stream",
     "text": [
      "100%|██████████| 22/22 [00:00<00:00, 103.56it/s]\n",
      "100%|██████████| 4/4 [00:00<00:00, 217.56it/s]\n"
     ]
    },
    {
     "name": "stdout",
     "output_type": "stream",
     "text": [
      "Epoch 62/200, Train Loss: 0.2234, Test Loss: 0.2277\n",
      "No improvement in Test Loss for 1 epoch(s).\n",
      "Current Best Test Loss: 0.2277\n"
     ]
    },
    {
     "name": "stderr",
     "output_type": "stream",
     "text": [
      "100%|██████████| 22/22 [00:00<00:00, 76.53it/s] \n",
      "100%|██████████| 4/4 [00:00<00:00, 171.97it/s]\n"
     ]
    },
    {
     "name": "stdout",
     "output_type": "stream",
     "text": [
      "Epoch 63/200, Train Loss: 0.2234, Test Loss: 0.2277\n",
      "No improvement in Test Loss for 2 epoch(s).\n",
      "Current Best Test Loss: 0.2277\n"
     ]
    },
    {
     "name": "stderr",
     "output_type": "stream",
     "text": [
      "100%|██████████| 22/22 [00:00<00:00, 71.71it/s]\n",
      "100%|██████████| 4/4 [00:00<00:00, 155.74it/s]\n"
     ]
    },
    {
     "name": "stdout",
     "output_type": "stream",
     "text": [
      "Epoch 64/200, Train Loss: 0.2234, Test Loss: 0.2277\n",
      "No improvement in Test Loss for 3 epoch(s).\n",
      "Current Best Test Loss: 0.2277\n",
      "Early stopping triggered.\n",
      "Start training model with parameters: {'num_B_spline_basis': 20, 'downsample_factor': 10, 'transformer_num_layers': 2, 'transformer_d_model': 128, 'transformer_dim_feedforward': 512, 'transformer_vae_output_dim': 16, 'transformer_dropout': 0.0, 'transformer_nhead': 1, 'stimulus_nfactor': 1, 'stimulus_decoder_inter_dim_factor': 2, 'beta': 1.0, 'use_area_specific_decoder': True, 'use_area_specific_encoder': True, 'use_cls': False, 'coupling_basis_peaks_max': 5, 'coupling_basis_num': 3, 'coupling_nsubspace': 1, 'use_self_coupling': True, 'K_sigma2': 1.0, 'K_tau': 100, 'coupling_strength_nlatent': 1, 'penalty_smoothing_spline': 100.0, 'penalty_effect_overlapping': None, 'penalty_coupling_subgroup': 0.0001, 'penalty_diff_loading': None, 'batch_size': 64, 'sample_latent': False, 'lr': 0.001, 'epoch_warm_up': 0, 'epoch_patience': 3, 'epoch_max': 200, 'tol': 1e-05, 'weight_decay': 0, 'lr_transformer': 0.0001, 'lr_sti': 0.01, 'lr_cp': 0.01}\n"
     ]
    },
    {
     "name": "stderr",
     "output_type": "stream",
     "text": [
      "100%|██████████| 22/22 [00:00<00:00, 76.91it/s]\n",
      "100%|██████████| 4/4 [00:00<00:00, 147.78it/s]\n"
     ]
    },
    {
     "name": "stdout",
     "output_type": "stream",
     "text": [
      "Epoch 1/200, Train Loss: 0.2234, Test Loss: 0.2276\n"
     ]
    },
    {
     "name": "stderr",
     "output_type": "stream",
     "text": [
      "100%|██████████| 22/22 [00:00<00:00, 72.20it/s]\n",
      "100%|██████████| 4/4 [00:00<00:00, 178.40it/s]\n"
     ]
    },
    {
     "name": "stdout",
     "output_type": "stream",
     "text": [
      "Epoch 2/200, Train Loss: 0.2233, Test Loss: 0.2275\n"
     ]
    },
    {
     "name": "stderr",
     "output_type": "stream",
     "text": [
      "100%|██████████| 22/22 [00:00<00:00, 91.20it/s]\n",
      "100%|██████████| 4/4 [00:00<00:00, 187.00it/s]\n"
     ]
    },
    {
     "name": "stdout",
     "output_type": "stream",
     "text": [
      "Epoch 3/200, Train Loss: 0.2232, Test Loss: 0.2275\n"
     ]
    },
    {
     "name": "stderr",
     "output_type": "stream",
     "text": [
      "100%|██████████| 22/22 [00:00<00:00, 91.62it/s]\n",
      "100%|██████████| 4/4 [00:00<00:00, 186.88it/s]\n"
     ]
    },
    {
     "name": "stdout",
     "output_type": "stream",
     "text": [
      "Epoch 4/200, Train Loss: 0.2232, Test Loss: 0.2275\n",
      "No improvement in Test Loss for 1 epoch(s).\n",
      "Current Best Test Loss: 0.2275\n"
     ]
    },
    {
     "name": "stderr",
     "output_type": "stream",
     "text": [
      "100%|██████████| 22/22 [00:00<00:00, 74.82it/s]\n",
      "100%|██████████| 4/4 [00:00<00:00, 142.28it/s]\n"
     ]
    },
    {
     "name": "stdout",
     "output_type": "stream",
     "text": [
      "Epoch 5/200, Train Loss: 0.2232, Test Loss: 0.2275\n",
      "No improvement in Test Loss for 2 epoch(s).\n",
      "Current Best Test Loss: 0.2275\n"
     ]
    },
    {
     "name": "stderr",
     "output_type": "stream",
     "text": [
      "100%|██████████| 22/22 [00:00<00:00, 66.10it/s]\n",
      "100%|██████████| 4/4 [00:00<00:00, 180.07it/s]\n"
     ]
    },
    {
     "name": "stdout",
     "output_type": "stream",
     "text": [
      "Epoch 6/200, Train Loss: 0.2232, Test Loss: 0.2275\n",
      "No improvement in Test Loss for 3 epoch(s).\n",
      "Current Best Test Loss: 0.2275\n",
      "Early stopping triggered.\n"
     ]
    },
    {
     "name": "stderr",
     "output_type": "stream",
     "text": [
      "100%|██████████| 7/7 [00:00<00:00, 179.15it/s]\n"
     ]
    },
    {
     "name": "stdout",
     "output_type": "stream",
     "text": [
      "Test loss: 0.2220737300534498\n",
      "Test loss baseline: 0.23019287707353767\n",
      "Model initialized. Training on cuda\n",
      "Start training model with parameters: {'num_B_spline_basis': 20, 'downsample_factor': 10, 'transformer_num_layers': 2, 'transformer_d_model': 128, 'transformer_dim_feedforward': 512, 'transformer_vae_output_dim': 16, 'transformer_dropout': 0.0, 'transformer_nhead': 1, 'stimulus_nfactor': 1, 'stimulus_decoder_inter_dim_factor': 2, 'beta': 1.0, 'use_area_specific_decoder': True, 'use_area_specific_encoder': True, 'use_cls': False, 'coupling_basis_peaks_max': 5, 'coupling_basis_num': 3, 'coupling_nsubspace': 1, 'use_self_coupling': True, 'K_sigma2': 1.0, 'K_tau': 100, 'coupling_strength_nlatent': 1, 'penalty_smoothing_spline': 100.0, 'penalty_effect_overlapping': None, 'penalty_coupling_subgroup': 0.0001, 'penalty_diff_loading': None, 'batch_size': 64, 'sample_latent': False, 'lr': 0.001, 'epoch_warm_up': 0, 'epoch_patience': 3, 'epoch_max': 200, 'tol': 1e-05, 'weight_decay': 0, 'lr_transformer': 0.0001, 'lr_sti': 0.01, 'lr_cp': 0.01}\n"
     ]
    },
    {
     "name": "stderr",
     "output_type": "stream",
     "text": [
      "100%|██████████| 22/22 [00:00<00:00, 121.17it/s]\n",
      "100%|██████████| 4/4 [00:00<00:00, 218.77it/s]\n"
     ]
    },
    {
     "name": "stdout",
     "output_type": "stream",
     "text": [
      "Epoch 1/200, Train Loss: 0.9295, Test Loss: 0.4950\n"
     ]
    },
    {
     "name": "stderr",
     "output_type": "stream",
     "text": [
      "100%|██████████| 22/22 [00:00<00:00, 73.06it/s]\n",
      "100%|██████████| 4/4 [00:00<00:00, 167.27it/s]\n"
     ]
    },
    {
     "name": "stdout",
     "output_type": "stream",
     "text": [
      "Epoch 2/200, Train Loss: 0.3503, Test Loss: 0.3247\n"
     ]
    },
    {
     "name": "stderr",
     "output_type": "stream",
     "text": [
      "100%|██████████| 22/22 [00:00<00:00, 69.63it/s]\n",
      "100%|██████████| 4/4 [00:00<00:00, 215.74it/s]\n"
     ]
    },
    {
     "name": "stdout",
     "output_type": "stream",
     "text": [
      "Epoch 3/200, Train Loss: 0.3020, Test Loss: 0.2946\n"
     ]
    },
    {
     "name": "stderr",
     "output_type": "stream",
     "text": [
      "100%|██████████| 22/22 [00:00<00:00, 88.37it/s]\n",
      "100%|██████████| 4/4 [00:00<00:00, 201.06it/s]\n"
     ]
    },
    {
     "name": "stdout",
     "output_type": "stream",
     "text": [
      "Epoch 4/200, Train Loss: 0.2867, Test Loss: 0.2835\n"
     ]
    },
    {
     "name": "stderr",
     "output_type": "stream",
     "text": [
      "100%|██████████| 22/22 [00:00<00:00, 68.84it/s]\n",
      "100%|██████████| 4/4 [00:00<00:00, 199.12it/s]\n"
     ]
    },
    {
     "name": "stdout",
     "output_type": "stream",
     "text": [
      "Epoch 5/200, Train Loss: 0.2753, Test Loss: 0.2726\n"
     ]
    },
    {
     "name": "stderr",
     "output_type": "stream",
     "text": [
      "100%|██████████| 22/22 [00:00<00:00, 75.52it/s]\n",
      "100%|██████████| 4/4 [00:00<00:00, 208.22it/s]\n"
     ]
    },
    {
     "name": "stdout",
     "output_type": "stream",
     "text": [
      "Epoch 6/200, Train Loss: 0.2649, Test Loss: 0.2631\n"
     ]
    },
    {
     "name": "stderr",
     "output_type": "stream",
     "text": [
      "100%|██████████| 22/22 [00:00<00:00, 61.81it/s]\n",
      "100%|██████████| 4/4 [00:00<00:00, 149.54it/s]\n"
     ]
    },
    {
     "name": "stdout",
     "output_type": "stream",
     "text": [
      "Epoch 7/200, Train Loss: 0.2556, Test Loss: 0.2549\n"
     ]
    },
    {
     "name": "stderr",
     "output_type": "stream",
     "text": [
      "100%|██████████| 22/22 [00:00<00:00, 96.71it/s]\n",
      "100%|██████████| 4/4 [00:00<00:00, 222.58it/s]\n"
     ]
    },
    {
     "name": "stdout",
     "output_type": "stream",
     "text": [
      "Epoch 8/200, Train Loss: 0.2480, Test Loss: 0.2485\n"
     ]
    },
    {
     "name": "stderr",
     "output_type": "stream",
     "text": [
      "100%|██████████| 22/22 [00:00<00:00, 65.29it/s]\n",
      "100%|██████████| 4/4 [00:00<00:00, 95.85it/s]\n"
     ]
    },
    {
     "name": "stdout",
     "output_type": "stream",
     "text": [
      "Epoch 9/200, Train Loss: 0.2422, Test Loss: 0.2437\n"
     ]
    },
    {
     "name": "stderr",
     "output_type": "stream",
     "text": [
      "100%|██████████| 22/22 [00:00<00:00, 74.01it/s]\n",
      "100%|██████████| 4/4 [00:00<00:00, 219.65it/s]\n"
     ]
    },
    {
     "name": "stdout",
     "output_type": "stream",
     "text": [
      "Epoch 10/200, Train Loss: 0.2379, Test Loss: 0.2403\n"
     ]
    },
    {
     "name": "stderr",
     "output_type": "stream",
     "text": [
      "100%|██████████| 22/22 [00:00<00:00, 88.90it/s]\n",
      "100%|██████████| 4/4 [00:00<00:00, 212.36it/s]\n"
     ]
    },
    {
     "name": "stdout",
     "output_type": "stream",
     "text": [
      "Epoch 11/200, Train Loss: 0.2350, Test Loss: 0.2380\n"
     ]
    },
    {
     "name": "stderr",
     "output_type": "stream",
     "text": [
      "100%|██████████| 22/22 [00:00<00:00, 105.40it/s]\n",
      "100%|██████████| 4/4 [00:00<00:00, 78.37it/s]\n"
     ]
    },
    {
     "name": "stdout",
     "output_type": "stream",
     "text": [
      "Epoch 12/200, Train Loss: 0.2329, Test Loss: 0.2363\n"
     ]
    },
    {
     "name": "stderr",
     "output_type": "stream",
     "text": [
      "100%|██████████| 22/22 [00:00<00:00, 85.23it/s]\n",
      "100%|██████████| 4/4 [00:00<00:00, 216.50it/s]\n"
     ]
    },
    {
     "name": "stdout",
     "output_type": "stream",
     "text": [
      "Epoch 13/200, Train Loss: 0.2315, Test Loss: 0.2352\n"
     ]
    },
    {
     "name": "stderr",
     "output_type": "stream",
     "text": [
      "100%|██████████| 22/22 [00:00<00:00, 109.14it/s]\n",
      "100%|██████████| 4/4 [00:00<00:00, 213.32it/s]\n"
     ]
    },
    {
     "name": "stdout",
     "output_type": "stream",
     "text": [
      "Epoch 14/200, Train Loss: 0.2305, Test Loss: 0.2344\n"
     ]
    },
    {
     "name": "stderr",
     "output_type": "stream",
     "text": [
      "100%|██████████| 22/22 [00:00<00:00, 111.77it/s]\n",
      "100%|██████████| 4/4 [00:00<00:00, 217.88it/s]\n"
     ]
    },
    {
     "name": "stdout",
     "output_type": "stream",
     "text": [
      "Epoch 15/200, Train Loss: 0.2298, Test Loss: 0.2338\n"
     ]
    },
    {
     "name": "stderr",
     "output_type": "stream",
     "text": [
      "100%|██████████| 22/22 [00:00<00:00, 112.52it/s]\n",
      "100%|██████████| 4/4 [00:00<00:00, 215.05it/s]\n"
     ]
    },
    {
     "name": "stdout",
     "output_type": "stream",
     "text": [
      "Epoch 16/200, Train Loss: 0.2293, Test Loss: 0.2334\n"
     ]
    },
    {
     "name": "stderr",
     "output_type": "stream",
     "text": [
      "100%|██████████| 22/22 [00:00<00:00, 112.21it/s]\n",
      "100%|██████████| 4/4 [00:00<00:00, 215.88it/s]\n"
     ]
    },
    {
     "name": "stdout",
     "output_type": "stream",
     "text": [
      "Epoch 17/200, Train Loss: 0.2290, Test Loss: 0.2331\n"
     ]
    },
    {
     "name": "stderr",
     "output_type": "stream",
     "text": [
      "100%|██████████| 22/22 [00:00<00:00, 84.19it/s]\n",
      "100%|██████████| 4/4 [00:00<00:00, 190.24it/s]\n"
     ]
    },
    {
     "name": "stdout",
     "output_type": "stream",
     "text": [
      "Epoch 18/200, Train Loss: 0.2287, Test Loss: 0.2329\n"
     ]
    },
    {
     "name": "stderr",
     "output_type": "stream",
     "text": [
      "100%|██████████| 22/22 [00:00<00:00, 90.59it/s]\n",
      "100%|██████████| 4/4 [00:00<00:00, 164.64it/s]\n"
     ]
    },
    {
     "name": "stdout",
     "output_type": "stream",
     "text": [
      "Epoch 19/200, Train Loss: 0.2285, Test Loss: 0.2327\n"
     ]
    },
    {
     "name": "stderr",
     "output_type": "stream",
     "text": [
      "100%|██████████| 22/22 [00:00<00:00, 70.57it/s]\n",
      "100%|██████████| 4/4 [00:00<00:00, 199.61it/s]\n"
     ]
    },
    {
     "name": "stdout",
     "output_type": "stream",
     "text": [
      "Epoch 20/200, Train Loss: 0.2283, Test Loss: 0.2325\n"
     ]
    },
    {
     "name": "stderr",
     "output_type": "stream",
     "text": [
      "100%|██████████| 22/22 [00:00<00:00, 96.64it/s]\n",
      "100%|██████████| 4/4 [00:00<00:00, 210.21it/s]\n"
     ]
    },
    {
     "name": "stdout",
     "output_type": "stream",
     "text": [
      "Epoch 21/200, Train Loss: 0.2282, Test Loss: 0.2324\n"
     ]
    },
    {
     "name": "stderr",
     "output_type": "stream",
     "text": [
      "100%|██████████| 22/22 [00:00<00:00, 89.96it/s]\n",
      "100%|██████████| 4/4 [00:00<00:00, 216.68it/s]\n"
     ]
    },
    {
     "name": "stdout",
     "output_type": "stream",
     "text": [
      "Epoch 22/200, Train Loss: 0.2281, Test Loss: 0.2323\n"
     ]
    },
    {
     "name": "stderr",
     "output_type": "stream",
     "text": [
      "100%|██████████| 22/22 [00:00<00:00, 81.16it/s] \n",
      "100%|██████████| 4/4 [00:00<00:00, 178.02it/s]\n"
     ]
    },
    {
     "name": "stdout",
     "output_type": "stream",
     "text": [
      "Epoch 23/200, Train Loss: 0.2279, Test Loss: 0.2322\n"
     ]
    },
    {
     "name": "stderr",
     "output_type": "stream",
     "text": [
      "100%|██████████| 22/22 [00:00<00:00, 76.72it/s]\n",
      "100%|██████████| 4/4 [00:00<00:00, 107.10it/s]\n"
     ]
    },
    {
     "name": "stdout",
     "output_type": "stream",
     "text": [
      "Epoch 24/200, Train Loss: 0.2278, Test Loss: 0.2320\n"
     ]
    },
    {
     "name": "stderr",
     "output_type": "stream",
     "text": [
      "100%|██████████| 22/22 [00:00<00:00, 77.55it/s]\n",
      "100%|██████████| 4/4 [00:00<00:00, 216.12it/s]\n"
     ]
    },
    {
     "name": "stdout",
     "output_type": "stream",
     "text": [
      "Epoch 25/200, Train Loss: 0.2277, Test Loss: 0.2319\n"
     ]
    },
    {
     "name": "stderr",
     "output_type": "stream",
     "text": [
      "100%|██████████| 22/22 [00:00<00:00, 102.60it/s]\n",
      "100%|██████████| 4/4 [00:00<00:00, 166.64it/s]\n"
     ]
    },
    {
     "name": "stdout",
     "output_type": "stream",
     "text": [
      "Epoch 26/200, Train Loss: 0.2276, Test Loss: 0.2318\n"
     ]
    },
    {
     "name": "stderr",
     "output_type": "stream",
     "text": [
      "100%|██████████| 22/22 [00:00<00:00, 96.00it/s]\n",
      "100%|██████████| 4/4 [00:00<00:00, 217.44it/s]\n"
     ]
    },
    {
     "name": "stdout",
     "output_type": "stream",
     "text": [
      "Epoch 27/200, Train Loss: 0.2274, Test Loss: 0.2316\n"
     ]
    },
    {
     "name": "stderr",
     "output_type": "stream",
     "text": [
      "100%|██████████| 22/22 [00:00<00:00, 76.96it/s]\n",
      "100%|██████████| 4/4 [00:00<00:00, 125.54it/s]\n"
     ]
    },
    {
     "name": "stdout",
     "output_type": "stream",
     "text": [
      "Epoch 28/200, Train Loss: 0.2273, Test Loss: 0.2315\n"
     ]
    },
    {
     "name": "stderr",
     "output_type": "stream",
     "text": [
      "100%|██████████| 22/22 [00:00<00:00, 77.43it/s]\n",
      "100%|██████████| 4/4 [00:00<00:00, 213.25it/s]\n"
     ]
    },
    {
     "name": "stdout",
     "output_type": "stream",
     "text": [
      "Epoch 29/200, Train Loss: 0.2272, Test Loss: 0.2314\n"
     ]
    },
    {
     "name": "stderr",
     "output_type": "stream",
     "text": [
      "100%|██████████| 22/22 [00:00<00:00, 112.23it/s]\n",
      "100%|██████████| 4/4 [00:00<00:00, 218.20it/s]\n"
     ]
    },
    {
     "name": "stdout",
     "output_type": "stream",
     "text": [
      "Epoch 30/200, Train Loss: 0.2270, Test Loss: 0.2312\n"
     ]
    },
    {
     "name": "stderr",
     "output_type": "stream",
     "text": [
      "100%|██████████| 22/22 [00:00<00:00, 73.72it/s]\n",
      "100%|██████████| 4/4 [00:00<00:00, 111.22it/s]\n"
     ]
    },
    {
     "name": "stdout",
     "output_type": "stream",
     "text": [
      "Epoch 31/200, Train Loss: 0.2269, Test Loss: 0.2310\n"
     ]
    },
    {
     "name": "stderr",
     "output_type": "stream",
     "text": [
      "100%|██████████| 22/22 [00:00<00:00, 69.98it/s]\n",
      "100%|██████████| 4/4 [00:00<00:00, 203.02it/s]\n"
     ]
    },
    {
     "name": "stdout",
     "output_type": "stream",
     "text": [
      "Epoch 32/200, Train Loss: 0.2267, Test Loss: 0.2309\n"
     ]
    },
    {
     "name": "stderr",
     "output_type": "stream",
     "text": [
      "100%|██████████| 22/22 [00:00<00:00, 70.91it/s]\n",
      "100%|██████████| 4/4 [00:00<00:00, 204.33it/s]\n"
     ]
    },
    {
     "name": "stdout",
     "output_type": "stream",
     "text": [
      "Epoch 33/200, Train Loss: 0.2265, Test Loss: 0.2307\n"
     ]
    },
    {
     "name": "stderr",
     "output_type": "stream",
     "text": [
      "100%|██████████| 22/22 [00:00<00:00, 97.31it/s] \n",
      "100%|██████████| 4/4 [00:00<00:00, 184.99it/s]\n"
     ]
    },
    {
     "name": "stdout",
     "output_type": "stream",
     "text": [
      "Epoch 34/200, Train Loss: 0.2264, Test Loss: 0.2305\n"
     ]
    },
    {
     "name": "stderr",
     "output_type": "stream",
     "text": [
      "100%|██████████| 22/22 [00:00<00:00, 88.45it/s] \n",
      "100%|██████████| 4/4 [00:00<00:00, 92.74it/s]\n"
     ]
    },
    {
     "name": "stdout",
     "output_type": "stream",
     "text": [
      "Epoch 35/200, Train Loss: 0.2262, Test Loss: 0.2304\n"
     ]
    },
    {
     "name": "stderr",
     "output_type": "stream",
     "text": [
      "100%|██████████| 22/22 [00:00<00:00, 73.04it/s]\n",
      "100%|██████████| 4/4 [00:00<00:00, 167.28it/s]\n"
     ]
    },
    {
     "name": "stdout",
     "output_type": "stream",
     "text": [
      "Epoch 36/200, Train Loss: 0.2261, Test Loss: 0.2302\n"
     ]
    },
    {
     "name": "stderr",
     "output_type": "stream",
     "text": [
      "100%|██████████| 22/22 [00:00<00:00, 99.66it/s] \n",
      "100%|██████████| 4/4 [00:00<00:00, 213.79it/s]\n"
     ]
    },
    {
     "name": "stdout",
     "output_type": "stream",
     "text": [
      "Epoch 37/200, Train Loss: 0.2259, Test Loss: 0.2301\n"
     ]
    },
    {
     "name": "stderr",
     "output_type": "stream",
     "text": [
      "100%|██████████| 22/22 [00:00<00:00, 61.99it/s]\n",
      "100%|██████████| 4/4 [00:00<00:00, 112.71it/s]\n"
     ]
    },
    {
     "name": "stdout",
     "output_type": "stream",
     "text": [
      "Epoch 38/200, Train Loss: 0.2258, Test Loss: 0.2299\n"
     ]
    },
    {
     "name": "stderr",
     "output_type": "stream",
     "text": [
      "100%|██████████| 22/22 [00:00<00:00, 108.26it/s]\n",
      "100%|██████████| 4/4 [00:00<00:00, 171.62it/s]\n"
     ]
    },
    {
     "name": "stdout",
     "output_type": "stream",
     "text": [
      "Epoch 39/200, Train Loss: 0.2256, Test Loss: 0.2298\n"
     ]
    },
    {
     "name": "stderr",
     "output_type": "stream",
     "text": [
      "100%|██████████| 22/22 [00:00<00:00, 82.48it/s]\n",
      "100%|██████████| 4/4 [00:00<00:00, 125.96it/s]\n"
     ]
    },
    {
     "name": "stdout",
     "output_type": "stream",
     "text": [
      "Epoch 40/200, Train Loss: 0.2255, Test Loss: 0.2297\n"
     ]
    },
    {
     "name": "stderr",
     "output_type": "stream",
     "text": [
      "100%|██████████| 22/22 [00:00<00:00, 66.68it/s]\n",
      "100%|██████████| 4/4 [00:00<00:00, 214.52it/s]\n"
     ]
    },
    {
     "name": "stdout",
     "output_type": "stream",
     "text": [
      "Epoch 41/200, Train Loss: 0.2254, Test Loss: 0.2296\n"
     ]
    },
    {
     "name": "stderr",
     "output_type": "stream",
     "text": [
      "100%|██████████| 22/22 [00:00<00:00, 113.52it/s]\n",
      "100%|██████████| 4/4 [00:00<00:00, 225.55it/s]\n"
     ]
    },
    {
     "name": "stdout",
     "output_type": "stream",
     "text": [
      "Epoch 42/200, Train Loss: 0.2253, Test Loss: 0.2295\n"
     ]
    },
    {
     "name": "stderr",
     "output_type": "stream",
     "text": [
      "100%|██████████| 22/22 [00:00<00:00, 103.38it/s]\n",
      "100%|██████████| 4/4 [00:00<00:00, 177.57it/s]\n"
     ]
    },
    {
     "name": "stdout",
     "output_type": "stream",
     "text": [
      "Epoch 43/200, Train Loss: 0.2252, Test Loss: 0.2294\n"
     ]
    },
    {
     "name": "stderr",
     "output_type": "stream",
     "text": [
      "100%|██████████| 22/22 [00:00<00:00, 70.61it/s]\n",
      "100%|██████████| 4/4 [00:00<00:00, 132.69it/s]\n"
     ]
    },
    {
     "name": "stdout",
     "output_type": "stream",
     "text": [
      "Epoch 44/200, Train Loss: 0.2251, Test Loss: 0.2293\n"
     ]
    },
    {
     "name": "stderr",
     "output_type": "stream",
     "text": [
      "100%|██████████| 22/22 [00:00<00:00, 97.62it/s] \n",
      "100%|██████████| 4/4 [00:00<00:00, 171.84it/s]\n"
     ]
    },
    {
     "name": "stdout",
     "output_type": "stream",
     "text": [
      "Epoch 45/200, Train Loss: 0.2250, Test Loss: 0.2292\n"
     ]
    },
    {
     "name": "stderr",
     "output_type": "stream",
     "text": [
      "100%|██████████| 22/22 [00:00<00:00, 87.82it/s]\n",
      "100%|██████████| 4/4 [00:00<00:00, 220.10it/s]\n"
     ]
    },
    {
     "name": "stdout",
     "output_type": "stream",
     "text": [
      "Epoch 46/200, Train Loss: 0.2250, Test Loss: 0.2292\n"
     ]
    },
    {
     "name": "stderr",
     "output_type": "stream",
     "text": [
      "100%|██████████| 22/22 [00:00<00:00, 64.22it/s]\n",
      "100%|██████████| 4/4 [00:00<00:00, 164.53it/s]\n"
     ]
    },
    {
     "name": "stdout",
     "output_type": "stream",
     "text": [
      "Epoch 47/200, Train Loss: 0.2249, Test Loss: 0.2291\n"
     ]
    },
    {
     "name": "stderr",
     "output_type": "stream",
     "text": [
      "100%|██████████| 22/22 [00:00<00:00, 81.63it/s]\n",
      "100%|██████████| 4/4 [00:00<00:00, 164.13it/s]\n"
     ]
    },
    {
     "name": "stdout",
     "output_type": "stream",
     "text": [
      "Epoch 48/200, Train Loss: 0.2249, Test Loss: 0.2291\n"
     ]
    },
    {
     "name": "stderr",
     "output_type": "stream",
     "text": [
      "100%|██████████| 22/22 [00:00<00:00, 57.89it/s]\n",
      "100%|██████████| 4/4 [00:00<00:00, 124.03it/s]\n"
     ]
    },
    {
     "name": "stdout",
     "output_type": "stream",
     "text": [
      "Epoch 49/200, Train Loss: 0.2248, Test Loss: 0.2291\n"
     ]
    },
    {
     "name": "stderr",
     "output_type": "stream",
     "text": [
      "100%|██████████| 22/22 [00:00<00:00, 62.26it/s]\n",
      "100%|██████████| 4/4 [00:00<00:00, 199.11it/s]\n"
     ]
    },
    {
     "name": "stdout",
     "output_type": "stream",
     "text": [
      "Epoch 50/200, Train Loss: 0.2248, Test Loss: 0.2290\n"
     ]
    },
    {
     "name": "stderr",
     "output_type": "stream",
     "text": [
      "100%|██████████| 22/22 [00:00<00:00, 87.67it/s] \n",
      "100%|██████████| 4/4 [00:00<00:00, 168.50it/s]\n"
     ]
    },
    {
     "name": "stdout",
     "output_type": "stream",
     "text": [
      "Epoch 51/200, Train Loss: 0.2248, Test Loss: 0.2290\n"
     ]
    },
    {
     "name": "stderr",
     "output_type": "stream",
     "text": [
      "100%|██████████| 22/22 [00:00<00:00, 121.69it/s]\n",
      "100%|██████████| 4/4 [00:00<00:00, 232.56it/s]\n"
     ]
    },
    {
     "name": "stdout",
     "output_type": "stream",
     "text": [
      "Epoch 52/200, Train Loss: 0.2248, Test Loss: 0.2290\n"
     ]
    },
    {
     "name": "stderr",
     "output_type": "stream",
     "text": [
      "100%|██████████| 22/22 [00:00<00:00, 75.08it/s]\n",
      "100%|██████████| 4/4 [00:00<00:00, 175.70it/s]\n"
     ]
    },
    {
     "name": "stdout",
     "output_type": "stream",
     "text": [
      "Epoch 53/200, Train Loss: 0.2247, Test Loss: 0.2290\n"
     ]
    },
    {
     "name": "stderr",
     "output_type": "stream",
     "text": [
      "100%|██████████| 22/22 [00:00<00:00, 118.58it/s]\n",
      "100%|██████████| 4/4 [00:00<00:00, 229.79it/s]\n"
     ]
    },
    {
     "name": "stdout",
     "output_type": "stream",
     "text": [
      "Epoch 54/200, Train Loss: 0.2247, Test Loss: 0.2290\n"
     ]
    },
    {
     "name": "stderr",
     "output_type": "stream",
     "text": [
      "100%|██████████| 22/22 [00:00<00:00, 123.58it/s]\n",
      "100%|██████████| 4/4 [00:00<00:00, 228.01it/s]\n"
     ]
    },
    {
     "name": "stdout",
     "output_type": "stream",
     "text": [
      "Epoch 55/200, Train Loss: 0.2247, Test Loss: 0.2289\n"
     ]
    },
    {
     "name": "stderr",
     "output_type": "stream",
     "text": [
      "100%|██████████| 22/22 [00:00<00:00, 124.13it/s]\n",
      "100%|██████████| 4/4 [00:00<00:00, 229.61it/s]\n"
     ]
    },
    {
     "name": "stdout",
     "output_type": "stream",
     "text": [
      "Epoch 56/200, Train Loss: 0.2247, Test Loss: 0.2289\n"
     ]
    },
    {
     "name": "stderr",
     "output_type": "stream",
     "text": [
      "100%|██████████| 22/22 [00:00<00:00, 104.92it/s]\n",
      "100%|██████████| 4/4 [00:00<00:00, 222.90it/s]\n"
     ]
    },
    {
     "name": "stdout",
     "output_type": "stream",
     "text": [
      "Epoch 57/200, Train Loss: 0.2247, Test Loss: 0.2289\n",
      "No improvement in Test Loss for 1 epoch(s).\n",
      "Current Best Test Loss: 0.2289\n"
     ]
    },
    {
     "name": "stderr",
     "output_type": "stream",
     "text": [
      "100%|██████████| 22/22 [00:00<00:00, 122.27it/s]\n",
      "100%|██████████| 4/4 [00:00<00:00, 225.46it/s]\n"
     ]
    },
    {
     "name": "stdout",
     "output_type": "stream",
     "text": [
      "Epoch 58/200, Train Loss: 0.2247, Test Loss: 0.2289\n"
     ]
    },
    {
     "name": "stderr",
     "output_type": "stream",
     "text": [
      "100%|██████████| 22/22 [00:00<00:00, 103.06it/s]\n",
      "100%|██████████| 4/4 [00:00<00:00, 219.69it/s]\n"
     ]
    },
    {
     "name": "stdout",
     "output_type": "stream",
     "text": [
      "Epoch 59/200, Train Loss: 0.2247, Test Loss: 0.2289\n",
      "No improvement in Test Loss for 1 epoch(s).\n",
      "Current Best Test Loss: 0.2289\n"
     ]
    },
    {
     "name": "stderr",
     "output_type": "stream",
     "text": [
      "100%|██████████| 22/22 [00:00<00:00, 121.72it/s]\n",
      "100%|██████████| 4/4 [00:00<00:00, 227.39it/s]\n"
     ]
    },
    {
     "name": "stdout",
     "output_type": "stream",
     "text": [
      "Epoch 60/200, Train Loss: 0.2247, Test Loss: 0.2289\n"
     ]
    },
    {
     "name": "stderr",
     "output_type": "stream",
     "text": [
      "100%|██████████| 22/22 [00:00<00:00, 111.31it/s]\n",
      "100%|██████████| 4/4 [00:00<00:00, 217.72it/s]\n"
     ]
    },
    {
     "name": "stdout",
     "output_type": "stream",
     "text": [
      "Epoch 61/200, Train Loss: 0.2247, Test Loss: 0.2289\n",
      "No improvement in Test Loss for 1 epoch(s).\n",
      "Current Best Test Loss: 0.2289\n"
     ]
    },
    {
     "name": "stderr",
     "output_type": "stream",
     "text": [
      "100%|██████████| 22/22 [00:00<00:00, 99.13it/s] \n",
      "100%|██████████| 4/4 [00:00<00:00, 204.75it/s]\n"
     ]
    },
    {
     "name": "stdout",
     "output_type": "stream",
     "text": [
      "Epoch 62/200, Train Loss: 0.2247, Test Loss: 0.2289\n",
      "No improvement in Test Loss for 2 epoch(s).\n",
      "Current Best Test Loss: 0.2289\n"
     ]
    },
    {
     "name": "stderr",
     "output_type": "stream",
     "text": [
      "100%|██████████| 22/22 [00:00<00:00, 85.64it/s]\n",
      "100%|██████████| 4/4 [00:00<00:00, 157.90it/s]\n"
     ]
    },
    {
     "name": "stdout",
     "output_type": "stream",
     "text": [
      "Epoch 63/200, Train Loss: 0.2247, Test Loss: 0.2289\n"
     ]
    },
    {
     "name": "stderr",
     "output_type": "stream",
     "text": [
      "100%|██████████| 22/22 [00:00<00:00, 87.93it/s]\n",
      "100%|██████████| 4/4 [00:00<00:00, 207.15it/s]\n"
     ]
    },
    {
     "name": "stdout",
     "output_type": "stream",
     "text": [
      "Epoch 64/200, Train Loss: 0.2247, Test Loss: 0.2289\n",
      "No improvement in Test Loss for 1 epoch(s).\n",
      "Current Best Test Loss: 0.2289\n"
     ]
    },
    {
     "name": "stderr",
     "output_type": "stream",
     "text": [
      "100%|██████████| 22/22 [00:00<00:00, 113.71it/s]\n",
      "100%|██████████| 4/4 [00:00<00:00, 210.88it/s]\n"
     ]
    },
    {
     "name": "stdout",
     "output_type": "stream",
     "text": [
      "Epoch 65/200, Train Loss: 0.2246, Test Loss: 0.2289\n",
      "No improvement in Test Loss for 2 epoch(s).\n",
      "Current Best Test Loss: 0.2289\n"
     ]
    },
    {
     "name": "stderr",
     "output_type": "stream",
     "text": [
      "100%|██████████| 22/22 [00:00<00:00, 119.15it/s]\n",
      "100%|██████████| 4/4 [00:00<00:00, 223.98it/s]\n"
     ]
    },
    {
     "name": "stdout",
     "output_type": "stream",
     "text": [
      "Epoch 66/200, Train Loss: 0.2246, Test Loss: 0.2289\n",
      "No improvement in Test Loss for 3 epoch(s).\n",
      "Current Best Test Loss: 0.2289\n",
      "Early stopping triggered.\n"
     ]
    },
    {
     "name": "stderr",
     "output_type": "stream",
     "text": [
      "100%|██████████| 7/7 [00:00<00:00, 183.37it/s]\n"
     ]
    },
    {
     "name": "stdout",
     "output_type": "stream",
     "text": [
      "Test loss: 0.2365048126389558\n",
      "Test loss baseline: 0.2302883691769883\n",
      "Model initialized. Training on cuda\n",
      "Start training model with parameters: {'num_B_spline_basis': 20, 'downsample_factor': 10, 'transformer_num_layers': 2, 'transformer_d_model': 128, 'transformer_dim_feedforward': 512, 'transformer_vae_output_dim': 16, 'transformer_dropout': 0.0, 'transformer_nhead': 1, 'stimulus_nfactor': 1, 'stimulus_decoder_inter_dim_factor': 2, 'beta': 1.0, 'use_area_specific_decoder': True, 'use_area_specific_encoder': True, 'use_cls': False, 'coupling_basis_peaks_max': 5, 'coupling_basis_num': 3, 'coupling_nsubspace': 1, 'use_self_coupling': True, 'K_sigma2': 1.0, 'K_tau': 100, 'coupling_strength_nlatent': 1, 'penalty_smoothing_spline': 100.0, 'penalty_effect_overlapping': None, 'penalty_coupling_subgroup': 0.0001, 'penalty_diff_loading': None, 'batch_size': 64, 'sample_latent': False, 'lr': 0.001, 'epoch_warm_up': 0, 'epoch_patience': 3, 'epoch_max': 200, 'tol': 1e-05, 'weight_decay': 0, 'lr_transformer': 0.0001, 'lr_sti': 0.01, 'lr_cp': 0.01}\n"
     ]
    },
    {
     "name": "stderr",
     "output_type": "stream",
     "text": [
      "100%|██████████| 22/22 [00:00<00:00, 176.83it/s]\n",
      "100%|██████████| 4/4 [00:00<00:00, 292.37it/s]\n"
     ]
    },
    {
     "name": "stdout",
     "output_type": "stream",
     "text": [
      "Epoch 1/200, Train Loss: 1.0328, Test Loss: 0.8744\n"
     ]
    },
    {
     "name": "stderr",
     "output_type": "stream",
     "text": [
      "100%|██████████| 22/22 [00:00<00:00, 170.61it/s]\n",
      "100%|██████████| 4/4 [00:00<00:00, 291.68it/s]\n"
     ]
    },
    {
     "name": "stdout",
     "output_type": "stream",
     "text": [
      "Epoch 2/200, Train Loss: 0.7304, Test Loss: 0.5792\n"
     ]
    },
    {
     "name": "stderr",
     "output_type": "stream",
     "text": [
      "100%|██████████| 22/22 [00:00<00:00, 157.34it/s]\n",
      "100%|██████████| 4/4 [00:00<00:00, 277.30it/s]\n"
     ]
    },
    {
     "name": "stdout",
     "output_type": "stream",
     "text": [
      "Epoch 3/200, Train Loss: 0.4721, Test Loss: 0.3756\n"
     ]
    },
    {
     "name": "stderr",
     "output_type": "stream",
     "text": [
      "100%|██████████| 22/22 [00:00<00:00, 163.95it/s]\n",
      "100%|██████████| 4/4 [00:00<00:00, 248.31it/s]\n"
     ]
    },
    {
     "name": "stdout",
     "output_type": "stream",
     "text": [
      "Epoch 4/200, Train Loss: 0.3245, Test Loss: 0.2842\n"
     ]
    },
    {
     "name": "stderr",
     "output_type": "stream",
     "text": [
      "100%|██████████| 22/22 [00:00<00:00, 115.24it/s]\n",
      "100%|██████████| 4/4 [00:00<00:00, 143.32it/s]\n"
     ]
    },
    {
     "name": "stdout",
     "output_type": "stream",
     "text": [
      "Epoch 5/200, Train Loss: 0.2654, Test Loss: 0.2516\n"
     ]
    },
    {
     "name": "stderr",
     "output_type": "stream",
     "text": [
      "100%|██████████| 22/22 [00:00<00:00, 152.29it/s]\n",
      "100%|██████████| 4/4 [00:00<00:00, 279.42it/s]\n"
     ]
    },
    {
     "name": "stdout",
     "output_type": "stream",
     "text": [
      "Epoch 6/200, Train Loss: 0.2441, Test Loss: 0.2392\n"
     ]
    },
    {
     "name": "stderr",
     "output_type": "stream",
     "text": [
      "100%|██████████| 22/22 [00:00<00:00, 133.72it/s]\n",
      "100%|██████████| 4/4 [00:00<00:00, 289.71it/s]\n"
     ]
    },
    {
     "name": "stdout",
     "output_type": "stream",
     "text": [
      "Epoch 7/200, Train Loss: 0.2355, Test Loss: 0.2337\n"
     ]
    },
    {
     "name": "stderr",
     "output_type": "stream",
     "text": [
      "100%|██████████| 22/22 [00:00<00:00, 140.60it/s]\n",
      "100%|██████████| 4/4 [00:00<00:00, 152.01it/s]\n"
     ]
    },
    {
     "name": "stdout",
     "output_type": "stream",
     "text": [
      "Epoch 8/200, Train Loss: 0.2315, Test Loss: 0.2310\n"
     ]
    },
    {
     "name": "stderr",
     "output_type": "stream",
     "text": [
      "100%|██████████| 22/22 [00:00<00:00, 137.97it/s]\n",
      "100%|██████████| 4/4 [00:00<00:00, 291.79it/s]\n"
     ]
    },
    {
     "name": "stdout",
     "output_type": "stream",
     "text": [
      "Epoch 9/200, Train Loss: 0.2294, Test Loss: 0.2295\n"
     ]
    },
    {
     "name": "stderr",
     "output_type": "stream",
     "text": [
      "100%|██████████| 22/22 [00:00<00:00, 115.68it/s]\n",
      "100%|██████████| 4/4 [00:00<00:00, 162.47it/s]\n"
     ]
    },
    {
     "name": "stdout",
     "output_type": "stream",
     "text": [
      "Epoch 10/200, Train Loss: 0.2282, Test Loss: 0.2286\n"
     ]
    },
    {
     "name": "stderr",
     "output_type": "stream",
     "text": [
      "100%|██████████| 22/22 [00:00<00:00, 128.57it/s]\n",
      "100%|██████████| 4/4 [00:00<00:00, 153.78it/s]\n"
     ]
    },
    {
     "name": "stdout",
     "output_type": "stream",
     "text": [
      "Epoch 11/200, Train Loss: 0.2275, Test Loss: 0.2281\n"
     ]
    },
    {
     "name": "stderr",
     "output_type": "stream",
     "text": [
      "100%|██████████| 22/22 [00:00<00:00, 129.92it/s]\n",
      "100%|██████████| 4/4 [00:00<00:00, 132.10it/s]\n"
     ]
    },
    {
     "name": "stdout",
     "output_type": "stream",
     "text": [
      "Epoch 12/200, Train Loss: 0.2271, Test Loss: 0.2278\n"
     ]
    },
    {
     "name": "stderr",
     "output_type": "stream",
     "text": [
      "100%|██████████| 22/22 [00:00<00:00, 144.48it/s]\n",
      "100%|██████████| 4/4 [00:00<00:00, 283.58it/s]\n"
     ]
    },
    {
     "name": "stdout",
     "output_type": "stream",
     "text": [
      "Epoch 13/200, Train Loss: 0.2269, Test Loss: 0.2276\n"
     ]
    },
    {
     "name": "stderr",
     "output_type": "stream",
     "text": [
      "100%|██████████| 22/22 [00:00<00:00, 166.27it/s]\n",
      "100%|██████████| 4/4 [00:00<00:00, 275.32it/s]\n"
     ]
    },
    {
     "name": "stdout",
     "output_type": "stream",
     "text": [
      "Epoch 14/200, Train Loss: 0.2267, Test Loss: 0.2275\n"
     ]
    },
    {
     "name": "stderr",
     "output_type": "stream",
     "text": [
      "100%|██████████| 22/22 [00:00<00:00, 107.19it/s]\n",
      "100%|██████████| 4/4 [00:00<00:00, 142.55it/s]\n"
     ]
    },
    {
     "name": "stdout",
     "output_type": "stream",
     "text": [
      "Epoch 15/200, Train Loss: 0.2266, Test Loss: 0.2274\n"
     ]
    },
    {
     "name": "stderr",
     "output_type": "stream",
     "text": [
      "100%|██████████| 22/22 [00:00<00:00, 138.50it/s]\n",
      "100%|██████████| 4/4 [00:00<00:00, 291.36it/s]\n"
     ]
    },
    {
     "name": "stdout",
     "output_type": "stream",
     "text": [
      "Epoch 16/200, Train Loss: 0.2265, Test Loss: 0.2274\n"
     ]
    },
    {
     "name": "stderr",
     "output_type": "stream",
     "text": [
      "100%|██████████| 22/22 [00:00<00:00, 165.16it/s]\n",
      "100%|██████████| 4/4 [00:00<00:00, 289.95it/s]\n"
     ]
    },
    {
     "name": "stdout",
     "output_type": "stream",
     "text": [
      "Epoch 17/200, Train Loss: 0.2265, Test Loss: 0.2273\n"
     ]
    },
    {
     "name": "stderr",
     "output_type": "stream",
     "text": [
      "100%|██████████| 22/22 [00:00<00:00, 168.33it/s]\n",
      "100%|██████████| 4/4 [00:00<00:00, 298.51it/s]\n"
     ]
    },
    {
     "name": "stdout",
     "output_type": "stream",
     "text": [
      "Epoch 18/200, Train Loss: 0.2265, Test Loss: 0.2273\n"
     ]
    },
    {
     "name": "stderr",
     "output_type": "stream",
     "text": [
      "100%|██████████| 22/22 [00:00<00:00, 162.99it/s]\n",
      "100%|██████████| 4/4 [00:00<00:00, 283.19it/s]\n"
     ]
    },
    {
     "name": "stdout",
     "output_type": "stream",
     "text": [
      "Epoch 19/200, Train Loss: 0.2264, Test Loss: 0.2273\n"
     ]
    },
    {
     "name": "stderr",
     "output_type": "stream",
     "text": [
      "100%|██████████| 22/22 [00:00<00:00, 108.59it/s]\n",
      "100%|██████████| 4/4 [00:00<00:00, 179.09it/s]\n"
     ]
    },
    {
     "name": "stdout",
     "output_type": "stream",
     "text": [
      "Epoch 20/200, Train Loss: 0.2264, Test Loss: 0.2273\n"
     ]
    },
    {
     "name": "stderr",
     "output_type": "stream",
     "text": [
      "100%|██████████| 22/22 [00:00<00:00, 131.91it/s]\n",
      "100%|██████████| 4/4 [00:00<00:00, 233.53it/s]\n"
     ]
    },
    {
     "name": "stdout",
     "output_type": "stream",
     "text": [
      "Epoch 21/200, Train Loss: 0.2264, Test Loss: 0.2273\n",
      "No improvement in Test Loss for 1 epoch(s).\n",
      "Current Best Test Loss: 0.2273\n"
     ]
    },
    {
     "name": "stderr",
     "output_type": "stream",
     "text": [
      "100%|██████████| 22/22 [00:00<00:00, 131.63it/s]\n",
      "100%|██████████| 4/4 [00:00<00:00, 212.97it/s]\n"
     ]
    },
    {
     "name": "stdout",
     "output_type": "stream",
     "text": [
      "Epoch 22/200, Train Loss: 0.2264, Test Loss: 0.2273\n"
     ]
    },
    {
     "name": "stderr",
     "output_type": "stream",
     "text": [
      "100%|██████████| 22/22 [00:00<00:00, 153.67it/s]\n",
      "100%|██████████| 4/4 [00:00<00:00, 296.49it/s]\n"
     ]
    },
    {
     "name": "stdout",
     "output_type": "stream",
     "text": [
      "Epoch 23/200, Train Loss: 0.2264, Test Loss: 0.2273\n",
      "No improvement in Test Loss for 1 epoch(s).\n",
      "Current Best Test Loss: 0.2273\n"
     ]
    },
    {
     "name": "stderr",
     "output_type": "stream",
     "text": [
      "100%|██████████| 22/22 [00:00<00:00, 164.94it/s]\n",
      "100%|██████████| 4/4 [00:00<00:00, 183.85it/s]\n"
     ]
    },
    {
     "name": "stdout",
     "output_type": "stream",
     "text": [
      "Epoch 24/200, Train Loss: 0.2264, Test Loss: 0.2272\n",
      "No improvement in Test Loss for 2 epoch(s).\n",
      "Current Best Test Loss: 0.2273\n"
     ]
    },
    {
     "name": "stderr",
     "output_type": "stream",
     "text": [
      "100%|██████████| 22/22 [00:00<00:00, 80.00it/s]\n",
      "100%|██████████| 4/4 [00:00<00:00, 149.29it/s]\n"
     ]
    },
    {
     "name": "stdout",
     "output_type": "stream",
     "text": [
      "Epoch 25/200, Train Loss: 0.2264, Test Loss: 0.2272\n",
      "No improvement in Test Loss for 3 epoch(s).\n",
      "Current Best Test Loss: 0.2273\n",
      "Early stopping triggered.\n",
      "Start training model with parameters: {'num_B_spline_basis': 20, 'downsample_factor': 10, 'transformer_num_layers': 2, 'transformer_d_model': 128, 'transformer_dim_feedforward': 512, 'transformer_vae_output_dim': 16, 'transformer_dropout': 0.0, 'transformer_nhead': 1, 'stimulus_nfactor': 1, 'stimulus_decoder_inter_dim_factor': 2, 'beta': 1.0, 'use_area_specific_decoder': True, 'use_area_specific_encoder': True, 'use_cls': False, 'coupling_basis_peaks_max': 5, 'coupling_basis_num': 3, 'coupling_nsubspace': 1, 'use_self_coupling': True, 'K_sigma2': 1.0, 'K_tau': 100, 'coupling_strength_nlatent': 1, 'penalty_smoothing_spline': 100.0, 'penalty_effect_overlapping': None, 'penalty_coupling_subgroup': 0.0001, 'penalty_diff_loading': None, 'batch_size': 64, 'sample_latent': False, 'lr': 0.001, 'epoch_warm_up': 0, 'epoch_patience': 3, 'epoch_max': 200, 'tol': 1e-05, 'weight_decay': 0, 'lr_transformer': 0.0001, 'lr_sti': 0.01, 'lr_cp': 0.01}\n"
     ]
    },
    {
     "name": "stderr",
     "output_type": "stream",
     "text": [
      "100%|██████████| 22/22 [00:00<00:00, 57.90it/s]\n",
      "100%|██████████| 4/4 [00:00<00:00, 107.90it/s]\n"
     ]
    },
    {
     "name": "stdout",
     "output_type": "stream",
     "text": [
      "Epoch 1/200, Train Loss: 0.2308, Test Loss: 0.2268\n"
     ]
    },
    {
     "name": "stderr",
     "output_type": "stream",
     "text": [
      "100%|██████████| 22/22 [00:00<00:00, 85.77it/s]\n",
      "100%|██████████| 4/4 [00:00<00:00, 193.21it/s]\n"
     ]
    },
    {
     "name": "stdout",
     "output_type": "stream",
     "text": [
      "Epoch 2/200, Train Loss: 0.2249, Test Loss: 0.2258\n"
     ]
    },
    {
     "name": "stderr",
     "output_type": "stream",
     "text": [
      "100%|██████████| 22/22 [00:00<00:00, 60.22it/s]\n",
      "100%|██████████| 4/4 [00:00<00:00, 205.25it/s]\n"
     ]
    },
    {
     "name": "stdout",
     "output_type": "stream",
     "text": [
      "Epoch 3/200, Train Loss: 0.2245, Test Loss: 0.2257\n"
     ]
    },
    {
     "name": "stderr",
     "output_type": "stream",
     "text": [
      "100%|██████████| 22/22 [00:00<00:00, 82.71it/s]\n",
      "100%|██████████| 4/4 [00:00<00:00, 227.11it/s]\n"
     ]
    },
    {
     "name": "stdout",
     "output_type": "stream",
     "text": [
      "Epoch 4/200, Train Loss: 0.2243, Test Loss: 0.2256\n"
     ]
    },
    {
     "name": "stderr",
     "output_type": "stream",
     "text": [
      "100%|██████████| 22/22 [00:00<00:00, 91.82it/s] \n",
      "100%|██████████| 4/4 [00:00<00:00, 193.06it/s]\n"
     ]
    },
    {
     "name": "stdout",
     "output_type": "stream",
     "text": [
      "Epoch 5/200, Train Loss: 0.2243, Test Loss: 0.2255\n"
     ]
    },
    {
     "name": "stderr",
     "output_type": "stream",
     "text": [
      "100%|██████████| 22/22 [00:00<00:00, 99.94it/s] \n",
      "100%|██████████| 4/4 [00:00<00:00, 148.64it/s]\n"
     ]
    },
    {
     "name": "stdout",
     "output_type": "stream",
     "text": [
      "Epoch 6/200, Train Loss: 0.2242, Test Loss: 0.2254\n"
     ]
    },
    {
     "name": "stderr",
     "output_type": "stream",
     "text": [
      "100%|██████████| 22/22 [00:00<00:00, 77.00it/s]\n",
      "100%|██████████| 4/4 [00:00<00:00, 210.31it/s]\n"
     ]
    },
    {
     "name": "stdout",
     "output_type": "stream",
     "text": [
      "Epoch 7/200, Train Loss: 0.2241, Test Loss: 0.2253\n"
     ]
    },
    {
     "name": "stderr",
     "output_type": "stream",
     "text": [
      "100%|██████████| 22/22 [00:00<00:00, 104.57it/s]\n",
      "100%|██████████| 4/4 [00:00<00:00, 219.06it/s]\n"
     ]
    },
    {
     "name": "stdout",
     "output_type": "stream",
     "text": [
      "Epoch 8/200, Train Loss: 0.2239, Test Loss: 0.2253\n"
     ]
    },
    {
     "name": "stderr",
     "output_type": "stream",
     "text": [
      "100%|██████████| 22/22 [00:00<00:00, 88.91it/s]\n",
      "100%|██████████| 4/4 [00:00<00:00, 223.52it/s]\n"
     ]
    },
    {
     "name": "stdout",
     "output_type": "stream",
     "text": [
      "Epoch 9/200, Train Loss: 0.2238, Test Loss: 0.2249\n"
     ]
    },
    {
     "name": "stderr",
     "output_type": "stream",
     "text": [
      "100%|██████████| 22/22 [00:00<00:00, 102.79it/s]\n",
      "100%|██████████| 4/4 [00:00<00:00, 216.40it/s]\n"
     ]
    },
    {
     "name": "stdout",
     "output_type": "stream",
     "text": [
      "Epoch 10/200, Train Loss: 0.2235, Test Loss: 0.2248\n"
     ]
    },
    {
     "name": "stderr",
     "output_type": "stream",
     "text": [
      "100%|██████████| 22/22 [00:00<00:00, 101.64it/s]\n",
      "100%|██████████| 4/4 [00:00<00:00, 222.45it/s]\n"
     ]
    },
    {
     "name": "stdout",
     "output_type": "stream",
     "text": [
      "Epoch 11/200, Train Loss: 0.2234, Test Loss: 0.2247\n"
     ]
    },
    {
     "name": "stderr",
     "output_type": "stream",
     "text": [
      "100%|██████████| 22/22 [00:00<00:00, 72.05it/s]\n",
      "100%|██████████| 4/4 [00:00<00:00, 166.51it/s]\n"
     ]
    },
    {
     "name": "stdout",
     "output_type": "stream",
     "text": [
      "Epoch 12/200, Train Loss: 0.2232, Test Loss: 0.2246\n"
     ]
    },
    {
     "name": "stderr",
     "output_type": "stream",
     "text": [
      "100%|██████████| 22/22 [00:00<00:00, 75.06it/s]\n",
      "100%|██████████| 4/4 [00:00<00:00, 201.77it/s]\n"
     ]
    },
    {
     "name": "stdout",
     "output_type": "stream",
     "text": [
      "Epoch 13/200, Train Loss: 0.2231, Test Loss: 0.2245\n"
     ]
    },
    {
     "name": "stderr",
     "output_type": "stream",
     "text": [
      "100%|██████████| 22/22 [00:00<00:00, 103.50it/s]\n",
      "100%|██████████| 4/4 [00:00<00:00, 220.66it/s]\n"
     ]
    },
    {
     "name": "stdout",
     "output_type": "stream",
     "text": [
      "Epoch 14/200, Train Loss: 0.2230, Test Loss: 0.2243\n"
     ]
    },
    {
     "name": "stderr",
     "output_type": "stream",
     "text": [
      "100%|██████████| 22/22 [00:00<00:00, 103.35it/s]\n",
      "100%|██████████| 4/4 [00:00<00:00, 220.09it/s]\n"
     ]
    },
    {
     "name": "stdout",
     "output_type": "stream",
     "text": [
      "Epoch 15/200, Train Loss: 0.2229, Test Loss: 0.2242\n"
     ]
    },
    {
     "name": "stderr",
     "output_type": "stream",
     "text": [
      "100%|██████████| 22/22 [00:00<00:00, 104.38it/s]\n",
      "100%|██████████| 4/4 [00:00<00:00, 217.22it/s]\n"
     ]
    },
    {
     "name": "stdout",
     "output_type": "stream",
     "text": [
      "Epoch 16/200, Train Loss: 0.2228, Test Loss: 0.2241\n"
     ]
    },
    {
     "name": "stderr",
     "output_type": "stream",
     "text": [
      "100%|██████████| 22/22 [00:00<00:00, 91.88it/s] \n",
      "100%|██████████| 4/4 [00:00<00:00, 149.90it/s]\n"
     ]
    },
    {
     "name": "stdout",
     "output_type": "stream",
     "text": [
      "Epoch 17/200, Train Loss: 0.2226, Test Loss: 0.2239\n"
     ]
    },
    {
     "name": "stderr",
     "output_type": "stream",
     "text": [
      "100%|██████████| 22/22 [00:00<00:00, 62.18it/s]\n",
      "100%|██████████| 4/4 [00:00<00:00, 168.24it/s]\n"
     ]
    },
    {
     "name": "stdout",
     "output_type": "stream",
     "text": [
      "Epoch 18/200, Train Loss: 0.2225, Test Loss: 0.2237\n"
     ]
    },
    {
     "name": "stderr",
     "output_type": "stream",
     "text": [
      "100%|██████████| 22/22 [00:00<00:00, 65.42it/s]\n",
      "100%|██████████| 4/4 [00:00<00:00, 206.13it/s]\n"
     ]
    },
    {
     "name": "stdout",
     "output_type": "stream",
     "text": [
      "Epoch 19/200, Train Loss: 0.2224, Test Loss: 0.2236\n"
     ]
    },
    {
     "name": "stderr",
     "output_type": "stream",
     "text": [
      "100%|██████████| 22/22 [00:00<00:00, 105.05it/s]\n",
      "100%|██████████| 4/4 [00:00<00:00, 216.72it/s]\n"
     ]
    },
    {
     "name": "stdout",
     "output_type": "stream",
     "text": [
      "Epoch 20/200, Train Loss: 0.2223, Test Loss: 0.2236\n"
     ]
    },
    {
     "name": "stderr",
     "output_type": "stream",
     "text": [
      "100%|██████████| 22/22 [00:00<00:00, 73.66it/s]\n",
      "100%|██████████| 4/4 [00:00<00:00, 212.39it/s]\n"
     ]
    },
    {
     "name": "stdout",
     "output_type": "stream",
     "text": [
      "Epoch 21/200, Train Loss: 0.2222, Test Loss: 0.2235\n"
     ]
    },
    {
     "name": "stderr",
     "output_type": "stream",
     "text": [
      "100%|██████████| 22/22 [00:00<00:00, 87.32it/s]\n",
      "100%|██████████| 4/4 [00:00<00:00, 220.21it/s]\n"
     ]
    },
    {
     "name": "stdout",
     "output_type": "stream",
     "text": [
      "Epoch 22/200, Train Loss: 0.2221, Test Loss: 0.2234\n"
     ]
    },
    {
     "name": "stderr",
     "output_type": "stream",
     "text": [
      "100%|██████████| 22/22 [00:00<00:00, 101.93it/s]\n",
      "100%|██████████| 4/4 [00:00<00:00, 218.54it/s]\n"
     ]
    },
    {
     "name": "stdout",
     "output_type": "stream",
     "text": [
      "Epoch 23/200, Train Loss: 0.2220, Test Loss: 0.2234\n"
     ]
    },
    {
     "name": "stderr",
     "output_type": "stream",
     "text": [
      "100%|██████████| 22/22 [00:00<00:00, 102.96it/s]\n",
      "100%|██████████| 4/4 [00:00<00:00, 211.19it/s]\n"
     ]
    },
    {
     "name": "stdout",
     "output_type": "stream",
     "text": [
      "Epoch 24/200, Train Loss: 0.2220, Test Loss: 0.2234\n"
     ]
    },
    {
     "name": "stderr",
     "output_type": "stream",
     "text": [
      "100%|██████████| 22/22 [00:00<00:00, 104.56it/s]\n",
      "100%|██████████| 4/4 [00:00<00:00, 220.60it/s]\n"
     ]
    },
    {
     "name": "stdout",
     "output_type": "stream",
     "text": [
      "Epoch 25/200, Train Loss: 0.2219, Test Loss: 0.2233\n"
     ]
    },
    {
     "name": "stderr",
     "output_type": "stream",
     "text": [
      "100%|██████████| 22/22 [00:00<00:00, 99.64it/s]\n",
      "100%|██████████| 4/4 [00:00<00:00, 212.02it/s]\n"
     ]
    },
    {
     "name": "stdout",
     "output_type": "stream",
     "text": [
      "Epoch 26/200, Train Loss: 0.2219, Test Loss: 0.2233\n"
     ]
    },
    {
     "name": "stderr",
     "output_type": "stream",
     "text": [
      "100%|██████████| 22/22 [00:00<00:00, 101.31it/s]\n",
      "100%|██████████| 4/4 [00:00<00:00, 215.66it/s]\n"
     ]
    },
    {
     "name": "stdout",
     "output_type": "stream",
     "text": [
      "Epoch 27/200, Train Loss: 0.2219, Test Loss: 0.2232\n"
     ]
    },
    {
     "name": "stderr",
     "output_type": "stream",
     "text": [
      "100%|██████████| 22/22 [00:00<00:00, 87.84it/s]\n",
      "100%|██████████| 4/4 [00:00<00:00, 209.02it/s]\n"
     ]
    },
    {
     "name": "stdout",
     "output_type": "stream",
     "text": [
      "Epoch 28/200, Train Loss: 0.2219, Test Loss: 0.2232\n",
      "No improvement in Test Loss for 1 epoch(s).\n",
      "Current Best Test Loss: 0.2232\n"
     ]
    },
    {
     "name": "stderr",
     "output_type": "stream",
     "text": [
      "100%|██████████| 22/22 [00:00<00:00, 109.87it/s]\n",
      "100%|██████████| 4/4 [00:00<00:00, 211.71it/s]\n"
     ]
    },
    {
     "name": "stdout",
     "output_type": "stream",
     "text": [
      "Epoch 29/200, Train Loss: 0.2219, Test Loss: 0.2232\n"
     ]
    },
    {
     "name": "stderr",
     "output_type": "stream",
     "text": [
      "100%|██████████| 22/22 [00:00<00:00, 98.94it/s]\n",
      "100%|██████████| 4/4 [00:00<00:00, 215.94it/s]\n"
     ]
    },
    {
     "name": "stdout",
     "output_type": "stream",
     "text": [
      "Epoch 30/200, Train Loss: 0.2218, Test Loss: 0.2232\n"
     ]
    },
    {
     "name": "stderr",
     "output_type": "stream",
     "text": [
      "100%|██████████| 22/22 [00:00<00:00, 101.70it/s]\n",
      "100%|██████████| 4/4 [00:00<00:00, 202.18it/s]\n"
     ]
    },
    {
     "name": "stdout",
     "output_type": "stream",
     "text": [
      "Epoch 31/200, Train Loss: 0.2218, Test Loss: 0.2232\n"
     ]
    },
    {
     "name": "stderr",
     "output_type": "stream",
     "text": [
      "100%|██████████| 22/22 [00:00<00:00, 104.28it/s]\n",
      "100%|██████████| 4/4 [00:00<00:00, 215.60it/s]\n"
     ]
    },
    {
     "name": "stdout",
     "output_type": "stream",
     "text": [
      "Epoch 32/200, Train Loss: 0.2218, Test Loss: 0.2231\n"
     ]
    },
    {
     "name": "stderr",
     "output_type": "stream",
     "text": [
      "100%|██████████| 22/22 [00:00<00:00, 105.45it/s]\n",
      "100%|██████████| 4/4 [00:00<00:00, 217.69it/s]\n"
     ]
    },
    {
     "name": "stdout",
     "output_type": "stream",
     "text": [
      "Epoch 33/200, Train Loss: 0.2218, Test Loss: 0.2231\n"
     ]
    },
    {
     "name": "stderr",
     "output_type": "stream",
     "text": [
      "100%|██████████| 22/22 [00:00<00:00, 104.06it/s]\n",
      "100%|██████████| 4/4 [00:00<00:00, 218.76it/s]\n"
     ]
    },
    {
     "name": "stdout",
     "output_type": "stream",
     "text": [
      "Epoch 34/200, Train Loss: 0.2217, Test Loss: 0.2231\n"
     ]
    },
    {
     "name": "stderr",
     "output_type": "stream",
     "text": [
      "100%|██████████| 22/22 [00:00<00:00, 85.60it/s] \n",
      "100%|██████████| 4/4 [00:00<00:00, 211.57it/s]\n"
     ]
    },
    {
     "name": "stdout",
     "output_type": "stream",
     "text": [
      "Epoch 35/200, Train Loss: 0.2217, Test Loss: 0.2231\n"
     ]
    },
    {
     "name": "stderr",
     "output_type": "stream",
     "text": [
      "100%|██████████| 22/22 [00:00<00:00, 105.68it/s]\n",
      "100%|██████████| 4/4 [00:00<00:00, 220.78it/s]\n"
     ]
    },
    {
     "name": "stdout",
     "output_type": "stream",
     "text": [
      "Epoch 36/200, Train Loss: 0.2217, Test Loss: 0.2231\n",
      "No improvement in Test Loss for 1 epoch(s).\n",
      "Current Best Test Loss: 0.2231\n"
     ]
    },
    {
     "name": "stderr",
     "output_type": "stream",
     "text": [
      "100%|██████████| 22/22 [00:00<00:00, 110.09it/s]\n",
      "100%|██████████| 4/4 [00:00<00:00, 187.78it/s]\n"
     ]
    },
    {
     "name": "stdout",
     "output_type": "stream",
     "text": [
      "Epoch 37/200, Train Loss: 0.2217, Test Loss: 0.2231\n"
     ]
    },
    {
     "name": "stderr",
     "output_type": "stream",
     "text": [
      "100%|██████████| 22/22 [00:00<00:00, 78.70it/s]\n",
      "100%|██████████| 4/4 [00:00<00:00, 213.19it/s]\n"
     ]
    },
    {
     "name": "stdout",
     "output_type": "stream",
     "text": [
      "Epoch 38/200, Train Loss: 0.2217, Test Loss: 0.2230\n"
     ]
    },
    {
     "name": "stderr",
     "output_type": "stream",
     "text": [
      "100%|██████████| 22/22 [00:00<00:00, 103.64it/s]\n",
      "100%|██████████| 4/4 [00:00<00:00, 221.29it/s]\n"
     ]
    },
    {
     "name": "stdout",
     "output_type": "stream",
     "text": [
      "Epoch 39/200, Train Loss: 0.2217, Test Loss: 0.2230\n"
     ]
    },
    {
     "name": "stderr",
     "output_type": "stream",
     "text": [
      "100%|██████████| 22/22 [00:00<00:00, 104.05it/s]\n",
      "100%|██████████| 4/4 [00:00<00:00, 218.79it/s]\n"
     ]
    },
    {
     "name": "stdout",
     "output_type": "stream",
     "text": [
      "Epoch 40/200, Train Loss: 0.2217, Test Loss: 0.2230\n"
     ]
    },
    {
     "name": "stderr",
     "output_type": "stream",
     "text": [
      "100%|██████████| 22/22 [00:00<00:00, 103.16it/s]\n",
      "100%|██████████| 4/4 [00:00<00:00, 217.61it/s]\n"
     ]
    },
    {
     "name": "stdout",
     "output_type": "stream",
     "text": [
      "Epoch 41/200, Train Loss: 0.2217, Test Loss: 0.2230\n"
     ]
    },
    {
     "name": "stderr",
     "output_type": "stream",
     "text": [
      "100%|██████████| 22/22 [00:00<00:00, 93.02it/s]\n",
      "100%|██████████| 4/4 [00:00<00:00, 230.76it/s]\n"
     ]
    },
    {
     "name": "stdout",
     "output_type": "stream",
     "text": [
      "Epoch 42/200, Train Loss: 0.2216, Test Loss: 0.2230\n",
      "No improvement in Test Loss for 1 epoch(s).\n",
      "Current Best Test Loss: 0.2230\n"
     ]
    },
    {
     "name": "stderr",
     "output_type": "stream",
     "text": [
      "100%|██████████| 22/22 [00:00<00:00, 116.38it/s]\n",
      "100%|██████████| 4/4 [00:00<00:00, 191.74it/s]\n"
     ]
    },
    {
     "name": "stdout",
     "output_type": "stream",
     "text": [
      "Epoch 43/200, Train Loss: 0.2216, Test Loss: 0.2230\n"
     ]
    },
    {
     "name": "stderr",
     "output_type": "stream",
     "text": [
      "100%|██████████| 22/22 [00:00<00:00, 110.67it/s]\n",
      "100%|██████████| 4/4 [00:00<00:00, 234.19it/s]\n"
     ]
    },
    {
     "name": "stdout",
     "output_type": "stream",
     "text": [
      "Epoch 44/200, Train Loss: 0.2216, Test Loss: 0.2230\n",
      "No improvement in Test Loss for 1 epoch(s).\n",
      "Current Best Test Loss: 0.2230\n"
     ]
    },
    {
     "name": "stderr",
     "output_type": "stream",
     "text": [
      "100%|██████████| 22/22 [00:00<00:00, 117.01it/s]\n",
      "100%|██████████| 4/4 [00:00<00:00, 229.51it/s]\n"
     ]
    },
    {
     "name": "stdout",
     "output_type": "stream",
     "text": [
      "Epoch 45/200, Train Loss: 0.2216, Test Loss: 0.2230\n"
     ]
    },
    {
     "name": "stderr",
     "output_type": "stream",
     "text": [
      "100%|██████████| 22/22 [00:00<00:00, 114.64it/s]\n",
      "100%|██████████| 4/4 [00:00<00:00, 228.53it/s]\n"
     ]
    },
    {
     "name": "stdout",
     "output_type": "stream",
     "text": [
      "Epoch 46/200, Train Loss: 0.2216, Test Loss: 0.2230\n",
      "No improvement in Test Loss for 1 epoch(s).\n",
      "Current Best Test Loss: 0.2230\n"
     ]
    },
    {
     "name": "stderr",
     "output_type": "stream",
     "text": [
      "100%|██████████| 22/22 [00:00<00:00, 117.27it/s]\n",
      "100%|██████████| 4/4 [00:00<00:00, 228.54it/s]\n"
     ]
    },
    {
     "name": "stdout",
     "output_type": "stream",
     "text": [
      "Epoch 47/200, Train Loss: 0.2216, Test Loss: 0.2230\n"
     ]
    },
    {
     "name": "stderr",
     "output_type": "stream",
     "text": [
      "100%|██████████| 22/22 [00:00<00:00, 115.42it/s]\n",
      "100%|██████████| 4/4 [00:00<00:00, 224.98it/s]\n"
     ]
    },
    {
     "name": "stdout",
     "output_type": "stream",
     "text": [
      "Epoch 48/200, Train Loss: 0.2216, Test Loss: 0.2230\n",
      "No improvement in Test Loss for 1 epoch(s).\n",
      "Current Best Test Loss: 0.2230\n"
     ]
    },
    {
     "name": "stderr",
     "output_type": "stream",
     "text": [
      "100%|██████████| 22/22 [00:00<00:00, 115.78it/s]\n",
      "100%|██████████| 4/4 [00:00<00:00, 222.14it/s]\n"
     ]
    },
    {
     "name": "stdout",
     "output_type": "stream",
     "text": [
      "Epoch 49/200, Train Loss: 0.2216, Test Loss: 0.2229\n"
     ]
    },
    {
     "name": "stderr",
     "output_type": "stream",
     "text": [
      "100%|██████████| 22/22 [00:00<00:00, 113.84it/s]\n",
      "100%|██████████| 4/4 [00:00<00:00, 223.13it/s]\n"
     ]
    },
    {
     "name": "stdout",
     "output_type": "stream",
     "text": [
      "Epoch 50/200, Train Loss: 0.2216, Test Loss: 0.2229\n",
      "No improvement in Test Loss for 1 epoch(s).\n",
      "Current Best Test Loss: 0.2229\n"
     ]
    },
    {
     "name": "stderr",
     "output_type": "stream",
     "text": [
      "100%|██████████| 22/22 [00:00<00:00, 116.23it/s]\n",
      "100%|██████████| 4/4 [00:00<00:00, 229.25it/s]\n"
     ]
    },
    {
     "name": "stdout",
     "output_type": "stream",
     "text": [
      "Epoch 51/200, Train Loss: 0.2215, Test Loss: 0.2229\n"
     ]
    },
    {
     "name": "stderr",
     "output_type": "stream",
     "text": [
      "100%|██████████| 22/22 [00:00<00:00, 114.97it/s]\n",
      "100%|██████████| 4/4 [00:00<00:00, 230.14it/s]\n"
     ]
    },
    {
     "name": "stdout",
     "output_type": "stream",
     "text": [
      "Epoch 52/200, Train Loss: 0.2215, Test Loss: 0.2229\n",
      "No improvement in Test Loss for 1 epoch(s).\n",
      "Current Best Test Loss: 0.2229\n"
     ]
    },
    {
     "name": "stderr",
     "output_type": "stream",
     "text": [
      "100%|██████████| 22/22 [00:00<00:00, 116.77it/s]\n",
      "100%|██████████| 4/4 [00:00<00:00, 229.01it/s]\n"
     ]
    },
    {
     "name": "stdout",
     "output_type": "stream",
     "text": [
      "Epoch 53/200, Train Loss: 0.2215, Test Loss: 0.2229\n"
     ]
    },
    {
     "name": "stderr",
     "output_type": "stream",
     "text": [
      "100%|██████████| 22/22 [00:00<00:00, 115.56it/s]\n",
      "100%|██████████| 4/4 [00:00<00:00, 226.12it/s]\n"
     ]
    },
    {
     "name": "stdout",
     "output_type": "stream",
     "text": [
      "Epoch 54/200, Train Loss: 0.2215, Test Loss: 0.2229\n",
      "No improvement in Test Loss for 1 epoch(s).\n",
      "Current Best Test Loss: 0.2229\n"
     ]
    },
    {
     "name": "stderr",
     "output_type": "stream",
     "text": [
      "100%|██████████| 22/22 [00:00<00:00, 91.54it/s] \n",
      "100%|██████████| 4/4 [00:00<00:00, 121.95it/s]\n"
     ]
    },
    {
     "name": "stdout",
     "output_type": "stream",
     "text": [
      "Epoch 55/200, Train Loss: 0.2215, Test Loss: 0.2229\n"
     ]
    },
    {
     "name": "stderr",
     "output_type": "stream",
     "text": [
      "100%|██████████| 22/22 [00:00<00:00, 82.34it/s]\n",
      "100%|██████████| 4/4 [00:00<00:00, 213.79it/s]\n"
     ]
    },
    {
     "name": "stdout",
     "output_type": "stream",
     "text": [
      "Epoch 56/200, Train Loss: 0.2215, Test Loss: 0.2229\n",
      "No improvement in Test Loss for 1 epoch(s).\n",
      "Current Best Test Loss: 0.2229\n"
     ]
    },
    {
     "name": "stderr",
     "output_type": "stream",
     "text": [
      "100%|██████████| 22/22 [00:00<00:00, 113.53it/s]\n",
      "100%|██████████| 4/4 [00:00<00:00, 227.51it/s]\n"
     ]
    },
    {
     "name": "stdout",
     "output_type": "stream",
     "text": [
      "Epoch 57/200, Train Loss: 0.2215, Test Loss: 0.2229\n"
     ]
    },
    {
     "name": "stderr",
     "output_type": "stream",
     "text": [
      "100%|██████████| 22/22 [00:00<00:00, 114.60it/s]\n",
      "100%|██████████| 4/4 [00:00<00:00, 137.82it/s]\n"
     ]
    },
    {
     "name": "stdout",
     "output_type": "stream",
     "text": [
      "Epoch 58/200, Train Loss: 0.2215, Test Loss: 0.2229\n"
     ]
    },
    {
     "name": "stderr",
     "output_type": "stream",
     "text": [
      "100%|██████████| 22/22 [00:00<00:00, 66.74it/s]\n",
      "100%|██████████| 4/4 [00:00<00:00, 191.03it/s]\n"
     ]
    },
    {
     "name": "stdout",
     "output_type": "stream",
     "text": [
      "Epoch 59/200, Train Loss: 0.2215, Test Loss: 0.2229\n"
     ]
    },
    {
     "name": "stderr",
     "output_type": "stream",
     "text": [
      "100%|██████████| 22/22 [00:00<00:00, 87.12it/s]\n",
      "100%|██████████| 4/4 [00:00<00:00, 218.82it/s]\n"
     ]
    },
    {
     "name": "stdout",
     "output_type": "stream",
     "text": [
      "Epoch 60/200, Train Loss: 0.2215, Test Loss: 0.2228\n"
     ]
    },
    {
     "name": "stderr",
     "output_type": "stream",
     "text": [
      "100%|██████████| 22/22 [00:00<00:00, 94.76it/s]\n",
      "100%|██████████| 4/4 [00:00<00:00, 223.22it/s]\n"
     ]
    },
    {
     "name": "stdout",
     "output_type": "stream",
     "text": [
      "Epoch 61/200, Train Loss: 0.2215, Test Loss: 0.2228\n",
      "No improvement in Test Loss for 1 epoch(s).\n",
      "Current Best Test Loss: 0.2228\n"
     ]
    },
    {
     "name": "stderr",
     "output_type": "stream",
     "text": [
      "100%|██████████| 22/22 [00:00<00:00, 73.51it/s]\n",
      "100%|██████████| 4/4 [00:00<00:00, 201.94it/s]\n"
     ]
    },
    {
     "name": "stdout",
     "output_type": "stream",
     "text": [
      "Epoch 62/200, Train Loss: 0.2215, Test Loss: 0.2228\n"
     ]
    },
    {
     "name": "stderr",
     "output_type": "stream",
     "text": [
      "100%|██████████| 22/22 [00:00<00:00, 67.49it/s]\n",
      "100%|██████████| 4/4 [00:00<00:00, 98.28it/s]\n"
     ]
    },
    {
     "name": "stdout",
     "output_type": "stream",
     "text": [
      "Epoch 63/200, Train Loss: 0.2215, Test Loss: 0.2228\n",
      "No improvement in Test Loss for 1 epoch(s).\n",
      "Current Best Test Loss: 0.2228\n"
     ]
    },
    {
     "name": "stderr",
     "output_type": "stream",
     "text": [
      "100%|██████████| 22/22 [00:00<00:00, 73.34it/s]\n",
      "100%|██████████| 4/4 [00:00<00:00, 198.74it/s]\n"
     ]
    },
    {
     "name": "stdout",
     "output_type": "stream",
     "text": [
      "Epoch 64/200, Train Loss: 0.2215, Test Loss: 0.2228\n",
      "No improvement in Test Loss for 2 epoch(s).\n",
      "Current Best Test Loss: 0.2228\n"
     ]
    },
    {
     "name": "stderr",
     "output_type": "stream",
     "text": [
      "100%|██████████| 22/22 [00:00<00:00, 75.61it/s]\n",
      "100%|██████████| 4/4 [00:00<00:00, 170.07it/s]\n"
     ]
    },
    {
     "name": "stdout",
     "output_type": "stream",
     "text": [
      "Epoch 65/200, Train Loss: 0.2214, Test Loss: 0.2229\n",
      "No improvement in Test Loss for 3 epoch(s).\n",
      "Current Best Test Loss: 0.2228\n",
      "Early stopping triggered.\n",
      "Start training model with parameters: {'num_B_spline_basis': 20, 'downsample_factor': 10, 'transformer_num_layers': 2, 'transformer_d_model': 128, 'transformer_dim_feedforward': 512, 'transformer_vae_output_dim': 16, 'transformer_dropout': 0.0, 'transformer_nhead': 1, 'stimulus_nfactor': 1, 'stimulus_decoder_inter_dim_factor': 2, 'beta': 1.0, 'use_area_specific_decoder': True, 'use_area_specific_encoder': True, 'use_cls': False, 'coupling_basis_peaks_max': 5, 'coupling_basis_num': 3, 'coupling_nsubspace': 1, 'use_self_coupling': True, 'K_sigma2': 1.0, 'K_tau': 100, 'coupling_strength_nlatent': 1, 'penalty_smoothing_spline': 100.0, 'penalty_effect_overlapping': None, 'penalty_coupling_subgroup': 0.0001, 'penalty_diff_loading': None, 'batch_size': 64, 'sample_latent': False, 'lr': 0.001, 'epoch_warm_up': 0, 'epoch_patience': 3, 'epoch_max': 200, 'tol': 1e-05, 'weight_decay': 0, 'lr_transformer': 0.0001, 'lr_sti': 0.01, 'lr_cp': 0.01}\n"
     ]
    },
    {
     "name": "stderr",
     "output_type": "stream",
     "text": [
      "100%|██████████| 22/22 [00:00<00:00, 84.88it/s]\n",
      "100%|██████████| 4/4 [00:00<00:00, 179.02it/s]\n"
     ]
    },
    {
     "name": "stdout",
     "output_type": "stream",
     "text": [
      "Epoch 1/200, Train Loss: 0.2215, Test Loss: 0.2227\n"
     ]
    },
    {
     "name": "stderr",
     "output_type": "stream",
     "text": [
      "100%|██████████| 22/22 [00:00<00:00, 82.60it/s]\n",
      "100%|██████████| 4/4 [00:00<00:00, 177.94it/s]\n"
     ]
    },
    {
     "name": "stdout",
     "output_type": "stream",
     "text": [
      "Epoch 2/200, Train Loss: 0.2213, Test Loss: 0.2226\n"
     ]
    },
    {
     "name": "stderr",
     "output_type": "stream",
     "text": [
      "100%|██████████| 22/22 [00:00<00:00, 75.24it/s]\n",
      "100%|██████████| 4/4 [00:00<00:00, 176.16it/s]\n"
     ]
    },
    {
     "name": "stdout",
     "output_type": "stream",
     "text": [
      "Epoch 3/200, Train Loss: 0.2212, Test Loss: 0.2226\n"
     ]
    },
    {
     "name": "stderr",
     "output_type": "stream",
     "text": [
      "100%|██████████| 22/22 [00:00<00:00, 82.02it/s]\n",
      "100%|██████████| 4/4 [00:00<00:00, 177.56it/s]\n"
     ]
    },
    {
     "name": "stdout",
     "output_type": "stream",
     "text": [
      "Epoch 4/200, Train Loss: 0.2211, Test Loss: 0.2225\n"
     ]
    },
    {
     "name": "stderr",
     "output_type": "stream",
     "text": [
      "100%|██████████| 22/22 [00:00<00:00, 80.39it/s]\n",
      "100%|██████████| 4/4 [00:00<00:00, 141.37it/s]\n"
     ]
    },
    {
     "name": "stdout",
     "output_type": "stream",
     "text": [
      "Epoch 5/200, Train Loss: 0.2211, Test Loss: 0.2225\n"
     ]
    },
    {
     "name": "stderr",
     "output_type": "stream",
     "text": [
      "100%|██████████| 22/22 [00:00<00:00, 56.25it/s]\n",
      "100%|██████████| 4/4 [00:00<00:00, 145.26it/s]\n"
     ]
    },
    {
     "name": "stdout",
     "output_type": "stream",
     "text": [
      "Epoch 6/200, Train Loss: 0.2211, Test Loss: 0.2225\n"
     ]
    },
    {
     "name": "stderr",
     "output_type": "stream",
     "text": [
      "100%|██████████| 22/22 [00:00<00:00, 81.90it/s]\n",
      "100%|██████████| 4/4 [00:00<00:00, 176.44it/s]\n"
     ]
    },
    {
     "name": "stdout",
     "output_type": "stream",
     "text": [
      "Epoch 7/200, Train Loss: 0.2211, Test Loss: 0.2225\n",
      "No improvement in Test Loss for 1 epoch(s).\n",
      "Current Best Test Loss: 0.2225\n"
     ]
    },
    {
     "name": "stderr",
     "output_type": "stream",
     "text": [
      "100%|██████████| 22/22 [00:00<00:00, 86.16it/s]\n",
      "100%|██████████| 4/4 [00:00<00:00, 175.40it/s]\n"
     ]
    },
    {
     "name": "stdout",
     "output_type": "stream",
     "text": [
      "Epoch 8/200, Train Loss: 0.2211, Test Loss: 0.2225\n"
     ]
    },
    {
     "name": "stderr",
     "output_type": "stream",
     "text": [
      "100%|██████████| 22/22 [00:00<00:00, 83.96it/s]\n",
      "100%|██████████| 4/4 [00:00<00:00, 181.30it/s]\n"
     ]
    },
    {
     "name": "stdout",
     "output_type": "stream",
     "text": [
      "Epoch 9/200, Train Loss: 0.2211, Test Loss: 0.2225\n",
      "No improvement in Test Loss for 1 epoch(s).\n",
      "Current Best Test Loss: 0.2225\n"
     ]
    },
    {
     "name": "stderr",
     "output_type": "stream",
     "text": [
      "100%|██████████| 22/22 [00:00<00:00, 85.56it/s]\n",
      "100%|██████████| 4/4 [00:00<00:00, 177.13it/s]\n"
     ]
    },
    {
     "name": "stdout",
     "output_type": "stream",
     "text": [
      "Epoch 10/200, Train Loss: 0.2211, Test Loss: 0.2225\n",
      "No improvement in Test Loss for 2 epoch(s).\n",
      "Current Best Test Loss: 0.2225\n"
     ]
    },
    {
     "name": "stderr",
     "output_type": "stream",
     "text": [
      "100%|██████████| 22/22 [00:00<00:00, 85.78it/s]\n",
      "100%|██████████| 4/4 [00:00<00:00, 181.58it/s]\n"
     ]
    },
    {
     "name": "stdout",
     "output_type": "stream",
     "text": [
      "Epoch 11/200, Train Loss: 0.2211, Test Loss: 0.2225\n",
      "No improvement in Test Loss for 3 epoch(s).\n",
      "Current Best Test Loss: 0.2225\n",
      "Early stopping triggered.\n"
     ]
    },
    {
     "name": "stderr",
     "output_type": "stream",
     "text": [
      "100%|██████████| 7/7 [00:00<00:00, 176.60it/s]\n"
     ]
    },
    {
     "name": "stdout",
     "output_type": "stream",
     "text": [
      "Test loss: 0.22241915873904478\n",
      "Test loss baseline: 0.23068307384737113\n",
      "Model initialized. Training on cuda\n",
      "Start training model with parameters: {'num_B_spline_basis': 20, 'downsample_factor': 10, 'transformer_num_layers': 2, 'transformer_d_model': 128, 'transformer_dim_feedforward': 512, 'transformer_vae_output_dim': 16, 'transformer_dropout': 0.0, 'transformer_nhead': 1, 'stimulus_nfactor': 1, 'stimulus_decoder_inter_dim_factor': 2, 'beta': 1.0, 'use_area_specific_decoder': True, 'use_area_specific_encoder': True, 'use_cls': False, 'coupling_basis_peaks_max': 5, 'coupling_basis_num': 3, 'coupling_nsubspace': 1, 'use_self_coupling': True, 'K_sigma2': 1.0, 'K_tau': 100, 'coupling_strength_nlatent': 1, 'penalty_smoothing_spline': 100.0, 'penalty_effect_overlapping': None, 'penalty_coupling_subgroup': 0.0001, 'penalty_diff_loading': None, 'batch_size': 64, 'sample_latent': False, 'lr': 0.001, 'epoch_warm_up': 0, 'epoch_patience': 3, 'epoch_max': 200, 'tol': 1e-05, 'weight_decay': 0, 'lr_transformer': 0.0001, 'lr_sti': 0.01, 'lr_cp': 0.01}\n"
     ]
    },
    {
     "name": "stderr",
     "output_type": "stream",
     "text": [
      "100%|██████████| 22/22 [00:00<00:00, 121.74it/s]\n",
      "100%|██████████| 4/4 [00:00<00:00, 211.64it/s]\n"
     ]
    },
    {
     "name": "stdout",
     "output_type": "stream",
     "text": [
      "Epoch 1/200, Train Loss: 0.9297, Test Loss: 0.4968\n"
     ]
    },
    {
     "name": "stderr",
     "output_type": "stream",
     "text": [
      "100%|██████████| 22/22 [00:00<00:00, 90.42it/s]\n",
      "100%|██████████| 4/4 [00:00<00:00, 200.81it/s]\n"
     ]
    },
    {
     "name": "stdout",
     "output_type": "stream",
     "text": [
      "Epoch 2/200, Train Loss: 0.3482, Test Loss: 0.3139\n"
     ]
    },
    {
     "name": "stderr",
     "output_type": "stream",
     "text": [
      "100%|██████████| 22/22 [00:00<00:00, 99.57it/s] \n",
      "100%|██████████| 4/4 [00:00<00:00, 227.95it/s]\n"
     ]
    },
    {
     "name": "stdout",
     "output_type": "stream",
     "text": [
      "Epoch 3/200, Train Loss: 0.3009, Test Loss: 0.2885\n"
     ]
    },
    {
     "name": "stderr",
     "output_type": "stream",
     "text": [
      "100%|██████████| 22/22 [00:00<00:00, 86.41it/s]\n",
      "100%|██████████| 4/4 [00:00<00:00, 200.64it/s]\n"
     ]
    },
    {
     "name": "stdout",
     "output_type": "stream",
     "text": [
      "Epoch 4/200, Train Loss: 0.2856, Test Loss: 0.2770\n"
     ]
    },
    {
     "name": "stderr",
     "output_type": "stream",
     "text": [
      "100%|██████████| 22/22 [00:00<00:00, 113.15it/s]\n",
      "100%|██████████| 4/4 [00:00<00:00, 225.26it/s]\n"
     ]
    },
    {
     "name": "stdout",
     "output_type": "stream",
     "text": [
      "Epoch 5/200, Train Loss: 0.2741, Test Loss: 0.2664\n"
     ]
    },
    {
     "name": "stderr",
     "output_type": "stream",
     "text": [
      "100%|██████████| 22/22 [00:00<00:00, 118.81it/s]\n",
      "100%|██████████| 4/4 [00:00<00:00, 190.67it/s]\n"
     ]
    },
    {
     "name": "stdout",
     "output_type": "stream",
     "text": [
      "Epoch 6/200, Train Loss: 0.2633, Test Loss: 0.2568\n"
     ]
    },
    {
     "name": "stderr",
     "output_type": "stream",
     "text": [
      "100%|██████████| 22/22 [00:00<00:00, 98.58it/s]\n",
      "100%|██████████| 4/4 [00:00<00:00, 213.50it/s]\n"
     ]
    },
    {
     "name": "stdout",
     "output_type": "stream",
     "text": [
      "Epoch 7/200, Train Loss: 0.2537, Test Loss: 0.2486\n"
     ]
    },
    {
     "name": "stderr",
     "output_type": "stream",
     "text": [
      "100%|██████████| 22/22 [00:00<00:00, 111.11it/s]\n",
      "100%|██████████| 4/4 [00:00<00:00, 216.52it/s]\n"
     ]
    },
    {
     "name": "stdout",
     "output_type": "stream",
     "text": [
      "Epoch 8/200, Train Loss: 0.2459, Test Loss: 0.2423\n"
     ]
    },
    {
     "name": "stderr",
     "output_type": "stream",
     "text": [
      "100%|██████████| 22/22 [00:00<00:00, 102.17it/s]\n",
      "100%|██████████| 4/4 [00:00<00:00, 213.93it/s]\n"
     ]
    },
    {
     "name": "stdout",
     "output_type": "stream",
     "text": [
      "Epoch 9/200, Train Loss: 0.2400, Test Loss: 0.2376\n"
     ]
    },
    {
     "name": "stderr",
     "output_type": "stream",
     "text": [
      "100%|██████████| 22/22 [00:00<00:00, 112.08it/s]\n",
      "100%|██████████| 4/4 [00:00<00:00, 210.59it/s]\n"
     ]
    },
    {
     "name": "stdout",
     "output_type": "stream",
     "text": [
      "Epoch 10/200, Train Loss: 0.2357, Test Loss: 0.2343\n"
     ]
    },
    {
     "name": "stderr",
     "output_type": "stream",
     "text": [
      "100%|██████████| 22/22 [00:00<00:00, 107.34it/s]\n",
      "100%|██████████| 4/4 [00:00<00:00, 197.27it/s]\n"
     ]
    },
    {
     "name": "stdout",
     "output_type": "stream",
     "text": [
      "Epoch 11/200, Train Loss: 0.2327, Test Loss: 0.2321\n"
     ]
    },
    {
     "name": "stderr",
     "output_type": "stream",
     "text": [
      "100%|██████████| 22/22 [00:00<00:00, 90.20it/s]\n",
      "100%|██████████| 4/4 [00:00<00:00, 207.69it/s]\n"
     ]
    },
    {
     "name": "stdout",
     "output_type": "stream",
     "text": [
      "Epoch 12/200, Train Loss: 0.2307, Test Loss: 0.2305\n"
     ]
    },
    {
     "name": "stderr",
     "output_type": "stream",
     "text": [
      "100%|██████████| 22/22 [00:00<00:00, 111.63it/s]\n",
      "100%|██████████| 4/4 [00:00<00:00, 216.51it/s]\n"
     ]
    },
    {
     "name": "stdout",
     "output_type": "stream",
     "text": [
      "Epoch 13/200, Train Loss: 0.2293, Test Loss: 0.2294\n"
     ]
    },
    {
     "name": "stderr",
     "output_type": "stream",
     "text": [
      "100%|██████████| 22/22 [00:00<00:00, 105.54it/s]\n",
      "100%|██████████| 4/4 [00:00<00:00, 212.20it/s]\n"
     ]
    },
    {
     "name": "stdout",
     "output_type": "stream",
     "text": [
      "Epoch 14/200, Train Loss: 0.2283, Test Loss: 0.2287\n"
     ]
    },
    {
     "name": "stderr",
     "output_type": "stream",
     "text": [
      "100%|██████████| 22/22 [00:00<00:00, 102.35it/s]\n",
      "100%|██████████| 4/4 [00:00<00:00, 204.47it/s]\n"
     ]
    },
    {
     "name": "stdout",
     "output_type": "stream",
     "text": [
      "Epoch 15/200, Train Loss: 0.2276, Test Loss: 0.2281\n"
     ]
    },
    {
     "name": "stderr",
     "output_type": "stream",
     "text": [
      "100%|██████████| 22/22 [00:00<00:00, 112.36it/s]\n",
      "100%|██████████| 4/4 [00:00<00:00, 220.77it/s]\n"
     ]
    },
    {
     "name": "stdout",
     "output_type": "stream",
     "text": [
      "Epoch 16/200, Train Loss: 0.2271, Test Loss: 0.2278\n"
     ]
    },
    {
     "name": "stderr",
     "output_type": "stream",
     "text": [
      "100%|██████████| 22/22 [00:00<00:00, 113.35it/s]\n",
      "100%|██████████| 4/4 [00:00<00:00, 218.39it/s]\n"
     ]
    },
    {
     "name": "stdout",
     "output_type": "stream",
     "text": [
      "Epoch 17/200, Train Loss: 0.2268, Test Loss: 0.2275\n"
     ]
    },
    {
     "name": "stderr",
     "output_type": "stream",
     "text": [
      "100%|██████████| 22/22 [00:00<00:00, 97.68it/s]\n",
      "100%|██████████| 4/4 [00:00<00:00, 219.14it/s]\n"
     ]
    },
    {
     "name": "stdout",
     "output_type": "stream",
     "text": [
      "Epoch 18/200, Train Loss: 0.2265, Test Loss: 0.2273\n"
     ]
    },
    {
     "name": "stderr",
     "output_type": "stream",
     "text": [
      "100%|██████████| 22/22 [00:00<00:00, 111.81it/s]\n",
      "100%|██████████| 4/4 [00:00<00:00, 215.07it/s]\n"
     ]
    },
    {
     "name": "stdout",
     "output_type": "stream",
     "text": [
      "Epoch 19/200, Train Loss: 0.2263, Test Loss: 0.2271\n"
     ]
    },
    {
     "name": "stderr",
     "output_type": "stream",
     "text": [
      "100%|██████████| 22/22 [00:00<00:00, 100.62it/s]\n",
      "100%|██████████| 4/4 [00:00<00:00, 216.18it/s]\n"
     ]
    },
    {
     "name": "stdout",
     "output_type": "stream",
     "text": [
      "Epoch 20/200, Train Loss: 0.2262, Test Loss: 0.2270\n"
     ]
    },
    {
     "name": "stderr",
     "output_type": "stream",
     "text": [
      "100%|██████████| 22/22 [00:00<00:00, 89.39it/s]\n",
      "100%|██████████| 4/4 [00:00<00:00, 215.14it/s]\n"
     ]
    },
    {
     "name": "stdout",
     "output_type": "stream",
     "text": [
      "Epoch 21/200, Train Loss: 0.2261, Test Loss: 0.2269\n"
     ]
    },
    {
     "name": "stderr",
     "output_type": "stream",
     "text": [
      "100%|██████████| 22/22 [00:00<00:00, 112.49it/s]\n",
      "100%|██████████| 4/4 [00:00<00:00, 188.29it/s]\n"
     ]
    },
    {
     "name": "stdout",
     "output_type": "stream",
     "text": [
      "Epoch 22/200, Train Loss: 0.2259, Test Loss: 0.2268\n"
     ]
    },
    {
     "name": "stderr",
     "output_type": "stream",
     "text": [
      "100%|██████████| 22/22 [00:00<00:00, 72.96it/s]\n",
      "100%|██████████| 4/4 [00:00<00:00, 210.98it/s]\n"
     ]
    },
    {
     "name": "stdout",
     "output_type": "stream",
     "text": [
      "Epoch 23/200, Train Loss: 0.2258, Test Loss: 0.2267\n"
     ]
    },
    {
     "name": "stderr",
     "output_type": "stream",
     "text": [
      "100%|██████████| 22/22 [00:00<00:00, 114.61it/s]\n",
      "100%|██████████| 4/4 [00:00<00:00, 209.70it/s]\n"
     ]
    },
    {
     "name": "stdout",
     "output_type": "stream",
     "text": [
      "Epoch 24/200, Train Loss: 0.2257, Test Loss: 0.2266\n"
     ]
    },
    {
     "name": "stderr",
     "output_type": "stream",
     "text": [
      "100%|██████████| 22/22 [00:00<00:00, 109.12it/s]\n",
      "100%|██████████| 4/4 [00:00<00:00, 218.22it/s]\n"
     ]
    },
    {
     "name": "stdout",
     "output_type": "stream",
     "text": [
      "Epoch 25/200, Train Loss: 0.2256, Test Loss: 0.2265\n"
     ]
    },
    {
     "name": "stderr",
     "output_type": "stream",
     "text": [
      "100%|██████████| 22/22 [00:00<00:00, 106.95it/s]\n",
      "100%|██████████| 4/4 [00:00<00:00, 203.91it/s]\n"
     ]
    },
    {
     "name": "stdout",
     "output_type": "stream",
     "text": [
      "Epoch 26/200, Train Loss: 0.2255, Test Loss: 0.2264\n"
     ]
    },
    {
     "name": "stderr",
     "output_type": "stream",
     "text": [
      "100%|██████████| 22/22 [00:00<00:00, 100.10it/s]\n",
      "100%|██████████| 4/4 [00:00<00:00, 194.30it/s]\n"
     ]
    },
    {
     "name": "stdout",
     "output_type": "stream",
     "text": [
      "Epoch 27/200, Train Loss: 0.2254, Test Loss: 0.2263\n"
     ]
    },
    {
     "name": "stderr",
     "output_type": "stream",
     "text": [
      "100%|██████████| 22/22 [00:00<00:00, 84.71it/s]\n",
      "100%|██████████| 4/4 [00:00<00:00, 200.68it/s]\n"
     ]
    },
    {
     "name": "stdout",
     "output_type": "stream",
     "text": [
      "Epoch 28/200, Train Loss: 0.2253, Test Loss: 0.2262\n"
     ]
    },
    {
     "name": "stderr",
     "output_type": "stream",
     "text": [
      "100%|██████████| 22/22 [00:00<00:00, 101.34it/s]\n",
      "100%|██████████| 4/4 [00:00<00:00, 197.50it/s]\n"
     ]
    },
    {
     "name": "stdout",
     "output_type": "stream",
     "text": [
      "Epoch 29/200, Train Loss: 0.2252, Test Loss: 0.2261\n"
     ]
    },
    {
     "name": "stderr",
     "output_type": "stream",
     "text": [
      "100%|██████████| 22/22 [00:00<00:00, 110.64it/s]\n",
      "100%|██████████| 4/4 [00:00<00:00, 222.23it/s]\n"
     ]
    },
    {
     "name": "stdout",
     "output_type": "stream",
     "text": [
      "Epoch 30/200, Train Loss: 0.2250, Test Loss: 0.2260\n"
     ]
    },
    {
     "name": "stderr",
     "output_type": "stream",
     "text": [
      "100%|██████████| 22/22 [00:00<00:00, 112.38it/s]\n",
      "100%|██████████| 4/4 [00:00<00:00, 215.03it/s]\n"
     ]
    },
    {
     "name": "stdout",
     "output_type": "stream",
     "text": [
      "Epoch 31/200, Train Loss: 0.2249, Test Loss: 0.2259\n"
     ]
    },
    {
     "name": "stderr",
     "output_type": "stream",
     "text": [
      "100%|██████████| 22/22 [00:00<00:00, 100.94it/s]\n",
      "100%|██████████| 4/4 [00:00<00:00, 220.08it/s]\n"
     ]
    },
    {
     "name": "stdout",
     "output_type": "stream",
     "text": [
      "Epoch 32/200, Train Loss: 0.2247, Test Loss: 0.2257\n"
     ]
    },
    {
     "name": "stderr",
     "output_type": "stream",
     "text": [
      "100%|██████████| 22/22 [00:00<00:00, 101.17it/s]\n",
      "100%|██████████| 4/4 [00:00<00:00, 185.39it/s]\n"
     ]
    },
    {
     "name": "stdout",
     "output_type": "stream",
     "text": [
      "Epoch 33/200, Train Loss: 0.2246, Test Loss: 0.2256\n"
     ]
    },
    {
     "name": "stderr",
     "output_type": "stream",
     "text": [
      "100%|██████████| 22/22 [00:00<00:00, 108.26it/s]\n",
      "100%|██████████| 4/4 [00:00<00:00, 216.87it/s]\n"
     ]
    },
    {
     "name": "stdout",
     "output_type": "stream",
     "text": [
      "Epoch 34/200, Train Loss: 0.2245, Test Loss: 0.2255\n"
     ]
    },
    {
     "name": "stderr",
     "output_type": "stream",
     "text": [
      "100%|██████████| 22/22 [00:00<00:00, 112.27it/s]\n",
      "100%|██████████| 4/4 [00:00<00:00, 220.89it/s]\n"
     ]
    },
    {
     "name": "stdout",
     "output_type": "stream",
     "text": [
      "Epoch 35/200, Train Loss: 0.2243, Test Loss: 0.2253\n"
     ]
    },
    {
     "name": "stderr",
     "output_type": "stream",
     "text": [
      "100%|██████████| 22/22 [00:00<00:00, 111.60it/s]\n",
      "100%|██████████| 4/4 [00:00<00:00, 213.31it/s]\n"
     ]
    },
    {
     "name": "stdout",
     "output_type": "stream",
     "text": [
      "Epoch 36/200, Train Loss: 0.2242, Test Loss: 0.2252\n"
     ]
    },
    {
     "name": "stderr",
     "output_type": "stream",
     "text": [
      "100%|██████████| 22/22 [00:00<00:00, 110.72it/s]\n",
      "100%|██████████| 4/4 [00:00<00:00, 217.30it/s]\n"
     ]
    },
    {
     "name": "stdout",
     "output_type": "stream",
     "text": [
      "Epoch 37/200, Train Loss: 0.2240, Test Loss: 0.2251\n"
     ]
    },
    {
     "name": "stderr",
     "output_type": "stream",
     "text": [
      "100%|██████████| 22/22 [00:00<00:00, 101.89it/s]\n",
      "100%|██████████| 4/4 [00:00<00:00, 216.23it/s]\n"
     ]
    },
    {
     "name": "stdout",
     "output_type": "stream",
     "text": [
      "Epoch 38/200, Train Loss: 0.2239, Test Loss: 0.2250\n"
     ]
    },
    {
     "name": "stderr",
     "output_type": "stream",
     "text": [
      "100%|██████████| 22/22 [00:00<00:00, 113.95it/s]\n",
      "100%|██████████| 4/4 [00:00<00:00, 215.76it/s]\n"
     ]
    },
    {
     "name": "stdout",
     "output_type": "stream",
     "text": [
      "Epoch 39/200, Train Loss: 0.2237, Test Loss: 0.2248\n"
     ]
    },
    {
     "name": "stderr",
     "output_type": "stream",
     "text": [
      "100%|██████████| 22/22 [00:00<00:00, 113.32it/s]\n",
      "100%|██████████| 4/4 [00:00<00:00, 216.19it/s]\n"
     ]
    },
    {
     "name": "stdout",
     "output_type": "stream",
     "text": [
      "Epoch 40/200, Train Loss: 0.2236, Test Loss: 0.2247\n"
     ]
    },
    {
     "name": "stderr",
     "output_type": "stream",
     "text": [
      "100%|██████████| 22/22 [00:00<00:00, 100.96it/s]\n",
      "100%|██████████| 4/4 [00:00<00:00, 218.24it/s]\n"
     ]
    },
    {
     "name": "stdout",
     "output_type": "stream",
     "text": [
      "Epoch 41/200, Train Loss: 0.2235, Test Loss: 0.2246\n"
     ]
    },
    {
     "name": "stderr",
     "output_type": "stream",
     "text": [
      "100%|██████████| 22/22 [00:00<00:00, 114.88it/s]\n",
      "100%|██████████| 4/4 [00:00<00:00, 217.93it/s]\n"
     ]
    },
    {
     "name": "stdout",
     "output_type": "stream",
     "text": [
      "Epoch 42/200, Train Loss: 0.2234, Test Loss: 0.2245\n"
     ]
    },
    {
     "name": "stderr",
     "output_type": "stream",
     "text": [
      "100%|██████████| 22/22 [00:00<00:00, 114.08it/s]\n",
      "100%|██████████| 4/4 [00:00<00:00, 220.40it/s]\n"
     ]
    },
    {
     "name": "stdout",
     "output_type": "stream",
     "text": [
      "Epoch 43/200, Train Loss: 0.2233, Test Loss: 0.2244\n"
     ]
    },
    {
     "name": "stderr",
     "output_type": "stream",
     "text": [
      "100%|██████████| 22/22 [00:00<00:00, 115.21it/s]\n",
      "100%|██████████| 4/4 [00:00<00:00, 217.38it/s]\n"
     ]
    },
    {
     "name": "stdout",
     "output_type": "stream",
     "text": [
      "Epoch 44/200, Train Loss: 0.2232, Test Loss: 0.2244\n"
     ]
    },
    {
     "name": "stderr",
     "output_type": "stream",
     "text": [
      "100%|██████████| 22/22 [00:00<00:00, 113.73it/s]\n",
      "100%|██████████| 4/4 [00:00<00:00, 218.50it/s]\n"
     ]
    },
    {
     "name": "stdout",
     "output_type": "stream",
     "text": [
      "Epoch 45/200, Train Loss: 0.2231, Test Loss: 0.2243\n"
     ]
    },
    {
     "name": "stderr",
     "output_type": "stream",
     "text": [
      "100%|██████████| 22/22 [00:00<00:00, 114.09it/s]\n",
      "100%|██████████| 4/4 [00:00<00:00, 218.04it/s]\n"
     ]
    },
    {
     "name": "stdout",
     "output_type": "stream",
     "text": [
      "Epoch 46/200, Train Loss: 0.2230, Test Loss: 0.2242\n"
     ]
    },
    {
     "name": "stderr",
     "output_type": "stream",
     "text": [
      "100%|██████████| 22/22 [00:00<00:00, 115.31it/s]\n",
      "100%|██████████| 4/4 [00:00<00:00, 221.30it/s]\n"
     ]
    },
    {
     "name": "stdout",
     "output_type": "stream",
     "text": [
      "Epoch 47/200, Train Loss: 0.2230, Test Loss: 0.2242\n"
     ]
    },
    {
     "name": "stderr",
     "output_type": "stream",
     "text": [
      "100%|██████████| 22/22 [00:00<00:00, 113.74it/s]\n",
      "100%|██████████| 4/4 [00:00<00:00, 220.76it/s]\n"
     ]
    },
    {
     "name": "stdout",
     "output_type": "stream",
     "text": [
      "Epoch 48/200, Train Loss: 0.2229, Test Loss: 0.2242\n"
     ]
    },
    {
     "name": "stderr",
     "output_type": "stream",
     "text": [
      "100%|██████████| 22/22 [00:00<00:00, 111.07it/s]\n",
      "100%|██████████| 4/4 [00:00<00:00, 199.31it/s]\n"
     ]
    },
    {
     "name": "stdout",
     "output_type": "stream",
     "text": [
      "Epoch 49/200, Train Loss: 0.2229, Test Loss: 0.2241\n"
     ]
    },
    {
     "name": "stderr",
     "output_type": "stream",
     "text": [
      "100%|██████████| 22/22 [00:00<00:00, 102.58it/s]\n",
      "100%|██████████| 4/4 [00:00<00:00, 212.84it/s]\n"
     ]
    },
    {
     "name": "stdout",
     "output_type": "stream",
     "text": [
      "Epoch 50/200, Train Loss: 0.2229, Test Loss: 0.2241\n"
     ]
    },
    {
     "name": "stderr",
     "output_type": "stream",
     "text": [
      "100%|██████████| 22/22 [00:00<00:00, 112.29it/s]\n",
      "100%|██████████| 4/4 [00:00<00:00, 219.17it/s]\n"
     ]
    },
    {
     "name": "stdout",
     "output_type": "stream",
     "text": [
      "Epoch 51/200, Train Loss: 0.2228, Test Loss: 0.2241\n"
     ]
    },
    {
     "name": "stderr",
     "output_type": "stream",
     "text": [
      "100%|██████████| 22/22 [00:00<00:00, 82.34it/s] \n",
      "100%|██████████| 4/4 [00:00<00:00, 187.55it/s]\n"
     ]
    },
    {
     "name": "stdout",
     "output_type": "stream",
     "text": [
      "Epoch 52/200, Train Loss: 0.2228, Test Loss: 0.2240\n"
     ]
    },
    {
     "name": "stderr",
     "output_type": "stream",
     "text": [
      "100%|██████████| 22/22 [00:00<00:00, 108.92it/s]\n",
      "100%|██████████| 4/4 [00:00<00:00, 219.93it/s]\n"
     ]
    },
    {
     "name": "stdout",
     "output_type": "stream",
     "text": [
      "Epoch 53/200, Train Loss: 0.2228, Test Loss: 0.2240\n"
     ]
    },
    {
     "name": "stderr",
     "output_type": "stream",
     "text": [
      "100%|██████████| 22/22 [00:00<00:00, 111.69it/s]\n",
      "100%|██████████| 4/4 [00:00<00:00, 213.17it/s]\n"
     ]
    },
    {
     "name": "stdout",
     "output_type": "stream",
     "text": [
      "Epoch 54/200, Train Loss: 0.2228, Test Loss: 0.2240\n"
     ]
    },
    {
     "name": "stderr",
     "output_type": "stream",
     "text": [
      "100%|██████████| 22/22 [00:00<00:00, 112.51it/s]\n",
      "100%|██████████| 4/4 [00:00<00:00, 218.56it/s]\n"
     ]
    },
    {
     "name": "stdout",
     "output_type": "stream",
     "text": [
      "Epoch 55/200, Train Loss: 0.2227, Test Loss: 0.2240\n"
     ]
    },
    {
     "name": "stderr",
     "output_type": "stream",
     "text": [
      "100%|██████████| 22/22 [00:00<00:00, 112.34it/s]\n",
      "100%|██████████| 4/4 [00:00<00:00, 222.95it/s]\n"
     ]
    },
    {
     "name": "stdout",
     "output_type": "stream",
     "text": [
      "Epoch 56/200, Train Loss: 0.2227, Test Loss: 0.2240\n"
     ]
    },
    {
     "name": "stderr",
     "output_type": "stream",
     "text": [
      "100%|██████████| 22/22 [00:00<00:00, 113.41it/s]\n",
      "100%|██████████| 4/4 [00:00<00:00, 220.20it/s]\n"
     ]
    },
    {
     "name": "stdout",
     "output_type": "stream",
     "text": [
      "Epoch 57/200, Train Loss: 0.2227, Test Loss: 0.2240\n"
     ]
    },
    {
     "name": "stderr",
     "output_type": "stream",
     "text": [
      "100%|██████████| 22/22 [00:00<00:00, 112.77it/s]\n",
      "100%|██████████| 4/4 [00:00<00:00, 218.98it/s]\n"
     ]
    },
    {
     "name": "stdout",
     "output_type": "stream",
     "text": [
      "Epoch 58/200, Train Loss: 0.2227, Test Loss: 0.2240\n"
     ]
    },
    {
     "name": "stderr",
     "output_type": "stream",
     "text": [
      "100%|██████████| 22/22 [00:00<00:00, 112.00it/s]\n",
      "100%|██████████| 4/4 [00:00<00:00, 203.60it/s]\n"
     ]
    },
    {
     "name": "stdout",
     "output_type": "stream",
     "text": [
      "Epoch 59/200, Train Loss: 0.2227, Test Loss: 0.2239\n",
      "No improvement in Test Loss for 1 epoch(s).\n",
      "Current Best Test Loss: 0.2240\n"
     ]
    },
    {
     "name": "stderr",
     "output_type": "stream",
     "text": [
      "100%|██████████| 22/22 [00:00<00:00, 119.74it/s]\n",
      "100%|██████████| 4/4 [00:00<00:00, 218.65it/s]\n"
     ]
    },
    {
     "name": "stdout",
     "output_type": "stream",
     "text": [
      "Epoch 60/200, Train Loss: 0.2227, Test Loss: 0.2239\n"
     ]
    },
    {
     "name": "stderr",
     "output_type": "stream",
     "text": [
      "100%|██████████| 22/22 [00:00<00:00, 113.16it/s]\n",
      "100%|██████████| 4/4 [00:00<00:00, 223.34it/s]\n"
     ]
    },
    {
     "name": "stdout",
     "output_type": "stream",
     "text": [
      "Epoch 61/200, Train Loss: 0.2227, Test Loss: 0.2239\n",
      "No improvement in Test Loss for 1 epoch(s).\n",
      "Current Best Test Loss: 0.2239\n"
     ]
    },
    {
     "name": "stderr",
     "output_type": "stream",
     "text": [
      "100%|██████████| 22/22 [00:00<00:00, 120.20it/s]\n",
      "100%|██████████| 4/4 [00:00<00:00, 221.63it/s]\n"
     ]
    },
    {
     "name": "stdout",
     "output_type": "stream",
     "text": [
      "Epoch 62/200, Train Loss: 0.2227, Test Loss: 0.2239\n"
     ]
    },
    {
     "name": "stderr",
     "output_type": "stream",
     "text": [
      "100%|██████████| 22/22 [00:00<00:00, 113.87it/s]\n",
      "100%|██████████| 4/4 [00:00<00:00, 217.99it/s]\n"
     ]
    },
    {
     "name": "stdout",
     "output_type": "stream",
     "text": [
      "Epoch 63/200, Train Loss: 0.2227, Test Loss: 0.2239\n",
      "No improvement in Test Loss for 1 epoch(s).\n",
      "Current Best Test Loss: 0.2239\n"
     ]
    },
    {
     "name": "stderr",
     "output_type": "stream",
     "text": [
      "100%|██████████| 22/22 [00:00<00:00, 105.04it/s]\n",
      "100%|██████████| 4/4 [00:00<00:00, 139.01it/s]\n"
     ]
    },
    {
     "name": "stdout",
     "output_type": "stream",
     "text": [
      "Epoch 64/200, Train Loss: 0.2227, Test Loss: 0.2239\n"
     ]
    },
    {
     "name": "stderr",
     "output_type": "stream",
     "text": [
      "100%|██████████| 22/22 [00:00<00:00, 89.90it/s]\n",
      "100%|██████████| 4/4 [00:00<00:00, 166.12it/s]\n"
     ]
    },
    {
     "name": "stdout",
     "output_type": "stream",
     "text": [
      "Epoch 65/200, Train Loss: 0.2227, Test Loss: 0.2239\n",
      "No improvement in Test Loss for 1 epoch(s).\n",
      "Current Best Test Loss: 0.2239\n"
     ]
    },
    {
     "name": "stderr",
     "output_type": "stream",
     "text": [
      "100%|██████████| 22/22 [00:00<00:00, 76.78it/s]\n",
      "100%|██████████| 4/4 [00:00<00:00, 145.28it/s]\n"
     ]
    },
    {
     "name": "stdout",
     "output_type": "stream",
     "text": [
      "Epoch 66/200, Train Loss: 0.2227, Test Loss: 0.2239\n",
      "No improvement in Test Loss for 2 epoch(s).\n",
      "Current Best Test Loss: 0.2239\n"
     ]
    },
    {
     "name": "stderr",
     "output_type": "stream",
     "text": [
      "100%|██████████| 22/22 [00:00<00:00, 98.33it/s]\n",
      "100%|██████████| 4/4 [00:00<00:00, 215.47it/s]\n"
     ]
    },
    {
     "name": "stdout",
     "output_type": "stream",
     "text": [
      "Epoch 67/200, Train Loss: 0.2227, Test Loss: 0.2239\n"
     ]
    },
    {
     "name": "stderr",
     "output_type": "stream",
     "text": [
      "100%|██████████| 22/22 [00:00<00:00, 73.78it/s]\n",
      "100%|██████████| 4/4 [00:00<00:00, 192.25it/s]\n"
     ]
    },
    {
     "name": "stdout",
     "output_type": "stream",
     "text": [
      "Epoch 68/200, Train Loss: 0.2226, Test Loss: 0.2239\n",
      "No improvement in Test Loss for 1 epoch(s).\n",
      "Current Best Test Loss: 0.2239\n"
     ]
    },
    {
     "name": "stderr",
     "output_type": "stream",
     "text": [
      "100%|██████████| 22/22 [00:00<00:00, 85.65it/s]\n",
      "100%|██████████| 4/4 [00:00<00:00, 152.86it/s]\n"
     ]
    },
    {
     "name": "stdout",
     "output_type": "stream",
     "text": [
      "Epoch 69/200, Train Loss: 0.2226, Test Loss: 0.2239\n",
      "No improvement in Test Loss for 2 epoch(s).\n",
      "Current Best Test Loss: 0.2239\n"
     ]
    },
    {
     "name": "stderr",
     "output_type": "stream",
     "text": [
      "100%|██████████| 22/22 [00:00<00:00, 87.14it/s]\n",
      "100%|██████████| 4/4 [00:00<00:00, 208.76it/s]\n"
     ]
    },
    {
     "name": "stdout",
     "output_type": "stream",
     "text": [
      "Epoch 70/200, Train Loss: 0.2226, Test Loss: 0.2239\n",
      "No improvement in Test Loss for 3 epoch(s).\n",
      "Current Best Test Loss: 0.2239\n",
      "Early stopping triggered.\n"
     ]
    },
    {
     "name": "stderr",
     "output_type": "stream",
     "text": [
      "100%|██████████| 7/7 [00:00<00:00, 161.17it/s]\n"
     ]
    },
    {
     "name": "stdout",
     "output_type": "stream",
     "text": [
      "Test loss: 0.23715424314698674\n",
      "Test loss baseline: 0.23077988174936717\n"
     ]
    }
   ],
   "source": [
    "rcd_for_plot = {}\n",
    "rcd_for_plot_base_model = {}\n",
    "for shared_background in [0.0, 0.2, 0.4]:\n",
    "    load_data_name = f'/home/qix/user_data/EIF_simulation_dataset/synthetic_data_EIF_conn={str(conn)}_corr={shared_background}.npz'\n",
    "\n",
    "    data = np.load(load_data_name, allow_pickle=True)\n",
    "    spikes = data['spikes']\n",
    "    trial_info = data['trial_info']\n",
    "    I_ext = data['I_ext']\n",
    "    I_syn = data['I_syn']\n",
    "\n",
    "    synthetic_dataloader = Simple_dataloader_from_spikes(\n",
    "        [spikes[:,:nneuron_part,:], spikes[:,nneuron_part:,:]],\n",
    "        npadding=50,\n",
    "        train_ratio=0.7,\n",
    "        val_ratio=0.1,\n",
    "        batch_size=64,\n",
    "        verbose=True\n",
    "    )\n",
    "\n",
    "    FIT_THE_BASELINE_MODEL = False\n",
    "\n",
    "    # data_to_use = cross_session_dataloader\n",
    "    data_to_use = synthetic_dataloader\n",
    "    ckp_path = '/home/qix/user_data/VAETransformer_checkpoint'\n",
    "\n",
    "    params = {\n",
    "        # B-spline basis\n",
    "        'num_B_spline_basis': 20,\n",
    "        # Transformer VAE's settings\n",
    "        'downsample_factor': 10,\n",
    "        'transformer_num_layers': 2,\n",
    "        'transformer_d_model': 128,\n",
    "        'transformer_dim_feedforward': 512,\n",
    "        'transformer_vae_output_dim': 16,\n",
    "        'transformer_dropout': 0.0,\n",
    "        'transformer_nhead': 1,\n",
    "        'stimulus_nfactor': 1,\n",
    "        'stimulus_decoder_inter_dim_factor': 2,\n",
    "        'beta': 1.0,\n",
    "        'use_area_specific_decoder': True,\n",
    "        'use_area_specific_encoder': True,\n",
    "        'use_cls': False,\n",
    "        # Coupling's settings\n",
    "        'coupling_basis_peaks_max': 5,\n",
    "        'coupling_basis_num': 3,\n",
    "        'coupling_nsubspace': 1,\n",
    "        'use_self_coupling': True,\n",
    "        # Coupling strength latent's settings\n",
    "        'K_sigma2': 1.0,\n",
    "        'K_tau': 100,\n",
    "        'coupling_strength_nlatent': 1,\n",
    "        # Self-history's settings\n",
    "        'self_history_basis_peaks_max': 1.5,\n",
    "        'self_history_basis_num': 3,\n",
    "        'self_history_basis_nonlinear': 1,\n",
    "        # Penalty settings\n",
    "        'penalty_smoothing_spline': 1e2,\n",
    "        'penalty_effect_overlapping': None, \n",
    "        'penalty_coupling_subgroup': 1e-4,\n",
    "        'penalty_diff_loading': None,\n",
    "        # Training settings\n",
    "        'batch_size': 64,\n",
    "        'sample_latent': False,\n",
    "        'lr': 1e-3,\n",
    "        'epoch_warm_up': 0,\n",
    "        'epoch_patience': 3,\n",
    "        'epoch_max': 200,\n",
    "        'tol': 1e-5,\n",
    "        'weight_decay': 0,\n",
    "        'lr_transformer': 1e-4,\n",
    "        'lr_sti': 1e-2,\n",
    "        'lr_cp': 1e-2,\n",
    "    }\n",
    "\n",
    "    trainer = Trainer(data_to_use, ckp_path, params)\n",
    "\n",
    "    if FIT_THE_BASELINE_MODEL:\n",
    "        # Baseline model: no trial-varying stimulus effect\n",
    "        trainer.train(\n",
    "            include_stimulus=True,\n",
    "            include_coupling=True,\n",
    "            fix_stimulus=True,\n",
    "            fix_latents=True,\n",
    "            verbose=True,\n",
    "        )\n",
    "\n",
    "    else:\n",
    "        # First step: train the model with a trial-invariant stimulus effect\n",
    "        trainer.train(\n",
    "            include_stimulus=True,\n",
    "            include_coupling=False,\n",
    "            fix_stimulus=True,\n",
    "            fix_latents=True,\n",
    "            verbose=True,\n",
    "        )\n",
    "        # Second step: train the model with a trial-varying stimulus effect\n",
    "        # trainer.make_optimizer(frozen_params=['sti_readout'])\n",
    "        trainer.make_optimizer(frozen_params=['sti_inhomo', ]) # We are fixing the trial-invariant stimulus effect\n",
    "        trainer.train(\n",
    "            include_stimulus=True,\n",
    "            include_coupling=False,\n",
    "            fix_stimulus=False,\n",
    "            fix_latents=True,\n",
    "            verbose=True,\n",
    "        )\n",
    "\n",
    "        trainer.make_optimizer(frozen_params=['transformer_encoder', 'to_latent', 'token_converter'])\n",
    "        # trainer.make_optimizer(frozen_params=[])\n",
    "        trainer.train(\n",
    "            include_stimulus=True,\n",
    "            include_coupling=True,\n",
    "            fix_stimulus=False,\n",
    "            fix_latents=True,\n",
    "            verbose=True,\n",
    "        )\n",
    "\n",
    "\n",
    "    ### Which dataset to use?\n",
    "    loader = trainer.dataloader.test_loader\n",
    "\n",
    "    ###\n",
    "    trainer.model.normalize_coupling_coefficients()\n",
    "    trainer.model.eval()\n",
    "    trainer.model.sample_latent = False\n",
    "    test_loss = 0.0\n",
    "    test_loss_baseline = 0.0\n",
    "    total_trial = 0\n",
    "    test_loss_record = []\n",
    "    with torch.no_grad():\n",
    "        for i, batch in enumerate(tqdm(loader)):\n",
    "            trainer.process_batch(batch)\n",
    "            firing_rate = trainer.model(\n",
    "                batch,\n",
    "                include_stimulus=True,\n",
    "                include_coupling=True,\n",
    "                fix_stimulus=False,\n",
    "                fix_latents=True,\n",
    "            )\n",
    "            loss = trainer.model.loss_function(\n",
    "                firing_rate, \n",
    "                batch[\"spike_trains\"][trainer.npadding:,:,:], \n",
    "                trainer.model.sti_mu, \n",
    "                trainer.model.sti_logvar, \n",
    "                beta=trainer.params['beta']\n",
    "            )\n",
    "            test_loss_record.append(loss.item())\n",
    "            test_loss += loss.item() * batch[\"spike_trains\"].size(2)\n",
    "            total_trial += batch[\"spike_trains\"].size(2)\n",
    "            if i==0 or firing_rate_baseline.shape != batch[\"spike_trains\"][trainer.npadding:,:,:].shape:\n",
    "                firing_rate_baseline = (\n",
    "                    torch.log(torch.clamp(batch[\"spike_trains\"][trainer.npadding:,:,:].mean(dim=(0,2)), min=1e-4))[None,:,None] \\\n",
    "                        * torch.ones_like(batch[\"spike_trains\"][trainer.npadding:,:,:])\n",
    "                )\n",
    "            \n",
    "            loss_baseline = trainer.model.loss_function(\n",
    "                firing_rate_baseline, \n",
    "                batch[\"spike_trains\"][trainer.npadding:,:,:], \n",
    "                trainer.model.sti_mu, \n",
    "                trainer.model.sti_logvar, \n",
    "                beta=trainer.params['beta']\n",
    "            )\n",
    "            test_loss_baseline += loss_baseline.item() * batch[\"spike_trains\"].size(2)\n",
    "\n",
    "    test_loss /= total_trial\n",
    "    test_loss_baseline /= total_trial\n",
    "    print(f\"Test loss: {test_loss}\")\n",
    "    print(f\"Test loss baseline: {test_loss_baseline}\")\n",
    "\n",
    "    firing_rate_test, sti_mu_test, sti_logvar_test, trial_indices, spike_train_test = trainer.predict(\n",
    "        dataset='test',\n",
    "        batch_indices=[0],\n",
    "        include_stimulus=True,\n",
    "        include_coupling=True,\n",
    "        fix_stimulus=False,\n",
    "        fix_latents=True,\n",
    "        return_torch=True,\n",
    "        return_trial_indices=True,\n",
    "        return_spike_trains=True,\n",
    "    )\n",
    "\n",
    "    neuron_indices = np.arange(nneuron_part,nneuron_part+nneuron_coupling)\n",
    "    rcd_for_plot[shared_background] = {\n",
    "        'I_ext': I_ext[:, :, trial_indices][:, neuron_indices, :],\n",
    "        'I_syn': I_syn[:, :, trial_indices][:, neuron_indices, :],\n",
    "        'firing_rates_stimulus': trainer.model.firing_rates_stimulus[:, neuron_indices, :].cpu().numpy().transpose(2,1,0),\n",
    "        'firing_rates_coupling': trainer.model.coupling_outputs_subspace[0][1][:, :nneuron_coupling, :].cpu().numpy().transpose(2,1,0),\n",
    "        'firing_rates_total': firing_rate_test[:, :nneuron_coupling, :].cpu().numpy(),\n",
    "    }\n",
    "\n",
    "\n",
    "    ################## Fit the baseline model ##################\n",
    "    FIT_THE_BASELINE_MODEL = True\n",
    "\n",
    "    # data_to_use = cross_session_dataloader\n",
    "    data_to_use = synthetic_dataloader\n",
    "    ckp_path = '/home/qix/user_data/VAETransformer_checkpoint'\n",
    "\n",
    "    params = {\n",
    "        # B-spline basis\n",
    "        'num_B_spline_basis': 20,\n",
    "        # Transformer VAE's settings\n",
    "        'downsample_factor': 10,\n",
    "        'transformer_num_layers': 2,\n",
    "        'transformer_d_model': 128,\n",
    "        'transformer_dim_feedforward': 512,\n",
    "        'transformer_vae_output_dim': 16,\n",
    "        'transformer_dropout': 0.0,\n",
    "        'transformer_nhead': 1,\n",
    "        'stimulus_nfactor': 1,\n",
    "        'stimulus_decoder_inter_dim_factor': 2,\n",
    "        'beta': 1.0,\n",
    "        'use_area_specific_decoder': True,\n",
    "        'use_area_specific_encoder': True,\n",
    "        'use_cls': False,\n",
    "        # Coupling's settings\n",
    "        'coupling_basis_peaks_max': 5,\n",
    "        'coupling_basis_num': 3,\n",
    "        'coupling_nsubspace': 1,\n",
    "        'use_self_coupling': True,\n",
    "        # Coupling strength latent's settings\n",
    "        'K_sigma2': 1.0,\n",
    "        'K_tau': 100,\n",
    "        'coupling_strength_nlatent': 1,\n",
    "        # Penalty settings\n",
    "        'penalty_smoothing_spline': 1e2,\n",
    "        'penalty_effect_overlapping': None, \n",
    "        'penalty_coupling_subgroup': 1e-4,\n",
    "        'penalty_diff_loading': None,\n",
    "        # Training settings\n",
    "        'batch_size': 64,\n",
    "        'sample_latent': False,\n",
    "        'lr': 1e-3,\n",
    "        'epoch_warm_up': 0,\n",
    "        'epoch_patience': 3,\n",
    "        'epoch_max': 200,\n",
    "        'tol': 1e-5,\n",
    "        'weight_decay': 0,\n",
    "        'lr_transformer': 1e-4,\n",
    "        'lr_sti': 1e-2,\n",
    "        'lr_cp': 1e-2,\n",
    "    }\n",
    "\n",
    "    trainer = Trainer(data_to_use, ckp_path, params)\n",
    "\n",
    "    if FIT_THE_BASELINE_MODEL:\n",
    "        # Baseline model: no trial-varying stimulus effect\n",
    "        trainer.train(\n",
    "            include_stimulus=True,\n",
    "            include_coupling=True,\n",
    "            fix_stimulus=True,\n",
    "            fix_latents=True,\n",
    "            verbose=True,\n",
    "        )\n",
    "\n",
    "    else:\n",
    "        # First step: train the model with a trial-invariant stimulus effect\n",
    "        trainer.train(\n",
    "            include_stimulus=True,\n",
    "            include_coupling=False,\n",
    "            fix_stimulus=True,\n",
    "            fix_latents=True,\n",
    "            verbose=True,\n",
    "        )\n",
    "        # Second step: train the model with a trial-varying stimulus effect\n",
    "        # trainer.make_optimizer(frozen_params=['sti_readout'])\n",
    "        trainer.make_optimizer(frozen_params=['sti_inhomo', ]) # We are fixing the trial-invariant stimulus effect\n",
    "        trainer.train(\n",
    "            include_stimulus=True,\n",
    "            include_coupling=False,\n",
    "            fix_stimulus=False,\n",
    "            fix_latents=True,\n",
    "            verbose=True,\n",
    "        )\n",
    "\n",
    "        trainer.make_optimizer(frozen_params=['transformer_encoder', 'to_latent', 'token_converter'])\n",
    "        # trainer.make_optimizer(frozen_params=[])\n",
    "        trainer.train(\n",
    "            include_stimulus=True,\n",
    "            include_coupling=True,\n",
    "            fix_stimulus=False,\n",
    "            fix_latents=True,\n",
    "            verbose=True,\n",
    "        )\n",
    "\n",
    "\n",
    "    ### Which dataset to use?\n",
    "    loader = trainer.dataloader.test_loader\n",
    "\n",
    "    ###\n",
    "    trainer.model.normalize_coupling_coefficients()\n",
    "    trainer.model.eval()\n",
    "    trainer.model.sample_latent = False\n",
    "    test_loss = 0.0\n",
    "    test_loss_baseline = 0.0\n",
    "    total_trial = 0\n",
    "    test_loss_record = []\n",
    "    with torch.no_grad():\n",
    "        for i, batch in enumerate(tqdm(loader)):\n",
    "            trainer.process_batch(batch)\n",
    "            firing_rate = trainer.model(\n",
    "                batch,\n",
    "                include_stimulus=True,\n",
    "                include_coupling=True,\n",
    "                fix_stimulus=False,\n",
    "                fix_latents=True,\n",
    "            )\n",
    "            loss = trainer.model.loss_function(\n",
    "                firing_rate, \n",
    "                batch[\"spike_trains\"][trainer.npadding:,:,:], \n",
    "                trainer.model.sti_mu, \n",
    "                trainer.model.sti_logvar, \n",
    "                beta=trainer.params['beta']\n",
    "            )\n",
    "            test_loss_record.append(loss.item())\n",
    "            test_loss += loss.item() * batch[\"spike_trains\"].size(2)\n",
    "            total_trial += batch[\"spike_trains\"].size(2)\n",
    "            if i==0 or firing_rate_baseline.shape != batch[\"spike_trains\"][trainer.npadding:,:,:].shape:\n",
    "                firing_rate_baseline = (\n",
    "                    torch.log(torch.clamp(batch[\"spike_trains\"][trainer.npadding:,:,:].mean(dim=(0,2)), min=1e-4))[None,:,None] \\\n",
    "                        * torch.ones_like(batch[\"spike_trains\"][trainer.npadding:,:,:])\n",
    "                )\n",
    "            \n",
    "            loss_baseline = trainer.model.loss_function(\n",
    "                firing_rate_baseline, \n",
    "                batch[\"spike_trains\"][trainer.npadding:,:,:], \n",
    "                trainer.model.sti_mu, \n",
    "                trainer.model.sti_logvar, \n",
    "                beta=trainer.params['beta']\n",
    "            )\n",
    "            test_loss_baseline += loss_baseline.item() * batch[\"spike_trains\"].size(2)\n",
    "\n",
    "    test_loss /= total_trial\n",
    "    test_loss_baseline /= total_trial\n",
    "    print(f\"Test loss: {test_loss}\")\n",
    "    print(f\"Test loss baseline: {test_loss_baseline}\")\n",
    "\n",
    "    firing_rate_test, sti_mu_test, sti_logvar_test, trial_indices, spike_train_test = trainer.predict(\n",
    "        dataset='test',\n",
    "        batch_indices=[0],\n",
    "        include_stimulus=True,\n",
    "        include_coupling=True,\n",
    "        fix_stimulus=False,\n",
    "        fix_latents=True,\n",
    "        return_torch=True,\n",
    "        return_trial_indices=True,\n",
    "        return_spike_trains=True,\n",
    "    )\n",
    "\n",
    "    neuron_indices = np.arange(nneuron_part,nneuron_part+nneuron_coupling)\n",
    "    rcd_for_plot_base_model[shared_background] = {\n",
    "        'I_ext': I_ext[:, :, trial_indices][:, neuron_indices, :],\n",
    "        'I_syn': I_syn[:, :, trial_indices][:, neuron_indices, :],\n",
    "        'firing_rates_stimulus': trainer.model.firing_rates_stimulus[:, neuron_indices, :].cpu().numpy().transpose(2,1,0),\n",
    "        'firing_rates_coupling': trainer.model.coupling_outputs_subspace[0][1][:, :nneuron_coupling, :].cpu().numpy().transpose(2,1,0),\n",
    "        'firing_rates_total': firing_rate_test[:, :nneuron_coupling, :].cpu().numpy(),\n",
    "    }"
   ]
  },
  {
   "cell_type": "code",
   "execution_count": null,
   "metadata": {},
   "outputs": [
    {
     "name": "stdout",
     "output_type": "stream",
     "text": [
      "0.0010793891 0.0010793918 -2.5262126e-09\n",
      "0.0005649388 0.00030779492 0.0002571439\n",
      "0.0011320575 0.001132088 -3.0669618e-08\n",
      "0.00059786555 0.00022152362 0.00037634195\n",
      "0.0011079172 0.0011078884 2.878951e-08\n",
      "0.00058888877 8.293527e-06 0.0005805952\n"
     ]
    },
    {
     "data": {
      "image/png": "[encoded data removed]",
      "text/plain": [
       "<Figure size 900x600 with 1 Axes>"
      ]
     },
     "metadata": {},
     "output_type": "display_data"
    }
   ],
   "source": [
    "shared_background_list = [0.0, 0.2, 0.4]\n",
    "\n",
    "def get_variance_explained_by_coupling_percentage(rcd_for_plot, shared_background):\n",
    "    firing_rates_total = np.exp(rcd_for_plot[shared_background]['firing_rates_total'])\n",
    "    firing_rates_wo_coupling = np.exp(rcd_for_plot[shared_background]['firing_rates_total']-rcd_for_plot[shared_background]['firing_rates_coupling'])\n",
    "    total_variance = firing_rates_total.var(axis=(0,2))\n",
    "    variance_wo_coupling = firing_rates_wo_coupling.var(axis=(0,2))\n",
    "    variance_explained_by_coupling = total_variance - variance_wo_coupling\n",
    "    variance_explained_by_coupling_percentage = variance_explained_by_coupling / total_variance\n",
    "    print(total_variance.mean(), variance_wo_coupling.mean(), variance_explained_by_coupling.mean())\n",
    "    return variance_explained_by_coupling_percentage.mean()\n",
    "\n",
    "fig, ax = plt.subplots(1, 1, figsize=(3, 2), dpi=300)\n",
    "variance_explained_by_coupling_percentage_list = []\n",
    "variance_explained_by_coupling_percentage_list_base_model = []\n",
    "\n",
    "for shared_background in shared_background_list:\n",
    "    variance_explained_by_coupling_percentage_list.append(get_variance_explained_by_coupling_percentage(rcd_for_plot, shared_background))\n",
    "    variance_explained_by_coupling_percentage_list_base_model.append(get_variance_explained_by_coupling_percentage(rcd_for_plot_base_model, shared_background))\n",
    "\n",
    "ax.plot(shared_background_list, variance_explained_by_coupling_percentage_list, 'o-', color='tab:orange', label='Ours')\n",
    "ax.plot(shared_background_list, variance_explained_by_coupling_percentage_list_base_model, 'o-', color='tab:green', label='Ours w/o trial-varying baseline')\n",
    "ax.set_xlabel('Shared Background')\n",
    "ax.set_ylabel('Variance Explained by Coupling')\n",
    "ax.axhline(0.0, color='k', linestyle='--', alpha=0.5, label='Ground Truth')\n",
    "ax.legend()\n",
    "\n",
    "plt.savefig('Figure/Figure4_shared_background.pdf', bbox_inches='tight', dpi=300)"
   ]
  }
 ],
 "metadata": {
  "language_info": {
   "name": "python"
  }
 },
 "nbformat": 4,
 "nbformat_minor": 2
}
