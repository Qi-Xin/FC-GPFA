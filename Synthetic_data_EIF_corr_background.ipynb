{
 "cells": [
  {
   "cell_type": "markdown",
   "metadata": {},
   "source": [
    "# Set up environment"
   ]
  },
  {
   "cell_type": "code",
   "execution_count": 1,
   "metadata": {},
   "outputs": [],
   "source": [
    "%load_ext autoreload\n",
    "%autoreload 2\n",
    "%matplotlib inline"
   ]
  },
  {
   "cell_type": "code",
   "execution_count": 2,
   "metadata": {},
   "outputs": [
    {
     "name": "stdout",
     "output_type": "stream",
     "text": [
      "True\n",
      "12.1\n"
     ]
    }
   ],
   "source": [
    "# Test if GPU is available\n",
    "# Note that CUDA below 12.1 can have bugs\n",
    "import torch\n",
    "print(torch.cuda.is_available())\n",
    "# print(torch.cuda.get_device_name(0))\n",
    "print(torch.version.cuda)\n",
    "device = torch.device(\"cuda\" if torch.cuda.is_available() else \"cpu\")"
   ]
  },
  {
   "cell_type": "code",
   "execution_count": 3,
   "metadata": {},
   "outputs": [],
   "source": [
    "#%% import libraries\n",
    "import os\n",
    "from collections import defaultdict\n",
    "import sys\n",
    "\n",
    "import matplotlib.pyplot as plt\n",
    "import pandas as pd\n",
    "import seaborn as sns\n",
    "import copy\n",
    "import numpy as np\n",
    "import numpy.random\n",
    "from numpy.fft import fft as fft\n",
    "from numpy.fft import ifft as ifft\n",
    "import pickle\n",
    "from sklearn.linear_model import PoissonRegressor\n",
    "from sklearn.model_selection import KFold\n",
    "from sklearn.manifold import TSNE\n",
    "import scipy.stats\n",
    "from scipy.stats import wilcoxon, chi2\n",
    "import scipy.interpolate \n",
    "import scipy.signal\n",
    "from scipy import linalg\n",
    "from scipy.special import rel_entr\n",
    "from tqdm import tqdm\n",
    "import pandas as pd\n",
    "import joblib\n",
    "import logging\n",
    "\n",
    "import statsmodels.api as sm\n",
    "import statsmodels.genmod.generalized_linear_model as smm\n",
    "\n",
    "import torch\n",
    "from torch.autograd import Variable\n",
    "from torch.nn import functional as F\n",
    "import torch.nn as nn\n",
    "import torch.optim as optim"
   ]
  },
  {
   "cell_type": "code",
   "execution_count": 4,
   "metadata": {},
   "outputs": [
    {
     "name": "stderr",
     "output_type": "stream",
     "text": [
      "/home/qix/anaconda3/envs/allen/lib/python3.9/site-packages/tqdm/auto.py:21: TqdmWarning: IProgress not found. Please update jupyter and ipywidgets. See https://ipywidgets.readthedocs.io/en/stable/user_install.html\n",
      "  from .autonotebook import tqdm as notebook_tqdm\n"
     ]
    }
   ],
   "source": [
    "# import my code\n",
    "import utility_functions as utils\n",
    "import GLM\n",
    "from DataLoader import Allen_dataset, Allen_dataloader_multi_session, Simple_dataloader_from_spikes\n",
    "from model_trainer import Trainer\n",
    "\n",
    "utils.set_seed(0)"
   ]
  },
  {
   "cell_type": "markdown",
   "metadata": {},
   "source": [
    "# Generate correlated background but no synapse"
   ]
  },
  {
   "cell_type": "code",
   "execution_count": 5,
   "metadata": {},
   "outputs": [],
   "source": [
    "######### Settings (need to run even if the data is already generated) #########\n",
    "external_input_params = {\n",
    "    \"external_input_type\": \"two_peaks_with_all_varying\",\n",
    "    \"std1\": 10,\n",
    "    \"corr1\": 0.5,\n",
    "    \"std2\": 25,\n",
    "    \"corr2\": 0.5,\n",
    "    \"use_two_modes\": False,\n",
    "    \"gp_time_constant\": 300,\n",
    "    \"gp_amplitude\": 0.05,\n",
    "}\n",
    "\n",
    "conn = 0.0\n",
    "nneuron_coupling = 10\n",
    "nneuron = 100\n",
    "nneuron_part = nneuron//2\n",
    "npadding = 50\n",
    "\n",
    "shared_background_list = [0.0, 0.2, 0.4]\n",
    "nrep = 5"
   ]
  },
  {
   "cell_type": "code",
   "execution_count": 58,
   "metadata": {},
   "outputs": [
    {
     "name": "stderr",
     "output_type": "stream",
     "text": [
      "100%|██████████| 2000/2000 [02:56<00:00, 11.34it/s]\n"
     ]
    }
   ],
   "source": [
    "########## Generate synthetic data (no need to run) ###########\n",
    "\n",
    "for shared_background in shared_background_list:\n",
    "    for rep in range(nrep):\n",
    "        spikes, trial_info, I_ext, I_syn = GLM.EIF_simulator(\n",
    "            ntrial=2000,\n",
    "            nneuron=nneuron,\n",
    "            conn=conn,\n",
    "            nneuron_coupling=nneuron_coupling,\n",
    "            params=external_input_params,\n",
    "            shared_background=shared_background,\n",
    "            no_stimulus=False,\n",
    "            return_trial_info=True,\n",
    "            return_I_ext=True,\n",
    "            return_I_syn=True,\n",
    "        )\n",
    "        file_name = f'/home/qix/user_data/EIF_simulation_dataset/'\\\n",
    "            +f'synthetic_data_EIF_conn={str(conn)}_corr={shared_background}_rep={rep}.npz'\n",
    "        np.savez_compressed(file_name,\n",
    "                            spikes=spikes,\n",
    "                            trial_info=trial_info,\n",
    "                            I_ext=I_ext,\n",
    "                            I_syn=I_syn)\n",
    "\n"
   ]
  },
  {
   "cell_type": "markdown",
   "metadata": {},
   "source": [
    "# Our method and our method abalated"
   ]
  },
  {
   "cell_type": "code",
   "execution_count": 51,
   "metadata": {},
   "outputs": [],
   "source": [
    "def fit_model(data_to_use, FIT_THE_BASELINE_MODEL):\n",
    "\n",
    "    ckp_path = '/home/qix/user_data/VAETransformer_checkpoint'\n",
    "\n",
    "    params = {\n",
    "        # B-spline basis\n",
    "        'num_B_spline_basis': 20,\n",
    "        # Transformer VAE's settings\n",
    "        'downsample_factor': 10,\n",
    "        'transformer_num_layers': 2,\n",
    "        'transformer_d_model': 128,\n",
    "        'transformer_dim_feedforward': 512,\n",
    "        'transformer_vae_output_dim': 16,\n",
    "        'transformer_dropout': 0.0,\n",
    "        'transformer_nhead': 1,\n",
    "        'stimulus_nfactor': 1,\n",
    "        'stimulus_decoder_inter_dim_factor': 2,\n",
    "        'beta': 1.0,\n",
    "        'use_area_specific_decoder': True,\n",
    "        'use_area_specific_encoder': True,\n",
    "        'use_cls': False,\n",
    "        # Coupling's settings\n",
    "        'coupling_basis_peaks_max': 5,\n",
    "        'coupling_basis_num': 3,\n",
    "        'coupling_nsubspace': 1,\n",
    "        'use_self_coupling': True,\n",
    "        # Coupling strength latent's settings\n",
    "        'K_sigma2': 1.0,\n",
    "        'K_tau': 100,\n",
    "        'coupling_strength_nlatent': 1,\n",
    "        # Self-history's settings\n",
    "        'self_history_basis_peaks_max': 1.5,\n",
    "        'self_history_basis_num': 3,\n",
    "        'self_history_basis_nonlinear': 1,\n",
    "        # Penalty settings\n",
    "        'penalty_smoothing_spline': 1e2,\n",
    "        'penalty_coupling_subgroup': 1e-5,\n",
    "        'penalty_diff_loading': None,\n",
    "        'penalty_loading_similarity': None,\n",
    "        # Training settings\n",
    "        'batch_size': 64,\n",
    "        'sample_latent': False,\n",
    "        'lr': 1e-3,\n",
    "        'epoch_warm_up': 0,\n",
    "        'epoch_patience': 3,\n",
    "        'epoch_max': 200,\n",
    "        'tol': 1e-5,\n",
    "        'weight_decay': 0,\n",
    "        'lr_transformer': 1e-4,\n",
    "        'lr_sti': 1e-2,\n",
    "        'lr_cp': 1e-2,\n",
    "        'lr_self_history': 1e-2,\n",
    "    }\n",
    "\n",
    "    trainer = Trainer(data_to_use, ckp_path, params)\n",
    "\n",
    "    if FIT_THE_BASELINE_MODEL:\n",
    "        # Baseline model: no trial-varying stimulus effect\n",
    "        trainer.train(\n",
    "            include_stimulus=True,\n",
    "            include_coupling=True,\n",
    "            fix_stimulus=True,\n",
    "            fix_latents=True,\n",
    "            verbose=True,\n",
    "        )\n",
    "\n",
    "    else:\n",
    "        # First step: train the model with a trial-invariant stimulus effect\n",
    "        trainer.train(\n",
    "            include_stimulus=True,\n",
    "            include_coupling=False,\n",
    "            fix_stimulus=True,\n",
    "            fix_latents=True,\n",
    "            verbose=True,\n",
    "        )\n",
    "        # Second step: train the model with a trial-varying stimulus effect\n",
    "        # trainer.make_optimizer(frozen_params=['sti_readout'])\n",
    "        trainer.make_optimizer(frozen_params=['sti_inhomo', ]) # We are fixing the trial-invariant stimulus effect\n",
    "        trainer.train(\n",
    "            include_stimulus=True,\n",
    "            include_coupling=False,\n",
    "            fix_stimulus=False,\n",
    "            fix_latents=True,\n",
    "            verbose=True,\n",
    "        )\n",
    "\n",
    "        trainer.make_optimizer(frozen_params=['transformer_encoder', 'to_latent', 'token_converter'])\n",
    "        # trainer.make_optimizer(frozen_params=[])\n",
    "        trainer.train(\n",
    "            include_stimulus=True,\n",
    "            include_coupling=True,\n",
    "            fix_stimulus=False,\n",
    "            fix_latents=True,\n",
    "            verbose=True,\n",
    "        )\n",
    "\n",
    "        # trainer.make_optimizer(frozen_params=['transformer_encoder', 'to_latent', 'token_converter'])\n",
    "        trainer.make_optimizer(frozen_params=['transformer_encoder', 'to_latent', 'token_converter',\n",
    "            'sti_readout', 'sti_decoder', 'sti_inhomo', 'cp_latents_readout', 'cp_time_varying_coef_offset', \n",
    "            'cp_beta_coupling', 'cp_weight_sending', 'cp_weight_receiving'])\n",
    "        # trainer.make_optimizer(frozen_params=[])\n",
    "        trainer.train(\n",
    "            include_stimulus=True,\n",
    "            include_coupling=True,\n",
    "            include_self_history=True,\n",
    "            fix_stimulus=False,\n",
    "            fix_latents=True,\n",
    "            verbose=True,\n",
    "            record_results=True,\n",
    "        )\n",
    "\n",
    "\n",
    "    ### Which dataset to use?\n",
    "    loader = trainer.dataloader.test_loader\n",
    "\n",
    "    ###\n",
    "    trainer.model.normalize_coupling_coefficients()\n",
    "    trainer.model.eval()\n",
    "    trainer.model.sample_latent = False\n",
    "    test_loss = 0.0\n",
    "    test_loss_baseline = 0.0\n",
    "    total_trial = 0\n",
    "    test_loss_record = []\n",
    "    with torch.no_grad():\n",
    "        for i, batch in enumerate(tqdm(loader)):\n",
    "            trainer.process_batch(batch)\n",
    "            firing_rate = trainer.model(\n",
    "                batch,\n",
    "                include_stimulus=True,\n",
    "                include_coupling=True,\n",
    "                fix_stimulus=False,\n",
    "                fix_latents=True,\n",
    "            )\n",
    "            loss = trainer.model.loss_function(\n",
    "                firing_rate, \n",
    "                batch[\"spike_trains\"][trainer.npadding:,:,:], \n",
    "                trainer.model.sti_mu, \n",
    "                trainer.model.sti_logvar, \n",
    "                beta=trainer.params['beta']\n",
    "            )\n",
    "            test_loss_record.append(loss.item())\n",
    "            test_loss += loss.item() * batch[\"spike_trains\"].size(2)\n",
    "            total_trial += batch[\"spike_trains\"].size(2)\n",
    "            if i==0 or firing_rate_baseline.shape != batch[\"spike_trains\"][trainer.npadding:,:,:].shape:\n",
    "                firing_rate_baseline = (\n",
    "                    torch.log(torch.clamp(batch[\"spike_trains\"][trainer.npadding:,:,:].mean(dim=(0,2)), min=1e-4))[None,:,None] \\\n",
    "                        * torch.ones_like(batch[\"spike_trains\"][trainer.npadding:,:,:])\n",
    "                )\n",
    "            \n",
    "            loss_baseline = trainer.model.loss_function(\n",
    "                firing_rate_baseline, \n",
    "                batch[\"spike_trains\"][trainer.npadding:,:,:], \n",
    "                trainer.model.sti_mu, \n",
    "                trainer.model.sti_logvar, \n",
    "                beta=trainer.params['beta']\n",
    "            )\n",
    "            test_loss_baseline += loss_baseline.item() * batch[\"spike_trains\"].size(2)\n",
    "\n",
    "    test_loss /= total_trial\n",
    "    test_loss_baseline /= total_trial\n",
    "    print(f\"Test loss: {test_loss}\")\n",
    "    print(f\"Test loss baseline: {test_loss_baseline}\")\n",
    "\n",
    "    firing_rate_test, sti_mu_test, sti_logvar_test, trial_indices, spike_train_test = trainer.predict(\n",
    "        dataset='test',\n",
    "        batch_indices=[0],\n",
    "        include_stimulus=True,\n",
    "        include_coupling=True,\n",
    "        fix_stimulus=False,\n",
    "        fix_latents=True,\n",
    "        return_torch=True,\n",
    "        return_trial_indices=True,\n",
    "        return_spike_trains=True,\n",
    "    )\n",
    "\n",
    "    neuron_indices = np.arange(nneuron_part,nneuron_part+nneuron_part)\n",
    "    return {\n",
    "        'I_ext': I_ext[:, :, trial_indices][:, neuron_indices, :],\n",
    "        'I_syn': I_syn[:, :, trial_indices][:, neuron_indices, :],\n",
    "        'firing_rates_stimulus': trainer.model.firing_rates_stimulus[:, neuron_indices, :].cpu().numpy().transpose(2,1,0),\n",
    "        'firing_rates_coupling': trainer.model.coupling_outputs[0][1][:, :nneuron_part, :].cpu().numpy().transpose(2,1,0),\n",
    "        'firing_rates_total': firing_rate_test[:, :nneuron_part, :].cpu().numpy(),\n",
    "    }"
   ]
  },
  {
   "cell_type": "code",
   "execution_count": 62,
   "metadata": {},
   "outputs": [
    {
     "name": "stderr",
     "output_type": "stream",
     "text": [
      "/home/qix/anaconda3/envs/allen/lib/python3.9/site-packages/torch/nn/modules/transformer.py:379: UserWarning: enable_nested_tensor is True, but self.use_nested_tensor is False because encoder_layer.self_attn.num_heads is odd\n",
      "  warnings.warn(\n"
     ]
    },
    {
     "name": "stdout",
     "output_type": "stream",
     "text": [
      "Model initialized. Training on cuda\n",
      "Start training model with parameters: {'num_B_spline_basis': 20, 'downsample_factor': 10, 'transformer_num_layers': 2, 'transformer_d_model': 128, 'transformer_dim_feedforward': 512, 'transformer_vae_output_dim': 16, 'transformer_dropout': 0.0, 'transformer_nhead': 1, 'stimulus_nfactor': 1, 'stimulus_decoder_inter_dim_factor': 2, 'beta': 1.0, 'use_area_specific_decoder': True, 'use_area_specific_encoder': True, 'use_cls': False, 'coupling_basis_peaks_max': 5, 'coupling_basis_num': 3, 'coupling_nsubspace': 1, 'use_self_coupling': True, 'K_sigma2': 1.0, 'K_tau': 100, 'coupling_strength_nlatent': 1, 'self_history_basis_peaks_max': 1.5, 'self_history_basis_num': 3, 'self_history_basis_nonlinear': 1, 'penalty_smoothing_spline': 100.0, 'penalty_coupling_subgroup': 1e-05, 'penalty_diff_loading': None, 'penalty_loading_similarity': None, 'batch_size': 64, 'sample_latent': False, 'lr': 0.001, 'epoch_warm_up': 0, 'epoch_patience': 3, 'epoch_max': 200, 'tol': 1e-05, 'weight_decay': 0, 'lr_transformer': 0.0001, 'lr_sti': 0.01, 'lr_cp': 0.01, 'lr_self_history': 0.01}\n"
     ]
    },
    {
     "name": "stderr",
     "output_type": "stream",
     "text": [
      "100%|██████████| 22/22 [00:00<00:00, 157.75it/s]\n",
      "100%|██████████| 4/4 [00:00<00:00, 233.26it/s]\n"
     ]
    },
    {
     "name": "stdout",
     "output_type": "stream",
     "text": [
      "Epoch 1/200, Train Loss: 0.8748, Test Loss: 0.7424\n"
     ]
    },
    {
     "name": "stderr",
     "output_type": "stream",
     "text": [
      "100%|██████████| 22/22 [00:00<00:00, 165.79it/s]\n",
      "100%|██████████| 4/4 [00:00<00:00, 209.58it/s]\n"
     ]
    },
    {
     "name": "stdout",
     "output_type": "stream",
     "text": [
      "Epoch 2/200, Train Loss: 0.6207, Test Loss: 0.4988\n"
     ]
    },
    {
     "name": "stderr",
     "output_type": "stream",
     "text": [
      "100%|██████████| 22/22 [00:00<00:00, 155.46it/s]\n",
      "100%|██████████| 4/4 [00:00<00:00, 255.90it/s]\n"
     ]
    },
    {
     "name": "stdout",
     "output_type": "stream",
     "text": [
      "Epoch 3/200, Train Loss: 0.4141, Test Loss: 0.3371\n"
     ]
    },
    {
     "name": "stderr",
     "output_type": "stream",
     "text": [
      "100%|██████████| 22/22 [00:00<00:00, 144.51it/s]\n",
      "100%|██████████| 4/4 [00:00<00:00, 267.33it/s]\n"
     ]
    },
    {
     "name": "stdout",
     "output_type": "stream",
     "text": [
      "Epoch 4/200, Train Loss: 0.3002, Test Loss: 0.2658\n"
     ]
    },
    {
     "name": "stderr",
     "output_type": "stream",
     "text": [
      "100%|██████████| 22/22 [00:00<00:00, 161.45it/s]\n",
      "100%|██████████| 4/4 [00:00<00:00, 272.71it/s]\n"
     ]
    },
    {
     "name": "stdout",
     "output_type": "stream",
     "text": [
      "Epoch 5/200, Train Loss: 0.2553, Test Loss: 0.2400\n"
     ]
    },
    {
     "name": "stderr",
     "output_type": "stream",
     "text": [
      "100%|██████████| 22/22 [00:00<00:00, 158.33it/s]\n",
      "100%|██████████| 4/4 [00:00<00:00, 261.70it/s]\n"
     ]
    },
    {
     "name": "stdout",
     "output_type": "stream",
     "text": [
      "Epoch 6/200, Train Loss: 0.2388, Test Loss: 0.2300\n"
     ]
    },
    {
     "name": "stderr",
     "output_type": "stream",
     "text": [
      "100%|██████████| 22/22 [00:00<00:00, 152.83it/s]\n",
      "100%|██████████| 4/4 [00:00<00:00, 266.76it/s]\n"
     ]
    },
    {
     "name": "stdout",
     "output_type": "stream",
     "text": [
      "Epoch 7/200, Train Loss: 0.2320, Test Loss: 0.2255\n"
     ]
    },
    {
     "name": "stderr",
     "output_type": "stream",
     "text": [
      "100%|██████████| 22/22 [00:00<00:00, 143.93it/s]\n",
      "100%|██████████| 4/4 [00:00<00:00, 240.23it/s]\n"
     ]
    },
    {
     "name": "stdout",
     "output_type": "stream",
     "text": [
      "Epoch 8/200, Train Loss: 0.2288, Test Loss: 0.2232\n"
     ]
    },
    {
     "name": "stderr",
     "output_type": "stream",
     "text": [
      "100%|██████████| 22/22 [00:00<00:00, 149.10it/s]\n",
      "100%|██████████| 4/4 [00:00<00:00, 247.25it/s]\n"
     ]
    },
    {
     "name": "stdout",
     "output_type": "stream",
     "text": [
      "Epoch 9/200, Train Loss: 0.2270, Test Loss: 0.2218\n"
     ]
    },
    {
     "name": "stderr",
     "output_type": "stream",
     "text": [
      "100%|██████████| 22/22 [00:00<00:00, 157.91it/s]\n",
      "100%|██████████| 4/4 [00:00<00:00, 265.61it/s]\n"
     ]
    },
    {
     "name": "stdout",
     "output_type": "stream",
     "text": [
      "Epoch 10/200, Train Loss: 0.2260, Test Loss: 0.2210\n"
     ]
    },
    {
     "name": "stderr",
     "output_type": "stream",
     "text": [
      "100%|██████████| 22/22 [00:00<00:00, 140.61it/s]\n",
      "100%|██████████| 4/4 [00:00<00:00, 262.96it/s]\n"
     ]
    },
    {
     "name": "stdout",
     "output_type": "stream",
     "text": [
      "Epoch 11/200, Train Loss: 0.2254, Test Loss: 0.2205\n"
     ]
    },
    {
     "name": "stderr",
     "output_type": "stream",
     "text": [
      "100%|██████████| 22/22 [00:00<00:00, 140.93it/s]\n",
      "100%|██████████| 4/4 [00:00<00:00, 256.78it/s]\n"
     ]
    },
    {
     "name": "stdout",
     "output_type": "stream",
     "text": [
      "Epoch 12/200, Train Loss: 0.2249, Test Loss: 0.2201\n"
     ]
    },
    {
     "name": "stderr",
     "output_type": "stream",
     "text": [
      "100%|██████████| 22/22 [00:00<00:00, 156.22it/s]\n",
      "100%|██████████| 4/4 [00:00<00:00, 266.28it/s]\n"
     ]
    },
    {
     "name": "stdout",
     "output_type": "stream",
     "text": [
      "Epoch 13/200, Train Loss: 0.2246, Test Loss: 0.2198\n"
     ]
    },
    {
     "name": "stderr",
     "output_type": "stream",
     "text": [
      "100%|██████████| 22/22 [00:00<00:00, 155.54it/s]\n",
      "100%|██████████| 4/4 [00:00<00:00, 266.50it/s]\n"
     ]
    },
    {
     "name": "stdout",
     "output_type": "stream",
     "text": [
      "Epoch 14/200, Train Loss: 0.2244, Test Loss: 0.2196\n"
     ]
    },
    {
     "name": "stderr",
     "output_type": "stream",
     "text": [
      "100%|██████████| 22/22 [00:00<00:00, 157.25it/s]\n",
      "100%|██████████| 4/4 [00:00<00:00, 260.86it/s]\n"
     ]
    },
    {
     "name": "stdout",
     "output_type": "stream",
     "text": [
      "Epoch 15/200, Train Loss: 0.2242, Test Loss: 0.2194\n"
     ]
    },
    {
     "name": "stderr",
     "output_type": "stream",
     "text": [
      "100%|██████████| 22/22 [00:00<00:00, 148.72it/s]\n",
      "100%|██████████| 4/4 [00:00<00:00, 192.97it/s]\n"
     ]
    },
    {
     "name": "stdout",
     "output_type": "stream",
     "text": [
      "Epoch 16/200, Train Loss: 0.2240, Test Loss: 0.2193\n"
     ]
    },
    {
     "name": "stderr",
     "output_type": "stream",
     "text": [
      "100%|██████████| 22/22 [00:00<00:00, 154.92it/s]\n",
      "100%|██████████| 4/4 [00:00<00:00, 266.38it/s]\n"
     ]
    },
    {
     "name": "stdout",
     "output_type": "stream",
     "text": [
      "Epoch 17/200, Train Loss: 0.2239, Test Loss: 0.2192\n"
     ]
    },
    {
     "name": "stderr",
     "output_type": "stream",
     "text": [
      "100%|██████████| 22/22 [00:00<00:00, 155.17it/s]\n",
      "100%|██████████| 4/4 [00:00<00:00, 266.34it/s]\n"
     ]
    },
    {
     "name": "stdout",
     "output_type": "stream",
     "text": [
      "Epoch 18/200, Train Loss: 0.2238, Test Loss: 0.2191\n"
     ]
    },
    {
     "name": "stderr",
     "output_type": "stream",
     "text": [
      "100%|██████████| 22/22 [00:00<00:00, 148.42it/s]\n",
      "100%|██████████| 4/4 [00:00<00:00, 234.63it/s]\n"
     ]
    },
    {
     "name": "stdout",
     "output_type": "stream",
     "text": [
      "Epoch 19/200, Train Loss: 0.2237, Test Loss: 0.2190\n"
     ]
    },
    {
     "name": "stderr",
     "output_type": "stream",
     "text": [
      "100%|██████████| 22/22 [00:00<00:00, 148.98it/s]\n",
      "100%|██████████| 4/4 [00:00<00:00, 266.35it/s]\n"
     ]
    },
    {
     "name": "stdout",
     "output_type": "stream",
     "text": [
      "Epoch 20/200, Train Loss: 0.2236, Test Loss: 0.2189\n"
     ]
    },
    {
     "name": "stderr",
     "output_type": "stream",
     "text": [
      "100%|██████████| 22/22 [00:00<00:00, 157.40it/s]\n",
      "100%|██████████| 4/4 [00:00<00:00, 243.92it/s]\n"
     ]
    },
    {
     "name": "stdout",
     "output_type": "stream",
     "text": [
      "Epoch 21/200, Train Loss: 0.2235, Test Loss: 0.2188\n"
     ]
    },
    {
     "name": "stderr",
     "output_type": "stream",
     "text": [
      "100%|██████████| 22/22 [00:00<00:00, 149.63it/s]\n",
      "100%|██████████| 4/4 [00:00<00:00, 264.40it/s]\n"
     ]
    },
    {
     "name": "stdout",
     "output_type": "stream",
     "text": [
      "Epoch 22/200, Train Loss: 0.2235, Test Loss: 0.2188\n"
     ]
    },
    {
     "name": "stderr",
     "output_type": "stream",
     "text": [
      "100%|██████████| 22/22 [00:00<00:00, 156.94it/s]\n",
      "100%|██████████| 4/4 [00:00<00:00, 266.36it/s]\n"
     ]
    },
    {
     "name": "stdout",
     "output_type": "stream",
     "text": [
      "Epoch 23/200, Train Loss: 0.2234, Test Loss: 0.2187\n"
     ]
    },
    {
     "name": "stderr",
     "output_type": "stream",
     "text": [
      "100%|██████████| 22/22 [00:00<00:00, 156.60it/s]\n",
      "100%|██████████| 4/4 [00:00<00:00, 275.92it/s]\n"
     ]
    },
    {
     "name": "stdout",
     "output_type": "stream",
     "text": [
      "Epoch 24/200, Train Loss: 0.2234, Test Loss: 0.2187\n"
     ]
    },
    {
     "name": "stderr",
     "output_type": "stream",
     "text": [
      "100%|██████████| 22/22 [00:00<00:00, 150.00it/s]\n",
      "100%|██████████| 4/4 [00:00<00:00, 269.58it/s]\n"
     ]
    },
    {
     "name": "stdout",
     "output_type": "stream",
     "text": [
      "Epoch 25/200, Train Loss: 0.2233, Test Loss: 0.2186\n"
     ]
    },
    {
     "name": "stderr",
     "output_type": "stream",
     "text": [
      "100%|██████████| 22/22 [00:00<00:00, 160.08it/s]\n",
      "100%|██████████| 4/4 [00:00<00:00, 232.26it/s]\n"
     ]
    },
    {
     "name": "stdout",
     "output_type": "stream",
     "text": [
      "Epoch 26/200, Train Loss: 0.2233, Test Loss: 0.2186\n"
     ]
    },
    {
     "name": "stderr",
     "output_type": "stream",
     "text": [
      "100%|██████████| 22/22 [00:00<00:00, 162.69it/s]\n",
      "100%|██████████| 4/4 [00:00<00:00, 226.76it/s]\n"
     ]
    },
    {
     "name": "stdout",
     "output_type": "stream",
     "text": [
      "Epoch 27/200, Train Loss: 0.2232, Test Loss: 0.2185\n"
     ]
    },
    {
     "name": "stderr",
     "output_type": "stream",
     "text": [
      "100%|██████████| 22/22 [00:00<00:00, 137.49it/s]\n",
      "100%|██████████| 4/4 [00:00<00:00, 263.32it/s]\n"
     ]
    },
    {
     "name": "stdout",
     "output_type": "stream",
     "text": [
      "Epoch 28/200, Train Loss: 0.2232, Test Loss: 0.2185\n"
     ]
    },
    {
     "name": "stderr",
     "output_type": "stream",
     "text": [
      "100%|██████████| 22/22 [00:00<00:00, 151.44it/s]\n",
      "100%|██████████| 4/4 [00:00<00:00, 257.75it/s]\n"
     ]
    },
    {
     "name": "stdout",
     "output_type": "stream",
     "text": [
      "Epoch 29/200, Train Loss: 0.2231, Test Loss: 0.2185\n"
     ]
    },
    {
     "name": "stderr",
     "output_type": "stream",
     "text": [
      "100%|██████████| 22/22 [00:00<00:00, 163.69it/s]\n",
      "100%|██████████| 4/4 [00:00<00:00, 267.04it/s]\n"
     ]
    },
    {
     "name": "stdout",
     "output_type": "stream",
     "text": [
      "Epoch 30/200, Train Loss: 0.2231, Test Loss: 0.2184\n"
     ]
    },
    {
     "name": "stderr",
     "output_type": "stream",
     "text": [
      "100%|██████████| 22/22 [00:00<00:00, 163.45it/s]\n",
      "100%|██████████| 4/4 [00:00<00:00, 270.76it/s]\n"
     ]
    },
    {
     "name": "stdout",
     "output_type": "stream",
     "text": [
      "Epoch 31/200, Train Loss: 0.2231, Test Loss: 0.2184\n"
     ]
    },
    {
     "name": "stderr",
     "output_type": "stream",
     "text": [
      "100%|██████████| 22/22 [00:00<00:00, 162.85it/s]\n",
      "100%|██████████| 4/4 [00:00<00:00, 266.92it/s]\n"
     ]
    },
    {
     "name": "stdout",
     "output_type": "stream",
     "text": [
      "Epoch 32/200, Train Loss: 0.2230, Test Loss: 0.2184\n"
     ]
    },
    {
     "name": "stderr",
     "output_type": "stream",
     "text": [
      "100%|██████████| 22/22 [00:00<00:00, 159.39it/s]\n",
      "100%|██████████| 4/4 [00:00<00:00, 266.66it/s]\n"
     ]
    },
    {
     "name": "stdout",
     "output_type": "stream",
     "text": [
      "Epoch 33/200, Train Loss: 0.2230, Test Loss: 0.2183\n"
     ]
    },
    {
     "name": "stderr",
     "output_type": "stream",
     "text": [
      "100%|██████████| 22/22 [00:00<00:00, 153.45it/s]\n",
      "100%|██████████| 4/4 [00:00<00:00, 254.75it/s]\n"
     ]
    },
    {
     "name": "stdout",
     "output_type": "stream",
     "text": [
      "Epoch 34/200, Train Loss: 0.2230, Test Loss: 0.2183\n"
     ]
    },
    {
     "name": "stderr",
     "output_type": "stream",
     "text": [
      "100%|██████████| 22/22 [00:00<00:00, 154.89it/s]\n",
      "100%|██████████| 4/4 [00:00<00:00, 226.57it/s]\n"
     ]
    },
    {
     "name": "stdout",
     "output_type": "stream",
     "text": [
      "Epoch 35/200, Train Loss: 0.2230, Test Loss: 0.2183\n"
     ]
    },
    {
     "name": "stderr",
     "output_type": "stream",
     "text": [
      "100%|██████████| 22/22 [00:00<00:00, 139.43it/s]\n",
      "100%|██████████| 4/4 [00:00<00:00, 261.69it/s]\n"
     ]
    },
    {
     "name": "stdout",
     "output_type": "stream",
     "text": [
      "Epoch 36/200, Train Loss: 0.2229, Test Loss: 0.2183\n"
     ]
    },
    {
     "name": "stderr",
     "output_type": "stream",
     "text": [
      "100%|██████████| 22/22 [00:00<00:00, 160.24it/s]\n",
      "100%|██████████| 4/4 [00:00<00:00, 241.70it/s]\n"
     ]
    },
    {
     "name": "stdout",
     "output_type": "stream",
     "text": [
      "Epoch 37/200, Train Loss: 0.2229, Test Loss: 0.2183\n"
     ]
    },
    {
     "name": "stderr",
     "output_type": "stream",
     "text": [
      "100%|██████████| 22/22 [00:00<00:00, 151.11it/s]\n",
      "100%|██████████| 4/4 [00:00<00:00, 268.16it/s]\n"
     ]
    },
    {
     "name": "stdout",
     "output_type": "stream",
     "text": [
      "Epoch 38/200, Train Loss: 0.2229, Test Loss: 0.2182\n"
     ]
    },
    {
     "name": "stderr",
     "output_type": "stream",
     "text": [
      "100%|██████████| 22/22 [00:00<00:00, 141.58it/s]\n",
      "100%|██████████| 4/4 [00:00<00:00, 268.53it/s]\n"
     ]
    },
    {
     "name": "stdout",
     "output_type": "stream",
     "text": [
      "Epoch 39/200, Train Loss: 0.2229, Test Loss: 0.2182\n"
     ]
    },
    {
     "name": "stderr",
     "output_type": "stream",
     "text": [
      "100%|██████████| 22/22 [00:00<00:00, 162.22it/s]\n",
      "100%|██████████| 4/4 [00:00<00:00, 271.13it/s]\n"
     ]
    },
    {
     "name": "stdout",
     "output_type": "stream",
     "text": [
      "Epoch 40/200, Train Loss: 0.2229, Test Loss: 0.2182\n"
     ]
    },
    {
     "name": "stderr",
     "output_type": "stream",
     "text": [
      "100%|██████████| 22/22 [00:00<00:00, 163.52it/s]\n",
      "100%|██████████| 4/4 [00:00<00:00, 239.81it/s]\n"
     ]
    },
    {
     "name": "stdout",
     "output_type": "stream",
     "text": [
      "Epoch 41/200, Train Loss: 0.2229, Test Loss: 0.2182\n"
     ]
    },
    {
     "name": "stderr",
     "output_type": "stream",
     "text": [
      "100%|██████████| 22/22 [00:00<00:00, 162.21it/s]\n",
      "100%|██████████| 4/4 [00:00<00:00, 264.19it/s]\n"
     ]
    },
    {
     "name": "stdout",
     "output_type": "stream",
     "text": [
      "Epoch 42/200, Train Loss: 0.2228, Test Loss: 0.2182\n"
     ]
    },
    {
     "name": "stderr",
     "output_type": "stream",
     "text": [
      "100%|██████████| 22/22 [00:00<00:00, 145.06it/s]\n",
      "100%|██████████| 4/4 [00:00<00:00, 210.46it/s]\n"
     ]
    },
    {
     "name": "stdout",
     "output_type": "stream",
     "text": [
      "Epoch 43/200, Train Loss: 0.2228, Test Loss: 0.2182\n"
     ]
    },
    {
     "name": "stderr",
     "output_type": "stream",
     "text": [
      "100%|██████████| 22/22 [00:00<00:00, 157.54it/s]\n",
      "100%|██████████| 4/4 [00:00<00:00, 269.07it/s]\n"
     ]
    },
    {
     "name": "stdout",
     "output_type": "stream",
     "text": [
      "Epoch 44/200, Train Loss: 0.2228, Test Loss: 0.2182\n"
     ]
    },
    {
     "name": "stderr",
     "output_type": "stream",
     "text": [
      "100%|██████████| 22/22 [00:00<00:00, 155.53it/s]\n",
      "100%|██████████| 4/4 [00:00<00:00, 259.09it/s]\n"
     ]
    },
    {
     "name": "stdout",
     "output_type": "stream",
     "text": [
      "Epoch 45/200, Train Loss: 0.2228, Test Loss: 0.2181\n"
     ]
    },
    {
     "name": "stderr",
     "output_type": "stream",
     "text": [
      "100%|██████████| 22/22 [00:00<00:00, 148.81it/s]\n",
      "100%|██████████| 4/4 [00:00<00:00, 269.72it/s]\n"
     ]
    },
    {
     "name": "stdout",
     "output_type": "stream",
     "text": [
      "Epoch 46/200, Train Loss: 0.2228, Test Loss: 0.2181\n"
     ]
    },
    {
     "name": "stderr",
     "output_type": "stream",
     "text": [
      "100%|██████████| 22/22 [00:00<00:00, 158.90it/s]\n",
      "100%|██████████| 4/4 [00:00<00:00, 237.35it/s]\n"
     ]
    },
    {
     "name": "stdout",
     "output_type": "stream",
     "text": [
      "Epoch 47/200, Train Loss: 0.2228, Test Loss: 0.2181\n"
     ]
    },
    {
     "name": "stderr",
     "output_type": "stream",
     "text": [
      "100%|██████████| 22/22 [00:00<00:00, 156.54it/s]\n",
      "100%|██████████| 4/4 [00:00<00:00, 274.54it/s]\n"
     ]
    },
    {
     "name": "stdout",
     "output_type": "stream",
     "text": [
      "Epoch 48/200, Train Loss: 0.2228, Test Loss: 0.2181\n",
      "No improvement in Test Loss for 1 epoch(s).\n",
      "Current Best Test Loss: 0.2181\n"
     ]
    },
    {
     "name": "stderr",
     "output_type": "stream",
     "text": [
      "100%|██████████| 22/22 [00:00<00:00, 159.42it/s]\n",
      "100%|██████████| 4/4 [00:00<00:00, 263.25it/s]\n"
     ]
    },
    {
     "name": "stdout",
     "output_type": "stream",
     "text": [
      "Epoch 49/200, Train Loss: 0.2228, Test Loss: 0.2181\n"
     ]
    },
    {
     "name": "stderr",
     "output_type": "stream",
     "text": [
      "100%|██████████| 22/22 [00:00<00:00, 160.87it/s]\n",
      "100%|██████████| 4/4 [00:00<00:00, 261.08it/s]\n"
     ]
    },
    {
     "name": "stdout",
     "output_type": "stream",
     "text": [
      "Epoch 50/200, Train Loss: 0.2227, Test Loss: 0.2181\n",
      "No improvement in Test Loss for 1 epoch(s).\n",
      "Current Best Test Loss: 0.2181\n"
     ]
    },
    {
     "name": "stderr",
     "output_type": "stream",
     "text": [
      "100%|██████████| 22/22 [00:00<00:00, 155.85it/s]\n",
      "100%|██████████| 4/4 [00:00<00:00, 264.72it/s]\n"
     ]
    },
    {
     "name": "stdout",
     "output_type": "stream",
     "text": [
      "Epoch 51/200, Train Loss: 0.2227, Test Loss: 0.2181\n"
     ]
    },
    {
     "name": "stderr",
     "output_type": "stream",
     "text": [
      "100%|██████████| 22/22 [00:00<00:00, 157.45it/s]\n",
      "100%|██████████| 4/4 [00:00<00:00, 267.63it/s]\n"
     ]
    },
    {
     "name": "stdout",
     "output_type": "stream",
     "text": [
      "Epoch 52/200, Train Loss: 0.2227, Test Loss: 0.2181\n",
      "No improvement in Test Loss for 1 epoch(s).\n",
      "Current Best Test Loss: 0.2181\n"
     ]
    },
    {
     "name": "stderr",
     "output_type": "stream",
     "text": [
      "100%|██████████| 22/22 [00:00<00:00, 158.44it/s]\n",
      "100%|██████████| 4/4 [00:00<00:00, 270.39it/s]\n"
     ]
    },
    {
     "name": "stdout",
     "output_type": "stream",
     "text": [
      "Epoch 53/200, Train Loss: 0.2227, Test Loss: 0.2181\n"
     ]
    },
    {
     "name": "stderr",
     "output_type": "stream",
     "text": [
      "100%|██████████| 22/22 [00:00<00:00, 149.64it/s]\n",
      "100%|██████████| 4/4 [00:00<00:00, 259.83it/s]\n"
     ]
    },
    {
     "name": "stdout",
     "output_type": "stream",
     "text": [
      "Epoch 54/200, Train Loss: 0.2227, Test Loss: 0.2181\n",
      "No improvement in Test Loss for 1 epoch(s).\n",
      "Current Best Test Loss: 0.2181\n"
     ]
    },
    {
     "name": "stderr",
     "output_type": "stream",
     "text": [
      "100%|██████████| 22/22 [00:00<00:00, 159.75it/s]\n",
      "100%|██████████| 4/4 [00:00<00:00, 274.80it/s]\n"
     ]
    },
    {
     "name": "stdout",
     "output_type": "stream",
     "text": [
      "Epoch 55/200, Train Loss: 0.2227, Test Loss: 0.2181\n"
     ]
    },
    {
     "name": "stderr",
     "output_type": "stream",
     "text": [
      "100%|██████████| 22/22 [00:00<00:00, 158.97it/s]\n",
      "100%|██████████| 4/4 [00:00<00:00, 261.88it/s]\n"
     ]
    },
    {
     "name": "stdout",
     "output_type": "stream",
     "text": [
      "Epoch 56/200, Train Loss: 0.2227, Test Loss: 0.2180\n",
      "No improvement in Test Loss for 1 epoch(s).\n",
      "Current Best Test Loss: 0.2181\n"
     ]
    },
    {
     "name": "stderr",
     "output_type": "stream",
     "text": [
      "100%|██████████| 22/22 [00:00<00:00, 163.03it/s]\n",
      "100%|██████████| 4/4 [00:00<00:00, 263.54it/s]\n"
     ]
    },
    {
     "name": "stdout",
     "output_type": "stream",
     "text": [
      "Epoch 57/200, Train Loss: 0.2227, Test Loss: 0.2180\n"
     ]
    },
    {
     "name": "stderr",
     "output_type": "stream",
     "text": [
      "100%|██████████| 22/22 [00:00<00:00, 161.13it/s]\n",
      "100%|██████████| 4/4 [00:00<00:00, 267.58it/s]\n"
     ]
    },
    {
     "name": "stdout",
     "output_type": "stream",
     "text": [
      "Epoch 58/200, Train Loss: 0.2227, Test Loss: 0.2180\n",
      "No improvement in Test Loss for 1 epoch(s).\n",
      "Current Best Test Loss: 0.2180\n"
     ]
    },
    {
     "name": "stderr",
     "output_type": "stream",
     "text": [
      "100%|██████████| 22/22 [00:00<00:00, 159.30it/s]\n",
      "100%|██████████| 4/4 [00:00<00:00, 268.42it/s]\n"
     ]
    },
    {
     "name": "stdout",
     "output_type": "stream",
     "text": [
      "Epoch 59/200, Train Loss: 0.2227, Test Loss: 0.2180\n"
     ]
    },
    {
     "name": "stderr",
     "output_type": "stream",
     "text": [
      "100%|██████████| 22/22 [00:00<00:00, 161.00it/s]\n",
      "100%|██████████| 4/4 [00:00<00:00, 263.59it/s]\n"
     ]
    },
    {
     "name": "stdout",
     "output_type": "stream",
     "text": [
      "Epoch 60/200, Train Loss: 0.2227, Test Loss: 0.2180\n",
      "No improvement in Test Loss for 1 epoch(s).\n",
      "Current Best Test Loss: 0.2180\n"
     ]
    },
    {
     "name": "stderr",
     "output_type": "stream",
     "text": [
      "100%|██████████| 22/22 [00:00<00:00, 128.16it/s]\n",
      "100%|██████████| 4/4 [00:00<00:00, 235.36it/s]\n"
     ]
    },
    {
     "name": "stdout",
     "output_type": "stream",
     "text": [
      "Epoch 61/200, Train Loss: 0.2227, Test Loss: 0.2180\n"
     ]
    },
    {
     "name": "stderr",
     "output_type": "stream",
     "text": [
      "100%|██████████| 22/22 [00:00<00:00, 160.54it/s]\n",
      "100%|██████████| 4/4 [00:00<00:00, 259.97it/s]\n"
     ]
    },
    {
     "name": "stdout",
     "output_type": "stream",
     "text": [
      "Epoch 62/200, Train Loss: 0.2227, Test Loss: 0.2180\n",
      "No improvement in Test Loss for 1 epoch(s).\n",
      "Current Best Test Loss: 0.2180\n"
     ]
    },
    {
     "name": "stderr",
     "output_type": "stream",
     "text": [
      "100%|██████████| 22/22 [00:00<00:00, 160.49it/s]\n",
      "100%|██████████| 4/4 [00:00<00:00, 264.85it/s]\n"
     ]
    },
    {
     "name": "stdout",
     "output_type": "stream",
     "text": [
      "Epoch 63/200, Train Loss: 0.2227, Test Loss: 0.2180\n"
     ]
    },
    {
     "name": "stderr",
     "output_type": "stream",
     "text": [
      "100%|██████████| 22/22 [00:00<00:00, 149.87it/s]\n",
      "100%|██████████| 4/4 [00:00<00:00, 211.08it/s]\n"
     ]
    },
    {
     "name": "stdout",
     "output_type": "stream",
     "text": [
      "Epoch 64/200, Train Loss: 0.2226, Test Loss: 0.2180\n",
      "No improvement in Test Loss for 1 epoch(s).\n",
      "Current Best Test Loss: 0.2180\n"
     ]
    },
    {
     "name": "stderr",
     "output_type": "stream",
     "text": [
      "100%|██████████| 22/22 [00:00<00:00, 150.35it/s]\n",
      "100%|██████████| 4/4 [00:00<00:00, 257.77it/s]\n"
     ]
    },
    {
     "name": "stdout",
     "output_type": "stream",
     "text": [
      "Epoch 65/200, Train Loss: 0.2226, Test Loss: 0.2180\n"
     ]
    },
    {
     "name": "stderr",
     "output_type": "stream",
     "text": [
      "100%|██████████| 22/22 [00:00<00:00, 152.13it/s]\n",
      "100%|██████████| 4/4 [00:00<00:00, 253.08it/s]\n"
     ]
    },
    {
     "name": "stdout",
     "output_type": "stream",
     "text": [
      "Epoch 66/200, Train Loss: 0.2226, Test Loss: 0.2180\n",
      "No improvement in Test Loss for 1 epoch(s).\n",
      "Current Best Test Loss: 0.2180\n"
     ]
    },
    {
     "name": "stderr",
     "output_type": "stream",
     "text": [
      "100%|██████████| 22/22 [00:00<00:00, 148.50it/s]\n",
      "100%|██████████| 4/4 [00:00<00:00, 242.03it/s]\n"
     ]
    },
    {
     "name": "stdout",
     "output_type": "stream",
     "text": [
      "Epoch 67/200, Train Loss: 0.2226, Test Loss: 0.2180\n"
     ]
    },
    {
     "name": "stderr",
     "output_type": "stream",
     "text": [
      "100%|██████████| 22/22 [00:00<00:00, 153.48it/s]\n",
      "100%|██████████| 4/4 [00:00<00:00, 241.63it/s]\n"
     ]
    },
    {
     "name": "stdout",
     "output_type": "stream",
     "text": [
      "Epoch 68/200, Train Loss: 0.2226, Test Loss: 0.2180\n",
      "No improvement in Test Loss for 1 epoch(s).\n",
      "Current Best Test Loss: 0.2180\n"
     ]
    },
    {
     "name": "stderr",
     "output_type": "stream",
     "text": [
      "100%|██████████| 22/22 [00:00<00:00, 160.28it/s]\n",
      "100%|██████████| 4/4 [00:00<00:00, 271.26it/s]\n"
     ]
    },
    {
     "name": "stdout",
     "output_type": "stream",
     "text": [
      "Epoch 69/200, Train Loss: 0.2226, Test Loss: 0.2180\n"
     ]
    },
    {
     "name": "stderr",
     "output_type": "stream",
     "text": [
      "100%|██████████| 22/22 [00:00<00:00, 155.91it/s]\n",
      "100%|██████████| 4/4 [00:00<00:00, 264.32it/s]\n"
     ]
    },
    {
     "name": "stdout",
     "output_type": "stream",
     "text": [
      "Epoch 70/200, Train Loss: 0.2226, Test Loss: 0.2180\n",
      "No improvement in Test Loss for 1 epoch(s).\n",
      "Current Best Test Loss: 0.2180\n"
     ]
    },
    {
     "name": "stderr",
     "output_type": "stream",
     "text": [
      "100%|██████████| 22/22 [00:00<00:00, 164.70it/s]\n",
      "100%|██████████| 4/4 [00:00<00:00, 266.35it/s]\n"
     ]
    },
    {
     "name": "stdout",
     "output_type": "stream",
     "text": [
      "Epoch 71/200, Train Loss: 0.2226, Test Loss: 0.2179\n"
     ]
    },
    {
     "name": "stderr",
     "output_type": "stream",
     "text": [
      "100%|██████████| 22/22 [00:00<00:00, 164.11it/s]\n",
      "100%|██████████| 4/4 [00:00<00:00, 258.17it/s]\n"
     ]
    },
    {
     "name": "stdout",
     "output_type": "stream",
     "text": [
      "Epoch 72/200, Train Loss: 0.2226, Test Loss: 0.2179\n",
      "No improvement in Test Loss for 1 epoch(s).\n",
      "Current Best Test Loss: 0.2179\n"
     ]
    },
    {
     "name": "stderr",
     "output_type": "stream",
     "text": [
      "100%|██████████| 22/22 [00:00<00:00, 160.33it/s]\n",
      "100%|██████████| 4/4 [00:00<00:00, 268.75it/s]\n"
     ]
    },
    {
     "name": "stdout",
     "output_type": "stream",
     "text": [
      "Epoch 73/200, Train Loss: 0.2226, Test Loss: 0.2179\n"
     ]
    },
    {
     "name": "stderr",
     "output_type": "stream",
     "text": [
      "100%|██████████| 22/22 [00:00<00:00, 162.90it/s]\n",
      "100%|██████████| 4/4 [00:00<00:00, 266.99it/s]\n"
     ]
    },
    {
     "name": "stdout",
     "output_type": "stream",
     "text": [
      "Epoch 74/200, Train Loss: 0.2226, Test Loss: 0.2179\n",
      "No improvement in Test Loss for 1 epoch(s).\n",
      "Current Best Test Loss: 0.2179\n"
     ]
    },
    {
     "name": "stderr",
     "output_type": "stream",
     "text": [
      "100%|██████████| 22/22 [00:00<00:00, 157.24it/s]\n",
      "100%|██████████| 4/4 [00:00<00:00, 262.36it/s]\n"
     ]
    },
    {
     "name": "stdout",
     "output_type": "stream",
     "text": [
      "Epoch 75/200, Train Loss: 0.2226, Test Loss: 0.2179\n"
     ]
    },
    {
     "name": "stderr",
     "output_type": "stream",
     "text": [
      "100%|██████████| 22/22 [00:00<00:00, 153.02it/s]\n",
      "100%|██████████| 4/4 [00:00<00:00, 267.78it/s]\n"
     ]
    },
    {
     "name": "stdout",
     "output_type": "stream",
     "text": [
      "Epoch 76/200, Train Loss: 0.2226, Test Loss: 0.2179\n",
      "No improvement in Test Loss for 1 epoch(s).\n",
      "Current Best Test Loss: 0.2179\n"
     ]
    },
    {
     "name": "stderr",
     "output_type": "stream",
     "text": [
      "100%|██████████| 22/22 [00:00<00:00, 153.35it/s]\n",
      "100%|██████████| 4/4 [00:00<00:00, 258.85it/s]\n"
     ]
    },
    {
     "name": "stdout",
     "output_type": "stream",
     "text": [
      "Epoch 77/200, Train Loss: 0.2226, Test Loss: 0.2179\n"
     ]
    },
    {
     "name": "stderr",
     "output_type": "stream",
     "text": [
      "100%|██████████| 22/22 [00:00<00:00, 161.07it/s]\n",
      "100%|██████████| 4/4 [00:00<00:00, 260.22it/s]\n"
     ]
    },
    {
     "name": "stdout",
     "output_type": "stream",
     "text": [
      "Epoch 78/200, Train Loss: 0.2226, Test Loss: 0.2179\n",
      "No improvement in Test Loss for 1 epoch(s).\n",
      "Current Best Test Loss: 0.2179\n"
     ]
    },
    {
     "name": "stderr",
     "output_type": "stream",
     "text": [
      "100%|██████████| 22/22 [00:00<00:00, 155.30it/s]\n",
      "100%|██████████| 4/4 [00:00<00:00, 256.55it/s]\n"
     ]
    },
    {
     "name": "stdout",
     "output_type": "stream",
     "text": [
      "Epoch 79/200, Train Loss: 0.2226, Test Loss: 0.2179\n"
     ]
    },
    {
     "name": "stderr",
     "output_type": "stream",
     "text": [
      "100%|██████████| 22/22 [00:00<00:00, 148.89it/s]\n",
      "100%|██████████| 4/4 [00:00<00:00, 244.40it/s]\n"
     ]
    },
    {
     "name": "stdout",
     "output_type": "stream",
     "text": [
      "Epoch 80/200, Train Loss: 0.2226, Test Loss: 0.2179\n",
      "No improvement in Test Loss for 1 epoch(s).\n",
      "Current Best Test Loss: 0.2179\n"
     ]
    },
    {
     "name": "stderr",
     "output_type": "stream",
     "text": [
      "100%|██████████| 22/22 [00:00<00:00, 155.83it/s]\n",
      "100%|██████████| 4/4 [00:00<00:00, 272.96it/s]\n"
     ]
    },
    {
     "name": "stdout",
     "output_type": "stream",
     "text": [
      "Epoch 81/200, Train Loss: 0.2226, Test Loss: 0.2179\n"
     ]
    },
    {
     "name": "stderr",
     "output_type": "stream",
     "text": [
      "100%|██████████| 22/22 [00:00<00:00, 148.22it/s]\n",
      "100%|██████████| 4/4 [00:00<00:00, 273.27it/s]\n"
     ]
    },
    {
     "name": "stdout",
     "output_type": "stream",
     "text": [
      "Epoch 82/200, Train Loss: 0.2226, Test Loss: 0.2179\n",
      "No improvement in Test Loss for 1 epoch(s).\n",
      "Current Best Test Loss: 0.2179\n"
     ]
    },
    {
     "name": "stderr",
     "output_type": "stream",
     "text": [
      "100%|██████████| 22/22 [00:00<00:00, 152.09it/s]\n",
      "100%|██████████| 4/4 [00:00<00:00, 172.88it/s]\n"
     ]
    },
    {
     "name": "stdout",
     "output_type": "stream",
     "text": [
      "Epoch 83/200, Train Loss: 0.2225, Test Loss: 0.2179\n"
     ]
    },
    {
     "name": "stderr",
     "output_type": "stream",
     "text": [
      "100%|██████████| 22/22 [00:00<00:00, 164.45it/s]\n",
      "100%|██████████| 4/4 [00:00<00:00, 269.83it/s]\n"
     ]
    },
    {
     "name": "stdout",
     "output_type": "stream",
     "text": [
      "Epoch 84/200, Train Loss: 0.2225, Test Loss: 0.2179\n",
      "No improvement in Test Loss for 1 epoch(s).\n",
      "Current Best Test Loss: 0.2179\n"
     ]
    },
    {
     "name": "stderr",
     "output_type": "stream",
     "text": [
      "100%|██████████| 22/22 [00:00<00:00, 137.03it/s]\n",
      "100%|██████████| 4/4 [00:00<00:00, 176.89it/s]\n"
     ]
    },
    {
     "name": "stdout",
     "output_type": "stream",
     "text": [
      "Epoch 85/200, Train Loss: 0.2225, Test Loss: 0.2179\n"
     ]
    },
    {
     "name": "stderr",
     "output_type": "stream",
     "text": [
      "100%|██████████| 22/22 [00:00<00:00, 155.75it/s]\n",
      "100%|██████████| 4/4 [00:00<00:00, 251.45it/s]\n"
     ]
    },
    {
     "name": "stdout",
     "output_type": "stream",
     "text": [
      "Epoch 86/200, Train Loss: 0.2225, Test Loss: 0.2179\n",
      "No improvement in Test Loss for 1 epoch(s).\n",
      "Current Best Test Loss: 0.2179\n"
     ]
    },
    {
     "name": "stderr",
     "output_type": "stream",
     "text": [
      "100%|██████████| 22/22 [00:00<00:00, 159.95it/s]\n",
      "100%|██████████| 4/4 [00:00<00:00, 269.61it/s]\n"
     ]
    },
    {
     "name": "stdout",
     "output_type": "stream",
     "text": [
      "Epoch 87/200, Train Loss: 0.2225, Test Loss: 0.2179\n"
     ]
    },
    {
     "name": "stderr",
     "output_type": "stream",
     "text": [
      "100%|██████████| 22/22 [00:00<00:00, 156.95it/s]\n",
      "100%|██████████| 4/4 [00:00<00:00, 259.69it/s]\n"
     ]
    },
    {
     "name": "stdout",
     "output_type": "stream",
     "text": [
      "Epoch 88/200, Train Loss: 0.2225, Test Loss: 0.2179\n",
      "No improvement in Test Loss for 1 epoch(s).\n",
      "Current Best Test Loss: 0.2179\n"
     ]
    },
    {
     "name": "stderr",
     "output_type": "stream",
     "text": [
      "100%|██████████| 22/22 [00:00<00:00, 157.39it/s]\n",
      "100%|██████████| 4/4 [00:00<00:00, 266.17it/s]\n"
     ]
    },
    {
     "name": "stdout",
     "output_type": "stream",
     "text": [
      "Epoch 89/200, Train Loss: 0.2225, Test Loss: 0.2179\n",
      "No improvement in Test Loss for 2 epoch(s).\n",
      "Current Best Test Loss: 0.2179\n"
     ]
    },
    {
     "name": "stderr",
     "output_type": "stream",
     "text": [
      "100%|██████████| 22/22 [00:00<00:00, 151.32it/s]\n",
      "100%|██████████| 4/4 [00:00<00:00, 267.83it/s]\n"
     ]
    },
    {
     "name": "stdout",
     "output_type": "stream",
     "text": [
      "Epoch 90/200, Train Loss: 0.2225, Test Loss: 0.2178\n"
     ]
    },
    {
     "name": "stderr",
     "output_type": "stream",
     "text": [
      "100%|██████████| 22/22 [00:00<00:00, 153.29it/s]\n",
      "100%|██████████| 4/4 [00:00<00:00, 199.40it/s]\n"
     ]
    },
    {
     "name": "stdout",
     "output_type": "stream",
     "text": [
      "Epoch 91/200, Train Loss: 0.2225, Test Loss: 0.2178\n",
      "No improvement in Test Loss for 1 epoch(s).\n",
      "Current Best Test Loss: 0.2178\n"
     ]
    },
    {
     "name": "stderr",
     "output_type": "stream",
     "text": [
      "100%|██████████| 22/22 [00:00<00:00, 154.23it/s]\n",
      "100%|██████████| 4/4 [00:00<00:00, 228.87it/s]\n"
     ]
    },
    {
     "name": "stdout",
     "output_type": "stream",
     "text": [
      "Epoch 92/200, Train Loss: 0.2225, Test Loss: 0.2178\n",
      "No improvement in Test Loss for 2 epoch(s).\n",
      "Current Best Test Loss: 0.2178\n"
     ]
    },
    {
     "name": "stderr",
     "output_type": "stream",
     "text": [
      "100%|██████████| 22/22 [00:00<00:00, 154.45it/s]\n",
      "100%|██████████| 4/4 [00:00<00:00, 268.57it/s]\n"
     ]
    },
    {
     "name": "stdout",
     "output_type": "stream",
     "text": [
      "Epoch 93/200, Train Loss: 0.2225, Test Loss: 0.2178\n"
     ]
    },
    {
     "name": "stderr",
     "output_type": "stream",
     "text": [
      "100%|██████████| 22/22 [00:00<00:00, 159.74it/s]\n",
      "100%|██████████| 4/4 [00:00<00:00, 248.27it/s]\n"
     ]
    },
    {
     "name": "stdout",
     "output_type": "stream",
     "text": [
      "Epoch 94/200, Train Loss: 0.2225, Test Loss: 0.2178\n",
      "No improvement in Test Loss for 1 epoch(s).\n",
      "Current Best Test Loss: 0.2178\n"
     ]
    },
    {
     "name": "stderr",
     "output_type": "stream",
     "text": [
      "100%|██████████| 22/22 [00:00<00:00, 148.95it/s]\n",
      "100%|██████████| 4/4 [00:00<00:00, 268.65it/s]\n"
     ]
    },
    {
     "name": "stdout",
     "output_type": "stream",
     "text": [
      "Epoch 95/200, Train Loss: 0.2225, Test Loss: 0.2178\n",
      "No improvement in Test Loss for 2 epoch(s).\n",
      "Current Best Test Loss: 0.2178\n"
     ]
    },
    {
     "name": "stderr",
     "output_type": "stream",
     "text": [
      "100%|██████████| 22/22 [00:00<00:00, 147.12it/s]\n",
      "100%|██████████| 4/4 [00:00<00:00, 272.71it/s]\n"
     ]
    },
    {
     "name": "stdout",
     "output_type": "stream",
     "text": [
      "Epoch 96/200, Train Loss: 0.2225, Test Loss: 0.2178\n"
     ]
    },
    {
     "name": "stderr",
     "output_type": "stream",
     "text": [
      "100%|██████████| 22/22 [00:00<00:00, 150.27it/s]\n",
      "100%|██████████| 4/4 [00:00<00:00, 223.73it/s]\n"
     ]
    },
    {
     "name": "stdout",
     "output_type": "stream",
     "text": [
      "Epoch 97/200, Train Loss: 0.2225, Test Loss: 0.2178\n",
      "No improvement in Test Loss for 1 epoch(s).\n",
      "Current Best Test Loss: 0.2178\n"
     ]
    },
    {
     "name": "stderr",
     "output_type": "stream",
     "text": [
      "100%|██████████| 22/22 [00:00<00:00, 146.40it/s]\n",
      "100%|██████████| 4/4 [00:00<00:00, 246.50it/s]\n"
     ]
    },
    {
     "name": "stdout",
     "output_type": "stream",
     "text": [
      "Epoch 98/200, Train Loss: 0.2225, Test Loss: 0.2178\n",
      "No improvement in Test Loss for 2 epoch(s).\n",
      "Current Best Test Loss: 0.2178\n"
     ]
    },
    {
     "name": "stderr",
     "output_type": "stream",
     "text": [
      "100%|██████████| 22/22 [00:00<00:00, 154.71it/s]\n",
      "100%|██████████| 4/4 [00:00<00:00, 265.28it/s]\n"
     ]
    },
    {
     "name": "stdout",
     "output_type": "stream",
     "text": [
      "Epoch 99/200, Train Loss: 0.2225, Test Loss: 0.2178\n"
     ]
    },
    {
     "name": "stderr",
     "output_type": "stream",
     "text": [
      "100%|██████████| 22/22 [00:00<00:00, 153.56it/s]\n",
      "100%|██████████| 4/4 [00:00<00:00, 219.04it/s]\n"
     ]
    },
    {
     "name": "stdout",
     "output_type": "stream",
     "text": [
      "Epoch 100/200, Train Loss: 0.2225, Test Loss: 0.2178\n",
      "No improvement in Test Loss for 1 epoch(s).\n",
      "Current Best Test Loss: 0.2178\n"
     ]
    },
    {
     "name": "stderr",
     "output_type": "stream",
     "text": [
      "100%|██████████| 22/22 [00:00<00:00, 143.12it/s]\n",
      "100%|██████████| 4/4 [00:00<00:00, 184.74it/s]\n"
     ]
    },
    {
     "name": "stdout",
     "output_type": "stream",
     "text": [
      "Epoch 101/200, Train Loss: 0.2225, Test Loss: 0.2178\n",
      "No improvement in Test Loss for 2 epoch(s).\n",
      "Current Best Test Loss: 0.2178\n"
     ]
    },
    {
     "name": "stderr",
     "output_type": "stream",
     "text": [
      "100%|██████████| 22/22 [00:00<00:00, 161.30it/s]\n",
      "100%|██████████| 4/4 [00:00<00:00, 259.75it/s]\n"
     ]
    },
    {
     "name": "stdout",
     "output_type": "stream",
     "text": [
      "Epoch 102/200, Train Loss: 0.2225, Test Loss: 0.2178\n"
     ]
    },
    {
     "name": "stderr",
     "output_type": "stream",
     "text": [
      "100%|██████████| 22/22 [00:00<00:00, 147.48it/s]\n",
      "100%|██████████| 4/4 [00:00<00:00, 266.68it/s]\n"
     ]
    },
    {
     "name": "stdout",
     "output_type": "stream",
     "text": [
      "Epoch 103/200, Train Loss: 0.2225, Test Loss: 0.2178\n",
      "No improvement in Test Loss for 1 epoch(s).\n",
      "Current Best Test Loss: 0.2178\n"
     ]
    },
    {
     "name": "stderr",
     "output_type": "stream",
     "text": [
      "100%|██████████| 22/22 [00:00<00:00, 161.59it/s]\n",
      "100%|██████████| 4/4 [00:00<00:00, 272.63it/s]\n"
     ]
    },
    {
     "name": "stdout",
     "output_type": "stream",
     "text": [
      "Epoch 104/200, Train Loss: 0.2225, Test Loss: 0.2178\n",
      "No improvement in Test Loss for 2 epoch(s).\n",
      "Current Best Test Loss: 0.2178\n"
     ]
    },
    {
     "name": "stderr",
     "output_type": "stream",
     "text": [
      "100%|██████████| 22/22 [00:00<00:00, 155.92it/s]\n",
      "100%|██████████| 4/4 [00:00<00:00, 223.69it/s]\n"
     ]
    },
    {
     "name": "stdout",
     "output_type": "stream",
     "text": [
      "Epoch 105/200, Train Loss: 0.2224, Test Loss: 0.2178\n"
     ]
    },
    {
     "name": "stderr",
     "output_type": "stream",
     "text": [
      "100%|██████████| 22/22 [00:00<00:00, 152.15it/s]\n",
      "100%|██████████| 4/4 [00:00<00:00, 244.14it/s]\n"
     ]
    },
    {
     "name": "stdout",
     "output_type": "stream",
     "text": [
      "Epoch 106/200, Train Loss: 0.2224, Test Loss: 0.2178\n",
      "No improvement in Test Loss for 1 epoch(s).\n",
      "Current Best Test Loss: 0.2178\n"
     ]
    },
    {
     "name": "stderr",
     "output_type": "stream",
     "text": [
      "100%|██████████| 22/22 [00:00<00:00, 150.27it/s]\n",
      "100%|██████████| 4/4 [00:00<00:00, 263.35it/s]\n"
     ]
    },
    {
     "name": "stdout",
     "output_type": "stream",
     "text": [
      "Epoch 107/200, Train Loss: 0.2224, Test Loss: 0.2178\n",
      "No improvement in Test Loss for 2 epoch(s).\n",
      "Current Best Test Loss: 0.2178\n"
     ]
    },
    {
     "name": "stderr",
     "output_type": "stream",
     "text": [
      "100%|██████████| 22/22 [00:00<00:00, 146.81it/s]\n",
      "100%|██████████| 4/4 [00:00<00:00, 235.84it/s]\n"
     ]
    },
    {
     "name": "stdout",
     "output_type": "stream",
     "text": [
      "Epoch 108/200, Train Loss: 0.2224, Test Loss: 0.2178\n"
     ]
    },
    {
     "name": "stderr",
     "output_type": "stream",
     "text": [
      "100%|██████████| 22/22 [00:00<00:00, 147.56it/s]\n",
      "100%|██████████| 4/4 [00:00<00:00, 260.37it/s]\n"
     ]
    },
    {
     "name": "stdout",
     "output_type": "stream",
     "text": [
      "Epoch 109/200, Train Loss: 0.2224, Test Loss: 0.2178\n",
      "No improvement in Test Loss for 1 epoch(s).\n",
      "Current Best Test Loss: 0.2178\n"
     ]
    },
    {
     "name": "stderr",
     "output_type": "stream",
     "text": [
      "100%|██████████| 22/22 [00:00<00:00, 145.93it/s]\n",
      "100%|██████████| 4/4 [00:00<00:00, 248.18it/s]\n"
     ]
    },
    {
     "name": "stdout",
     "output_type": "stream",
     "text": [
      "Epoch 110/200, Train Loss: 0.2224, Test Loss: 0.2178\n",
      "No improvement in Test Loss for 2 epoch(s).\n",
      "Current Best Test Loss: 0.2178\n"
     ]
    },
    {
     "name": "stderr",
     "output_type": "stream",
     "text": [
      "100%|██████████| 22/22 [00:00<00:00, 140.70it/s]\n",
      "100%|██████████| 4/4 [00:00<00:00, 170.57it/s]\n"
     ]
    },
    {
     "name": "stdout",
     "output_type": "stream",
     "text": [
      "Epoch 111/200, Train Loss: 0.2224, Test Loss: 0.2178\n"
     ]
    },
    {
     "name": "stderr",
     "output_type": "stream",
     "text": [
      "100%|██████████| 22/22 [00:00<00:00, 155.91it/s]\n",
      "100%|██████████| 4/4 [00:00<00:00, 277.52it/s]\n"
     ]
    },
    {
     "name": "stdout",
     "output_type": "stream",
     "text": [
      "Epoch 112/200, Train Loss: 0.2224, Test Loss: 0.2178\n",
      "No improvement in Test Loss for 1 epoch(s).\n",
      "Current Best Test Loss: 0.2178\n"
     ]
    },
    {
     "name": "stderr",
     "output_type": "stream",
     "text": [
      "100%|██████████| 22/22 [00:00<00:00, 136.72it/s]\n",
      "100%|██████████| 4/4 [00:00<00:00, 266.39it/s]\n"
     ]
    },
    {
     "name": "stdout",
     "output_type": "stream",
     "text": [
      "Epoch 113/200, Train Loss: 0.2224, Test Loss: 0.2177\n",
      "No improvement in Test Loss for 2 epoch(s).\n",
      "Current Best Test Loss: 0.2178\n"
     ]
    },
    {
     "name": "stderr",
     "output_type": "stream",
     "text": [
      "100%|██████████| 22/22 [00:00<00:00, 153.14it/s]\n",
      "100%|██████████| 4/4 [00:00<00:00, 262.33it/s]\n"
     ]
    },
    {
     "name": "stdout",
     "output_type": "stream",
     "text": [
      "Epoch 114/200, Train Loss: 0.2224, Test Loss: 0.2177\n"
     ]
    },
    {
     "name": "stderr",
     "output_type": "stream",
     "text": [
      "100%|██████████| 22/22 [00:00<00:00, 150.64it/s]\n",
      "100%|██████████| 4/4 [00:00<00:00, 260.95it/s]\n"
     ]
    },
    {
     "name": "stdout",
     "output_type": "stream",
     "text": [
      "Epoch 115/200, Train Loss: 0.2224, Test Loss: 0.2177\n",
      "No improvement in Test Loss for 1 epoch(s).\n",
      "Current Best Test Loss: 0.2177\n"
     ]
    },
    {
     "name": "stderr",
     "output_type": "stream",
     "text": [
      "100%|██████████| 22/22 [00:00<00:00, 153.75it/s]\n",
      "100%|██████████| 4/4 [00:00<00:00, 249.61it/s]\n"
     ]
    },
    {
     "name": "stdout",
     "output_type": "stream",
     "text": [
      "Epoch 116/200, Train Loss: 0.2224, Test Loss: 0.2177\n",
      "No improvement in Test Loss for 2 epoch(s).\n",
      "Current Best Test Loss: 0.2177\n"
     ]
    },
    {
     "name": "stderr",
     "output_type": "stream",
     "text": [
      "100%|██████████| 22/22 [00:00<00:00, 158.38it/s]\n",
      "100%|██████████| 4/4 [00:00<00:00, 269.04it/s]\n"
     ]
    },
    {
     "name": "stdout",
     "output_type": "stream",
     "text": [
      "Epoch 117/200, Train Loss: 0.2224, Test Loss: 0.2177\n"
     ]
    },
    {
     "name": "stderr",
     "output_type": "stream",
     "text": [
      "100%|██████████| 22/22 [00:00<00:00, 157.99it/s]\n",
      "100%|██████████| 4/4 [00:00<00:00, 271.15it/s]\n"
     ]
    },
    {
     "name": "stdout",
     "output_type": "stream",
     "text": [
      "Epoch 118/200, Train Loss: 0.2224, Test Loss: 0.2177\n",
      "No improvement in Test Loss for 1 epoch(s).\n",
      "Current Best Test Loss: 0.2177\n"
     ]
    },
    {
     "name": "stderr",
     "output_type": "stream",
     "text": [
      "100%|██████████| 22/22 [00:00<00:00, 148.59it/s]\n",
      "100%|██████████| 4/4 [00:00<00:00, 272.04it/s]\n"
     ]
    },
    {
     "name": "stdout",
     "output_type": "stream",
     "text": [
      "Epoch 119/200, Train Loss: 0.2224, Test Loss: 0.2177\n",
      "No improvement in Test Loss for 2 epoch(s).\n",
      "Current Best Test Loss: 0.2177\n"
     ]
    },
    {
     "name": "stderr",
     "output_type": "stream",
     "text": [
      "100%|██████████| 22/22 [00:00<00:00, 151.35it/s]\n",
      "100%|██████████| 4/4 [00:00<00:00, 272.65it/s]\n"
     ]
    },
    {
     "name": "stdout",
     "output_type": "stream",
     "text": [
      "Epoch 120/200, Train Loss: 0.2224, Test Loss: 0.2177\n"
     ]
    },
    {
     "name": "stderr",
     "output_type": "stream",
     "text": [
      "100%|██████████| 22/22 [00:00<00:00, 154.78it/s]\n",
      "100%|██████████| 4/4 [00:00<00:00, 221.18it/s]\n"
     ]
    },
    {
     "name": "stdout",
     "output_type": "stream",
     "text": [
      "Epoch 121/200, Train Loss: 0.2224, Test Loss: 0.2177\n",
      "No improvement in Test Loss for 1 epoch(s).\n",
      "Current Best Test Loss: 0.2177\n"
     ]
    },
    {
     "name": "stderr",
     "output_type": "stream",
     "text": [
      "100%|██████████| 22/22 [00:00<00:00, 156.23it/s]\n",
      "100%|██████████| 4/4 [00:00<00:00, 264.27it/s]\n"
     ]
    },
    {
     "name": "stdout",
     "output_type": "stream",
     "text": [
      "Epoch 122/200, Train Loss: 0.2224, Test Loss: 0.2177\n",
      "No improvement in Test Loss for 2 epoch(s).\n",
      "Current Best Test Loss: 0.2177\n"
     ]
    },
    {
     "name": "stderr",
     "output_type": "stream",
     "text": [
      "100%|██████████| 22/22 [00:00<00:00, 162.05it/s]\n",
      "100%|██████████| 4/4 [00:00<00:00, 269.03it/s]\n"
     ]
    },
    {
     "name": "stdout",
     "output_type": "stream",
     "text": [
      "Epoch 123/200, Train Loss: 0.2224, Test Loss: 0.2177\n"
     ]
    },
    {
     "name": "stderr",
     "output_type": "stream",
     "text": [
      "100%|██████████| 22/22 [00:00<00:00, 151.42it/s]\n",
      "100%|██████████| 4/4 [00:00<00:00, 211.63it/s]\n"
     ]
    },
    {
     "name": "stdout",
     "output_type": "stream",
     "text": [
      "Epoch 124/200, Train Loss: 0.2224, Test Loss: 0.2177\n",
      "No improvement in Test Loss for 1 epoch(s).\n",
      "Current Best Test Loss: 0.2177\n"
     ]
    },
    {
     "name": "stderr",
     "output_type": "stream",
     "text": [
      "100%|██████████| 22/22 [00:00<00:00, 152.15it/s]\n",
      "100%|██████████| 4/4 [00:00<00:00, 272.79it/s]\n"
     ]
    },
    {
     "name": "stdout",
     "output_type": "stream",
     "text": [
      "Epoch 125/200, Train Loss: 0.2224, Test Loss: 0.2177\n",
      "No improvement in Test Loss for 2 epoch(s).\n",
      "Current Best Test Loss: 0.2177\n"
     ]
    },
    {
     "name": "stderr",
     "output_type": "stream",
     "text": [
      "100%|██████████| 22/22 [00:00<00:00, 168.16it/s]\n",
      "100%|██████████| 4/4 [00:00<00:00, 274.31it/s]\n"
     ]
    },
    {
     "name": "stdout",
     "output_type": "stream",
     "text": [
      "Epoch 126/200, Train Loss: 0.2224, Test Loss: 0.2177\n"
     ]
    },
    {
     "name": "stderr",
     "output_type": "stream",
     "text": [
      "100%|██████████| 22/22 [00:00<00:00, 158.93it/s]\n",
      "100%|██████████| 4/4 [00:00<00:00, 267.45it/s]\n"
     ]
    },
    {
     "name": "stdout",
     "output_type": "stream",
     "text": [
      "Epoch 127/200, Train Loss: 0.2224, Test Loss: 0.2177\n",
      "No improvement in Test Loss for 1 epoch(s).\n",
      "Current Best Test Loss: 0.2177\n"
     ]
    },
    {
     "name": "stderr",
     "output_type": "stream",
     "text": [
      "100%|██████████| 22/22 [00:00<00:00, 157.49it/s]\n",
      "100%|██████████| 4/4 [00:00<00:00, 258.77it/s]\n"
     ]
    },
    {
     "name": "stdout",
     "output_type": "stream",
     "text": [
      "Epoch 128/200, Train Loss: 0.2224, Test Loss: 0.2177\n",
      "No improvement in Test Loss for 2 epoch(s).\n",
      "Current Best Test Loss: 0.2177\n"
     ]
    },
    {
     "name": "stderr",
     "output_type": "stream",
     "text": [
      "100%|██████████| 22/22 [00:00<00:00, 163.12it/s]\n",
      "100%|██████████| 4/4 [00:00<00:00, 265.34it/s]\n"
     ]
    },
    {
     "name": "stdout",
     "output_type": "stream",
     "text": [
      "Epoch 129/200, Train Loss: 0.2224, Test Loss: 0.2177\n"
     ]
    },
    {
     "name": "stderr",
     "output_type": "stream",
     "text": [
      "100%|██████████| 22/22 [00:00<00:00, 157.95it/s]\n",
      "100%|██████████| 4/4 [00:00<00:00, 267.40it/s]\n"
     ]
    },
    {
     "name": "stdout",
     "output_type": "stream",
     "text": [
      "Epoch 130/200, Train Loss: 0.2224, Test Loss: 0.2177\n",
      "No improvement in Test Loss for 1 epoch(s).\n",
      "Current Best Test Loss: 0.2177\n"
     ]
    },
    {
     "name": "stderr",
     "output_type": "stream",
     "text": [
      "100%|██████████| 22/22 [00:00<00:00, 151.37it/s]\n",
      "100%|██████████| 4/4 [00:00<00:00, 265.02it/s]\n"
     ]
    },
    {
     "name": "stdout",
     "output_type": "stream",
     "text": [
      "Epoch 131/200, Train Loss: 0.2224, Test Loss: 0.2177\n",
      "No improvement in Test Loss for 2 epoch(s).\n",
      "Current Best Test Loss: 0.2177\n"
     ]
    },
    {
     "name": "stderr",
     "output_type": "stream",
     "text": [
      "100%|██████████| 22/22 [00:00<00:00, 159.56it/s]\n",
      "100%|██████████| 4/4 [00:00<00:00, 261.98it/s]\n"
     ]
    },
    {
     "name": "stdout",
     "output_type": "stream",
     "text": [
      "Epoch 132/200, Train Loss: 0.2224, Test Loss: 0.2177\n"
     ]
    },
    {
     "name": "stderr",
     "output_type": "stream",
     "text": [
      "100%|██████████| 22/22 [00:00<00:00, 148.31it/s]\n",
      "100%|██████████| 4/4 [00:00<00:00, 253.19it/s]\n"
     ]
    },
    {
     "name": "stdout",
     "output_type": "stream",
     "text": [
      "Epoch 133/200, Train Loss: 0.2223, Test Loss: 0.2177\n",
      "No improvement in Test Loss for 1 epoch(s).\n",
      "Current Best Test Loss: 0.2177\n"
     ]
    },
    {
     "name": "stderr",
     "output_type": "stream",
     "text": [
      "100%|██████████| 22/22 [00:00<00:00, 162.03it/s]\n",
      "100%|██████████| 4/4 [00:00<00:00, 264.40it/s]\n"
     ]
    },
    {
     "name": "stdout",
     "output_type": "stream",
     "text": [
      "Epoch 134/200, Train Loss: 0.2223, Test Loss: 0.2177\n",
      "No improvement in Test Loss for 2 epoch(s).\n",
      "Current Best Test Loss: 0.2177\n"
     ]
    },
    {
     "name": "stderr",
     "output_type": "stream",
     "text": [
      "100%|██████████| 22/22 [00:00<00:00, 147.28it/s]\n",
      "100%|██████████| 4/4 [00:00<00:00, 259.09it/s]\n"
     ]
    },
    {
     "name": "stdout",
     "output_type": "stream",
     "text": [
      "Epoch 135/200, Train Loss: 0.2223, Test Loss: 0.2177\n"
     ]
    },
    {
     "name": "stderr",
     "output_type": "stream",
     "text": [
      "100%|██████████| 22/22 [00:00<00:00, 154.08it/s]\n",
      "100%|██████████| 4/4 [00:00<00:00, 217.47it/s]\n"
     ]
    },
    {
     "name": "stdout",
     "output_type": "stream",
     "text": [
      "Epoch 136/200, Train Loss: 0.2223, Test Loss: 0.2177\n",
      "No improvement in Test Loss for 1 epoch(s).\n",
      "Current Best Test Loss: 0.2177\n"
     ]
    },
    {
     "name": "stderr",
     "output_type": "stream",
     "text": [
      "100%|██████████| 22/22 [00:00<00:00, 158.80it/s]\n",
      "100%|██████████| 4/4 [00:00<00:00, 217.61it/s]\n"
     ]
    },
    {
     "name": "stdout",
     "output_type": "stream",
     "text": [
      "Epoch 137/200, Train Loss: 0.2223, Test Loss: 0.2177\n",
      "No improvement in Test Loss for 2 epoch(s).\n",
      "Current Best Test Loss: 0.2177\n"
     ]
    },
    {
     "name": "stderr",
     "output_type": "stream",
     "text": [
      "100%|██████████| 22/22 [00:00<00:00, 155.70it/s]\n",
      "100%|██████████| 4/4 [00:00<00:00, 267.67it/s]\n"
     ]
    },
    {
     "name": "stdout",
     "output_type": "stream",
     "text": [
      "Epoch 138/200, Train Loss: 0.2223, Test Loss: 0.2177\n"
     ]
    },
    {
     "name": "stderr",
     "output_type": "stream",
     "text": [
      "100%|██████████| 22/22 [00:00<00:00, 150.27it/s]\n",
      "100%|██████████| 4/4 [00:00<00:00, 256.91it/s]\n"
     ]
    },
    {
     "name": "stdout",
     "output_type": "stream",
     "text": [
      "Epoch 139/200, Train Loss: 0.2223, Test Loss: 0.2176\n",
      "No improvement in Test Loss for 1 epoch(s).\n",
      "Current Best Test Loss: 0.2177\n"
     ]
    },
    {
     "name": "stderr",
     "output_type": "stream",
     "text": [
      "100%|██████████| 22/22 [00:00<00:00, 162.37it/s]\n",
      "100%|██████████| 4/4 [00:00<00:00, 264.25it/s]\n"
     ]
    },
    {
     "name": "stdout",
     "output_type": "stream",
     "text": [
      "Epoch 140/200, Train Loss: 0.2223, Test Loss: 0.2176\n",
      "No improvement in Test Loss for 2 epoch(s).\n",
      "Current Best Test Loss: 0.2177\n"
     ]
    },
    {
     "name": "stderr",
     "output_type": "stream",
     "text": [
      "100%|██████████| 22/22 [00:00<00:00, 162.84it/s]\n",
      "100%|██████████| 4/4 [00:00<00:00, 263.77it/s]\n"
     ]
    },
    {
     "name": "stdout",
     "output_type": "stream",
     "text": [
      "Epoch 141/200, Train Loss: 0.2223, Test Loss: 0.2176\n"
     ]
    },
    {
     "name": "stderr",
     "output_type": "stream",
     "text": [
      "100%|██████████| 22/22 [00:00<00:00, 156.09it/s]\n",
      "100%|██████████| 4/4 [00:00<00:00, 270.06it/s]\n"
     ]
    },
    {
     "name": "stdout",
     "output_type": "stream",
     "text": [
      "Epoch 142/200, Train Loss: 0.2223, Test Loss: 0.2176\n",
      "No improvement in Test Loss for 1 epoch(s).\n",
      "Current Best Test Loss: 0.2176\n"
     ]
    },
    {
     "name": "stderr",
     "output_type": "stream",
     "text": [
      "100%|██████████| 22/22 [00:00<00:00, 157.44it/s]\n",
      "100%|██████████| 4/4 [00:00<00:00, 263.23it/s]\n"
     ]
    },
    {
     "name": "stdout",
     "output_type": "stream",
     "text": [
      "Epoch 143/200, Train Loss: 0.2223, Test Loss: 0.2176\n",
      "No improvement in Test Loss for 2 epoch(s).\n",
      "Current Best Test Loss: 0.2176\n"
     ]
    },
    {
     "name": "stderr",
     "output_type": "stream",
     "text": [
      "100%|██████████| 22/22 [00:00<00:00, 157.82it/s]\n",
      "100%|██████████| 4/4 [00:00<00:00, 248.36it/s]\n",
      "/home/qix/FC-GPFA/model_trainer.py:316: FutureWarning: You are using `torch.load` with `weights_only=False` (the current default value), which uses the default pickle module implicitly. It is possible to construct malicious pickle data which will execute arbitrary code during unpickling (See https://github.com/pytorch/pytorch/blob/main/SECURITY.md#untrusted-models for more details). In a future release, the default value for `weights_only` will be flipped to `True`. This limits the functions that could be executed during unpickling. Arbitrary objects will no longer be allowed to be loaded via this mode unless they are explicitly allowlisted by the user via `torch.serialization.add_safe_globals`. We recommend you start setting `weights_only=True` for any use case where you don't have full control of the loaded file. Please open an issue on GitHub for any issues related to this experimental feature.\n",
      "  self.model.load_state_dict(torch.load(self.temp_best_model_path))\n"
     ]
    },
    {
     "name": "stdout",
     "output_type": "stream",
     "text": [
      "Epoch 144/200, Train Loss: 0.2223, Test Loss: 0.2176\n",
      "No improvement in Test Loss for 3 epoch(s).\n",
      "Current Best Test Loss: 0.2176\n",
      "Early stopping triggered.\n",
      "Start training model with parameters: {'num_B_spline_basis': 20, 'downsample_factor': 10, 'transformer_num_layers': 2, 'transformer_d_model': 128, 'transformer_dim_feedforward': 512, 'transformer_vae_output_dim': 16, 'transformer_dropout': 0.0, 'transformer_nhead': 1, 'stimulus_nfactor': 1, 'stimulus_decoder_inter_dim_factor': 2, 'beta': 1.0, 'use_area_specific_decoder': True, 'use_area_specific_encoder': True, 'use_cls': False, 'coupling_basis_peaks_max': 5, 'coupling_basis_num': 3, 'coupling_nsubspace': 1, 'use_self_coupling': True, 'K_sigma2': 1.0, 'K_tau': 100, 'coupling_strength_nlatent': 1, 'self_history_basis_peaks_max': 1.5, 'self_history_basis_num': 3, 'self_history_basis_nonlinear': 1, 'penalty_smoothing_spline': 100.0, 'penalty_coupling_subgroup': 1e-05, 'penalty_diff_loading': None, 'penalty_loading_similarity': None, 'batch_size': 64, 'sample_latent': False, 'lr': 0.001, 'epoch_warm_up': 0, 'epoch_patience': 3, 'epoch_max': 200, 'tol': 1e-05, 'weight_decay': 0, 'lr_transformer': 0.0001, 'lr_sti': 0.01, 'lr_cp': 0.01, 'lr_self_history': 0.01}\n"
     ]
    },
    {
     "name": "stderr",
     "output_type": "stream",
     "text": [
      "100%|██████████| 22/22 [00:00<00:00, 104.26it/s]\n",
      "100%|██████████| 4/4 [00:00<00:00, 214.76it/s]\n"
     ]
    },
    {
     "name": "stdout",
     "output_type": "stream",
     "text": [
      "Epoch 1/200, Train Loss: 0.2216, Test Loss: 0.2144\n"
     ]
    },
    {
     "name": "stderr",
     "output_type": "stream",
     "text": [
      "100%|██████████| 22/22 [00:00<00:00, 107.09it/s]\n",
      "100%|██████████| 4/4 [00:00<00:00, 214.61it/s]\n"
     ]
    },
    {
     "name": "stdout",
     "output_type": "stream",
     "text": [
      "Epoch 2/200, Train Loss: 0.2191, Test Loss: 0.2140\n"
     ]
    },
    {
     "name": "stderr",
     "output_type": "stream",
     "text": [
      "100%|██████████| 22/22 [00:00<00:00, 107.39it/s]\n",
      "100%|██████████| 4/4 [00:00<00:00, 215.24it/s]\n"
     ]
    },
    {
     "name": "stdout",
     "output_type": "stream",
     "text": [
      "Epoch 3/200, Train Loss: 0.2189, Test Loss: 0.2140\n"
     ]
    },
    {
     "name": "stderr",
     "output_type": "stream",
     "text": [
      "100%|██████████| 22/22 [00:00<00:00, 107.86it/s]\n",
      "100%|██████████| 4/4 [00:00<00:00, 212.17it/s]\n"
     ]
    },
    {
     "name": "stdout",
     "output_type": "stream",
     "text": [
      "Epoch 4/200, Train Loss: 0.2188, Test Loss: 0.2139\n"
     ]
    },
    {
     "name": "stderr",
     "output_type": "stream",
     "text": [
      "100%|██████████| 22/22 [00:00<00:00, 107.32it/s]\n",
      "100%|██████████| 4/4 [00:00<00:00, 213.71it/s]\n"
     ]
    },
    {
     "name": "stdout",
     "output_type": "stream",
     "text": [
      "Epoch 5/200, Train Loss: 0.2187, Test Loss: 0.2138\n"
     ]
    },
    {
     "name": "stderr",
     "output_type": "stream",
     "text": [
      "100%|██████████| 22/22 [00:00<00:00, 105.07it/s]\n",
      "100%|██████████| 4/4 [00:00<00:00, 214.50it/s]\n"
     ]
    },
    {
     "name": "stdout",
     "output_type": "stream",
     "text": [
      "Epoch 6/200, Train Loss: 0.2187, Test Loss: 0.2137\n"
     ]
    },
    {
     "name": "stderr",
     "output_type": "stream",
     "text": [
      "100%|██████████| 22/22 [00:00<00:00, 99.71it/s] \n",
      "100%|██████████| 4/4 [00:00<00:00, 213.97it/s]\n"
     ]
    },
    {
     "name": "stdout",
     "output_type": "stream",
     "text": [
      "Epoch 7/200, Train Loss: 0.2186, Test Loss: 0.2136\n"
     ]
    },
    {
     "name": "stderr",
     "output_type": "stream",
     "text": [
      "100%|██████████| 22/22 [00:00<00:00, 104.19it/s]\n",
      "100%|██████████| 4/4 [00:00<00:00, 212.90it/s]\n"
     ]
    },
    {
     "name": "stdout",
     "output_type": "stream",
     "text": [
      "Epoch 8/200, Train Loss: 0.2185, Test Loss: 0.2135\n"
     ]
    },
    {
     "name": "stderr",
     "output_type": "stream",
     "text": [
      "100%|██████████| 22/22 [00:00<00:00, 103.02it/s]\n",
      "100%|██████████| 4/4 [00:00<00:00, 209.67it/s]\n"
     ]
    },
    {
     "name": "stdout",
     "output_type": "stream",
     "text": [
      "Epoch 9/200, Train Loss: 0.2183, Test Loss: 0.2133\n"
     ]
    },
    {
     "name": "stderr",
     "output_type": "stream",
     "text": [
      "100%|██████████| 22/22 [00:00<00:00, 104.80it/s]\n",
      "100%|██████████| 4/4 [00:00<00:00, 213.44it/s]\n"
     ]
    },
    {
     "name": "stdout",
     "output_type": "stream",
     "text": [
      "Epoch 10/200, Train Loss: 0.2181, Test Loss: 0.2131\n"
     ]
    },
    {
     "name": "stderr",
     "output_type": "stream",
     "text": [
      "100%|██████████| 22/22 [00:00<00:00, 105.15it/s]\n",
      "100%|██████████| 4/4 [00:00<00:00, 213.14it/s]\n"
     ]
    },
    {
     "name": "stdout",
     "output_type": "stream",
     "text": [
      "Epoch 11/200, Train Loss: 0.2178, Test Loss: 0.2129\n"
     ]
    },
    {
     "name": "stderr",
     "output_type": "stream",
     "text": [
      "100%|██████████| 22/22 [00:00<00:00, 105.26it/s]\n",
      "100%|██████████| 4/4 [00:00<00:00, 216.53it/s]\n"
     ]
    },
    {
     "name": "stdout",
     "output_type": "stream",
     "text": [
      "Epoch 12/200, Train Loss: 0.2177, Test Loss: 0.2128\n"
     ]
    },
    {
     "name": "stderr",
     "output_type": "stream",
     "text": [
      "100%|██████████| 22/22 [00:00<00:00, 100.80it/s]\n",
      "100%|██████████| 4/4 [00:00<00:00, 209.56it/s]\n"
     ]
    },
    {
     "name": "stdout",
     "output_type": "stream",
     "text": [
      "Epoch 13/200, Train Loss: 0.2176, Test Loss: 0.2127\n"
     ]
    },
    {
     "name": "stderr",
     "output_type": "stream",
     "text": [
      "100%|██████████| 22/22 [00:00<00:00, 105.35it/s]\n",
      "100%|██████████| 4/4 [00:00<00:00, 204.32it/s]\n"
     ]
    },
    {
     "name": "stdout",
     "output_type": "stream",
     "text": [
      "Epoch 14/200, Train Loss: 0.2175, Test Loss: 0.2126\n"
     ]
    },
    {
     "name": "stderr",
     "output_type": "stream",
     "text": [
      "100%|██████████| 22/22 [00:00<00:00, 105.80it/s]\n",
      "100%|██████████| 4/4 [00:00<00:00, 212.36it/s]\n"
     ]
    },
    {
     "name": "stdout",
     "output_type": "stream",
     "text": [
      "Epoch 15/200, Train Loss: 0.2174, Test Loss: 0.2125\n"
     ]
    },
    {
     "name": "stderr",
     "output_type": "stream",
     "text": [
      "100%|██████████| 22/22 [00:00<00:00, 105.58it/s]\n",
      "100%|██████████| 4/4 [00:00<00:00, 212.93it/s]\n"
     ]
    },
    {
     "name": "stdout",
     "output_type": "stream",
     "text": [
      "Epoch 16/200, Train Loss: 0.2172, Test Loss: 0.2123\n"
     ]
    },
    {
     "name": "stderr",
     "output_type": "stream",
     "text": [
      "100%|██████████| 22/22 [00:00<00:00, 106.74it/s]\n",
      "100%|██████████| 4/4 [00:00<00:00, 216.80it/s]\n"
     ]
    },
    {
     "name": "stdout",
     "output_type": "stream",
     "text": [
      "Epoch 17/200, Train Loss: 0.2170, Test Loss: 0.2122\n"
     ]
    },
    {
     "name": "stderr",
     "output_type": "stream",
     "text": [
      "100%|██████████| 22/22 [00:00<00:00, 107.87it/s]\n",
      "100%|██████████| 4/4 [00:00<00:00, 217.80it/s]\n"
     ]
    },
    {
     "name": "stdout",
     "output_type": "stream",
     "text": [
      "Epoch 18/200, Train Loss: 0.2168, Test Loss: 0.2118\n"
     ]
    },
    {
     "name": "stderr",
     "output_type": "stream",
     "text": [
      "100%|██████████| 22/22 [00:00<00:00, 107.88it/s]\n",
      "100%|██████████| 4/4 [00:00<00:00, 215.54it/s]\n"
     ]
    },
    {
     "name": "stdout",
     "output_type": "stream",
     "text": [
      "Epoch 19/200, Train Loss: 0.2167, Test Loss: 0.2116\n"
     ]
    },
    {
     "name": "stderr",
     "output_type": "stream",
     "text": [
      "100%|██████████| 22/22 [00:00<00:00, 98.40it/s] \n",
      "100%|██████████| 4/4 [00:00<00:00, 205.44it/s]\n"
     ]
    },
    {
     "name": "stdout",
     "output_type": "stream",
     "text": [
      "Epoch 20/200, Train Loss: 0.2165, Test Loss: 0.2115\n"
     ]
    },
    {
     "name": "stderr",
     "output_type": "stream",
     "text": [
      "100%|██████████| 22/22 [00:00<00:00, 102.92it/s]\n",
      "100%|██████████| 4/4 [00:00<00:00, 215.73it/s]\n"
     ]
    },
    {
     "name": "stdout",
     "output_type": "stream",
     "text": [
      "Epoch 21/200, Train Loss: 0.2164, Test Loss: 0.2114\n"
     ]
    },
    {
     "name": "stderr",
     "output_type": "stream",
     "text": [
      "100%|██████████| 22/22 [00:00<00:00, 99.96it/s] \n",
      "100%|██████████| 4/4 [00:00<00:00, 210.53it/s]\n"
     ]
    },
    {
     "name": "stdout",
     "output_type": "stream",
     "text": [
      "Epoch 22/200, Train Loss: 0.2163, Test Loss: 0.2113\n"
     ]
    },
    {
     "name": "stderr",
     "output_type": "stream",
     "text": [
      "100%|██████████| 22/22 [00:00<00:00, 106.65it/s]\n",
      "100%|██████████| 4/4 [00:00<00:00, 209.83it/s]\n"
     ]
    },
    {
     "name": "stdout",
     "output_type": "stream",
     "text": [
      "Epoch 23/200, Train Loss: 0.2162, Test Loss: 0.2112\n"
     ]
    },
    {
     "name": "stderr",
     "output_type": "stream",
     "text": [
      "100%|██████████| 22/22 [00:00<00:00, 104.26it/s]\n",
      "100%|██████████| 4/4 [00:00<00:00, 208.74it/s]\n"
     ]
    },
    {
     "name": "stdout",
     "output_type": "stream",
     "text": [
      "Epoch 24/200, Train Loss: 0.2161, Test Loss: 0.2112\n"
     ]
    },
    {
     "name": "stderr",
     "output_type": "stream",
     "text": [
      "100%|██████████| 22/22 [00:00<00:00, 102.03it/s]\n",
      "100%|██████████| 4/4 [00:00<00:00, 213.10it/s]\n"
     ]
    },
    {
     "name": "stdout",
     "output_type": "stream",
     "text": [
      "Epoch 25/200, Train Loss: 0.2161, Test Loss: 0.2112\n"
     ]
    },
    {
     "name": "stderr",
     "output_type": "stream",
     "text": [
      "100%|██████████| 22/22 [00:00<00:00, 106.72it/s]\n",
      "100%|██████████| 4/4 [00:00<00:00, 215.80it/s]\n"
     ]
    },
    {
     "name": "stdout",
     "output_type": "stream",
     "text": [
      "Epoch 26/200, Train Loss: 0.2161, Test Loss: 0.2111\n"
     ]
    },
    {
     "name": "stderr",
     "output_type": "stream",
     "text": [
      "100%|██████████| 22/22 [00:00<00:00, 100.22it/s]\n",
      "100%|██████████| 4/4 [00:00<00:00, 205.55it/s]\n"
     ]
    },
    {
     "name": "stdout",
     "output_type": "stream",
     "text": [
      "Epoch 27/200, Train Loss: 0.2160, Test Loss: 0.2111\n"
     ]
    },
    {
     "name": "stderr",
     "output_type": "stream",
     "text": [
      "100%|██████████| 22/22 [00:00<00:00, 103.43it/s]\n",
      "100%|██████████| 4/4 [00:00<00:00, 215.43it/s]\n"
     ]
    },
    {
     "name": "stdout",
     "output_type": "stream",
     "text": [
      "Epoch 28/200, Train Loss: 0.2160, Test Loss: 0.2111\n"
     ]
    },
    {
     "name": "stderr",
     "output_type": "stream",
     "text": [
      "100%|██████████| 22/22 [00:00<00:00, 100.80it/s]\n",
      "100%|██████████| 4/4 [00:00<00:00, 212.12it/s]\n"
     ]
    },
    {
     "name": "stdout",
     "output_type": "stream",
     "text": [
      "Epoch 29/200, Train Loss: 0.2160, Test Loss: 0.2111\n"
     ]
    },
    {
     "name": "stderr",
     "output_type": "stream",
     "text": [
      "100%|██████████| 22/22 [00:00<00:00, 96.98it/s]\n",
      "100%|██████████| 4/4 [00:00<00:00, 212.67it/s]\n"
     ]
    },
    {
     "name": "stdout",
     "output_type": "stream",
     "text": [
      "Epoch 30/200, Train Loss: 0.2159, Test Loss: 0.2110\n"
     ]
    },
    {
     "name": "stderr",
     "output_type": "stream",
     "text": [
      "100%|██████████| 22/22 [00:00<00:00, 102.35it/s]\n",
      "100%|██████████| 4/4 [00:00<00:00, 208.71it/s]\n"
     ]
    },
    {
     "name": "stdout",
     "output_type": "stream",
     "text": [
      "Epoch 31/200, Train Loss: 0.2159, Test Loss: 0.2110\n"
     ]
    },
    {
     "name": "stderr",
     "output_type": "stream",
     "text": [
      "100%|██████████| 22/22 [00:00<00:00, 105.79it/s]\n",
      "100%|██████████| 4/4 [00:00<00:00, 209.02it/s]\n"
     ]
    },
    {
     "name": "stdout",
     "output_type": "stream",
     "text": [
      "Epoch 32/200, Train Loss: 0.2159, Test Loss: 0.2110\n"
     ]
    },
    {
     "name": "stderr",
     "output_type": "stream",
     "text": [
      "100%|██████████| 22/22 [00:00<00:00, 105.65it/s]\n",
      "100%|██████████| 4/4 [00:00<00:00, 160.45it/s]\n"
     ]
    },
    {
     "name": "stdout",
     "output_type": "stream",
     "text": [
      "Epoch 33/200, Train Loss: 0.2159, Test Loss: 0.2110\n"
     ]
    },
    {
     "name": "stderr",
     "output_type": "stream",
     "text": [
      "100%|██████████| 22/22 [00:00<00:00, 101.30it/s]\n",
      "100%|██████████| 4/4 [00:00<00:00, 185.35it/s]\n"
     ]
    },
    {
     "name": "stdout",
     "output_type": "stream",
     "text": [
      "Epoch 34/200, Train Loss: 0.2158, Test Loss: 0.2110\n"
     ]
    },
    {
     "name": "stderr",
     "output_type": "stream",
     "text": [
      "100%|██████████| 22/22 [00:00<00:00, 98.73it/s]\n",
      "100%|██████████| 4/4 [00:00<00:00, 185.42it/s]\n"
     ]
    },
    {
     "name": "stdout",
     "output_type": "stream",
     "text": [
      "Epoch 35/200, Train Loss: 0.2158, Test Loss: 0.2109\n"
     ]
    },
    {
     "name": "stderr",
     "output_type": "stream",
     "text": [
      "100%|██████████| 22/22 [00:00<00:00, 104.07it/s]\n",
      "100%|██████████| 4/4 [00:00<00:00, 198.12it/s]\n"
     ]
    },
    {
     "name": "stdout",
     "output_type": "stream",
     "text": [
      "Epoch 36/200, Train Loss: 0.2158, Test Loss: 0.2109\n"
     ]
    },
    {
     "name": "stderr",
     "output_type": "stream",
     "text": [
      "100%|██████████| 22/22 [00:00<00:00, 95.86it/s]\n",
      "100%|██████████| 4/4 [00:00<00:00, 207.47it/s]\n"
     ]
    },
    {
     "name": "stdout",
     "output_type": "stream",
     "text": [
      "Epoch 37/200, Train Loss: 0.2158, Test Loss: 0.2109\n"
     ]
    },
    {
     "name": "stderr",
     "output_type": "stream",
     "text": [
      "100%|██████████| 22/22 [00:00<00:00, 101.90it/s]\n",
      "100%|██████████| 4/4 [00:00<00:00, 203.43it/s]\n"
     ]
    },
    {
     "name": "stdout",
     "output_type": "stream",
     "text": [
      "Epoch 38/200, Train Loss: 0.2158, Test Loss: 0.2109\n"
     ]
    },
    {
     "name": "stderr",
     "output_type": "stream",
     "text": [
      "100%|██████████| 22/22 [00:00<00:00, 101.74it/s]\n",
      "100%|██████████| 4/4 [00:00<00:00, 209.77it/s]\n"
     ]
    },
    {
     "name": "stdout",
     "output_type": "stream",
     "text": [
      "Epoch 39/200, Train Loss: 0.2157, Test Loss: 0.2109\n"
     ]
    },
    {
     "name": "stderr",
     "output_type": "stream",
     "text": [
      "100%|██████████| 22/22 [00:00<00:00, 101.97it/s]\n",
      "100%|██████████| 4/4 [00:00<00:00, 186.28it/s]\n"
     ]
    },
    {
     "name": "stdout",
     "output_type": "stream",
     "text": [
      "Epoch 40/200, Train Loss: 0.2157, Test Loss: 0.2109\n"
     ]
    },
    {
     "name": "stderr",
     "output_type": "stream",
     "text": [
      "100%|██████████| 22/22 [00:00<00:00, 100.43it/s]\n",
      "100%|██████████| 4/4 [00:00<00:00, 211.16it/s]\n"
     ]
    },
    {
     "name": "stdout",
     "output_type": "stream",
     "text": [
      "Epoch 41/200, Train Loss: 0.2157, Test Loss: 0.2108\n"
     ]
    },
    {
     "name": "stderr",
     "output_type": "stream",
     "text": [
      "100%|██████████| 22/22 [00:00<00:00, 101.23it/s]\n",
      "100%|██████████| 4/4 [00:00<00:00, 185.26it/s]\n"
     ]
    },
    {
     "name": "stdout",
     "output_type": "stream",
     "text": [
      "Epoch 42/200, Train Loss: 0.2157, Test Loss: 0.2108\n"
     ]
    },
    {
     "name": "stderr",
     "output_type": "stream",
     "text": [
      "100%|██████████| 22/22 [00:00<00:00, 103.14it/s]\n",
      "100%|██████████| 4/4 [00:00<00:00, 178.16it/s]\n"
     ]
    },
    {
     "name": "stdout",
     "output_type": "stream",
     "text": [
      "Epoch 43/200, Train Loss: 0.2157, Test Loss: 0.2108\n"
     ]
    },
    {
     "name": "stderr",
     "output_type": "stream",
     "text": [
      "100%|██████████| 22/22 [00:00<00:00, 105.57it/s]\n",
      "100%|██████████| 4/4 [00:00<00:00, 214.37it/s]\n"
     ]
    },
    {
     "name": "stdout",
     "output_type": "stream",
     "text": [
      "Epoch 44/200, Train Loss: 0.2156, Test Loss: 0.2108\n"
     ]
    },
    {
     "name": "stderr",
     "output_type": "stream",
     "text": [
      "100%|██████████| 22/22 [00:00<00:00, 101.82it/s]\n",
      "100%|██████████| 4/4 [00:00<00:00, 206.92it/s]\n"
     ]
    },
    {
     "name": "stdout",
     "output_type": "stream",
     "text": [
      "Epoch 45/200, Train Loss: 0.2156, Test Loss: 0.2108\n",
      "No improvement in Test Loss for 1 epoch(s).\n",
      "Current Best Test Loss: 0.2108\n"
     ]
    },
    {
     "name": "stderr",
     "output_type": "stream",
     "text": [
      "100%|██████████| 22/22 [00:00<00:00, 102.54it/s]\n",
      "100%|██████████| 4/4 [00:00<00:00, 218.41it/s]\n"
     ]
    },
    {
     "name": "stdout",
     "output_type": "stream",
     "text": [
      "Epoch 46/200, Train Loss: 0.2156, Test Loss: 0.2108\n"
     ]
    },
    {
     "name": "stderr",
     "output_type": "stream",
     "text": [
      "100%|██████████| 22/22 [00:00<00:00, 101.68it/s]\n",
      "100%|██████████| 4/4 [00:00<00:00, 207.82it/s]\n"
     ]
    },
    {
     "name": "stdout",
     "output_type": "stream",
     "text": [
      "Epoch 47/200, Train Loss: 0.2156, Test Loss: 0.2108\n",
      "No improvement in Test Loss for 1 epoch(s).\n",
      "Current Best Test Loss: 0.2108\n"
     ]
    },
    {
     "name": "stderr",
     "output_type": "stream",
     "text": [
      "100%|██████████| 22/22 [00:00<00:00, 106.62it/s]\n",
      "100%|██████████| 4/4 [00:00<00:00, 186.91it/s]\n"
     ]
    },
    {
     "name": "stdout",
     "output_type": "stream",
     "text": [
      "Epoch 48/200, Train Loss: 0.2156, Test Loss: 0.2108\n"
     ]
    },
    {
     "name": "stderr",
     "output_type": "stream",
     "text": [
      "100%|██████████| 22/22 [00:00<00:00, 103.76it/s]\n",
      "100%|██████████| 4/4 [00:00<00:00, 214.45it/s]\n"
     ]
    },
    {
     "name": "stdout",
     "output_type": "stream",
     "text": [
      "Epoch 49/200, Train Loss: 0.2155, Test Loss: 0.2108\n",
      "No improvement in Test Loss for 1 epoch(s).\n",
      "Current Best Test Loss: 0.2108\n"
     ]
    },
    {
     "name": "stderr",
     "output_type": "stream",
     "text": [
      "100%|██████████| 22/22 [00:00<00:00, 104.17it/s]\n",
      "100%|██████████| 4/4 [00:00<00:00, 215.86it/s]\n"
     ]
    },
    {
     "name": "stdout",
     "output_type": "stream",
     "text": [
      "Epoch 50/200, Train Loss: 0.2155, Test Loss: 0.2108\n",
      "No improvement in Test Loss for 2 epoch(s).\n",
      "Current Best Test Loss: 0.2108\n"
     ]
    },
    {
     "name": "stderr",
     "output_type": "stream",
     "text": [
      "100%|██████████| 22/22 [00:00<00:00, 99.94it/s] \n",
      "100%|██████████| 4/4 [00:00<00:00, 177.42it/s]\n"
     ]
    },
    {
     "name": "stdout",
     "output_type": "stream",
     "text": [
      "Epoch 51/200, Train Loss: 0.2155, Test Loss: 0.2108\n",
      "No improvement in Test Loss for 3 epoch(s).\n",
      "Current Best Test Loss: 0.2108\n",
      "Early stopping triggered.\n",
      "Start training model with parameters: {'num_B_spline_basis': 20, 'downsample_factor': 10, 'transformer_num_layers': 2, 'transformer_d_model': 128, 'transformer_dim_feedforward': 512, 'transformer_vae_output_dim': 16, 'transformer_dropout': 0.0, 'transformer_nhead': 1, 'stimulus_nfactor': 1, 'stimulus_decoder_inter_dim_factor': 2, 'beta': 1.0, 'use_area_specific_decoder': True, 'use_area_specific_encoder': True, 'use_cls': False, 'coupling_basis_peaks_max': 5, 'coupling_basis_num': 3, 'coupling_nsubspace': 1, 'use_self_coupling': True, 'K_sigma2': 1.0, 'K_tau': 100, 'coupling_strength_nlatent': 1, 'self_history_basis_peaks_max': 1.5, 'self_history_basis_num': 3, 'self_history_basis_nonlinear': 1, 'penalty_smoothing_spline': 100.0, 'penalty_coupling_subgroup': 1e-05, 'penalty_diff_loading': None, 'penalty_loading_similarity': None, 'batch_size': 64, 'sample_latent': False, 'lr': 0.001, 'epoch_warm_up': 0, 'epoch_patience': 3, 'epoch_max': 200, 'tol': 1e-05, 'weight_decay': 0, 'lr_transformer': 0.0001, 'lr_sti': 0.01, 'lr_cp': 0.01, 'lr_self_history': 0.01}\n"
     ]
    },
    {
     "name": "stderr",
     "output_type": "stream",
     "text": [
      "100%|██████████| 22/22 [00:00<00:00, 83.24it/s]\n",
      "100%|██████████| 4/4 [00:00<00:00, 178.26it/s]\n"
     ]
    },
    {
     "name": "stdout",
     "output_type": "stream",
     "text": [
      "Epoch 1/200, Train Loss: 0.2157, Test Loss: 0.2108\n"
     ]
    },
    {
     "name": "stderr",
     "output_type": "stream",
     "text": [
      "100%|██████████| 22/22 [00:00<00:00, 82.78it/s]\n",
      "100%|██████████| 4/4 [00:00<00:00, 162.13it/s]\n"
     ]
    },
    {
     "name": "stdout",
     "output_type": "stream",
     "text": [
      "Epoch 2/200, Train Loss: 0.2155, Test Loss: 0.2104\n"
     ]
    },
    {
     "name": "stderr",
     "output_type": "stream",
     "text": [
      "100%|██████████| 22/22 [00:00<00:00, 84.17it/s]\n",
      "100%|██████████| 4/4 [00:00<00:00, 126.29it/s]\n"
     ]
    },
    {
     "name": "stdout",
     "output_type": "stream",
     "text": [
      "Epoch 3/200, Train Loss: 0.2151, Test Loss: 0.2102\n"
     ]
    },
    {
     "name": "stderr",
     "output_type": "stream",
     "text": [
      "100%|██████████| 22/22 [00:00<00:00, 84.42it/s]\n",
      "100%|██████████| 4/4 [00:00<00:00, 179.45it/s]\n"
     ]
    },
    {
     "name": "stdout",
     "output_type": "stream",
     "text": [
      "Epoch 4/200, Train Loss: 0.2150, Test Loss: 0.2099\n"
     ]
    },
    {
     "name": "stderr",
     "output_type": "stream",
     "text": [
      "100%|██████████| 22/22 [00:00<00:00, 82.00it/s]\n",
      "100%|██████████| 4/4 [00:00<00:00, 175.09it/s]\n"
     ]
    },
    {
     "name": "stdout",
     "output_type": "stream",
     "text": [
      "Epoch 5/200, Train Loss: 0.2147, Test Loss: 0.2098\n"
     ]
    },
    {
     "name": "stderr",
     "output_type": "stream",
     "text": [
      "100%|██████████| 22/22 [00:00<00:00, 86.18it/s]\n",
      "100%|██████████| 4/4 [00:00<00:00, 183.68it/s]\n"
     ]
    },
    {
     "name": "stdout",
     "output_type": "stream",
     "text": [
      "Epoch 6/200, Train Loss: 0.2146, Test Loss: 0.2098\n"
     ]
    },
    {
     "name": "stderr",
     "output_type": "stream",
     "text": [
      "100%|██████████| 22/22 [00:00<00:00, 86.32it/s]\n",
      "100%|██████████| 4/4 [00:00<00:00, 174.99it/s]\n"
     ]
    },
    {
     "name": "stdout",
     "output_type": "stream",
     "text": [
      "Epoch 7/200, Train Loss: 0.2146, Test Loss: 0.2098\n"
     ]
    },
    {
     "name": "stderr",
     "output_type": "stream",
     "text": [
      "100%|██████████| 22/22 [00:00<00:00, 86.93it/s]\n",
      "100%|██████████| 4/4 [00:00<00:00, 181.45it/s]\n"
     ]
    },
    {
     "name": "stdout",
     "output_type": "stream",
     "text": [
      "Epoch 8/200, Train Loss: 0.2146, Test Loss: 0.2097\n",
      "No improvement in Test Loss for 1 epoch(s).\n",
      "Current Best Test Loss: 0.2098\n"
     ]
    },
    {
     "name": "stderr",
     "output_type": "stream",
     "text": [
      "100%|██████████| 22/22 [00:00<00:00, 87.54it/s]\n",
      "100%|██████████| 4/4 [00:00<00:00, 182.82it/s]\n"
     ]
    },
    {
     "name": "stdout",
     "output_type": "stream",
     "text": [
      "Epoch 9/200, Train Loss: 0.2146, Test Loss: 0.2097\n"
     ]
    },
    {
     "name": "stderr",
     "output_type": "stream",
     "text": [
      "100%|██████████| 22/22 [00:00<00:00, 87.18it/s]\n",
      "100%|██████████| 4/4 [00:00<00:00, 182.80it/s]\n"
     ]
    },
    {
     "name": "stdout",
     "output_type": "stream",
     "text": [
      "Epoch 10/200, Train Loss: 0.2146, Test Loss: 0.2097\n",
      "No improvement in Test Loss for 1 epoch(s).\n",
      "Current Best Test Loss: 0.2097\n"
     ]
    },
    {
     "name": "stderr",
     "output_type": "stream",
     "text": [
      "100%|██████████| 22/22 [00:00<00:00, 81.23it/s]\n",
      "100%|██████████| 4/4 [00:00<00:00, 185.89it/s]\n"
     ]
    },
    {
     "name": "stdout",
     "output_type": "stream",
     "text": [
      "Epoch 11/200, Train Loss: 0.2146, Test Loss: 0.2097\n",
      "No improvement in Test Loss for 2 epoch(s).\n",
      "Current Best Test Loss: 0.2097\n"
     ]
    },
    {
     "name": "stderr",
     "output_type": "stream",
     "text": [
      "100%|██████████| 22/22 [00:00<00:00, 88.10it/s]\n",
      "100%|██████████| 4/4 [00:00<00:00, 187.75it/s]\n"
     ]
    },
    {
     "name": "stdout",
     "output_type": "stream",
     "text": [
      "Epoch 12/200, Train Loss: 0.2146, Test Loss: 0.2097\n"
     ]
    },
    {
     "name": "stderr",
     "output_type": "stream",
     "text": [
      "100%|██████████| 22/22 [00:00<00:00, 86.24it/s]\n",
      "100%|██████████| 4/4 [00:00<00:00, 179.64it/s]\n"
     ]
    },
    {
     "name": "stdout",
     "output_type": "stream",
     "text": [
      "Epoch 13/200, Train Loss: 0.2146, Test Loss: 0.2097\n",
      "No improvement in Test Loss for 1 epoch(s).\n",
      "Current Best Test Loss: 0.2097\n"
     ]
    },
    {
     "name": "stderr",
     "output_type": "stream",
     "text": [
      "100%|██████████| 22/22 [00:00<00:00, 87.18it/s]\n",
      "100%|██████████| 4/4 [00:00<00:00, 113.94it/s]\n"
     ]
    },
    {
     "name": "stdout",
     "output_type": "stream",
     "text": [
      "Epoch 14/200, Train Loss: 0.2146, Test Loss: 0.2097\n",
      "No improvement in Test Loss for 2 epoch(s).\n",
      "Current Best Test Loss: 0.2097\n"
     ]
    },
    {
     "name": "stderr",
     "output_type": "stream",
     "text": [
      "100%|██████████| 22/22 [00:00<00:00, 83.44it/s]\n",
      "100%|██████████| 4/4 [00:00<00:00, 180.87it/s]\n"
     ]
    },
    {
     "name": "stdout",
     "output_type": "stream",
     "text": [
      "Epoch 15/200, Train Loss: 0.2146, Test Loss: 0.2097\n",
      "No improvement in Test Loss for 3 epoch(s).\n",
      "Current Best Test Loss: 0.2097\n",
      "Early stopping triggered.\n",
      "Start training model with parameters: {'num_B_spline_basis': 20, 'downsample_factor': 10, 'transformer_num_layers': 2, 'transformer_d_model': 128, 'transformer_dim_feedforward': 512, 'transformer_vae_output_dim': 16, 'transformer_dropout': 0.0, 'transformer_nhead': 1, 'stimulus_nfactor': 1, 'stimulus_decoder_inter_dim_factor': 2, 'beta': 1.0, 'use_area_specific_decoder': True, 'use_area_specific_encoder': True, 'use_cls': False, 'coupling_basis_peaks_max': 5, 'coupling_basis_num': 3, 'coupling_nsubspace': 1, 'use_self_coupling': True, 'K_sigma2': 1.0, 'K_tau': 100, 'coupling_strength_nlatent': 1, 'self_history_basis_peaks_max': 1.5, 'self_history_basis_num': 3, 'self_history_basis_nonlinear': 1, 'penalty_smoothing_spline': 100.0, 'penalty_coupling_subgroup': 1e-05, 'penalty_diff_loading': None, 'penalty_loading_similarity': None, 'batch_size': 64, 'sample_latent': False, 'lr': 0.001, 'epoch_warm_up': 0, 'epoch_patience': 3, 'epoch_max': 200, 'tol': 1e-05, 'weight_decay': 0, 'lr_transformer': 0.0001, 'lr_sti': 0.01, 'lr_cp': 0.01, 'lr_self_history': 0.01}\n"
     ]
    },
    {
     "name": "stderr",
     "output_type": "stream",
     "text": [
      "100%|██████████| 22/22 [00:00<00:00, 81.81it/s]\n",
      "100%|██████████| 4/4 [00:00<00:00, 167.86it/s]\n"
     ]
    },
    {
     "name": "stdout",
     "output_type": "stream",
     "text": [
      "Epoch 1/200, Train Loss: 0.2146, Test Loss: 0.2097\n"
     ]
    },
    {
     "name": "stderr",
     "output_type": "stream",
     "text": [
      "100%|██████████| 22/22 [00:00<00:00, 85.82it/s]\n",
      "100%|██████████| 4/4 [00:00<00:00, 183.70it/s]\n"
     ]
    },
    {
     "name": "stdout",
     "output_type": "stream",
     "text": [
      "Epoch 2/200, Train Loss: 0.2146, Test Loss: 0.2097\n",
      "No improvement in Test Loss for 1 epoch(s).\n",
      "Current Best Test Loss: 0.2097\n"
     ]
    },
    {
     "name": "stderr",
     "output_type": "stream",
     "text": [
      "100%|██████████| 22/22 [00:00<00:00, 88.30it/s]\n",
      "100%|██████████| 4/4 [00:00<00:00, 124.04it/s]\n"
     ]
    },
    {
     "name": "stdout",
     "output_type": "stream",
     "text": [
      "Epoch 3/200, Train Loss: 0.2146, Test Loss: 0.2097\n",
      "No improvement in Test Loss for 2 epoch(s).\n",
      "Current Best Test Loss: 0.2097\n"
     ]
    },
    {
     "name": "stderr",
     "output_type": "stream",
     "text": [
      "100%|██████████| 22/22 [00:00<00:00, 85.43it/s]\n",
      "100%|██████████| 4/4 [00:00<00:00, 182.70it/s]\n"
     ]
    },
    {
     "name": "stdout",
     "output_type": "stream",
     "text": [
      "Epoch 4/200, Train Loss: 0.2146, Test Loss: 0.2097\n",
      "No improvement in Test Loss for 3 epoch(s).\n",
      "Current Best Test Loss: 0.2097\n",
      "Early stopping triggered.\n"
     ]
    },
    {
     "name": "stderr",
     "output_type": "stream",
     "text": [
      "100%|██████████| 7/7 [00:00<00:00, 161.00it/s]\n"
     ]
    },
    {
     "name": "stdout",
     "output_type": "stream",
     "text": [
      "Test loss: 0.22510227843413033\n",
      "Test loss baseline: 0.2308225328116643\n",
      "Model initialized. Training on cuda\n",
      "Start training model with parameters: {'num_B_spline_basis': 20, 'downsample_factor': 10, 'transformer_num_layers': 2, 'transformer_d_model': 128, 'transformer_dim_feedforward': 512, 'transformer_vae_output_dim': 16, 'transformer_dropout': 0.0, 'transformer_nhead': 1, 'stimulus_nfactor': 1, 'stimulus_decoder_inter_dim_factor': 2, 'beta': 1.0, 'use_area_specific_decoder': True, 'use_area_specific_encoder': True, 'use_cls': False, 'coupling_basis_peaks_max': 5, 'coupling_basis_num': 3, 'coupling_nsubspace': 1, 'use_self_coupling': True, 'K_sigma2': 1.0, 'K_tau': 100, 'coupling_strength_nlatent': 1, 'self_history_basis_peaks_max': 1.5, 'self_history_basis_num': 3, 'self_history_basis_nonlinear': 1, 'penalty_smoothing_spline': 100.0, 'penalty_coupling_subgroup': 1e-05, 'penalty_diff_loading': None, 'penalty_loading_similarity': None, 'batch_size': 64, 'sample_latent': False, 'lr': 0.001, 'epoch_warm_up': 0, 'epoch_patience': 3, 'epoch_max': 200, 'tol': 1e-05, 'weight_decay': 0, 'lr_transformer': 0.0001, 'lr_sti': 0.01, 'lr_cp': 0.01, 'lr_self_history': 0.01}\n"
     ]
    },
    {
     "name": "stderr",
     "output_type": "stream",
     "text": [
      "100%|██████████| 22/22 [00:00<00:00, 113.30it/s]\n",
      "100%|██████████| 4/4 [00:00<00:00, 195.45it/s]\n"
     ]
    },
    {
     "name": "stdout",
     "output_type": "stream",
     "text": [
      "Epoch 1/200, Train Loss: 0.7947, Test Loss: 0.4513\n"
     ]
    },
    {
     "name": "stderr",
     "output_type": "stream",
     "text": [
      "100%|██████████| 22/22 [00:00<00:00, 114.47it/s]\n",
      "100%|██████████| 4/4 [00:00<00:00, 218.31it/s]\n"
     ]
    },
    {
     "name": "stdout",
     "output_type": "stream",
     "text": [
      "Epoch 2/200, Train Loss: 0.3294, Test Loss: 0.2948\n"
     ]
    },
    {
     "name": "stderr",
     "output_type": "stream",
     "text": [
      "100%|██████████| 22/22 [00:00<00:00, 116.70it/s]\n",
      "100%|██████████| 4/4 [00:00<00:00, 220.34it/s]\n"
     ]
    },
    {
     "name": "stdout",
     "output_type": "stream",
     "text": [
      "Epoch 3/200, Train Loss: 0.2883, Test Loss: 0.2759\n"
     ]
    },
    {
     "name": "stderr",
     "output_type": "stream",
     "text": [
      "100%|██████████| 22/22 [00:00<00:00, 116.46it/s]\n",
      "100%|██████████| 4/4 [00:00<00:00, 222.52it/s]\n"
     ]
    },
    {
     "name": "stdout",
     "output_type": "stream",
     "text": [
      "Epoch 4/200, Train Loss: 0.2732, Test Loss: 0.2632\n"
     ]
    },
    {
     "name": "stderr",
     "output_type": "stream",
     "text": [
      "100%|██████████| 22/22 [00:00<00:00, 115.08it/s]\n",
      "100%|██████████| 4/4 [00:00<00:00, 224.25it/s]\n"
     ]
    },
    {
     "name": "stdout",
     "output_type": "stream",
     "text": [
      "Epoch 5/200, Train Loss: 0.2627, Test Loss: 0.2532\n"
     ]
    },
    {
     "name": "stderr",
     "output_type": "stream",
     "text": [
      "100%|██████████| 22/22 [00:00<00:00, 113.98it/s]\n",
      "100%|██████████| 4/4 [00:00<00:00, 212.59it/s]\n"
     ]
    },
    {
     "name": "stdout",
     "output_type": "stream",
     "text": [
      "Epoch 6/200, Train Loss: 0.2534, Test Loss: 0.2443\n"
     ]
    },
    {
     "name": "stderr",
     "output_type": "stream",
     "text": [
      "100%|██████████| 22/22 [00:00<00:00, 110.22it/s]\n",
      "100%|██████████| 4/4 [00:00<00:00, 197.02it/s]\n"
     ]
    },
    {
     "name": "stdout",
     "output_type": "stream",
     "text": [
      "Epoch 7/200, Train Loss: 0.2452, Test Loss: 0.2368\n"
     ]
    },
    {
     "name": "stderr",
     "output_type": "stream",
     "text": [
      "100%|██████████| 22/22 [00:00<00:00, 116.50it/s]\n",
      "100%|██████████| 4/4 [00:00<00:00, 207.48it/s]\n"
     ]
    },
    {
     "name": "stdout",
     "output_type": "stream",
     "text": [
      "Epoch 8/200, Train Loss: 0.2387, Test Loss: 0.2311\n"
     ]
    },
    {
     "name": "stderr",
     "output_type": "stream",
     "text": [
      "100%|██████████| 22/22 [00:00<00:00, 114.26it/s]\n",
      "100%|██████████| 4/4 [00:00<00:00, 210.35it/s]\n"
     ]
    },
    {
     "name": "stdout",
     "output_type": "stream",
     "text": [
      "Epoch 9/200, Train Loss: 0.2338, Test Loss: 0.2270\n"
     ]
    },
    {
     "name": "stderr",
     "output_type": "stream",
     "text": [
      "100%|██████████| 22/22 [00:00<00:00, 113.94it/s]\n",
      "100%|██████████| 4/4 [00:00<00:00, 202.17it/s]\n"
     ]
    },
    {
     "name": "stdout",
     "output_type": "stream",
     "text": [
      "Epoch 10/200, Train Loss: 0.2303, Test Loss: 0.2242\n"
     ]
    },
    {
     "name": "stderr",
     "output_type": "stream",
     "text": [
      "100%|██████████| 22/22 [00:00<00:00, 107.89it/s]\n",
      "100%|██████████| 4/4 [00:00<00:00, 182.84it/s]\n"
     ]
    },
    {
     "name": "stdout",
     "output_type": "stream",
     "text": [
      "Epoch 11/200, Train Loss: 0.2279, Test Loss: 0.2222\n"
     ]
    },
    {
     "name": "stderr",
     "output_type": "stream",
     "text": [
      "100%|██████████| 22/22 [00:00<00:00, 113.94it/s]\n",
      "100%|██████████| 4/4 [00:00<00:00, 222.53it/s]\n"
     ]
    },
    {
     "name": "stdout",
     "output_type": "stream",
     "text": [
      "Epoch 12/200, Train Loss: 0.2263, Test Loss: 0.2209\n"
     ]
    },
    {
     "name": "stderr",
     "output_type": "stream",
     "text": [
      "100%|██████████| 22/22 [00:00<00:00, 107.97it/s]\n",
      "100%|██████████| 4/4 [00:00<00:00, 223.88it/s]\n"
     ]
    },
    {
     "name": "stdout",
     "output_type": "stream",
     "text": [
      "Epoch 13/200, Train Loss: 0.2251, Test Loss: 0.2199\n"
     ]
    },
    {
     "name": "stderr",
     "output_type": "stream",
     "text": [
      "100%|██████████| 22/22 [00:00<00:00, 117.04it/s]\n",
      "100%|██████████| 4/4 [00:00<00:00, 218.28it/s]\n"
     ]
    },
    {
     "name": "stdout",
     "output_type": "stream",
     "text": [
      "Epoch 14/200, Train Loss: 0.2243, Test Loss: 0.2192\n"
     ]
    },
    {
     "name": "stderr",
     "output_type": "stream",
     "text": [
      "100%|██████████| 22/22 [00:00<00:00, 116.59it/s]\n",
      "100%|██████████| 4/4 [00:00<00:00, 216.51it/s]\n"
     ]
    },
    {
     "name": "stdout",
     "output_type": "stream",
     "text": [
      "Epoch 15/200, Train Loss: 0.2236, Test Loss: 0.2187\n"
     ]
    },
    {
     "name": "stderr",
     "output_type": "stream",
     "text": [
      "100%|██████████| 22/22 [00:00<00:00, 116.17it/s]\n",
      "100%|██████████| 4/4 [00:00<00:00, 220.27it/s]\n"
     ]
    },
    {
     "name": "stdout",
     "output_type": "stream",
     "text": [
      "Epoch 16/200, Train Loss: 0.2232, Test Loss: 0.2182\n"
     ]
    },
    {
     "name": "stderr",
     "output_type": "stream",
     "text": [
      "100%|██████████| 22/22 [00:00<00:00, 114.64it/s]\n",
      "100%|██████████| 4/4 [00:00<00:00, 211.84it/s]\n"
     ]
    },
    {
     "name": "stdout",
     "output_type": "stream",
     "text": [
      "Epoch 17/200, Train Loss: 0.2227, Test Loss: 0.2178\n"
     ]
    },
    {
     "name": "stderr",
     "output_type": "stream",
     "text": [
      "100%|██████████| 22/22 [00:00<00:00, 115.56it/s]\n",
      "100%|██████████| 4/4 [00:00<00:00, 222.24it/s]\n"
     ]
    },
    {
     "name": "stdout",
     "output_type": "stream",
     "text": [
      "Epoch 18/200, Train Loss: 0.2224, Test Loss: 0.2175\n"
     ]
    },
    {
     "name": "stderr",
     "output_type": "stream",
     "text": [
      "100%|██████████| 22/22 [00:00<00:00, 113.94it/s]\n",
      "100%|██████████| 4/4 [00:00<00:00, 211.44it/s]\n"
     ]
    },
    {
     "name": "stdout",
     "output_type": "stream",
     "text": [
      "Epoch 19/200, Train Loss: 0.2220, Test Loss: 0.2171\n"
     ]
    },
    {
     "name": "stderr",
     "output_type": "stream",
     "text": [
      "100%|██████████| 22/22 [00:00<00:00, 115.96it/s]\n",
      "100%|██████████| 4/4 [00:00<00:00, 218.50it/s]\n"
     ]
    },
    {
     "name": "stdout",
     "output_type": "stream",
     "text": [
      "Epoch 20/200, Train Loss: 0.2216, Test Loss: 0.2168\n"
     ]
    },
    {
     "name": "stderr",
     "output_type": "stream",
     "text": [
      "100%|██████████| 22/22 [00:00<00:00, 107.44it/s]\n",
      "100%|██████████| 4/4 [00:00<00:00, 219.70it/s]\n"
     ]
    },
    {
     "name": "stdout",
     "output_type": "stream",
     "text": [
      "Epoch 21/200, Train Loss: 0.2213, Test Loss: 0.2164\n"
     ]
    },
    {
     "name": "stderr",
     "output_type": "stream",
     "text": [
      "100%|██████████| 22/22 [00:00<00:00, 115.57it/s]\n",
      "100%|██████████| 4/4 [00:00<00:00, 226.92it/s]\n"
     ]
    },
    {
     "name": "stdout",
     "output_type": "stream",
     "text": [
      "Epoch 22/200, Train Loss: 0.2209, Test Loss: 0.2160\n"
     ]
    },
    {
     "name": "stderr",
     "output_type": "stream",
     "text": [
      "100%|██████████| 22/22 [00:00<00:00, 116.39it/s]\n",
      "100%|██████████| 4/4 [00:00<00:00, 223.40it/s]\n"
     ]
    },
    {
     "name": "stdout",
     "output_type": "stream",
     "text": [
      "Epoch 23/200, Train Loss: 0.2205, Test Loss: 0.2156\n"
     ]
    },
    {
     "name": "stderr",
     "output_type": "stream",
     "text": [
      "100%|██████████| 22/22 [00:00<00:00, 114.15it/s]\n",
      "100%|██████████| 4/4 [00:00<00:00, 201.92it/s]\n"
     ]
    },
    {
     "name": "stdout",
     "output_type": "stream",
     "text": [
      "Epoch 24/200, Train Loss: 0.2201, Test Loss: 0.2152\n"
     ]
    },
    {
     "name": "stderr",
     "output_type": "stream",
     "text": [
      "100%|██████████| 22/22 [00:00<00:00, 117.20it/s]\n",
      "100%|██████████| 4/4 [00:00<00:00, 223.00it/s]\n"
     ]
    },
    {
     "name": "stdout",
     "output_type": "stream",
     "text": [
      "Epoch 25/200, Train Loss: 0.2197, Test Loss: 0.2148\n"
     ]
    },
    {
     "name": "stderr",
     "output_type": "stream",
     "text": [
      "100%|██████████| 22/22 [00:00<00:00, 114.17it/s]\n",
      "100%|██████████| 4/4 [00:00<00:00, 188.65it/s]\n"
     ]
    },
    {
     "name": "stdout",
     "output_type": "stream",
     "text": [
      "Epoch 26/200, Train Loss: 0.2193, Test Loss: 0.2144\n"
     ]
    },
    {
     "name": "stderr",
     "output_type": "stream",
     "text": [
      "100%|██████████| 22/22 [00:00<00:00, 117.13it/s]\n",
      "100%|██████████| 4/4 [00:00<00:00, 217.45it/s]\n"
     ]
    },
    {
     "name": "stdout",
     "output_type": "stream",
     "text": [
      "Epoch 27/200, Train Loss: 0.2189, Test Loss: 0.2140\n"
     ]
    },
    {
     "name": "stderr",
     "output_type": "stream",
     "text": [
      "100%|██████████| 22/22 [00:00<00:00, 117.97it/s]\n",
      "100%|██████████| 4/4 [00:00<00:00, 223.24it/s]\n"
     ]
    },
    {
     "name": "stdout",
     "output_type": "stream",
     "text": [
      "Epoch 28/200, Train Loss: 0.2185, Test Loss: 0.2136\n"
     ]
    },
    {
     "name": "stderr",
     "output_type": "stream",
     "text": [
      "100%|██████████| 22/22 [00:00<00:00, 116.28it/s]\n",
      "100%|██████████| 4/4 [00:00<00:00, 224.41it/s]\n"
     ]
    },
    {
     "name": "stdout",
     "output_type": "stream",
     "text": [
      "Epoch 29/200, Train Loss: 0.2182, Test Loss: 0.2133\n"
     ]
    },
    {
     "name": "stderr",
     "output_type": "stream",
     "text": [
      "100%|██████████| 22/22 [00:00<00:00, 118.55it/s]\n",
      "100%|██████████| 4/4 [00:00<00:00, 220.68it/s]\n"
     ]
    },
    {
     "name": "stdout",
     "output_type": "stream",
     "text": [
      "Epoch 30/200, Train Loss: 0.2179, Test Loss: 0.2130\n"
     ]
    },
    {
     "name": "stderr",
     "output_type": "stream",
     "text": [
      "100%|██████████| 22/22 [00:00<00:00, 115.56it/s]\n",
      "100%|██████████| 4/4 [00:00<00:00, 228.82it/s]\n"
     ]
    },
    {
     "name": "stdout",
     "output_type": "stream",
     "text": [
      "Epoch 31/200, Train Loss: 0.2176, Test Loss: 0.2127\n"
     ]
    },
    {
     "name": "stderr",
     "output_type": "stream",
     "text": [
      "100%|██████████| 22/22 [00:00<00:00, 111.90it/s]\n",
      "100%|██████████| 4/4 [00:00<00:00, 221.53it/s]\n"
     ]
    },
    {
     "name": "stdout",
     "output_type": "stream",
     "text": [
      "Epoch 32/200, Train Loss: 0.2174, Test Loss: 0.2125\n"
     ]
    },
    {
     "name": "stderr",
     "output_type": "stream",
     "text": [
      "100%|██████████| 22/22 [00:00<00:00, 114.12it/s]\n",
      "100%|██████████| 4/4 [00:00<00:00, 218.63it/s]\n"
     ]
    },
    {
     "name": "stdout",
     "output_type": "stream",
     "text": [
      "Epoch 33/200, Train Loss: 0.2172, Test Loss: 0.2123\n"
     ]
    },
    {
     "name": "stderr",
     "output_type": "stream",
     "text": [
      "100%|██████████| 22/22 [00:00<00:00, 118.54it/s]\n",
      "100%|██████████| 4/4 [00:00<00:00, 224.53it/s]\n"
     ]
    },
    {
     "name": "stdout",
     "output_type": "stream",
     "text": [
      "Epoch 34/200, Train Loss: 0.2170, Test Loss: 0.2122\n"
     ]
    },
    {
     "name": "stderr",
     "output_type": "stream",
     "text": [
      "100%|██████████| 22/22 [00:00<00:00, 115.43it/s]\n",
      "100%|██████████| 4/4 [00:00<00:00, 213.43it/s]\n"
     ]
    },
    {
     "name": "stdout",
     "output_type": "stream",
     "text": [
      "Epoch 35/200, Train Loss: 0.2169, Test Loss: 0.2121\n"
     ]
    },
    {
     "name": "stderr",
     "output_type": "stream",
     "text": [
      "100%|██████████| 22/22 [00:00<00:00, 107.86it/s]\n",
      "100%|██████████| 4/4 [00:00<00:00, 180.56it/s]\n"
     ]
    },
    {
     "name": "stdout",
     "output_type": "stream",
     "text": [
      "Epoch 36/200, Train Loss: 0.2168, Test Loss: 0.2119\n"
     ]
    },
    {
     "name": "stderr",
     "output_type": "stream",
     "text": [
      "100%|██████████| 22/22 [00:00<00:00, 113.19it/s]\n",
      "100%|██████████| 4/4 [00:00<00:00, 195.56it/s]\n"
     ]
    },
    {
     "name": "stdout",
     "output_type": "stream",
     "text": [
      "Epoch 37/200, Train Loss: 0.2167, Test Loss: 0.2119\n"
     ]
    },
    {
     "name": "stderr",
     "output_type": "stream",
     "text": [
      "100%|██████████| 22/22 [00:00<00:00, 113.64it/s]\n",
      "100%|██████████| 4/4 [00:00<00:00, 219.06it/s]\n"
     ]
    },
    {
     "name": "stdout",
     "output_type": "stream",
     "text": [
      "Epoch 38/200, Train Loss: 0.2166, Test Loss: 0.2118\n"
     ]
    },
    {
     "name": "stderr",
     "output_type": "stream",
     "text": [
      "100%|██████████| 22/22 [00:00<00:00, 108.54it/s]\n",
      "100%|██████████| 4/4 [00:00<00:00, 220.80it/s]\n"
     ]
    },
    {
     "name": "stdout",
     "output_type": "stream",
     "text": [
      "Epoch 39/200, Train Loss: 0.2166, Test Loss: 0.2117\n"
     ]
    },
    {
     "name": "stderr",
     "output_type": "stream",
     "text": [
      "100%|██████████| 22/22 [00:00<00:00, 115.91it/s]\n",
      "100%|██████████| 4/4 [00:00<00:00, 219.83it/s]\n"
     ]
    },
    {
     "name": "stdout",
     "output_type": "stream",
     "text": [
      "Epoch 40/200, Train Loss: 0.2165, Test Loss: 0.2117\n"
     ]
    },
    {
     "name": "stderr",
     "output_type": "stream",
     "text": [
      "100%|██████████| 22/22 [00:00<00:00, 112.72it/s]\n",
      "100%|██████████| 4/4 [00:00<00:00, 218.52it/s]\n"
     ]
    },
    {
     "name": "stdout",
     "output_type": "stream",
     "text": [
      "Epoch 41/200, Train Loss: 0.2165, Test Loss: 0.2117\n"
     ]
    },
    {
     "name": "stderr",
     "output_type": "stream",
     "text": [
      "100%|██████████| 22/22 [00:00<00:00, 114.25it/s]\n",
      "100%|██████████| 4/4 [00:00<00:00, 220.12it/s]\n"
     ]
    },
    {
     "name": "stdout",
     "output_type": "stream",
     "text": [
      "Epoch 42/200, Train Loss: 0.2164, Test Loss: 0.2116\n"
     ]
    },
    {
     "name": "stderr",
     "output_type": "stream",
     "text": [
      "100%|██████████| 22/22 [00:00<00:00, 116.00it/s]\n",
      "100%|██████████| 4/4 [00:00<00:00, 222.00it/s]\n"
     ]
    },
    {
     "name": "stdout",
     "output_type": "stream",
     "text": [
      "Epoch 43/200, Train Loss: 0.2164, Test Loss: 0.2116\n"
     ]
    },
    {
     "name": "stderr",
     "output_type": "stream",
     "text": [
      "100%|██████████| 22/22 [00:00<00:00, 118.41it/s]\n",
      "100%|██████████| 4/4 [00:00<00:00, 186.52it/s]\n"
     ]
    },
    {
     "name": "stdout",
     "output_type": "stream",
     "text": [
      "Epoch 44/200, Train Loss: 0.2164, Test Loss: 0.2116\n"
     ]
    },
    {
     "name": "stderr",
     "output_type": "stream",
     "text": [
      "100%|██████████| 22/22 [00:00<00:00, 115.51it/s]\n",
      "100%|██████████| 4/4 [00:00<00:00, 208.67it/s]\n"
     ]
    },
    {
     "name": "stdout",
     "output_type": "stream",
     "text": [
      "Epoch 45/200, Train Loss: 0.2164, Test Loss: 0.2116\n"
     ]
    },
    {
     "name": "stderr",
     "output_type": "stream",
     "text": [
      "100%|██████████| 22/22 [00:00<00:00, 113.67it/s]\n",
      "100%|██████████| 4/4 [00:00<00:00, 218.93it/s]\n"
     ]
    },
    {
     "name": "stdout",
     "output_type": "stream",
     "text": [
      "Epoch 46/200, Train Loss: 0.2164, Test Loss: 0.2115\n"
     ]
    },
    {
     "name": "stderr",
     "output_type": "stream",
     "text": [
      "100%|██████████| 22/22 [00:00<00:00, 107.90it/s]\n",
      "100%|██████████| 4/4 [00:00<00:00, 221.79it/s]\n"
     ]
    },
    {
     "name": "stdout",
     "output_type": "stream",
     "text": [
      "Epoch 47/200, Train Loss: 0.2163, Test Loss: 0.2115\n"
     ]
    },
    {
     "name": "stderr",
     "output_type": "stream",
     "text": [
      "100%|██████████| 22/22 [00:00<00:00, 101.92it/s]\n",
      "100%|██████████| 4/4 [00:00<00:00, 197.03it/s]\n"
     ]
    },
    {
     "name": "stdout",
     "output_type": "stream",
     "text": [
      "Epoch 48/200, Train Loss: 0.2163, Test Loss: 0.2115\n"
     ]
    },
    {
     "name": "stderr",
     "output_type": "stream",
     "text": [
      "100%|██████████| 22/22 [00:00<00:00, 112.99it/s]\n",
      "100%|██████████| 4/4 [00:00<00:00, 168.55it/s]\n"
     ]
    },
    {
     "name": "stdout",
     "output_type": "stream",
     "text": [
      "Epoch 49/200, Train Loss: 0.2163, Test Loss: 0.2115\n",
      "No improvement in Test Loss for 1 epoch(s).\n",
      "Current Best Test Loss: 0.2115\n"
     ]
    },
    {
     "name": "stderr",
     "output_type": "stream",
     "text": [
      "100%|██████████| 22/22 [00:00<00:00, 113.63it/s]\n",
      "100%|██████████| 4/4 [00:00<00:00, 202.25it/s]\n"
     ]
    },
    {
     "name": "stdout",
     "output_type": "stream",
     "text": [
      "Epoch 50/200, Train Loss: 0.2163, Test Loss: 0.2115\n"
     ]
    },
    {
     "name": "stderr",
     "output_type": "stream",
     "text": [
      "100%|██████████| 22/22 [00:00<00:00, 100.88it/s]\n",
      "100%|██████████| 4/4 [00:00<00:00, 212.40it/s]\n"
     ]
    },
    {
     "name": "stdout",
     "output_type": "stream",
     "text": [
      "Epoch 51/200, Train Loss: 0.2163, Test Loss: 0.2115\n",
      "No improvement in Test Loss for 1 epoch(s).\n",
      "Current Best Test Loss: 0.2115\n"
     ]
    },
    {
     "name": "stderr",
     "output_type": "stream",
     "text": [
      "100%|██████████| 22/22 [00:00<00:00, 116.55it/s]\n",
      "100%|██████████| 4/4 [00:00<00:00, 217.49it/s]\n"
     ]
    },
    {
     "name": "stdout",
     "output_type": "stream",
     "text": [
      "Epoch 52/200, Train Loss: 0.2163, Test Loss: 0.2115\n"
     ]
    },
    {
     "name": "stderr",
     "output_type": "stream",
     "text": [
      "100%|██████████| 22/22 [00:00<00:00, 111.87it/s]\n",
      "100%|██████████| 4/4 [00:00<00:00, 223.34it/s]\n"
     ]
    },
    {
     "name": "stdout",
     "output_type": "stream",
     "text": [
      "Epoch 53/200, Train Loss: 0.2163, Test Loss: 0.2115\n",
      "No improvement in Test Loss for 1 epoch(s).\n",
      "Current Best Test Loss: 0.2115\n"
     ]
    },
    {
     "name": "stderr",
     "output_type": "stream",
     "text": [
      "100%|██████████| 22/22 [00:00<00:00, 115.67it/s]\n",
      "100%|██████████| 4/4 [00:00<00:00, 220.06it/s]\n"
     ]
    },
    {
     "name": "stdout",
     "output_type": "stream",
     "text": [
      "Epoch 54/200, Train Loss: 0.2163, Test Loss: 0.2115\n",
      "No improvement in Test Loss for 2 epoch(s).\n",
      "Current Best Test Loss: 0.2115\n"
     ]
    },
    {
     "name": "stderr",
     "output_type": "stream",
     "text": [
      "100%|██████████| 22/22 [00:00<00:00, 113.48it/s]\n",
      "100%|██████████| 4/4 [00:00<00:00, 216.42it/s]\n"
     ]
    },
    {
     "name": "stdout",
     "output_type": "stream",
     "text": [
      "Epoch 55/200, Train Loss: 0.2163, Test Loss: 0.2115\n"
     ]
    },
    {
     "name": "stderr",
     "output_type": "stream",
     "text": [
      "100%|██████████| 22/22 [00:00<00:00, 111.46it/s]\n",
      "100%|██████████| 4/4 [00:00<00:00, 199.95it/s]\n"
     ]
    },
    {
     "name": "stdout",
     "output_type": "stream",
     "text": [
      "Epoch 56/200, Train Loss: 0.2163, Test Loss: 0.2115\n",
      "No improvement in Test Loss for 1 epoch(s).\n",
      "Current Best Test Loss: 0.2115\n"
     ]
    },
    {
     "name": "stderr",
     "output_type": "stream",
     "text": [
      "100%|██████████| 22/22 [00:00<00:00, 114.95it/s]\n",
      "100%|██████████| 4/4 [00:00<00:00, 221.57it/s]\n"
     ]
    },
    {
     "name": "stdout",
     "output_type": "stream",
     "text": [
      "Epoch 57/200, Train Loss: 0.2163, Test Loss: 0.2115\n",
      "No improvement in Test Loss for 2 epoch(s).\n",
      "Current Best Test Loss: 0.2115\n"
     ]
    },
    {
     "name": "stderr",
     "output_type": "stream",
     "text": [
      "100%|██████████| 22/22 [00:00<00:00, 114.46it/s]\n",
      "100%|██████████| 4/4 [00:00<00:00, 219.22it/s]\n"
     ]
    },
    {
     "name": "stdout",
     "output_type": "stream",
     "text": [
      "Epoch 58/200, Train Loss: 0.2163, Test Loss: 0.2115\n",
      "No improvement in Test Loss for 3 epoch(s).\n",
      "Current Best Test Loss: 0.2115\n",
      "Early stopping triggered.\n"
     ]
    },
    {
     "name": "stderr",
     "output_type": "stream",
     "text": [
      "100%|██████████| 7/7 [00:00<00:00, 182.09it/s]\n"
     ]
    },
    {
     "name": "stdout",
     "output_type": "stream",
     "text": [
      "Test loss: 0.2355175592060993\n",
      "Test loss baseline: 0.2309132344333311\n",
      "Model initialized. Training on cuda\n",
      "Start training model with parameters: {'num_B_spline_basis': 20, 'downsample_factor': 10, 'transformer_num_layers': 2, 'transformer_d_model': 128, 'transformer_dim_feedforward': 512, 'transformer_vae_output_dim': 16, 'transformer_dropout': 0.0, 'transformer_nhead': 1, 'stimulus_nfactor': 1, 'stimulus_decoder_inter_dim_factor': 2, 'beta': 1.0, 'use_area_specific_decoder': True, 'use_area_specific_encoder': True, 'use_cls': False, 'coupling_basis_peaks_max': 5, 'coupling_basis_num': 3, 'coupling_nsubspace': 1, 'use_self_coupling': True, 'K_sigma2': 1.0, 'K_tau': 100, 'coupling_strength_nlatent': 1, 'self_history_basis_peaks_max': 1.5, 'self_history_basis_num': 3, 'self_history_basis_nonlinear': 1, 'penalty_smoothing_spline': 100.0, 'penalty_coupling_subgroup': 1e-05, 'penalty_diff_loading': None, 'penalty_loading_similarity': None, 'batch_size': 64, 'sample_latent': False, 'lr': 0.001, 'epoch_warm_up': 0, 'epoch_patience': 3, 'epoch_max': 200, 'tol': 1e-05, 'weight_decay': 0, 'lr_transformer': 0.0001, 'lr_sti': 0.01, 'lr_cp': 0.01, 'lr_self_history': 0.01}\n"
     ]
    },
    {
     "name": "stderr",
     "output_type": "stream",
     "text": [
      "100%|██████████| 22/22 [00:00<00:00, 144.14it/s]\n",
      "100%|██████████| 4/4 [00:00<00:00, 199.28it/s]"
     ]
    },
    {
     "name": "stdout",
     "output_type": "stream",
     "text": [
      "Epoch 1/200, Train Loss: 0.8756, Test Loss: 0.7417\n"
     ]
    },
    {
     "name": "stderr",
     "output_type": "stream",
     "text": [
      "\n",
      "100%|██████████| 22/22 [00:00<00:00, 151.01it/s]\n",
      "100%|██████████| 4/4 [00:00<00:00, 271.66it/s]\n"
     ]
    },
    {
     "name": "stdout",
     "output_type": "stream",
     "text": [
      "Epoch 2/200, Train Loss: 0.6208, Test Loss: 0.4985\n"
     ]
    },
    {
     "name": "stderr",
     "output_type": "stream",
     "text": [
      "100%|██████████| 22/22 [00:00<00:00, 157.67it/s]\n",
      "100%|██████████| 4/4 [00:00<00:00, 260.76it/s]\n"
     ]
    },
    {
     "name": "stdout",
     "output_type": "stream",
     "text": [
      "Epoch 3/200, Train Loss: 0.4137, Test Loss: 0.3372\n"
     ]
    },
    {
     "name": "stderr",
     "output_type": "stream",
     "text": [
      "100%|██████████| 22/22 [00:00<00:00, 152.32it/s]\n",
      "100%|██████████| 4/4 [00:00<00:00, 223.19it/s]\n"
     ]
    },
    {
     "name": "stdout",
     "output_type": "stream",
     "text": [
      "Epoch 4/200, Train Loss: 0.2995, Test Loss: 0.2662\n"
     ]
    },
    {
     "name": "stderr",
     "output_type": "stream",
     "text": [
      "100%|██████████| 22/22 [00:00<00:00, 151.53it/s]\n",
      "100%|██████████| 4/4 [00:00<00:00, 258.04it/s]\n"
     ]
    },
    {
     "name": "stdout",
     "output_type": "stream",
     "text": [
      "Epoch 5/200, Train Loss: 0.2544, Test Loss: 0.2405\n"
     ]
    },
    {
     "name": "stderr",
     "output_type": "stream",
     "text": [
      "100%|██████████| 22/22 [00:00<00:00, 156.49it/s]\n",
      "100%|██████████| 4/4 [00:00<00:00, 236.40it/s]\n"
     ]
    },
    {
     "name": "stdout",
     "output_type": "stream",
     "text": [
      "Epoch 6/200, Train Loss: 0.2379, Test Loss: 0.2305\n"
     ]
    },
    {
     "name": "stderr",
     "output_type": "stream",
     "text": [
      "100%|██████████| 22/22 [00:00<00:00, 152.71it/s]\n",
      "100%|██████████| 4/4 [00:00<00:00, 266.72it/s]\n"
     ]
    },
    {
     "name": "stdout",
     "output_type": "stream",
     "text": [
      "Epoch 7/200, Train Loss: 0.2311, Test Loss: 0.2260\n"
     ]
    },
    {
     "name": "stderr",
     "output_type": "stream",
     "text": [
      "100%|██████████| 22/22 [00:00<00:00, 153.75it/s]\n",
      "100%|██████████| 4/4 [00:00<00:00, 260.57it/s]\n"
     ]
    },
    {
     "name": "stdout",
     "output_type": "stream",
     "text": [
      "Epoch 8/200, Train Loss: 0.2279, Test Loss: 0.2237\n"
     ]
    },
    {
     "name": "stderr",
     "output_type": "stream",
     "text": [
      "100%|██████████| 22/22 [00:00<00:00, 162.29it/s]\n",
      "100%|██████████| 4/4 [00:00<00:00, 284.69it/s]\n"
     ]
    },
    {
     "name": "stdout",
     "output_type": "stream",
     "text": [
      "Epoch 9/200, Train Loss: 0.2261, Test Loss: 0.2223\n"
     ]
    },
    {
     "name": "stderr",
     "output_type": "stream",
     "text": [
      "100%|██████████| 22/22 [00:00<00:00, 158.69it/s]\n",
      "100%|██████████| 4/4 [00:00<00:00, 270.47it/s]\n"
     ]
    },
    {
     "name": "stdout",
     "output_type": "stream",
     "text": [
      "Epoch 10/200, Train Loss: 0.2251, Test Loss: 0.2215\n"
     ]
    },
    {
     "name": "stderr",
     "output_type": "stream",
     "text": [
      "100%|██████████| 22/22 [00:00<00:00, 159.74it/s]\n",
      "100%|██████████| 4/4 [00:00<00:00, 264.48it/s]\n"
     ]
    },
    {
     "name": "stdout",
     "output_type": "stream",
     "text": [
      "Epoch 11/200, Train Loss: 0.2244, Test Loss: 0.2210\n"
     ]
    },
    {
     "name": "stderr",
     "output_type": "stream",
     "text": [
      "100%|██████████| 22/22 [00:00<00:00, 154.02it/s]\n",
      "100%|██████████| 4/4 [00:00<00:00, 213.09it/s]\n"
     ]
    },
    {
     "name": "stdout",
     "output_type": "stream",
     "text": [
      "Epoch 12/200, Train Loss: 0.2240, Test Loss: 0.2206\n"
     ]
    },
    {
     "name": "stderr",
     "output_type": "stream",
     "text": [
      "100%|██████████| 22/22 [00:00<00:00, 138.89it/s]\n",
      "100%|██████████| 4/4 [00:00<00:00, 272.84it/s]\n"
     ]
    },
    {
     "name": "stdout",
     "output_type": "stream",
     "text": [
      "Epoch 13/200, Train Loss: 0.2237, Test Loss: 0.2203\n"
     ]
    },
    {
     "name": "stderr",
     "output_type": "stream",
     "text": [
      "100%|██████████| 22/22 [00:00<00:00, 154.03it/s]\n",
      "100%|██████████| 4/4 [00:00<00:00, 275.15it/s]\n"
     ]
    },
    {
     "name": "stdout",
     "output_type": "stream",
     "text": [
      "Epoch 14/200, Train Loss: 0.2235, Test Loss: 0.2201\n"
     ]
    },
    {
     "name": "stderr",
     "output_type": "stream",
     "text": [
      "100%|██████████| 22/22 [00:00<00:00, 154.61it/s]\n",
      "100%|██████████| 4/4 [00:00<00:00, 272.82it/s]\n"
     ]
    },
    {
     "name": "stdout",
     "output_type": "stream",
     "text": [
      "Epoch 15/200, Train Loss: 0.2233, Test Loss: 0.2200\n"
     ]
    },
    {
     "name": "stderr",
     "output_type": "stream",
     "text": [
      "100%|██████████| 22/22 [00:00<00:00, 149.92it/s]\n",
      "100%|██████████| 4/4 [00:00<00:00, 254.36it/s]\n"
     ]
    },
    {
     "name": "stdout",
     "output_type": "stream",
     "text": [
      "Epoch 16/200, Train Loss: 0.2231, Test Loss: 0.2198\n"
     ]
    },
    {
     "name": "stderr",
     "output_type": "stream",
     "text": [
      "100%|██████████| 22/22 [00:00<00:00, 160.87it/s]\n",
      "100%|██████████| 4/4 [00:00<00:00, 258.35it/s]\n"
     ]
    },
    {
     "name": "stdout",
     "output_type": "stream",
     "text": [
      "Epoch 17/200, Train Loss: 0.2230, Test Loss: 0.2197\n"
     ]
    },
    {
     "name": "stderr",
     "output_type": "stream",
     "text": [
      "100%|██████████| 22/22 [00:00<00:00, 148.47it/s]\n",
      "100%|██████████| 4/4 [00:00<00:00, 261.34it/s]\n"
     ]
    },
    {
     "name": "stdout",
     "output_type": "stream",
     "text": [
      "Epoch 18/200, Train Loss: 0.2229, Test Loss: 0.2196\n"
     ]
    },
    {
     "name": "stderr",
     "output_type": "stream",
     "text": [
      "100%|██████████| 22/22 [00:00<00:00, 146.91it/s]\n",
      "100%|██████████| 4/4 [00:00<00:00, 264.66it/s]\n"
     ]
    },
    {
     "name": "stdout",
     "output_type": "stream",
     "text": [
      "Epoch 19/200, Train Loss: 0.2228, Test Loss: 0.2195\n"
     ]
    },
    {
     "name": "stderr",
     "output_type": "stream",
     "text": [
      "100%|██████████| 22/22 [00:00<00:00, 159.43it/s]\n",
      "100%|██████████| 4/4 [00:00<00:00, 261.43it/s]\n"
     ]
    },
    {
     "name": "stdout",
     "output_type": "stream",
     "text": [
      "Epoch 20/200, Train Loss: 0.2227, Test Loss: 0.2195\n"
     ]
    },
    {
     "name": "stderr",
     "output_type": "stream",
     "text": [
      "100%|██████████| 22/22 [00:00<00:00, 158.62it/s]\n",
      "100%|██████████| 4/4 [00:00<00:00, 265.14it/s]\n"
     ]
    },
    {
     "name": "stdout",
     "output_type": "stream",
     "text": [
      "Epoch 21/200, Train Loss: 0.2226, Test Loss: 0.2194\n"
     ]
    },
    {
     "name": "stderr",
     "output_type": "stream",
     "text": [
      "100%|██████████| 22/22 [00:00<00:00, 153.02it/s]\n",
      "100%|██████████| 4/4 [00:00<00:00, 257.81it/s]\n"
     ]
    },
    {
     "name": "stdout",
     "output_type": "stream",
     "text": [
      "Epoch 22/200, Train Loss: 0.2226, Test Loss: 0.2193\n"
     ]
    },
    {
     "name": "stderr",
     "output_type": "stream",
     "text": [
      "100%|██████████| 22/22 [00:00<00:00, 151.55it/s]\n",
      "100%|██████████| 4/4 [00:00<00:00, 268.01it/s]\n"
     ]
    },
    {
     "name": "stdout",
     "output_type": "stream",
     "text": [
      "Epoch 23/200, Train Loss: 0.2225, Test Loss: 0.2193\n"
     ]
    },
    {
     "name": "stderr",
     "output_type": "stream",
     "text": [
      "100%|██████████| 22/22 [00:00<00:00, 152.52it/s]\n",
      "100%|██████████| 4/4 [00:00<00:00, 267.87it/s]\n"
     ]
    },
    {
     "name": "stdout",
     "output_type": "stream",
     "text": [
      "Epoch 24/200, Train Loss: 0.2224, Test Loss: 0.2192\n"
     ]
    },
    {
     "name": "stderr",
     "output_type": "stream",
     "text": [
      "100%|██████████| 22/22 [00:00<00:00, 154.35it/s]\n",
      "100%|██████████| 4/4 [00:00<00:00, 223.48it/s]\n"
     ]
    },
    {
     "name": "stdout",
     "output_type": "stream",
     "text": [
      "Epoch 25/200, Train Loss: 0.2224, Test Loss: 0.2192\n"
     ]
    },
    {
     "name": "stderr",
     "output_type": "stream",
     "text": [
      "100%|██████████| 22/22 [00:00<00:00, 159.31it/s]\n",
      "100%|██████████| 4/4 [00:00<00:00, 249.11it/s]\n"
     ]
    },
    {
     "name": "stdout",
     "output_type": "stream",
     "text": [
      "Epoch 26/200, Train Loss: 0.2223, Test Loss: 0.2191\n"
     ]
    },
    {
     "name": "stderr",
     "output_type": "stream",
     "text": [
      "100%|██████████| 22/22 [00:00<00:00, 160.85it/s]\n",
      "100%|██████████| 4/4 [00:00<00:00, 264.25it/s]\n"
     ]
    },
    {
     "name": "stdout",
     "output_type": "stream",
     "text": [
      "Epoch 27/200, Train Loss: 0.2223, Test Loss: 0.2191\n"
     ]
    },
    {
     "name": "stderr",
     "output_type": "stream",
     "text": [
      "100%|██████████| 22/22 [00:00<00:00, 137.93it/s]\n",
      "100%|██████████| 4/4 [00:00<00:00, 260.01it/s]\n"
     ]
    },
    {
     "name": "stdout",
     "output_type": "stream",
     "text": [
      "Epoch 28/200, Train Loss: 0.2222, Test Loss: 0.2190\n"
     ]
    },
    {
     "name": "stderr",
     "output_type": "stream",
     "text": [
      "100%|██████████| 22/22 [00:00<00:00, 152.09it/s]\n",
      "100%|██████████| 4/4 [00:00<00:00, 274.39it/s]\n"
     ]
    },
    {
     "name": "stdout",
     "output_type": "stream",
     "text": [
      "Epoch 29/200, Train Loss: 0.2222, Test Loss: 0.2190\n"
     ]
    },
    {
     "name": "stderr",
     "output_type": "stream",
     "text": [
      "100%|██████████| 22/22 [00:00<00:00, 150.91it/s]\n",
      "100%|██████████| 4/4 [00:00<00:00, 261.82it/s]\n"
     ]
    },
    {
     "name": "stdout",
     "output_type": "stream",
     "text": [
      "Epoch 30/200, Train Loss: 0.2222, Test Loss: 0.2190\n"
     ]
    },
    {
     "name": "stderr",
     "output_type": "stream",
     "text": [
      "100%|██████████| 22/22 [00:00<00:00, 157.65it/s]\n",
      "100%|██████████| 4/4 [00:00<00:00, 236.15it/s]\n"
     ]
    },
    {
     "name": "stdout",
     "output_type": "stream",
     "text": [
      "Epoch 31/200, Train Loss: 0.2221, Test Loss: 0.2190\n"
     ]
    },
    {
     "name": "stderr",
     "output_type": "stream",
     "text": [
      "100%|██████████| 22/22 [00:00<00:00, 159.14it/s]\n",
      "100%|██████████| 4/4 [00:00<00:00, 260.13it/s]\n"
     ]
    },
    {
     "name": "stdout",
     "output_type": "stream",
     "text": [
      "Epoch 32/200, Train Loss: 0.2221, Test Loss: 0.2189\n"
     ]
    },
    {
     "name": "stderr",
     "output_type": "stream",
     "text": [
      "100%|██████████| 22/22 [00:00<00:00, 148.27it/s]\n",
      "100%|██████████| 4/4 [00:00<00:00, 271.67it/s]\n"
     ]
    },
    {
     "name": "stdout",
     "output_type": "stream",
     "text": [
      "Epoch 33/200, Train Loss: 0.2221, Test Loss: 0.2189\n"
     ]
    },
    {
     "name": "stderr",
     "output_type": "stream",
     "text": [
      "100%|██████████| 22/22 [00:00<00:00, 149.84it/s]\n",
      "100%|██████████| 4/4 [00:00<00:00, 275.32it/s]\n"
     ]
    },
    {
     "name": "stdout",
     "output_type": "stream",
     "text": [
      "Epoch 34/200, Train Loss: 0.2221, Test Loss: 0.2189\n"
     ]
    },
    {
     "name": "stderr",
     "output_type": "stream",
     "text": [
      "100%|██████████| 22/22 [00:00<00:00, 154.47it/s]\n",
      "100%|██████████| 4/4 [00:00<00:00, 282.05it/s]\n"
     ]
    },
    {
     "name": "stdout",
     "output_type": "stream",
     "text": [
      "Epoch 35/200, Train Loss: 0.2220, Test Loss: 0.2189\n"
     ]
    },
    {
     "name": "stderr",
     "output_type": "stream",
     "text": [
      "100%|██████████| 22/22 [00:00<00:00, 148.63it/s]\n",
      "100%|██████████| 4/4 [00:00<00:00, 258.98it/s]\n"
     ]
    },
    {
     "name": "stdout",
     "output_type": "stream",
     "text": [
      "Epoch 36/200, Train Loss: 0.2220, Test Loss: 0.2188\n"
     ]
    },
    {
     "name": "stderr",
     "output_type": "stream",
     "text": [
      "100%|██████████| 22/22 [00:00<00:00, 166.47it/s]\n",
      "100%|██████████| 4/4 [00:00<00:00, 274.18it/s]\n"
     ]
    },
    {
     "name": "stdout",
     "output_type": "stream",
     "text": [
      "Epoch 37/200, Train Loss: 0.2220, Test Loss: 0.2188\n"
     ]
    },
    {
     "name": "stderr",
     "output_type": "stream",
     "text": [
      "100%|██████████| 22/22 [00:00<00:00, 155.63it/s]\n",
      "100%|██████████| 4/4 [00:00<00:00, 249.76it/s]\n"
     ]
    },
    {
     "name": "stdout",
     "output_type": "stream",
     "text": [
      "Epoch 38/200, Train Loss: 0.2220, Test Loss: 0.2188\n"
     ]
    },
    {
     "name": "stderr",
     "output_type": "stream",
     "text": [
      "100%|██████████| 22/22 [00:00<00:00, 158.99it/s]\n",
      "100%|██████████| 4/4 [00:00<00:00, 245.91it/s]\n"
     ]
    },
    {
     "name": "stdout",
     "output_type": "stream",
     "text": [
      "Epoch 39/200, Train Loss: 0.2220, Test Loss: 0.2188\n"
     ]
    },
    {
     "name": "stderr",
     "output_type": "stream",
     "text": [
      "100%|██████████| 22/22 [00:00<00:00, 150.55it/s]\n",
      "100%|██████████| 4/4 [00:00<00:00, 213.55it/s]\n"
     ]
    },
    {
     "name": "stdout",
     "output_type": "stream",
     "text": [
      "Epoch 40/200, Train Loss: 0.2219, Test Loss: 0.2188\n"
     ]
    },
    {
     "name": "stderr",
     "output_type": "stream",
     "text": [
      "100%|██████████| 22/22 [00:00<00:00, 162.32it/s]\n",
      "100%|██████████| 4/4 [00:00<00:00, 266.14it/s]\n"
     ]
    },
    {
     "name": "stdout",
     "output_type": "stream",
     "text": [
      "Epoch 41/200, Train Loss: 0.2219, Test Loss: 0.2188\n"
     ]
    },
    {
     "name": "stderr",
     "output_type": "stream",
     "text": [
      "100%|██████████| 22/22 [00:00<00:00, 162.05it/s]\n",
      "100%|██████████| 4/4 [00:00<00:00, 222.45it/s]\n"
     ]
    },
    {
     "name": "stdout",
     "output_type": "stream",
     "text": [
      "Epoch 42/200, Train Loss: 0.2219, Test Loss: 0.2187\n"
     ]
    },
    {
     "name": "stderr",
     "output_type": "stream",
     "text": [
      "100%|██████████| 22/22 [00:00<00:00, 148.51it/s]\n",
      "100%|██████████| 4/4 [00:00<00:00, 268.64it/s]\n"
     ]
    },
    {
     "name": "stdout",
     "output_type": "stream",
     "text": [
      "Epoch 43/200, Train Loss: 0.2219, Test Loss: 0.2187\n"
     ]
    },
    {
     "name": "stderr",
     "output_type": "stream",
     "text": [
      "100%|██████████| 22/22 [00:00<00:00, 152.99it/s]\n",
      "100%|██████████| 4/4 [00:00<00:00, 258.64it/s]\n"
     ]
    },
    {
     "name": "stdout",
     "output_type": "stream",
     "text": [
      "Epoch 44/200, Train Loss: 0.2219, Test Loss: 0.2187\n"
     ]
    },
    {
     "name": "stderr",
     "output_type": "stream",
     "text": [
      "100%|██████████| 22/22 [00:00<00:00, 158.85it/s]\n",
      "100%|██████████| 4/4 [00:00<00:00, 272.71it/s]\n"
     ]
    },
    {
     "name": "stdout",
     "output_type": "stream",
     "text": [
      "Epoch 45/200, Train Loss: 0.2219, Test Loss: 0.2187\n"
     ]
    },
    {
     "name": "stderr",
     "output_type": "stream",
     "text": [
      "100%|██████████| 22/22 [00:00<00:00, 156.80it/s]\n",
      "100%|██████████| 4/4 [00:00<00:00, 270.03it/s]\n"
     ]
    },
    {
     "name": "stdout",
     "output_type": "stream",
     "text": [
      "Epoch 46/200, Train Loss: 0.2219, Test Loss: 0.2187\n"
     ]
    },
    {
     "name": "stderr",
     "output_type": "stream",
     "text": [
      "100%|██████████| 22/22 [00:00<00:00, 156.12it/s]\n",
      "100%|██████████| 4/4 [00:00<00:00, 265.93it/s]\n"
     ]
    },
    {
     "name": "stdout",
     "output_type": "stream",
     "text": [
      "Epoch 47/200, Train Loss: 0.2219, Test Loss: 0.2187\n"
     ]
    },
    {
     "name": "stderr",
     "output_type": "stream",
     "text": [
      "100%|██████████| 22/22 [00:00<00:00, 149.67it/s]\n",
      "100%|██████████| 4/4 [00:00<00:00, 262.03it/s]\n"
     ]
    },
    {
     "name": "stdout",
     "output_type": "stream",
     "text": [
      "Epoch 48/200, Train Loss: 0.2218, Test Loss: 0.2187\n",
      "No improvement in Test Loss for 1 epoch(s).\n",
      "Current Best Test Loss: 0.2187\n"
     ]
    },
    {
     "name": "stderr",
     "output_type": "stream",
     "text": [
      "100%|██████████| 22/22 [00:00<00:00, 151.17it/s]\n",
      "100%|██████████| 4/4 [00:00<00:00, 267.00it/s]\n"
     ]
    },
    {
     "name": "stdout",
     "output_type": "stream",
     "text": [
      "Epoch 49/200, Train Loss: 0.2218, Test Loss: 0.2187\n"
     ]
    },
    {
     "name": "stderr",
     "output_type": "stream",
     "text": [
      "100%|██████████| 22/22 [00:00<00:00, 143.92it/s]\n",
      "100%|██████████| 4/4 [00:00<00:00, 235.95it/s]\n"
     ]
    },
    {
     "name": "stdout",
     "output_type": "stream",
     "text": [
      "Epoch 50/200, Train Loss: 0.2218, Test Loss: 0.2187\n",
      "No improvement in Test Loss for 1 epoch(s).\n",
      "Current Best Test Loss: 0.2187\n"
     ]
    },
    {
     "name": "stderr",
     "output_type": "stream",
     "text": [
      "100%|██████████| 22/22 [00:00<00:00, 155.05it/s]\n",
      "100%|██████████| 4/4 [00:00<00:00, 266.30it/s]\n"
     ]
    },
    {
     "name": "stdout",
     "output_type": "stream",
     "text": [
      "Epoch 51/200, Train Loss: 0.2218, Test Loss: 0.2187\n"
     ]
    },
    {
     "name": "stderr",
     "output_type": "stream",
     "text": [
      "100%|██████████| 22/22 [00:00<00:00, 161.29it/s]\n",
      "100%|██████████| 4/4 [00:00<00:00, 277.21it/s]\n"
     ]
    },
    {
     "name": "stdout",
     "output_type": "stream",
     "text": [
      "Epoch 52/200, Train Loss: 0.2218, Test Loss: 0.2186\n",
      "No improvement in Test Loss for 1 epoch(s).\n",
      "Current Best Test Loss: 0.2187\n"
     ]
    },
    {
     "name": "stderr",
     "output_type": "stream",
     "text": [
      "100%|██████████| 22/22 [00:00<00:00, 148.23it/s]\n",
      "100%|██████████| 4/4 [00:00<00:00, 271.85it/s]\n"
     ]
    },
    {
     "name": "stdout",
     "output_type": "stream",
     "text": [
      "Epoch 53/200, Train Loss: 0.2218, Test Loss: 0.2186\n"
     ]
    },
    {
     "name": "stderr",
     "output_type": "stream",
     "text": [
      "100%|██████████| 22/22 [00:00<00:00, 150.95it/s]\n",
      "100%|██████████| 4/4 [00:00<00:00, 270.43it/s]\n"
     ]
    },
    {
     "name": "stdout",
     "output_type": "stream",
     "text": [
      "Epoch 54/200, Train Loss: 0.2218, Test Loss: 0.2186\n",
      "No improvement in Test Loss for 1 epoch(s).\n",
      "Current Best Test Loss: 0.2186\n"
     ]
    },
    {
     "name": "stderr",
     "output_type": "stream",
     "text": [
      "100%|██████████| 22/22 [00:00<00:00, 161.31it/s]\n",
      "100%|██████████| 4/4 [00:00<00:00, 267.06it/s]\n"
     ]
    },
    {
     "name": "stdout",
     "output_type": "stream",
     "text": [
      "Epoch 55/200, Train Loss: 0.2218, Test Loss: 0.2186\n"
     ]
    },
    {
     "name": "stderr",
     "output_type": "stream",
     "text": [
      "100%|██████████| 22/22 [00:00<00:00, 161.43it/s]\n",
      "100%|██████████| 4/4 [00:00<00:00, 259.68it/s]\n"
     ]
    },
    {
     "name": "stdout",
     "output_type": "stream",
     "text": [
      "Epoch 56/200, Train Loss: 0.2218, Test Loss: 0.2186\n",
      "No improvement in Test Loss for 1 epoch(s).\n",
      "Current Best Test Loss: 0.2186\n"
     ]
    },
    {
     "name": "stderr",
     "output_type": "stream",
     "text": [
      "100%|██████████| 22/22 [00:00<00:00, 158.65it/s]\n",
      "100%|██████████| 4/4 [00:00<00:00, 269.97it/s]\n"
     ]
    },
    {
     "name": "stdout",
     "output_type": "stream",
     "text": [
      "Epoch 57/200, Train Loss: 0.2218, Test Loss: 0.2186\n"
     ]
    },
    {
     "name": "stderr",
     "output_type": "stream",
     "text": [
      "100%|██████████| 22/22 [00:00<00:00, 163.68it/s]\n",
      "100%|██████████| 4/4 [00:00<00:00, 267.17it/s]\n"
     ]
    },
    {
     "name": "stdout",
     "output_type": "stream",
     "text": [
      "Epoch 58/200, Train Loss: 0.2218, Test Loss: 0.2186\n",
      "No improvement in Test Loss for 1 epoch(s).\n",
      "Current Best Test Loss: 0.2186\n"
     ]
    },
    {
     "name": "stderr",
     "output_type": "stream",
     "text": [
      "100%|██████████| 22/22 [00:00<00:00, 154.13it/s]\n",
      "100%|██████████| 4/4 [00:00<00:00, 266.28it/s]\n"
     ]
    },
    {
     "name": "stdout",
     "output_type": "stream",
     "text": [
      "Epoch 59/200, Train Loss: 0.2218, Test Loss: 0.2186\n"
     ]
    },
    {
     "name": "stderr",
     "output_type": "stream",
     "text": [
      "100%|██████████| 22/22 [00:00<00:00, 151.93it/s]\n",
      "100%|██████████| 4/4 [00:00<00:00, 272.86it/s]\n"
     ]
    },
    {
     "name": "stdout",
     "output_type": "stream",
     "text": [
      "Epoch 60/200, Train Loss: 0.2218, Test Loss: 0.2186\n",
      "No improvement in Test Loss for 1 epoch(s).\n",
      "Current Best Test Loss: 0.2186\n"
     ]
    },
    {
     "name": "stderr",
     "output_type": "stream",
     "text": [
      "100%|██████████| 22/22 [00:00<00:00, 162.48it/s]\n",
      "100%|██████████| 4/4 [00:00<00:00, 270.03it/s]\n"
     ]
    },
    {
     "name": "stdout",
     "output_type": "stream",
     "text": [
      "Epoch 61/200, Train Loss: 0.2217, Test Loss: 0.2186\n"
     ]
    },
    {
     "name": "stderr",
     "output_type": "stream",
     "text": [
      "100%|██████████| 22/22 [00:00<00:00, 155.23it/s]\n",
      "100%|██████████| 4/4 [00:00<00:00, 247.53it/s]\n"
     ]
    },
    {
     "name": "stdout",
     "output_type": "stream",
     "text": [
      "Epoch 62/200, Train Loss: 0.2217, Test Loss: 0.2186\n",
      "No improvement in Test Loss for 1 epoch(s).\n",
      "Current Best Test Loss: 0.2186\n"
     ]
    },
    {
     "name": "stderr",
     "output_type": "stream",
     "text": [
      "100%|██████████| 22/22 [00:00<00:00, 154.54it/s]\n",
      "100%|██████████| 4/4 [00:00<00:00, 265.23it/s]\n"
     ]
    },
    {
     "name": "stdout",
     "output_type": "stream",
     "text": [
      "Epoch 63/200, Train Loss: 0.2217, Test Loss: 0.2186\n"
     ]
    },
    {
     "name": "stderr",
     "output_type": "stream",
     "text": [
      "100%|██████████| 22/22 [00:00<00:00, 155.59it/s]\n",
      "100%|██████████| 4/4 [00:00<00:00, 277.99it/s]\n"
     ]
    },
    {
     "name": "stdout",
     "output_type": "stream",
     "text": [
      "Epoch 64/200, Train Loss: 0.2217, Test Loss: 0.2186\n",
      "No improvement in Test Loss for 1 epoch(s).\n",
      "Current Best Test Loss: 0.2186\n"
     ]
    },
    {
     "name": "stderr",
     "output_type": "stream",
     "text": [
      "100%|██████████| 22/22 [00:00<00:00, 152.64it/s]\n",
      "100%|██████████| 4/4 [00:00<00:00, 253.52it/s]\n"
     ]
    },
    {
     "name": "stdout",
     "output_type": "stream",
     "text": [
      "Epoch 65/200, Train Loss: 0.2217, Test Loss: 0.2186\n"
     ]
    },
    {
     "name": "stderr",
     "output_type": "stream",
     "text": [
      "100%|██████████| 22/22 [00:00<00:00, 158.79it/s]\n",
      "100%|██████████| 4/4 [00:00<00:00, 200.18it/s]\n"
     ]
    },
    {
     "name": "stdout",
     "output_type": "stream",
     "text": [
      "Epoch 66/200, Train Loss: 0.2217, Test Loss: 0.2185\n",
      "No improvement in Test Loss for 1 epoch(s).\n",
      "Current Best Test Loss: 0.2186\n"
     ]
    },
    {
     "name": "stderr",
     "output_type": "stream",
     "text": [
      "100%|██████████| 22/22 [00:00<00:00, 149.87it/s]\n",
      "100%|██████████| 4/4 [00:00<00:00, 273.22it/s]\n"
     ]
    },
    {
     "name": "stdout",
     "output_type": "stream",
     "text": [
      "Epoch 67/200, Train Loss: 0.2217, Test Loss: 0.2185\n"
     ]
    },
    {
     "name": "stderr",
     "output_type": "stream",
     "text": [
      "100%|██████████| 22/22 [00:00<00:00, 150.96it/s]\n",
      "100%|██████████| 4/4 [00:00<00:00, 215.76it/s]\n"
     ]
    },
    {
     "name": "stdout",
     "output_type": "stream",
     "text": [
      "Epoch 68/200, Train Loss: 0.2217, Test Loss: 0.2185\n",
      "No improvement in Test Loss for 1 epoch(s).\n",
      "Current Best Test Loss: 0.2185\n"
     ]
    },
    {
     "name": "stderr",
     "output_type": "stream",
     "text": [
      "100%|██████████| 22/22 [00:00<00:00, 157.28it/s]\n",
      "100%|██████████| 4/4 [00:00<00:00, 197.86it/s]\n"
     ]
    },
    {
     "name": "stdout",
     "output_type": "stream",
     "text": [
      "Epoch 69/200, Train Loss: 0.2217, Test Loss: 0.2185\n"
     ]
    },
    {
     "name": "stderr",
     "output_type": "stream",
     "text": [
      "100%|██████████| 22/22 [00:00<00:00, 154.52it/s]\n",
      "100%|██████████| 4/4 [00:00<00:00, 268.52it/s]\n"
     ]
    },
    {
     "name": "stdout",
     "output_type": "stream",
     "text": [
      "Epoch 70/200, Train Loss: 0.2217, Test Loss: 0.2185\n",
      "No improvement in Test Loss for 1 epoch(s).\n",
      "Current Best Test Loss: 0.2185\n"
     ]
    },
    {
     "name": "stderr",
     "output_type": "stream",
     "text": [
      "100%|██████████| 22/22 [00:00<00:00, 164.28it/s]\n",
      "100%|██████████| 4/4 [00:00<00:00, 259.88it/s]\n"
     ]
    },
    {
     "name": "stdout",
     "output_type": "stream",
     "text": [
      "Epoch 71/200, Train Loss: 0.2217, Test Loss: 0.2185\n"
     ]
    },
    {
     "name": "stderr",
     "output_type": "stream",
     "text": [
      "100%|██████████| 22/22 [00:00<00:00, 157.71it/s]\n",
      "100%|██████████| 4/4 [00:00<00:00, 261.06it/s]\n"
     ]
    },
    {
     "name": "stdout",
     "output_type": "stream",
     "text": [
      "Epoch 72/200, Train Loss: 0.2217, Test Loss: 0.2185\n",
      "No improvement in Test Loss for 1 epoch(s).\n",
      "Current Best Test Loss: 0.2185\n"
     ]
    },
    {
     "name": "stderr",
     "output_type": "stream",
     "text": [
      "100%|██████████| 22/22 [00:00<00:00, 155.00it/s]\n",
      "100%|██████████| 4/4 [00:00<00:00, 228.14it/s]\n"
     ]
    },
    {
     "name": "stdout",
     "output_type": "stream",
     "text": [
      "Epoch 73/200, Train Loss: 0.2217, Test Loss: 0.2185\n"
     ]
    },
    {
     "name": "stderr",
     "output_type": "stream",
     "text": [
      "100%|██████████| 22/22 [00:00<00:00, 156.18it/s]\n",
      "100%|██████████| 4/4 [00:00<00:00, 272.15it/s]\n"
     ]
    },
    {
     "name": "stdout",
     "output_type": "stream",
     "text": [
      "Epoch 74/200, Train Loss: 0.2217, Test Loss: 0.2185\n",
      "No improvement in Test Loss for 1 epoch(s).\n",
      "Current Best Test Loss: 0.2185\n"
     ]
    },
    {
     "name": "stderr",
     "output_type": "stream",
     "text": [
      "100%|██████████| 22/22 [00:00<00:00, 145.59it/s]\n",
      "100%|██████████| 4/4 [00:00<00:00, 277.03it/s]\n"
     ]
    },
    {
     "name": "stdout",
     "output_type": "stream",
     "text": [
      "Epoch 75/200, Train Loss: 0.2217, Test Loss: 0.2185\n"
     ]
    },
    {
     "name": "stderr",
     "output_type": "stream",
     "text": [
      "100%|██████████| 22/22 [00:00<00:00, 142.34it/s]\n",
      "100%|██████████| 4/4 [00:00<00:00, 267.79it/s]\n"
     ]
    },
    {
     "name": "stdout",
     "output_type": "stream",
     "text": [
      "Epoch 76/200, Train Loss: 0.2217, Test Loss: 0.2185\n",
      "No improvement in Test Loss for 1 epoch(s).\n",
      "Current Best Test Loss: 0.2185\n"
     ]
    },
    {
     "name": "stderr",
     "output_type": "stream",
     "text": [
      "100%|██████████| 22/22 [00:00<00:00, 162.10it/s]\n",
      "100%|██████████| 4/4 [00:00<00:00, 267.56it/s]\n"
     ]
    },
    {
     "name": "stdout",
     "output_type": "stream",
     "text": [
      "Epoch 77/200, Train Loss: 0.2217, Test Loss: 0.2185\n"
     ]
    },
    {
     "name": "stderr",
     "output_type": "stream",
     "text": [
      "100%|██████████| 22/22 [00:00<00:00, 155.25it/s]\n",
      "100%|██████████| 4/4 [00:00<00:00, 228.04it/s]\n"
     ]
    },
    {
     "name": "stdout",
     "output_type": "stream",
     "text": [
      "Epoch 78/200, Train Loss: 0.2217, Test Loss: 0.2185\n",
      "No improvement in Test Loss for 1 epoch(s).\n",
      "Current Best Test Loss: 0.2185\n"
     ]
    },
    {
     "name": "stderr",
     "output_type": "stream",
     "text": [
      "100%|██████████| 22/22 [00:00<00:00, 157.22it/s]\n",
      "100%|██████████| 4/4 [00:00<00:00, 271.73it/s]\n"
     ]
    },
    {
     "name": "stdout",
     "output_type": "stream",
     "text": [
      "Epoch 79/200, Train Loss: 0.2216, Test Loss: 0.2185\n"
     ]
    },
    {
     "name": "stderr",
     "output_type": "stream",
     "text": [
      "100%|██████████| 22/22 [00:00<00:00, 159.66it/s]\n",
      "100%|██████████| 4/4 [00:00<00:00, 275.60it/s]\n"
     ]
    },
    {
     "name": "stdout",
     "output_type": "stream",
     "text": [
      "Epoch 80/200, Train Loss: 0.2216, Test Loss: 0.2185\n",
      "No improvement in Test Loss for 1 epoch(s).\n",
      "Current Best Test Loss: 0.2185\n"
     ]
    },
    {
     "name": "stderr",
     "output_type": "stream",
     "text": [
      "100%|██████████| 22/22 [00:00<00:00, 140.31it/s]\n",
      "100%|██████████| 4/4 [00:00<00:00, 274.43it/s]\n"
     ]
    },
    {
     "name": "stdout",
     "output_type": "stream",
     "text": [
      "Epoch 81/200, Train Loss: 0.2216, Test Loss: 0.2185\n"
     ]
    },
    {
     "name": "stderr",
     "output_type": "stream",
     "text": [
      "100%|██████████| 22/22 [00:00<00:00, 161.30it/s]\n",
      "100%|██████████| 4/4 [00:00<00:00, 233.14it/s]\n"
     ]
    },
    {
     "name": "stdout",
     "output_type": "stream",
     "text": [
      "Epoch 82/200, Train Loss: 0.2216, Test Loss: 0.2185\n",
      "No improvement in Test Loss for 1 epoch(s).\n",
      "Current Best Test Loss: 0.2185\n"
     ]
    },
    {
     "name": "stderr",
     "output_type": "stream",
     "text": [
      "100%|██████████| 22/22 [00:00<00:00, 157.49it/s]\n",
      "100%|██████████| 4/4 [00:00<00:00, 267.48it/s]\n"
     ]
    },
    {
     "name": "stdout",
     "output_type": "stream",
     "text": [
      "Epoch 83/200, Train Loss: 0.2216, Test Loss: 0.2185\n"
     ]
    },
    {
     "name": "stderr",
     "output_type": "stream",
     "text": [
      "100%|██████████| 22/22 [00:00<00:00, 153.20it/s]\n",
      "100%|██████████| 4/4 [00:00<00:00, 267.53it/s]\n"
     ]
    },
    {
     "name": "stdout",
     "output_type": "stream",
     "text": [
      "Epoch 84/200, Train Loss: 0.2216, Test Loss: 0.2184\n",
      "No improvement in Test Loss for 1 epoch(s).\n",
      "Current Best Test Loss: 0.2185\n"
     ]
    },
    {
     "name": "stderr",
     "output_type": "stream",
     "text": [
      "100%|██████████| 22/22 [00:00<00:00, 155.80it/s]\n",
      "100%|██████████| 4/4 [00:00<00:00, 263.79it/s]\n"
     ]
    },
    {
     "name": "stdout",
     "output_type": "stream",
     "text": [
      "Epoch 85/200, Train Loss: 0.2216, Test Loss: 0.2184\n"
     ]
    },
    {
     "name": "stderr",
     "output_type": "stream",
     "text": [
      "100%|██████████| 22/22 [00:00<00:00, 144.20it/s]\n",
      "100%|██████████| 4/4 [00:00<00:00, 270.06it/s]\n"
     ]
    },
    {
     "name": "stdout",
     "output_type": "stream",
     "text": [
      "Epoch 86/200, Train Loss: 0.2216, Test Loss: 0.2184\n",
      "No improvement in Test Loss for 1 epoch(s).\n",
      "Current Best Test Loss: 0.2184\n"
     ]
    },
    {
     "name": "stderr",
     "output_type": "stream",
     "text": [
      "100%|██████████| 22/22 [00:00<00:00, 152.79it/s]\n",
      "100%|██████████| 4/4 [00:00<00:00, 203.32it/s]\n"
     ]
    },
    {
     "name": "stdout",
     "output_type": "stream",
     "text": [
      "Epoch 87/200, Train Loss: 0.2216, Test Loss: 0.2184\n"
     ]
    },
    {
     "name": "stderr",
     "output_type": "stream",
     "text": [
      "100%|██████████| 22/22 [00:00<00:00, 154.11it/s]\n",
      "100%|██████████| 4/4 [00:00<00:00, 253.93it/s]\n"
     ]
    },
    {
     "name": "stdout",
     "output_type": "stream",
     "text": [
      "Epoch 88/200, Train Loss: 0.2216, Test Loss: 0.2184\n",
      "No improvement in Test Loss for 1 epoch(s).\n",
      "Current Best Test Loss: 0.2184\n"
     ]
    },
    {
     "name": "stderr",
     "output_type": "stream",
     "text": [
      "100%|██████████| 22/22 [00:00<00:00, 151.84it/s]\n",
      "100%|██████████| 4/4 [00:00<00:00, 266.27it/s]\n"
     ]
    },
    {
     "name": "stdout",
     "output_type": "stream",
     "text": [
      "Epoch 89/200, Train Loss: 0.2216, Test Loss: 0.2184\n",
      "No improvement in Test Loss for 2 epoch(s).\n",
      "Current Best Test Loss: 0.2184\n"
     ]
    },
    {
     "name": "stderr",
     "output_type": "stream",
     "text": [
      "100%|██████████| 22/22 [00:00<00:00, 139.46it/s]\n",
      "100%|██████████| 4/4 [00:00<00:00, 237.66it/s]\n"
     ]
    },
    {
     "name": "stdout",
     "output_type": "stream",
     "text": [
      "Epoch 90/200, Train Loss: 0.2216, Test Loss: 0.2184\n"
     ]
    },
    {
     "name": "stderr",
     "output_type": "stream",
     "text": [
      "100%|██████████| 22/22 [00:00<00:00, 152.97it/s]\n",
      "100%|██████████| 4/4 [00:00<00:00, 263.15it/s]\n"
     ]
    },
    {
     "name": "stdout",
     "output_type": "stream",
     "text": [
      "Epoch 91/200, Train Loss: 0.2216, Test Loss: 0.2184\n",
      "No improvement in Test Loss for 1 epoch(s).\n",
      "Current Best Test Loss: 0.2184\n"
     ]
    },
    {
     "name": "stderr",
     "output_type": "stream",
     "text": [
      "100%|██████████| 22/22 [00:00<00:00, 150.41it/s]\n",
      "100%|██████████| 4/4 [00:00<00:00, 269.49it/s]\n"
     ]
    },
    {
     "name": "stdout",
     "output_type": "stream",
     "text": [
      "Epoch 92/200, Train Loss: 0.2216, Test Loss: 0.2184\n",
      "No improvement in Test Loss for 2 epoch(s).\n",
      "Current Best Test Loss: 0.2184\n"
     ]
    },
    {
     "name": "stderr",
     "output_type": "stream",
     "text": [
      "100%|██████████| 22/22 [00:00<00:00, 148.65it/s]\n",
      "100%|██████████| 4/4 [00:00<00:00, 274.99it/s]\n"
     ]
    },
    {
     "name": "stdout",
     "output_type": "stream",
     "text": [
      "Epoch 93/200, Train Loss: 0.2216, Test Loss: 0.2184\n"
     ]
    },
    {
     "name": "stderr",
     "output_type": "stream",
     "text": [
      "100%|██████████| 22/22 [00:00<00:00, 159.58it/s]\n",
      "100%|██████████| 4/4 [00:00<00:00, 257.04it/s]\n"
     ]
    },
    {
     "name": "stdout",
     "output_type": "stream",
     "text": [
      "Epoch 94/200, Train Loss: 0.2216, Test Loss: 0.2184\n",
      "No improvement in Test Loss for 1 epoch(s).\n",
      "Current Best Test Loss: 0.2184\n"
     ]
    },
    {
     "name": "stderr",
     "output_type": "stream",
     "text": [
      "100%|██████████| 22/22 [00:00<00:00, 157.21it/s]\n",
      "100%|██████████| 4/4 [00:00<00:00, 280.05it/s]\n"
     ]
    },
    {
     "name": "stdout",
     "output_type": "stream",
     "text": [
      "Epoch 95/200, Train Loss: 0.2216, Test Loss: 0.2184\n",
      "No improvement in Test Loss for 2 epoch(s).\n",
      "Current Best Test Loss: 0.2184\n"
     ]
    },
    {
     "name": "stderr",
     "output_type": "stream",
     "text": [
      "100%|██████████| 22/22 [00:00<00:00, 159.13it/s]\n",
      "100%|██████████| 4/4 [00:00<00:00, 271.37it/s]\n"
     ]
    },
    {
     "name": "stdout",
     "output_type": "stream",
     "text": [
      "Epoch 96/200, Train Loss: 0.2216, Test Loss: 0.2184\n"
     ]
    },
    {
     "name": "stderr",
     "output_type": "stream",
     "text": [
      "100%|██████████| 22/22 [00:00<00:00, 149.24it/s]\n",
      "100%|██████████| 4/4 [00:00<00:00, 256.62it/s]\n"
     ]
    },
    {
     "name": "stdout",
     "output_type": "stream",
     "text": [
      "Epoch 97/200, Train Loss: 0.2216, Test Loss: 0.2184\n",
      "No improvement in Test Loss for 1 epoch(s).\n",
      "Current Best Test Loss: 0.2184\n"
     ]
    },
    {
     "name": "stderr",
     "output_type": "stream",
     "text": [
      "100%|██████████| 22/22 [00:00<00:00, 155.77it/s]\n",
      "100%|██████████| 4/4 [00:00<00:00, 265.22it/s]\n"
     ]
    },
    {
     "name": "stdout",
     "output_type": "stream",
     "text": [
      "Epoch 98/200, Train Loss: 0.2216, Test Loss: 0.2184\n",
      "No improvement in Test Loss for 2 epoch(s).\n",
      "Current Best Test Loss: 0.2184\n"
     ]
    },
    {
     "name": "stderr",
     "output_type": "stream",
     "text": [
      "100%|██████████| 22/22 [00:00<00:00, 157.14it/s]\n",
      "100%|██████████| 4/4 [00:00<00:00, 265.16it/s]\n"
     ]
    },
    {
     "name": "stdout",
     "output_type": "stream",
     "text": [
      "Epoch 99/200, Train Loss: 0.2216, Test Loss: 0.2184\n"
     ]
    },
    {
     "name": "stderr",
     "output_type": "stream",
     "text": [
      "100%|██████████| 22/22 [00:00<00:00, 154.65it/s]\n",
      "100%|██████████| 4/4 [00:00<00:00, 262.66it/s]\n"
     ]
    },
    {
     "name": "stdout",
     "output_type": "stream",
     "text": [
      "Epoch 100/200, Train Loss: 0.2216, Test Loss: 0.2184\n",
      "No improvement in Test Loss for 1 epoch(s).\n",
      "Current Best Test Loss: 0.2184\n"
     ]
    },
    {
     "name": "stderr",
     "output_type": "stream",
     "text": [
      "100%|██████████| 22/22 [00:00<00:00, 153.20it/s]\n",
      "100%|██████████| 4/4 [00:00<00:00, 268.96it/s]\n"
     ]
    },
    {
     "name": "stdout",
     "output_type": "stream",
     "text": [
      "Epoch 101/200, Train Loss: 0.2215, Test Loss: 0.2184\n",
      "No improvement in Test Loss for 2 epoch(s).\n",
      "Current Best Test Loss: 0.2184\n"
     ]
    },
    {
     "name": "stderr",
     "output_type": "stream",
     "text": [
      "100%|██████████| 22/22 [00:00<00:00, 158.63it/s]\n",
      "100%|██████████| 4/4 [00:00<00:00, 270.76it/s]\n"
     ]
    },
    {
     "name": "stdout",
     "output_type": "stream",
     "text": [
      "Epoch 102/200, Train Loss: 0.2215, Test Loss: 0.2184\n"
     ]
    },
    {
     "name": "stderr",
     "output_type": "stream",
     "text": [
      "100%|██████████| 22/22 [00:00<00:00, 162.18it/s]\n",
      "100%|██████████| 4/4 [00:00<00:00, 267.32it/s]\n"
     ]
    },
    {
     "name": "stdout",
     "output_type": "stream",
     "text": [
      "Epoch 103/200, Train Loss: 0.2215, Test Loss: 0.2184\n",
      "No improvement in Test Loss for 1 epoch(s).\n",
      "Current Best Test Loss: 0.2184\n"
     ]
    },
    {
     "name": "stderr",
     "output_type": "stream",
     "text": [
      "100%|██████████| 22/22 [00:00<00:00, 154.21it/s]\n",
      "100%|██████████| 4/4 [00:00<00:00, 263.35it/s]\n"
     ]
    },
    {
     "name": "stdout",
     "output_type": "stream",
     "text": [
      "Epoch 104/200, Train Loss: 0.2215, Test Loss: 0.2184\n",
      "No improvement in Test Loss for 2 epoch(s).\n",
      "Current Best Test Loss: 0.2184\n"
     ]
    },
    {
     "name": "stderr",
     "output_type": "stream",
     "text": [
      "100%|██████████| 22/22 [00:00<00:00, 156.79it/s]\n",
      "100%|██████████| 4/4 [00:00<00:00, 269.83it/s]\n"
     ]
    },
    {
     "name": "stdout",
     "output_type": "stream",
     "text": [
      "Epoch 105/200, Train Loss: 0.2215, Test Loss: 0.2183\n"
     ]
    },
    {
     "name": "stderr",
     "output_type": "stream",
     "text": [
      "100%|██████████| 22/22 [00:00<00:00, 157.85it/s]\n",
      "100%|██████████| 4/4 [00:00<00:00, 247.55it/s]\n"
     ]
    },
    {
     "name": "stdout",
     "output_type": "stream",
     "text": [
      "Epoch 106/200, Train Loss: 0.2215, Test Loss: 0.2183\n",
      "No improvement in Test Loss for 1 epoch(s).\n",
      "Current Best Test Loss: 0.2183\n"
     ]
    },
    {
     "name": "stderr",
     "output_type": "stream",
     "text": [
      "100%|██████████| 22/22 [00:00<00:00, 162.07it/s]\n",
      "100%|██████████| 4/4 [00:00<00:00, 200.84it/s]\n"
     ]
    },
    {
     "name": "stdout",
     "output_type": "stream",
     "text": [
      "Epoch 107/200, Train Loss: 0.2215, Test Loss: 0.2183\n",
      "No improvement in Test Loss for 2 epoch(s).\n",
      "Current Best Test Loss: 0.2183\n"
     ]
    },
    {
     "name": "stderr",
     "output_type": "stream",
     "text": [
      "100%|██████████| 22/22 [00:00<00:00, 152.39it/s]\n",
      "100%|██████████| 4/4 [00:00<00:00, 201.79it/s]\n"
     ]
    },
    {
     "name": "stdout",
     "output_type": "stream",
     "text": [
      "Epoch 108/200, Train Loss: 0.2215, Test Loss: 0.2183\n"
     ]
    },
    {
     "name": "stderr",
     "output_type": "stream",
     "text": [
      "100%|██████████| 22/22 [00:00<00:00, 139.85it/s]\n",
      "100%|██████████| 4/4 [00:00<00:00, 251.42it/s]\n"
     ]
    },
    {
     "name": "stdout",
     "output_type": "stream",
     "text": [
      "Epoch 109/200, Train Loss: 0.2215, Test Loss: 0.2183\n",
      "No improvement in Test Loss for 1 epoch(s).\n",
      "Current Best Test Loss: 0.2183\n"
     ]
    },
    {
     "name": "stderr",
     "output_type": "stream",
     "text": [
      "100%|██████████| 22/22 [00:00<00:00, 140.83it/s]\n",
      "100%|██████████| 4/4 [00:00<00:00, 260.84it/s]\n"
     ]
    },
    {
     "name": "stdout",
     "output_type": "stream",
     "text": [
      "Epoch 110/200, Train Loss: 0.2215, Test Loss: 0.2183\n",
      "No improvement in Test Loss for 2 epoch(s).\n",
      "Current Best Test Loss: 0.2183\n"
     ]
    },
    {
     "name": "stderr",
     "output_type": "stream",
     "text": [
      "100%|██████████| 22/22 [00:00<00:00, 158.87it/s]\n",
      "100%|██████████| 4/4 [00:00<00:00, 264.75it/s]\n"
     ]
    },
    {
     "name": "stdout",
     "output_type": "stream",
     "text": [
      "Epoch 111/200, Train Loss: 0.2215, Test Loss: 0.2183\n"
     ]
    },
    {
     "name": "stderr",
     "output_type": "stream",
     "text": [
      "100%|██████████| 22/22 [00:00<00:00, 151.26it/s]\n",
      "100%|██████████| 4/4 [00:00<00:00, 256.08it/s]\n"
     ]
    },
    {
     "name": "stdout",
     "output_type": "stream",
     "text": [
      "Epoch 112/200, Train Loss: 0.2215, Test Loss: 0.2183\n",
      "No improvement in Test Loss for 1 epoch(s).\n",
      "Current Best Test Loss: 0.2183\n"
     ]
    },
    {
     "name": "stderr",
     "output_type": "stream",
     "text": [
      "100%|██████████| 22/22 [00:00<00:00, 157.66it/s]\n",
      "100%|██████████| 4/4 [00:00<00:00, 261.99it/s]\n"
     ]
    },
    {
     "name": "stdout",
     "output_type": "stream",
     "text": [
      "Epoch 113/200, Train Loss: 0.2215, Test Loss: 0.2183\n",
      "No improvement in Test Loss for 2 epoch(s).\n",
      "Current Best Test Loss: 0.2183\n"
     ]
    },
    {
     "name": "stderr",
     "output_type": "stream",
     "text": [
      "100%|██████████| 22/22 [00:00<00:00, 151.23it/s]\n",
      "100%|██████████| 4/4 [00:00<00:00, 256.43it/s]\n"
     ]
    },
    {
     "name": "stdout",
     "output_type": "stream",
     "text": [
      "Epoch 114/200, Train Loss: 0.2215, Test Loss: 0.2183\n"
     ]
    },
    {
     "name": "stderr",
     "output_type": "stream",
     "text": [
      "100%|██████████| 22/22 [00:00<00:00, 150.91it/s]\n",
      "100%|██████████| 4/4 [00:00<00:00, 258.02it/s]\n"
     ]
    },
    {
     "name": "stdout",
     "output_type": "stream",
     "text": [
      "Epoch 115/200, Train Loss: 0.2215, Test Loss: 0.2183\n",
      "No improvement in Test Loss for 1 epoch(s).\n",
      "Current Best Test Loss: 0.2183\n"
     ]
    },
    {
     "name": "stderr",
     "output_type": "stream",
     "text": [
      "100%|██████████| 22/22 [00:00<00:00, 159.51it/s]\n",
      "100%|██████████| 4/4 [00:00<00:00, 268.69it/s]\n"
     ]
    },
    {
     "name": "stdout",
     "output_type": "stream",
     "text": [
      "Epoch 116/200, Train Loss: 0.2215, Test Loss: 0.2183\n",
      "No improvement in Test Loss for 2 epoch(s).\n",
      "Current Best Test Loss: 0.2183\n"
     ]
    },
    {
     "name": "stderr",
     "output_type": "stream",
     "text": [
      "100%|██████████| 22/22 [00:00<00:00, 157.41it/s]\n",
      "100%|██████████| 4/4 [00:00<00:00, 262.00it/s]\n"
     ]
    },
    {
     "name": "stdout",
     "output_type": "stream",
     "text": [
      "Epoch 117/200, Train Loss: 0.2215, Test Loss: 0.2183\n"
     ]
    },
    {
     "name": "stderr",
     "output_type": "stream",
     "text": [
      "100%|██████████| 22/22 [00:00<00:00, 160.00it/s]\n",
      "100%|██████████| 4/4 [00:00<00:00, 264.41it/s]\n"
     ]
    },
    {
     "name": "stdout",
     "output_type": "stream",
     "text": [
      "Epoch 118/200, Train Loss: 0.2215, Test Loss: 0.2183\n",
      "No improvement in Test Loss for 1 epoch(s).\n",
      "Current Best Test Loss: 0.2183\n"
     ]
    },
    {
     "name": "stderr",
     "output_type": "stream",
     "text": [
      "100%|██████████| 22/22 [00:00<00:00, 154.51it/s]\n",
      "100%|██████████| 4/4 [00:00<00:00, 233.31it/s]\n"
     ]
    },
    {
     "name": "stdout",
     "output_type": "stream",
     "text": [
      "Epoch 119/200, Train Loss: 0.2215, Test Loss: 0.2183\n",
      "No improvement in Test Loss for 2 epoch(s).\n",
      "Current Best Test Loss: 0.2183\n"
     ]
    },
    {
     "name": "stderr",
     "output_type": "stream",
     "text": [
      "100%|██████████| 22/22 [00:00<00:00, 164.27it/s]\n",
      "100%|██████████| 4/4 [00:00<00:00, 269.21it/s]\n"
     ]
    },
    {
     "name": "stdout",
     "output_type": "stream",
     "text": [
      "Epoch 120/200, Train Loss: 0.2215, Test Loss: 0.2183\n"
     ]
    },
    {
     "name": "stderr",
     "output_type": "stream",
     "text": [
      "100%|██████████| 22/22 [00:00<00:00, 141.06it/s]\n",
      "100%|██████████| 4/4 [00:00<00:00, 260.09it/s]\n"
     ]
    },
    {
     "name": "stdout",
     "output_type": "stream",
     "text": [
      "Epoch 121/200, Train Loss: 0.2215, Test Loss: 0.2183\n",
      "No improvement in Test Loss for 1 epoch(s).\n",
      "Current Best Test Loss: 0.2183\n"
     ]
    },
    {
     "name": "stderr",
     "output_type": "stream",
     "text": [
      "100%|██████████| 22/22 [00:00<00:00, 154.86it/s]\n",
      "100%|██████████| 4/4 [00:00<00:00, 190.23it/s]\n"
     ]
    },
    {
     "name": "stdout",
     "output_type": "stream",
     "text": [
      "Epoch 122/200, Train Loss: 0.2215, Test Loss: 0.2183\n",
      "No improvement in Test Loss for 2 epoch(s).\n",
      "Current Best Test Loss: 0.2183\n"
     ]
    },
    {
     "name": "stderr",
     "output_type": "stream",
     "text": [
      "100%|██████████| 22/22 [00:00<00:00, 149.82it/s]\n",
      "100%|██████████| 4/4 [00:00<00:00, 264.57it/s]\n"
     ]
    },
    {
     "name": "stdout",
     "output_type": "stream",
     "text": [
      "Epoch 123/200, Train Loss: 0.2215, Test Loss: 0.2183\n"
     ]
    },
    {
     "name": "stderr",
     "output_type": "stream",
     "text": [
      "100%|██████████| 22/22 [00:00<00:00, 145.18it/s]\n",
      "100%|██████████| 4/4 [00:00<00:00, 276.85it/s]\n"
     ]
    },
    {
     "name": "stdout",
     "output_type": "stream",
     "text": [
      "Epoch 124/200, Train Loss: 0.2215, Test Loss: 0.2183\n",
      "No improvement in Test Loss for 1 epoch(s).\n",
      "Current Best Test Loss: 0.2183\n"
     ]
    },
    {
     "name": "stderr",
     "output_type": "stream",
     "text": [
      "100%|██████████| 22/22 [00:00<00:00, 163.44it/s]\n",
      "100%|██████████| 4/4 [00:00<00:00, 246.19it/s]\n"
     ]
    },
    {
     "name": "stdout",
     "output_type": "stream",
     "text": [
      "Epoch 125/200, Train Loss: 0.2215, Test Loss: 0.2183\n",
      "No improvement in Test Loss for 2 epoch(s).\n",
      "Current Best Test Loss: 0.2183\n"
     ]
    },
    {
     "name": "stderr",
     "output_type": "stream",
     "text": [
      "100%|██████████| 22/22 [00:00<00:00, 159.43it/s]\n",
      "100%|██████████| 4/4 [00:00<00:00, 263.21it/s]\n"
     ]
    },
    {
     "name": "stdout",
     "output_type": "stream",
     "text": [
      "Epoch 126/200, Train Loss: 0.2215, Test Loss: 0.2183\n"
     ]
    },
    {
     "name": "stderr",
     "output_type": "stream",
     "text": [
      "100%|██████████| 22/22 [00:00<00:00, 151.84it/s]\n",
      "100%|██████████| 4/4 [00:00<00:00, 270.97it/s]\n"
     ]
    },
    {
     "name": "stdout",
     "output_type": "stream",
     "text": [
      "Epoch 127/200, Train Loss: 0.2215, Test Loss: 0.2183\n",
      "No improvement in Test Loss for 1 epoch(s).\n",
      "Current Best Test Loss: 0.2183\n"
     ]
    },
    {
     "name": "stderr",
     "output_type": "stream",
     "text": [
      "100%|██████████| 22/22 [00:00<00:00, 158.48it/s]\n",
      "100%|██████████| 4/4 [00:00<00:00, 264.96it/s]\n"
     ]
    },
    {
     "name": "stdout",
     "output_type": "stream",
     "text": [
      "Epoch 128/200, Train Loss: 0.2215, Test Loss: 0.2183\n",
      "No improvement in Test Loss for 2 epoch(s).\n",
      "Current Best Test Loss: 0.2183\n"
     ]
    },
    {
     "name": "stderr",
     "output_type": "stream",
     "text": [
      "100%|██████████| 22/22 [00:00<00:00, 146.06it/s]\n",
      "100%|██████████| 4/4 [00:00<00:00, 252.49it/s]\n"
     ]
    },
    {
     "name": "stdout",
     "output_type": "stream",
     "text": [
      "Epoch 129/200, Train Loss: 0.2214, Test Loss: 0.2182\n"
     ]
    },
    {
     "name": "stderr",
     "output_type": "stream",
     "text": [
      "100%|██████████| 22/22 [00:00<00:00, 164.84it/s]\n",
      "100%|██████████| 4/4 [00:00<00:00, 241.17it/s]\n"
     ]
    },
    {
     "name": "stdout",
     "output_type": "stream",
     "text": [
      "Epoch 130/200, Train Loss: 0.2214, Test Loss: 0.2182\n",
      "No improvement in Test Loss for 1 epoch(s).\n",
      "Current Best Test Loss: 0.2182\n"
     ]
    },
    {
     "name": "stderr",
     "output_type": "stream",
     "text": [
      "100%|██████████| 22/22 [00:00<00:00, 130.30it/s]\n",
      "100%|██████████| 4/4 [00:00<00:00, 239.43it/s]\n"
     ]
    },
    {
     "name": "stdout",
     "output_type": "stream",
     "text": [
      "Epoch 131/200, Train Loss: 0.2214, Test Loss: 0.2182\n",
      "No improvement in Test Loss for 2 epoch(s).\n",
      "Current Best Test Loss: 0.2182\n"
     ]
    },
    {
     "name": "stderr",
     "output_type": "stream",
     "text": [
      "100%|██████████| 22/22 [00:00<00:00, 145.52it/s]\n",
      "100%|██████████| 4/4 [00:00<00:00, 268.77it/s]\n"
     ]
    },
    {
     "name": "stdout",
     "output_type": "stream",
     "text": [
      "Epoch 132/200, Train Loss: 0.2214, Test Loss: 0.2182\n"
     ]
    },
    {
     "name": "stderr",
     "output_type": "stream",
     "text": [
      "100%|██████████| 22/22 [00:00<00:00, 164.53it/s]\n",
      "100%|██████████| 4/4 [00:00<00:00, 248.91it/s]\n"
     ]
    },
    {
     "name": "stdout",
     "output_type": "stream",
     "text": [
      "Epoch 133/200, Train Loss: 0.2214, Test Loss: 0.2182\n",
      "No improvement in Test Loss for 1 epoch(s).\n",
      "Current Best Test Loss: 0.2182\n"
     ]
    },
    {
     "name": "stderr",
     "output_type": "stream",
     "text": [
      "100%|██████████| 22/22 [00:00<00:00, 154.71it/s]\n",
      "100%|██████████| 4/4 [00:00<00:00, 265.76it/s]\n"
     ]
    },
    {
     "name": "stdout",
     "output_type": "stream",
     "text": [
      "Epoch 134/200, Train Loss: 0.2214, Test Loss: 0.2182\n",
      "No improvement in Test Loss for 2 epoch(s).\n",
      "Current Best Test Loss: 0.2182\n"
     ]
    },
    {
     "name": "stderr",
     "output_type": "stream",
     "text": [
      "100%|██████████| 22/22 [00:00<00:00, 152.47it/s]\n",
      "100%|██████████| 4/4 [00:00<00:00, 266.69it/s]\n"
     ]
    },
    {
     "name": "stdout",
     "output_type": "stream",
     "text": [
      "Epoch 135/200, Train Loss: 0.2214, Test Loss: 0.2182\n"
     ]
    },
    {
     "name": "stderr",
     "output_type": "stream",
     "text": [
      "100%|██████████| 22/22 [00:00<00:00, 150.51it/s]\n",
      "100%|██████████| 4/4 [00:00<00:00, 227.19it/s]\n"
     ]
    },
    {
     "name": "stdout",
     "output_type": "stream",
     "text": [
      "Epoch 136/200, Train Loss: 0.2214, Test Loss: 0.2182\n",
      "No improvement in Test Loss for 1 epoch(s).\n",
      "Current Best Test Loss: 0.2182\n"
     ]
    },
    {
     "name": "stderr",
     "output_type": "stream",
     "text": [
      "100%|██████████| 22/22 [00:00<00:00, 154.37it/s]\n",
      "100%|██████████| 4/4 [00:00<00:00, 264.96it/s]\n"
     ]
    },
    {
     "name": "stdout",
     "output_type": "stream",
     "text": [
      "Epoch 137/200, Train Loss: 0.2214, Test Loss: 0.2182\n",
      "No improvement in Test Loss for 2 epoch(s).\n",
      "Current Best Test Loss: 0.2182\n"
     ]
    },
    {
     "name": "stderr",
     "output_type": "stream",
     "text": [
      "100%|██████████| 22/22 [00:00<00:00, 160.83it/s]\n",
      "100%|██████████| 4/4 [00:00<00:00, 270.30it/s]\n"
     ]
    },
    {
     "name": "stdout",
     "output_type": "stream",
     "text": [
      "Epoch 138/200, Train Loss: 0.2214, Test Loss: 0.2182\n"
     ]
    },
    {
     "name": "stderr",
     "output_type": "stream",
     "text": [
      "100%|██████████| 22/22 [00:00<00:00, 149.83it/s]\n",
      "100%|██████████| 4/4 [00:00<00:00, 252.72it/s]\n"
     ]
    },
    {
     "name": "stdout",
     "output_type": "stream",
     "text": [
      "Epoch 139/200, Train Loss: 0.2214, Test Loss: 0.2182\n",
      "No improvement in Test Loss for 1 epoch(s).\n",
      "Current Best Test Loss: 0.2182\n"
     ]
    },
    {
     "name": "stderr",
     "output_type": "stream",
     "text": [
      "100%|██████████| 22/22 [00:00<00:00, 155.94it/s]\n",
      "100%|██████████| 4/4 [00:00<00:00, 264.04it/s]\n"
     ]
    },
    {
     "name": "stdout",
     "output_type": "stream",
     "text": [
      "Epoch 140/200, Train Loss: 0.2214, Test Loss: 0.2182\n",
      "No improvement in Test Loss for 2 epoch(s).\n",
      "Current Best Test Loss: 0.2182\n"
     ]
    },
    {
     "name": "stderr",
     "output_type": "stream",
     "text": [
      "100%|██████████| 22/22 [00:00<00:00, 144.07it/s]\n",
      "100%|██████████| 4/4 [00:00<00:00, 214.30it/s]\n"
     ]
    },
    {
     "name": "stdout",
     "output_type": "stream",
     "text": [
      "Epoch 141/200, Train Loss: 0.2214, Test Loss: 0.2182\n"
     ]
    },
    {
     "name": "stderr",
     "output_type": "stream",
     "text": [
      "100%|██████████| 22/22 [00:00<00:00, 154.32it/s]\n",
      "100%|██████████| 4/4 [00:00<00:00, 273.63it/s]\n"
     ]
    },
    {
     "name": "stdout",
     "output_type": "stream",
     "text": [
      "Epoch 142/200, Train Loss: 0.2214, Test Loss: 0.2182\n",
      "No improvement in Test Loss for 1 epoch(s).\n",
      "Current Best Test Loss: 0.2182\n"
     ]
    },
    {
     "name": "stderr",
     "output_type": "stream",
     "text": [
      "100%|██████████| 22/22 [00:00<00:00, 144.77it/s]\n",
      "100%|██████████| 4/4 [00:00<00:00, 268.58it/s]\n"
     ]
    },
    {
     "name": "stdout",
     "output_type": "stream",
     "text": [
      "Epoch 143/200, Train Loss: 0.2214, Test Loss: 0.2182\n",
      "No improvement in Test Loss for 2 epoch(s).\n",
      "Current Best Test Loss: 0.2182\n"
     ]
    },
    {
     "name": "stderr",
     "output_type": "stream",
     "text": [
      "100%|██████████| 22/22 [00:00<00:00, 153.80it/s]\n",
      "100%|██████████| 4/4 [00:00<00:00, 265.93it/s]\n"
     ]
    },
    {
     "name": "stdout",
     "output_type": "stream",
     "text": [
      "Epoch 144/200, Train Loss: 0.2214, Test Loss: 0.2182\n",
      "No improvement in Test Loss for 3 epoch(s).\n",
      "Current Best Test Loss: 0.2182\n",
      "Early stopping triggered.\n",
      "Start training model with parameters: {'num_B_spline_basis': 20, 'downsample_factor': 10, 'transformer_num_layers': 2, 'transformer_d_model': 128, 'transformer_dim_feedforward': 512, 'transformer_vae_output_dim': 16, 'transformer_dropout': 0.0, 'transformer_nhead': 1, 'stimulus_nfactor': 1, 'stimulus_decoder_inter_dim_factor': 2, 'beta': 1.0, 'use_area_specific_decoder': True, 'use_area_specific_encoder': True, 'use_cls': False, 'coupling_basis_peaks_max': 5, 'coupling_basis_num': 3, 'coupling_nsubspace': 1, 'use_self_coupling': True, 'K_sigma2': 1.0, 'K_tau': 100, 'coupling_strength_nlatent': 1, 'self_history_basis_peaks_max': 1.5, 'self_history_basis_num': 3, 'self_history_basis_nonlinear': 1, 'penalty_smoothing_spline': 100.0, 'penalty_coupling_subgroup': 1e-05, 'penalty_diff_loading': None, 'penalty_loading_similarity': None, 'batch_size': 64, 'sample_latent': False, 'lr': 0.001, 'epoch_warm_up': 0, 'epoch_patience': 3, 'epoch_max': 200, 'tol': 1e-05, 'weight_decay': 0, 'lr_transformer': 0.0001, 'lr_sti': 0.01, 'lr_cp': 0.01, 'lr_self_history': 0.01}\n"
     ]
    },
    {
     "name": "stderr",
     "output_type": "stream",
     "text": [
      "100%|██████████| 22/22 [00:00<00:00, 101.09it/s]\n",
      "100%|██████████| 4/4 [00:00<00:00, 215.91it/s]\n"
     ]
    },
    {
     "name": "stdout",
     "output_type": "stream",
     "text": [
      "Epoch 1/200, Train Loss: 0.2204, Test Loss: 0.2155\n"
     ]
    },
    {
     "name": "stderr",
     "output_type": "stream",
     "text": [
      "100%|██████████| 22/22 [00:00<00:00, 105.49it/s]\n",
      "100%|██████████| 4/4 [00:00<00:00, 200.08it/s]\n"
     ]
    },
    {
     "name": "stdout",
     "output_type": "stream",
     "text": [
      "Epoch 2/200, Train Loss: 0.2181, Test Loss: 0.2151\n"
     ]
    },
    {
     "name": "stderr",
     "output_type": "stream",
     "text": [
      "100%|██████████| 22/22 [00:00<00:00, 106.56it/s]\n",
      "100%|██████████| 4/4 [00:00<00:00, 207.32it/s]\n"
     ]
    },
    {
     "name": "stdout",
     "output_type": "stream",
     "text": [
      "Epoch 3/200, Train Loss: 0.2179, Test Loss: 0.2150\n"
     ]
    },
    {
     "name": "stderr",
     "output_type": "stream",
     "text": [
      "100%|██████████| 22/22 [00:00<00:00, 102.55it/s]\n",
      "100%|██████████| 4/4 [00:00<00:00, 190.79it/s]\n"
     ]
    },
    {
     "name": "stdout",
     "output_type": "stream",
     "text": [
      "Epoch 4/200, Train Loss: 0.2178, Test Loss: 0.2150\n"
     ]
    },
    {
     "name": "stderr",
     "output_type": "stream",
     "text": [
      "100%|██████████| 22/22 [00:00<00:00, 101.89it/s]\n",
      "100%|██████████| 4/4 [00:00<00:00, 213.10it/s]\n"
     ]
    },
    {
     "name": "stdout",
     "output_type": "stream",
     "text": [
      "Epoch 5/200, Train Loss: 0.2177, Test Loss: 0.2149\n"
     ]
    },
    {
     "name": "stderr",
     "output_type": "stream",
     "text": [
      "100%|██████████| 22/22 [00:00<00:00, 104.25it/s]\n",
      "100%|██████████| 4/4 [00:00<00:00, 213.81it/s]\n"
     ]
    },
    {
     "name": "stdout",
     "output_type": "stream",
     "text": [
      "Epoch 6/200, Train Loss: 0.2177, Test Loss: 0.2148\n"
     ]
    },
    {
     "name": "stderr",
     "output_type": "stream",
     "text": [
      "100%|██████████| 22/22 [00:00<00:00, 103.56it/s]\n",
      "100%|██████████| 4/4 [00:00<00:00, 213.18it/s]\n"
     ]
    },
    {
     "name": "stdout",
     "output_type": "stream",
     "text": [
      "Epoch 7/200, Train Loss: 0.2176, Test Loss: 0.2148\n"
     ]
    },
    {
     "name": "stderr",
     "output_type": "stream",
     "text": [
      "100%|██████████| 22/22 [00:00<00:00, 103.60it/s]\n",
      "100%|██████████| 4/4 [00:00<00:00, 206.50it/s]\n"
     ]
    },
    {
     "name": "stdout",
     "output_type": "stream",
     "text": [
      "Epoch 8/200, Train Loss: 0.2175, Test Loss: 0.2148\n",
      "No improvement in Test Loss for 1 epoch(s).\n",
      "Current Best Test Loss: 0.2148\n"
     ]
    },
    {
     "name": "stderr",
     "output_type": "stream",
     "text": [
      "100%|██████████| 22/22 [00:00<00:00, 104.26it/s]\n",
      "100%|██████████| 4/4 [00:00<00:00, 208.72it/s]\n"
     ]
    },
    {
     "name": "stdout",
     "output_type": "stream",
     "text": [
      "Epoch 9/200, Train Loss: 0.2175, Test Loss: 0.2146\n"
     ]
    },
    {
     "name": "stderr",
     "output_type": "stream",
     "text": [
      "100%|██████████| 22/22 [00:00<00:00, 104.21it/s]\n",
      "100%|██████████| 4/4 [00:00<00:00, 170.12it/s]\n"
     ]
    },
    {
     "name": "stdout",
     "output_type": "stream",
     "text": [
      "Epoch 10/200, Train Loss: 0.2173, Test Loss: 0.2143\n"
     ]
    },
    {
     "name": "stderr",
     "output_type": "stream",
     "text": [
      "100%|██████████| 22/22 [00:00<00:00, 106.06it/s]\n",
      "100%|██████████| 4/4 [00:00<00:00, 217.03it/s]\n"
     ]
    },
    {
     "name": "stdout",
     "output_type": "stream",
     "text": [
      "Epoch 11/200, Train Loss: 0.2170, Test Loss: 0.2144\n",
      "No improvement in Test Loss for 1 epoch(s).\n",
      "Current Best Test Loss: 0.2143\n"
     ]
    },
    {
     "name": "stderr",
     "output_type": "stream",
     "text": [
      "100%|██████████| 22/22 [00:00<00:00, 104.50it/s]\n",
      "100%|██████████| 4/4 [00:00<00:00, 207.75it/s]\n"
     ]
    },
    {
     "name": "stdout",
     "output_type": "stream",
     "text": [
      "Epoch 12/200, Train Loss: 0.2170, Test Loss: 0.2142\n"
     ]
    },
    {
     "name": "stderr",
     "output_type": "stream",
     "text": [
      "100%|██████████| 22/22 [00:00<00:00, 97.55it/s]\n",
      "100%|██████████| 4/4 [00:00<00:00, 215.39it/s]\n"
     ]
    },
    {
     "name": "stdout",
     "output_type": "stream",
     "text": [
      "Epoch 13/200, Train Loss: 0.2168, Test Loss: 0.2140\n"
     ]
    },
    {
     "name": "stderr",
     "output_type": "stream",
     "text": [
      "100%|██████████| 22/22 [00:00<00:00, 105.61it/s]\n",
      "100%|██████████| 4/4 [00:00<00:00, 216.10it/s]\n"
     ]
    },
    {
     "name": "stdout",
     "output_type": "stream",
     "text": [
      "Epoch 14/200, Train Loss: 0.2166, Test Loss: 0.2139\n"
     ]
    },
    {
     "name": "stderr",
     "output_type": "stream",
     "text": [
      "100%|██████████| 22/22 [00:00<00:00, 104.99it/s]\n",
      "100%|██████████| 4/4 [00:00<00:00, 211.50it/s]\n"
     ]
    },
    {
     "name": "stdout",
     "output_type": "stream",
     "text": [
      "Epoch 15/200, Train Loss: 0.2165, Test Loss: 0.2137\n"
     ]
    },
    {
     "name": "stderr",
     "output_type": "stream",
     "text": [
      "100%|██████████| 22/22 [00:00<00:00, 91.81it/s]\n",
      "100%|██████████| 4/4 [00:00<00:00, 209.90it/s]\n"
     ]
    },
    {
     "name": "stdout",
     "output_type": "stream",
     "text": [
      "Epoch 16/200, Train Loss: 0.2164, Test Loss: 0.2136\n"
     ]
    },
    {
     "name": "stderr",
     "output_type": "stream",
     "text": [
      "100%|██████████| 22/22 [00:00<00:00, 103.54it/s]\n",
      "100%|██████████| 4/4 [00:00<00:00, 214.39it/s]\n"
     ]
    },
    {
     "name": "stdout",
     "output_type": "stream",
     "text": [
      "Epoch 17/200, Train Loss: 0.2163, Test Loss: 0.2135\n"
     ]
    },
    {
     "name": "stderr",
     "output_type": "stream",
     "text": [
      "100%|██████████| 22/22 [00:00<00:00, 103.03it/s]\n",
      "100%|██████████| 4/4 [00:00<00:00, 215.61it/s]\n"
     ]
    },
    {
     "name": "stdout",
     "output_type": "stream",
     "text": [
      "Epoch 18/200, Train Loss: 0.2161, Test Loss: 0.2133\n"
     ]
    },
    {
     "name": "stderr",
     "output_type": "stream",
     "text": [
      "100%|██████████| 22/22 [00:00<00:00, 105.61it/s]\n",
      "100%|██████████| 4/4 [00:00<00:00, 214.49it/s]\n"
     ]
    },
    {
     "name": "stdout",
     "output_type": "stream",
     "text": [
      "Epoch 19/200, Train Loss: 0.2159, Test Loss: 0.2132\n"
     ]
    },
    {
     "name": "stderr",
     "output_type": "stream",
     "text": [
      "100%|██████████| 22/22 [00:00<00:00, 105.63it/s]\n",
      "100%|██████████| 4/4 [00:00<00:00, 212.39it/s]\n"
     ]
    },
    {
     "name": "stdout",
     "output_type": "stream",
     "text": [
      "Epoch 20/200, Train Loss: 0.2157, Test Loss: 0.2130\n"
     ]
    },
    {
     "name": "stderr",
     "output_type": "stream",
     "text": [
      "100%|██████████| 22/22 [00:00<00:00, 101.68it/s]\n",
      "100%|██████████| 4/4 [00:00<00:00, 202.91it/s]\n"
     ]
    },
    {
     "name": "stdout",
     "output_type": "stream",
     "text": [
      "Epoch 21/200, Train Loss: 0.2156, Test Loss: 0.2128\n"
     ]
    },
    {
     "name": "stderr",
     "output_type": "stream",
     "text": [
      "100%|██████████| 22/22 [00:00<00:00, 101.97it/s]\n",
      "100%|██████████| 4/4 [00:00<00:00, 216.63it/s]\n"
     ]
    },
    {
     "name": "stdout",
     "output_type": "stream",
     "text": [
      "Epoch 22/200, Train Loss: 0.2154, Test Loss: 0.2127\n"
     ]
    },
    {
     "name": "stderr",
     "output_type": "stream",
     "text": [
      "100%|██████████| 22/22 [00:00<00:00, 106.50it/s]\n",
      "100%|██████████| 4/4 [00:00<00:00, 213.81it/s]\n"
     ]
    },
    {
     "name": "stdout",
     "output_type": "stream",
     "text": [
      "Epoch 23/200, Train Loss: 0.2153, Test Loss: 0.2126\n"
     ]
    },
    {
     "name": "stderr",
     "output_type": "stream",
     "text": [
      "100%|██████████| 22/22 [00:00<00:00, 102.88it/s]\n",
      "100%|██████████| 4/4 [00:00<00:00, 210.75it/s]\n"
     ]
    },
    {
     "name": "stdout",
     "output_type": "stream",
     "text": [
      "Epoch 24/200, Train Loss: 0.2152, Test Loss: 0.2125\n"
     ]
    },
    {
     "name": "stderr",
     "output_type": "stream",
     "text": [
      "100%|██████████| 22/22 [00:00<00:00, 104.17it/s]\n",
      "100%|██████████| 4/4 [00:00<00:00, 213.55it/s]\n"
     ]
    },
    {
     "name": "stdout",
     "output_type": "stream",
     "text": [
      "Epoch 25/200, Train Loss: 0.2152, Test Loss: 0.2125\n"
     ]
    },
    {
     "name": "stderr",
     "output_type": "stream",
     "text": [
      "100%|██████████| 22/22 [00:00<00:00, 102.37it/s]\n",
      "100%|██████████| 4/4 [00:00<00:00, 208.07it/s]\n"
     ]
    },
    {
     "name": "stdout",
     "output_type": "stream",
     "text": [
      "Epoch 26/200, Train Loss: 0.2151, Test Loss: 0.2125\n"
     ]
    },
    {
     "name": "stderr",
     "output_type": "stream",
     "text": [
      "100%|██████████| 22/22 [00:00<00:00, 101.82it/s]\n",
      "100%|██████████| 4/4 [00:00<00:00, 215.61it/s]\n"
     ]
    },
    {
     "name": "stdout",
     "output_type": "stream",
     "text": [
      "Epoch 27/200, Train Loss: 0.2151, Test Loss: 0.2125\n",
      "No improvement in Test Loss for 1 epoch(s).\n",
      "Current Best Test Loss: 0.2125\n"
     ]
    },
    {
     "name": "stderr",
     "output_type": "stream",
     "text": [
      "100%|██████████| 22/22 [00:00<00:00, 107.99it/s]\n",
      "100%|██████████| 4/4 [00:00<00:00, 191.92it/s]\n"
     ]
    },
    {
     "name": "stdout",
     "output_type": "stream",
     "text": [
      "Epoch 28/200, Train Loss: 0.2151, Test Loss: 0.2124\n"
     ]
    },
    {
     "name": "stderr",
     "output_type": "stream",
     "text": [
      "100%|██████████| 22/22 [00:00<00:00, 106.67it/s]\n",
      "100%|██████████| 4/4 [00:00<00:00, 217.15it/s]\n"
     ]
    },
    {
     "name": "stdout",
     "output_type": "stream",
     "text": [
      "Epoch 29/200, Train Loss: 0.2150, Test Loss: 0.2124\n"
     ]
    },
    {
     "name": "stderr",
     "output_type": "stream",
     "text": [
      "100%|██████████| 22/22 [00:00<00:00, 103.79it/s]\n",
      "100%|██████████| 4/4 [00:00<00:00, 215.55it/s]\n"
     ]
    },
    {
     "name": "stdout",
     "output_type": "stream",
     "text": [
      "Epoch 30/200, Train Loss: 0.2150, Test Loss: 0.2124\n"
     ]
    },
    {
     "name": "stderr",
     "output_type": "stream",
     "text": [
      "100%|██████████| 22/22 [00:00<00:00, 102.80it/s]\n",
      "100%|██████████| 4/4 [00:00<00:00, 217.52it/s]\n"
     ]
    },
    {
     "name": "stdout",
     "output_type": "stream",
     "text": [
      "Epoch 31/200, Train Loss: 0.2150, Test Loss: 0.2124\n",
      "No improvement in Test Loss for 1 epoch(s).\n",
      "Current Best Test Loss: 0.2124\n"
     ]
    },
    {
     "name": "stderr",
     "output_type": "stream",
     "text": [
      "100%|██████████| 22/22 [00:00<00:00, 101.71it/s]\n",
      "100%|██████████| 4/4 [00:00<00:00, 220.79it/s]\n"
     ]
    },
    {
     "name": "stdout",
     "output_type": "stream",
     "text": [
      "Epoch 32/200, Train Loss: 0.2150, Test Loss: 0.2125\n",
      "No improvement in Test Loss for 2 epoch(s).\n",
      "Current Best Test Loss: 0.2124\n"
     ]
    },
    {
     "name": "stderr",
     "output_type": "stream",
     "text": [
      "100%|██████████| 22/22 [00:00<00:00, 103.89it/s]\n",
      "100%|██████████| 4/4 [00:00<00:00, 210.98it/s]\n"
     ]
    },
    {
     "name": "stdout",
     "output_type": "stream",
     "text": [
      "Epoch 33/200, Train Loss: 0.2149, Test Loss: 0.2123\n"
     ]
    },
    {
     "name": "stderr",
     "output_type": "stream",
     "text": [
      "100%|██████████| 22/22 [00:00<00:00, 97.08it/s] \n",
      "100%|██████████| 4/4 [00:00<00:00, 197.65it/s]\n"
     ]
    },
    {
     "name": "stdout",
     "output_type": "stream",
     "text": [
      "Epoch 34/200, Train Loss: 0.2149, Test Loss: 0.2123\n"
     ]
    },
    {
     "name": "stderr",
     "output_type": "stream",
     "text": [
      "100%|██████████| 22/22 [00:00<00:00, 104.76it/s]\n",
      "100%|██████████| 4/4 [00:00<00:00, 206.42it/s]\n"
     ]
    },
    {
     "name": "stdout",
     "output_type": "stream",
     "text": [
      "Epoch 35/200, Train Loss: 0.2148, Test Loss: 0.2122\n"
     ]
    },
    {
     "name": "stderr",
     "output_type": "stream",
     "text": [
      "100%|██████████| 22/22 [00:00<00:00, 99.15it/s]\n",
      "100%|██████████| 4/4 [00:00<00:00, 199.61it/s]\n"
     ]
    },
    {
     "name": "stdout",
     "output_type": "stream",
     "text": [
      "Epoch 36/200, Train Loss: 0.2148, Test Loss: 0.2122\n"
     ]
    },
    {
     "name": "stderr",
     "output_type": "stream",
     "text": [
      "100%|██████████| 22/22 [00:00<00:00, 100.18it/s]\n",
      "100%|██████████| 4/4 [00:00<00:00, 162.24it/s]\n"
     ]
    },
    {
     "name": "stdout",
     "output_type": "stream",
     "text": [
      "Epoch 37/200, Train Loss: 0.2148, Test Loss: 0.2122\n"
     ]
    },
    {
     "name": "stderr",
     "output_type": "stream",
     "text": [
      "100%|██████████| 22/22 [00:00<00:00, 100.13it/s]\n",
      "100%|██████████| 4/4 [00:00<00:00, 209.88it/s]\n"
     ]
    },
    {
     "name": "stdout",
     "output_type": "stream",
     "text": [
      "Epoch 38/200, Train Loss: 0.2148, Test Loss: 0.2121\n"
     ]
    },
    {
     "name": "stderr",
     "output_type": "stream",
     "text": [
      "100%|██████████| 22/22 [00:00<00:00, 99.44it/s] \n",
      "100%|██████████| 4/4 [00:00<00:00, 162.77it/s]\n"
     ]
    },
    {
     "name": "stdout",
     "output_type": "stream",
     "text": [
      "Epoch 39/200, Train Loss: 0.2148, Test Loss: 0.2121\n"
     ]
    },
    {
     "name": "stderr",
     "output_type": "stream",
     "text": [
      "100%|██████████| 22/22 [00:00<00:00, 104.97it/s]\n",
      "100%|██████████| 4/4 [00:00<00:00, 213.19it/s]\n"
     ]
    },
    {
     "name": "stdout",
     "output_type": "stream",
     "text": [
      "Epoch 40/200, Train Loss: 0.2147, Test Loss: 0.2121\n"
     ]
    },
    {
     "name": "stderr",
     "output_type": "stream",
     "text": [
      "100%|██████████| 22/22 [00:00<00:00, 103.68it/s]\n",
      "100%|██████████| 4/4 [00:00<00:00, 158.66it/s]\n"
     ]
    },
    {
     "name": "stdout",
     "output_type": "stream",
     "text": [
      "Epoch 41/200, Train Loss: 0.2147, Test Loss: 0.2121\n"
     ]
    },
    {
     "name": "stderr",
     "output_type": "stream",
     "text": [
      "100%|██████████| 22/22 [00:00<00:00, 106.46it/s]\n",
      "100%|██████████| 4/4 [00:00<00:00, 184.06it/s]\n"
     ]
    },
    {
     "name": "stdout",
     "output_type": "stream",
     "text": [
      "Epoch 42/200, Train Loss: 0.2147, Test Loss: 0.2121\n"
     ]
    },
    {
     "name": "stderr",
     "output_type": "stream",
     "text": [
      "100%|██████████| 22/22 [00:00<00:00, 105.34it/s]\n",
      "100%|██████████| 4/4 [00:00<00:00, 214.97it/s]\n"
     ]
    },
    {
     "name": "stdout",
     "output_type": "stream",
     "text": [
      "Epoch 43/200, Train Loss: 0.2147, Test Loss: 0.2120\n"
     ]
    },
    {
     "name": "stderr",
     "output_type": "stream",
     "text": [
      "100%|██████████| 22/22 [00:00<00:00, 105.01it/s]\n",
      "100%|██████████| 4/4 [00:00<00:00, 212.32it/s]\n"
     ]
    },
    {
     "name": "stdout",
     "output_type": "stream",
     "text": [
      "Epoch 44/200, Train Loss: 0.2147, Test Loss: 0.2120\n"
     ]
    },
    {
     "name": "stderr",
     "output_type": "stream",
     "text": [
      "100%|██████████| 22/22 [00:00<00:00, 104.58it/s]\n",
      "100%|██████████| 4/4 [00:00<00:00, 209.88it/s]\n"
     ]
    },
    {
     "name": "stdout",
     "output_type": "stream",
     "text": [
      "Epoch 45/200, Train Loss: 0.2147, Test Loss: 0.2120\n"
     ]
    },
    {
     "name": "stderr",
     "output_type": "stream",
     "text": [
      "100%|██████████| 22/22 [00:00<00:00, 103.00it/s]\n",
      "100%|██████████| 4/4 [00:00<00:00, 213.19it/s]\n"
     ]
    },
    {
     "name": "stdout",
     "output_type": "stream",
     "text": [
      "Epoch 46/200, Train Loss: 0.2146, Test Loss: 0.2120\n"
     ]
    },
    {
     "name": "stderr",
     "output_type": "stream",
     "text": [
      "100%|██████████| 22/22 [00:00<00:00, 103.88it/s]\n",
      "100%|██████████| 4/4 [00:00<00:00, 159.02it/s]\n"
     ]
    },
    {
     "name": "stdout",
     "output_type": "stream",
     "text": [
      "Epoch 47/200, Train Loss: 0.2146, Test Loss: 0.2120\n"
     ]
    },
    {
     "name": "stderr",
     "output_type": "stream",
     "text": [
      "100%|██████████| 22/22 [00:00<00:00, 106.09it/s]\n",
      "100%|██████████| 4/4 [00:00<00:00, 218.90it/s]\n"
     ]
    },
    {
     "name": "stdout",
     "output_type": "stream",
     "text": [
      "Epoch 48/200, Train Loss: 0.2146, Test Loss: 0.2120\n"
     ]
    },
    {
     "name": "stderr",
     "output_type": "stream",
     "text": [
      "100%|██████████| 22/22 [00:00<00:00, 104.15it/s]\n",
      "100%|██████████| 4/4 [00:00<00:00, 211.69it/s]\n"
     ]
    },
    {
     "name": "stdout",
     "output_type": "stream",
     "text": [
      "Epoch 49/200, Train Loss: 0.2146, Test Loss: 0.2120\n"
     ]
    },
    {
     "name": "stderr",
     "output_type": "stream",
     "text": [
      "100%|██████████| 22/22 [00:00<00:00, 100.40it/s]\n",
      "100%|██████████| 4/4 [00:00<00:00, 211.58it/s]\n"
     ]
    },
    {
     "name": "stdout",
     "output_type": "stream",
     "text": [
      "Epoch 50/200, Train Loss: 0.2146, Test Loss: 0.2120\n"
     ]
    },
    {
     "name": "stderr",
     "output_type": "stream",
     "text": [
      "100%|██████████| 22/22 [00:00<00:00, 107.08it/s]\n",
      "100%|██████████| 4/4 [00:00<00:00, 215.58it/s]\n"
     ]
    },
    {
     "name": "stdout",
     "output_type": "stream",
     "text": [
      "Epoch 51/200, Train Loss: 0.2145, Test Loss: 0.2119\n"
     ]
    },
    {
     "name": "stderr",
     "output_type": "stream",
     "text": [
      "100%|██████████| 22/22 [00:00<00:00, 104.85it/s]\n",
      "100%|██████████| 4/4 [00:00<00:00, 212.59it/s]\n"
     ]
    },
    {
     "name": "stdout",
     "output_type": "stream",
     "text": [
      "Epoch 52/200, Train Loss: 0.2145, Test Loss: 0.2119\n"
     ]
    },
    {
     "name": "stderr",
     "output_type": "stream",
     "text": [
      "100%|██████████| 22/22 [00:00<00:00, 106.02it/s]\n",
      "100%|██████████| 4/4 [00:00<00:00, 160.48it/s]\n"
     ]
    },
    {
     "name": "stdout",
     "output_type": "stream",
     "text": [
      "Epoch 53/200, Train Loss: 0.2145, Test Loss: 0.2119\n"
     ]
    },
    {
     "name": "stderr",
     "output_type": "stream",
     "text": [
      "100%|██████████| 22/22 [00:00<00:00, 106.87it/s]\n",
      "100%|██████████| 4/4 [00:00<00:00, 218.23it/s]\n"
     ]
    },
    {
     "name": "stdout",
     "output_type": "stream",
     "text": [
      "Epoch 54/200, Train Loss: 0.2145, Test Loss: 0.2119\n"
     ]
    },
    {
     "name": "stderr",
     "output_type": "stream",
     "text": [
      "100%|██████████| 22/22 [00:00<00:00, 106.18it/s]\n",
      "100%|██████████| 4/4 [00:00<00:00, 213.65it/s]\n"
     ]
    },
    {
     "name": "stdout",
     "output_type": "stream",
     "text": [
      "Epoch 55/200, Train Loss: 0.2145, Test Loss: 0.2119\n"
     ]
    },
    {
     "name": "stderr",
     "output_type": "stream",
     "text": [
      "100%|██████████| 22/22 [00:00<00:00, 96.89it/s]\n",
      "100%|██████████| 4/4 [00:00<00:00, 217.39it/s]\n"
     ]
    },
    {
     "name": "stdout",
     "output_type": "stream",
     "text": [
      "Epoch 56/200, Train Loss: 0.2145, Test Loss: 0.2119\n"
     ]
    },
    {
     "name": "stderr",
     "output_type": "stream",
     "text": [
      "100%|██████████| 22/22 [00:00<00:00, 100.77it/s]\n",
      "100%|██████████| 4/4 [00:00<00:00, 210.44it/s]\n"
     ]
    },
    {
     "name": "stdout",
     "output_type": "stream",
     "text": [
      "Epoch 57/200, Train Loss: 0.2144, Test Loss: 0.2119\n"
     ]
    },
    {
     "name": "stderr",
     "output_type": "stream",
     "text": [
      "100%|██████████| 22/22 [00:00<00:00, 104.95it/s]\n",
      "100%|██████████| 4/4 [00:00<00:00, 212.33it/s]\n"
     ]
    },
    {
     "name": "stdout",
     "output_type": "stream",
     "text": [
      "Epoch 58/200, Train Loss: 0.2144, Test Loss: 0.2118\n"
     ]
    },
    {
     "name": "stderr",
     "output_type": "stream",
     "text": [
      "100%|██████████| 22/22 [00:00<00:00, 108.48it/s]\n",
      "100%|██████████| 4/4 [00:00<00:00, 190.14it/s]\n"
     ]
    },
    {
     "name": "stdout",
     "output_type": "stream",
     "text": [
      "Epoch 59/200, Train Loss: 0.2144, Test Loss: 0.2118\n"
     ]
    },
    {
     "name": "stderr",
     "output_type": "stream",
     "text": [
      "100%|██████████| 22/22 [00:00<00:00, 106.39it/s]\n",
      "100%|██████████| 4/4 [00:00<00:00, 190.28it/s]\n"
     ]
    },
    {
     "name": "stdout",
     "output_type": "stream",
     "text": [
      "Epoch 60/200, Train Loss: 0.2144, Test Loss: 0.2118\n"
     ]
    },
    {
     "name": "stderr",
     "output_type": "stream",
     "text": [
      "100%|██████████| 22/22 [00:00<00:00, 102.43it/s]\n",
      "100%|██████████| 4/4 [00:00<00:00, 190.24it/s]\n"
     ]
    },
    {
     "name": "stdout",
     "output_type": "stream",
     "text": [
      "Epoch 61/200, Train Loss: 0.2144, Test Loss: 0.2118\n",
      "No improvement in Test Loss for 1 epoch(s).\n",
      "Current Best Test Loss: 0.2118\n"
     ]
    },
    {
     "name": "stderr",
     "output_type": "stream",
     "text": [
      "100%|██████████| 22/22 [00:00<00:00, 97.93it/s]\n",
      "100%|██████████| 4/4 [00:00<00:00, 219.34it/s]\n"
     ]
    },
    {
     "name": "stdout",
     "output_type": "stream",
     "text": [
      "Epoch 62/200, Train Loss: 0.2144, Test Loss: 0.2118\n"
     ]
    },
    {
     "name": "stderr",
     "output_type": "stream",
     "text": [
      "100%|██████████| 22/22 [00:00<00:00, 104.56it/s]\n",
      "100%|██████████| 4/4 [00:00<00:00, 214.97it/s]\n"
     ]
    },
    {
     "name": "stdout",
     "output_type": "stream",
     "text": [
      "Epoch 63/200, Train Loss: 0.2144, Test Loss: 0.2118\n",
      "No improvement in Test Loss for 1 epoch(s).\n",
      "Current Best Test Loss: 0.2118\n"
     ]
    },
    {
     "name": "stderr",
     "output_type": "stream",
     "text": [
      "100%|██████████| 22/22 [00:00<00:00, 105.00it/s]\n",
      "100%|██████████| 4/4 [00:00<00:00, 215.63it/s]\n"
     ]
    },
    {
     "name": "stdout",
     "output_type": "stream",
     "text": [
      "Epoch 64/200, Train Loss: 0.2144, Test Loss: 0.2118\n"
     ]
    },
    {
     "name": "stderr",
     "output_type": "stream",
     "text": [
      "100%|██████████| 22/22 [00:00<00:00, 102.15it/s]\n",
      "100%|██████████| 4/4 [00:00<00:00, 217.65it/s]\n"
     ]
    },
    {
     "name": "stdout",
     "output_type": "stream",
     "text": [
      "Epoch 65/200, Train Loss: 0.2144, Test Loss: 0.2118\n",
      "No improvement in Test Loss for 1 epoch(s).\n",
      "Current Best Test Loss: 0.2118\n"
     ]
    },
    {
     "name": "stderr",
     "output_type": "stream",
     "text": [
      "100%|██████████| 22/22 [00:00<00:00, 108.32it/s]\n",
      "100%|██████████| 4/4 [00:00<00:00, 216.89it/s]\n"
     ]
    },
    {
     "name": "stdout",
     "output_type": "stream",
     "text": [
      "Epoch 66/200, Train Loss: 0.2143, Test Loss: 0.2118\n",
      "No improvement in Test Loss for 2 epoch(s).\n",
      "Current Best Test Loss: 0.2118\n"
     ]
    },
    {
     "name": "stderr",
     "output_type": "stream",
     "text": [
      "100%|██████████| 22/22 [00:00<00:00, 109.01it/s]\n",
      "100%|██████████| 4/4 [00:00<00:00, 217.12it/s]\n"
     ]
    },
    {
     "name": "stdout",
     "output_type": "stream",
     "text": [
      "Epoch 67/200, Train Loss: 0.2143, Test Loss: 0.2118\n"
     ]
    },
    {
     "name": "stderr",
     "output_type": "stream",
     "text": [
      "100%|██████████| 22/22 [00:00<00:00, 104.72it/s]\n",
      "100%|██████████| 4/4 [00:00<00:00, 214.23it/s]\n"
     ]
    },
    {
     "name": "stdout",
     "output_type": "stream",
     "text": [
      "Epoch 68/200, Train Loss: 0.2143, Test Loss: 0.2118\n",
      "No improvement in Test Loss for 1 epoch(s).\n",
      "Current Best Test Loss: 0.2118\n"
     ]
    },
    {
     "name": "stderr",
     "output_type": "stream",
     "text": [
      "100%|██████████| 22/22 [00:00<00:00, 98.47it/s]\n",
      "100%|██████████| 4/4 [00:00<00:00, 212.66it/s]\n"
     ]
    },
    {
     "name": "stdout",
     "output_type": "stream",
     "text": [
      "Epoch 69/200, Train Loss: 0.2143, Test Loss: 0.2118\n",
      "No improvement in Test Loss for 2 epoch(s).\n",
      "Current Best Test Loss: 0.2118\n"
     ]
    },
    {
     "name": "stderr",
     "output_type": "stream",
     "text": [
      "100%|██████████| 22/22 [00:00<00:00, 105.66it/s]\n",
      "100%|██████████| 4/4 [00:00<00:00, 214.88it/s]\n"
     ]
    },
    {
     "name": "stdout",
     "output_type": "stream",
     "text": [
      "Epoch 70/200, Train Loss: 0.2143, Test Loss: 0.2118\n",
      "No improvement in Test Loss for 3 epoch(s).\n",
      "Current Best Test Loss: 0.2118\n",
      "Early stopping triggered.\n",
      "Start training model with parameters: {'num_B_spline_basis': 20, 'downsample_factor': 10, 'transformer_num_layers': 2, 'transformer_d_model': 128, 'transformer_dim_feedforward': 512, 'transformer_vae_output_dim': 16, 'transformer_dropout': 0.0, 'transformer_nhead': 1, 'stimulus_nfactor': 1, 'stimulus_decoder_inter_dim_factor': 2, 'beta': 1.0, 'use_area_specific_decoder': True, 'use_area_specific_encoder': True, 'use_cls': False, 'coupling_basis_peaks_max': 5, 'coupling_basis_num': 3, 'coupling_nsubspace': 1, 'use_self_coupling': True, 'K_sigma2': 1.0, 'K_tau': 100, 'coupling_strength_nlatent': 1, 'self_history_basis_peaks_max': 1.5, 'self_history_basis_num': 3, 'self_history_basis_nonlinear': 1, 'penalty_smoothing_spline': 100.0, 'penalty_coupling_subgroup': 1e-05, 'penalty_diff_loading': None, 'penalty_loading_similarity': None, 'batch_size': 64, 'sample_latent': False, 'lr': 0.001, 'epoch_warm_up': 0, 'epoch_patience': 3, 'epoch_max': 200, 'tol': 1e-05, 'weight_decay': 0, 'lr_transformer': 0.0001, 'lr_sti': 0.01, 'lr_cp': 0.01, 'lr_self_history': 0.01}\n"
     ]
    },
    {
     "name": "stderr",
     "output_type": "stream",
     "text": [
      "100%|██████████| 22/22 [00:00<00:00, 87.13it/s]\n",
      "100%|██████████| 4/4 [00:00<00:00, 181.92it/s]\n"
     ]
    },
    {
     "name": "stdout",
     "output_type": "stream",
     "text": [
      "Epoch 1/200, Train Loss: 0.2145, Test Loss: 0.2117\n"
     ]
    },
    {
     "name": "stderr",
     "output_type": "stream",
     "text": [
      "100%|██████████| 22/22 [00:00<00:00, 85.56it/s]\n",
      "100%|██████████| 4/4 [00:00<00:00, 183.61it/s]\n"
     ]
    },
    {
     "name": "stdout",
     "output_type": "stream",
     "text": [
      "Epoch 2/200, Train Loss: 0.2142, Test Loss: 0.2115\n"
     ]
    },
    {
     "name": "stderr",
     "output_type": "stream",
     "text": [
      "100%|██████████| 22/22 [00:00<00:00, 85.81it/s]\n",
      "100%|██████████| 4/4 [00:00<00:00, 184.16it/s]\n"
     ]
    },
    {
     "name": "stdout",
     "output_type": "stream",
     "text": [
      "Epoch 3/200, Train Loss: 0.2139, Test Loss: 0.2111\n"
     ]
    },
    {
     "name": "stderr",
     "output_type": "stream",
     "text": [
      "100%|██████████| 22/22 [00:00<00:00, 85.67it/s]\n",
      "100%|██████████| 4/4 [00:00<00:00, 178.15it/s]\n"
     ]
    },
    {
     "name": "stdout",
     "output_type": "stream",
     "text": [
      "Epoch 4/200, Train Loss: 0.2136, Test Loss: 0.2110\n"
     ]
    },
    {
     "name": "stderr",
     "output_type": "stream",
     "text": [
      "100%|██████████| 22/22 [00:00<00:00, 82.30it/s]\n",
      "100%|██████████| 4/4 [00:00<00:00, 155.95it/s]\n"
     ]
    },
    {
     "name": "stdout",
     "output_type": "stream",
     "text": [
      "Epoch 5/200, Train Loss: 0.2136, Test Loss: 0.2110\n"
     ]
    },
    {
     "name": "stderr",
     "output_type": "stream",
     "text": [
      "100%|██████████| 22/22 [00:00<00:00, 85.53it/s]\n",
      "100%|██████████| 4/4 [00:00<00:00, 182.73it/s]\n"
     ]
    },
    {
     "name": "stdout",
     "output_type": "stream",
     "text": [
      "Epoch 6/200, Train Loss: 0.2136, Test Loss: 0.2110\n",
      "No improvement in Test Loss for 1 epoch(s).\n",
      "Current Best Test Loss: 0.2110\n"
     ]
    },
    {
     "name": "stderr",
     "output_type": "stream",
     "text": [
      "100%|██████████| 22/22 [00:00<00:00, 85.93it/s]\n",
      "100%|██████████| 4/4 [00:00<00:00, 184.29it/s]\n"
     ]
    },
    {
     "name": "stdout",
     "output_type": "stream",
     "text": [
      "Epoch 7/200, Train Loss: 0.2135, Test Loss: 0.2110\n"
     ]
    },
    {
     "name": "stderr",
     "output_type": "stream",
     "text": [
      "100%|██████████| 22/22 [00:00<00:00, 82.98it/s]\n",
      "100%|██████████| 4/4 [00:00<00:00, 182.52it/s]\n"
     ]
    },
    {
     "name": "stdout",
     "output_type": "stream",
     "text": [
      "Epoch 8/200, Train Loss: 0.2135, Test Loss: 0.2110\n"
     ]
    },
    {
     "name": "stderr",
     "output_type": "stream",
     "text": [
      "100%|██████████| 22/22 [00:00<00:00, 87.45it/s]\n",
      "100%|██████████| 4/4 [00:00<00:00, 171.80it/s]\n"
     ]
    },
    {
     "name": "stdout",
     "output_type": "stream",
     "text": [
      "Epoch 9/200, Train Loss: 0.2135, Test Loss: 0.2110\n",
      "No improvement in Test Loss for 1 epoch(s).\n",
      "Current Best Test Loss: 0.2110\n"
     ]
    },
    {
     "name": "stderr",
     "output_type": "stream",
     "text": [
      "100%|██████████| 22/22 [00:00<00:00, 85.51it/s]\n",
      "100%|██████████| 4/4 [00:00<00:00, 183.88it/s]\n"
     ]
    },
    {
     "name": "stdout",
     "output_type": "stream",
     "text": [
      "Epoch 10/200, Train Loss: 0.2135, Test Loss: 0.2109\n",
      "No improvement in Test Loss for 2 epoch(s).\n",
      "Current Best Test Loss: 0.2110\n"
     ]
    },
    {
     "name": "stderr",
     "output_type": "stream",
     "text": [
      "100%|██████████| 22/22 [00:00<00:00, 86.33it/s]\n",
      "100%|██████████| 4/4 [00:00<00:00, 182.97it/s]\n"
     ]
    },
    {
     "name": "stdout",
     "output_type": "stream",
     "text": [
      "Epoch 11/200, Train Loss: 0.2135, Test Loss: 0.2109\n",
      "No improvement in Test Loss for 3 epoch(s).\n",
      "Current Best Test Loss: 0.2110\n",
      "Early stopping triggered.\n",
      "Start training model with parameters: {'num_B_spline_basis': 20, 'downsample_factor': 10, 'transformer_num_layers': 2, 'transformer_d_model': 128, 'transformer_dim_feedforward': 512, 'transformer_vae_output_dim': 16, 'transformer_dropout': 0.0, 'transformer_nhead': 1, 'stimulus_nfactor': 1, 'stimulus_decoder_inter_dim_factor': 2, 'beta': 1.0, 'use_area_specific_decoder': True, 'use_area_specific_encoder': True, 'use_cls': False, 'coupling_basis_peaks_max': 5, 'coupling_basis_num': 3, 'coupling_nsubspace': 1, 'use_self_coupling': True, 'K_sigma2': 1.0, 'K_tau': 100, 'coupling_strength_nlatent': 1, 'self_history_basis_peaks_max': 1.5, 'self_history_basis_num': 3, 'self_history_basis_nonlinear': 1, 'penalty_smoothing_spline': 100.0, 'penalty_coupling_subgroup': 1e-05, 'penalty_diff_loading': None, 'penalty_loading_similarity': None, 'batch_size': 64, 'sample_latent': False, 'lr': 0.001, 'epoch_warm_up': 0, 'epoch_patience': 3, 'epoch_max': 200, 'tol': 1e-05, 'weight_decay': 0, 'lr_transformer': 0.0001, 'lr_sti': 0.01, 'lr_cp': 0.01, 'lr_self_history': 0.01}\n"
     ]
    },
    {
     "name": "stderr",
     "output_type": "stream",
     "text": [
      "100%|██████████| 22/22 [00:00<00:00, 85.16it/s]\n",
      "100%|██████████| 4/4 [00:00<00:00, 180.87it/s]\n"
     ]
    },
    {
     "name": "stdout",
     "output_type": "stream",
     "text": [
      "Epoch 1/200, Train Loss: 0.2135, Test Loss: 0.2109\n"
     ]
    },
    {
     "name": "stderr",
     "output_type": "stream",
     "text": [
      "100%|██████████| 22/22 [00:00<00:00, 85.41it/s]\n",
      "100%|██████████| 4/4 [00:00<00:00, 176.12it/s]\n"
     ]
    },
    {
     "name": "stdout",
     "output_type": "stream",
     "text": [
      "Epoch 2/200, Train Loss: 0.2135, Test Loss: 0.2109\n",
      "No improvement in Test Loss for 1 epoch(s).\n",
      "Current Best Test Loss: 0.2109\n"
     ]
    },
    {
     "name": "stderr",
     "output_type": "stream",
     "text": [
      "100%|██████████| 22/22 [00:00<00:00, 82.16it/s]\n",
      "100%|██████████| 4/4 [00:00<00:00, 182.16it/s]\n"
     ]
    },
    {
     "name": "stdout",
     "output_type": "stream",
     "text": [
      "Epoch 3/200, Train Loss: 0.2135, Test Loss: 0.2109\n",
      "No improvement in Test Loss for 2 epoch(s).\n",
      "Current Best Test Loss: 0.2109\n"
     ]
    },
    {
     "name": "stderr",
     "output_type": "stream",
     "text": [
      "100%|██████████| 22/22 [00:00<00:00, 81.63it/s]\n",
      "100%|██████████| 4/4 [00:00<00:00, 181.04it/s]\n"
     ]
    },
    {
     "name": "stdout",
     "output_type": "stream",
     "text": [
      "Epoch 4/200, Train Loss: 0.2135, Test Loss: 0.2109\n",
      "No improvement in Test Loss for 3 epoch(s).\n",
      "Current Best Test Loss: 0.2109\n",
      "Early stopping triggered.\n"
     ]
    },
    {
     "name": "stderr",
     "output_type": "stream",
     "text": [
      "100%|██████████| 7/7 [00:00<00:00, 137.12it/s]\n"
     ]
    },
    {
     "name": "stdout",
     "output_type": "stream",
     "text": [
      "Test loss: 0.22397426640303653\n",
      "Test loss baseline: 0.22954741811514495\n",
      "Model initialized. Training on cuda\n",
      "Start training model with parameters: {'num_B_spline_basis': 20, 'downsample_factor': 10, 'transformer_num_layers': 2, 'transformer_d_model': 128, 'transformer_dim_feedforward': 512, 'transformer_vae_output_dim': 16, 'transformer_dropout': 0.0, 'transformer_nhead': 1, 'stimulus_nfactor': 1, 'stimulus_decoder_inter_dim_factor': 2, 'beta': 1.0, 'use_area_specific_decoder': True, 'use_area_specific_encoder': True, 'use_cls': False, 'coupling_basis_peaks_max': 5, 'coupling_basis_num': 3, 'coupling_nsubspace': 1, 'use_self_coupling': True, 'K_sigma2': 1.0, 'K_tau': 100, 'coupling_strength_nlatent': 1, 'self_history_basis_peaks_max': 1.5, 'self_history_basis_num': 3, 'self_history_basis_nonlinear': 1, 'penalty_smoothing_spline': 100.0, 'penalty_coupling_subgroup': 1e-05, 'penalty_diff_loading': None, 'penalty_loading_similarity': None, 'batch_size': 64, 'sample_latent': False, 'lr': 0.001, 'epoch_warm_up': 0, 'epoch_patience': 3, 'epoch_max': 200, 'tol': 1e-05, 'weight_decay': 0, 'lr_transformer': 0.0001, 'lr_sti': 0.01, 'lr_cp': 0.01, 'lr_self_history': 0.01}\n"
     ]
    },
    {
     "name": "stderr",
     "output_type": "stream",
     "text": [
      "100%|██████████| 22/22 [00:00<00:00, 116.92it/s]\n",
      "100%|██████████| 4/4 [00:00<00:00, 225.35it/s]\n"
     ]
    },
    {
     "name": "stdout",
     "output_type": "stream",
     "text": [
      "Epoch 1/200, Train Loss: 0.7953, Test Loss: 0.4499\n"
     ]
    },
    {
     "name": "stderr",
     "output_type": "stream",
     "text": [
      "100%|██████████| 22/22 [00:00<00:00, 114.06it/s]\n",
      "100%|██████████| 4/4 [00:00<00:00, 221.78it/s]\n"
     ]
    },
    {
     "name": "stdout",
     "output_type": "stream",
     "text": [
      "Epoch 2/200, Train Loss: 0.3362, Test Loss: 0.2990\n"
     ]
    },
    {
     "name": "stderr",
     "output_type": "stream",
     "text": [
      "100%|██████████| 22/22 [00:00<00:00, 116.90it/s]\n",
      "100%|██████████| 4/4 [00:00<00:00, 222.82it/s]\n"
     ]
    },
    {
     "name": "stdout",
     "output_type": "stream",
     "text": [
      "Epoch 3/200, Train Loss: 0.2924, Test Loss: 0.2796\n"
     ]
    },
    {
     "name": "stderr",
     "output_type": "stream",
     "text": [
      "100%|██████████| 22/22 [00:00<00:00, 114.68it/s]\n",
      "100%|██████████| 4/4 [00:00<00:00, 218.21it/s]\n"
     ]
    },
    {
     "name": "stdout",
     "output_type": "stream",
     "text": [
      "Epoch 4/200, Train Loss: 0.2775, Test Loss: 0.2659\n"
     ]
    },
    {
     "name": "stderr",
     "output_type": "stream",
     "text": [
      "100%|██████████| 22/22 [00:00<00:00, 104.68it/s]\n",
      "100%|██████████| 4/4 [00:00<00:00, 193.73it/s]\n"
     ]
    },
    {
     "name": "stdout",
     "output_type": "stream",
     "text": [
      "Epoch 5/200, Train Loss: 0.2650, Test Loss: 0.2544\n"
     ]
    },
    {
     "name": "stderr",
     "output_type": "stream",
     "text": [
      "100%|██████████| 22/22 [00:00<00:00, 117.91it/s]\n",
      "100%|██████████| 4/4 [00:00<00:00, 219.71it/s]\n"
     ]
    },
    {
     "name": "stdout",
     "output_type": "stream",
     "text": [
      "Epoch 6/200, Train Loss: 0.2539, Test Loss: 0.2444\n"
     ]
    },
    {
     "name": "stderr",
     "output_type": "stream",
     "text": [
      "100%|██████████| 22/22 [00:00<00:00, 112.81it/s]\n",
      "100%|██████████| 4/4 [00:00<00:00, 219.00it/s]\n"
     ]
    },
    {
     "name": "stdout",
     "output_type": "stream",
     "text": [
      "Epoch 7/200, Train Loss: 0.2445, Test Loss: 0.2364\n"
     ]
    },
    {
     "name": "stderr",
     "output_type": "stream",
     "text": [
      "100%|██████████| 22/22 [00:00<00:00, 114.19it/s]\n",
      "100%|██████████| 4/4 [00:00<00:00, 218.96it/s]\n"
     ]
    },
    {
     "name": "stdout",
     "output_type": "stream",
     "text": [
      "Epoch 8/200, Train Loss: 0.2374, Test Loss: 0.2306\n"
     ]
    },
    {
     "name": "stderr",
     "output_type": "stream",
     "text": [
      "100%|██████████| 22/22 [00:00<00:00, 107.30it/s]\n",
      "100%|██████████| 4/4 [00:00<00:00, 223.25it/s]\n"
     ]
    },
    {
     "name": "stdout",
     "output_type": "stream",
     "text": [
      "Epoch 9/200, Train Loss: 0.2322, Test Loss: 0.2266\n"
     ]
    },
    {
     "name": "stderr",
     "output_type": "stream",
     "text": [
      "100%|██████████| 22/22 [00:00<00:00, 107.16it/s]\n",
      "100%|██████████| 4/4 [00:00<00:00, 217.76it/s]\n"
     ]
    },
    {
     "name": "stdout",
     "output_type": "stream",
     "text": [
      "Epoch 10/200, Train Loss: 0.2287, Test Loss: 0.2239\n"
     ]
    },
    {
     "name": "stderr",
     "output_type": "stream",
     "text": [
      "100%|██████████| 22/22 [00:00<00:00, 112.93it/s]\n",
      "100%|██████████| 4/4 [00:00<00:00, 219.36it/s]\n"
     ]
    },
    {
     "name": "stdout",
     "output_type": "stream",
     "text": [
      "Epoch 11/200, Train Loss: 0.2264, Test Loss: 0.2221\n"
     ]
    },
    {
     "name": "stderr",
     "output_type": "stream",
     "text": [
      "100%|██████████| 22/22 [00:00<00:00, 114.44it/s]\n",
      "100%|██████████| 4/4 [00:00<00:00, 215.22it/s]\n"
     ]
    },
    {
     "name": "stdout",
     "output_type": "stream",
     "text": [
      "Epoch 12/200, Train Loss: 0.2249, Test Loss: 0.2209\n"
     ]
    },
    {
     "name": "stderr",
     "output_type": "stream",
     "text": [
      "100%|██████████| 22/22 [00:00<00:00, 110.97it/s]\n",
      "100%|██████████| 4/4 [00:00<00:00, 216.58it/s]\n"
     ]
    },
    {
     "name": "stdout",
     "output_type": "stream",
     "text": [
      "Epoch 13/200, Train Loss: 0.2238, Test Loss: 0.2201\n"
     ]
    },
    {
     "name": "stderr",
     "output_type": "stream",
     "text": [
      "100%|██████████| 22/22 [00:00<00:00, 110.58it/s]\n",
      "100%|██████████| 4/4 [00:00<00:00, 214.51it/s]\n"
     ]
    },
    {
     "name": "stdout",
     "output_type": "stream",
     "text": [
      "Epoch 14/200, Train Loss: 0.2231, Test Loss: 0.2195\n"
     ]
    },
    {
     "name": "stderr",
     "output_type": "stream",
     "text": [
      "100%|██████████| 22/22 [00:00<00:00, 109.21it/s]\n",
      "100%|██████████| 4/4 [00:00<00:00, 222.34it/s]\n"
     ]
    },
    {
     "name": "stdout",
     "output_type": "stream",
     "text": [
      "Epoch 15/200, Train Loss: 0.2225, Test Loss: 0.2191\n"
     ]
    },
    {
     "name": "stderr",
     "output_type": "stream",
     "text": [
      "100%|██████████| 22/22 [00:00<00:00, 114.81it/s]\n",
      "100%|██████████| 4/4 [00:00<00:00, 218.09it/s]\n"
     ]
    },
    {
     "name": "stdout",
     "output_type": "stream",
     "text": [
      "Epoch 16/200, Train Loss: 0.2221, Test Loss: 0.2187\n"
     ]
    },
    {
     "name": "stderr",
     "output_type": "stream",
     "text": [
      "100%|██████████| 22/22 [00:00<00:00, 119.43it/s]\n",
      "100%|██████████| 4/4 [00:00<00:00, 204.10it/s]\n"
     ]
    },
    {
     "name": "stdout",
     "output_type": "stream",
     "text": [
      "Epoch 17/200, Train Loss: 0.2217, Test Loss: 0.2184\n"
     ]
    },
    {
     "name": "stderr",
     "output_type": "stream",
     "text": [
      "100%|██████████| 22/22 [00:00<00:00, 118.73it/s]\n",
      "100%|██████████| 4/4 [00:00<00:00, 227.41it/s]\n"
     ]
    },
    {
     "name": "stdout",
     "output_type": "stream",
     "text": [
      "Epoch 18/200, Train Loss: 0.2214, Test Loss: 0.2181\n"
     ]
    },
    {
     "name": "stderr",
     "output_type": "stream",
     "text": [
      "100%|██████████| 22/22 [00:00<00:00, 116.26it/s]\n",
      "100%|██████████| 4/4 [00:00<00:00, 225.66it/s]\n"
     ]
    },
    {
     "name": "stdout",
     "output_type": "stream",
     "text": [
      "Epoch 19/200, Train Loss: 0.2210, Test Loss: 0.2178\n"
     ]
    },
    {
     "name": "stderr",
     "output_type": "stream",
     "text": [
      "100%|██████████| 22/22 [00:00<00:00, 113.78it/s]\n",
      "100%|██████████| 4/4 [00:00<00:00, 208.32it/s]\n"
     ]
    },
    {
     "name": "stdout",
     "output_type": "stream",
     "text": [
      "Epoch 20/200, Train Loss: 0.2207, Test Loss: 0.2175\n"
     ]
    },
    {
     "name": "stderr",
     "output_type": "stream",
     "text": [
      "100%|██████████| 22/22 [00:00<00:00, 115.55it/s]\n",
      "100%|██████████| 4/4 [00:00<00:00, 219.46it/s]\n"
     ]
    },
    {
     "name": "stdout",
     "output_type": "stream",
     "text": [
      "Epoch 21/200, Train Loss: 0.2204, Test Loss: 0.2172\n"
     ]
    },
    {
     "name": "stderr",
     "output_type": "stream",
     "text": [
      "100%|██████████| 22/22 [00:00<00:00, 105.14it/s]\n",
      "100%|██████████| 4/4 [00:00<00:00, 219.15it/s]\n"
     ]
    },
    {
     "name": "stdout",
     "output_type": "stream",
     "text": [
      "Epoch 22/200, Train Loss: 0.2200, Test Loss: 0.2168\n"
     ]
    },
    {
     "name": "stderr",
     "output_type": "stream",
     "text": [
      "100%|██████████| 22/22 [00:00<00:00, 113.64it/s]\n",
      "100%|██████████| 4/4 [00:00<00:00, 221.03it/s]\n"
     ]
    },
    {
     "name": "stdout",
     "output_type": "stream",
     "text": [
      "Epoch 23/200, Train Loss: 0.2196, Test Loss: 0.2165\n"
     ]
    },
    {
     "name": "stderr",
     "output_type": "stream",
     "text": [
      "100%|██████████| 22/22 [00:00<00:00, 113.89it/s]\n",
      "100%|██████████| 4/4 [00:00<00:00, 213.29it/s]\n"
     ]
    },
    {
     "name": "stdout",
     "output_type": "stream",
     "text": [
      "Epoch 24/200, Train Loss: 0.2192, Test Loss: 0.2161\n"
     ]
    },
    {
     "name": "stderr",
     "output_type": "stream",
     "text": [
      "100%|██████████| 22/22 [00:00<00:00, 112.90it/s]\n",
      "100%|██████████| 4/4 [00:00<00:00, 227.43it/s]\n"
     ]
    },
    {
     "name": "stdout",
     "output_type": "stream",
     "text": [
      "Epoch 25/200, Train Loss: 0.2188, Test Loss: 0.2157\n"
     ]
    },
    {
     "name": "stderr",
     "output_type": "stream",
     "text": [
      "100%|██████████| 22/22 [00:00<00:00, 109.65it/s]\n",
      "100%|██████████| 4/4 [00:00<00:00, 223.51it/s]\n"
     ]
    },
    {
     "name": "stdout",
     "output_type": "stream",
     "text": [
      "Epoch 26/200, Train Loss: 0.2184, Test Loss: 0.2154\n"
     ]
    },
    {
     "name": "stderr",
     "output_type": "stream",
     "text": [
      "100%|██████████| 22/22 [00:00<00:00, 116.50it/s]\n",
      "100%|██████████| 4/4 [00:00<00:00, 216.88it/s]\n"
     ]
    },
    {
     "name": "stdout",
     "output_type": "stream",
     "text": [
      "Epoch 27/200, Train Loss: 0.2180, Test Loss: 0.2150\n"
     ]
    },
    {
     "name": "stderr",
     "output_type": "stream",
     "text": [
      "100%|██████████| 22/22 [00:00<00:00, 116.10it/s]\n",
      "100%|██████████| 4/4 [00:00<00:00, 219.98it/s]\n"
     ]
    },
    {
     "name": "stdout",
     "output_type": "stream",
     "text": [
      "Epoch 28/200, Train Loss: 0.2176, Test Loss: 0.2147\n"
     ]
    },
    {
     "name": "stderr",
     "output_type": "stream",
     "text": [
      "100%|██████████| 22/22 [00:00<00:00, 110.60it/s]\n",
      "100%|██████████| 4/4 [00:00<00:00, 219.55it/s]\n"
     ]
    },
    {
     "name": "stdout",
     "output_type": "stream",
     "text": [
      "Epoch 29/200, Train Loss: 0.2173, Test Loss: 0.2144\n"
     ]
    },
    {
     "name": "stderr",
     "output_type": "stream",
     "text": [
      "100%|██████████| 22/22 [00:00<00:00, 107.27it/s]\n",
      "100%|██████████| 4/4 [00:00<00:00, 224.41it/s]\n"
     ]
    },
    {
     "name": "stdout",
     "output_type": "stream",
     "text": [
      "Epoch 30/200, Train Loss: 0.2169, Test Loss: 0.2141\n"
     ]
    },
    {
     "name": "stderr",
     "output_type": "stream",
     "text": [
      "100%|██████████| 22/22 [00:00<00:00, 111.54it/s]\n",
      "100%|██████████| 4/4 [00:00<00:00, 215.04it/s]\n"
     ]
    },
    {
     "name": "stdout",
     "output_type": "stream",
     "text": [
      "Epoch 31/200, Train Loss: 0.2167, Test Loss: 0.2138\n"
     ]
    },
    {
     "name": "stderr",
     "output_type": "stream",
     "text": [
      "100%|██████████| 22/22 [00:00<00:00, 114.59it/s]\n",
      "100%|██████████| 4/4 [00:00<00:00, 226.01it/s]\n"
     ]
    },
    {
     "name": "stdout",
     "output_type": "stream",
     "text": [
      "Epoch 32/200, Train Loss: 0.2164, Test Loss: 0.2136\n"
     ]
    },
    {
     "name": "stderr",
     "output_type": "stream",
     "text": [
      "100%|██████████| 22/22 [00:00<00:00, 117.04it/s]\n",
      "100%|██████████| 4/4 [00:00<00:00, 203.53it/s]\n"
     ]
    },
    {
     "name": "stdout",
     "output_type": "stream",
     "text": [
      "Epoch 33/200, Train Loss: 0.2162, Test Loss: 0.2135\n"
     ]
    },
    {
     "name": "stderr",
     "output_type": "stream",
     "text": [
      "100%|██████████| 22/22 [00:00<00:00, 105.67it/s]\n",
      "100%|██████████| 4/4 [00:00<00:00, 218.42it/s]\n"
     ]
    },
    {
     "name": "stdout",
     "output_type": "stream",
     "text": [
      "Epoch 34/200, Train Loss: 0.2161, Test Loss: 0.2133\n"
     ]
    },
    {
     "name": "stderr",
     "output_type": "stream",
     "text": [
      "100%|██████████| 22/22 [00:00<00:00, 116.24it/s]\n",
      "100%|██████████| 4/4 [00:00<00:00, 214.39it/s]\n"
     ]
    },
    {
     "name": "stdout",
     "output_type": "stream",
     "text": [
      "Epoch 35/200, Train Loss: 0.2159, Test Loss: 0.2132\n"
     ]
    },
    {
     "name": "stderr",
     "output_type": "stream",
     "text": [
      "100%|██████████| 22/22 [00:00<00:00, 117.64it/s]\n",
      "100%|██████████| 4/4 [00:00<00:00, 218.92it/s]\n"
     ]
    },
    {
     "name": "stdout",
     "output_type": "stream",
     "text": [
      "Epoch 36/200, Train Loss: 0.2158, Test Loss: 0.2131\n"
     ]
    },
    {
     "name": "stderr",
     "output_type": "stream",
     "text": [
      "100%|██████████| 22/22 [00:00<00:00, 115.45it/s]\n",
      "100%|██████████| 4/4 [00:00<00:00, 210.38it/s]\n"
     ]
    },
    {
     "name": "stdout",
     "output_type": "stream",
     "text": [
      "Epoch 37/200, Train Loss: 0.2157, Test Loss: 0.2130\n"
     ]
    },
    {
     "name": "stderr",
     "output_type": "stream",
     "text": [
      "100%|██████████| 22/22 [00:00<00:00, 112.74it/s]\n",
      "100%|██████████| 4/4 [00:00<00:00, 221.83it/s]\n"
     ]
    },
    {
     "name": "stdout",
     "output_type": "stream",
     "text": [
      "Epoch 38/200, Train Loss: 0.2157, Test Loss: 0.2129\n"
     ]
    },
    {
     "name": "stderr",
     "output_type": "stream",
     "text": [
      "100%|██████████| 22/22 [00:00<00:00, 113.28it/s]\n",
      "100%|██████████| 4/4 [00:00<00:00, 217.05it/s]\n"
     ]
    },
    {
     "name": "stdout",
     "output_type": "stream",
     "text": [
      "Epoch 39/200, Train Loss: 0.2156, Test Loss: 0.2129\n"
     ]
    },
    {
     "name": "stderr",
     "output_type": "stream",
     "text": [
      "100%|██████████| 22/22 [00:00<00:00, 109.20it/s]\n",
      "100%|██████████| 4/4 [00:00<00:00, 217.63it/s]\n"
     ]
    },
    {
     "name": "stdout",
     "output_type": "stream",
     "text": [
      "Epoch 40/200, Train Loss: 0.2155, Test Loss: 0.2128\n"
     ]
    },
    {
     "name": "stderr",
     "output_type": "stream",
     "text": [
      "100%|██████████| 22/22 [00:00<00:00, 115.91it/s]\n",
      "100%|██████████| 4/4 [00:00<00:00, 221.55it/s]\n"
     ]
    },
    {
     "name": "stdout",
     "output_type": "stream",
     "text": [
      "Epoch 41/200, Train Loss: 0.2155, Test Loss: 0.2128\n"
     ]
    },
    {
     "name": "stderr",
     "output_type": "stream",
     "text": [
      "100%|██████████| 22/22 [00:00<00:00, 114.89it/s]\n",
      "100%|██████████| 4/4 [00:00<00:00, 203.08it/s]\n"
     ]
    },
    {
     "name": "stdout",
     "output_type": "stream",
     "text": [
      "Epoch 42/200, Train Loss: 0.2154, Test Loss: 0.2128\n"
     ]
    },
    {
     "name": "stderr",
     "output_type": "stream",
     "text": [
      "100%|██████████| 22/22 [00:00<00:00, 119.20it/s]\n",
      "100%|██████████| 4/4 [00:00<00:00, 183.33it/s]\n"
     ]
    },
    {
     "name": "stdout",
     "output_type": "stream",
     "text": [
      "Epoch 43/200, Train Loss: 0.2154, Test Loss: 0.2127\n"
     ]
    },
    {
     "name": "stderr",
     "output_type": "stream",
     "text": [
      "100%|██████████| 22/22 [00:00<00:00, 110.39it/s]\n",
      "100%|██████████| 4/4 [00:00<00:00, 212.69it/s]\n"
     ]
    },
    {
     "name": "stdout",
     "output_type": "stream",
     "text": [
      "Epoch 44/200, Train Loss: 0.2154, Test Loss: 0.2127\n"
     ]
    },
    {
     "name": "stderr",
     "output_type": "stream",
     "text": [
      "100%|██████████| 22/22 [00:00<00:00, 115.86it/s]\n",
      "100%|██████████| 4/4 [00:00<00:00, 228.46it/s]\n"
     ]
    },
    {
     "name": "stdout",
     "output_type": "stream",
     "text": [
      "Epoch 45/200, Train Loss: 0.2154, Test Loss: 0.2127\n"
     ]
    },
    {
     "name": "stderr",
     "output_type": "stream",
     "text": [
      "100%|██████████| 22/22 [00:00<00:00, 111.98it/s]\n",
      "100%|██████████| 4/4 [00:00<00:00, 224.43it/s]\n"
     ]
    },
    {
     "name": "stdout",
     "output_type": "stream",
     "text": [
      "Epoch 46/200, Train Loss: 0.2153, Test Loss: 0.2127\n"
     ]
    },
    {
     "name": "stderr",
     "output_type": "stream",
     "text": [
      "100%|██████████| 22/22 [00:00<00:00, 113.34it/s]\n",
      "100%|██████████| 4/4 [00:00<00:00, 208.87it/s]\n"
     ]
    },
    {
     "name": "stdout",
     "output_type": "stream",
     "text": [
      "Epoch 47/200, Train Loss: 0.2153, Test Loss: 0.2127\n"
     ]
    },
    {
     "name": "stderr",
     "output_type": "stream",
     "text": [
      "100%|██████████| 22/22 [00:00<00:00, 111.81it/s]\n",
      "100%|██████████| 4/4 [00:00<00:00, 217.58it/s]\n"
     ]
    },
    {
     "name": "stdout",
     "output_type": "stream",
     "text": [
      "Epoch 48/200, Train Loss: 0.2153, Test Loss: 0.2127\n"
     ]
    },
    {
     "name": "stderr",
     "output_type": "stream",
     "text": [
      "100%|██████████| 22/22 [00:00<00:00, 107.84it/s]\n",
      "100%|██████████| 4/4 [00:00<00:00, 225.14it/s]\n"
     ]
    },
    {
     "name": "stdout",
     "output_type": "stream",
     "text": [
      "Epoch 49/200, Train Loss: 0.2153, Test Loss: 0.2126\n",
      "No improvement in Test Loss for 1 epoch(s).\n",
      "Current Best Test Loss: 0.2127\n"
     ]
    },
    {
     "name": "stderr",
     "output_type": "stream",
     "text": [
      "100%|██████████| 22/22 [00:00<00:00, 111.65it/s]\n",
      "100%|██████████| 4/4 [00:00<00:00, 213.96it/s]\n"
     ]
    },
    {
     "name": "stdout",
     "output_type": "stream",
     "text": [
      "Epoch 50/200, Train Loss: 0.2153, Test Loss: 0.2126\n"
     ]
    },
    {
     "name": "stderr",
     "output_type": "stream",
     "text": [
      "100%|██████████| 22/22 [00:00<00:00, 113.70it/s]\n",
      "100%|██████████| 4/4 [00:00<00:00, 198.58it/s]\n"
     ]
    },
    {
     "name": "stdout",
     "output_type": "stream",
     "text": [
      "Epoch 51/200, Train Loss: 0.2153, Test Loss: 0.2126\n",
      "No improvement in Test Loss for 1 epoch(s).\n",
      "Current Best Test Loss: 0.2126\n"
     ]
    },
    {
     "name": "stderr",
     "output_type": "stream",
     "text": [
      "100%|██████████| 22/22 [00:00<00:00, 105.92it/s]\n",
      "100%|██████████| 4/4 [00:00<00:00, 219.32it/s]\n"
     ]
    },
    {
     "name": "stdout",
     "output_type": "stream",
     "text": [
      "Epoch 52/200, Train Loss: 0.2153, Test Loss: 0.2126\n"
     ]
    },
    {
     "name": "stderr",
     "output_type": "stream",
     "text": [
      "100%|██████████| 22/22 [00:00<00:00, 115.49it/s]\n",
      "100%|██████████| 4/4 [00:00<00:00, 222.45it/s]\n"
     ]
    },
    {
     "name": "stdout",
     "output_type": "stream",
     "text": [
      "Epoch 53/200, Train Loss: 0.2153, Test Loss: 0.2126\n",
      "No improvement in Test Loss for 1 epoch(s).\n",
      "Current Best Test Loss: 0.2126\n"
     ]
    },
    {
     "name": "stderr",
     "output_type": "stream",
     "text": [
      "100%|██████████| 22/22 [00:00<00:00, 114.38it/s]\n",
      "100%|██████████| 4/4 [00:00<00:00, 219.97it/s]\n"
     ]
    },
    {
     "name": "stdout",
     "output_type": "stream",
     "text": [
      "Epoch 54/200, Train Loss: 0.2153, Test Loss: 0.2126\n"
     ]
    },
    {
     "name": "stderr",
     "output_type": "stream",
     "text": [
      "100%|██████████| 22/22 [00:00<00:00, 113.03it/s]\n",
      "100%|██████████| 4/4 [00:00<00:00, 209.81it/s]\n"
     ]
    },
    {
     "name": "stdout",
     "output_type": "stream",
     "text": [
      "Epoch 55/200, Train Loss: 0.2153, Test Loss: 0.2126\n",
      "No improvement in Test Loss for 1 epoch(s).\n",
      "Current Best Test Loss: 0.2126\n"
     ]
    },
    {
     "name": "stderr",
     "output_type": "stream",
     "text": [
      "100%|██████████| 22/22 [00:00<00:00, 113.19it/s]\n",
      "100%|██████████| 4/4 [00:00<00:00, 222.04it/s]\n"
     ]
    },
    {
     "name": "stdout",
     "output_type": "stream",
     "text": [
      "Epoch 56/200, Train Loss: 0.2153, Test Loss: 0.2126\n",
      "No improvement in Test Loss for 2 epoch(s).\n",
      "Current Best Test Loss: 0.2126\n"
     ]
    },
    {
     "name": "stderr",
     "output_type": "stream",
     "text": [
      "100%|██████████| 22/22 [00:00<00:00, 113.71it/s]\n",
      "100%|██████████| 4/4 [00:00<00:00, 216.84it/s]\n"
     ]
    },
    {
     "name": "stdout",
     "output_type": "stream",
     "text": [
      "Epoch 57/200, Train Loss: 0.2153, Test Loss: 0.2126\n"
     ]
    },
    {
     "name": "stderr",
     "output_type": "stream",
     "text": [
      "100%|██████████| 22/22 [00:00<00:00, 112.79it/s]\n",
      "100%|██████████| 4/4 [00:00<00:00, 213.41it/s]\n"
     ]
    },
    {
     "name": "stdout",
     "output_type": "stream",
     "text": [
      "Epoch 58/200, Train Loss: 0.2153, Test Loss: 0.2126\n",
      "No improvement in Test Loss for 1 epoch(s).\n",
      "Current Best Test Loss: 0.2126\n"
     ]
    },
    {
     "name": "stderr",
     "output_type": "stream",
     "text": [
      "100%|██████████| 22/22 [00:00<00:00, 108.20it/s]\n",
      "100%|██████████| 4/4 [00:00<00:00, 236.42it/s]\n"
     ]
    },
    {
     "name": "stdout",
     "output_type": "stream",
     "text": [
      "Epoch 59/200, Train Loss: 0.2152, Test Loss: 0.2126\n",
      "No improvement in Test Loss for 2 epoch(s).\n",
      "Current Best Test Loss: 0.2126\n"
     ]
    },
    {
     "name": "stderr",
     "output_type": "stream",
     "text": [
      "100%|██████████| 22/22 [00:00<00:00, 116.07it/s]\n",
      "100%|██████████| 4/4 [00:00<00:00, 216.32it/s]\n"
     ]
    },
    {
     "name": "stdout",
     "output_type": "stream",
     "text": [
      "Epoch 60/200, Train Loss: 0.2152, Test Loss: 0.2126\n"
     ]
    },
    {
     "name": "stderr",
     "output_type": "stream",
     "text": [
      "100%|██████████| 22/22 [00:00<00:00, 108.43it/s]\n",
      "100%|██████████| 4/4 [00:00<00:00, 207.37it/s]\n"
     ]
    },
    {
     "name": "stdout",
     "output_type": "stream",
     "text": [
      "Epoch 61/200, Train Loss: 0.2152, Test Loss: 0.2126\n",
      "No improvement in Test Loss for 1 epoch(s).\n",
      "Current Best Test Loss: 0.2126\n"
     ]
    },
    {
     "name": "stderr",
     "output_type": "stream",
     "text": [
      "100%|██████████| 22/22 [00:00<00:00, 110.86it/s]\n",
      "100%|██████████| 4/4 [00:00<00:00, 212.96it/s]\n"
     ]
    },
    {
     "name": "stdout",
     "output_type": "stream",
     "text": [
      "Epoch 62/200, Train Loss: 0.2152, Test Loss: 0.2126\n",
      "No improvement in Test Loss for 2 epoch(s).\n",
      "Current Best Test Loss: 0.2126\n"
     ]
    },
    {
     "name": "stderr",
     "output_type": "stream",
     "text": [
      "100%|██████████| 22/22 [00:00<00:00, 115.96it/s]\n",
      "100%|██████████| 4/4 [00:00<00:00, 197.73it/s]\n"
     ]
    },
    {
     "name": "stdout",
     "output_type": "stream",
     "text": [
      "Epoch 63/200, Train Loss: 0.2152, Test Loss: 0.2126\n",
      "No improvement in Test Loss for 3 epoch(s).\n",
      "Current Best Test Loss: 0.2126\n",
      "Early stopping triggered.\n"
     ]
    },
    {
     "name": "stderr",
     "output_type": "stream",
     "text": [
      "100%|██████████| 7/7 [00:00<00:00, 175.19it/s]\n"
     ]
    },
    {
     "name": "stdout",
     "output_type": "stream",
     "text": [
      "Test loss: 0.2342973492686588\n",
      "Test loss baseline: 0.22964138494911338\n",
      "Model initialized. Training on cuda\n",
      "Start training model with parameters: {'num_B_spline_basis': 20, 'downsample_factor': 10, 'transformer_num_layers': 2, 'transformer_d_model': 128, 'transformer_dim_feedforward': 512, 'transformer_vae_output_dim': 16, 'transformer_dropout': 0.0, 'transformer_nhead': 1, 'stimulus_nfactor': 1, 'stimulus_decoder_inter_dim_factor': 2, 'beta': 1.0, 'use_area_specific_decoder': True, 'use_area_specific_encoder': True, 'use_cls': False, 'coupling_basis_peaks_max': 5, 'coupling_basis_num': 3, 'coupling_nsubspace': 1, 'use_self_coupling': True, 'K_sigma2': 1.0, 'K_tau': 100, 'coupling_strength_nlatent': 1, 'self_history_basis_peaks_max': 1.5, 'self_history_basis_num': 3, 'self_history_basis_nonlinear': 1, 'penalty_smoothing_spline': 100.0, 'penalty_coupling_subgroup': 1e-05, 'penalty_diff_loading': None, 'penalty_loading_similarity': None, 'batch_size': 64, 'sample_latent': False, 'lr': 0.001, 'epoch_warm_up': 0, 'epoch_patience': 3, 'epoch_max': 200, 'tol': 1e-05, 'weight_decay': 0, 'lr_transformer': 0.0001, 'lr_sti': 0.01, 'lr_cp': 0.01, 'lr_self_history': 0.01}\n"
     ]
    },
    {
     "name": "stderr",
     "output_type": "stream",
     "text": [
      "100%|██████████| 22/22 [00:00<00:00, 148.92it/s]\n",
      "100%|██████████| 4/4 [00:00<00:00, 269.84it/s]"
     ]
    },
    {
     "name": "stdout",
     "output_type": "stream",
     "text": [
      "Epoch 1/200, Train Loss: 0.8760, Test Loss: 0.7418\n"
     ]
    },
    {
     "name": "stderr",
     "output_type": "stream",
     "text": [
      "\n",
      "100%|██████████| 22/22 [00:00<00:00, 150.03it/s]\n",
      "100%|██████████| 4/4 [00:00<00:00, 271.69it/s]\n"
     ]
    },
    {
     "name": "stdout",
     "output_type": "stream",
     "text": [
      "Epoch 2/200, Train Loss: 0.6218, Test Loss: 0.4992\n"
     ]
    },
    {
     "name": "stderr",
     "output_type": "stream",
     "text": [
      "100%|██████████| 22/22 [00:00<00:00, 160.20it/s]\n",
      "100%|██████████| 4/4 [00:00<00:00, 229.18it/s]\n"
     ]
    },
    {
     "name": "stdout",
     "output_type": "stream",
     "text": [
      "Epoch 3/200, Train Loss: 0.4146, Test Loss: 0.3382\n"
     ]
    },
    {
     "name": "stderr",
     "output_type": "stream",
     "text": [
      "100%|██████████| 22/22 [00:00<00:00, 163.28it/s]\n",
      "100%|██████████| 4/4 [00:00<00:00, 277.63it/s]\n"
     ]
    },
    {
     "name": "stdout",
     "output_type": "stream",
     "text": [
      "Epoch 4/200, Train Loss: 0.3001, Test Loss: 0.2674\n"
     ]
    },
    {
     "name": "stderr",
     "output_type": "stream",
     "text": [
      "100%|██████████| 22/22 [00:00<00:00, 158.08it/s]\n",
      "100%|██████████| 4/4 [00:00<00:00, 269.54it/s]\n"
     ]
    },
    {
     "name": "stdout",
     "output_type": "stream",
     "text": [
      "Epoch 5/200, Train Loss: 0.2548, Test Loss: 0.2417\n"
     ]
    },
    {
     "name": "stderr",
     "output_type": "stream",
     "text": [
      "100%|██████████| 22/22 [00:00<00:00, 153.55it/s]\n",
      "100%|██████████| 4/4 [00:00<00:00, 209.25it/s]\n"
     ]
    },
    {
     "name": "stdout",
     "output_type": "stream",
     "text": [
      "Epoch 6/200, Train Loss: 0.2382, Test Loss: 0.2318\n"
     ]
    },
    {
     "name": "stderr",
     "output_type": "stream",
     "text": [
      "100%|██████████| 22/22 [00:00<00:00, 161.96it/s]\n",
      "100%|██████████| 4/4 [00:00<00:00, 265.01it/s]\n"
     ]
    },
    {
     "name": "stdout",
     "output_type": "stream",
     "text": [
      "Epoch 7/200, Train Loss: 0.2313, Test Loss: 0.2273\n"
     ]
    },
    {
     "name": "stderr",
     "output_type": "stream",
     "text": [
      "100%|██████████| 22/22 [00:00<00:00, 159.17it/s]\n",
      "100%|██████████| 4/4 [00:00<00:00, 274.74it/s]\n"
     ]
    },
    {
     "name": "stdout",
     "output_type": "stream",
     "text": [
      "Epoch 8/200, Train Loss: 0.2281, Test Loss: 0.2250\n"
     ]
    },
    {
     "name": "stderr",
     "output_type": "stream",
     "text": [
      "100%|██████████| 22/22 [00:00<00:00, 154.99it/s]\n",
      "100%|██████████| 4/4 [00:00<00:00, 219.73it/s]\n"
     ]
    },
    {
     "name": "stdout",
     "output_type": "stream",
     "text": [
      "Epoch 9/200, Train Loss: 0.2263, Test Loss: 0.2237\n"
     ]
    },
    {
     "name": "stderr",
     "output_type": "stream",
     "text": [
      "100%|██████████| 22/22 [00:00<00:00, 164.42it/s]\n",
      "100%|██████████| 4/4 [00:00<00:00, 267.87it/s]\n"
     ]
    },
    {
     "name": "stdout",
     "output_type": "stream",
     "text": [
      "Epoch 10/200, Train Loss: 0.2253, Test Loss: 0.2228\n"
     ]
    },
    {
     "name": "stderr",
     "output_type": "stream",
     "text": [
      "100%|██████████| 22/22 [00:00<00:00, 153.70it/s]\n",
      "100%|██████████| 4/4 [00:00<00:00, 274.58it/s]\n"
     ]
    },
    {
     "name": "stdout",
     "output_type": "stream",
     "text": [
      "Epoch 11/200, Train Loss: 0.2246, Test Loss: 0.2223\n"
     ]
    },
    {
     "name": "stderr",
     "output_type": "stream",
     "text": [
      "100%|██████████| 22/22 [00:00<00:00, 166.19it/s]\n",
      "100%|██████████| 4/4 [00:00<00:00, 280.92it/s]\n"
     ]
    },
    {
     "name": "stdout",
     "output_type": "stream",
     "text": [
      "Epoch 12/200, Train Loss: 0.2242, Test Loss: 0.2219\n"
     ]
    },
    {
     "name": "stderr",
     "output_type": "stream",
     "text": [
      "100%|██████████| 22/22 [00:00<00:00, 159.83it/s]\n",
      "100%|██████████| 4/4 [00:00<00:00, 273.94it/s]\n"
     ]
    },
    {
     "name": "stdout",
     "output_type": "stream",
     "text": [
      "Epoch 13/200, Train Loss: 0.2239, Test Loss: 0.2217\n"
     ]
    },
    {
     "name": "stderr",
     "output_type": "stream",
     "text": [
      "100%|██████████| 22/22 [00:00<00:00, 157.16it/s]\n",
      "100%|██████████| 4/4 [00:00<00:00, 252.50it/s]\n"
     ]
    },
    {
     "name": "stdout",
     "output_type": "stream",
     "text": [
      "Epoch 14/200, Train Loss: 0.2236, Test Loss: 0.2215\n"
     ]
    },
    {
     "name": "stderr",
     "output_type": "stream",
     "text": [
      "100%|██████████| 22/22 [00:00<00:00, 151.98it/s]\n",
      "100%|██████████| 4/4 [00:00<00:00, 265.02it/s]\n"
     ]
    },
    {
     "name": "stdout",
     "output_type": "stream",
     "text": [
      "Epoch 15/200, Train Loss: 0.2234, Test Loss: 0.2213\n"
     ]
    },
    {
     "name": "stderr",
     "output_type": "stream",
     "text": [
      "100%|██████████| 22/22 [00:00<00:00, 153.36it/s]\n",
      "100%|██████████| 4/4 [00:00<00:00, 264.87it/s]\n"
     ]
    },
    {
     "name": "stdout",
     "output_type": "stream",
     "text": [
      "Epoch 16/200, Train Loss: 0.2233, Test Loss: 0.2211\n"
     ]
    },
    {
     "name": "stderr",
     "output_type": "stream",
     "text": [
      "100%|██████████| 22/22 [00:00<00:00, 147.99it/s]\n",
      "100%|██████████| 4/4 [00:00<00:00, 259.50it/s]\n"
     ]
    },
    {
     "name": "stdout",
     "output_type": "stream",
     "text": [
      "Epoch 17/200, Train Loss: 0.2232, Test Loss: 0.2210\n"
     ]
    },
    {
     "name": "stderr",
     "output_type": "stream",
     "text": [
      "100%|██████████| 22/22 [00:00<00:00, 161.96it/s]\n",
      "100%|██████████| 4/4 [00:00<00:00, 270.45it/s]\n"
     ]
    },
    {
     "name": "stdout",
     "output_type": "stream",
     "text": [
      "Epoch 18/200, Train Loss: 0.2231, Test Loss: 0.2209\n"
     ]
    },
    {
     "name": "stderr",
     "output_type": "stream",
     "text": [
      "100%|██████████| 22/22 [00:00<00:00, 158.31it/s]\n",
      "100%|██████████| 4/4 [00:00<00:00, 261.50it/s]\n"
     ]
    },
    {
     "name": "stdout",
     "output_type": "stream",
     "text": [
      "Epoch 19/200, Train Loss: 0.2230, Test Loss: 0.2208\n"
     ]
    },
    {
     "name": "stderr",
     "output_type": "stream",
     "text": [
      "100%|██████████| 22/22 [00:00<00:00, 161.88it/s]\n",
      "100%|██████████| 4/4 [00:00<00:00, 249.03it/s]\n"
     ]
    },
    {
     "name": "stdout",
     "output_type": "stream",
     "text": [
      "Epoch 20/200, Train Loss: 0.2229, Test Loss: 0.2208\n"
     ]
    },
    {
     "name": "stderr",
     "output_type": "stream",
     "text": [
      "100%|██████████| 22/22 [00:00<00:00, 162.57it/s]\n",
      "100%|██████████| 4/4 [00:00<00:00, 269.92it/s]\n"
     ]
    },
    {
     "name": "stdout",
     "output_type": "stream",
     "text": [
      "Epoch 21/200, Train Loss: 0.2228, Test Loss: 0.2207\n"
     ]
    },
    {
     "name": "stderr",
     "output_type": "stream",
     "text": [
      "100%|██████████| 22/22 [00:00<00:00, 149.45it/s]\n",
      "100%|██████████| 4/4 [00:00<00:00, 268.32it/s]\n"
     ]
    },
    {
     "name": "stdout",
     "output_type": "stream",
     "text": [
      "Epoch 22/200, Train Loss: 0.2227, Test Loss: 0.2206\n"
     ]
    },
    {
     "name": "stderr",
     "output_type": "stream",
     "text": [
      "100%|██████████| 22/22 [00:00<00:00, 163.47it/s]\n",
      "100%|██████████| 4/4 [00:00<00:00, 200.35it/s]\n"
     ]
    },
    {
     "name": "stdout",
     "output_type": "stream",
     "text": [
      "Epoch 23/200, Train Loss: 0.2227, Test Loss: 0.2206\n"
     ]
    },
    {
     "name": "stderr",
     "output_type": "stream",
     "text": [
      "100%|██████████| 22/22 [00:00<00:00, 151.88it/s]\n",
      "100%|██████████| 4/4 [00:00<00:00, 271.46it/s]\n"
     ]
    },
    {
     "name": "stdout",
     "output_type": "stream",
     "text": [
      "Epoch 24/200, Train Loss: 0.2226, Test Loss: 0.2205\n"
     ]
    },
    {
     "name": "stderr",
     "output_type": "stream",
     "text": [
      "100%|██████████| 22/22 [00:00<00:00, 157.17it/s]\n",
      "100%|██████████| 4/4 [00:00<00:00, 274.69it/s]\n"
     ]
    },
    {
     "name": "stdout",
     "output_type": "stream",
     "text": [
      "Epoch 25/200, Train Loss: 0.2225, Test Loss: 0.2204\n"
     ]
    },
    {
     "name": "stderr",
     "output_type": "stream",
     "text": [
      "100%|██████████| 22/22 [00:00<00:00, 154.48it/s]\n",
      "100%|██████████| 4/4 [00:00<00:00, 264.65it/s]\n"
     ]
    },
    {
     "name": "stdout",
     "output_type": "stream",
     "text": [
      "Epoch 26/200, Train Loss: 0.2225, Test Loss: 0.2204\n"
     ]
    },
    {
     "name": "stderr",
     "output_type": "stream",
     "text": [
      "100%|██████████| 22/22 [00:00<00:00, 161.00it/s]\n",
      "100%|██████████| 4/4 [00:00<00:00, 275.05it/s]\n"
     ]
    },
    {
     "name": "stdout",
     "output_type": "stream",
     "text": [
      "Epoch 27/200, Train Loss: 0.2225, Test Loss: 0.2204\n"
     ]
    },
    {
     "name": "stderr",
     "output_type": "stream",
     "text": [
      "100%|██████████| 22/22 [00:00<00:00, 154.45it/s]\n",
      "100%|██████████| 4/4 [00:00<00:00, 254.67it/s]\n"
     ]
    },
    {
     "name": "stdout",
     "output_type": "stream",
     "text": [
      "Epoch 28/200, Train Loss: 0.2224, Test Loss: 0.2203\n"
     ]
    },
    {
     "name": "stderr",
     "output_type": "stream",
     "text": [
      "100%|██████████| 22/22 [00:00<00:00, 159.25it/s]\n",
      "100%|██████████| 4/4 [00:00<00:00, 246.88it/s]\n"
     ]
    },
    {
     "name": "stdout",
     "output_type": "stream",
     "text": [
      "Epoch 29/200, Train Loss: 0.2224, Test Loss: 0.2203\n"
     ]
    },
    {
     "name": "stderr",
     "output_type": "stream",
     "text": [
      "100%|██████████| 22/22 [00:00<00:00, 161.14it/s]\n",
      "100%|██████████| 4/4 [00:00<00:00, 263.76it/s]\n"
     ]
    },
    {
     "name": "stdout",
     "output_type": "stream",
     "text": [
      "Epoch 30/200, Train Loss: 0.2223, Test Loss: 0.2202\n"
     ]
    },
    {
     "name": "stderr",
     "output_type": "stream",
     "text": [
      "100%|██████████| 22/22 [00:00<00:00, 147.07it/s]\n",
      "100%|██████████| 4/4 [00:00<00:00, 270.33it/s]\n"
     ]
    },
    {
     "name": "stdout",
     "output_type": "stream",
     "text": [
      "Epoch 31/200, Train Loss: 0.2223, Test Loss: 0.2202\n"
     ]
    },
    {
     "name": "stderr",
     "output_type": "stream",
     "text": [
      "100%|██████████| 22/22 [00:00<00:00, 149.07it/s]\n",
      "100%|██████████| 4/4 [00:00<00:00, 246.23it/s]\n"
     ]
    },
    {
     "name": "stdout",
     "output_type": "stream",
     "text": [
      "Epoch 32/200, Train Loss: 0.2223, Test Loss: 0.2202\n"
     ]
    },
    {
     "name": "stderr",
     "output_type": "stream",
     "text": [
      "100%|██████████| 22/22 [00:00<00:00, 153.86it/s]\n",
      "100%|██████████| 4/4 [00:00<00:00, 266.14it/s]\n"
     ]
    },
    {
     "name": "stdout",
     "output_type": "stream",
     "text": [
      "Epoch 33/200, Train Loss: 0.2223, Test Loss: 0.2202\n"
     ]
    },
    {
     "name": "stderr",
     "output_type": "stream",
     "text": [
      "100%|██████████| 22/22 [00:00<00:00, 150.11it/s]\n",
      "100%|██████████| 4/4 [00:00<00:00, 252.31it/s]\n"
     ]
    },
    {
     "name": "stdout",
     "output_type": "stream",
     "text": [
      "Epoch 34/200, Train Loss: 0.2222, Test Loss: 0.2201\n"
     ]
    },
    {
     "name": "stderr",
     "output_type": "stream",
     "text": [
      "100%|██████████| 22/22 [00:00<00:00, 161.58it/s]\n",
      "100%|██████████| 4/4 [00:00<00:00, 217.23it/s]\n"
     ]
    },
    {
     "name": "stdout",
     "output_type": "stream",
     "text": [
      "Epoch 35/200, Train Loss: 0.2222, Test Loss: 0.2201\n"
     ]
    },
    {
     "name": "stderr",
     "output_type": "stream",
     "text": [
      "100%|██████████| 22/22 [00:00<00:00, 158.44it/s]\n",
      "100%|██████████| 4/4 [00:00<00:00, 265.73it/s]\n"
     ]
    },
    {
     "name": "stdout",
     "output_type": "stream",
     "text": [
      "Epoch 36/200, Train Loss: 0.2222, Test Loss: 0.2201\n"
     ]
    },
    {
     "name": "stderr",
     "output_type": "stream",
     "text": [
      "100%|██████████| 22/22 [00:00<00:00, 156.76it/s]\n",
      "100%|██████████| 4/4 [00:00<00:00, 264.92it/s]\n"
     ]
    },
    {
     "name": "stdout",
     "output_type": "stream",
     "text": [
      "Epoch 37/200, Train Loss: 0.2222, Test Loss: 0.2201\n"
     ]
    },
    {
     "name": "stderr",
     "output_type": "stream",
     "text": [
      "100%|██████████| 22/22 [00:00<00:00, 151.37it/s]\n",
      "100%|██████████| 4/4 [00:00<00:00, 276.01it/s]\n"
     ]
    },
    {
     "name": "stdout",
     "output_type": "stream",
     "text": [
      "Epoch 38/200, Train Loss: 0.2221, Test Loss: 0.2201\n"
     ]
    },
    {
     "name": "stderr",
     "output_type": "stream",
     "text": [
      "100%|██████████| 22/22 [00:00<00:00, 150.32it/s]\n",
      "100%|██████████| 4/4 [00:00<00:00, 266.88it/s]\n"
     ]
    },
    {
     "name": "stdout",
     "output_type": "stream",
     "text": [
      "Epoch 39/200, Train Loss: 0.2221, Test Loss: 0.2200\n"
     ]
    },
    {
     "name": "stderr",
     "output_type": "stream",
     "text": [
      "100%|██████████| 22/22 [00:00<00:00, 158.57it/s]\n",
      "100%|██████████| 4/4 [00:00<00:00, 275.87it/s]\n"
     ]
    },
    {
     "name": "stdout",
     "output_type": "stream",
     "text": [
      "Epoch 40/200, Train Loss: 0.2221, Test Loss: 0.2200\n"
     ]
    },
    {
     "name": "stderr",
     "output_type": "stream",
     "text": [
      "100%|██████████| 22/22 [00:00<00:00, 163.40it/s]\n",
      "100%|██████████| 4/4 [00:00<00:00, 260.08it/s]\n"
     ]
    },
    {
     "name": "stdout",
     "output_type": "stream",
     "text": [
      "Epoch 41/200, Train Loss: 0.2221, Test Loss: 0.2200\n"
     ]
    },
    {
     "name": "stderr",
     "output_type": "stream",
     "text": [
      "100%|██████████| 22/22 [00:00<00:00, 161.69it/s]\n",
      "100%|██████████| 4/4 [00:00<00:00, 279.56it/s]\n"
     ]
    },
    {
     "name": "stdout",
     "output_type": "stream",
     "text": [
      "Epoch 42/200, Train Loss: 0.2221, Test Loss: 0.2200\n"
     ]
    },
    {
     "name": "stderr",
     "output_type": "stream",
     "text": [
      "100%|██████████| 22/22 [00:00<00:00, 161.24it/s]\n",
      "100%|██████████| 4/4 [00:00<00:00, 252.08it/s]\n"
     ]
    },
    {
     "name": "stdout",
     "output_type": "stream",
     "text": [
      "Epoch 43/200, Train Loss: 0.2221, Test Loss: 0.2200\n"
     ]
    },
    {
     "name": "stderr",
     "output_type": "stream",
     "text": [
      "100%|██████████| 22/22 [00:00<00:00, 155.67it/s]\n",
      "100%|██████████| 4/4 [00:00<00:00, 261.64it/s]\n"
     ]
    },
    {
     "name": "stdout",
     "output_type": "stream",
     "text": [
      "Epoch 44/200, Train Loss: 0.2221, Test Loss: 0.2200\n"
     ]
    },
    {
     "name": "stderr",
     "output_type": "stream",
     "text": [
      "100%|██████████| 22/22 [00:00<00:00, 147.12it/s]\n",
      "100%|██████████| 4/4 [00:00<00:00, 259.24it/s]\n"
     ]
    },
    {
     "name": "stdout",
     "output_type": "stream",
     "text": [
      "Epoch 45/200, Train Loss: 0.2220, Test Loss: 0.2200\n"
     ]
    },
    {
     "name": "stderr",
     "output_type": "stream",
     "text": [
      "100%|██████████| 22/22 [00:00<00:00, 147.48it/s]\n",
      "100%|██████████| 4/4 [00:00<00:00, 263.90it/s]\n"
     ]
    },
    {
     "name": "stdout",
     "output_type": "stream",
     "text": [
      "Epoch 46/200, Train Loss: 0.2220, Test Loss: 0.2199\n"
     ]
    },
    {
     "name": "stderr",
     "output_type": "stream",
     "text": [
      "100%|██████████| 22/22 [00:00<00:00, 165.22it/s]\n",
      "100%|██████████| 4/4 [00:00<00:00, 249.37it/s]\n"
     ]
    },
    {
     "name": "stdout",
     "output_type": "stream",
     "text": [
      "Epoch 47/200, Train Loss: 0.2220, Test Loss: 0.2199\n"
     ]
    },
    {
     "name": "stderr",
     "output_type": "stream",
     "text": [
      "100%|██████████| 22/22 [00:00<00:00, 150.15it/s]\n",
      "100%|██████████| 4/4 [00:00<00:00, 270.13it/s]\n"
     ]
    },
    {
     "name": "stdout",
     "output_type": "stream",
     "text": [
      "Epoch 48/200, Train Loss: 0.2220, Test Loss: 0.2199\n"
     ]
    },
    {
     "name": "stderr",
     "output_type": "stream",
     "text": [
      "100%|██████████| 22/22 [00:00<00:00, 152.31it/s]\n",
      "100%|██████████| 4/4 [00:00<00:00, 267.14it/s]\n"
     ]
    },
    {
     "name": "stdout",
     "output_type": "stream",
     "text": [
      "Epoch 49/200, Train Loss: 0.2220, Test Loss: 0.2199\n",
      "No improvement in Test Loss for 1 epoch(s).\n",
      "Current Best Test Loss: 0.2199\n"
     ]
    },
    {
     "name": "stderr",
     "output_type": "stream",
     "text": [
      "100%|██████████| 22/22 [00:00<00:00, 148.33it/s]\n",
      "100%|██████████| 4/4 [00:00<00:00, 264.13it/s]\n"
     ]
    },
    {
     "name": "stdout",
     "output_type": "stream",
     "text": [
      "Epoch 50/200, Train Loss: 0.2220, Test Loss: 0.2199\n"
     ]
    },
    {
     "name": "stderr",
     "output_type": "stream",
     "text": [
      "100%|██████████| 22/22 [00:00<00:00, 145.26it/s]\n",
      "100%|██████████| 4/4 [00:00<00:00, 260.46it/s]\n"
     ]
    },
    {
     "name": "stdout",
     "output_type": "stream",
     "text": [
      "Epoch 51/200, Train Loss: 0.2220, Test Loss: 0.2199\n",
      "No improvement in Test Loss for 1 epoch(s).\n",
      "Current Best Test Loss: 0.2199\n"
     ]
    },
    {
     "name": "stderr",
     "output_type": "stream",
     "text": [
      "100%|██████████| 22/22 [00:00<00:00, 156.61it/s]\n",
      "100%|██████████| 4/4 [00:00<00:00, 268.88it/s]\n"
     ]
    },
    {
     "name": "stdout",
     "output_type": "stream",
     "text": [
      "Epoch 52/200, Train Loss: 0.2220, Test Loss: 0.2199\n"
     ]
    },
    {
     "name": "stderr",
     "output_type": "stream",
     "text": [
      "100%|██████████| 22/22 [00:00<00:00, 159.66it/s]\n",
      "100%|██████████| 4/4 [00:00<00:00, 273.77it/s]\n"
     ]
    },
    {
     "name": "stdout",
     "output_type": "stream",
     "text": [
      "Epoch 53/200, Train Loss: 0.2220, Test Loss: 0.2199\n",
      "No improvement in Test Loss for 1 epoch(s).\n",
      "Current Best Test Loss: 0.2199\n"
     ]
    },
    {
     "name": "stderr",
     "output_type": "stream",
     "text": [
      "100%|██████████| 22/22 [00:00<00:00, 148.95it/s]\n",
      "100%|██████████| 4/4 [00:00<00:00, 238.33it/s]\n"
     ]
    },
    {
     "name": "stdout",
     "output_type": "stream",
     "text": [
      "Epoch 54/200, Train Loss: 0.2220, Test Loss: 0.2199\n"
     ]
    },
    {
     "name": "stderr",
     "output_type": "stream",
     "text": [
      "100%|██████████| 22/22 [00:00<00:00, 146.18it/s]\n",
      "100%|██████████| 4/4 [00:00<00:00, 222.21it/s]\n"
     ]
    },
    {
     "name": "stdout",
     "output_type": "stream",
     "text": [
      "Epoch 55/200, Train Loss: 0.2220, Test Loss: 0.2199\n",
      "No improvement in Test Loss for 1 epoch(s).\n",
      "Current Best Test Loss: 0.2199\n"
     ]
    },
    {
     "name": "stderr",
     "output_type": "stream",
     "text": [
      "100%|██████████| 22/22 [00:00<00:00, 151.79it/s]\n",
      "100%|██████████| 4/4 [00:00<00:00, 242.85it/s]\n"
     ]
    },
    {
     "name": "stdout",
     "output_type": "stream",
     "text": [
      "Epoch 56/200, Train Loss: 0.2220, Test Loss: 0.2199\n"
     ]
    },
    {
     "name": "stderr",
     "output_type": "stream",
     "text": [
      "100%|██████████| 22/22 [00:00<00:00, 150.38it/s]\n",
      "100%|██████████| 4/4 [00:00<00:00, 263.47it/s]\n"
     ]
    },
    {
     "name": "stdout",
     "output_type": "stream",
     "text": [
      "Epoch 57/200, Train Loss: 0.2219, Test Loss: 0.2198\n",
      "No improvement in Test Loss for 1 epoch(s).\n",
      "Current Best Test Loss: 0.2199\n"
     ]
    },
    {
     "name": "stderr",
     "output_type": "stream",
     "text": [
      "100%|██████████| 22/22 [00:00<00:00, 158.39it/s]\n",
      "100%|██████████| 4/4 [00:00<00:00, 266.64it/s]\n"
     ]
    },
    {
     "name": "stdout",
     "output_type": "stream",
     "text": [
      "Epoch 58/200, Train Loss: 0.2219, Test Loss: 0.2198\n"
     ]
    },
    {
     "name": "stderr",
     "output_type": "stream",
     "text": [
      "100%|██████████| 22/22 [00:00<00:00, 153.39it/s]\n",
      "100%|██████████| 4/4 [00:00<00:00, 269.44it/s]\n"
     ]
    },
    {
     "name": "stdout",
     "output_type": "stream",
     "text": [
      "Epoch 59/200, Train Loss: 0.2219, Test Loss: 0.2198\n",
      "No improvement in Test Loss for 1 epoch(s).\n",
      "Current Best Test Loss: 0.2198\n"
     ]
    },
    {
     "name": "stderr",
     "output_type": "stream",
     "text": [
      "100%|██████████| 22/22 [00:00<00:00, 157.54it/s]\n",
      "100%|██████████| 4/4 [00:00<00:00, 252.42it/s]\n"
     ]
    },
    {
     "name": "stdout",
     "output_type": "stream",
     "text": [
      "Epoch 60/200, Train Loss: 0.2219, Test Loss: 0.2198\n"
     ]
    },
    {
     "name": "stderr",
     "output_type": "stream",
     "text": [
      "100%|██████████| 22/22 [00:00<00:00, 149.79it/s]\n",
      "100%|██████████| 4/4 [00:00<00:00, 261.28it/s]\n"
     ]
    },
    {
     "name": "stdout",
     "output_type": "stream",
     "text": [
      "Epoch 61/200, Train Loss: 0.2219, Test Loss: 0.2198\n",
      "No improvement in Test Loss for 1 epoch(s).\n",
      "Current Best Test Loss: 0.2198\n"
     ]
    },
    {
     "name": "stderr",
     "output_type": "stream",
     "text": [
      "100%|██████████| 22/22 [00:00<00:00, 160.80it/s]\n",
      "100%|██████████| 4/4 [00:00<00:00, 270.64it/s]\n"
     ]
    },
    {
     "name": "stdout",
     "output_type": "stream",
     "text": [
      "Epoch 62/200, Train Loss: 0.2219, Test Loss: 0.2198\n"
     ]
    },
    {
     "name": "stderr",
     "output_type": "stream",
     "text": [
      "100%|██████████| 22/22 [00:00<00:00, 157.41it/s]\n",
      "100%|██████████| 4/4 [00:00<00:00, 266.78it/s]\n"
     ]
    },
    {
     "name": "stdout",
     "output_type": "stream",
     "text": [
      "Epoch 63/200, Train Loss: 0.2219, Test Loss: 0.2198\n",
      "No improvement in Test Loss for 1 epoch(s).\n",
      "Current Best Test Loss: 0.2198\n"
     ]
    },
    {
     "name": "stderr",
     "output_type": "stream",
     "text": [
      "100%|██████████| 22/22 [00:00<00:00, 157.45it/s]\n",
      "100%|██████████| 4/4 [00:00<00:00, 263.40it/s]\n"
     ]
    },
    {
     "name": "stdout",
     "output_type": "stream",
     "text": [
      "Epoch 64/200, Train Loss: 0.2219, Test Loss: 0.2198\n"
     ]
    },
    {
     "name": "stderr",
     "output_type": "stream",
     "text": [
      "100%|██████████| 22/22 [00:00<00:00, 155.53it/s]\n",
      "100%|██████████| 4/4 [00:00<00:00, 241.56it/s]\n"
     ]
    },
    {
     "name": "stdout",
     "output_type": "stream",
     "text": [
      "Epoch 65/200, Train Loss: 0.2219, Test Loss: 0.2198\n",
      "No improvement in Test Loss for 1 epoch(s).\n",
      "Current Best Test Loss: 0.2198\n"
     ]
    },
    {
     "name": "stderr",
     "output_type": "stream",
     "text": [
      "100%|██████████| 22/22 [00:00<00:00, 143.30it/s]\n",
      "100%|██████████| 4/4 [00:00<00:00, 261.16it/s]\n"
     ]
    },
    {
     "name": "stdout",
     "output_type": "stream",
     "text": [
      "Epoch 66/200, Train Loss: 0.2219, Test Loss: 0.2198\n"
     ]
    },
    {
     "name": "stderr",
     "output_type": "stream",
     "text": [
      "100%|██████████| 22/22 [00:00<00:00, 155.62it/s]\n",
      "100%|██████████| 4/4 [00:00<00:00, 274.67it/s]\n"
     ]
    },
    {
     "name": "stdout",
     "output_type": "stream",
     "text": [
      "Epoch 67/200, Train Loss: 0.2219, Test Loss: 0.2198\n",
      "No improvement in Test Loss for 1 epoch(s).\n",
      "Current Best Test Loss: 0.2198\n"
     ]
    },
    {
     "name": "stderr",
     "output_type": "stream",
     "text": [
      "100%|██████████| 22/22 [00:00<00:00, 158.98it/s]\n",
      "100%|██████████| 4/4 [00:00<00:00, 272.99it/s]\n"
     ]
    },
    {
     "name": "stdout",
     "output_type": "stream",
     "text": [
      "Epoch 68/200, Train Loss: 0.2219, Test Loss: 0.2198\n"
     ]
    },
    {
     "name": "stderr",
     "output_type": "stream",
     "text": [
      "100%|██████████| 22/22 [00:00<00:00, 143.58it/s]\n",
      "100%|██████████| 4/4 [00:00<00:00, 272.59it/s]\n"
     ]
    },
    {
     "name": "stdout",
     "output_type": "stream",
     "text": [
      "Epoch 69/200, Train Loss: 0.2219, Test Loss: 0.2198\n",
      "No improvement in Test Loss for 1 epoch(s).\n",
      "Current Best Test Loss: 0.2198\n"
     ]
    },
    {
     "name": "stderr",
     "output_type": "stream",
     "text": [
      "100%|██████████| 22/22 [00:00<00:00, 160.94it/s]\n",
      "100%|██████████| 4/4 [00:00<00:00, 237.71it/s]\n"
     ]
    },
    {
     "name": "stdout",
     "output_type": "stream",
     "text": [
      "Epoch 70/200, Train Loss: 0.2219, Test Loss: 0.2198\n"
     ]
    },
    {
     "name": "stderr",
     "output_type": "stream",
     "text": [
      "100%|██████████| 22/22 [00:00<00:00, 161.25it/s]\n",
      "100%|██████████| 4/4 [00:00<00:00, 271.56it/s]\n"
     ]
    },
    {
     "name": "stdout",
     "output_type": "stream",
     "text": [
      "Epoch 71/200, Train Loss: 0.2219, Test Loss: 0.2198\n",
      "No improvement in Test Loss for 1 epoch(s).\n",
      "Current Best Test Loss: 0.2198\n"
     ]
    },
    {
     "name": "stderr",
     "output_type": "stream",
     "text": [
      "100%|██████████| 22/22 [00:00<00:00, 157.95it/s]\n",
      "100%|██████████| 4/4 [00:00<00:00, 269.38it/s]\n"
     ]
    },
    {
     "name": "stdout",
     "output_type": "stream",
     "text": [
      "Epoch 72/200, Train Loss: 0.2219, Test Loss: 0.2198\n"
     ]
    },
    {
     "name": "stderr",
     "output_type": "stream",
     "text": [
      "100%|██████████| 22/22 [00:00<00:00, 148.55it/s]\n",
      "100%|██████████| 4/4 [00:00<00:00, 230.11it/s]\n"
     ]
    },
    {
     "name": "stdout",
     "output_type": "stream",
     "text": [
      "Epoch 73/200, Train Loss: 0.2219, Test Loss: 0.2197\n",
      "No improvement in Test Loss for 1 epoch(s).\n",
      "Current Best Test Loss: 0.2198\n"
     ]
    },
    {
     "name": "stderr",
     "output_type": "stream",
     "text": [
      "100%|██████████| 22/22 [00:00<00:00, 155.42it/s]\n",
      "100%|██████████| 4/4 [00:00<00:00, 256.81it/s]\n"
     ]
    },
    {
     "name": "stdout",
     "output_type": "stream",
     "text": [
      "Epoch 74/200, Train Loss: 0.2218, Test Loss: 0.2197\n"
     ]
    },
    {
     "name": "stderr",
     "output_type": "stream",
     "text": [
      "100%|██████████| 22/22 [00:00<00:00, 158.24it/s]\n",
      "100%|██████████| 4/4 [00:00<00:00, 257.63it/s]\n"
     ]
    },
    {
     "name": "stdout",
     "output_type": "stream",
     "text": [
      "Epoch 75/200, Train Loss: 0.2218, Test Loss: 0.2197\n",
      "No improvement in Test Loss for 1 epoch(s).\n",
      "Current Best Test Loss: 0.2197\n"
     ]
    },
    {
     "name": "stderr",
     "output_type": "stream",
     "text": [
      "100%|██████████| 22/22 [00:00<00:00, 161.99it/s]\n",
      "100%|██████████| 4/4 [00:00<00:00, 267.40it/s]\n"
     ]
    },
    {
     "name": "stdout",
     "output_type": "stream",
     "text": [
      "Epoch 76/200, Train Loss: 0.2218, Test Loss: 0.2197\n"
     ]
    },
    {
     "name": "stderr",
     "output_type": "stream",
     "text": [
      "100%|██████████| 22/22 [00:00<00:00, 147.42it/s]\n",
      "100%|██████████| 4/4 [00:00<00:00, 250.11it/s]\n"
     ]
    },
    {
     "name": "stdout",
     "output_type": "stream",
     "text": [
      "Epoch 77/200, Train Loss: 0.2218, Test Loss: 0.2197\n",
      "No improvement in Test Loss for 1 epoch(s).\n",
      "Current Best Test Loss: 0.2197\n"
     ]
    },
    {
     "name": "stderr",
     "output_type": "stream",
     "text": [
      "100%|██████████| 22/22 [00:00<00:00, 159.42it/s]\n",
      "100%|██████████| 4/4 [00:00<00:00, 270.35it/s]\n"
     ]
    },
    {
     "name": "stdout",
     "output_type": "stream",
     "text": [
      "Epoch 78/200, Train Loss: 0.2218, Test Loss: 0.2197\n",
      "No improvement in Test Loss for 2 epoch(s).\n",
      "Current Best Test Loss: 0.2197\n"
     ]
    },
    {
     "name": "stderr",
     "output_type": "stream",
     "text": [
      "100%|██████████| 22/22 [00:00<00:00, 152.85it/s]\n",
      "100%|██████████| 4/4 [00:00<00:00, 262.73it/s]\n"
     ]
    },
    {
     "name": "stdout",
     "output_type": "stream",
     "text": [
      "Epoch 79/200, Train Loss: 0.2218, Test Loss: 0.2197\n"
     ]
    },
    {
     "name": "stderr",
     "output_type": "stream",
     "text": [
      "100%|██████████| 22/22 [00:00<00:00, 154.79it/s]\n",
      "100%|██████████| 4/4 [00:00<00:00, 257.04it/s]\n"
     ]
    },
    {
     "name": "stdout",
     "output_type": "stream",
     "text": [
      "Epoch 80/200, Train Loss: 0.2218, Test Loss: 0.2197\n",
      "No improvement in Test Loss for 1 epoch(s).\n",
      "Current Best Test Loss: 0.2197\n"
     ]
    },
    {
     "name": "stderr",
     "output_type": "stream",
     "text": [
      "100%|██████████| 22/22 [00:00<00:00, 158.33it/s]\n",
      "100%|██████████| 4/4 [00:00<00:00, 249.10it/s]\n"
     ]
    },
    {
     "name": "stdout",
     "output_type": "stream",
     "text": [
      "Epoch 81/200, Train Loss: 0.2218, Test Loss: 0.2197\n",
      "No improvement in Test Loss for 2 epoch(s).\n",
      "Current Best Test Loss: 0.2197\n"
     ]
    },
    {
     "name": "stderr",
     "output_type": "stream",
     "text": [
      "100%|██████████| 22/22 [00:00<00:00, 146.69it/s]\n",
      "100%|██████████| 4/4 [00:00<00:00, 252.84it/s]\n"
     ]
    },
    {
     "name": "stdout",
     "output_type": "stream",
     "text": [
      "Epoch 82/200, Train Loss: 0.2218, Test Loss: 0.2197\n"
     ]
    },
    {
     "name": "stderr",
     "output_type": "stream",
     "text": [
      "100%|██████████| 22/22 [00:00<00:00, 156.30it/s]\n",
      "100%|██████████| 4/4 [00:00<00:00, 237.40it/s]\n"
     ]
    },
    {
     "name": "stdout",
     "output_type": "stream",
     "text": [
      "Epoch 83/200, Train Loss: 0.2218, Test Loss: 0.2197\n",
      "No improvement in Test Loss for 1 epoch(s).\n",
      "Current Best Test Loss: 0.2197\n"
     ]
    },
    {
     "name": "stderr",
     "output_type": "stream",
     "text": [
      "100%|██████████| 22/22 [00:00<00:00, 143.22it/s]\n",
      "100%|██████████| 4/4 [00:00<00:00, 263.46it/s]\n"
     ]
    },
    {
     "name": "stdout",
     "output_type": "stream",
     "text": [
      "Epoch 84/200, Train Loss: 0.2218, Test Loss: 0.2197\n",
      "No improvement in Test Loss for 2 epoch(s).\n",
      "Current Best Test Loss: 0.2197\n"
     ]
    },
    {
     "name": "stderr",
     "output_type": "stream",
     "text": [
      "100%|██████████| 22/22 [00:00<00:00, 144.77it/s]\n",
      "100%|██████████| 4/4 [00:00<00:00, 219.25it/s]\n"
     ]
    },
    {
     "name": "stdout",
     "output_type": "stream",
     "text": [
      "Epoch 85/200, Train Loss: 0.2218, Test Loss: 0.2197\n"
     ]
    },
    {
     "name": "stderr",
     "output_type": "stream",
     "text": [
      "100%|██████████| 22/22 [00:00<00:00, 145.78it/s]\n",
      "100%|██████████| 4/4 [00:00<00:00, 245.96it/s]\n"
     ]
    },
    {
     "name": "stdout",
     "output_type": "stream",
     "text": [
      "Epoch 86/200, Train Loss: 0.2218, Test Loss: 0.2197\n",
      "No improvement in Test Loss for 1 epoch(s).\n",
      "Current Best Test Loss: 0.2197\n"
     ]
    },
    {
     "name": "stderr",
     "output_type": "stream",
     "text": [
      "100%|██████████| 22/22 [00:00<00:00, 150.40it/s]\n",
      "100%|██████████| 4/4 [00:00<00:00, 196.61it/s]\n"
     ]
    },
    {
     "name": "stdout",
     "output_type": "stream",
     "text": [
      "Epoch 87/200, Train Loss: 0.2218, Test Loss: 0.2197\n",
      "No improvement in Test Loss for 2 epoch(s).\n",
      "Current Best Test Loss: 0.2197\n"
     ]
    },
    {
     "name": "stderr",
     "output_type": "stream",
     "text": [
      "100%|██████████| 22/22 [00:00<00:00, 140.72it/s]\n",
      "100%|██████████| 4/4 [00:00<00:00, 202.43it/s]\n"
     ]
    },
    {
     "name": "stdout",
     "output_type": "stream",
     "text": [
      "Epoch 88/200, Train Loss: 0.2218, Test Loss: 0.2197\n"
     ]
    },
    {
     "name": "stderr",
     "output_type": "stream",
     "text": [
      "100%|██████████| 22/22 [00:00<00:00, 151.59it/s]\n",
      "100%|██████████| 4/4 [00:00<00:00, 260.56it/s]\n"
     ]
    },
    {
     "name": "stdout",
     "output_type": "stream",
     "text": [
      "Epoch 89/200, Train Loss: 0.2218, Test Loss: 0.2197\n",
      "No improvement in Test Loss for 1 epoch(s).\n",
      "Current Best Test Loss: 0.2197\n"
     ]
    },
    {
     "name": "stderr",
     "output_type": "stream",
     "text": [
      "100%|██████████| 22/22 [00:00<00:00, 158.58it/s]\n",
      "100%|██████████| 4/4 [00:00<00:00, 267.75it/s]\n"
     ]
    },
    {
     "name": "stdout",
     "output_type": "stream",
     "text": [
      "Epoch 90/200, Train Loss: 0.2218, Test Loss: 0.2197\n",
      "No improvement in Test Loss for 2 epoch(s).\n",
      "Current Best Test Loss: 0.2197\n"
     ]
    },
    {
     "name": "stderr",
     "output_type": "stream",
     "text": [
      "100%|██████████| 22/22 [00:00<00:00, 160.94it/s]\n",
      "100%|██████████| 4/4 [00:00<00:00, 258.06it/s]\n"
     ]
    },
    {
     "name": "stdout",
     "output_type": "stream",
     "text": [
      "Epoch 91/200, Train Loss: 0.2218, Test Loss: 0.2197\n"
     ]
    },
    {
     "name": "stderr",
     "output_type": "stream",
     "text": [
      "100%|██████████| 22/22 [00:00<00:00, 158.40it/s]\n",
      "100%|██████████| 4/4 [00:00<00:00, 267.41it/s]\n"
     ]
    },
    {
     "name": "stdout",
     "output_type": "stream",
     "text": [
      "Epoch 92/200, Train Loss: 0.2218, Test Loss: 0.2197\n",
      "No improvement in Test Loss for 1 epoch(s).\n",
      "Current Best Test Loss: 0.2197\n"
     ]
    },
    {
     "name": "stderr",
     "output_type": "stream",
     "text": [
      "100%|██████████| 22/22 [00:00<00:00, 145.36it/s]\n",
      "100%|██████████| 4/4 [00:00<00:00, 259.00it/s]\n"
     ]
    },
    {
     "name": "stdout",
     "output_type": "stream",
     "text": [
      "Epoch 93/200, Train Loss: 0.2218, Test Loss: 0.2197\n",
      "No improvement in Test Loss for 2 epoch(s).\n",
      "Current Best Test Loss: 0.2197\n"
     ]
    },
    {
     "name": "stderr",
     "output_type": "stream",
     "text": [
      "100%|██████████| 22/22 [00:00<00:00, 148.48it/s]\n",
      "100%|██████████| 4/4 [00:00<00:00, 263.90it/s]\n"
     ]
    },
    {
     "name": "stdout",
     "output_type": "stream",
     "text": [
      "Epoch 94/200, Train Loss: 0.2218, Test Loss: 0.2197\n"
     ]
    },
    {
     "name": "stderr",
     "output_type": "stream",
     "text": [
      "100%|██████████| 22/22 [00:00<00:00, 152.25it/s]\n",
      "100%|██████████| 4/4 [00:00<00:00, 273.53it/s]\n"
     ]
    },
    {
     "name": "stdout",
     "output_type": "stream",
     "text": [
      "Epoch 95/200, Train Loss: 0.2217, Test Loss: 0.2196\n",
      "No improvement in Test Loss for 1 epoch(s).\n",
      "Current Best Test Loss: 0.2197\n"
     ]
    },
    {
     "name": "stderr",
     "output_type": "stream",
     "text": [
      "100%|██████████| 22/22 [00:00<00:00, 160.16it/s]\n",
      "100%|██████████| 4/4 [00:00<00:00, 224.55it/s]\n"
     ]
    },
    {
     "name": "stdout",
     "output_type": "stream",
     "text": [
      "Epoch 96/200, Train Loss: 0.2217, Test Loss: 0.2196\n",
      "No improvement in Test Loss for 2 epoch(s).\n",
      "Current Best Test Loss: 0.2197\n"
     ]
    },
    {
     "name": "stderr",
     "output_type": "stream",
     "text": [
      "100%|██████████| 22/22 [00:00<00:00, 145.45it/s]\n",
      "100%|██████████| 4/4 [00:00<00:00, 257.22it/s]\n"
     ]
    },
    {
     "name": "stdout",
     "output_type": "stream",
     "text": [
      "Epoch 97/200, Train Loss: 0.2217, Test Loss: 0.2196\n"
     ]
    },
    {
     "name": "stderr",
     "output_type": "stream",
     "text": [
      "100%|██████████| 22/22 [00:00<00:00, 140.23it/s]\n",
      "100%|██████████| 4/4 [00:00<00:00, 212.95it/s]\n"
     ]
    },
    {
     "name": "stdout",
     "output_type": "stream",
     "text": [
      "Epoch 98/200, Train Loss: 0.2217, Test Loss: 0.2196\n",
      "No improvement in Test Loss for 1 epoch(s).\n",
      "Current Best Test Loss: 0.2196\n"
     ]
    },
    {
     "name": "stderr",
     "output_type": "stream",
     "text": [
      "100%|██████████| 22/22 [00:00<00:00, 161.88it/s]\n",
      "100%|██████████| 4/4 [00:00<00:00, 265.11it/s]\n"
     ]
    },
    {
     "name": "stdout",
     "output_type": "stream",
     "text": [
      "Epoch 99/200, Train Loss: 0.2217, Test Loss: 0.2196\n",
      "No improvement in Test Loss for 2 epoch(s).\n",
      "Current Best Test Loss: 0.2196\n"
     ]
    },
    {
     "name": "stderr",
     "output_type": "stream",
     "text": [
      "100%|██████████| 22/22 [00:00<00:00, 136.59it/s]\n",
      "100%|██████████| 4/4 [00:00<00:00, 260.30it/s]\n"
     ]
    },
    {
     "name": "stdout",
     "output_type": "stream",
     "text": [
      "Epoch 100/200, Train Loss: 0.2217, Test Loss: 0.2196\n"
     ]
    },
    {
     "name": "stderr",
     "output_type": "stream",
     "text": [
      "100%|██████████| 22/22 [00:00<00:00, 153.70it/s]\n",
      "100%|██████████| 4/4 [00:00<00:00, 194.37it/s]\n"
     ]
    },
    {
     "name": "stdout",
     "output_type": "stream",
     "text": [
      "Epoch 101/200, Train Loss: 0.2217, Test Loss: 0.2196\n",
      "No improvement in Test Loss for 1 epoch(s).\n",
      "Current Best Test Loss: 0.2196\n"
     ]
    },
    {
     "name": "stderr",
     "output_type": "stream",
     "text": [
      "100%|██████████| 22/22 [00:00<00:00, 155.51it/s]\n",
      "100%|██████████| 4/4 [00:00<00:00, 242.40it/s]\n"
     ]
    },
    {
     "name": "stdout",
     "output_type": "stream",
     "text": [
      "Epoch 102/200, Train Loss: 0.2217, Test Loss: 0.2196\n",
      "No improvement in Test Loss for 2 epoch(s).\n",
      "Current Best Test Loss: 0.2196\n"
     ]
    },
    {
     "name": "stderr",
     "output_type": "stream",
     "text": [
      "100%|██████████| 22/22 [00:00<00:00, 157.95it/s]\n",
      "100%|██████████| 4/4 [00:00<00:00, 267.94it/s]\n"
     ]
    },
    {
     "name": "stdout",
     "output_type": "stream",
     "text": [
      "Epoch 103/200, Train Loss: 0.2217, Test Loss: 0.2196\n"
     ]
    },
    {
     "name": "stderr",
     "output_type": "stream",
     "text": [
      "100%|██████████| 22/22 [00:00<00:00, 154.60it/s]\n",
      "100%|██████████| 4/4 [00:00<00:00, 266.07it/s]\n"
     ]
    },
    {
     "name": "stdout",
     "output_type": "stream",
     "text": [
      "Epoch 104/200, Train Loss: 0.2217, Test Loss: 0.2196\n",
      "No improvement in Test Loss for 1 epoch(s).\n",
      "Current Best Test Loss: 0.2196\n"
     ]
    },
    {
     "name": "stderr",
     "output_type": "stream",
     "text": [
      "100%|██████████| 22/22 [00:00<00:00, 160.10it/s]\n",
      "100%|██████████| 4/4 [00:00<00:00, 225.35it/s]\n"
     ]
    },
    {
     "name": "stdout",
     "output_type": "stream",
     "text": [
      "Epoch 105/200, Train Loss: 0.2217, Test Loss: 0.2196\n",
      "No improvement in Test Loss for 2 epoch(s).\n",
      "Current Best Test Loss: 0.2196\n"
     ]
    },
    {
     "name": "stderr",
     "output_type": "stream",
     "text": [
      "100%|██████████| 22/22 [00:00<00:00, 156.35it/s]\n",
      "100%|██████████| 4/4 [00:00<00:00, 267.81it/s]\n"
     ]
    },
    {
     "name": "stdout",
     "output_type": "stream",
     "text": [
      "Epoch 106/200, Train Loss: 0.2217, Test Loss: 0.2196\n"
     ]
    },
    {
     "name": "stderr",
     "output_type": "stream",
     "text": [
      "100%|██████████| 22/22 [00:00<00:00, 143.79it/s]\n",
      "100%|██████████| 4/4 [00:00<00:00, 274.06it/s]\n"
     ]
    },
    {
     "name": "stdout",
     "output_type": "stream",
     "text": [
      "Epoch 107/200, Train Loss: 0.2217, Test Loss: 0.2196\n",
      "No improvement in Test Loss for 1 epoch(s).\n",
      "Current Best Test Loss: 0.2196\n"
     ]
    },
    {
     "name": "stderr",
     "output_type": "stream",
     "text": [
      "100%|██████████| 22/22 [00:00<00:00, 156.50it/s]\n",
      "100%|██████████| 4/4 [00:00<00:00, 245.13it/s]\n"
     ]
    },
    {
     "name": "stdout",
     "output_type": "stream",
     "text": [
      "Epoch 108/200, Train Loss: 0.2217, Test Loss: 0.2196\n",
      "No improvement in Test Loss for 2 epoch(s).\n",
      "Current Best Test Loss: 0.2196\n"
     ]
    },
    {
     "name": "stderr",
     "output_type": "stream",
     "text": [
      "100%|██████████| 22/22 [00:00<00:00, 150.09it/s]\n",
      "100%|██████████| 4/4 [00:00<00:00, 264.45it/s]\n"
     ]
    },
    {
     "name": "stdout",
     "output_type": "stream",
     "text": [
      "Epoch 109/200, Train Loss: 0.2217, Test Loss: 0.2196\n"
     ]
    },
    {
     "name": "stderr",
     "output_type": "stream",
     "text": [
      "100%|██████████| 22/22 [00:00<00:00, 157.81it/s]\n",
      "100%|██████████| 4/4 [00:00<00:00, 250.14it/s]\n"
     ]
    },
    {
     "name": "stdout",
     "output_type": "stream",
     "text": [
      "Epoch 110/200, Train Loss: 0.2217, Test Loss: 0.2196\n",
      "No improvement in Test Loss for 1 epoch(s).\n",
      "Current Best Test Loss: 0.2196\n"
     ]
    },
    {
     "name": "stderr",
     "output_type": "stream",
     "text": [
      "100%|██████████| 22/22 [00:00<00:00, 166.63it/s]\n",
      "100%|██████████| 4/4 [00:00<00:00, 273.55it/s]\n"
     ]
    },
    {
     "name": "stdout",
     "output_type": "stream",
     "text": [
      "Epoch 111/200, Train Loss: 0.2217, Test Loss: 0.2196\n",
      "No improvement in Test Loss for 2 epoch(s).\n",
      "Current Best Test Loss: 0.2196\n"
     ]
    },
    {
     "name": "stderr",
     "output_type": "stream",
     "text": [
      "100%|██████████| 22/22 [00:00<00:00, 163.52it/s]\n",
      "100%|██████████| 4/4 [00:00<00:00, 268.77it/s]\n"
     ]
    },
    {
     "name": "stdout",
     "output_type": "stream",
     "text": [
      "Epoch 112/200, Train Loss: 0.2217, Test Loss: 0.2196\n"
     ]
    },
    {
     "name": "stderr",
     "output_type": "stream",
     "text": [
      "100%|██████████| 22/22 [00:00<00:00, 159.84it/s]\n",
      "100%|██████████| 4/4 [00:00<00:00, 268.11it/s]\n"
     ]
    },
    {
     "name": "stdout",
     "output_type": "stream",
     "text": [
      "Epoch 113/200, Train Loss: 0.2217, Test Loss: 0.2196\n",
      "No improvement in Test Loss for 1 epoch(s).\n",
      "Current Best Test Loss: 0.2196\n"
     ]
    },
    {
     "name": "stderr",
     "output_type": "stream",
     "text": [
      "100%|██████████| 22/22 [00:00<00:00, 162.69it/s]\n",
      "100%|██████████| 4/4 [00:00<00:00, 272.99it/s]\n"
     ]
    },
    {
     "name": "stdout",
     "output_type": "stream",
     "text": [
      "Epoch 114/200, Train Loss: 0.2217, Test Loss: 0.2196\n",
      "No improvement in Test Loss for 2 epoch(s).\n",
      "Current Best Test Loss: 0.2196\n"
     ]
    },
    {
     "name": "stderr",
     "output_type": "stream",
     "text": [
      "100%|██████████| 22/22 [00:00<00:00, 152.91it/s]\n",
      "100%|██████████| 4/4 [00:00<00:00, 261.30it/s]\n"
     ]
    },
    {
     "name": "stdout",
     "output_type": "stream",
     "text": [
      "Epoch 115/200, Train Loss: 0.2217, Test Loss: 0.2196\n"
     ]
    },
    {
     "name": "stderr",
     "output_type": "stream",
     "text": [
      "100%|██████████| 22/22 [00:00<00:00, 163.85it/s]\n",
      "100%|██████████| 4/4 [00:00<00:00, 244.55it/s]\n"
     ]
    },
    {
     "name": "stdout",
     "output_type": "stream",
     "text": [
      "Epoch 116/200, Train Loss: 0.2217, Test Loss: 0.2196\n",
      "No improvement in Test Loss for 1 epoch(s).\n",
      "Current Best Test Loss: 0.2196\n"
     ]
    },
    {
     "name": "stderr",
     "output_type": "stream",
     "text": [
      "100%|██████████| 22/22 [00:00<00:00, 155.90it/s]\n",
      "100%|██████████| 4/4 [00:00<00:00, 274.85it/s]\n"
     ]
    },
    {
     "name": "stdout",
     "output_type": "stream",
     "text": [
      "Epoch 117/200, Train Loss: 0.2217, Test Loss: 0.2196\n",
      "No improvement in Test Loss for 2 epoch(s).\n",
      "Current Best Test Loss: 0.2196\n"
     ]
    },
    {
     "name": "stderr",
     "output_type": "stream",
     "text": [
      "100%|██████████| 22/22 [00:00<00:00, 163.57it/s]\n",
      "100%|██████████| 4/4 [00:00<00:00, 249.14it/s]\n"
     ]
    },
    {
     "name": "stdout",
     "output_type": "stream",
     "text": [
      "Epoch 118/200, Train Loss: 0.2217, Test Loss: 0.2196\n"
     ]
    },
    {
     "name": "stderr",
     "output_type": "stream",
     "text": [
      "100%|██████████| 22/22 [00:00<00:00, 140.77it/s]\n",
      "100%|██████████| 4/4 [00:00<00:00, 265.93it/s]\n"
     ]
    },
    {
     "name": "stdout",
     "output_type": "stream",
     "text": [
      "Epoch 119/200, Train Loss: 0.2217, Test Loss: 0.2196\n",
      "No improvement in Test Loss for 1 epoch(s).\n",
      "Current Best Test Loss: 0.2196\n"
     ]
    },
    {
     "name": "stderr",
     "output_type": "stream",
     "text": [
      "100%|██████████| 22/22 [00:00<00:00, 151.05it/s]\n",
      "100%|██████████| 4/4 [00:00<00:00, 259.89it/s]\n"
     ]
    },
    {
     "name": "stdout",
     "output_type": "stream",
     "text": [
      "Epoch 120/200, Train Loss: 0.2217, Test Loss: 0.2196\n",
      "No improvement in Test Loss for 2 epoch(s).\n",
      "Current Best Test Loss: 0.2196\n"
     ]
    },
    {
     "name": "stderr",
     "output_type": "stream",
     "text": [
      "100%|██████████| 22/22 [00:00<00:00, 155.08it/s]\n",
      "100%|██████████| 4/4 [00:00<00:00, 253.29it/s]\n"
     ]
    },
    {
     "name": "stdout",
     "output_type": "stream",
     "text": [
      "Epoch 121/200, Train Loss: 0.2217, Test Loss: 0.2195\n"
     ]
    },
    {
     "name": "stderr",
     "output_type": "stream",
     "text": [
      "100%|██████████| 22/22 [00:00<00:00, 161.08it/s]\n",
      "100%|██████████| 4/4 [00:00<00:00, 252.55it/s]\n"
     ]
    },
    {
     "name": "stdout",
     "output_type": "stream",
     "text": [
      "Epoch 122/200, Train Loss: 0.2216, Test Loss: 0.2195\n",
      "No improvement in Test Loss for 1 epoch(s).\n",
      "Current Best Test Loss: 0.2195\n"
     ]
    },
    {
     "name": "stderr",
     "output_type": "stream",
     "text": [
      "100%|██████████| 22/22 [00:00<00:00, 159.88it/s]\n",
      "100%|██████████| 4/4 [00:00<00:00, 266.40it/s]\n"
     ]
    },
    {
     "name": "stdout",
     "output_type": "stream",
     "text": [
      "Epoch 123/200, Train Loss: 0.2216, Test Loss: 0.2195\n",
      "No improvement in Test Loss for 2 epoch(s).\n",
      "Current Best Test Loss: 0.2195\n"
     ]
    },
    {
     "name": "stderr",
     "output_type": "stream",
     "text": [
      "100%|██████████| 22/22 [00:00<00:00, 158.94it/s]\n",
      "100%|██████████| 4/4 [00:00<00:00, 258.04it/s]\n"
     ]
    },
    {
     "name": "stdout",
     "output_type": "stream",
     "text": [
      "Epoch 124/200, Train Loss: 0.2216, Test Loss: 0.2195\n",
      "No improvement in Test Loss for 3 epoch(s).\n",
      "Current Best Test Loss: 0.2195\n",
      "Early stopping triggered.\n",
      "Start training model with parameters: {'num_B_spline_basis': 20, 'downsample_factor': 10, 'transformer_num_layers': 2, 'transformer_d_model': 128, 'transformer_dim_feedforward': 512, 'transformer_vae_output_dim': 16, 'transformer_dropout': 0.0, 'transformer_nhead': 1, 'stimulus_nfactor': 1, 'stimulus_decoder_inter_dim_factor': 2, 'beta': 1.0, 'use_area_specific_decoder': True, 'use_area_specific_encoder': True, 'use_cls': False, 'coupling_basis_peaks_max': 5, 'coupling_basis_num': 3, 'coupling_nsubspace': 1, 'use_self_coupling': True, 'K_sigma2': 1.0, 'K_tau': 100, 'coupling_strength_nlatent': 1, 'self_history_basis_peaks_max': 1.5, 'self_history_basis_num': 3, 'self_history_basis_nonlinear': 1, 'penalty_smoothing_spline': 100.0, 'penalty_coupling_subgroup': 1e-05, 'penalty_diff_loading': None, 'penalty_loading_similarity': None, 'batch_size': 64, 'sample_latent': False, 'lr': 0.001, 'epoch_warm_up': 0, 'epoch_patience': 3, 'epoch_max': 200, 'tol': 1e-05, 'weight_decay': 0, 'lr_transformer': 0.0001, 'lr_sti': 0.01, 'lr_cp': 0.01, 'lr_self_history': 0.01}\n"
     ]
    },
    {
     "name": "stderr",
     "output_type": "stream",
     "text": [
      "100%|██████████| 22/22 [00:00<00:00, 103.28it/s]\n",
      "100%|██████████| 4/4 [00:00<00:00, 208.20it/s]\n"
     ]
    },
    {
     "name": "stdout",
     "output_type": "stream",
     "text": [
      "Epoch 1/200, Train Loss: 0.2207, Test Loss: 0.2164\n"
     ]
    },
    {
     "name": "stderr",
     "output_type": "stream",
     "text": [
      "100%|██████████| 22/22 [00:00<00:00, 98.19it/s] \n",
      "100%|██████████| 4/4 [00:00<00:00, 179.92it/s]\n"
     ]
    },
    {
     "name": "stdout",
     "output_type": "stream",
     "text": [
      "Epoch 2/200, Train Loss: 0.2184, Test Loss: 0.2160\n"
     ]
    },
    {
     "name": "stderr",
     "output_type": "stream",
     "text": [
      "100%|██████████| 22/22 [00:00<00:00, 99.44it/s]\n",
      "100%|██████████| 4/4 [00:00<00:00, 215.91it/s]\n"
     ]
    },
    {
     "name": "stdout",
     "output_type": "stream",
     "text": [
      "Epoch 3/200, Train Loss: 0.2181, Test Loss: 0.2159\n"
     ]
    },
    {
     "name": "stderr",
     "output_type": "stream",
     "text": [
      "100%|██████████| 22/22 [00:00<00:00, 106.50it/s]\n",
      "100%|██████████| 4/4 [00:00<00:00, 209.41it/s]\n"
     ]
    },
    {
     "name": "stdout",
     "output_type": "stream",
     "text": [
      "Epoch 4/200, Train Loss: 0.2180, Test Loss: 0.2158\n"
     ]
    },
    {
     "name": "stderr",
     "output_type": "stream",
     "text": [
      "100%|██████████| 22/22 [00:00<00:00, 107.56it/s]\n",
      "100%|██████████| 4/4 [00:00<00:00, 191.87it/s]\n"
     ]
    },
    {
     "name": "stdout",
     "output_type": "stream",
     "text": [
      "Epoch 5/200, Train Loss: 0.2179, Test Loss: 0.2158\n"
     ]
    },
    {
     "name": "stderr",
     "output_type": "stream",
     "text": [
      "100%|██████████| 22/22 [00:00<00:00, 102.16it/s]\n",
      "100%|██████████| 4/4 [00:00<00:00, 208.40it/s]\n"
     ]
    },
    {
     "name": "stdout",
     "output_type": "stream",
     "text": [
      "Epoch 6/200, Train Loss: 0.2178, Test Loss: 0.2157\n"
     ]
    },
    {
     "name": "stderr",
     "output_type": "stream",
     "text": [
      "100%|██████████| 22/22 [00:00<00:00, 105.73it/s]\n",
      "100%|██████████| 4/4 [00:00<00:00, 209.94it/s]\n"
     ]
    },
    {
     "name": "stdout",
     "output_type": "stream",
     "text": [
      "Epoch 7/200, Train Loss: 0.2177, Test Loss: 0.2157\n"
     ]
    },
    {
     "name": "stderr",
     "output_type": "stream",
     "text": [
      "100%|██████████| 22/22 [00:00<00:00, 104.33it/s]\n",
      "100%|██████████| 4/4 [00:00<00:00, 213.46it/s]\n"
     ]
    },
    {
     "name": "stdout",
     "output_type": "stream",
     "text": [
      "Epoch 8/200, Train Loss: 0.2176, Test Loss: 0.2155\n"
     ]
    },
    {
     "name": "stderr",
     "output_type": "stream",
     "text": [
      "100%|██████████| 22/22 [00:00<00:00, 96.55it/s]\n",
      "100%|██████████| 4/4 [00:00<00:00, 207.01it/s]\n"
     ]
    },
    {
     "name": "stdout",
     "output_type": "stream",
     "text": [
      "Epoch 9/200, Train Loss: 0.2174, Test Loss: 0.2153\n"
     ]
    },
    {
     "name": "stderr",
     "output_type": "stream",
     "text": [
      "100%|██████████| 22/22 [00:00<00:00, 104.70it/s]\n",
      "100%|██████████| 4/4 [00:00<00:00, 207.75it/s]\n"
     ]
    },
    {
     "name": "stdout",
     "output_type": "stream",
     "text": [
      "Epoch 10/200, Train Loss: 0.2172, Test Loss: 0.2151\n"
     ]
    },
    {
     "name": "stderr",
     "output_type": "stream",
     "text": [
      "100%|██████████| 22/22 [00:00<00:00, 105.15it/s]\n",
      "100%|██████████| 4/4 [00:00<00:00, 207.06it/s]\n"
     ]
    },
    {
     "name": "stdout",
     "output_type": "stream",
     "text": [
      "Epoch 11/200, Train Loss: 0.2170, Test Loss: 0.2150\n"
     ]
    },
    {
     "name": "stderr",
     "output_type": "stream",
     "text": [
      "100%|██████████| 22/22 [00:00<00:00, 105.49it/s]\n",
      "100%|██████████| 4/4 [00:00<00:00, 215.77it/s]\n"
     ]
    },
    {
     "name": "stdout",
     "output_type": "stream",
     "text": [
      "Epoch 12/200, Train Loss: 0.2169, Test Loss: 0.2149\n"
     ]
    },
    {
     "name": "stderr",
     "output_type": "stream",
     "text": [
      "100%|██████████| 22/22 [00:00<00:00, 100.54it/s]\n",
      "100%|██████████| 4/4 [00:00<00:00, 213.84it/s]\n"
     ]
    },
    {
     "name": "stdout",
     "output_type": "stream",
     "text": [
      "Epoch 13/200, Train Loss: 0.2168, Test Loss: 0.2148\n"
     ]
    },
    {
     "name": "stderr",
     "output_type": "stream",
     "text": [
      "100%|██████████| 22/22 [00:00<00:00, 105.33it/s]\n",
      "100%|██████████| 4/4 [00:00<00:00, 214.55it/s]\n"
     ]
    },
    {
     "name": "stdout",
     "output_type": "stream",
     "text": [
      "Epoch 14/200, Train Loss: 0.2167, Test Loss: 0.2148\n"
     ]
    },
    {
     "name": "stderr",
     "output_type": "stream",
     "text": [
      "100%|██████████| 22/22 [00:00<00:00, 103.47it/s]\n",
      "100%|██████████| 4/4 [00:00<00:00, 212.00it/s]\n"
     ]
    },
    {
     "name": "stdout",
     "output_type": "stream",
     "text": [
      "Epoch 15/200, Train Loss: 0.2167, Test Loss: 0.2147\n"
     ]
    },
    {
     "name": "stderr",
     "output_type": "stream",
     "text": [
      "100%|██████████| 22/22 [00:00<00:00, 106.81it/s]\n",
      "100%|██████████| 4/4 [00:00<00:00, 218.28it/s]\n"
     ]
    },
    {
     "name": "stdout",
     "output_type": "stream",
     "text": [
      "Epoch 16/200, Train Loss: 0.2166, Test Loss: 0.2146\n"
     ]
    },
    {
     "name": "stderr",
     "output_type": "stream",
     "text": [
      "100%|██████████| 22/22 [00:00<00:00, 108.50it/s]\n",
      "100%|██████████| 4/4 [00:00<00:00, 214.11it/s]\n"
     ]
    },
    {
     "name": "stdout",
     "output_type": "stream",
     "text": [
      "Epoch 17/200, Train Loss: 0.2165, Test Loss: 0.2144\n"
     ]
    },
    {
     "name": "stderr",
     "output_type": "stream",
     "text": [
      "100%|██████████| 22/22 [00:00<00:00, 106.73it/s]\n",
      "100%|██████████| 4/4 [00:00<00:00, 218.84it/s]\n"
     ]
    },
    {
     "name": "stdout",
     "output_type": "stream",
     "text": [
      "Epoch 18/200, Train Loss: 0.2162, Test Loss: 0.2141\n"
     ]
    },
    {
     "name": "stderr",
     "output_type": "stream",
     "text": [
      "100%|██████████| 22/22 [00:00<00:00, 105.47it/s]\n",
      "100%|██████████| 4/4 [00:00<00:00, 212.69it/s]\n"
     ]
    },
    {
     "name": "stdout",
     "output_type": "stream",
     "text": [
      "Epoch 19/200, Train Loss: 0.2160, Test Loss: 0.2139\n"
     ]
    },
    {
     "name": "stderr",
     "output_type": "stream",
     "text": [
      "100%|██████████| 22/22 [00:00<00:00, 104.74it/s]\n",
      "100%|██████████| 4/4 [00:00<00:00, 192.73it/s]\n"
     ]
    },
    {
     "name": "stdout",
     "output_type": "stream",
     "text": [
      "Epoch 20/200, Train Loss: 0.2158, Test Loss: 0.2138\n"
     ]
    },
    {
     "name": "stderr",
     "output_type": "stream",
     "text": [
      "100%|██████████| 22/22 [00:00<00:00, 101.02it/s]\n",
      "100%|██████████| 4/4 [00:00<00:00, 177.46it/s]\n"
     ]
    },
    {
     "name": "stdout",
     "output_type": "stream",
     "text": [
      "Epoch 21/200, Train Loss: 0.2157, Test Loss: 0.2138\n"
     ]
    },
    {
     "name": "stderr",
     "output_type": "stream",
     "text": [
      "100%|██████████| 22/22 [00:00<00:00, 99.08it/s] \n",
      "100%|██████████| 4/4 [00:00<00:00, 201.96it/s]\n"
     ]
    },
    {
     "name": "stdout",
     "output_type": "stream",
     "text": [
      "Epoch 22/200, Train Loss: 0.2155, Test Loss: 0.2136\n"
     ]
    },
    {
     "name": "stderr",
     "output_type": "stream",
     "text": [
      "100%|██████████| 22/22 [00:00<00:00, 96.12it/s]\n",
      "100%|██████████| 4/4 [00:00<00:00, 200.23it/s]\n"
     ]
    },
    {
     "name": "stdout",
     "output_type": "stream",
     "text": [
      "Epoch 23/200, Train Loss: 0.2155, Test Loss: 0.2135\n"
     ]
    },
    {
     "name": "stderr",
     "output_type": "stream",
     "text": [
      "100%|██████████| 22/22 [00:00<00:00, 98.35it/s]\n",
      "100%|██████████| 4/4 [00:00<00:00, 212.36it/s]\n"
     ]
    },
    {
     "name": "stdout",
     "output_type": "stream",
     "text": [
      "Epoch 24/200, Train Loss: 0.2154, Test Loss: 0.2134\n"
     ]
    },
    {
     "name": "stderr",
     "output_type": "stream",
     "text": [
      "100%|██████████| 22/22 [00:00<00:00, 97.46it/s]\n",
      "100%|██████████| 4/4 [00:00<00:00, 212.14it/s]\n"
     ]
    },
    {
     "name": "stdout",
     "output_type": "stream",
     "text": [
      "Epoch 25/200, Train Loss: 0.2153, Test Loss: 0.2134\n"
     ]
    },
    {
     "name": "stderr",
     "output_type": "stream",
     "text": [
      "100%|██████████| 22/22 [00:00<00:00, 102.99it/s]\n",
      "100%|██████████| 4/4 [00:00<00:00, 207.95it/s]\n"
     ]
    },
    {
     "name": "stdout",
     "output_type": "stream",
     "text": [
      "Epoch 26/200, Train Loss: 0.2153, Test Loss: 0.2133\n"
     ]
    },
    {
     "name": "stderr",
     "output_type": "stream",
     "text": [
      "100%|██████████| 22/22 [00:00<00:00, 105.32it/s]\n",
      "100%|██████████| 4/4 [00:00<00:00, 218.48it/s]\n"
     ]
    },
    {
     "name": "stdout",
     "output_type": "stream",
     "text": [
      "Epoch 27/200, Train Loss: 0.2152, Test Loss: 0.2132\n"
     ]
    },
    {
     "name": "stderr",
     "output_type": "stream",
     "text": [
      "100%|██████████| 22/22 [00:00<00:00, 95.80it/s]\n",
      "100%|██████████| 4/4 [00:00<00:00, 208.49it/s]\n"
     ]
    },
    {
     "name": "stdout",
     "output_type": "stream",
     "text": [
      "Epoch 28/200, Train Loss: 0.2151, Test Loss: 0.2132\n"
     ]
    },
    {
     "name": "stderr",
     "output_type": "stream",
     "text": [
      "100%|██████████| 22/22 [00:00<00:00, 103.90it/s]\n",
      "100%|██████████| 4/4 [00:00<00:00, 217.70it/s]\n"
     ]
    },
    {
     "name": "stdout",
     "output_type": "stream",
     "text": [
      "Epoch 29/200, Train Loss: 0.2151, Test Loss: 0.2131\n"
     ]
    },
    {
     "name": "stderr",
     "output_type": "stream",
     "text": [
      "100%|██████████| 22/22 [00:00<00:00, 97.45it/s] \n",
      "100%|██████████| 4/4 [00:00<00:00, 198.80it/s]\n"
     ]
    },
    {
     "name": "stdout",
     "output_type": "stream",
     "text": [
      "Epoch 30/200, Train Loss: 0.2151, Test Loss: 0.2132\n",
      "No improvement in Test Loss for 1 epoch(s).\n",
      "Current Best Test Loss: 0.2131\n"
     ]
    },
    {
     "name": "stderr",
     "output_type": "stream",
     "text": [
      "100%|██████████| 22/22 [00:00<00:00, 100.34it/s]\n",
      "100%|██████████| 4/4 [00:00<00:00, 213.05it/s]\n"
     ]
    },
    {
     "name": "stdout",
     "output_type": "stream",
     "text": [
      "Epoch 31/200, Train Loss: 0.2151, Test Loss: 0.2132\n",
      "No improvement in Test Loss for 2 epoch(s).\n",
      "Current Best Test Loss: 0.2131\n"
     ]
    },
    {
     "name": "stderr",
     "output_type": "stream",
     "text": [
      "100%|██████████| 22/22 [00:00<00:00, 105.02it/s]\n",
      "100%|██████████| 4/4 [00:00<00:00, 221.12it/s]\n"
     ]
    },
    {
     "name": "stdout",
     "output_type": "stream",
     "text": [
      "Epoch 32/200, Train Loss: 0.2152, Test Loss: 0.2131\n"
     ]
    },
    {
     "name": "stderr",
     "output_type": "stream",
     "text": [
      "100%|██████████| 22/22 [00:00<00:00, 101.96it/s]\n",
      "100%|██████████| 4/4 [00:00<00:00, 217.96it/s]\n"
     ]
    },
    {
     "name": "stdout",
     "output_type": "stream",
     "text": [
      "Epoch 33/200, Train Loss: 0.2151, Test Loss: 0.2131\n",
      "No improvement in Test Loss for 1 epoch(s).\n",
      "Current Best Test Loss: 0.2131\n"
     ]
    },
    {
     "name": "stderr",
     "output_type": "stream",
     "text": [
      "100%|██████████| 22/22 [00:00<00:00, 105.35it/s]\n",
      "100%|██████████| 4/4 [00:00<00:00, 202.40it/s]\n"
     ]
    },
    {
     "name": "stdout",
     "output_type": "stream",
     "text": [
      "Epoch 34/200, Train Loss: 0.2150, Test Loss: 0.2131\n"
     ]
    },
    {
     "name": "stderr",
     "output_type": "stream",
     "text": [
      "100%|██████████| 22/22 [00:00<00:00, 103.50it/s]\n",
      "100%|██████████| 4/4 [00:00<00:00, 218.79it/s]\n"
     ]
    },
    {
     "name": "stdout",
     "output_type": "stream",
     "text": [
      "Epoch 35/200, Train Loss: 0.2150, Test Loss: 0.2131\n"
     ]
    },
    {
     "name": "stderr",
     "output_type": "stream",
     "text": [
      "100%|██████████| 22/22 [00:00<00:00, 100.74it/s]\n",
      "100%|██████████| 4/4 [00:00<00:00, 208.99it/s]\n"
     ]
    },
    {
     "name": "stdout",
     "output_type": "stream",
     "text": [
      "Epoch 36/200, Train Loss: 0.2150, Test Loss: 0.2130\n"
     ]
    },
    {
     "name": "stderr",
     "output_type": "stream",
     "text": [
      "100%|██████████| 22/22 [00:00<00:00, 102.03it/s]\n",
      "100%|██████████| 4/4 [00:00<00:00, 211.05it/s]\n"
     ]
    },
    {
     "name": "stdout",
     "output_type": "stream",
     "text": [
      "Epoch 37/200, Train Loss: 0.2150, Test Loss: 0.2130\n"
     ]
    },
    {
     "name": "stderr",
     "output_type": "stream",
     "text": [
      "100%|██████████| 22/22 [00:00<00:00, 105.25it/s]\n",
      "100%|██████████| 4/4 [00:00<00:00, 211.56it/s]\n"
     ]
    },
    {
     "name": "stdout",
     "output_type": "stream",
     "text": [
      "Epoch 38/200, Train Loss: 0.2150, Test Loss: 0.2130\n",
      "No improvement in Test Loss for 1 epoch(s).\n",
      "Current Best Test Loss: 0.2130\n"
     ]
    },
    {
     "name": "stderr",
     "output_type": "stream",
     "text": [
      "100%|██████████| 22/22 [00:00<00:00, 99.88it/s] \n",
      "100%|██████████| 4/4 [00:00<00:00, 216.50it/s]\n"
     ]
    },
    {
     "name": "stdout",
     "output_type": "stream",
     "text": [
      "Epoch 39/200, Train Loss: 0.2150, Test Loss: 0.2131\n",
      "No improvement in Test Loss for 2 epoch(s).\n",
      "Current Best Test Loss: 0.2130\n"
     ]
    },
    {
     "name": "stderr",
     "output_type": "stream",
     "text": [
      "100%|██████████| 22/22 [00:00<00:00, 107.97it/s]\n",
      "100%|██████████| 4/4 [00:00<00:00, 194.85it/s]\n"
     ]
    },
    {
     "name": "stdout",
     "output_type": "stream",
     "text": [
      "Epoch 40/200, Train Loss: 0.2151, Test Loss: 0.2132\n",
      "No improvement in Test Loss for 3 epoch(s).\n",
      "Current Best Test Loss: 0.2130\n",
      "Early stopping triggered.\n",
      "Start training model with parameters: {'num_B_spline_basis': 20, 'downsample_factor': 10, 'transformer_num_layers': 2, 'transformer_d_model': 128, 'transformer_dim_feedforward': 512, 'transformer_vae_output_dim': 16, 'transformer_dropout': 0.0, 'transformer_nhead': 1, 'stimulus_nfactor': 1, 'stimulus_decoder_inter_dim_factor': 2, 'beta': 1.0, 'use_area_specific_decoder': True, 'use_area_specific_encoder': True, 'use_cls': False, 'coupling_basis_peaks_max': 5, 'coupling_basis_num': 3, 'coupling_nsubspace': 1, 'use_self_coupling': True, 'K_sigma2': 1.0, 'K_tau': 100, 'coupling_strength_nlatent': 1, 'self_history_basis_peaks_max': 1.5, 'self_history_basis_num': 3, 'self_history_basis_nonlinear': 1, 'penalty_smoothing_spline': 100.0, 'penalty_coupling_subgroup': 1e-05, 'penalty_diff_loading': None, 'penalty_loading_similarity': None, 'batch_size': 64, 'sample_latent': False, 'lr': 0.001, 'epoch_warm_up': 0, 'epoch_patience': 3, 'epoch_max': 200, 'tol': 1e-05, 'weight_decay': 0, 'lr_transformer': 0.0001, 'lr_sti': 0.01, 'lr_cp': 0.01, 'lr_self_history': 0.01}\n"
     ]
    },
    {
     "name": "stderr",
     "output_type": "stream",
     "text": [
      "100%|██████████| 22/22 [00:00<00:00, 87.70it/s]\n",
      "100%|██████████| 4/4 [00:00<00:00, 179.33it/s]\n"
     ]
    },
    {
     "name": "stdout",
     "output_type": "stream",
     "text": [
      "Epoch 1/200, Train Loss: 0.2149, Test Loss: 0.2127\n"
     ]
    },
    {
     "name": "stderr",
     "output_type": "stream",
     "text": [
      "100%|██████████| 22/22 [00:00<00:00, 86.29it/s]\n",
      "100%|██████████| 4/4 [00:00<00:00, 182.58it/s]\n"
     ]
    },
    {
     "name": "stdout",
     "output_type": "stream",
     "text": [
      "Epoch 2/200, Train Loss: 0.2142, Test Loss: 0.2120\n"
     ]
    },
    {
     "name": "stderr",
     "output_type": "stream",
     "text": [
      "100%|██████████| 22/22 [00:00<00:00, 86.86it/s]\n",
      "100%|██████████| 4/4 [00:00<00:00, 181.96it/s]\n"
     ]
    },
    {
     "name": "stdout",
     "output_type": "stream",
     "text": [
      "Epoch 3/200, Train Loss: 0.2138, Test Loss: 0.2119\n"
     ]
    },
    {
     "name": "stderr",
     "output_type": "stream",
     "text": [
      "100%|██████████| 22/22 [00:00<00:00, 88.18it/s]\n",
      "100%|██████████| 4/4 [00:00<00:00, 183.67it/s]\n"
     ]
    },
    {
     "name": "stdout",
     "output_type": "stream",
     "text": [
      "Epoch 4/200, Train Loss: 0.2138, Test Loss: 0.2119\n"
     ]
    },
    {
     "name": "stderr",
     "output_type": "stream",
     "text": [
      "100%|██████████| 22/22 [00:00<00:00, 78.18it/s]\n",
      "100%|██████████| 4/4 [00:00<00:00, 165.07it/s]\n"
     ]
    },
    {
     "name": "stdout",
     "output_type": "stream",
     "text": [
      "Epoch 5/200, Train Loss: 0.2137, Test Loss: 0.2119\n"
     ]
    },
    {
     "name": "stderr",
     "output_type": "stream",
     "text": [
      "100%|██████████| 22/22 [00:00<00:00, 86.68it/s]\n",
      "100%|██████████| 4/4 [00:00<00:00, 183.54it/s]\n"
     ]
    },
    {
     "name": "stdout",
     "output_type": "stream",
     "text": [
      "Epoch 6/200, Train Loss: 0.2137, Test Loss: 0.2119\n",
      "No improvement in Test Loss for 1 epoch(s).\n",
      "Current Best Test Loss: 0.2119\n"
     ]
    },
    {
     "name": "stderr",
     "output_type": "stream",
     "text": [
      "100%|██████████| 22/22 [00:00<00:00, 87.89it/s]\n",
      "100%|██████████| 4/4 [00:00<00:00, 183.53it/s]\n"
     ]
    },
    {
     "name": "stdout",
     "output_type": "stream",
     "text": [
      "Epoch 7/200, Train Loss: 0.2137, Test Loss: 0.2119\n"
     ]
    },
    {
     "name": "stderr",
     "output_type": "stream",
     "text": [
      "100%|██████████| 22/22 [00:00<00:00, 87.59it/s]\n",
      "100%|██████████| 4/4 [00:00<00:00, 184.47it/s]\n"
     ]
    },
    {
     "name": "stdout",
     "output_type": "stream",
     "text": [
      "Epoch 8/200, Train Loss: 0.2137, Test Loss: 0.2119\n",
      "No improvement in Test Loss for 1 epoch(s).\n",
      "Current Best Test Loss: 0.2119\n"
     ]
    },
    {
     "name": "stderr",
     "output_type": "stream",
     "text": [
      "100%|██████████| 22/22 [00:00<00:00, 86.75it/s]\n",
      "100%|██████████| 4/4 [00:00<00:00, 182.65it/s]\n"
     ]
    },
    {
     "name": "stdout",
     "output_type": "stream",
     "text": [
      "Epoch 9/200, Train Loss: 0.2137, Test Loss: 0.2119\n",
      "No improvement in Test Loss for 2 epoch(s).\n",
      "Current Best Test Loss: 0.2119\n"
     ]
    },
    {
     "name": "stderr",
     "output_type": "stream",
     "text": [
      "100%|██████████| 22/22 [00:00<00:00, 82.97it/s]\n",
      "100%|██████████| 4/4 [00:00<00:00, 180.50it/s]\n"
     ]
    },
    {
     "name": "stdout",
     "output_type": "stream",
     "text": [
      "Epoch 10/200, Train Loss: 0.2137, Test Loss: 0.2119\n"
     ]
    },
    {
     "name": "stderr",
     "output_type": "stream",
     "text": [
      "100%|██████████| 22/22 [00:00<00:00, 83.47it/s]\n",
      "100%|██████████| 4/4 [00:00<00:00, 178.65it/s]\n"
     ]
    },
    {
     "name": "stdout",
     "output_type": "stream",
     "text": [
      "Epoch 11/200, Train Loss: 0.2137, Test Loss: 0.2119\n",
      "No improvement in Test Loss for 1 epoch(s).\n",
      "Current Best Test Loss: 0.2119\n"
     ]
    },
    {
     "name": "stderr",
     "output_type": "stream",
     "text": [
      "100%|██████████| 22/22 [00:00<00:00, 79.80it/s]\n",
      "100%|██████████| 4/4 [00:00<00:00, 184.94it/s]\n"
     ]
    },
    {
     "name": "stdout",
     "output_type": "stream",
     "text": [
      "Epoch 12/200, Train Loss: 0.2137, Test Loss: 0.2119\n",
      "No improvement in Test Loss for 2 epoch(s).\n",
      "Current Best Test Loss: 0.2119\n"
     ]
    },
    {
     "name": "stderr",
     "output_type": "stream",
     "text": [
      "100%|██████████| 22/22 [00:00<00:00, 83.38it/s]\n",
      "100%|██████████| 4/4 [00:00<00:00, 180.21it/s]\n"
     ]
    },
    {
     "name": "stdout",
     "output_type": "stream",
     "text": [
      "Epoch 13/200, Train Loss: 0.2137, Test Loss: 0.2119\n",
      "No improvement in Test Loss for 3 epoch(s).\n",
      "Current Best Test Loss: 0.2119\n",
      "Early stopping triggered.\n",
      "Start training model with parameters: {'num_B_spline_basis': 20, 'downsample_factor': 10, 'transformer_num_layers': 2, 'transformer_d_model': 128, 'transformer_dim_feedforward': 512, 'transformer_vae_output_dim': 16, 'transformer_dropout': 0.0, 'transformer_nhead': 1, 'stimulus_nfactor': 1, 'stimulus_decoder_inter_dim_factor': 2, 'beta': 1.0, 'use_area_specific_decoder': True, 'use_area_specific_encoder': True, 'use_cls': False, 'coupling_basis_peaks_max': 5, 'coupling_basis_num': 3, 'coupling_nsubspace': 1, 'use_self_coupling': True, 'K_sigma2': 1.0, 'K_tau': 100, 'coupling_strength_nlatent': 1, 'self_history_basis_peaks_max': 1.5, 'self_history_basis_num': 3, 'self_history_basis_nonlinear': 1, 'penalty_smoothing_spline': 100.0, 'penalty_coupling_subgroup': 1e-05, 'penalty_diff_loading': None, 'penalty_loading_similarity': None, 'batch_size': 64, 'sample_latent': False, 'lr': 0.001, 'epoch_warm_up': 0, 'epoch_patience': 3, 'epoch_max': 200, 'tol': 1e-05, 'weight_decay': 0, 'lr_transformer': 0.0001, 'lr_sti': 0.01, 'lr_cp': 0.01, 'lr_self_history': 0.01}\n"
     ]
    },
    {
     "name": "stderr",
     "output_type": "stream",
     "text": [
      "100%|██████████| 22/22 [00:00<00:00, 84.56it/s]\n",
      "100%|██████████| 4/4 [00:00<00:00, 171.31it/s]\n"
     ]
    },
    {
     "name": "stdout",
     "output_type": "stream",
     "text": [
      "Epoch 1/200, Train Loss: 0.2137, Test Loss: 0.2119\n"
     ]
    },
    {
     "name": "stderr",
     "output_type": "stream",
     "text": [
      "100%|██████████| 22/22 [00:00<00:00, 84.91it/s]\n",
      "100%|██████████| 4/4 [00:00<00:00, 147.80it/s]\n"
     ]
    },
    {
     "name": "stdout",
     "output_type": "stream",
     "text": [
      "Epoch 2/200, Train Loss: 0.2137, Test Loss: 0.2119\n",
      "No improvement in Test Loss for 1 epoch(s).\n",
      "Current Best Test Loss: 0.2119\n"
     ]
    },
    {
     "name": "stderr",
     "output_type": "stream",
     "text": [
      "100%|██████████| 22/22 [00:00<00:00, 86.42it/s]\n",
      "100%|██████████| 4/4 [00:00<00:00, 183.42it/s]\n"
     ]
    },
    {
     "name": "stdout",
     "output_type": "stream",
     "text": [
      "Epoch 3/200, Train Loss: 0.2137, Test Loss: 0.2119\n",
      "No improvement in Test Loss for 2 epoch(s).\n",
      "Current Best Test Loss: 0.2119\n"
     ]
    },
    {
     "name": "stderr",
     "output_type": "stream",
     "text": [
      "100%|██████████| 22/22 [00:00<00:00, 84.46it/s]\n",
      "100%|██████████| 4/4 [00:00<00:00, 142.24it/s]\n"
     ]
    },
    {
     "name": "stdout",
     "output_type": "stream",
     "text": [
      "Epoch 4/200, Train Loss: 0.2137, Test Loss: 0.2119\n",
      "No improvement in Test Loss for 3 epoch(s).\n",
      "Current Best Test Loss: 0.2119\n",
      "Early stopping triggered.\n"
     ]
    },
    {
     "name": "stderr",
     "output_type": "stream",
     "text": [
      "100%|██████████| 7/7 [00:00<00:00, 151.10it/s]\n"
     ]
    },
    {
     "name": "stdout",
     "output_type": "stream",
     "text": [
      "Test loss: 0.22221590604568062\n",
      "Test loss baseline: 0.22800062284653919\n",
      "Model initialized. Training on cuda\n",
      "Start training model with parameters: {'num_B_spline_basis': 20, 'downsample_factor': 10, 'transformer_num_layers': 2, 'transformer_d_model': 128, 'transformer_dim_feedforward': 512, 'transformer_vae_output_dim': 16, 'transformer_dropout': 0.0, 'transformer_nhead': 1, 'stimulus_nfactor': 1, 'stimulus_decoder_inter_dim_factor': 2, 'beta': 1.0, 'use_area_specific_decoder': True, 'use_area_specific_encoder': True, 'use_cls': False, 'coupling_basis_peaks_max': 5, 'coupling_basis_num': 3, 'coupling_nsubspace': 1, 'use_self_coupling': True, 'K_sigma2': 1.0, 'K_tau': 100, 'coupling_strength_nlatent': 1, 'self_history_basis_peaks_max': 1.5, 'self_history_basis_num': 3, 'self_history_basis_nonlinear': 1, 'penalty_smoothing_spline': 100.0, 'penalty_coupling_subgroup': 1e-05, 'penalty_diff_loading': None, 'penalty_loading_similarity': None, 'batch_size': 64, 'sample_latent': False, 'lr': 0.001, 'epoch_warm_up': 0, 'epoch_patience': 3, 'epoch_max': 200, 'tol': 1e-05, 'weight_decay': 0, 'lr_transformer': 0.0001, 'lr_sti': 0.01, 'lr_cp': 0.01, 'lr_self_history': 0.01}\n"
     ]
    },
    {
     "name": "stderr",
     "output_type": "stream",
     "text": [
      "100%|██████████| 22/22 [00:00<00:00, 114.76it/s]\n",
      "100%|██████████| 4/4 [00:00<00:00, 224.09it/s]\n"
     ]
    },
    {
     "name": "stdout",
     "output_type": "stream",
     "text": [
      "Epoch 1/200, Train Loss: 0.7962, Test Loss: 0.4523\n"
     ]
    },
    {
     "name": "stderr",
     "output_type": "stream",
     "text": [
      "100%|██████████| 22/22 [00:00<00:00, 116.60it/s]\n",
      "100%|██████████| 4/4 [00:00<00:00, 218.31it/s]\n"
     ]
    },
    {
     "name": "stdout",
     "output_type": "stream",
     "text": [
      "Epoch 2/200, Train Loss: 0.3379, Test Loss: 0.3049\n"
     ]
    },
    {
     "name": "stderr",
     "output_type": "stream",
     "text": [
      "100%|██████████| 22/22 [00:00<00:00, 118.11it/s]\n",
      "100%|██████████| 4/4 [00:00<00:00, 218.78it/s]\n"
     ]
    },
    {
     "name": "stdout",
     "output_type": "stream",
     "text": [
      "Epoch 3/200, Train Loss: 0.2950, Test Loss: 0.2846\n"
     ]
    },
    {
     "name": "stderr",
     "output_type": "stream",
     "text": [
      "100%|██████████| 22/22 [00:00<00:00, 114.22it/s]\n",
      "100%|██████████| 4/4 [00:00<00:00, 220.28it/s]\n"
     ]
    },
    {
     "name": "stdout",
     "output_type": "stream",
     "text": [
      "Epoch 4/200, Train Loss: 0.2795, Test Loss: 0.2701\n"
     ]
    },
    {
     "name": "stderr",
     "output_type": "stream",
     "text": [
      "100%|██████████| 22/22 [00:00<00:00, 107.31it/s]\n",
      "100%|██████████| 4/4 [00:00<00:00, 225.08it/s]\n"
     ]
    },
    {
     "name": "stdout",
     "output_type": "stream",
     "text": [
      "Epoch 5/200, Train Loss: 0.2663, Test Loss: 0.2574\n"
     ]
    },
    {
     "name": "stderr",
     "output_type": "stream",
     "text": [
      "100%|██████████| 22/22 [00:00<00:00, 111.88it/s]\n",
      "100%|██████████| 4/4 [00:00<00:00, 228.15it/s]\n"
     ]
    },
    {
     "name": "stdout",
     "output_type": "stream",
     "text": [
      "Epoch 6/200, Train Loss: 0.2544, Test Loss: 0.2465\n"
     ]
    },
    {
     "name": "stderr",
     "output_type": "stream",
     "text": [
      "100%|██████████| 22/22 [00:00<00:00, 107.60it/s]\n",
      "100%|██████████| 4/4 [00:00<00:00, 213.82it/s]\n"
     ]
    },
    {
     "name": "stdout",
     "output_type": "stream",
     "text": [
      "Epoch 7/200, Train Loss: 0.2446, Test Loss: 0.2379\n"
     ]
    },
    {
     "name": "stderr",
     "output_type": "stream",
     "text": [
      "100%|██████████| 22/22 [00:00<00:00, 113.97it/s]\n",
      "100%|██████████| 4/4 [00:00<00:00, 193.50it/s]\n"
     ]
    },
    {
     "name": "stdout",
     "output_type": "stream",
     "text": [
      "Epoch 8/200, Train Loss: 0.2372, Test Loss: 0.2318\n"
     ]
    },
    {
     "name": "stderr",
     "output_type": "stream",
     "text": [
      "100%|██████████| 22/22 [00:00<00:00, 113.68it/s]\n",
      "100%|██████████| 4/4 [00:00<00:00, 213.13it/s]\n"
     ]
    },
    {
     "name": "stdout",
     "output_type": "stream",
     "text": [
      "Epoch 9/200, Train Loss: 0.2320, Test Loss: 0.2277\n"
     ]
    },
    {
     "name": "stderr",
     "output_type": "stream",
     "text": [
      "100%|██████████| 22/22 [00:00<00:00, 105.36it/s]\n",
      "100%|██████████| 4/4 [00:00<00:00, 222.72it/s]\n"
     ]
    },
    {
     "name": "stdout",
     "output_type": "stream",
     "text": [
      "Epoch 10/200, Train Loss: 0.2286, Test Loss: 0.2250\n"
     ]
    },
    {
     "name": "stderr",
     "output_type": "stream",
     "text": [
      "100%|██████████| 22/22 [00:00<00:00, 116.29it/s]\n",
      "100%|██████████| 4/4 [00:00<00:00, 218.60it/s]\n"
     ]
    },
    {
     "name": "stdout",
     "output_type": "stream",
     "text": [
      "Epoch 11/200, Train Loss: 0.2263, Test Loss: 0.2232\n"
     ]
    },
    {
     "name": "stderr",
     "output_type": "stream",
     "text": [
      "100%|██████████| 22/22 [00:00<00:00, 107.86it/s]\n",
      "100%|██████████| 4/4 [00:00<00:00, 220.89it/s]\n"
     ]
    },
    {
     "name": "stdout",
     "output_type": "stream",
     "text": [
      "Epoch 12/200, Train Loss: 0.2248, Test Loss: 0.2221\n"
     ]
    },
    {
     "name": "stderr",
     "output_type": "stream",
     "text": [
      "100%|██████████| 22/22 [00:00<00:00, 118.01it/s]\n",
      "100%|██████████| 4/4 [00:00<00:00, 194.60it/s]\n"
     ]
    },
    {
     "name": "stdout",
     "output_type": "stream",
     "text": [
      "Epoch 13/200, Train Loss: 0.2238, Test Loss: 0.2213\n"
     ]
    },
    {
     "name": "stderr",
     "output_type": "stream",
     "text": [
      "100%|██████████| 22/22 [00:00<00:00, 114.76it/s]\n",
      "100%|██████████| 4/4 [00:00<00:00, 210.07it/s]\n"
     ]
    },
    {
     "name": "stdout",
     "output_type": "stream",
     "text": [
      "Epoch 14/200, Train Loss: 0.2231, Test Loss: 0.2207\n"
     ]
    },
    {
     "name": "stderr",
     "output_type": "stream",
     "text": [
      "100%|██████████| 22/22 [00:00<00:00, 116.99it/s]\n",
      "100%|██████████| 4/4 [00:00<00:00, 217.24it/s]\n"
     ]
    },
    {
     "name": "stdout",
     "output_type": "stream",
     "text": [
      "Epoch 15/200, Train Loss: 0.2226, Test Loss: 0.2202\n"
     ]
    },
    {
     "name": "stderr",
     "output_type": "stream",
     "text": [
      "100%|██████████| 22/22 [00:00<00:00, 117.07it/s]\n",
      "100%|██████████| 4/4 [00:00<00:00, 223.65it/s]\n"
     ]
    },
    {
     "name": "stdout",
     "output_type": "stream",
     "text": [
      "Epoch 16/200, Train Loss: 0.2222, Test Loss: 0.2199\n"
     ]
    },
    {
     "name": "stderr",
     "output_type": "stream",
     "text": [
      "100%|██████████| 22/22 [00:00<00:00, 114.24it/s]\n",
      "100%|██████████| 4/4 [00:00<00:00, 208.65it/s]\n"
     ]
    },
    {
     "name": "stdout",
     "output_type": "stream",
     "text": [
      "Epoch 17/200, Train Loss: 0.2218, Test Loss: 0.2195\n"
     ]
    },
    {
     "name": "stderr",
     "output_type": "stream",
     "text": [
      "100%|██████████| 22/22 [00:00<00:00, 111.38it/s]\n",
      "100%|██████████| 4/4 [00:00<00:00, 213.77it/s]\n"
     ]
    },
    {
     "name": "stdout",
     "output_type": "stream",
     "text": [
      "Epoch 18/200, Train Loss: 0.2215, Test Loss: 0.2192\n"
     ]
    },
    {
     "name": "stderr",
     "output_type": "stream",
     "text": [
      "100%|██████████| 22/22 [00:00<00:00, 112.99it/s]\n",
      "100%|██████████| 4/4 [00:00<00:00, 188.76it/s]\n"
     ]
    },
    {
     "name": "stdout",
     "output_type": "stream",
     "text": [
      "Epoch 19/200, Train Loss: 0.2212, Test Loss: 0.2189\n"
     ]
    },
    {
     "name": "stderr",
     "output_type": "stream",
     "text": [
      "100%|██████████| 22/22 [00:00<00:00, 115.84it/s]\n",
      "100%|██████████| 4/4 [00:00<00:00, 178.96it/s]\n"
     ]
    },
    {
     "name": "stdout",
     "output_type": "stream",
     "text": [
      "Epoch 20/200, Train Loss: 0.2208, Test Loss: 0.2185\n"
     ]
    },
    {
     "name": "stderr",
     "output_type": "stream",
     "text": [
      "100%|██████████| 22/22 [00:00<00:00, 116.89it/s]\n",
      "100%|██████████| 4/4 [00:00<00:00, 212.09it/s]\n"
     ]
    },
    {
     "name": "stdout",
     "output_type": "stream",
     "text": [
      "Epoch 21/200, Train Loss: 0.2205, Test Loss: 0.2182\n"
     ]
    },
    {
     "name": "stderr",
     "output_type": "stream",
     "text": [
      "100%|██████████| 22/22 [00:00<00:00, 111.16it/s]\n",
      "100%|██████████| 4/4 [00:00<00:00, 227.70it/s]\n"
     ]
    },
    {
     "name": "stdout",
     "output_type": "stream",
     "text": [
      "Epoch 22/200, Train Loss: 0.2201, Test Loss: 0.2178\n"
     ]
    },
    {
     "name": "stderr",
     "output_type": "stream",
     "text": [
      "100%|██████████| 22/22 [00:00<00:00, 105.11it/s]\n",
      "100%|██████████| 4/4 [00:00<00:00, 179.33it/s]\n"
     ]
    },
    {
     "name": "stdout",
     "output_type": "stream",
     "text": [
      "Epoch 23/200, Train Loss: 0.2197, Test Loss: 0.2174\n"
     ]
    },
    {
     "name": "stderr",
     "output_type": "stream",
     "text": [
      "100%|██████████| 22/22 [00:00<00:00, 113.44it/s]\n",
      "100%|██████████| 4/4 [00:00<00:00, 210.35it/s]\n"
     ]
    },
    {
     "name": "stdout",
     "output_type": "stream",
     "text": [
      "Epoch 24/200, Train Loss: 0.2193, Test Loss: 0.2170\n"
     ]
    },
    {
     "name": "stderr",
     "output_type": "stream",
     "text": [
      "100%|██████████| 22/22 [00:00<00:00, 106.06it/s]\n",
      "100%|██████████| 4/4 [00:00<00:00, 224.08it/s]\n"
     ]
    },
    {
     "name": "stdout",
     "output_type": "stream",
     "text": [
      "Epoch 25/200, Train Loss: 0.2189, Test Loss: 0.2166\n"
     ]
    },
    {
     "name": "stderr",
     "output_type": "stream",
     "text": [
      "100%|██████████| 22/22 [00:00<00:00, 112.20it/s]\n",
      "100%|██████████| 4/4 [00:00<00:00, 170.24it/s]\n"
     ]
    },
    {
     "name": "stdout",
     "output_type": "stream",
     "text": [
      "Epoch 26/200, Train Loss: 0.2185, Test Loss: 0.2162\n"
     ]
    },
    {
     "name": "stderr",
     "output_type": "stream",
     "text": [
      "100%|██████████| 22/22 [00:00<00:00, 109.84it/s]\n",
      "100%|██████████| 4/4 [00:00<00:00, 202.72it/s]\n"
     ]
    },
    {
     "name": "stdout",
     "output_type": "stream",
     "text": [
      "Epoch 27/200, Train Loss: 0.2181, Test Loss: 0.2158\n"
     ]
    },
    {
     "name": "stderr",
     "output_type": "stream",
     "text": [
      "100%|██████████| 22/22 [00:00<00:00, 116.99it/s]\n",
      "100%|██████████| 4/4 [00:00<00:00, 224.02it/s]\n"
     ]
    },
    {
     "name": "stdout",
     "output_type": "stream",
     "text": [
      "Epoch 28/200, Train Loss: 0.2177, Test Loss: 0.2155\n"
     ]
    },
    {
     "name": "stderr",
     "output_type": "stream",
     "text": [
      "100%|██████████| 22/22 [00:00<00:00, 115.46it/s]\n",
      "100%|██████████| 4/4 [00:00<00:00, 227.58it/s]\n"
     ]
    },
    {
     "name": "stdout",
     "output_type": "stream",
     "text": [
      "Epoch 29/200, Train Loss: 0.2174, Test Loss: 0.2152\n"
     ]
    },
    {
     "name": "stderr",
     "output_type": "stream",
     "text": [
      "100%|██████████| 22/22 [00:00<00:00, 116.85it/s]\n",
      "100%|██████████| 4/4 [00:00<00:00, 216.44it/s]\n"
     ]
    },
    {
     "name": "stdout",
     "output_type": "stream",
     "text": [
      "Epoch 30/200, Train Loss: 0.2171, Test Loss: 0.2149\n"
     ]
    },
    {
     "name": "stderr",
     "output_type": "stream",
     "text": [
      "100%|██████████| 22/22 [00:00<00:00, 116.98it/s]\n",
      "100%|██████████| 4/4 [00:00<00:00, 205.03it/s]\n"
     ]
    },
    {
     "name": "stdout",
     "output_type": "stream",
     "text": [
      "Epoch 31/200, Train Loss: 0.2168, Test Loss: 0.2147\n"
     ]
    },
    {
     "name": "stderr",
     "output_type": "stream",
     "text": [
      "100%|██████████| 22/22 [00:00<00:00, 111.79it/s]\n",
      "100%|██████████| 4/4 [00:00<00:00, 220.04it/s]\n"
     ]
    },
    {
     "name": "stdout",
     "output_type": "stream",
     "text": [
      "Epoch 32/200, Train Loss: 0.2165, Test Loss: 0.2144\n"
     ]
    },
    {
     "name": "stderr",
     "output_type": "stream",
     "text": [
      "100%|██████████| 22/22 [00:00<00:00, 116.53it/s]\n",
      "100%|██████████| 4/4 [00:00<00:00, 218.79it/s]\n"
     ]
    },
    {
     "name": "stdout",
     "output_type": "stream",
     "text": [
      "Epoch 33/200, Train Loss: 0.2163, Test Loss: 0.2143\n"
     ]
    },
    {
     "name": "stderr",
     "output_type": "stream",
     "text": [
      "100%|██████████| 22/22 [00:00<00:00, 111.82it/s]\n",
      "100%|██████████| 4/4 [00:00<00:00, 217.85it/s]\n"
     ]
    },
    {
     "name": "stdout",
     "output_type": "stream",
     "text": [
      "Epoch 34/200, Train Loss: 0.2161, Test Loss: 0.2141\n"
     ]
    },
    {
     "name": "stderr",
     "output_type": "stream",
     "text": [
      "100%|██████████| 22/22 [00:00<00:00, 115.43it/s]\n",
      "100%|██████████| 4/4 [00:00<00:00, 199.61it/s]\n"
     ]
    },
    {
     "name": "stdout",
     "output_type": "stream",
     "text": [
      "Epoch 35/200, Train Loss: 0.2160, Test Loss: 0.2140\n"
     ]
    },
    {
     "name": "stderr",
     "output_type": "stream",
     "text": [
      "100%|██████████| 22/22 [00:00<00:00, 104.06it/s]\n",
      "100%|██████████| 4/4 [00:00<00:00, 209.96it/s]\n"
     ]
    },
    {
     "name": "stdout",
     "output_type": "stream",
     "text": [
      "Epoch 36/200, Train Loss: 0.2159, Test Loss: 0.2139\n"
     ]
    },
    {
     "name": "stderr",
     "output_type": "stream",
     "text": [
      "100%|██████████| 22/22 [00:00<00:00, 112.69it/s]\n",
      "100%|██████████| 4/4 [00:00<00:00, 217.93it/s]\n"
     ]
    },
    {
     "name": "stdout",
     "output_type": "stream",
     "text": [
      "Epoch 37/200, Train Loss: 0.2158, Test Loss: 0.2138\n"
     ]
    },
    {
     "name": "stderr",
     "output_type": "stream",
     "text": [
      "100%|██████████| 22/22 [00:00<00:00, 110.52it/s]\n",
      "100%|██████████| 4/4 [00:00<00:00, 220.23it/s]\n"
     ]
    },
    {
     "name": "stdout",
     "output_type": "stream",
     "text": [
      "Epoch 38/200, Train Loss: 0.2157, Test Loss: 0.2137\n"
     ]
    },
    {
     "name": "stderr",
     "output_type": "stream",
     "text": [
      "100%|██████████| 22/22 [00:00<00:00, 116.18it/s]\n",
      "100%|██████████| 4/4 [00:00<00:00, 216.42it/s]\n"
     ]
    },
    {
     "name": "stdout",
     "output_type": "stream",
     "text": [
      "Epoch 39/200, Train Loss: 0.2156, Test Loss: 0.2137\n"
     ]
    },
    {
     "name": "stderr",
     "output_type": "stream",
     "text": [
      "100%|██████████| 22/22 [00:00<00:00, 116.59it/s]\n",
      "100%|██████████| 4/4 [00:00<00:00, 218.54it/s]\n"
     ]
    },
    {
     "name": "stdout",
     "output_type": "stream",
     "text": [
      "Epoch 40/200, Train Loss: 0.2156, Test Loss: 0.2136\n"
     ]
    },
    {
     "name": "stderr",
     "output_type": "stream",
     "text": [
      "100%|██████████| 22/22 [00:00<00:00, 117.13it/s]\n",
      "100%|██████████| 4/4 [00:00<00:00, 209.51it/s]\n"
     ]
    },
    {
     "name": "stdout",
     "output_type": "stream",
     "text": [
      "Epoch 41/200, Train Loss: 0.2155, Test Loss: 0.2136\n"
     ]
    },
    {
     "name": "stderr",
     "output_type": "stream",
     "text": [
      "100%|██████████| 22/22 [00:00<00:00, 115.43it/s]\n",
      "100%|██████████| 4/4 [00:00<00:00, 175.25it/s]\n"
     ]
    },
    {
     "name": "stdout",
     "output_type": "stream",
     "text": [
      "Epoch 42/200, Train Loss: 0.2155, Test Loss: 0.2135\n"
     ]
    },
    {
     "name": "stderr",
     "output_type": "stream",
     "text": [
      "100%|██████████| 22/22 [00:00<00:00, 114.18it/s]\n",
      "100%|██████████| 4/4 [00:00<00:00, 223.98it/s]\n"
     ]
    },
    {
     "name": "stdout",
     "output_type": "stream",
     "text": [
      "Epoch 43/200, Train Loss: 0.2154, Test Loss: 0.2135\n"
     ]
    },
    {
     "name": "stderr",
     "output_type": "stream",
     "text": [
      "100%|██████████| 22/22 [00:00<00:00, 114.15it/s]\n",
      "100%|██████████| 4/4 [00:00<00:00, 198.37it/s]\n"
     ]
    },
    {
     "name": "stdout",
     "output_type": "stream",
     "text": [
      "Epoch 44/200, Train Loss: 0.2154, Test Loss: 0.2135\n"
     ]
    },
    {
     "name": "stderr",
     "output_type": "stream",
     "text": [
      "100%|██████████| 22/22 [00:00<00:00, 109.16it/s]\n",
      "100%|██████████| 4/4 [00:00<00:00, 220.19it/s]\n"
     ]
    },
    {
     "name": "stdout",
     "output_type": "stream",
     "text": [
      "Epoch 45/200, Train Loss: 0.2154, Test Loss: 0.2135\n"
     ]
    },
    {
     "name": "stderr",
     "output_type": "stream",
     "text": [
      "100%|██████████| 22/22 [00:00<00:00, 117.93it/s]\n",
      "100%|██████████| 4/4 [00:00<00:00, 217.20it/s]\n"
     ]
    },
    {
     "name": "stdout",
     "output_type": "stream",
     "text": [
      "Epoch 46/200, Train Loss: 0.2154, Test Loss: 0.2135\n"
     ]
    },
    {
     "name": "stderr",
     "output_type": "stream",
     "text": [
      "100%|██████████| 22/22 [00:00<00:00, 116.77it/s]\n",
      "100%|██████████| 4/4 [00:00<00:00, 213.92it/s]\n"
     ]
    },
    {
     "name": "stdout",
     "output_type": "stream",
     "text": [
      "Epoch 47/200, Train Loss: 0.2154, Test Loss: 0.2134\n"
     ]
    },
    {
     "name": "stderr",
     "output_type": "stream",
     "text": [
      "100%|██████████| 22/22 [00:00<00:00, 113.01it/s]\n",
      "100%|██████████| 4/4 [00:00<00:00, 203.05it/s]\n"
     ]
    },
    {
     "name": "stdout",
     "output_type": "stream",
     "text": [
      "Epoch 48/200, Train Loss: 0.2153, Test Loss: 0.2134\n"
     ]
    },
    {
     "name": "stderr",
     "output_type": "stream",
     "text": [
      "100%|██████████| 22/22 [00:00<00:00, 115.80it/s]\n",
      "100%|██████████| 4/4 [00:00<00:00, 132.06it/s]\n"
     ]
    },
    {
     "name": "stdout",
     "output_type": "stream",
     "text": [
      "Epoch 49/200, Train Loss: 0.2153, Test Loss: 0.2134\n",
      "No improvement in Test Loss for 1 epoch(s).\n",
      "Current Best Test Loss: 0.2134\n"
     ]
    },
    {
     "name": "stderr",
     "output_type": "stream",
     "text": [
      "100%|██████████| 22/22 [00:00<00:00, 110.18it/s]\n",
      "100%|██████████| 4/4 [00:00<00:00, 207.88it/s]\n"
     ]
    },
    {
     "name": "stdout",
     "output_type": "stream",
     "text": [
      "Epoch 50/200, Train Loss: 0.2153, Test Loss: 0.2134\n"
     ]
    },
    {
     "name": "stderr",
     "output_type": "stream",
     "text": [
      "100%|██████████| 22/22 [00:00<00:00, 116.12it/s]\n",
      "100%|██████████| 4/4 [00:00<00:00, 223.93it/s]\n"
     ]
    },
    {
     "name": "stdout",
     "output_type": "stream",
     "text": [
      "Epoch 51/200, Train Loss: 0.2153, Test Loss: 0.2134\n",
      "No improvement in Test Loss for 1 epoch(s).\n",
      "Current Best Test Loss: 0.2134\n"
     ]
    },
    {
     "name": "stderr",
     "output_type": "stream",
     "text": [
      "100%|██████████| 22/22 [00:00<00:00, 109.22it/s]\n",
      "100%|██████████| 4/4 [00:00<00:00, 219.31it/s]\n"
     ]
    },
    {
     "name": "stdout",
     "output_type": "stream",
     "text": [
      "Epoch 52/200, Train Loss: 0.2153, Test Loss: 0.2134\n"
     ]
    },
    {
     "name": "stderr",
     "output_type": "stream",
     "text": [
      "100%|██████████| 22/22 [00:00<00:00, 117.04it/s]\n",
      "100%|██████████| 4/4 [00:00<00:00, 216.20it/s]\n"
     ]
    },
    {
     "name": "stdout",
     "output_type": "stream",
     "text": [
      "Epoch 53/200, Train Loss: 0.2153, Test Loss: 0.2134\n",
      "No improvement in Test Loss for 1 epoch(s).\n",
      "Current Best Test Loss: 0.2134\n"
     ]
    },
    {
     "name": "stderr",
     "output_type": "stream",
     "text": [
      "100%|██████████| 22/22 [00:00<00:00, 117.48it/s]\n",
      "100%|██████████| 4/4 [00:00<00:00, 213.80it/s]\n"
     ]
    },
    {
     "name": "stdout",
     "output_type": "stream",
     "text": [
      "Epoch 54/200, Train Loss: 0.2153, Test Loss: 0.2134\n"
     ]
    },
    {
     "name": "stderr",
     "output_type": "stream",
     "text": [
      "100%|██████████| 22/22 [00:00<00:00, 111.95it/s]\n",
      "100%|██████████| 4/4 [00:00<00:00, 217.54it/s]\n"
     ]
    },
    {
     "name": "stdout",
     "output_type": "stream",
     "text": [
      "Epoch 55/200, Train Loss: 0.2153, Test Loss: 0.2134\n",
      "No improvement in Test Loss for 1 epoch(s).\n",
      "Current Best Test Loss: 0.2134\n"
     ]
    },
    {
     "name": "stderr",
     "output_type": "stream",
     "text": [
      "100%|██████████| 22/22 [00:00<00:00, 116.84it/s]\n",
      "100%|██████████| 4/4 [00:00<00:00, 218.06it/s]\n"
     ]
    },
    {
     "name": "stdout",
     "output_type": "stream",
     "text": [
      "Epoch 56/200, Train Loss: 0.2153, Test Loss: 0.2134\n",
      "No improvement in Test Loss for 2 epoch(s).\n",
      "Current Best Test Loss: 0.2134\n"
     ]
    },
    {
     "name": "stderr",
     "output_type": "stream",
     "text": [
      "100%|██████████| 22/22 [00:00<00:00, 111.09it/s]\n",
      "100%|██████████| 4/4 [00:00<00:00, 220.61it/s]\n"
     ]
    },
    {
     "name": "stdout",
     "output_type": "stream",
     "text": [
      "Epoch 57/200, Train Loss: 0.2153, Test Loss: 0.2134\n"
     ]
    },
    {
     "name": "stderr",
     "output_type": "stream",
     "text": [
      "100%|██████████| 22/22 [00:00<00:00, 102.89it/s]\n",
      "100%|██████████| 4/4 [00:00<00:00, 200.51it/s]\n"
     ]
    },
    {
     "name": "stdout",
     "output_type": "stream",
     "text": [
      "Epoch 58/200, Train Loss: 0.2153, Test Loss: 0.2134\n",
      "No improvement in Test Loss for 1 epoch(s).\n",
      "Current Best Test Loss: 0.2134\n"
     ]
    },
    {
     "name": "stderr",
     "output_type": "stream",
     "text": [
      "100%|██████████| 22/22 [00:00<00:00, 109.31it/s]\n",
      "100%|██████████| 4/4 [00:00<00:00, 216.21it/s]\n"
     ]
    },
    {
     "name": "stdout",
     "output_type": "stream",
     "text": [
      "Epoch 59/200, Train Loss: 0.2153, Test Loss: 0.2134\n",
      "No improvement in Test Loss for 2 epoch(s).\n",
      "Current Best Test Loss: 0.2134\n"
     ]
    },
    {
     "name": "stderr",
     "output_type": "stream",
     "text": [
      "100%|██████████| 22/22 [00:00<00:00, 115.32it/s]\n",
      "100%|██████████| 4/4 [00:00<00:00, 218.41it/s]\n"
     ]
    },
    {
     "name": "stdout",
     "output_type": "stream",
     "text": [
      "Epoch 60/200, Train Loss: 0.2153, Test Loss: 0.2134\n"
     ]
    },
    {
     "name": "stderr",
     "output_type": "stream",
     "text": [
      "100%|██████████| 22/22 [00:00<00:00, 112.84it/s]\n",
      "100%|██████████| 4/4 [00:00<00:00, 224.94it/s]\n"
     ]
    },
    {
     "name": "stdout",
     "output_type": "stream",
     "text": [
      "Epoch 61/200, Train Loss: 0.2153, Test Loss: 0.2134\n",
      "No improvement in Test Loss for 1 epoch(s).\n",
      "Current Best Test Loss: 0.2134\n"
     ]
    },
    {
     "name": "stderr",
     "output_type": "stream",
     "text": [
      "100%|██████████| 22/22 [00:00<00:00, 115.06it/s]\n",
      "100%|██████████| 4/4 [00:00<00:00, 219.22it/s]\n"
     ]
    },
    {
     "name": "stdout",
     "output_type": "stream",
     "text": [
      "Epoch 62/200, Train Loss: 0.2153, Test Loss: 0.2134\n",
      "No improvement in Test Loss for 2 epoch(s).\n",
      "Current Best Test Loss: 0.2134\n"
     ]
    },
    {
     "name": "stderr",
     "output_type": "stream",
     "text": [
      "100%|██████████| 22/22 [00:00<00:00, 110.80it/s]\n",
      "100%|██████████| 4/4 [00:00<00:00, 192.95it/s]\n"
     ]
    },
    {
     "name": "stdout",
     "output_type": "stream",
     "text": [
      "Epoch 63/200, Train Loss: 0.2152, Test Loss: 0.2134\n",
      "No improvement in Test Loss for 3 epoch(s).\n",
      "Current Best Test Loss: 0.2134\n",
      "Early stopping triggered.\n"
     ]
    },
    {
     "name": "stderr",
     "output_type": "stream",
     "text": [
      "100%|██████████| 7/7 [00:00<00:00, 181.12it/s]\n"
     ]
    },
    {
     "name": "stdout",
     "output_type": "stream",
     "text": [
      "Test loss: 0.23273213289473715\n",
      "Test loss baseline: 0.22809030869952462\n"
     ]
    }
   ],
   "source": [
    "def get_variance_explained_by_coupling_percentage(result):\n",
    "    firing_rates_total = np.exp(result['firing_rates_total'])\n",
    "    firing_rates_wo_coupling = (\n",
    "        np.exp(result['firing_rates_total']-result['firing_rates_coupling'])\n",
    "    )\n",
    "    total_variance = firing_rates_total.var(axis=(0,2))\n",
    "    variance_wo_coupling = firing_rates_wo_coupling.var(axis=(0,2))\n",
    "    variance_explained_by_coupling = total_variance - variance_wo_coupling\n",
    "    variance_explained_by_coupling_percentage = variance_explained_by_coupling / total_variance\n",
    "    return variance_explained_by_coupling_percentage.mean()\n",
    "\n",
    "var_by_coupling_percentage_matrix = np.zeros((len(shared_background_list), nrep))\n",
    "var_by_coupling_percentage_matrix_base_model = np.zeros((len(shared_background_list), nrep))\n",
    "for i_shared_background, shared_background in enumerate(shared_background_list):\n",
    "    for rep in range(nrep):\n",
    "        load_data_name = f'/home/qix/user_data/EIF_simulation_dataset/'\\\n",
    "            +f'synthetic_data_EIF_conn={str(conn)}_corr={shared_background}_rep={rep}.npz'\n",
    "\n",
    "        data = np.load(load_data_name, allow_pickle=True)\n",
    "        spikes = data['spikes']\n",
    "        trial_info = data['trial_info']\n",
    "        I_ext = data['I_ext']\n",
    "        I_syn = data['I_syn']\n",
    "\n",
    "        synthetic_dataloader = Simple_dataloader_from_spikes(\n",
    "            [spikes[:,:nneuron_part,:], spikes[:,nneuron_part:,:]],\n",
    "            npadding=50,\n",
    "            train_ratio=0.7,\n",
    "            val_ratio=0.1,\n",
    "            batch_size=64,\n",
    "            verbose=True\n",
    "        )\n",
    "\n",
    "    result = fit_model(synthetic_dataloader, False)\n",
    "    result_base_model = fit_model(synthetic_dataloader, True)\n",
    "\n",
    "    var_by_coupling_percentage_matrix[i_shared_background, rep] = (\n",
    "        get_variance_explained_by_coupling_percentage(result)\n",
    "    )\n",
    "    var_by_coupling_percentage_matrix_base_model[i_shared_background, rep] = (\n",
    "        get_variance_explained_by_coupling_percentage(result_base_model)\n",
    "    )\n",
    "    \n",
    "# Save the variance explained matrices\n",
    "np.save('/home/qix/user_data/EIF_simulation_dataset/var_by_coupling_percentage_matrix.npy', \n",
    "        var_by_coupling_percentage_matrix)\n",
    "np.save('/home/qix/user_data/EIF_simulation_dataset/var_by_coupling_percentage_matrix_base_model.npy',\n",
    "        var_by_coupling_percentage_matrix_base_model)\n"
   ]
  },
  {
   "cell_type": "code",
   "execution_count": 63,
   "metadata": {},
   "outputs": [
    {
     "data": {
      "text/plain": [
       "[<matplotlib.lines.Line2D at 0x7f137a453ca0>]"
      ]
     },
     "execution_count": 63,
     "metadata": {},
     "output_type": "execute_result"
    },
    {
     "data": {
      "image/png": "[encoded data removed]",
      "text/plain": [
       "<Figure size 640x480 with 1 Axes>"
      ]
     },
     "metadata": {},
     "output_type": "display_data"
    }
   ],
   "source": [
    "plt.plot(var_by_coupling_percentage_matrix.mean(axis=1))\n",
    "plt.plot(var_by_coupling_percentage_matrix_base_model.mean(axis=1))"
   ]
  },
  {
   "cell_type": "markdown",
   "metadata": {},
   "source": [
    "# Reduced rank regression"
   ]
  },
  {
   "cell_type": "code",
   "execution_count": 64,
   "metadata": {},
   "outputs": [],
   "source": [
    "####### Reduced Rank Regression ########\n",
    "from GLM import reduced_rank_regression\n",
    "num_trials_to_use = 2000\n",
    "merge_time = 25\n",
    "var_by_coupling_percentage_matrix_rrr = np.zeros((len(shared_background_list), nrep))\n",
    "for i_shared_background, shared_background in enumerate(shared_background_list):\n",
    "    for rep in range(nrep):\n",
    "\n",
    "        load_data_name = f'/home/qix/user_data/EIF_simulation_dataset/'\\\n",
    "            +f'synthetic_data_EIF_conn={str(conn)}_corr={shared_background}_rep={rep}.npz'\n",
    "\n",
    "        data = np.load(load_data_name, allow_pickle=True)\n",
    "        spikes = data['spikes'][:, :, :num_trials_to_use]\n",
    "        trial_info = data['trial_info']\n",
    "        I_ext = data['I_ext']\n",
    "        I_syn = data['I_syn']\n",
    "        nt, nneuron, ntrial = spikes.shape\n",
    "\n",
    "        spikes_merged = spikes.reshape(\n",
    "            int(nt/merge_time), \n",
    "            merge_time, \n",
    "            nneuron, \n",
    "            ntrial\n",
    "        ).sum(axis=1)\n",
    "        X = spikes_merged[:, :50, :]\n",
    "        Y = spikes_merged[:, 50:, :]\n",
    "        var_by_coupling_percentage_matrix_rrr[i_shared_background, rep] = (\n",
    "            reduced_rank_regression(X, Y, 1)\n",
    "        )\n",
    "\n",
    "# Save the variance explained matrices\n",
    "np.save('/home/qix/user_data/EIF_simulation_dataset/var_by_coupling_percentage_matrix_rrr.npy', \n",
    "        var_by_coupling_percentage_matrix_rrr)\n"
   ]
  },
  {
   "cell_type": "markdown",
   "metadata": {},
   "source": [
    "# Single-neuron GLM"
   ]
  },
  {
   "cell_type": "code",
   "execution_count": null,
   "metadata": {},
   "outputs": [],
   "source": [
    "######### Single-neuron GLM ##########\n",
    "# Randomly sample some neurons in area 2 and fit the model\n",
    "num_trials_to_use = 200\n",
    "from GLM import PP_GLM\n",
    "var_by_coupling_percentage_matrix_single_neuron_GLM = np.zeros((len(shared_background_list), nrep))\n",
    "\n",
    "for i_shared_background, shared_background in enumerate(shared_background_list):\n",
    "    for rep in range(1):\n",
    "        load_data_name = f'/home/qix/user_data/EIF_simulation_dataset/'\\\n",
    "            +f'synthetic_data_EIF_conn={str(conn)}_corr={shared_background}_rep={rep}.npz'\n",
    "\n",
    "        data = np.load(load_data_name, allow_pickle=True)\n",
    "        spikes = data['spikes'][:, :, :num_trials_to_use]\n",
    "        trial_info = data['trial_info']\n",
    "        I_ext = data['I_ext']\n",
    "        I_syn = data['I_syn']\n",
    "        nt, nneuron, ntrial = spikes.shape\n",
    "\n",
    "        all_trials = np.array( [True]*ntrial )\n",
    "        var_list = []\n",
    "        for output_neuron in tqdm(range(nneuron_part, 2*nneuron_part)):\n",
    "            model = PP_GLM(ntrial=ntrial, nt=nt, select_trials=all_trials)\n",
    "            model.add_effect(\"inhomogeneous_baseline\", num=20, apply_no_penalty=True)\n",
    "            for input_neuron in range(nneuron):\n",
    "                model.add_effect(\"coupling\", raw_input=spikes[:,input_neuron,:], \n",
    "                                num=3, peaks_max=5, nonlinear=1)\n",
    "            model.fit(target=spikes[:,output_neuron,:], method='mine', penalty=1e2, verbose=False)\n",
    "            var_by_all_predictors = (np.exp(model.predictors@model.results.params)).var()\n",
    "            params_not_coupling = np.concatenate([np.arange(20), np.arange(20+3*nneuron_part, 20+6*nneuron_part)])\n",
    "            var_wo_coupling = (\n",
    "                np.exp(model.predictors[:,params_not_coupling]@model.results.params[params_not_coupling])\n",
    "            ).var()\n",
    "            var_list.append((var_by_all_predictors - var_wo_coupling) / var_by_all_predictors)\n",
    "        var_by_coupling_percentage_matrix_single_neuron_GLM[i_shared_background, rep] = (\n",
    "            np.mean(var_list)\n",
    "        )\n",
    "\n",
    "# Save the variance explained matrices\n",
    "np.save('/home/qix/user_data/EIF_simulation_dataset/var_by_coupling_percentage_matrix_single_neuron_GLM.npy', \n",
    "        var_by_coupling_percentage_matrix_single_neuron_GLM)\n"
   ]
  },
  {
   "cell_type": "markdown",
   "metadata": {},
   "source": [
    "# Single-neuron GLM with trial-specific gain"
   ]
  },
  {
   "cell_type": "code",
   "execution_count": null,
   "metadata": {},
   "outputs": [
    {
     "name": "stderr",
     "output_type": "stream",
     "text": [
      " 66%|██████▌   | 33/50 [01:20<00:41,  2.45s/it]\n"
     ]
    },
    {
     "ename": "KeyboardInterrupt",
     "evalue": "",
     "output_type": "error",
     "traceback": [
      "\u001b[0;31m---------------------------------------------------------------------------\u001b[0m",
      "\u001b[0;31mKeyboardInterrupt\u001b[0m                         Traceback (most recent call last)",
      "Cell \u001b[0;32mIn[23], line 29\u001b[0m\n\u001b[1;32m     26\u001b[0m \u001b[38;5;28;01mfor\u001b[39;00m input_neuron \u001b[38;5;129;01min\u001b[39;00m \u001b[38;5;28mrange\u001b[39m(nneuron):\n\u001b[1;32m     27\u001b[0m     model\u001b[38;5;241m.\u001b[39madd_effect(\u001b[38;5;124m\"\u001b[39m\u001b[38;5;124mcoupling\u001b[39m\u001b[38;5;124m\"\u001b[39m, raw_input\u001b[38;5;241m=\u001b[39mspikes[:,input_neuron,:], \n\u001b[1;32m     28\u001b[0m                     num\u001b[38;5;241m=\u001b[39m\u001b[38;5;241m3\u001b[39m, peaks_max\u001b[38;5;241m=\u001b[39m\u001b[38;5;241m5\u001b[39m, nonlinear\u001b[38;5;241m=\u001b[39m\u001b[38;5;241m1\u001b[39m)\n\u001b[0;32m---> 29\u001b[0m \u001b[43mmodel\u001b[49m\u001b[38;5;241;43m.\u001b[39;49m\u001b[43mfit\u001b[49m\u001b[43m(\u001b[49m\u001b[43mtarget\u001b[49m\u001b[38;5;241;43m=\u001b[39;49m\u001b[43mspikes\u001b[49m\u001b[43m[\u001b[49m\u001b[43m:\u001b[49m\u001b[43m,\u001b[49m\u001b[43moutput_neuron\u001b[49m\u001b[43m,\u001b[49m\u001b[43m:\u001b[49m\u001b[43m]\u001b[49m\u001b[43m,\u001b[49m\u001b[43m \u001b[49m\u001b[43mmethod\u001b[49m\u001b[38;5;241;43m=\u001b[39;49m\u001b[38;5;124;43m'\u001b[39;49m\u001b[38;5;124;43mmine\u001b[39;49m\u001b[38;5;124;43m'\u001b[39;49m\u001b[43m,\u001b[49m\u001b[43m \u001b[49m\u001b[43mpenalty\u001b[49m\u001b[38;5;241;43m=\u001b[39;49m\u001b[38;5;241;43m1e2\u001b[39;49m\u001b[43m,\u001b[49m\u001b[43m \u001b[49m\u001b[43mverbose\u001b[49m\u001b[38;5;241;43m=\u001b[39;49m\u001b[38;5;28;43;01mFalse\u001b[39;49;00m\u001b[43m)\u001b[49m\n\u001b[1;32m     30\u001b[0m var_by_all_predictors \u001b[38;5;241m=\u001b[39m (np\u001b[38;5;241m.\u001b[39mexp(model\u001b[38;5;241m.\u001b[39mpredictors\u001b[38;5;129m@model\u001b[39m\u001b[38;5;241m.\u001b[39mresults\u001b[38;5;241m.\u001b[39mparams))\u001b[38;5;241m.\u001b[39mvar()\n\u001b[1;32m     31\u001b[0m params_not_coupling \u001b[38;5;241m=\u001b[39m np\u001b[38;5;241m.\u001b[39mconcatenate([np\u001b[38;5;241m.\u001b[39marange(\u001b[38;5;241m220\u001b[39m), np\u001b[38;5;241m.\u001b[39marange(\u001b[38;5;241m220\u001b[39m\u001b[38;5;241m+\u001b[39m\u001b[38;5;241m3\u001b[39m\u001b[38;5;241m*\u001b[39mnneuron_part, \u001b[38;5;241m220\u001b[39m\u001b[38;5;241m+\u001b[39m\u001b[38;5;241m6\u001b[39m\u001b[38;5;241m*\u001b[39mnneuron_part)])\n",
      "File \u001b[0;32m~/FC-GPFA/GLM.py:500\u001b[0m, in \u001b[0;36mPP_GLM.fit\u001b[0;34m(self, target, use_all, verbose, penalty, method, max_spike, no_penalty_term_penalty, smoothing, offset)\u001b[0m\n\u001b[1;32m    498\u001b[0m \u001b[38;5;28mself\u001b[39m\u001b[38;5;241m.\u001b[39mpredictors \u001b[38;5;241m=\u001b[39m np\u001b[38;5;241m.\u001b[39mhstack(\u001b[38;5;28mself\u001b[39m\u001b[38;5;241m.\u001b[39meffect_list)\n\u001b[1;32m    499\u001b[0m \u001b[38;5;28;01mif\u001b[39;00m method\u001b[38;5;241m==\u001b[39m\u001b[38;5;124m'\u001b[39m\u001b[38;5;124mmine\u001b[39m\u001b[38;5;124m'\u001b[39m:\n\u001b[0;32m--> 500\u001b[0m     \u001b[38;5;28mself\u001b[39m\u001b[38;5;241m.\u001b[39mresults \u001b[38;5;241m=\u001b[39m \u001b[43mpoisson_regression\u001b[49m\u001b[43m(\u001b[49m\u001b[38;5;28;43mself\u001b[39;49m\u001b[38;5;241;43m.\u001b[39;49m\u001b[43mresponse\u001b[49m\u001b[43m,\u001b[49m\u001b[43m \u001b[49m\u001b[38;5;28;43mself\u001b[39;49m\u001b[38;5;241;43m.\u001b[39;49m\u001b[43mpredictors\u001b[49m\u001b[43m,\u001b[49m\u001b[43m \u001b[49m\n\u001b[1;32m    501\u001b[0m \u001b[43m                                      \u001b[49m\u001b[43mnt\u001b[49m\u001b[38;5;241;43m=\u001b[39;49m\u001b[38;5;28;43mself\u001b[39;49m\u001b[38;5;241;43m.\u001b[39;49m\u001b[43mnt\u001b[49m\u001b[43m,\u001b[49m\n\u001b[1;32m    502\u001b[0m \u001b[43m                                      \u001b[49m\u001b[43mL2_pen\u001b[49m\u001b[38;5;241;43m=\u001b[39;49m\u001b[43mpenalty\u001b[49m\u001b[43m,\u001b[49m\u001b[43m \u001b[49m\u001b[43mno_penalty\u001b[49m\u001b[38;5;241;43m=\u001b[39;49m\u001b[38;5;28;43mself\u001b[39;49m\u001b[38;5;241;43m.\u001b[39;49m\u001b[43mno_penalty\u001b[49m\u001b[43m,\u001b[49m\u001b[43m \u001b[49m\n\u001b[1;32m    503\u001b[0m \u001b[43m                                      \u001b[49m\u001b[43mno_penalty_term_penalty\u001b[49m\u001b[38;5;241;43m=\u001b[39;49m\u001b[43mno_penalty_term_penalty\u001b[49m\u001b[43m,\u001b[49m\u001b[43m \u001b[49m\u001b[43msmoothing\u001b[49m\u001b[38;5;241;43m=\u001b[39;49m\u001b[43msmoothing\u001b[49m\u001b[43m,\u001b[49m\u001b[43m \u001b[49m\u001b[43moffset\u001b[49m\u001b[38;5;241;43m=\u001b[39;49m\u001b[43moffset\u001b[49m\u001b[43m)\u001b[49m\n\u001b[1;32m    504\u001b[0m \u001b[38;5;28;01melif\u001b[39;00m method\u001b[38;5;241m==\u001b[39m\u001b[38;5;124m'\u001b[39m\u001b[38;5;124madditional\u001b[39m\u001b[38;5;124m'\u001b[39m:\n\u001b[1;32m    505\u001b[0m     \u001b[38;5;28mself\u001b[39m\u001b[38;5;241m.\u001b[39mresults, \u001b[38;5;28mself\u001b[39m\u001b[38;5;241m.\u001b[39ma, \u001b[38;5;28mself\u001b[39m\u001b[38;5;241m.\u001b[39mintecept \u001b[38;5;241m=\u001b[39m poisson_regression_additional(\u001b[38;5;28mself\u001b[39m\u001b[38;5;241m.\u001b[39mresponse, \u001b[38;5;28mself\u001b[39m\u001b[38;5;241m.\u001b[39mpredictors, L2_pen\u001b[38;5;241m=\u001b[39mpenalty, no_penalty\u001b[38;5;241m=\u001b[39m\u001b[38;5;28mself\u001b[39m\u001b[38;5;241m.\u001b[39mno_penalty, \n\u001b[1;32m    506\u001b[0m                                                                         a\u001b[38;5;241m=\u001b[39m\u001b[38;5;28mself\u001b[39m\u001b[38;5;241m.\u001b[39ma, intecept\u001b[38;5;241m=\u001b[39m\u001b[38;5;28mself\u001b[39m\u001b[38;5;241m.\u001b[39mintecept)\n",
      "File \u001b[0;32m~/FC-GPFA/GLM.py:1575\u001b[0m, in \u001b[0;36mpoisson_regression\u001b[0;34m(Y, X, nt, L2_pen, max_num_iterations, tol, no_penalty, offset, no_penalty_term_penalty, smoothing)\u001b[0m\n\u001b[1;32m   1571\u001b[0m grad \u001b[38;5;241m=\u001b[39m \u001b[38;5;241m-\u001b[39m (X\u001b[38;5;241m.\u001b[39mT \u001b[38;5;241m@\u001b[39m Y) \u001b[38;5;241m+\u001b[39m (X\u001b[38;5;241m.\u001b[39mT \u001b[38;5;241m@\u001b[39m mu) \u001b[38;5;241m+\u001b[39m \u001b[38;5;241m2\u001b[39m\u001b[38;5;241m*\u001b[39mL2_pen \u001b[38;5;241m*\u001b[39m penalty_vec \u001b[38;5;241m*\u001b[39m beta \\\n\u001b[1;32m   1572\u001b[0m     \u001b[38;5;241m+\u001b[39m \u001b[38;5;241m2\u001b[39m\u001b[38;5;241m*\u001b[39msmoothing \u001b[38;5;241m*\u001b[39m smoothing_penalty_matrix\u001b[38;5;241m.\u001b[39mT \u001b[38;5;241m@\u001b[39m smoothing_penalty_matrix \u001b[38;5;241m@\u001b[39m beta\n\u001b[1;32m   1573\u001b[0m hessian \u001b[38;5;241m=\u001b[39m (X\u001b[38;5;241m.\u001b[39mT) \u001b[38;5;241m@\u001b[39m (mu \u001b[38;5;241m*\u001b[39m X) \u001b[38;5;241m+\u001b[39m \u001b[38;5;241m2\u001b[39m\u001b[38;5;241m*\u001b[39mL2_pen \u001b[38;5;241m*\u001b[39m penalty_matrix \\\n\u001b[1;32m   1574\u001b[0m     \u001b[38;5;241m+\u001b[39m \u001b[38;5;241m2\u001b[39m\u001b[38;5;241m*\u001b[39msmoothing \u001b[38;5;241m*\u001b[39m smoothing_penalty_matrix\u001b[38;5;241m.\u001b[39mT \u001b[38;5;241m@\u001b[39m smoothing_penalty_matrix\n\u001b[0;32m-> 1575\u001b[0m g \u001b[38;5;241m=\u001b[39m \u001b[43mnp\u001b[49m\u001b[38;5;241;43m.\u001b[39;49m\u001b[43mlinalg\u001b[49m\u001b[38;5;241;43m.\u001b[39;49m\u001b[43mpinv\u001b[49m\u001b[43m(\u001b[49m\u001b[43mhessian\u001b[49m\u001b[43m)\u001b[49m \u001b[38;5;241m@\u001b[39m grad\n\u001b[1;32m   1576\u001b[0m lr \u001b[38;5;241m=\u001b[39m \u001b[38;5;241m1\u001b[39m\n\u001b[1;32m   1577\u001b[0m ALPHA \u001b[38;5;241m=\u001b[39m \u001b[38;5;241m0.4\u001b[39m\n",
      "File \u001b[0;32m<__array_function__ internals>:180\u001b[0m, in \u001b[0;36mpinv\u001b[0;34m(*args, **kwargs)\u001b[0m\n",
      "File \u001b[0;32m~/anaconda3/envs/allen/lib/python3.9/site-packages/numpy/linalg/linalg.py:1998\u001b[0m, in \u001b[0;36mpinv\u001b[0;34m(a, rcond, hermitian)\u001b[0m\n\u001b[1;32m   1996\u001b[0m     \u001b[38;5;28;01mreturn\u001b[39;00m wrap(res)\n\u001b[1;32m   1997\u001b[0m a \u001b[38;5;241m=\u001b[39m a\u001b[38;5;241m.\u001b[39mconjugate()\n\u001b[0;32m-> 1998\u001b[0m u, s, vt \u001b[38;5;241m=\u001b[39m \u001b[43msvd\u001b[49m\u001b[43m(\u001b[49m\u001b[43ma\u001b[49m\u001b[43m,\u001b[49m\u001b[43m \u001b[49m\u001b[43mfull_matrices\u001b[49m\u001b[38;5;241;43m=\u001b[39;49m\u001b[38;5;28;43;01mFalse\u001b[39;49;00m\u001b[43m,\u001b[49m\u001b[43m \u001b[49m\u001b[43mhermitian\u001b[49m\u001b[38;5;241;43m=\u001b[39;49m\u001b[43mhermitian\u001b[49m\u001b[43m)\u001b[49m\n\u001b[1;32m   2000\u001b[0m \u001b[38;5;66;03m# discard small singular values\u001b[39;00m\n\u001b[1;32m   2001\u001b[0m cutoff \u001b[38;5;241m=\u001b[39m rcond[\u001b[38;5;241m.\u001b[39m\u001b[38;5;241m.\u001b[39m\u001b[38;5;241m.\u001b[39m, newaxis] \u001b[38;5;241m*\u001b[39m amax(s, axis\u001b[38;5;241m=\u001b[39m\u001b[38;5;241m-\u001b[39m\u001b[38;5;241m1\u001b[39m, keepdims\u001b[38;5;241m=\u001b[39m\u001b[38;5;28;01mTrue\u001b[39;00m)\n",
      "File \u001b[0;32m<__array_function__ internals>:180\u001b[0m, in \u001b[0;36msvd\u001b[0;34m(*args, **kwargs)\u001b[0m\n",
      "File \u001b[0;32m~/anaconda3/envs/allen/lib/python3.9/site-packages/numpy/linalg/linalg.py:1657\u001b[0m, in \u001b[0;36msvd\u001b[0;34m(a, full_matrices, compute_uv, hermitian)\u001b[0m\n\u001b[1;32m   1654\u001b[0m         gufunc \u001b[38;5;241m=\u001b[39m _umath_linalg\u001b[38;5;241m.\u001b[39msvd_n_s\n\u001b[1;32m   1656\u001b[0m signature \u001b[38;5;241m=\u001b[39m \u001b[38;5;124m'\u001b[39m\u001b[38;5;124mD->DdD\u001b[39m\u001b[38;5;124m'\u001b[39m \u001b[38;5;28;01mif\u001b[39;00m isComplexType(t) \u001b[38;5;28;01melse\u001b[39;00m \u001b[38;5;124m'\u001b[39m\u001b[38;5;124md->ddd\u001b[39m\u001b[38;5;124m'\u001b[39m\n\u001b[0;32m-> 1657\u001b[0m u, s, vh \u001b[38;5;241m=\u001b[39m \u001b[43mgufunc\u001b[49m\u001b[43m(\u001b[49m\u001b[43ma\u001b[49m\u001b[43m,\u001b[49m\u001b[43m \u001b[49m\u001b[43msignature\u001b[49m\u001b[38;5;241;43m=\u001b[39;49m\u001b[43msignature\u001b[49m\u001b[43m,\u001b[49m\u001b[43m \u001b[49m\u001b[43mextobj\u001b[49m\u001b[38;5;241;43m=\u001b[39;49m\u001b[43mextobj\u001b[49m\u001b[43m)\u001b[49m\n\u001b[1;32m   1658\u001b[0m u \u001b[38;5;241m=\u001b[39m u\u001b[38;5;241m.\u001b[39mastype(result_t, copy\u001b[38;5;241m=\u001b[39m\u001b[38;5;28;01mFalse\u001b[39;00m)\n\u001b[1;32m   1659\u001b[0m s \u001b[38;5;241m=\u001b[39m s\u001b[38;5;241m.\u001b[39mastype(_realType(result_t), copy\u001b[38;5;241m=\u001b[39m\u001b[38;5;28;01mFalse\u001b[39;00m)\n",
      "\u001b[0;31mKeyboardInterrupt\u001b[0m: "
     ]
    }
   ],
   "source": [
    "######### Single-neuron GLM ##########\n",
    "# Randomly sample some neurons in area 2 and fit the model\n",
    "num_trials_to_use = 200\n",
    "\n",
    "from GLM import PP_GLM\n",
    "var_by_coupling_percentage_matrix_single_neuron_GLM_gain = np.zeros((len(shared_background_list), nrep))\n",
    "\n",
    "for i_shared_background, shared_background in enumerate(shared_background_list):\n",
    "    for rep in range(1):\n",
    "        load_data_name = f'/home/qix/user_data/EIF_simulation_dataset/'\\\n",
    "            +f'synthetic_data_EIF_conn={str(conn)}_corr={shared_background}_rep={rep}.npz'\n",
    "\n",
    "        data = np.load(load_data_name, allow_pickle=True)\n",
    "        spikes = data['spikes'][:, :, :num_trials_to_use]\n",
    "        trial_info = data['trial_info']\n",
    "        I_ext = data['I_ext']\n",
    "        I_syn = data['I_syn']\n",
    "        nt, nneuron, ntrial = spikes.shape\n",
    "\n",
    "        all_trials = np.array( [True]*ntrial )\n",
    "        var_list = []\n",
    "        for output_neuron in tqdm(range(nneuron_part, 2*nneuron_part)):\n",
    "            model = PP_GLM(ntrial=ntrial, nt=nt, select_trials=all_trials)\n",
    "            model.add_effect(\"inhomogeneous_baseline\", num=20, apply_no_penalty=True)\n",
    "            model.add_effect(\"trial_coef\", apply_no_penalty=True)\n",
    "            for input_neuron in range(nneuron):\n",
    "                model.add_effect(\"coupling\", raw_input=spikes[:,input_neuron,:], \n",
    "                                num=3, peaks_max=5, nonlinear=1)\n",
    "            model.fit(target=spikes[:,output_neuron,:], method='mine', penalty=1e2, verbose=False)\n",
    "            var_by_all_predictors = (np.exp(model.predictors@model.results.params)).var()\n",
    "            params_not_coupling = np.concatenate([np.arange(220), np.arange(220+3*nneuron_part, 220+6*nneuron_part)])\n",
    "            var_wo_coupling = (\n",
    "                np.exp(model.predictors[:,params_not_coupling]@model.results.params[params_not_coupling])\n",
    "            ).var()\n",
    "            var_list.append((var_by_all_predictors - var_wo_coupling) / var_by_all_predictors)\n",
    "        var_by_coupling_percentage_matrix_single_neuron_GLM_gain[i_shared_background, rep] = (\n",
    "            np.mean(var_list)\n",
    "        )\n",
    "\n",
    "# Save the variance explained matrices\n",
    "np.save('/home/qix/user_data/EIF_simulation_dataset/var_by_coupling_percentage_matrix_single_neuron_GLM_gain.npy', \n",
    "        var_by_coupling_percentage_matrix_single_neuron_GLM_gain)\n"
   ]
  },
  {
   "cell_type": "markdown",
   "metadata": {},
   "source": [
    "# Plot"
   ]
  },
  {
   "cell_type": "code",
   "execution_count": 12,
   "metadata": {},
   "outputs": [],
   "source": [
    "### Load results\n",
    "var_by_coupling_percentage_matrix = np.load(\n",
    "    '/home/qix/user_data/EIF_simulation_dataset/var_by_coupling_percentage_matrix.npy'\n",
    ")\n",
    "var_by_coupling_percentage_matrix_base_model = np.load(\n",
    "    '/home/qix/user_data/EIF_simulation_dataset/var_by_coupling_percentage_matrix_base_model.npy'\n",
    ")\n",
    "var_by_coupling_percentage_matrix_rrr = np.load(\n",
    "    '/home/qix/user_data/EIF_simulation_dataset/var_by_coupling_percentage_matrix_rrr.npy'\n",
    ")\n",
    "var_by_coupling_percentage_matrix_single_neuron_GLM = np.load(\n",
    "    '/home/qix/user_data/EIF_simulation_dataset/var_by_coupling_percentage_matrix_single_neuron_GLM.npy'\n",
    ")\n",
    "var_by_coupling_percentage_matrix_single_neuron_GLM_gain = np.load(\n",
    "    '/home/qix/user_data/EIF_simulation_dataset/var_by_coupling_percentage_matrix_single_neuron_GLM_gain.npy'\n",
    ")\n"
   ]
  },
  {
   "cell_type": "code",
   "execution_count": 13,
   "metadata": {},
   "outputs": [
    {
     "data": {
      "text/plain": [
       "<matplotlib.legend.Legend at 0x74bd6e5c7490>"
      ]
     },
     "execution_count": 13,
     "metadata": {},
     "output_type": "execute_result"
    },
    {
     "data": {
      "image/png": "[encoded data removed]",
      "text/plain": [
       "<Figure size 900x600 with 1 Axes>"
      ]
     },
     "metadata": {},
     "output_type": "display_data"
    }
   ],
   "source": [
    "utils.use_pdf_plot()\n",
    "fig, ax = plt.subplots(1, 1, figsize=(3, 2), dpi=300)\n",
    "\n",
    "for results in [\n",
    "    var_by_coupling_percentage_matrix,\n",
    "    var_by_coupling_percentage_matrix_base_model,\n",
    "    var_by_coupling_percentage_matrix_rrr,\n",
    "    var_by_coupling_percentage_matrix_single_neuron_GLM,\n",
    "    var_by_coupling_percentage_matrix_single_neuron_GLM_gain\n",
    "]:\n",
    "    plt.errorbar(shared_background_list, results.mean(axis=1), results.std(axis=1)/np.sqrt(results.shape[1]))\n",
    "\n",
    "plt.legend([\n",
    "    \"Ours\",\n",
    "    \"Ours w/o trial-varying baseline\",\n",
    "    \"Reduced rank regression\",\n",
    "    \"Single-neuron GLM\",\n",
    "    \"Single-neuron GLM with trial-specific gain\",\n",
    "])"
   ]
  },
  {
   "cell_type": "code",
   "execution_count": null,
   "metadata": {},
   "outputs": [],
   "source": []
  }
 ],
 "metadata": {
  "kernelspec": {
   "display_name": "allen",
   "language": "python",
   "name": "python3"
  },
  "language_info": {
   "codemirror_mode": {
    "name": "ipython",
    "version": 3
   },
   "file_extension": ".py",
   "mimetype": "text/x-python",
   "name": "python",
   "nbconvert_exporter": "python",
   "pygments_lexer": "ipython3",
   "version": "3.9.21"
  }
 },
 "nbformat": 4,
 "nbformat_minor": 2
}
