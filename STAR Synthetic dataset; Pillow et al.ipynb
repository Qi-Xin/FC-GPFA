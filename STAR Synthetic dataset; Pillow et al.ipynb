{
 "cells": [
  {
   "cell_type": "markdown",
   "id": "27b60ebd",
   "metadata": {},
   "source": [
    "- Use EIF simulator to generate spikes under time-warping baseline\n",
    "- Fit VAE-Transformer, look at the baseline"
   ]
  },
  {
   "cell_type": "markdown",
   "id": "f3586707",
   "metadata": {},
   "source": [
    "# set up"
   ]
  },
  {
   "cell_type": "code",
   "execution_count": 1,
   "id": "050c8bee-7d52-4a00-9fe9-d8e393c492d8",
   "metadata": {
    "ExecuteTime": {
     "end_time": "2023-09-07T04:30:55.587279Z",
     "start_time": "2023-09-07T04:30:55.310650Z"
    },
    "execution": {
     "iopub.execute_input": "2023-10-19T01:30:45.577586Z",
     "iopub.status.busy": "2023-10-19T01:30:45.577420Z",
     "iopub.status.idle": "2023-10-19T01:30:45.833218Z",
     "shell.execute_reply": "2023-10-19T01:30:45.832716Z",
     "shell.execute_reply.started": "2023-10-19T01:30:45.577576Z"
    },
    "tags": []
   },
   "outputs": [],
   "source": [
    "%matplotlib inline\n",
    "%load_ext autoreload\n",
    "%autoreload 2\n"
   ]
  },
  {
   "cell_type": "code",
   "execution_count": 2,
   "id": "5fafc180",
   "metadata": {
    "ExecuteTime": {
     "end_time": "2023-06-01T03:50:06.234052Z",
     "start_time": "2023-06-01T03:50:06.225301Z"
    },
    "execution": {
     "iopub.execute_input": "2023-10-19T01:30:45.834327Z",
     "iopub.status.busy": "2023-10-19T01:30:45.833984Z",
     "iopub.status.idle": "2023-10-19T01:30:45.841024Z",
     "shell.execute_reply": "2023-10-19T01:30:45.840603Z",
     "shell.execute_reply.started": "2023-10-19T01:30:45.834314Z"
    },
    "tags": []
   },
   "outputs": [],
   "source": [
    "import sys\n",
    "if sys.platform == 'linux':\n",
    "    sys.path.append(\"/home/qix/MultiNeuronGLM\")\n",
    "else:\n",
    "    sys.path.append(\"D:/Github/MultiNeuronGLM\")"
   ]
  },
  {
   "cell_type": "code",
   "execution_count": 3,
   "id": "8aef4b1c",
   "metadata": {
    "ExecuteTime": {
     "end_time": "2023-06-01T03:50:07.699146Z",
     "start_time": "2023-06-01T03:50:06.470932Z"
    },
    "execution": {
     "iopub.execute_input": "2023-10-19T01:30:45.947054Z",
     "iopub.status.busy": "2023-10-19T01:30:45.946949Z",
     "iopub.status.idle": "2023-10-19T01:30:46.966664Z",
     "shell.execute_reply": "2023-10-19T01:30:46.966080Z",
     "shell.execute_reply.started": "2023-10-19T01:30:45.947045Z"
    },
    "tags": []
   },
   "outputs": [
    {
     "name": "stderr",
     "output_type": "stream",
     "text": [
      "/home/qix/anaconda3/envs/allen/lib/python3.9/site-packages/tqdm/auto.py:21: TqdmWarning: IProgress not found. Please update jupyter and ipywidgets. See https://ipywidgets.readthedocs.io/en/stable/user_install.html\n",
      "  from .autonotebook import tqdm as notebook_tqdm\n"
     ]
    }
   ],
   "source": [
    "import pandas as pd\n",
    "import utility_functions as utils\n",
    "import GLM\n",
    "from DataLoader import Allen_dataset\n",
    "import matplotlib.pyplot as plt\n",
    "import seaborn as sns\n",
    "from tqdm import tqdm\n",
    "import numpy as np\n",
    "import random\n",
    "# sns.set_theme()\n",
    "sns.set_theme(style=\"white\")\n",
    "# sns.set_style('whitegrid')"
   ]
  },
  {
   "cell_type": "code",
   "execution_count": null,
   "id": "eeac0a33-ce9a-494d-8ac0-70723fa48117",
   "metadata": {},
   "outputs": [],
   "source": []
  },
  {
   "cell_type": "code",
   "execution_count": 5,
   "id": "bf4beadc",
   "metadata": {},
   "outputs": [],
   "source": [
    "spikes = GLM.EIF_simulator(std1=10, corr1=0.5, std2=25, corr2=0.9, ntrial=100, nneuron=100, conn=0.0)\n"
   ]
  },
  {
   "cell_type": "code",
   "execution_count": 6,
   "id": "29c8874a",
   "metadata": {},
   "outputs": [
    {
     "data": {
      "text/plain": [
       "(500, 20, 100)"
      ]
     },
     "execution_count": 6,
     "metadata": {},
     "output_type": "execute_result"
    }
   ],
   "source": [
    "plt.plot(spike[:,:].mean(axis=0))"
   ]
  }
 ],
 "metadata": {
  "kernelspec": {
   "display_name": "Python 3 (ipykernel)",
   "language": "python",
   "name": "python3"
  },
  "language_info": {
   "codemirror_mode": {
    "name": "ipython",
    "version": 3
   },
   "file_extension": ".py",
   "mimetype": "text/x-python",
   "name": "python",
   "nbconvert_exporter": "python",
   "pygments_lexer": "ipython3",
   "version": "3.9.21"
  },
  "latex_envs": {
   "LaTeX_envs_menu_present": true,
   "autoclose": false,
   "autocomplete": true,
   "bibliofile": "biblio.bib",
   "cite_by": "apalike",
   "current_citInitial": 1,
   "eqLabelWithNumbers": true,
   "eqNumInitial": 1,
   "hotkeys": {
    "equation": "Ctrl-E",
    "itemize": "Ctrl-I"
   },
   "labels_anchors": false,
   "latex_user_defs": false,
   "report_style_numbering": false,
   "user_envs_cfg": false
  },
  "toc": {
   "base_numbering": "0",
   "nav_menu": {},
   "number_sections": true,
   "sideBar": true,
   "skip_h1_title": false,
   "title_cell": "Table of Contents",
   "title_sidebar": "Contents",
   "toc_cell": false,
   "toc_position": {
    "height": "calc(100% - 180px)",
    "left": "10px",
    "top": "150px",
    "width": "498.693px"
   },
   "toc_section_display": true,
   "toc_window_display": true
  },
  "toc-autonumbering": true,
  "toc-showcode": false,
  "toc-showmarkdowntxt": false,
  "toc-showtags": false,
  "varInspector": {
   "cols": {
    "lenName": 16,
    "lenType": 16,
    "lenVar": 40
   },
   "kernels_config": {
    "python": {
     "delete_cmd_postfix": "",
     "delete_cmd_prefix": "del ",
     "library": "var_list.py",
     "varRefreshCmd": "print(var_dic_list())"
    },
    "r": {
     "delete_cmd_postfix": ") ",
     "delete_cmd_prefix": "rm(",
     "library": "var_list.r",
     "varRefreshCmd": "cat(var_dic_list()) "
    }
   },
   "position": {
    "height": "1015px",
    "left": "1749.37px",
    "right": "20px",
    "top": "133.989px",
    "width": "529.56px"
   },
   "types_to_exclude": [
    "module",
    "function",
    "builtin_function_or_method",
    "instance",
    "_Feature"
   ],
   "window_display": true
  }
 },
 "nbformat": 4,
 "nbformat_minor": 5
}
